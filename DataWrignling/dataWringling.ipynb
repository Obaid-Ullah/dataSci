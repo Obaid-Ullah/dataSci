{
 "cells": [
  {
   "cell_type": "markdown",
   "metadata": {},
   "source": [
    "# Data Wringling \n",
    "- Data Preprocessing\n",
    "- Data cleaning\n",
    "- What is Data wringling?\n",
    "  - Raw Data > Collect/clean/fitting/delete/join/split/dubplicate removal > Final Data > Data Analysis?> Graphs> Reports"
   ]
  },
  {
   "cell_type": "markdown",
   "metadata": {},
   "source": [
    "### Content \n",
    "- 1 Handling missing values\n",
    "-  2 Data Formatting\n",
    "-  3 Data Normalization\n",
    "    - Data Scalling\n",
    "    - Centrallizing\n",
    "-  4 Data Binning ( for groups of data)\n",
    "-  5 Making dummies of categorical data "
   ]
  },
  {
   "cell_type": "markdown",
   "metadata": {},
   "source": [
    "#### Lets start Hands on practice:\n",
    "## Import libraries"
   ]
  },
  {
   "cell_type": "code",
   "execution_count": 362,
   "metadata": {},
   "outputs": [],
   "source": [
    "import numpy as np\n",
    "import pandas as pd\n",
    "import seaborn as sns\n",
    "import plotly.express as px\n",
    "import plotly.graph_objects as go\n",
    "import matplotlib.pyplot as plt"
   ]
  },
  {
   "cell_type": "code",
   "execution_count": 363,
   "metadata": {},
   "outputs": [],
   "source": [
    "sh = sns.load_dataset('titanic')\n",
    "sh1= sh \n",
    "sh2 = sh \n",
    "sh3= sh"
   ]
  },
  {
   "cell_type": "code",
   "execution_count": 364,
   "metadata": {},
   "outputs": [
    {
     "data": {
      "text/html": [
       "<div>\n",
       "<style scoped>\n",
       "    .dataframe tbody tr th:only-of-type {\n",
       "        vertical-align: middle;\n",
       "    }\n",
       "\n",
       "    .dataframe tbody tr th {\n",
       "        vertical-align: top;\n",
       "    }\n",
       "\n",
       "    .dataframe thead th {\n",
       "        text-align: right;\n",
       "    }\n",
       "</style>\n",
       "<table border=\"1\" class=\"dataframe\">\n",
       "  <thead>\n",
       "    <tr style=\"text-align: right;\">\n",
       "      <th></th>\n",
       "      <th>survived</th>\n",
       "      <th>pclass</th>\n",
       "      <th>sex</th>\n",
       "      <th>age</th>\n",
       "      <th>sibsp</th>\n",
       "      <th>parch</th>\n",
       "      <th>fare</th>\n",
       "      <th>embarked</th>\n",
       "      <th>class</th>\n",
       "      <th>who</th>\n",
       "      <th>adult_male</th>\n",
       "      <th>deck</th>\n",
       "      <th>embark_town</th>\n",
       "      <th>alive</th>\n",
       "      <th>alone</th>\n",
       "    </tr>\n",
       "  </thead>\n",
       "  <tbody>\n",
       "    <tr>\n",
       "      <th>0</th>\n",
       "      <td>0</td>\n",
       "      <td>3</td>\n",
       "      <td>male</td>\n",
       "      <td>22.0</td>\n",
       "      <td>1</td>\n",
       "      <td>0</td>\n",
       "      <td>7.2500</td>\n",
       "      <td>S</td>\n",
       "      <td>Third</td>\n",
       "      <td>man</td>\n",
       "      <td>True</td>\n",
       "      <td>NaN</td>\n",
       "      <td>Southampton</td>\n",
       "      <td>no</td>\n",
       "      <td>False</td>\n",
       "    </tr>\n",
       "    <tr>\n",
       "      <th>1</th>\n",
       "      <td>1</td>\n",
       "      <td>1</td>\n",
       "      <td>female</td>\n",
       "      <td>38.0</td>\n",
       "      <td>1</td>\n",
       "      <td>0</td>\n",
       "      <td>71.2833</td>\n",
       "      <td>C</td>\n",
       "      <td>First</td>\n",
       "      <td>woman</td>\n",
       "      <td>False</td>\n",
       "      <td>C</td>\n",
       "      <td>Cherbourg</td>\n",
       "      <td>yes</td>\n",
       "      <td>False</td>\n",
       "    </tr>\n",
       "    <tr>\n",
       "      <th>2</th>\n",
       "      <td>1</td>\n",
       "      <td>3</td>\n",
       "      <td>female</td>\n",
       "      <td>26.0</td>\n",
       "      <td>0</td>\n",
       "      <td>0</td>\n",
       "      <td>7.9250</td>\n",
       "      <td>S</td>\n",
       "      <td>Third</td>\n",
       "      <td>woman</td>\n",
       "      <td>False</td>\n",
       "      <td>NaN</td>\n",
       "      <td>Southampton</td>\n",
       "      <td>yes</td>\n",
       "      <td>True</td>\n",
       "    </tr>\n",
       "    <tr>\n",
       "      <th>3</th>\n",
       "      <td>1</td>\n",
       "      <td>1</td>\n",
       "      <td>female</td>\n",
       "      <td>35.0</td>\n",
       "      <td>1</td>\n",
       "      <td>0</td>\n",
       "      <td>53.1000</td>\n",
       "      <td>S</td>\n",
       "      <td>First</td>\n",
       "      <td>woman</td>\n",
       "      <td>False</td>\n",
       "      <td>C</td>\n",
       "      <td>Southampton</td>\n",
       "      <td>yes</td>\n",
       "      <td>False</td>\n",
       "    </tr>\n",
       "    <tr>\n",
       "      <th>4</th>\n",
       "      <td>0</td>\n",
       "      <td>3</td>\n",
       "      <td>male</td>\n",
       "      <td>35.0</td>\n",
       "      <td>0</td>\n",
       "      <td>0</td>\n",
       "      <td>8.0500</td>\n",
       "      <td>S</td>\n",
       "      <td>Third</td>\n",
       "      <td>man</td>\n",
       "      <td>True</td>\n",
       "      <td>NaN</td>\n",
       "      <td>Southampton</td>\n",
       "      <td>no</td>\n",
       "      <td>True</td>\n",
       "    </tr>\n",
       "  </tbody>\n",
       "</table>\n",
       "</div>"
      ],
      "text/plain": [
       "   survived  pclass     sex   age  sibsp  parch     fare embarked  class  \\\n",
       "0         0       3    male  22.0      1      0   7.2500        S  Third   \n",
       "1         1       1  female  38.0      1      0  71.2833        C  First   \n",
       "2         1       3  female  26.0      0      0   7.9250        S  Third   \n",
       "3         1       1  female  35.0      1      0  53.1000        S  First   \n",
       "4         0       3    male  35.0      0      0   8.0500        S  Third   \n",
       "\n",
       "     who  adult_male deck  embark_town alive  alone  \n",
       "0    man        True  NaN  Southampton    no  False  \n",
       "1  woman       False    C    Cherbourg   yes  False  \n",
       "2  woman       False  NaN  Southampton   yes   True  \n",
       "3  woman       False    C  Southampton   yes  False  \n",
       "4    man        True  NaN  Southampton    no   True  "
      ]
     },
     "execution_count": 364,
     "metadata": {},
     "output_type": "execute_result"
    }
   ],
   "source": [
    "sh.head(5)"
   ]
  },
  {
   "cell_type": "markdown",
   "metadata": {},
   "source": [
    "Simple Math operation "
   ]
  },
  {
   "cell_type": "code",
   "execution_count": 365,
   "metadata": {},
   "outputs": [
    {
     "data": {
      "text/plain": [
       "0    23.0\n",
       "1    39.0\n",
       "2    27.0\n",
       "3    36.0\n",
       "4    36.0\n",
       "5     NaN\n",
       "6    55.0\n",
       "7     3.0\n",
       "8    28.0\n",
       "9    15.0\n",
       "Name: age, dtype: float64"
      ]
     },
     "execution_count": 365,
     "metadata": {},
     "output_type": "execute_result"
    }
   ],
   "source": [
    "(sh['age']+1).head(10)"
   ]
  },
  {
   "cell_type": "markdown",
   "metadata": {},
   "source": [
    "## Dealing with missing values...\n",
    "In a daatset missing values are either NaN, N/A, or 0 or a blank cell.\n",
    "- When we don't have data in a row against a parameter..\n",
    "#### Steps:\n",
    "- Either recollect data or check where is mistake\n",
    "- Remove column with missing values, if there is no effect on sample set.\n",
    "- Replace the missing values\n",
    "  ### How..?\n",
    "- Take mean of whole column and put in missing value\n",
    "- Frequency or mode replacement( least use of this technique )\n",
    "- Replace based on other functions.\n",
    "- Machine learning algorithm can also be used.\n",
    "- Leave it like that....\n",
    "  ### Why..?\n",
    "  -  Its better because no data is lost\n",
    "  -  less accurate\n",
    "### Where exactly missing values are...?"
   ]
  },
  {
   "cell_type": "code",
   "execution_count": 366,
   "metadata": {},
   "outputs": [
    {
     "data": {
      "text/plain": [
       "survived         0\n",
       "pclass           0\n",
       "sex              0\n",
       "age            177\n",
       "sibsp            0\n",
       "parch            0\n",
       "fare             0\n",
       "embarked         2\n",
       "class            0\n",
       "who              0\n",
       "adult_male       0\n",
       "deck           688\n",
       "embark_town      2\n",
       "alive            0\n",
       "alone            0\n",
       "dtype: int64"
      ]
     },
     "execution_count": 366,
     "metadata": {},
     "output_type": "execute_result"
    }
   ],
   "source": [
    "sh.isnull().sum()"
   ]
  },
  {
   "cell_type": "code",
   "execution_count": 367,
   "metadata": {},
   "outputs": [
    {
     "data": {
      "text/plain": [
       "(891, 15)"
      ]
     },
     "execution_count": 367,
     "metadata": {},
     "output_type": "execute_result"
    }
   ],
   "source": [
    "sh.shape"
   ]
  },
  {
   "cell_type": "code",
   "execution_count": 368,
   "metadata": {},
   "outputs": [
    {
     "data": {
      "text/plain": [
       "survived          int64\n",
       "pclass            int64\n",
       "sex              object\n",
       "age             float64\n",
       "sibsp             int64\n",
       "parch             int64\n",
       "fare            float64\n",
       "embarked         object\n",
       "class          category\n",
       "who              object\n",
       "adult_male         bool\n",
       "deck           category\n",
       "embark_town      object\n",
       "alive            object\n",
       "alone              bool\n",
       "dtype: object"
      ]
     },
     "execution_count": 368,
     "metadata": {},
     "output_type": "execute_result"
    }
   ],
   "source": [
    "sh.dtypes"
   ]
  },
  {
   "cell_type": "code",
   "execution_count": 369,
   "metadata": {},
   "outputs": [],
   "source": [
    "sh.dropna(subset=['deck'],axis=0,inplace=True)"
   ]
  },
  {
   "cell_type": "code",
   "execution_count": 370,
   "metadata": {},
   "outputs": [
    {
     "data": {
      "text/plain": [
       "survived        0\n",
       "pclass          0\n",
       "sex             0\n",
       "age            19\n",
       "sibsp           0\n",
       "parch           0\n",
       "fare            0\n",
       "embarked        2\n",
       "class           0\n",
       "who             0\n",
       "adult_male      0\n",
       "deck            0\n",
       "embark_town     2\n",
       "alive           0\n",
       "alone           0\n",
       "dtype: int64"
      ]
     },
     "execution_count": 370,
     "metadata": {},
     "output_type": "execute_result"
    }
   ],
   "source": [
    "sh.isnull().sum()"
   ]
  },
  {
   "cell_type": "markdown",
   "metadata": {},
   "source": [
    "### This'll remove specifically\n",
    "### inplace = true modifies the dataframe..\n",
    "> To remove null from whole data frame ."
   ]
  },
  {
   "cell_type": "code",
   "execution_count": 371,
   "metadata": {},
   "outputs": [],
   "source": [
    "# sh= sh.dropna().isnull().sum()\n",
    "# sh"
   ]
  },
  {
   "cell_type": "markdown",
   "metadata": {},
   "source": [
    "Which is not good for us \n",
    "So now we'll use sh1 data frame, we have saved earlier..\n"
   ]
  },
  {
   "cell_type": "markdown",
   "metadata": {},
   "source": [
    "### Replace missing values with the average/mean of that column"
   ]
  },
  {
   "cell_type": "code",
   "execution_count": 372,
   "metadata": {},
   "outputs": [
    {
     "data": {
      "text/plain": [
       "35.77945652173913"
      ]
     },
     "execution_count": 372,
     "metadata": {},
     "output_type": "execute_result"
    }
   ],
   "source": [
    "m = sh1['age'].mean()\n",
    "m"
   ]
  },
  {
   "cell_type": "markdown",
   "metadata": {},
   "source": [
    "### Replace mean with Nan of the data frame.."
   ]
  },
  {
   "cell_type": "code",
   "execution_count": 373,
   "metadata": {},
   "outputs": [],
   "source": [
    "sh1['age']=sh1['age'].replace(np.nan,m)"
   ]
  },
  {
   "cell_type": "code",
   "execution_count": 374,
   "metadata": {},
   "outputs": [
    {
     "data": {
      "text/plain": [
       "survived       0\n",
       "pclass         0\n",
       "sex            0\n",
       "age            0\n",
       "sibsp          0\n",
       "parch          0\n",
       "fare           0\n",
       "embarked       2\n",
       "class          0\n",
       "who            0\n",
       "adult_male     0\n",
       "deck           0\n",
       "embark_town    2\n",
       "alive          0\n",
       "alone          0\n",
       "dtype: int64"
      ]
     },
     "execution_count": 374,
     "metadata": {},
     "output_type": "execute_result"
    }
   ],
   "source": [
    "sh1.isnull().sum()"
   ]
  },
  {
   "cell_type": "code",
   "execution_count": 375,
   "metadata": {},
   "outputs": [
    {
     "data": {
      "text/plain": [
       "survived       0.000000\n",
       "pclass         0.000000\n",
       "sex            0.000000\n",
       "age            0.000000\n",
       "sibsp          0.000000\n",
       "parch          0.000000\n",
       "fare           0.000000\n",
       "embarked       0.009852\n",
       "class          0.000000\n",
       "who            0.000000\n",
       "adult_male     0.000000\n",
       "deck           0.000000\n",
       "embark_town    0.009852\n",
       "alive          0.000000\n",
       "alone          0.000000\n",
       "dtype: float64"
      ]
     },
     "execution_count": 375,
     "metadata": {},
     "output_type": "execute_result"
    }
   ],
   "source": [
    "sh1.isnull().mean()"
   ]
  },
  {
   "cell_type": "markdown",
   "metadata": {},
   "source": [
    "### Data Formatting\n",
    "- Bring data on a common standard.\n",
    "- Ensure data is consistant and understandable.\n",
    "  - Easy to gather\n",
    "  - Easy to work with\n",
    "### Know that data type and convert it into the known one \n",
    "> (we will use only when we need to change data type but here we dont need to change data type)"
   ]
  },
  {
   "cell_type": "code",
   "execution_count": 376,
   "metadata": {},
   "outputs": [
    {
     "data": {
      "text/plain": [
       "survived          int64\n",
       "pclass            int64\n",
       "sex              object\n",
       "age             float64\n",
       "sibsp             int64\n",
       "parch             int64\n",
       "fare            float64\n",
       "embarked         object\n",
       "class          category\n",
       "who              object\n",
       "adult_male         bool\n",
       "deck           category\n",
       "embark_town      object\n",
       "alive            object\n",
       "alone              bool\n",
       "dtype: object"
      ]
     },
     "execution_count": 376,
     "metadata": {},
     "output_type": "execute_result"
    }
   ],
   "source": [
    "sh1.dtypes"
   ]
  },
  {
   "cell_type": "markdown",
   "metadata": {},
   "source": [
    "#### Use this method to change data type ..\n",
    "as we have changed survived data type from int64 to float64.."
   ]
  },
  {
   "cell_type": "code",
   "execution_count": 377,
   "metadata": {},
   "outputs": [
    {
     "data": {
      "text/plain": [
       "survived        float64\n",
       "pclass            int64\n",
       "sex              object\n",
       "age             float64\n",
       "sibsp             int64\n",
       "parch             int64\n",
       "fare            float64\n",
       "embarked         object\n",
       "class          category\n",
       "who              object\n",
       "adult_male         bool\n",
       "deck           category\n",
       "embark_town      object\n",
       "alive            object\n",
       "alone              bool\n",
       "dtype: object"
      ]
     },
     "execution_count": 377,
     "metadata": {},
     "output_type": "execute_result"
    }
   ],
   "source": [
    "sh['survived']=sh['survived'].astype('float64')\n",
    "sh.dtypes"
   ]
  },
  {
   "cell_type": "markdown",
   "metadata": {},
   "source": [
    "Here we'll convert age into days from years.."
   ]
  },
  {
   "cell_type": "code",
   "execution_count": 378,
   "metadata": {},
   "outputs": [
    {
     "data": {
      "text/html": [
       "<div>\n",
       "<style scoped>\n",
       "    .dataframe tbody tr th:only-of-type {\n",
       "        vertical-align: middle;\n",
       "    }\n",
       "\n",
       "    .dataframe tbody tr th {\n",
       "        vertical-align: top;\n",
       "    }\n",
       "\n",
       "    .dataframe thead th {\n",
       "        text-align: right;\n",
       "    }\n",
       "</style>\n",
       "<table border=\"1\" class=\"dataframe\">\n",
       "  <thead>\n",
       "    <tr style=\"text-align: right;\">\n",
       "      <th></th>\n",
       "      <th>survived</th>\n",
       "      <th>pclass</th>\n",
       "      <th>sex</th>\n",
       "      <th>age</th>\n",
       "      <th>sibsp</th>\n",
       "      <th>parch</th>\n",
       "      <th>fare</th>\n",
       "      <th>embarked</th>\n",
       "      <th>class</th>\n",
       "      <th>who</th>\n",
       "      <th>adult_male</th>\n",
       "      <th>deck</th>\n",
       "      <th>embark_town</th>\n",
       "      <th>alive</th>\n",
       "      <th>alone</th>\n",
       "    </tr>\n",
       "  </thead>\n",
       "  <tbody>\n",
       "    <tr>\n",
       "      <th>1</th>\n",
       "      <td>1.0</td>\n",
       "      <td>1</td>\n",
       "      <td>female</td>\n",
       "      <td>13870.0</td>\n",
       "      <td>1</td>\n",
       "      <td>0</td>\n",
       "      <td>71.2833</td>\n",
       "      <td>C</td>\n",
       "      <td>First</td>\n",
       "      <td>woman</td>\n",
       "      <td>False</td>\n",
       "      <td>C</td>\n",
       "      <td>Cherbourg</td>\n",
       "      <td>yes</td>\n",
       "      <td>False</td>\n",
       "    </tr>\n",
       "    <tr>\n",
       "      <th>3</th>\n",
       "      <td>1.0</td>\n",
       "      <td>1</td>\n",
       "      <td>female</td>\n",
       "      <td>12775.0</td>\n",
       "      <td>1</td>\n",
       "      <td>0</td>\n",
       "      <td>53.1000</td>\n",
       "      <td>S</td>\n",
       "      <td>First</td>\n",
       "      <td>woman</td>\n",
       "      <td>False</td>\n",
       "      <td>C</td>\n",
       "      <td>Southampton</td>\n",
       "      <td>yes</td>\n",
       "      <td>False</td>\n",
       "    </tr>\n",
       "    <tr>\n",
       "      <th>6</th>\n",
       "      <td>0.0</td>\n",
       "      <td>1</td>\n",
       "      <td>male</td>\n",
       "      <td>19710.0</td>\n",
       "      <td>0</td>\n",
       "      <td>0</td>\n",
       "      <td>51.8625</td>\n",
       "      <td>S</td>\n",
       "      <td>First</td>\n",
       "      <td>man</td>\n",
       "      <td>True</td>\n",
       "      <td>E</td>\n",
       "      <td>Southampton</td>\n",
       "      <td>no</td>\n",
       "      <td>True</td>\n",
       "    </tr>\n",
       "    <tr>\n",
       "      <th>10</th>\n",
       "      <td>1.0</td>\n",
       "      <td>3</td>\n",
       "      <td>female</td>\n",
       "      <td>1460.0</td>\n",
       "      <td>1</td>\n",
       "      <td>1</td>\n",
       "      <td>16.7000</td>\n",
       "      <td>S</td>\n",
       "      <td>Third</td>\n",
       "      <td>child</td>\n",
       "      <td>False</td>\n",
       "      <td>G</td>\n",
       "      <td>Southampton</td>\n",
       "      <td>yes</td>\n",
       "      <td>False</td>\n",
       "    </tr>\n",
       "    <tr>\n",
       "      <th>11</th>\n",
       "      <td>1.0</td>\n",
       "      <td>1</td>\n",
       "      <td>female</td>\n",
       "      <td>21170.0</td>\n",
       "      <td>0</td>\n",
       "      <td>0</td>\n",
       "      <td>26.5500</td>\n",
       "      <td>S</td>\n",
       "      <td>First</td>\n",
       "      <td>woman</td>\n",
       "      <td>False</td>\n",
       "      <td>C</td>\n",
       "      <td>Southampton</td>\n",
       "      <td>yes</td>\n",
       "      <td>True</td>\n",
       "    </tr>\n",
       "  </tbody>\n",
       "</table>\n",
       "</div>"
      ],
      "text/plain": [
       "    survived  pclass     sex      age  sibsp  parch     fare embarked  class  \\\n",
       "1        1.0       1  female  13870.0      1      0  71.2833        C  First   \n",
       "3        1.0       1  female  12775.0      1      0  53.1000        S  First   \n",
       "6        0.0       1    male  19710.0      0      0  51.8625        S  First   \n",
       "10       1.0       3  female   1460.0      1      1  16.7000        S  Third   \n",
       "11       1.0       1  female  21170.0      0      0  26.5500        S  First   \n",
       "\n",
       "      who  adult_male deck  embark_town alive  alone  \n",
       "1   woman       False    C    Cherbourg   yes  False  \n",
       "3   woman       False    C  Southampton   yes  False  \n",
       "6     man        True    E  Southampton    no   True  \n",
       "10  child       False    G  Southampton   yes  False  \n",
       "11  woman       False    C  Southampton   yes   True  "
      ]
     },
     "execution_count": 378,
     "metadata": {},
     "output_type": "execute_result"
    }
   ],
   "source": [
    "sh1['age']=sh1['age']*365\n",
    "sh1.head(5)"
   ]
  },
  {
   "cell_type": "code",
   "execution_count": 379,
   "metadata": {},
   "outputs": [
    {
     "data": {
      "text/plain": [
       "survived        float64\n",
       "pclass            int64\n",
       "sex              object\n",
       "age             float64\n",
       "sibsp             int64\n",
       "parch             int64\n",
       "fare            float64\n",
       "embarked         object\n",
       "class          category\n",
       "who              object\n",
       "adult_male         bool\n",
       "deck           category\n",
       "embark_town      object\n",
       "alive            object\n",
       "alone              bool\n",
       "dtype: object"
      ]
     },
     "execution_count": 379,
     "metadata": {},
     "output_type": "execute_result"
    }
   ],
   "source": [
    "sh1.dtypes"
   ]
  },
  {
   "cell_type": "markdown",
   "metadata": {},
   "source": [
    "## Always rename afterwards.."
   ]
  },
  {
   "cell_type": "code",
   "execution_count": 380,
   "metadata": {},
   "outputs": [
    {
     "data": {
      "text/html": [
       "<div>\n",
       "<style scoped>\n",
       "    .dataframe tbody tr th:only-of-type {\n",
       "        vertical-align: middle;\n",
       "    }\n",
       "\n",
       "    .dataframe tbody tr th {\n",
       "        vertical-align: top;\n",
       "    }\n",
       "\n",
       "    .dataframe thead th {\n",
       "        text-align: right;\n",
       "    }\n",
       "</style>\n",
       "<table border=\"1\" class=\"dataframe\">\n",
       "  <thead>\n",
       "    <tr style=\"text-align: right;\">\n",
       "      <th></th>\n",
       "      <th>survived</th>\n",
       "      <th>pclass</th>\n",
       "      <th>sex</th>\n",
       "      <th>age in days</th>\n",
       "      <th>sibsp</th>\n",
       "      <th>parch</th>\n",
       "      <th>fare</th>\n",
       "      <th>embarked</th>\n",
       "      <th>class</th>\n",
       "      <th>who</th>\n",
       "      <th>adult_male</th>\n",
       "      <th>deck</th>\n",
       "      <th>embark_town</th>\n",
       "      <th>alive</th>\n",
       "      <th>alone</th>\n",
       "    </tr>\n",
       "  </thead>\n",
       "  <tbody>\n",
       "    <tr>\n",
       "      <th>1</th>\n",
       "      <td>1.0</td>\n",
       "      <td>1</td>\n",
       "      <td>female</td>\n",
       "      <td>13870.0</td>\n",
       "      <td>1</td>\n",
       "      <td>0</td>\n",
       "      <td>71.2833</td>\n",
       "      <td>C</td>\n",
       "      <td>First</td>\n",
       "      <td>woman</td>\n",
       "      <td>False</td>\n",
       "      <td>C</td>\n",
       "      <td>Cherbourg</td>\n",
       "      <td>yes</td>\n",
       "      <td>False</td>\n",
       "    </tr>\n",
       "    <tr>\n",
       "      <th>3</th>\n",
       "      <td>1.0</td>\n",
       "      <td>1</td>\n",
       "      <td>female</td>\n",
       "      <td>12775.0</td>\n",
       "      <td>1</td>\n",
       "      <td>0</td>\n",
       "      <td>53.1000</td>\n",
       "      <td>S</td>\n",
       "      <td>First</td>\n",
       "      <td>woman</td>\n",
       "      <td>False</td>\n",
       "      <td>C</td>\n",
       "      <td>Southampton</td>\n",
       "      <td>yes</td>\n",
       "      <td>False</td>\n",
       "    </tr>\n",
       "    <tr>\n",
       "      <th>6</th>\n",
       "      <td>0.0</td>\n",
       "      <td>1</td>\n",
       "      <td>male</td>\n",
       "      <td>19710.0</td>\n",
       "      <td>0</td>\n",
       "      <td>0</td>\n",
       "      <td>51.8625</td>\n",
       "      <td>S</td>\n",
       "      <td>First</td>\n",
       "      <td>man</td>\n",
       "      <td>True</td>\n",
       "      <td>E</td>\n",
       "      <td>Southampton</td>\n",
       "      <td>no</td>\n",
       "      <td>True</td>\n",
       "    </tr>\n",
       "    <tr>\n",
       "      <th>10</th>\n",
       "      <td>1.0</td>\n",
       "      <td>3</td>\n",
       "      <td>female</td>\n",
       "      <td>1460.0</td>\n",
       "      <td>1</td>\n",
       "      <td>1</td>\n",
       "      <td>16.7000</td>\n",
       "      <td>S</td>\n",
       "      <td>Third</td>\n",
       "      <td>child</td>\n",
       "      <td>False</td>\n",
       "      <td>G</td>\n",
       "      <td>Southampton</td>\n",
       "      <td>yes</td>\n",
       "      <td>False</td>\n",
       "    </tr>\n",
       "    <tr>\n",
       "      <th>11</th>\n",
       "      <td>1.0</td>\n",
       "      <td>1</td>\n",
       "      <td>female</td>\n",
       "      <td>21170.0</td>\n",
       "      <td>0</td>\n",
       "      <td>0</td>\n",
       "      <td>26.5500</td>\n",
       "      <td>S</td>\n",
       "      <td>First</td>\n",
       "      <td>woman</td>\n",
       "      <td>False</td>\n",
       "      <td>C</td>\n",
       "      <td>Southampton</td>\n",
       "      <td>yes</td>\n",
       "      <td>True</td>\n",
       "    </tr>\n",
       "  </tbody>\n",
       "</table>\n",
       "</div>"
      ],
      "text/plain": [
       "    survived  pclass     sex  age in days  sibsp  parch     fare embarked  \\\n",
       "1        1.0       1  female      13870.0      1      0  71.2833        C   \n",
       "3        1.0       1  female      12775.0      1      0  53.1000        S   \n",
       "6        0.0       1    male      19710.0      0      0  51.8625        S   \n",
       "10       1.0       3  female       1460.0      1      1  16.7000        S   \n",
       "11       1.0       1  female      21170.0      0      0  26.5500        S   \n",
       "\n",
       "    class    who  adult_male deck  embark_town alive  alone  \n",
       "1   First  woman       False    C    Cherbourg   yes  False  \n",
       "3   First  woman       False    C  Southampton   yes  False  \n",
       "6   First    man        True    E  Southampton    no   True  \n",
       "10  Third  child       False    G  Southampton   yes  False  \n",
       "11  First  woman       False    C  Southampton   yes   True  "
      ]
     },
     "execution_count": 380,
     "metadata": {},
     "output_type": "execute_result"
    }
   ],
   "source": [
    "sh1.rename(columns={'age':'age in days'},inplace=True)\n",
    "sh1.head()"
   ]
  },
  {
   "cell_type": "code",
   "execution_count": 381,
   "metadata": {},
   "outputs": [
    {
     "data": {
      "text/plain": [
       "survived       0\n",
       "pclass         0\n",
       "sex            0\n",
       "age in days    0\n",
       "sibsp          0\n",
       "parch          0\n",
       "fare           0\n",
       "embarked       2\n",
       "class          0\n",
       "who            0\n",
       "adult_male     0\n",
       "deck           0\n",
       "embark_town    2\n",
       "alive          0\n",
       "alone          0\n",
       "dtype: int64"
      ]
     },
     "execution_count": 381,
     "metadata": {},
     "output_type": "execute_result"
    }
   ],
   "source": [
    "sh1.isnull().sum()"
   ]
  },
  {
   "cell_type": "code",
   "execution_count": 382,
   "metadata": {},
   "outputs": [
    {
     "data": {
      "text/plain": [
       "survived        float64\n",
       "pclass            int64\n",
       "sex              object\n",
       "age in days       int64\n",
       "sibsp             int64\n",
       "parch             int64\n",
       "fare            float64\n",
       "embarked         object\n",
       "class          category\n",
       "who              object\n",
       "adult_male         bool\n",
       "deck           category\n",
       "embark_town      object\n",
       "alive            object\n",
       "alone              bool\n",
       "dtype: object"
      ]
     },
     "execution_count": 382,
     "metadata": {},
     "output_type": "execute_result"
    }
   ],
   "source": [
    "sh1['age in days']=sh1['age in days'].astype('int64')\n",
    "sh1.dtypes"
   ]
  },
  {
   "cell_type": "code",
   "execution_count": 383,
   "metadata": {},
   "outputs": [
    {
     "data": {
      "text/plain": [
       "survived       0\n",
       "pclass         0\n",
       "sex            0\n",
       "age in days    0\n",
       "sibsp          0\n",
       "parch          0\n",
       "fare           0\n",
       "embarked       2\n",
       "class          0\n",
       "who            0\n",
       "adult_male     0\n",
       "deck           0\n",
       "embark_town    2\n",
       "alive          0\n",
       "alone          0\n",
       "dtype: int64"
      ]
     },
     "execution_count": 383,
     "metadata": {},
     "output_type": "execute_result"
    }
   ],
   "source": [
    "sh1.isnull().sum()"
   ]
  },
  {
   "cell_type": "markdown",
   "metadata": {},
   "source": [
    "# Data Normalization"
   ]
  },
  {
   "cell_type": "markdown",
   "metadata": {},
   "source": [
    "- Uniform the data.\n",
    "- They have same impact\n",
    "- also for computational reasons"
   ]
  },
  {
   "cell_type": "code",
   "execution_count": 384,
   "metadata": {},
   "outputs": [
    {
     "data": {
      "text/html": [
       "<div>\n",
       "<style scoped>\n",
       "    .dataframe tbody tr th:only-of-type {\n",
       "        vertical-align: middle;\n",
       "    }\n",
       "\n",
       "    .dataframe tbody tr th {\n",
       "        vertical-align: top;\n",
       "    }\n",
       "\n",
       "    .dataframe thead th {\n",
       "        text-align: right;\n",
       "    }\n",
       "</style>\n",
       "<table border=\"1\" class=\"dataframe\">\n",
       "  <thead>\n",
       "    <tr style=\"text-align: right;\">\n",
       "      <th></th>\n",
       "      <th>survived</th>\n",
       "      <th>pclass</th>\n",
       "      <th>sex</th>\n",
       "      <th>age in days</th>\n",
       "      <th>sibsp</th>\n",
       "      <th>parch</th>\n",
       "      <th>fare</th>\n",
       "      <th>embarked</th>\n",
       "      <th>class</th>\n",
       "      <th>who</th>\n",
       "      <th>adult_male</th>\n",
       "      <th>deck</th>\n",
       "      <th>embark_town</th>\n",
       "      <th>alive</th>\n",
       "      <th>alone</th>\n",
       "    </tr>\n",
       "  </thead>\n",
       "  <tbody>\n",
       "    <tr>\n",
       "      <th>1</th>\n",
       "      <td>1.0</td>\n",
       "      <td>1</td>\n",
       "      <td>female</td>\n",
       "      <td>13870</td>\n",
       "      <td>1</td>\n",
       "      <td>0</td>\n",
       "      <td>71.2833</td>\n",
       "      <td>C</td>\n",
       "      <td>First</td>\n",
       "      <td>woman</td>\n",
       "      <td>False</td>\n",
       "      <td>C</td>\n",
       "      <td>Cherbourg</td>\n",
       "      <td>yes</td>\n",
       "      <td>False</td>\n",
       "    </tr>\n",
       "    <tr>\n",
       "      <th>3</th>\n",
       "      <td>1.0</td>\n",
       "      <td>1</td>\n",
       "      <td>female</td>\n",
       "      <td>12775</td>\n",
       "      <td>1</td>\n",
       "      <td>0</td>\n",
       "      <td>53.1000</td>\n",
       "      <td>S</td>\n",
       "      <td>First</td>\n",
       "      <td>woman</td>\n",
       "      <td>False</td>\n",
       "      <td>C</td>\n",
       "      <td>Southampton</td>\n",
       "      <td>yes</td>\n",
       "      <td>False</td>\n",
       "    </tr>\n",
       "    <tr>\n",
       "      <th>6</th>\n",
       "      <td>0.0</td>\n",
       "      <td>1</td>\n",
       "      <td>male</td>\n",
       "      <td>19710</td>\n",
       "      <td>0</td>\n",
       "      <td>0</td>\n",
       "      <td>51.8625</td>\n",
       "      <td>S</td>\n",
       "      <td>First</td>\n",
       "      <td>man</td>\n",
       "      <td>True</td>\n",
       "      <td>E</td>\n",
       "      <td>Southampton</td>\n",
       "      <td>no</td>\n",
       "      <td>True</td>\n",
       "    </tr>\n",
       "    <tr>\n",
       "      <th>10</th>\n",
       "      <td>1.0</td>\n",
       "      <td>3</td>\n",
       "      <td>female</td>\n",
       "      <td>1460</td>\n",
       "      <td>1</td>\n",
       "      <td>1</td>\n",
       "      <td>16.7000</td>\n",
       "      <td>S</td>\n",
       "      <td>Third</td>\n",
       "      <td>child</td>\n",
       "      <td>False</td>\n",
       "      <td>G</td>\n",
       "      <td>Southampton</td>\n",
       "      <td>yes</td>\n",
       "      <td>False</td>\n",
       "    </tr>\n",
       "    <tr>\n",
       "      <th>11</th>\n",
       "      <td>1.0</td>\n",
       "      <td>1</td>\n",
       "      <td>female</td>\n",
       "      <td>21170</td>\n",
       "      <td>0</td>\n",
       "      <td>0</td>\n",
       "      <td>26.5500</td>\n",
       "      <td>S</td>\n",
       "      <td>First</td>\n",
       "      <td>woman</td>\n",
       "      <td>False</td>\n",
       "      <td>C</td>\n",
       "      <td>Southampton</td>\n",
       "      <td>yes</td>\n",
       "      <td>True</td>\n",
       "    </tr>\n",
       "  </tbody>\n",
       "</table>\n",
       "</div>"
      ],
      "text/plain": [
       "    survived  pclass     sex  age in days  sibsp  parch     fare embarked  \\\n",
       "1        1.0       1  female        13870      1      0  71.2833        C   \n",
       "3        1.0       1  female        12775      1      0  53.1000        S   \n",
       "6        0.0       1    male        19710      0      0  51.8625        S   \n",
       "10       1.0       3  female         1460      1      1  16.7000        S   \n",
       "11       1.0       1  female        21170      0      0  26.5500        S   \n",
       "\n",
       "    class    who  adult_male deck  embark_town alive  alone  \n",
       "1   First  woman       False    C    Cherbourg   yes  False  \n",
       "3   First  woman       False    C  Southampton   yes  False  \n",
       "6   First    man        True    E  Southampton    no   True  \n",
       "10  Third  child       False    G  Southampton   yes  False  \n",
       "11  First  woman       False    C  Southampton   yes   True  "
      ]
     },
     "execution_count": 384,
     "metadata": {},
     "output_type": "execute_result"
    }
   ],
   "source": [
    "sh1.head(5)"
   ]
  },
  {
   "cell_type": "code",
   "execution_count": 385,
   "metadata": {},
   "outputs": [
    {
     "data": {
      "text/html": [
       "<div>\n",
       "<style scoped>\n",
       "    .dataframe tbody tr th:only-of-type {\n",
       "        vertical-align: middle;\n",
       "    }\n",
       "\n",
       "    .dataframe tbody tr th {\n",
       "        vertical-align: top;\n",
       "    }\n",
       "\n",
       "    .dataframe thead th {\n",
       "        text-align: right;\n",
       "    }\n",
       "</style>\n",
       "<table border=\"1\" class=\"dataframe\">\n",
       "  <thead>\n",
       "    <tr style=\"text-align: right;\">\n",
       "      <th></th>\n",
       "      <th>age in days</th>\n",
       "      <th>fare</th>\n",
       "    </tr>\n",
       "  </thead>\n",
       "  <tbody>\n",
       "    <tr>\n",
       "      <th>1</th>\n",
       "      <td>13870</td>\n",
       "      <td>71.2833</td>\n",
       "    </tr>\n",
       "    <tr>\n",
       "      <th>3</th>\n",
       "      <td>12775</td>\n",
       "      <td>53.1000</td>\n",
       "    </tr>\n",
       "    <tr>\n",
       "      <th>6</th>\n",
       "      <td>19710</td>\n",
       "      <td>51.8625</td>\n",
       "    </tr>\n",
       "    <tr>\n",
       "      <th>10</th>\n",
       "      <td>1460</td>\n",
       "      <td>16.7000</td>\n",
       "    </tr>\n",
       "    <tr>\n",
       "      <th>11</th>\n",
       "      <td>21170</td>\n",
       "      <td>26.5500</td>\n",
       "    </tr>\n",
       "  </tbody>\n",
       "</table>\n",
       "</div>"
      ],
      "text/plain": [
       "    age in days     fare\n",
       "1         13870  71.2833\n",
       "3         12775  53.1000\n",
       "6         19710  51.8625\n",
       "10         1460  16.7000\n",
       "11        21170  26.5500"
      ]
     },
     "execution_count": 385,
     "metadata": {},
     "output_type": "execute_result"
    }
   ],
   "source": [
    "sh5 = sh1[['age in days', 'fare']]\n",
    "sh5.head(5)"
   ]
  },
  {
   "cell_type": "markdown",
   "metadata": {},
   "source": [
    "- Above data is really invalid range and we need to normalize and hard to compare..\n",
    "- Normalization change the values to the range of 0-to-1 ( now both variables have similar influance on our models.)\n",
    "\n",
    "# Methods of normalization:-\n",
    "- Simple Feature scaling.\n",
    "  - x(new)= x(old)/x(max)\n",
    "- Min-Max method\n",
    "- Z-score( standard score) Range -3 -to- +3\n",
    "- Log Transformation"
   ]
  },
  {
   "cell_type": "markdown",
   "metadata": {},
   "source": [
    "### 1- Simple Feature Scaling\n",
    " "
   ]
  },
  {
   "cell_type": "code",
   "execution_count": 386,
   "metadata": {},
   "outputs": [
    {
     "data": {
      "text/html": [
       "<div>\n",
       "<style scoped>\n",
       "    .dataframe tbody tr th:only-of-type {\n",
       "        vertical-align: middle;\n",
       "    }\n",
       "\n",
       "    .dataframe tbody tr th {\n",
       "        vertical-align: top;\n",
       "    }\n",
       "\n",
       "    .dataframe thead th {\n",
       "        text-align: right;\n",
       "    }\n",
       "</style>\n",
       "<table border=\"1\" class=\"dataframe\">\n",
       "  <thead>\n",
       "    <tr style=\"text-align: right;\">\n",
       "      <th></th>\n",
       "      <th>survived</th>\n",
       "      <th>pclass</th>\n",
       "      <th>sex</th>\n",
       "      <th>age in days</th>\n",
       "      <th>sibsp</th>\n",
       "      <th>parch</th>\n",
       "      <th>fare</th>\n",
       "      <th>embarked</th>\n",
       "      <th>class</th>\n",
       "      <th>who</th>\n",
       "      <th>adult_male</th>\n",
       "      <th>deck</th>\n",
       "      <th>embark_town</th>\n",
       "      <th>alive</th>\n",
       "      <th>alone</th>\n",
       "    </tr>\n",
       "  </thead>\n",
       "  <tbody>\n",
       "    <tr>\n",
       "      <th>1</th>\n",
       "      <td>1.0</td>\n",
       "      <td>1</td>\n",
       "      <td>female</td>\n",
       "      <td>13870</td>\n",
       "      <td>1</td>\n",
       "      <td>0</td>\n",
       "      <td>0.139136</td>\n",
       "      <td>C</td>\n",
       "      <td>First</td>\n",
       "      <td>woman</td>\n",
       "      <td>False</td>\n",
       "      <td>C</td>\n",
       "      <td>Cherbourg</td>\n",
       "      <td>yes</td>\n",
       "      <td>False</td>\n",
       "    </tr>\n",
       "    <tr>\n",
       "      <th>3</th>\n",
       "      <td>1.0</td>\n",
       "      <td>1</td>\n",
       "      <td>female</td>\n",
       "      <td>12775</td>\n",
       "      <td>1</td>\n",
       "      <td>0</td>\n",
       "      <td>0.103644</td>\n",
       "      <td>S</td>\n",
       "      <td>First</td>\n",
       "      <td>woman</td>\n",
       "      <td>False</td>\n",
       "      <td>C</td>\n",
       "      <td>Southampton</td>\n",
       "      <td>yes</td>\n",
       "      <td>False</td>\n",
       "    </tr>\n",
       "    <tr>\n",
       "      <th>6</th>\n",
       "      <td>0.0</td>\n",
       "      <td>1</td>\n",
       "      <td>male</td>\n",
       "      <td>19710</td>\n",
       "      <td>0</td>\n",
       "      <td>0</td>\n",
       "      <td>0.101229</td>\n",
       "      <td>S</td>\n",
       "      <td>First</td>\n",
       "      <td>man</td>\n",
       "      <td>True</td>\n",
       "      <td>E</td>\n",
       "      <td>Southampton</td>\n",
       "      <td>no</td>\n",
       "      <td>True</td>\n",
       "    </tr>\n",
       "    <tr>\n",
       "      <th>10</th>\n",
       "      <td>1.0</td>\n",
       "      <td>3</td>\n",
       "      <td>female</td>\n",
       "      <td>1460</td>\n",
       "      <td>1</td>\n",
       "      <td>1</td>\n",
       "      <td>0.032596</td>\n",
       "      <td>S</td>\n",
       "      <td>Third</td>\n",
       "      <td>child</td>\n",
       "      <td>False</td>\n",
       "      <td>G</td>\n",
       "      <td>Southampton</td>\n",
       "      <td>yes</td>\n",
       "      <td>False</td>\n",
       "    </tr>\n",
       "    <tr>\n",
       "      <th>11</th>\n",
       "      <td>1.0</td>\n",
       "      <td>1</td>\n",
       "      <td>female</td>\n",
       "      <td>21170</td>\n",
       "      <td>0</td>\n",
       "      <td>0</td>\n",
       "      <td>0.051822</td>\n",
       "      <td>S</td>\n",
       "      <td>First</td>\n",
       "      <td>woman</td>\n",
       "      <td>False</td>\n",
       "      <td>C</td>\n",
       "      <td>Southampton</td>\n",
       "      <td>yes</td>\n",
       "      <td>True</td>\n",
       "    </tr>\n",
       "  </tbody>\n",
       "</table>\n",
       "</div>"
      ],
      "text/plain": [
       "    survived  pclass     sex  age in days  sibsp  parch      fare embarked  \\\n",
       "1        1.0       1  female        13870      1      0  0.139136        C   \n",
       "3        1.0       1  female        12775      1      0  0.103644        S   \n",
       "6        0.0       1    male        19710      0      0  0.101229        S   \n",
       "10       1.0       3  female         1460      1      1  0.032596        S   \n",
       "11       1.0       1  female        21170      0      0  0.051822        S   \n",
       "\n",
       "    class    who  adult_male deck  embark_town alive  alone  \n",
       "1   First  woman       False    C    Cherbourg   yes  False  \n",
       "3   First  woman       False    C  Southampton   yes  False  \n",
       "6   First    man        True    E  Southampton    no   True  \n",
       "10  Third  child       False    G  Southampton   yes  False  \n",
       "11  First  woman       False    C  Southampton   yes   True  "
      ]
     },
     "execution_count": 386,
     "metadata": {},
     "output_type": "execute_result"
    }
   ],
   "source": [
    "sh1['fare']=sh1['fare']/sh1['fare'].max()\n",
    "sh1.head()"
   ]
  },
  {
   "cell_type": "code",
   "execution_count": 387,
   "metadata": {},
   "outputs": [
    {
     "data": {
      "text/html": [
       "<div>\n",
       "<style scoped>\n",
       "    .dataframe tbody tr th:only-of-type {\n",
       "        vertical-align: middle;\n",
       "    }\n",
       "\n",
       "    .dataframe tbody tr th {\n",
       "        vertical-align: top;\n",
       "    }\n",
       "\n",
       "    .dataframe thead th {\n",
       "        text-align: right;\n",
       "    }\n",
       "</style>\n",
       "<table border=\"1\" class=\"dataframe\">\n",
       "  <thead>\n",
       "    <tr style=\"text-align: right;\">\n",
       "      <th></th>\n",
       "      <th>survived</th>\n",
       "      <th>pclass</th>\n",
       "      <th>sex</th>\n",
       "      <th>age in days</th>\n",
       "      <th>sibsp</th>\n",
       "      <th>parch</th>\n",
       "      <th>fare</th>\n",
       "      <th>embarked</th>\n",
       "      <th>class</th>\n",
       "      <th>who</th>\n",
       "      <th>adult_male</th>\n",
       "      <th>deck</th>\n",
       "      <th>embark_town</th>\n",
       "      <th>alive</th>\n",
       "      <th>alone</th>\n",
       "    </tr>\n",
       "  </thead>\n",
       "  <tbody>\n",
       "    <tr>\n",
       "      <th>1</th>\n",
       "      <td>1.0</td>\n",
       "      <td>1</td>\n",
       "      <td>female</td>\n",
       "      <td>0.4750</td>\n",
       "      <td>1</td>\n",
       "      <td>0</td>\n",
       "      <td>0.139136</td>\n",
       "      <td>C</td>\n",
       "      <td>First</td>\n",
       "      <td>woman</td>\n",
       "      <td>False</td>\n",
       "      <td>C</td>\n",
       "      <td>Cherbourg</td>\n",
       "      <td>yes</td>\n",
       "      <td>False</td>\n",
       "    </tr>\n",
       "    <tr>\n",
       "      <th>3</th>\n",
       "      <td>1.0</td>\n",
       "      <td>1</td>\n",
       "      <td>female</td>\n",
       "      <td>0.4375</td>\n",
       "      <td>1</td>\n",
       "      <td>0</td>\n",
       "      <td>0.103644</td>\n",
       "      <td>S</td>\n",
       "      <td>First</td>\n",
       "      <td>woman</td>\n",
       "      <td>False</td>\n",
       "      <td>C</td>\n",
       "      <td>Southampton</td>\n",
       "      <td>yes</td>\n",
       "      <td>False</td>\n",
       "    </tr>\n",
       "    <tr>\n",
       "      <th>6</th>\n",
       "      <td>0.0</td>\n",
       "      <td>1</td>\n",
       "      <td>male</td>\n",
       "      <td>0.6750</td>\n",
       "      <td>0</td>\n",
       "      <td>0</td>\n",
       "      <td>0.101229</td>\n",
       "      <td>S</td>\n",
       "      <td>First</td>\n",
       "      <td>man</td>\n",
       "      <td>True</td>\n",
       "      <td>E</td>\n",
       "      <td>Southampton</td>\n",
       "      <td>no</td>\n",
       "      <td>True</td>\n",
       "    </tr>\n",
       "    <tr>\n",
       "      <th>10</th>\n",
       "      <td>1.0</td>\n",
       "      <td>3</td>\n",
       "      <td>female</td>\n",
       "      <td>0.0500</td>\n",
       "      <td>1</td>\n",
       "      <td>1</td>\n",
       "      <td>0.032596</td>\n",
       "      <td>S</td>\n",
       "      <td>Third</td>\n",
       "      <td>child</td>\n",
       "      <td>False</td>\n",
       "      <td>G</td>\n",
       "      <td>Southampton</td>\n",
       "      <td>yes</td>\n",
       "      <td>False</td>\n",
       "    </tr>\n",
       "    <tr>\n",
       "      <th>11</th>\n",
       "      <td>1.0</td>\n",
       "      <td>1</td>\n",
       "      <td>female</td>\n",
       "      <td>0.7250</td>\n",
       "      <td>0</td>\n",
       "      <td>0</td>\n",
       "      <td>0.051822</td>\n",
       "      <td>S</td>\n",
       "      <td>First</td>\n",
       "      <td>woman</td>\n",
       "      <td>False</td>\n",
       "      <td>C</td>\n",
       "      <td>Southampton</td>\n",
       "      <td>yes</td>\n",
       "      <td>True</td>\n",
       "    </tr>\n",
       "  </tbody>\n",
       "</table>\n",
       "</div>"
      ],
      "text/plain": [
       "    survived  pclass     sex  age in days  sibsp  parch      fare embarked  \\\n",
       "1        1.0       1  female       0.4750      1      0  0.139136        C   \n",
       "3        1.0       1  female       0.4375      1      0  0.103644        S   \n",
       "6        0.0       1    male       0.6750      0      0  0.101229        S   \n",
       "10       1.0       3  female       0.0500      1      1  0.032596        S   \n",
       "11       1.0       1  female       0.7250      0      0  0.051822        S   \n",
       "\n",
       "    class    who  adult_male deck  embark_town alive  alone  \n",
       "1   First  woman       False    C    Cherbourg   yes  False  \n",
       "3   First  woman       False    C  Southampton   yes  False  \n",
       "6   First    man        True    E  Southampton    no   True  \n",
       "10  Third  child       False    G  Southampton   yes  False  \n",
       "11  First  woman       False    C  Southampton   yes   True  "
      ]
     },
     "execution_count": 387,
     "metadata": {},
     "output_type": "execute_result"
    }
   ],
   "source": [
    "sh1['age in days']=sh1['age in days']/sh1['age in days'].max()\n",
    "sh1.head()"
   ]
  },
  {
   "cell_type": "markdown",
   "metadata": {},
   "source": [
    "# 2- Min-Max Method \n",
    "#### Range 0-to-1\n",
    "> sh1['fare']=(sh1['fare']-sh1['fare'].min())/(sh1['fare'].max()=sh1['fare'].min())\n",
    "\n",
    "> sh1.head(5)"
   ]
  },
  {
   "cell_type": "code",
   "execution_count": 388,
   "metadata": {},
   "outputs": [],
   "source": [
    "# sh5['fare']=(sh5['fare']-sh5['fare'].min())/(sh5['fare'].max() - sh5['fare'].min())\n",
    "# sh5.head(5)"
   ]
  },
  {
   "cell_type": "code",
   "execution_count": 389,
   "metadata": {},
   "outputs": [],
   "source": [
    "# sh5['age in days']=(sh5['age in days']-sh5['age in days'].min())/(sh5['age in days'].max() - sh5['age in days'].min())\n",
    "# sh5.head()"
   ]
  },
  {
   "cell_type": "markdown",
   "metadata": {},
   "source": [
    "# Z-Score (standard Score)  Range 0-to-3\n",
    "> sh3['fare']=(sh3['fare']-sh3['fare'].mean())/sh3['fare'].std()\n",
    "\n",
    "> sh3.head()"
   ]
  },
  {
   "cell_type": "code",
   "execution_count": 390,
   "metadata": {},
   "outputs": [],
   "source": [
    "# sh3['fare']=(sh3['fare']-sh3['fare'].mean())/sh3['fare'].std()\n",
    "# sh3.head()"
   ]
  },
  {
   "cell_type": "markdown",
   "metadata": {},
   "source": [
    "# Log-Transformation\n",
    "- This technique is already used in furtilizer dataset...\n",
    "> sh1.['fare']=np.log(sh1['fare'])\n",
    "\n",
    "> sh1.head(5)"
   ]
  },
  {
   "cell_type": "code",
   "execution_count": 391,
   "metadata": {},
   "outputs": [],
   "source": [
    "df = sh1 "
   ]
  },
  {
   "cell_type": "code",
   "execution_count": 392,
   "metadata": {},
   "outputs": [
    {
     "data": {
      "text/html": [
       "<div>\n",
       "<style scoped>\n",
       "    .dataframe tbody tr th:only-of-type {\n",
       "        vertical-align: middle;\n",
       "    }\n",
       "\n",
       "    .dataframe tbody tr th {\n",
       "        vertical-align: top;\n",
       "    }\n",
       "\n",
       "    .dataframe thead th {\n",
       "        text-align: right;\n",
       "    }\n",
       "</style>\n",
       "<table border=\"1\" class=\"dataframe\">\n",
       "  <thead>\n",
       "    <tr style=\"text-align: right;\">\n",
       "      <th></th>\n",
       "      <th>survived</th>\n",
       "      <th>pclass</th>\n",
       "      <th>sex</th>\n",
       "      <th>age in days</th>\n",
       "      <th>sibsp</th>\n",
       "      <th>parch</th>\n",
       "      <th>fare</th>\n",
       "      <th>embarked</th>\n",
       "      <th>class</th>\n",
       "      <th>who</th>\n",
       "      <th>adult_male</th>\n",
       "      <th>deck</th>\n",
       "      <th>embark_town</th>\n",
       "      <th>alive</th>\n",
       "      <th>alone</th>\n",
       "    </tr>\n",
       "  </thead>\n",
       "  <tbody>\n",
       "    <tr>\n",
       "      <th>1</th>\n",
       "      <td>1.0</td>\n",
       "      <td>1</td>\n",
       "      <td>female</td>\n",
       "      <td>0.4750</td>\n",
       "      <td>1</td>\n",
       "      <td>0</td>\n",
       "      <td>0.139136</td>\n",
       "      <td>C</td>\n",
       "      <td>First</td>\n",
       "      <td>woman</td>\n",
       "      <td>False</td>\n",
       "      <td>C</td>\n",
       "      <td>Cherbourg</td>\n",
       "      <td>yes</td>\n",
       "      <td>False</td>\n",
       "    </tr>\n",
       "    <tr>\n",
       "      <th>3</th>\n",
       "      <td>1.0</td>\n",
       "      <td>1</td>\n",
       "      <td>female</td>\n",
       "      <td>0.4375</td>\n",
       "      <td>1</td>\n",
       "      <td>0</td>\n",
       "      <td>0.103644</td>\n",
       "      <td>S</td>\n",
       "      <td>First</td>\n",
       "      <td>woman</td>\n",
       "      <td>False</td>\n",
       "      <td>C</td>\n",
       "      <td>Southampton</td>\n",
       "      <td>yes</td>\n",
       "      <td>False</td>\n",
       "    </tr>\n",
       "    <tr>\n",
       "      <th>6</th>\n",
       "      <td>0.0</td>\n",
       "      <td>1</td>\n",
       "      <td>male</td>\n",
       "      <td>0.6750</td>\n",
       "      <td>0</td>\n",
       "      <td>0</td>\n",
       "      <td>0.101229</td>\n",
       "      <td>S</td>\n",
       "      <td>First</td>\n",
       "      <td>man</td>\n",
       "      <td>True</td>\n",
       "      <td>E</td>\n",
       "      <td>Southampton</td>\n",
       "      <td>no</td>\n",
       "      <td>True</td>\n",
       "    </tr>\n",
       "    <tr>\n",
       "      <th>10</th>\n",
       "      <td>1.0</td>\n",
       "      <td>3</td>\n",
       "      <td>female</td>\n",
       "      <td>0.0500</td>\n",
       "      <td>1</td>\n",
       "      <td>1</td>\n",
       "      <td>0.032596</td>\n",
       "      <td>S</td>\n",
       "      <td>Third</td>\n",
       "      <td>child</td>\n",
       "      <td>False</td>\n",
       "      <td>G</td>\n",
       "      <td>Southampton</td>\n",
       "      <td>yes</td>\n",
       "      <td>False</td>\n",
       "    </tr>\n",
       "    <tr>\n",
       "      <th>11</th>\n",
       "      <td>1.0</td>\n",
       "      <td>1</td>\n",
       "      <td>female</td>\n",
       "      <td>0.7250</td>\n",
       "      <td>0</td>\n",
       "      <td>0</td>\n",
       "      <td>0.051822</td>\n",
       "      <td>S</td>\n",
       "      <td>First</td>\n",
       "      <td>woman</td>\n",
       "      <td>False</td>\n",
       "      <td>C</td>\n",
       "      <td>Southampton</td>\n",
       "      <td>yes</td>\n",
       "      <td>True</td>\n",
       "    </tr>\n",
       "  </tbody>\n",
       "</table>\n",
       "</div>"
      ],
      "text/plain": [
       "    survived  pclass     sex  age in days  sibsp  parch      fare embarked  \\\n",
       "1        1.0       1  female       0.4750      1      0  0.139136        C   \n",
       "3        1.0       1  female       0.4375      1      0  0.103644        S   \n",
       "6        0.0       1    male       0.6750      0      0  0.101229        S   \n",
       "10       1.0       3  female       0.0500      1      1  0.032596        S   \n",
       "11       1.0       1  female       0.7250      0      0  0.051822        S   \n",
       "\n",
       "    class    who  adult_male deck  embark_town alive  alone  \n",
       "1   First  woman       False    C    Cherbourg   yes  False  \n",
       "3   First  woman       False    C  Southampton   yes  False  \n",
       "6   First    man        True    E  Southampton    no   True  \n",
       "10  Third  child       False    G  Southampton   yes  False  \n",
       "11  First  woman       False    C  Southampton   yes   True  "
      ]
     },
     "execution_count": 392,
     "metadata": {},
     "output_type": "execute_result"
    }
   ],
   "source": [
    "df.head()"
   ]
  },
  {
   "cell_type": "code",
   "execution_count": 393,
   "metadata": {},
   "outputs": [
    {
     "name": "stderr",
     "output_type": "stream",
     "text": [
      "C:\\Users\\Administrator\\AppData\\Local\\Temp\\ipykernel_7376\\343405459.py:1: FutureWarning:\n",
      "\n",
      "Dropping of nuisance columns in DataFrame reductions (with 'numeric_only=None') is deprecated; in a future version this will raise TypeError.  Select only valid columns before calling the reduction.\n",
      "\n"
     ]
    },
    {
     "data": {
      "text/plain": [
       "survived            0.0\n",
       "pclass                1\n",
       "sex              female\n",
       "age in days    0.011473\n",
       "sibsp                 0\n",
       "parch                 0\n",
       "fare                0.0\n",
       "who               child\n",
       "adult_male        False\n",
       "alive                no\n",
       "alone             False\n",
       "dtype: object"
      ]
     },
     "execution_count": 393,
     "metadata": {},
     "output_type": "execute_result"
    }
   ],
   "source": [
    "sh.min()"
   ]
  },
  {
   "cell_type": "markdown",
   "metadata": {},
   "source": [
    "# Binning \n",
    "- Grouping of values into smaller number of values(bins)\n",
    "- Convert numeric into categorical\n",
    "- to have better understanding of groups\n",
    "  - low Vs mid Vs high price..\n",
    "> Syntax\n",
    "\n",
    "> bins = np.linespace(min(sh1['age']),max(sh1['age']),1500)\n",
    ">\n",
    "> age_groups= ['x','y','z']\n",
    "> \n",
    "> sh1['age in days']=pd.cut(sh1['age'],bins,labels=age_groups,include_lowest=True)\n",
    ">\n",
    "> sh1['age in days']\n"
   ]
  },
  {
   "cell_type": "code",
   "execution_count": 394,
   "metadata": {},
   "outputs": [
    {
     "data": {
      "text/html": [
       "<div>\n",
       "<style scoped>\n",
       "    .dataframe tbody tr th:only-of-type {\n",
       "        vertical-align: middle;\n",
       "    }\n",
       "\n",
       "    .dataframe tbody tr th {\n",
       "        vertical-align: top;\n",
       "    }\n",
       "\n",
       "    .dataframe thead th {\n",
       "        text-align: right;\n",
       "    }\n",
       "</style>\n",
       "<table border=\"1\" class=\"dataframe\">\n",
       "  <thead>\n",
       "    <tr style=\"text-align: right;\">\n",
       "      <th></th>\n",
       "      <th>survived</th>\n",
       "      <th>pclass</th>\n",
       "      <th>sex</th>\n",
       "      <th>age</th>\n",
       "      <th>sibsp</th>\n",
       "      <th>parch</th>\n",
       "      <th>fare</th>\n",
       "      <th>embarked</th>\n",
       "      <th>class</th>\n",
       "      <th>who</th>\n",
       "      <th>adult_male</th>\n",
       "      <th>deck</th>\n",
       "      <th>embark_town</th>\n",
       "      <th>alive</th>\n",
       "      <th>alone</th>\n",
       "    </tr>\n",
       "  </thead>\n",
       "  <tbody>\n",
       "    <tr>\n",
       "      <th>886</th>\n",
       "      <td>0</td>\n",
       "      <td>2</td>\n",
       "      <td>male</td>\n",
       "      <td>27.0</td>\n",
       "      <td>0</td>\n",
       "      <td>0</td>\n",
       "      <td>13.00</td>\n",
       "      <td>S</td>\n",
       "      <td>Second</td>\n",
       "      <td>man</td>\n",
       "      <td>True</td>\n",
       "      <td>NaN</td>\n",
       "      <td>Southampton</td>\n",
       "      <td>no</td>\n",
       "      <td>True</td>\n",
       "    </tr>\n",
       "    <tr>\n",
       "      <th>887</th>\n",
       "      <td>1</td>\n",
       "      <td>1</td>\n",
       "      <td>female</td>\n",
       "      <td>19.0</td>\n",
       "      <td>0</td>\n",
       "      <td>0</td>\n",
       "      <td>30.00</td>\n",
       "      <td>S</td>\n",
       "      <td>First</td>\n",
       "      <td>woman</td>\n",
       "      <td>False</td>\n",
       "      <td>B</td>\n",
       "      <td>Southampton</td>\n",
       "      <td>yes</td>\n",
       "      <td>True</td>\n",
       "    </tr>\n",
       "    <tr>\n",
       "      <th>888</th>\n",
       "      <td>0</td>\n",
       "      <td>3</td>\n",
       "      <td>female</td>\n",
       "      <td>NaN</td>\n",
       "      <td>1</td>\n",
       "      <td>2</td>\n",
       "      <td>23.45</td>\n",
       "      <td>S</td>\n",
       "      <td>Third</td>\n",
       "      <td>woman</td>\n",
       "      <td>False</td>\n",
       "      <td>NaN</td>\n",
       "      <td>Southampton</td>\n",
       "      <td>no</td>\n",
       "      <td>False</td>\n",
       "    </tr>\n",
       "    <tr>\n",
       "      <th>889</th>\n",
       "      <td>1</td>\n",
       "      <td>1</td>\n",
       "      <td>male</td>\n",
       "      <td>26.0</td>\n",
       "      <td>0</td>\n",
       "      <td>0</td>\n",
       "      <td>30.00</td>\n",
       "      <td>C</td>\n",
       "      <td>First</td>\n",
       "      <td>man</td>\n",
       "      <td>True</td>\n",
       "      <td>C</td>\n",
       "      <td>Cherbourg</td>\n",
       "      <td>yes</td>\n",
       "      <td>True</td>\n",
       "    </tr>\n",
       "    <tr>\n",
       "      <th>890</th>\n",
       "      <td>0</td>\n",
       "      <td>3</td>\n",
       "      <td>male</td>\n",
       "      <td>32.0</td>\n",
       "      <td>0</td>\n",
       "      <td>0</td>\n",
       "      <td>7.75</td>\n",
       "      <td>Q</td>\n",
       "      <td>Third</td>\n",
       "      <td>man</td>\n",
       "      <td>True</td>\n",
       "      <td>NaN</td>\n",
       "      <td>Queenstown</td>\n",
       "      <td>no</td>\n",
       "      <td>True</td>\n",
       "    </tr>\n",
       "  </tbody>\n",
       "</table>\n",
       "</div>"
      ],
      "text/plain": [
       "     survived  pclass     sex   age  sibsp  parch   fare embarked   class  \\\n",
       "886         0       2    male  27.0      0      0  13.00        S  Second   \n",
       "887         1       1  female  19.0      0      0  30.00        S   First   \n",
       "888         0       3  female   NaN      1      2  23.45        S   Third   \n",
       "889         1       1    male  26.0      0      0  30.00        C   First   \n",
       "890         0       3    male  32.0      0      0   7.75        Q   Third   \n",
       "\n",
       "       who  adult_male deck  embark_town alive  alone  \n",
       "886    man        True  NaN  Southampton    no   True  \n",
       "887  woman       False    B  Southampton   yes   True  \n",
       "888  woman       False  NaN  Southampton    no  False  \n",
       "889    man        True    C    Cherbourg   yes   True  \n",
       "890    man        True  NaN   Queenstown    no   True  "
      ]
     },
     "execution_count": 394,
     "metadata": {},
     "output_type": "execute_result"
    }
   ],
   "source": [
    "x = sns.load_dataset('titanic')\n",
    "x.tail(5)"
   ]
  },
  {
   "cell_type": "code",
   "execution_count": 395,
   "metadata": {},
   "outputs": [],
   "source": [
    "# x['age'].min()"
   ]
  },
  {
   "cell_type": "code",
   "execution_count": 396,
   "metadata": {},
   "outputs": [],
   "source": [
    "# x['age']=x['age']*365\n",
    "# x.head(5)"
   ]
  },
  {
   "cell_type": "code",
   "execution_count": 397,
   "metadata": {},
   "outputs": [],
   "source": [
    "# bins = np.linspace(min(x['age']),max(x['age']),1500)\n",
    "# age_groups= ['x','y','z']\n",
    "# x['age']=pd.cut(x['age'],bins,labels=age_groups,include_lowest=True)\n",
    "# x['age']\n"
   ]
  },
  {
   "cell_type": "markdown",
   "metadata": {},
   "source": [
    "# Converting Categorical data into Dummies\n",
    "- Easy to use for computation.\n",
    "- male/female > 0/1\n",
    "    > Syntax \n",
    "    > pd.get_dummies(sh1['sex'])"
   ]
  },
  {
   "cell_type": "code",
   "execution_count": 398,
   "metadata": {},
   "outputs": [
    {
     "data": {
      "text/html": [
       "<div>\n",
       "<style scoped>\n",
       "    .dataframe tbody tr th:only-of-type {\n",
       "        vertical-align: middle;\n",
       "    }\n",
       "\n",
       "    .dataframe tbody tr th {\n",
       "        vertical-align: top;\n",
       "    }\n",
       "\n",
       "    .dataframe thead th {\n",
       "        text-align: right;\n",
       "    }\n",
       "</style>\n",
       "<table border=\"1\" class=\"dataframe\">\n",
       "  <thead>\n",
       "    <tr style=\"text-align: right;\">\n",
       "      <th></th>\n",
       "      <th>female</th>\n",
       "      <th>male</th>\n",
       "    </tr>\n",
       "  </thead>\n",
       "  <tbody>\n",
       "    <tr>\n",
       "      <th>0</th>\n",
       "      <td>0</td>\n",
       "      <td>1</td>\n",
       "    </tr>\n",
       "    <tr>\n",
       "      <th>1</th>\n",
       "      <td>1</td>\n",
       "      <td>0</td>\n",
       "    </tr>\n",
       "    <tr>\n",
       "      <th>2</th>\n",
       "      <td>1</td>\n",
       "      <td>0</td>\n",
       "    </tr>\n",
       "    <tr>\n",
       "      <th>3</th>\n",
       "      <td>1</td>\n",
       "      <td>0</td>\n",
       "    </tr>\n",
       "    <tr>\n",
       "      <th>4</th>\n",
       "      <td>0</td>\n",
       "      <td>1</td>\n",
       "    </tr>\n",
       "  </tbody>\n",
       "</table>\n",
       "</div>"
      ],
      "text/plain": [
       "   female  male\n",
       "0       0     1\n",
       "1       1     0\n",
       "2       1     0\n",
       "3       1     0\n",
       "4       0     1"
      ]
     },
     "execution_count": 398,
     "metadata": {},
     "output_type": "execute_result"
    }
   ],
   "source": [
    "x= pd.get_dummies(x['sex'])\n",
    "x.head(5)"
   ]
  },
  {
   "cell_type": "code",
   "execution_count": 399,
   "metadata": {},
   "outputs": [
    {
     "data": {
      "text/html": [
       "<div>\n",
       "<style scoped>\n",
       "    .dataframe tbody tr th:only-of-type {\n",
       "        vertical-align: middle;\n",
       "    }\n",
       "\n",
       "    .dataframe tbody tr th {\n",
       "        vertical-align: top;\n",
       "    }\n",
       "\n",
       "    .dataframe thead th {\n",
       "        text-align: right;\n",
       "    }\n",
       "</style>\n",
       "<table border=\"1\" class=\"dataframe\">\n",
       "  <thead>\n",
       "    <tr style=\"text-align: right;\">\n",
       "      <th></th>\n",
       "      <th>female</th>\n",
       "      <th>male</th>\n",
       "    </tr>\n",
       "  </thead>\n",
       "  <tbody>\n",
       "    <tr>\n",
       "      <th>0</th>\n",
       "      <td>0</td>\n",
       "      <td>1</td>\n",
       "    </tr>\n",
       "    <tr>\n",
       "      <th>1</th>\n",
       "      <td>1</td>\n",
       "      <td>0</td>\n",
       "    </tr>\n",
       "    <tr>\n",
       "      <th>2</th>\n",
       "      <td>1</td>\n",
       "      <td>0</td>\n",
       "    </tr>\n",
       "    <tr>\n",
       "      <th>3</th>\n",
       "      <td>1</td>\n",
       "      <td>0</td>\n",
       "    </tr>\n",
       "    <tr>\n",
       "      <th>4</th>\n",
       "      <td>0</td>\n",
       "      <td>1</td>\n",
       "    </tr>\n",
       "    <tr>\n",
       "      <th>...</th>\n",
       "      <td>...</td>\n",
       "      <td>...</td>\n",
       "    </tr>\n",
       "    <tr>\n",
       "      <th>886</th>\n",
       "      <td>0</td>\n",
       "      <td>1</td>\n",
       "    </tr>\n",
       "    <tr>\n",
       "      <th>887</th>\n",
       "      <td>1</td>\n",
       "      <td>0</td>\n",
       "    </tr>\n",
       "    <tr>\n",
       "      <th>888</th>\n",
       "      <td>1</td>\n",
       "      <td>0</td>\n",
       "    </tr>\n",
       "    <tr>\n",
       "      <th>889</th>\n",
       "      <td>0</td>\n",
       "      <td>1</td>\n",
       "    </tr>\n",
       "    <tr>\n",
       "      <th>890</th>\n",
       "      <td>0</td>\n",
       "      <td>1</td>\n",
       "    </tr>\n",
       "  </tbody>\n",
       "</table>\n",
       "<p>891 rows × 2 columns</p>\n",
       "</div>"
      ],
      "text/plain": [
       "     female  male\n",
       "0         0     1\n",
       "1         1     0\n",
       "2         1     0\n",
       "3         1     0\n",
       "4         0     1\n",
       "..      ...   ...\n",
       "886       0     1\n",
       "887       1     0\n",
       "888       1     0\n",
       "889       0     1\n",
       "890       0     1\n",
       "\n",
       "[891 rows x 2 columns]"
      ]
     },
     "execution_count": 399,
     "metadata": {},
     "output_type": "execute_result"
    }
   ],
   "source": [
    "x"
   ]
  },
  {
   "cell_type": "code",
   "execution_count": 400,
   "metadata": {},
   "outputs": [
    {
     "data": {
      "text/html": [
       "<div>\n",
       "<style scoped>\n",
       "    .dataframe tbody tr th:only-of-type {\n",
       "        vertical-align: middle;\n",
       "    }\n",
       "\n",
       "    .dataframe tbody tr th {\n",
       "        vertical-align: top;\n",
       "    }\n",
       "\n",
       "    .dataframe thead th {\n",
       "        text-align: right;\n",
       "    }\n",
       "</style>\n",
       "<table border=\"1\" class=\"dataframe\">\n",
       "  <thead>\n",
       "    <tr style=\"text-align: right;\">\n",
       "      <th></th>\n",
       "      <th>survived</th>\n",
       "      <th>pclass</th>\n",
       "      <th>sex</th>\n",
       "      <th>age in days</th>\n",
       "      <th>sibsp</th>\n",
       "      <th>parch</th>\n",
       "      <th>fare</th>\n",
       "      <th>embarked</th>\n",
       "      <th>class</th>\n",
       "      <th>who</th>\n",
       "      <th>adult_male</th>\n",
       "      <th>deck</th>\n",
       "      <th>embark_town</th>\n",
       "      <th>alive</th>\n",
       "      <th>alone</th>\n",
       "    </tr>\n",
       "  </thead>\n",
       "  <tbody>\n",
       "    <tr>\n",
       "      <th>1</th>\n",
       "      <td>1.0</td>\n",
       "      <td>1</td>\n",
       "      <td>female</td>\n",
       "      <td>0.4750</td>\n",
       "      <td>1</td>\n",
       "      <td>0</td>\n",
       "      <td>0.139136</td>\n",
       "      <td>C</td>\n",
       "      <td>First</td>\n",
       "      <td>woman</td>\n",
       "      <td>False</td>\n",
       "      <td>C</td>\n",
       "      <td>Cherbourg</td>\n",
       "      <td>yes</td>\n",
       "      <td>False</td>\n",
       "    </tr>\n",
       "    <tr>\n",
       "      <th>3</th>\n",
       "      <td>1.0</td>\n",
       "      <td>1</td>\n",
       "      <td>female</td>\n",
       "      <td>0.4375</td>\n",
       "      <td>1</td>\n",
       "      <td>0</td>\n",
       "      <td>0.103644</td>\n",
       "      <td>S</td>\n",
       "      <td>First</td>\n",
       "      <td>woman</td>\n",
       "      <td>False</td>\n",
       "      <td>C</td>\n",
       "      <td>Southampton</td>\n",
       "      <td>yes</td>\n",
       "      <td>False</td>\n",
       "    </tr>\n",
       "    <tr>\n",
       "      <th>6</th>\n",
       "      <td>0.0</td>\n",
       "      <td>1</td>\n",
       "      <td>male</td>\n",
       "      <td>0.6750</td>\n",
       "      <td>0</td>\n",
       "      <td>0</td>\n",
       "      <td>0.101229</td>\n",
       "      <td>S</td>\n",
       "      <td>First</td>\n",
       "      <td>man</td>\n",
       "      <td>True</td>\n",
       "      <td>E</td>\n",
       "      <td>Southampton</td>\n",
       "      <td>no</td>\n",
       "      <td>True</td>\n",
       "    </tr>\n",
       "    <tr>\n",
       "      <th>10</th>\n",
       "      <td>1.0</td>\n",
       "      <td>3</td>\n",
       "      <td>female</td>\n",
       "      <td>0.0500</td>\n",
       "      <td>1</td>\n",
       "      <td>1</td>\n",
       "      <td>0.032596</td>\n",
       "      <td>S</td>\n",
       "      <td>Third</td>\n",
       "      <td>child</td>\n",
       "      <td>False</td>\n",
       "      <td>G</td>\n",
       "      <td>Southampton</td>\n",
       "      <td>yes</td>\n",
       "      <td>False</td>\n",
       "    </tr>\n",
       "    <tr>\n",
       "      <th>11</th>\n",
       "      <td>1.0</td>\n",
       "      <td>1</td>\n",
       "      <td>female</td>\n",
       "      <td>0.7250</td>\n",
       "      <td>0</td>\n",
       "      <td>0</td>\n",
       "      <td>0.051822</td>\n",
       "      <td>S</td>\n",
       "      <td>First</td>\n",
       "      <td>woman</td>\n",
       "      <td>False</td>\n",
       "      <td>C</td>\n",
       "      <td>Southampton</td>\n",
       "      <td>yes</td>\n",
       "      <td>True</td>\n",
       "    </tr>\n",
       "  </tbody>\n",
       "</table>\n",
       "</div>"
      ],
      "text/plain": [
       "    survived  pclass     sex  age in days  sibsp  parch      fare embarked  \\\n",
       "1        1.0       1  female       0.4750      1      0  0.139136        C   \n",
       "3        1.0       1  female       0.4375      1      0  0.103644        S   \n",
       "6        0.0       1    male       0.6750      0      0  0.101229        S   \n",
       "10       1.0       3  female       0.0500      1      1  0.032596        S   \n",
       "11       1.0       1  female       0.7250      0      0  0.051822        S   \n",
       "\n",
       "    class    who  adult_male deck  embark_town alive  alone  \n",
       "1   First  woman       False    C    Cherbourg   yes  False  \n",
       "3   First  woman       False    C  Southampton   yes  False  \n",
       "6   First    man        True    E  Southampton    no   True  \n",
       "10  Third  child       False    G  Southampton   yes  False  \n",
       "11  First  woman       False    C  Southampton   yes   True  "
      ]
     },
     "execution_count": 400,
     "metadata": {},
     "output_type": "execute_result"
    }
   ],
   "source": [
    "sh1.head(5)"
   ]
  },
  {
   "cell_type": "code",
   "execution_count": 401,
   "metadata": {},
   "outputs": [
    {
     "data": {
      "text/plain": [
       "survived       0\n",
       "pclass         0\n",
       "sex            0\n",
       "age in days    0\n",
       "sibsp          0\n",
       "parch          0\n",
       "fare           0\n",
       "embarked       2\n",
       "class          0\n",
       "who            0\n",
       "adult_male     0\n",
       "deck           0\n",
       "embark_town    2\n",
       "alive          0\n",
       "alone          0\n",
       "dtype: int64"
      ]
     },
     "execution_count": 401,
     "metadata": {},
     "output_type": "execute_result"
    }
   ],
   "source": [
    "sh.isnull().sum()"
   ]
  },
  {
   "cell_type": "code",
   "execution_count": 402,
   "metadata": {},
   "outputs": [],
   "source": [
    "df. drop('embark_town', axis=1, inplace=True)"
   ]
  },
  {
   "cell_type": "code",
   "execution_count": 403,
   "metadata": {},
   "outputs": [
    {
     "data": {
      "text/plain": [
       "(203, 14)"
      ]
     },
     "execution_count": 403,
     "metadata": {},
     "output_type": "execute_result"
    }
   ],
   "source": [
    "sh1.shape"
   ]
  },
  {
   "cell_type": "markdown",
   "metadata": {},
   "source": [
    "## Cleaned Data/ Ready for analysis Data is Extracted:"
   ]
  },
  {
   "cell_type": "code",
   "execution_count": 404,
   "metadata": {},
   "outputs": [
    {
     "data": {
      "text/html": [
       "<div>\n",
       "<style scoped>\n",
       "    .dataframe tbody tr th:only-of-type {\n",
       "        vertical-align: middle;\n",
       "    }\n",
       "\n",
       "    .dataframe tbody tr th {\n",
       "        vertical-align: top;\n",
       "    }\n",
       "\n",
       "    .dataframe thead th {\n",
       "        text-align: right;\n",
       "    }\n",
       "</style>\n",
       "<table border=\"1\" class=\"dataframe\">\n",
       "  <thead>\n",
       "    <tr style=\"text-align: right;\">\n",
       "      <th></th>\n",
       "      <th>survived</th>\n",
       "      <th>pclass</th>\n",
       "      <th>sex</th>\n",
       "      <th>age in days</th>\n",
       "      <th>sibsp</th>\n",
       "      <th>parch</th>\n",
       "      <th>fare</th>\n",
       "      <th>embarked</th>\n",
       "      <th>class</th>\n",
       "      <th>who</th>\n",
       "      <th>adult_male</th>\n",
       "      <th>deck</th>\n",
       "      <th>alive</th>\n",
       "      <th>alone</th>\n",
       "    </tr>\n",
       "  </thead>\n",
       "  <tbody>\n",
       "    <tr>\n",
       "      <th>1</th>\n",
       "      <td>1.0</td>\n",
       "      <td>1</td>\n",
       "      <td>female</td>\n",
       "      <td>0.4750</td>\n",
       "      <td>1</td>\n",
       "      <td>0</td>\n",
       "      <td>0.139136</td>\n",
       "      <td>C</td>\n",
       "      <td>First</td>\n",
       "      <td>woman</td>\n",
       "      <td>False</td>\n",
       "      <td>C</td>\n",
       "      <td>yes</td>\n",
       "      <td>False</td>\n",
       "    </tr>\n",
       "    <tr>\n",
       "      <th>3</th>\n",
       "      <td>1.0</td>\n",
       "      <td>1</td>\n",
       "      <td>female</td>\n",
       "      <td>0.4375</td>\n",
       "      <td>1</td>\n",
       "      <td>0</td>\n",
       "      <td>0.103644</td>\n",
       "      <td>S</td>\n",
       "      <td>First</td>\n",
       "      <td>woman</td>\n",
       "      <td>False</td>\n",
       "      <td>C</td>\n",
       "      <td>yes</td>\n",
       "      <td>False</td>\n",
       "    </tr>\n",
       "    <tr>\n",
       "      <th>6</th>\n",
       "      <td>0.0</td>\n",
       "      <td>1</td>\n",
       "      <td>male</td>\n",
       "      <td>0.6750</td>\n",
       "      <td>0</td>\n",
       "      <td>0</td>\n",
       "      <td>0.101229</td>\n",
       "      <td>S</td>\n",
       "      <td>First</td>\n",
       "      <td>man</td>\n",
       "      <td>True</td>\n",
       "      <td>E</td>\n",
       "      <td>no</td>\n",
       "      <td>True</td>\n",
       "    </tr>\n",
       "    <tr>\n",
       "      <th>10</th>\n",
       "      <td>1.0</td>\n",
       "      <td>3</td>\n",
       "      <td>female</td>\n",
       "      <td>0.0500</td>\n",
       "      <td>1</td>\n",
       "      <td>1</td>\n",
       "      <td>0.032596</td>\n",
       "      <td>S</td>\n",
       "      <td>Third</td>\n",
       "      <td>child</td>\n",
       "      <td>False</td>\n",
       "      <td>G</td>\n",
       "      <td>yes</td>\n",
       "      <td>False</td>\n",
       "    </tr>\n",
       "    <tr>\n",
       "      <th>11</th>\n",
       "      <td>1.0</td>\n",
       "      <td>1</td>\n",
       "      <td>female</td>\n",
       "      <td>0.7250</td>\n",
       "      <td>0</td>\n",
       "      <td>0</td>\n",
       "      <td>0.051822</td>\n",
       "      <td>S</td>\n",
       "      <td>First</td>\n",
       "      <td>woman</td>\n",
       "      <td>False</td>\n",
       "      <td>C</td>\n",
       "      <td>yes</td>\n",
       "      <td>True</td>\n",
       "    </tr>\n",
       "  </tbody>\n",
       "</table>\n",
       "</div>"
      ],
      "text/plain": [
       "    survived  pclass     sex  age in days  sibsp  parch      fare embarked  \\\n",
       "1        1.0       1  female       0.4750      1      0  0.139136        C   \n",
       "3        1.0       1  female       0.4375      1      0  0.103644        S   \n",
       "6        0.0       1    male       0.6750      0      0  0.101229        S   \n",
       "10       1.0       3  female       0.0500      1      1  0.032596        S   \n",
       "11       1.0       1  female       0.7250      0      0  0.051822        S   \n",
       "\n",
       "    class    who  adult_male deck alive  alone  \n",
       "1   First  woman       False    C   yes  False  \n",
       "3   First  woman       False    C   yes  False  \n",
       "6   First    man        True    E    no   True  \n",
       "10  Third  child       False    G   yes  False  \n",
       "11  First  woman       False    C   yes   True  "
      ]
     },
     "execution_count": 404,
     "metadata": {},
     "output_type": "execute_result"
    }
   ],
   "source": [
    "sh1.head(5)"
   ]
  },
  {
   "cell_type": "markdown",
   "metadata": {},
   "source": [
    "### Lets Perform Some Analysis on Our Dataset."
   ]
  },
  {
   "cell_type": "code",
   "execution_count": 429,
   "metadata": {},
   "outputs": [
    {
     "data": {
      "text/plain": [
       "[Text(0.5, 1.0, 'Comparison of fare and Age in days, also either they alive or not.')]"
      ]
     },
     "execution_count": 429,
     "metadata": {},
     "output_type": "execute_result"
    },
    {
     "data": {
      "image/png": "[encoded data removed]",
      "text/plain": [
       "<Figure size 432x288 with 1 Axes>"
      ]
     },
     "metadata": {},
     "output_type": "display_data"
    }
   ],
   "source": [
    "sns.lineplot(data=sh1,x='age in days',y='fare',hue='alive').set(title='Comparison of fare and Age in days, also either they alive or not.')"
   ]
  },
  {
   "cell_type": "code",
   "execution_count": 435,
   "metadata": {},
   "outputs": [
    {
     "data": {
      "text/plain": [
       "[Text(0.5, 1.0, 'Comparison of age in days and fare with respect to Sex/gender')]"
      ]
     },
     "execution_count": 435,
     "metadata": {},
     "output_type": "execute_result"
    },
    {
     "data": {
      "image/png": "[encoded data removed]",
      "text/plain": [
       "<Figure size 432x288 with 1 Axes>"
      ]
     },
     "metadata": {},
     "output_type": "display_data"
    }
   ],
   "source": [
    "sns.histplot(data=sh1,x='age in days',y='fare',hue='who').set(title='Comparison of age in days and fare with respect to Who')"
   ]
  },
  {
   "cell_type": "code",
   "execution_count": 437,
   "metadata": {},
   "outputs": [
    {
     "data": {
      "text/plain": [
       "<seaborn.axisgrid.FacetGrid at 0x12a2ad53e20>"
      ]
     },
     "execution_count": 437,
     "metadata": {},
     "output_type": "execute_result"
    },
    {
     "data": {
      "image/png": "[encoded data removed]",
      "text/plain": [
       "<Figure size 435.225x360 with 1 Axes>"
      ]
     },
     "metadata": {},
     "output_type": "display_data"
    }
   ],
   "source": [
    "sns.catplot(x='sex',y='age in days',hue='who',data=sh1).set(title='Comparison of sex and their age in days with respect to who.')"
   ]
  },
  {
   "cell_type": "code",
   "execution_count": 408,
   "metadata": {},
   "outputs": [
    {
     "data": {
      "text/plain": [
       "<AxesSubplot:xlabel='sex', ylabel='age in days'>"
      ]
     },
     "execution_count": 408,
     "metadata": {},
     "output_type": "execute_result"
    },
    {
     "data": {
      "image/png": "[encoded data removed]",
      "text/plain": [
       "<Figure size 432x288 with 1 Axes>"
      ]
     },
     "metadata": {},
     "output_type": "display_data"
    }
   ],
   "source": [
    "sns.barplot(x='sex',y='age in days',hue='who',data=sh1)"
   ]
  },
  {
   "cell_type": "code",
   "execution_count": 409,
   "metadata": {},
   "outputs": [
    {
     "data": {
      "text/plain": [
       "<AxesSubplot:xlabel='sex', ylabel='age in days'>"
      ]
     },
     "execution_count": 409,
     "metadata": {},
     "output_type": "execute_result"
    },
    {
     "data": {
      "image/png": "[encoded data removed]",
      "text/plain": [
       "<Figure size 432x288 with 1 Axes>"
      ]
     },
     "metadata": {},
     "output_type": "display_data"
    }
   ],
   "source": [
    "sns.histplot(x='sex',y='age in days',hue='who',data= sh1)"
   ]
  },
  {
   "cell_type": "code",
   "execution_count": 410,
   "metadata": {},
   "outputs": [
    {
     "data": {
      "text/html": [
       "<div>\n",
       "<style scoped>\n",
       "    .dataframe tbody tr th:only-of-type {\n",
       "        vertical-align: middle;\n",
       "    }\n",
       "\n",
       "    .dataframe tbody tr th {\n",
       "        vertical-align: top;\n",
       "    }\n",
       "\n",
       "    .dataframe thead th {\n",
       "        text-align: right;\n",
       "    }\n",
       "</style>\n",
       "<table border=\"1\" class=\"dataframe\">\n",
       "  <thead>\n",
       "    <tr style=\"text-align: right;\">\n",
       "      <th></th>\n",
       "      <th>survived</th>\n",
       "      <th>pclass</th>\n",
       "      <th>age in days</th>\n",
       "      <th>sibsp</th>\n",
       "      <th>parch</th>\n",
       "      <th>fare</th>\n",
       "      <th>adult_male</th>\n",
       "      <th>alone</th>\n",
       "    </tr>\n",
       "  </thead>\n",
       "  <tbody>\n",
       "    <tr>\n",
       "      <th>survived</th>\n",
       "      <td>1.000000</td>\n",
       "      <td>-0.035825</td>\n",
       "      <td>-0.228300</td>\n",
       "      <td>0.128490</td>\n",
       "      <td>0.034105</td>\n",
       "      <td>0.125201</td>\n",
       "      <td>-0.593645</td>\n",
       "      <td>-0.153602</td>\n",
       "    </tr>\n",
       "    <tr>\n",
       "      <th>pclass</th>\n",
       "      <td>-0.035825</td>\n",
       "      <td>1.000000</td>\n",
       "      <td>-0.284765</td>\n",
       "      <td>-0.085525</td>\n",
       "      <td>0.057333</td>\n",
       "      <td>-0.313060</td>\n",
       "      <td>-0.121974</td>\n",
       "      <td>0.050299</td>\n",
       "    </tr>\n",
       "    <tr>\n",
       "      <th>age in days</th>\n",
       "      <td>-0.228300</td>\n",
       "      <td>-0.284765</td>\n",
       "      <td>1.000000</td>\n",
       "      <td>-0.155296</td>\n",
       "      <td>-0.268099</td>\n",
       "      <td>-0.087333</td>\n",
       "      <td>0.308724</td>\n",
       "      <td>0.200633</td>\n",
       "    </tr>\n",
       "    <tr>\n",
       "      <th>sibsp</th>\n",
       "      <td>0.128490</td>\n",
       "      <td>-0.085525</td>\n",
       "      <td>-0.155296</td>\n",
       "      <td>1.000000</td>\n",
       "      <td>0.263890</td>\n",
       "      <td>0.289365</td>\n",
       "      <td>-0.186570</td>\n",
       "      <td>-0.648974</td>\n",
       "    </tr>\n",
       "    <tr>\n",
       "      <th>parch</th>\n",
       "      <td>0.034105</td>\n",
       "      <td>0.057333</td>\n",
       "      <td>-0.268099</td>\n",
       "      <td>0.263890</td>\n",
       "      <td>1.000000</td>\n",
       "      <td>0.382977</td>\n",
       "      <td>-0.194636</td>\n",
       "      <td>-0.552732</td>\n",
       "    </tr>\n",
       "    <tr>\n",
       "      <th>fare</th>\n",
       "      <td>0.125201</td>\n",
       "      <td>-0.313060</td>\n",
       "      <td>-0.087333</td>\n",
       "      <td>0.289365</td>\n",
       "      <td>0.382977</td>\n",
       "      <td>1.000000</td>\n",
       "      <td>-0.124438</td>\n",
       "      <td>-0.302695</td>\n",
       "    </tr>\n",
       "    <tr>\n",
       "      <th>adult_male</th>\n",
       "      <td>-0.593645</td>\n",
       "      <td>-0.121974</td>\n",
       "      <td>0.308724</td>\n",
       "      <td>-0.186570</td>\n",
       "      <td>-0.194636</td>\n",
       "      <td>-0.124438</td>\n",
       "      <td>1.000000</td>\n",
       "      <td>0.250123</td>\n",
       "    </tr>\n",
       "    <tr>\n",
       "      <th>alone</th>\n",
       "      <td>-0.153602</td>\n",
       "      <td>0.050299</td>\n",
       "      <td>0.200633</td>\n",
       "      <td>-0.648974</td>\n",
       "      <td>-0.552732</td>\n",
       "      <td>-0.302695</td>\n",
       "      <td>0.250123</td>\n",
       "      <td>1.000000</td>\n",
       "    </tr>\n",
       "  </tbody>\n",
       "</table>\n",
       "</div>"
      ],
      "text/plain": [
       "             survived    pclass  age in days     sibsp     parch      fare  \\\n",
       "survived     1.000000 -0.035825    -0.228300  0.128490  0.034105  0.125201   \n",
       "pclass      -0.035825  1.000000    -0.284765 -0.085525  0.057333 -0.313060   \n",
       "age in days -0.228300 -0.284765     1.000000 -0.155296 -0.268099 -0.087333   \n",
       "sibsp        0.128490 -0.085525    -0.155296  1.000000  0.263890  0.289365   \n",
       "parch        0.034105  0.057333    -0.268099  0.263890  1.000000  0.382977   \n",
       "fare         0.125201 -0.313060    -0.087333  0.289365  0.382977  1.000000   \n",
       "adult_male  -0.593645 -0.121974     0.308724 -0.186570 -0.194636 -0.124438   \n",
       "alone       -0.153602  0.050299     0.200633 -0.648974 -0.552732 -0.302695   \n",
       "\n",
       "             adult_male     alone  \n",
       "survived      -0.593645 -0.153602  \n",
       "pclass        -0.121974  0.050299  \n",
       "age in days    0.308724  0.200633  \n",
       "sibsp         -0.186570 -0.648974  \n",
       "parch         -0.194636 -0.552732  \n",
       "fare          -0.124438 -0.302695  \n",
       "adult_male     1.000000  0.250123  \n",
       "alone          0.250123  1.000000  "
      ]
     },
     "execution_count": 410,
     "metadata": {},
     "output_type": "execute_result"
    }
   ],
   "source": [
    "cor_df_furn = sh1.corr()\n",
    "cor_df_furn"
   ]
  },
  {
   "cell_type": "code",
   "execution_count": 438,
   "metadata": {},
   "outputs": [
    {
     "data": {
      "text/plain": [
       "[Text(0.5, 1.0, 'Corelation between all columns to dataframe')]"
      ]
     },
     "execution_count": 438,
     "metadata": {},
     "output_type": "execute_result"
    },
    {
     "data": {
      "image/png": "[encoded data removed]",
      "text/plain": [
       "<Figure size 432x288 with 2 Axes>"
      ]
     },
     "metadata": {},
     "output_type": "display_data"
    }
   ],
   "source": [
    "sns.heatmap(cor_df_furn,annot= True).set(title='Corelation between all columns to dataframe')"
   ]
  },
  {
   "cell_type": "code",
   "execution_count": 412,
   "metadata": {},
   "outputs": [
    {
     "data": {
      "text/plain": [
       "<AxesSubplot:xlabel='age in days', ylabel='fare'>"
      ]
     },
     "execution_count": 412,
     "metadata": {},
     "output_type": "execute_result"
    },
    {
     "data": {
      "image/png": "[encoded data removed]",
      "text/plain": [
       "<Figure size 432x288 with 1 Axes>"
      ]
     },
     "metadata": {},
     "output_type": "display_data"
    }
   ],
   "source": [
    "sns.lineplot(x='age in days',y='fare',hue='who',data= sh1)"
   ]
  },
  {
   "cell_type": "code",
   "execution_count": 413,
   "metadata": {},
   "outputs": [
    {
     "ename": "ValueError",
     "evalue": "Mime type rendering requires nbformat>=4.2.0 but it is not installed",
     "output_type": "error",
     "traceback": [
      "\u001b[1;31m---------------------------------------------------------------------------\u001b[0m",
      "\u001b[1;31mValueError\u001b[0m                                Traceback (most recent call last)",
      "File \u001b[1;32mc:\\Users\\Administrator\\AppData\\Local\\Programs\\Python\\Python310\\lib\\site-packages\\IPython\\core\\formatters.py:921\u001b[0m, in \u001b[0;36mIPythonDisplayFormatter.__call__\u001b[1;34m(self, obj)\u001b[0m\n\u001b[0;32m    919\u001b[0m method \u001b[39m=\u001b[39m get_real_method(obj, \u001b[39mself\u001b[39m\u001b[39m.\u001b[39mprint_method)\n\u001b[0;32m    920\u001b[0m \u001b[39mif\u001b[39;00m method \u001b[39mis\u001b[39;00m \u001b[39mnot\u001b[39;00m \u001b[39mNone\u001b[39;00m:\n\u001b[1;32m--> 921\u001b[0m     method()\n\u001b[0;32m    922\u001b[0m     \u001b[39mreturn\u001b[39;00m \u001b[39mTrue\u001b[39;00m\n",
      "File \u001b[1;32mc:\\Users\\Administrator\\AppData\\Local\\Programs\\Python\\Python310\\lib\\site-packages\\plotly\\basedatatypes.py:842\u001b[0m, in \u001b[0;36mBaseFigure._ipython_display_\u001b[1;34m(self)\u001b[0m\n\u001b[0;32m    839\u001b[0m \u001b[39mimport\u001b[39;00m \u001b[39mplotly\u001b[39;00m\u001b[39m.\u001b[39;00m\u001b[39mio\u001b[39;00m \u001b[39mas\u001b[39;00m \u001b[39mpio\u001b[39;00m\n\u001b[0;32m    841\u001b[0m \u001b[39mif\u001b[39;00m pio\u001b[39m.\u001b[39mrenderers\u001b[39m.\u001b[39mrender_on_display \u001b[39mand\u001b[39;00m pio\u001b[39m.\u001b[39mrenderers\u001b[39m.\u001b[39mdefault:\n\u001b[1;32m--> 842\u001b[0m     pio\u001b[39m.\u001b[39;49mshow(\u001b[39mself\u001b[39;49m)\n\u001b[0;32m    843\u001b[0m \u001b[39melse\u001b[39;00m:\n\u001b[0;32m    844\u001b[0m     \u001b[39mprint\u001b[39m(\u001b[39mrepr\u001b[39m(\u001b[39mself\u001b[39m))\n",
      "File \u001b[1;32mc:\\Users\\Administrator\\AppData\\Local\\Programs\\Python\\Python310\\lib\\site-packages\\plotly\\io\\_renderers.py:396\u001b[0m, in \u001b[0;36mshow\u001b[1;34m(fig, renderer, validate, **kwargs)\u001b[0m\n\u001b[0;32m    391\u001b[0m         \u001b[39mraise\u001b[39;00m \u001b[39mValueError\u001b[39;00m(\n\u001b[0;32m    392\u001b[0m             \u001b[39m\"\u001b[39m\u001b[39mMime type rendering requires ipython but it is not installed\u001b[39m\u001b[39m\"\u001b[39m\n\u001b[0;32m    393\u001b[0m         )\n\u001b[0;32m    395\u001b[0m     \u001b[39mif\u001b[39;00m \u001b[39mnot\u001b[39;00m nbformat \u001b[39mor\u001b[39;00m LooseVersion(nbformat\u001b[39m.\u001b[39m__version__) \u001b[39m<\u001b[39m LooseVersion(\u001b[39m\"\u001b[39m\u001b[39m4.2.0\u001b[39m\u001b[39m\"\u001b[39m):\n\u001b[1;32m--> 396\u001b[0m         \u001b[39mraise\u001b[39;00m \u001b[39mValueError\u001b[39;00m(\n\u001b[0;32m    397\u001b[0m             \u001b[39m\"\u001b[39m\u001b[39mMime type rendering requires nbformat>=4.2.0 but it is not installed\u001b[39m\u001b[39m\"\u001b[39m\n\u001b[0;32m    398\u001b[0m         )\n\u001b[0;32m    400\u001b[0m     ipython_display\u001b[39m.\u001b[39mdisplay(bundle, raw\u001b[39m=\u001b[39m\u001b[39mTrue\u001b[39;00m)\n\u001b[0;32m    402\u001b[0m \u001b[39m# external renderers\u001b[39;00m\n",
      "\u001b[1;31mValueError\u001b[0m: Mime type rendering requires nbformat>=4.2.0 but it is not installed"
     ]
    },
    {
     "data": {
      "application/vnd.plotly.v1+json": {
       "config": {
        "plotlyServerURL": "https://plot.ly"
       },
       "data": [
        {
         "alignmentgroup": "True",
         "bingroup": "x",
         "histfunc": "sum",
         "hovertemplate": "who=woman<br>age in days=%{x}<br>sum of fare=%{y}<extra></extra>",
         "legendgroup": "woman",
         "marker": {
          "color": "#636efa",
          "pattern": {
           "shape": ""
          }
         },
         "name": "woman",
         "offsetgroup": "woman",
         "orientation": "v",
         "showlegend": true,
         "type": "histogram",
         "x": [
          0.475,
          0.4375,
          0.725,
          0.44722602739726025,
          0.6125,
          0.475,
          0.3625,
          0.2875,
          0.40623287671232877,
          0.44722602739726025,
          0.2375,
          0.275,
          0.44722602739726025,
          0.625,
          0.55,
          0.725,
          0.3875,
          0.4,
          0.4375,
          0.3625,
          0.375,
          0.725,
          0.4375,
          0.7875,
          0.2375,
          0.625,
          0.44722602739726025,
          0.2125,
          0.375,
          0.3,
          0.225,
          0.3875,
          0.5,
          0.45,
          0.45,
          0.2,
          0.5125,
          0.3,
          0.3,
          0.275,
          0.75,
          0.3,
          0.2875,
          0.3,
          0.4125,
          0.44722602739726025,
          0.2875,
          0.4375,
          0.675,
          0.3125,
          0.2,
          0.425,
          0.375,
          0.55,
          0.275,
          0.45,
          0.6,
          0.4875,
          0.6625,
          0.4875,
          0.4875,
          0.225,
          0.65,
          0.5,
          0.2625,
          0.3,
          0.44722602739726025,
          0.225,
          0.3,
          0.475,
          0.3375,
          0.3625,
          0.2625,
          0.4125,
          0.45,
          0.6375,
          0.7125,
          0.5375,
          0.2125,
          0.6125,
          0.4125,
          0.65,
          0.3375,
          0.775,
          0.4875,
          0.44722602739726025,
          0.2,
          0.6,
          0.5875,
          0.7,
          0.2375
         ],
         "xaxis": "x",
         "y": [
          0.13913573538264068,
          0.10364429745562033,
          0.051822148727810165,
          0.2859895551532101,
          0.1497654242623688,
          0.15614960068643363,
          0.020494635090094415,
          0.5133418122566505,
          0.025374310111545468,
          0.04364049521284361,
          0.051301584996521765,
          0.12999454257145598,
          0.10735285047192313,
          0.05604306762136532,
          0.05410739813385612,
          0.2859895551532101,
          0.22109807522194713,
          0.14891148113361488,
          0.16293234896625058,
          0.02042143996477265,
          0.16883675574220638,
          0.2995388511917728,
          0.2647385704347907,
          0.15216446768991498,
          0.17777475888549785,
          0.4831284260198326,
          0.024105594605968193,
          0.2125586439344078,
          0.11111839809247648,
          0.16231419173453318,
          0.5121218935012878,
          0.32179836714362564,
          0.2625265161540666,
          0.2647385704347907,
          0.025374310111545468,
          0.11316786160148591,
          0.2625265161540666,
          0.5133418122566505,
          0.025374310111545468,
          0.10735285047192313,
          0.14687821814567664,
          0.13526459159462315,
          0.22109807522194713,
          0.03259622914329302,
          0.17566830077223786,
          0.10122885832000206,
          0.026919605597338588,
          0.17566830077223786,
          0.1527664244005612,
          0.29580589980036276,
          0.16883675574220638,
          0.020494635090094415,
          0.18249984580226933,
          0.11316786160148591,
          0.09661756542473081,
          0.13858277060920984,
          0.07729405233978466,
          0.1554664461834305,
          0.10048070654571319,
          0.1091095334796455,
          0.21642978772242535,
          0.1554664461834305,
          0.1527664244005612,
          0.2995388511917728,
          0.15216446768991498,
          0.13526459159462315,
          0.10149724044618187,
          0.4440992237022602,
          0.09662576327876685,
          0.4440992237022602,
          0.020494635090094415,
          0.41250332793836464,
          0.5121218935012878,
          0.16883675574220638,
          0.23422440102965045,
          0.15216446768991498,
          0.020494635090094415,
          0.41250332793836464,
          0.11125659048908397,
          0.050610427826483444,
          0.10364429745562033,
          0.18249984580226933,
          0.024349578357040744,
          0.15614960068643363,
          0.16231419173453318,
          0.17391981561855152,
          0.07690367833806856,
          0.050610427826483444,
          0.10257896680493714,
          0.16231419173453318,
          0.05855610025741261
         ],
         "yaxis": "y"
        },
        {
         "alignmentgroup": "True",
         "boxpoints": "all",
         "customdata": [
          [
           1,
           1,
           "female",
           1,
           0,
           "C",
           "First",
           "woman",
           false,
           "C",
           "yes",
           false
          ],
          [
           1,
           1,
           "female",
           1,
           0,
           "S",
           "First",
           "woman",
           false,
           "C",
           "yes",
           false
          ],
          [
           1,
           1,
           "female",
           0,
           0,
           "S",
           "First",
           "woman",
           false,
           "C",
           "yes",
           true
          ],
          [
           1,
           1,
           "female",
           1,
           0,
           "C",
           "First",
           "woman",
           false,
           "B",
           "yes",
           false
          ],
          [
           1,
           1,
           "female",
           1,
           0,
           "C",
           "First",
           "woman",
           false,
           "D",
           "yes",
           false
          ],
          [
           1,
           1,
           "female",
           0,
           0,
           null,
           "First",
           "woman",
           false,
           "B",
           "yes",
           true
          ],
          [
           1,
           2,
           "female",
           0,
           0,
           "S",
           "Second",
           "woman",
           false,
           "F",
           "yes",
           true
          ],
          [
           1,
           1,
           "female",
           3,
           2,
           "S",
           "First",
           "woman",
           false,
           "C",
           "yes",
           false
          ],
          [
           1,
           2,
           "female",
           0,
           0,
           "S",
           "Second",
           "woman",
           false,
           "E",
           "yes",
           true
          ],
          [
           1,
           3,
           "female",
           1,
           1,
           "C",
           "Third",
           "woman",
           false,
           "F",
           "yes",
           false
          ],
          [
           1,
           1,
           "female",
           0,
           2,
           "S",
           "First",
           "woman",
           false,
           "D",
           "yes",
           false
          ],
          [
           1,
           1,
           "female",
           1,
           0,
           "S",
           "First",
           "woman",
           false,
           "C",
           "yes",
           false
          ],
          [
           1,
           1,
           "female",
           0,
           1,
           "S",
           "First",
           "woman",
           false,
           "E",
           "yes",
           false
          ],
          [
           0,
           1,
           "female",
           0,
           0,
           "C",
           "First",
           "woman",
           false,
           "C",
           "no",
           true
          ],
          [
           1,
           1,
           "female",
           0,
           0,
           "C",
           "First",
           "woman",
           false,
           "B",
           "yes",
           true
          ],
          [
           1,
           1,
           "female",
           0,
           0,
           "C",
           "First",
           "woman",
           false,
           "B",
           "yes",
           true
          ],
          [
           1,
           1,
           "female",
           1,
           0,
           "C",
           "First",
           "woman",
           false,
           "D",
           "yes",
           false
          ],
          [
           1,
           1,
           "female",
           0,
           0,
           "C",
           "First",
           "woman",
           false,
           "D",
           "yes",
           true
          ],
          [
           1,
           1,
           "female",
           1,
           0,
           "S",
           "First",
           "woman",
           false,
           "C",
           "yes",
           false
          ],
          [
           0,
           3,
           "female",
           1,
           1,
           "S",
           "Third",
           "woman",
           false,
           "G",
           "no",
           false
          ],
          [
           1,
           1,
           "female",
           0,
           0,
           "S",
           "First",
           "woman",
           false,
           "B",
           "yes",
           true
          ],
          [
           1,
           1,
           "female",
           0,
           1,
           "S",
           "First",
           "woman",
           false,
           "C",
           "yes",
           false
          ],
          [
           1,
           1,
           "female",
           0,
           0,
           "S",
           "First",
           "woman",
           false,
           "C",
           "yes",
           true
          ],
          [
           1,
           1,
           "female",
           1,
           0,
           "S",
           "First",
           "woman",
           false,
           "D",
           "yes",
           false
          ],
          [
           1,
           1,
           "female",
           1,
           0,
           "C",
           "First",
           "woman",
           false,
           "B",
           "yes",
           false
          ],
          [
           1,
           1,
           "female",
           0,
           1,
           "C",
           "First",
           "woman",
           false,
           "B",
           "yes",
           false
          ],
          [
           1,
           2,
           "female",
           0,
           0,
           "Q",
           "Second",
           "woman",
           false,
           "E",
           "yes",
           true
          ],
          [
           1,
           1,
           "female",
           1,
           0,
           "C",
           "First",
           "woman",
           false,
           "C",
           "yes",
           false
          ],
          [
           1,
           1,
           "female",
           0,
           0,
           "C",
           "First",
           "woman",
           false,
           "E",
           "yes",
           true
          ],
          [
           1,
           1,
           "female",
           0,
           0,
           "C",
           "First",
           "woman",
           false,
           "C",
           "yes",
           true
          ],
          [
           1,
           1,
           "female",
           2,
           2,
           "C",
           "First",
           "woman",
           false,
           "B",
           "yes",
           false
          ],
          [
           1,
           1,
           "female",
           0,
           2,
           "S",
           "First",
           "woman",
           false,
           "C",
           "yes",
           false
          ],
          [
           1,
           1,
           "female",
           1,
           1,
           "C",
           "First",
           "woman",
           false,
           "E",
           "yes",
           false
          ],
          [
           1,
           1,
           "female",
           0,
           0,
           "C",
           "First",
           "woman",
           false,
           "C",
           "yes",
           true
          ],
          [
           1,
           2,
           "female",
           0,
           0,
           "S",
           "Second",
           "woman",
           false,
           "D",
           "yes",
           true
          ],
          [
           1,
           1,
           "female",
           0,
           1,
           "C",
           "First",
           "woman",
           false,
           "B",
           "yes",
           false
          ],
          [
           1,
           1,
           "female",
           0,
           0,
           "C",
           "First",
           "woman",
           false,
           "E",
           "yes",
           true
          ],
          [
           1,
           1,
           "female",
           3,
           2,
           "S",
           "First",
           "woman",
           false,
           "C",
           "yes",
           false
          ],
          [
           1,
           2,
           "female",
           0,
           0,
           "S",
           "Second",
           "woman",
           false,
           "F",
           "yes",
           true
          ],
          [
           1,
           1,
           "female",
           0,
           1,
           "S",
           "First",
           "woman",
           false,
           "E",
           "yes",
           false
          ],
          [
           1,
           1,
           "female",
           1,
           0,
           "C",
           "First",
           "woman",
           false,
           "D",
           "yes",
           false
          ],
          [
           1,
           1,
           "female",
           0,
           0,
           "C",
           "First",
           "woman",
           false,
           "B",
           "yes",
           true
          ],
          [
           1,
           1,
           "female",
           1,
           0,
           "C",
           "First",
           "woman",
           false,
           "D",
           "yes",
           false
          ],
          [
           1,
           3,
           "female",
           0,
           2,
           "S",
           "Third",
           "woman",
           false,
           "G",
           "yes",
           false
          ],
          [
           1,
           1,
           "female",
           1,
           0,
           "Q",
           "First",
           "woman",
           false,
           "C",
           "yes",
           false
          ],
          [
           1,
           1,
           "female",
           1,
           0,
           "S",
           "First",
           "woman",
           false,
           "D",
           "yes",
           false
          ],
          [
           1,
           2,
           "female",
           0,
           0,
           "C",
           "Second",
           "woman",
           false,
           "D",
           "yes",
           true
          ],
          [
           1,
           1,
           "female",
           1,
           0,
           "S",
           "First",
           "woman",
           false,
           "C",
           "yes",
           false
          ],
          [
           1,
           1,
           "female",
           1,
           0,
           "C",
           "First",
           "woman",
           false,
           "D",
           "yes",
           false
          ],
          [
           0,
           1,
           "female",
           1,
           2,
           "S",
           "First",
           "woman",
           false,
           "C",
           "no",
           false
          ],
          [
           1,
           1,
           "female",
           0,
           0,
           "S",
           "First",
           "woman",
           false,
           "B",
           "yes",
           true
          ],
          [
           1,
           2,
           "female",
           0,
           0,
           "S",
           "Second",
           "woman",
           false,
           "F",
           "yes",
           true
          ],
          [
           1,
           1,
           "female",
           0,
           0,
           "S",
           "First",
           "woman",
           false,
           "B",
           "yes",
           true
          ],
          [
           1,
           1,
           "female",
           0,
           1,
           "C",
           "First",
           "woman",
           false,
           "B",
           "yes",
           false
          ],
          [
           1,
           1,
           "female",
           0,
           2,
           "C",
           "First",
           "woman",
           false,
           "B",
           "yes",
           false
          ],
          [
           1,
           1,
           "female",
           0,
           2,
           "S",
           "First",
           "woman",
           false,
           "B",
           "yes",
           false
          ],
          [
           1,
           1,
           "female",
           1,
           0,
           "C",
           "First",
           "woman",
           false,
           "A",
           "yes",
           false
          ],
          [
           1,
           1,
           "female",
           1,
           1,
           "S",
           "First",
           "woman",
           false,
           "E",
           "yes",
           false
          ],
          [
           1,
           1,
           "female",
           2,
           0,
           "S",
           "First",
           "woman",
           false,
           "C",
           "yes",
           false
          ],
          [
           1,
           1,
           "female",
           1,
           0,
           "S",
           "First",
           "woman",
           false,
           "E",
           "yes",
           false
          ],
          [
           1,
           1,
           "female",
           1,
           1,
           "C",
           "First",
           "woman",
           false,
           "C",
           "yes",
           false
          ],
          [
           1,
           1,
           "female",
           0,
           2,
           "S",
           "First",
           "woman",
           false,
           "E",
           "yes",
           false
          ],
          [
           1,
           1,
           "female",
           1,
           0,
           "C",
           "First",
           "woman",
           false,
           "D",
           "yes",
           false
          ],
          [
           1,
           1,
           "female",
           0,
           0,
           "S",
           "First",
           "woman",
           false,
           "C",
           "yes",
           true
          ],
          [
           1,
           1,
           "female",
           0,
           0,
           "S",
           "First",
           "woman",
           false,
           "D",
           "yes",
           true
          ],
          [
           1,
           1,
           "female",
           0,
           0,
           "C",
           "First",
           "woman",
           false,
           "B",
           "yes",
           true
          ],
          [
           1,
           1,
           "female",
           1,
           0,
           "S",
           "First",
           "woman",
           false,
           "C",
           "yes",
           false
          ],
          [
           1,
           1,
           "female",
           1,
           0,
           "C",
           "First",
           "woman",
           false,
           "C",
           "yes",
           false
          ],
          [
           1,
           1,
           "female",
           0,
           0,
           "C",
           "First",
           "woman",
           false,
           "C",
           "yes",
           true
          ],
          [
           1,
           1,
           "female",
           0,
           0,
           "C",
           "First",
           "woman",
           false,
           "C",
           "yes",
           true
          ],
          [
           1,
           2,
           "female",
           0,
           0,
           "S",
           "Second",
           "woman",
           false,
           "E",
           "yes",
           true
          ],
          [
           1,
           1,
           "female",
           0,
           0,
           "S",
           "First",
           "woman",
           false,
           "B",
           "yes",
           true
          ],
          [
           1,
           1,
           "female",
           2,
           2,
           "C",
           "First",
           "woman",
           false,
           "B",
           "yes",
           false
          ],
          [
           1,
           1,
           "female",
           0,
           0,
           "S",
           "First",
           "woman",
           false,
           "B",
           "yes",
           true
          ],
          [
           1,
           1,
           "female",
           1,
           2,
           "S",
           "First",
           "woman",
           false,
           "B",
           "yes",
           false
          ],
          [
           1,
           1,
           "female",
           1,
           0,
           "S",
           "First",
           "woman",
           false,
           "D",
           "yes",
           false
          ],
          [
           0,
           2,
           "female",
           0,
           0,
           "S",
           "Second",
           "woman",
           false,
           "E",
           "no",
           true
          ],
          [
           1,
           1,
           "female",
           0,
           1,
           "S",
           "First",
           "woman",
           false,
           "B",
           "yes",
           false
          ],
          [
           1,
           1,
           "female",
           1,
           0,
           "S",
           "First",
           "woman",
           false,
           "B",
           "yes",
           false
          ],
          [
           1,
           1,
           "female",
           0,
           0,
           "S",
           "First",
           "woman",
           false,
           "D",
           "yes",
           true
          ],
          [
           1,
           1,
           "female",
           1,
           0,
           "S",
           "First",
           "woman",
           false,
           "E",
           "yes",
           false
          ],
          [
           1,
           1,
           "female",
           1,
           1,
           "S",
           "First",
           "woman",
           false,
           "B",
           "yes",
           false
          ],
          [
           1,
           3,
           "female",
           0,
           1,
           "S",
           "Third",
           "woman",
           false,
           "E",
           "yes",
           false
          ],
          [
           1,
           1,
           "female",
           0,
           0,
           null,
           "First",
           "woman",
           false,
           "B",
           "yes",
           true
          ],
          [
           1,
           1,
           "female",
           1,
           1,
           "C",
           "First",
           "woman",
           false,
           "E",
           "yes",
           false
          ],
          [
           1,
           1,
           "female",
           1,
           0,
           "C",
           "First",
           "woman",
           false,
           "C",
           "yes",
           false
          ],
          [
           1,
           1,
           "female",
           0,
           1,
           "S",
           "First",
           "woman",
           false,
           "D",
           "yes",
           false
          ],
          [
           1,
           1,
           "female",
           0,
           0,
           "S",
           "First",
           "woman",
           false,
           "D",
           "yes",
           true
          ],
          [
           1,
           1,
           "female",
           1,
           1,
           "S",
           "First",
           "woman",
           false,
           "D",
           "yes",
           false
          ],
          [
           1,
           1,
           "female",
           0,
           1,
           "C",
           "First",
           "woman",
           false,
           "C",
           "yes",
           false
          ],
          [
           1,
           1,
           "female",
           0,
           0,
           "S",
           "First",
           "woman",
           false,
           "B",
           "yes",
           true
          ]
         ],
         "fillcolor": "rgba(255,255,255,0)",
         "hoveron": "points",
         "hovertemplate": "who=%{customdata[7]}<br>age in days=%{x}<br>survived=%{customdata[0]}<br>pclass=%{customdata[1]}<br>sex=%{customdata[2]}<br>sibsp=%{customdata[3]}<br>parch=%{customdata[4]}<br>embarked=%{customdata[5]}<br>class=%{customdata[6]}<br>adult_male=%{customdata[8]}<br>deck=%{customdata[9]}<br>alive=%{customdata[10]}<br>alone=%{customdata[11]}<extra></extra>",
         "jitter": 0,
         "legendgroup": "woman",
         "line": {
          "color": "rgba(255,255,255,0)"
         },
         "marker": {
          "color": "#636efa",
          "symbol": "line-ns-open"
         },
         "name": "woman",
         "offsetgroup": "woman",
         "showlegend": false,
         "type": "box",
         "x": [
          0.475,
          0.4375,
          0.725,
          0.44722602739726025,
          0.6125,
          0.475,
          0.3625,
          0.2875,
          0.40623287671232877,
          0.44722602739726025,
          0.2375,
          0.275,
          0.44722602739726025,
          0.625,
          0.55,
          0.725,
          0.3875,
          0.4,
          0.4375,
          0.3625,
          0.375,
          0.725,
          0.4375,
          0.7875,
          0.2375,
          0.625,
          0.44722602739726025,
          0.2125,
          0.375,
          0.3,
          0.225,
          0.3875,
          0.5,
          0.45,
          0.45,
          0.2,
          0.5125,
          0.3,
          0.3,
          0.275,
          0.75,
          0.3,
          0.2875,
          0.3,
          0.4125,
          0.44722602739726025,
          0.2875,
          0.4375,
          0.675,
          0.3125,
          0.2,
          0.425,
          0.375,
          0.55,
          0.275,
          0.45,
          0.6,
          0.4875,
          0.6625,
          0.4875,
          0.4875,
          0.225,
          0.65,
          0.5,
          0.2625,
          0.3,
          0.44722602739726025,
          0.225,
          0.3,
          0.475,
          0.3375,
          0.3625,
          0.2625,
          0.4125,
          0.45,
          0.6375,
          0.7125,
          0.5375,
          0.2125,
          0.6125,
          0.4125,
          0.65,
          0.3375,
          0.775,
          0.4875,
          0.44722602739726025,
          0.2,
          0.6,
          0.5875,
          0.7,
          0.2375
         ],
         "xaxis": "x2",
         "yaxis": "y2"
        },
        {
         "alignmentgroup": "True",
         "bingroup": "x",
         "histfunc": "sum",
         "hovertemplate": "who=man<br>age in days=%{x}<br>sum of fare=%{y}<extra></extra>",
         "legendgroup": "man",
         "marker": {
          "color": "#EF553B",
          "pattern": {
           "shape": ""
          }
         },
         "name": "man",
         "offsetgroup": "man",
         "orientation": "v",
         "showlegend": true,
         "type": "histogram",
         "x": [
          0.675,
          0.425,
          0.35,
          0.2375,
          0.8125,
          0.44722602739726025,
          0.5625,
          0.3125,
          0.575,
          0.8875,
          0.2875,
          0.2625,
          0.5875,
          0.3,
          0.675,
          0.4625,
          0.3,
          0.45623287671232876,
          0.7625,
          0.7,
          0.44722602739726025,
          0.5,
          0.475,
          0.55,
          0.4625,
          0.775,
          0.65,
          0.5,
          0.4625,
          0.44722602739726025,
          0.45,
          0.44722602739726025,
          0.5687328767123287,
          0.475,
          0.3625,
          0.44722602739726025,
          0.3125,
          0.3375,
          0.45,
          0.4,
          0.35,
          0.625,
          0.8,
          0.65,
          0.375,
          0.6125,
          0.8125,
          0.6,
          0.5875,
          0.44722602739726025,
          0.3125,
          0.725,
          0.6875,
          0.225,
          0.45,
          0.5875,
          0.44722602739726025,
          0.5625,
          0.625,
          0.2125,
          0.45,
          0.45,
          0.75,
          0.6125,
          0.525,
          0.7625,
          1,
          0.4,
          0.6,
          0.7,
          0.725,
          0.5875,
          0.3875,
          0.45,
          0.3375,
          0.3875,
          0.6125,
          0.525,
          0.4375,
          0.525,
          0.44722602739726025,
          0.6,
          0.2375,
          0.3375,
          0.4375,
          0.44722602739726025,
          0.45,
          0.875,
          0.2375,
          0.44722602739726025,
          0.3625,
          0.575,
          0.4875,
          0.44722602739726025,
          0.44722602739726025,
          0.6375,
          0.3875,
          0.4125,
          0.325
         ],
         "xaxis": "x",
         "y": [
          0.10122885832000206,
          0.025374310111545468,
          0.06929138530460492,
          0.5133418122566505,
          0.1209753416358076,
          0.06929138530460492,
          0.16293234896625058,
          0.014931805565640218,
          0.11940564777490723,
          0.06764049365134761,
          0.12366716556464086,
          0.15085515328815924,
          0.10149724044618187,
          0.4831284260198326,
          0.15085515328815924,
          0.10364429745562033,
          0.15458810467956932,
          0.050748620223090936,
          0.06538764528744409,
          0.05991421140938287,
          0.09759350042902103,
          0.060507970265993034,
          0.17566830077223786,
          0.17566830077223786,
          0.10257896680493714,
          0.051822148727810165,
          0.1554664461834305,
          0,
          0.057970539254838485,
          0.050748620223090936,
          0.025130326360472913,
          0.05953203526170282,
          0.055628295244541985,
          0.2995388511917728,
          0.12999454257145598,
          0.06831545030031472,
          0.1082149914547131,
          0.41282050681475896,
          0.23422440102965045,
          0.015712553569072387,
          0.051822148727810165,
          0.1091095334796455,
          0.5133418122566505,
          0.05953203526170282,
          0.05416439273810667,
          0.17391981561855152,
          0.051822148727810165,
          0.051822148727810165,
          0.07514699533034619,
          0.10149724044618187,
          0.17777475888549785,
          0.057970539254838485,
          0.05953203526170282,
          0.2125586439344078,
          0.05130978285055781,
          0.06640417918791278,
          0.4328841690069588,
          0.051822148727810165,
          0.20772776566317125,
          0.21642978772242535,
          0.051504969851415845,
          0.07831878409428937,
          0.15458810467956932,
          0.11111839809247648,
          0.10257896680493714,
          0.06308600017332605,
          0.05855610025741261,
          0.05953203526170282,
          0.1497654242623688,
          0.06929138530460492,
          0.22109807522194713,
          0.04994347384455151,
          0.10149724044618187,
          1,
          0.1497654242623688,
          0.11125659048908397,
          0.21642978772242535,
          0.014931805565640218,
          0.05130978285055781,
          0.05130978285055781,
          0.051822148727810165,
          0.10149724044618187,
          0.014931805565640218,
          0.10364429745562033,
          1,
          0.05855610025741261,
          0.15390495017656614,
          0.13858277060920984,
          0.10364429745562033,
          0.015126992566498259,
          0.05855610025741261,
          0.15458810467956932,
          0,
          0,
          0.057970539254838485,
          0.051822148727810165,
          0.09856123757927521,
          0.009759350042902102,
          0.05855610025741261
         ],
         "yaxis": "y"
        },
        {
         "alignmentgroup": "True",
         "boxpoints": "all",
         "customdata": [
          [
           0,
           1,
           "male",
           0,
           0,
           "S",
           "First",
           "man",
           true,
           "E",
           "no",
           true
          ],
          [
           1,
           2,
           "male",
           0,
           0,
           "S",
           "Second",
           "man",
           true,
           "D",
           "yes",
           true
          ],
          [
           1,
           1,
           "male",
           0,
           0,
           "S",
           "First",
           "man",
           true,
           "A",
           "yes",
           true
          ],
          [
           0,
           1,
           "male",
           3,
           2,
           "S",
           "First",
           "man",
           true,
           "C",
           "no",
           false
          ],
          [
           0,
           1,
           "male",
           0,
           1,
           "C",
           "First",
           "man",
           true,
           "B",
           "no",
           false
          ],
          [
           1,
           1,
           "male",
           0,
           0,
           "S",
           "First",
           "man",
           true,
           "C",
           "yes",
           true
          ],
          [
           0,
           1,
           "male",
           1,
           0,
           "S",
           "First",
           "man",
           true,
           "C",
           "no",
           false
          ],
          [
           0,
           3,
           "male",
           0,
           0,
           "S",
           "Third",
           "man",
           true,
           "F",
           "no",
           true
          ],
          [
           0,
           1,
           "male",
           1,
           0,
           "S",
           "First",
           "man",
           true,
           "E",
           "no",
           false
          ],
          [
           0,
           1,
           "male",
           0,
           0,
           "C",
           "First",
           "man",
           true,
           "A",
           "no",
           true
          ],
          [
           1,
           1,
           "male",
           0,
           1,
           "C",
           "First",
           "man",
           true,
           "D",
           "yes",
           false
          ],
          [
           0,
           1,
           "male",
           0,
           1,
           "S",
           "First",
           "man",
           true,
           "D",
           "no",
           false
          ],
          [
           0,
           1,
           "male",
           0,
           0,
           "S",
           "First",
           "man",
           true,
           "C",
           "no",
           true
          ],
          [
           0,
           1,
           "male",
           0,
           1,
           "C",
           "First",
           "man",
           true,
           "B",
           "no",
           false
          ],
          [
           0,
           1,
           "male",
           0,
           1,
           "S",
           "First",
           "man",
           true,
           "D",
           "no",
           false
          ],
          [
           0,
           1,
           "male",
           1,
           0,
           "S",
           "First",
           "man",
           true,
           "C",
           "no",
           false
          ],
          [
           0,
           1,
           "male",
           0,
           0,
           "C",
           "First",
           "man",
           true,
           "B",
           "no",
           true
          ],
          [
           0,
           2,
           "male",
           0,
           2,
           "S",
           "Second",
           "man",
           true,
           "F",
           "no",
           false
          ],
          [
           0,
           1,
           "male",
           0,
           0,
           "S",
           "First",
           "man",
           true,
           "B",
           "no",
           true
          ],
          [
           0,
           1,
           "male",
           0,
           0,
           "C",
           "First",
           "man",
           true,
           "A",
           "no",
           true
          ],
          [
           0,
           1,
           "male",
           0,
           0,
           "S",
           "First",
           "man",
           true,
           "A",
           "no",
           true
          ],
          [
           1,
           1,
           "male",
           0,
           0,
           "C",
           "First",
           "man",
           true,
           "A",
           "yes",
           true
          ],
          [
           1,
           1,
           "male",
           1,
           0,
           "S",
           "First",
           "man",
           true,
           "C",
           "yes",
           false
          ],
          [
           0,
           1,
           "male",
           2,
           0,
           "Q",
           "First",
           "man",
           true,
           "C",
           "no",
           false
          ],
          [
           1,
           1,
           "male",
           1,
           1,
           "S",
           "First",
           "man",
           true,
           "D",
           "yes",
           false
          ],
          [
           0,
           1,
           "male",
           0,
           0,
           "S",
           "First",
           "man",
           true,
           "C",
           "no",
           true
          ],
          [
           0,
           1,
           "male",
           1,
           1,
           "S",
           "First",
           "man",
           true,
           "E",
           "no",
           false
          ],
          [
           0,
           1,
           "male",
           0,
           0,
           "S",
           "First",
           "man",
           true,
           "B",
           "no",
           true
          ],
          [
           0,
           1,
           "male",
           0,
           1,
           "C",
           "First",
           "man",
           true,
           "C",
           "no",
           false
          ],
          [
           0,
           1,
           "male",
           0,
           0,
           "S",
           "First",
           "man",
           true,
           "A",
           "no",
           true
          ],
          [
           0,
           2,
           "male",
           0,
           0,
           "C",
           "Second",
           "man",
           true,
           "D",
           "no",
           true
          ],
          [
           1,
           1,
           "male",
           0,
           0,
           "S",
           "First",
           "man",
           true,
           "C",
           "yes",
           true
          ],
          [
           0,
           1,
           "male",
           0,
           0,
           "S",
           "First",
           "man",
           true,
           "C",
           "no",
           true
          ],
          [
           0,
           1,
           "male",
           0,
           1,
           "S",
           "First",
           "man",
           true,
           "C",
           "no",
           false
          ],
          [
           0,
           1,
           "male",
           1,
           0,
           "S",
           "First",
           "man",
           true,
           "C",
           "no",
           false
          ],
          [
           0,
           1,
           "male",
           0,
           0,
           "S",
           "First",
           "man",
           true,
           "C",
           "no",
           true
          ],
          [
           1,
           1,
           "male",
           1,
           0,
           "C",
           "First",
           "man",
           true,
           "E",
           "yes",
           false
          ],
          [
           0,
           1,
           "male",
           0,
           2,
           "C",
           "First",
           "man",
           true,
           "C",
           "no",
           false
          ],
          [
           1,
           1,
           "male",
           1,
           2,
           "S",
           "First",
           "man",
           true,
           "B",
           "yes",
           false
          ],
          [
           1,
           3,
           "male",
           0,
           0,
           "S",
           "Third",
           "man",
           true,
           "E",
           "yes",
           true
          ],
          [
           1,
           1,
           "male",
           0,
           0,
           "S",
           "First",
           "man",
           true,
           "C",
           "yes",
           true
          ],
          [
           0,
           1,
           "male",
           1,
           0,
           "S",
           "First",
           "man",
           true,
           "E",
           "no",
           false
          ],
          [
           0,
           1,
           "male",
           1,
           4,
           "S",
           "First",
           "man",
           true,
           "C",
           "no",
           false
          ],
          [
           1,
           1,
           "male",
           0,
           0,
           "S",
           "First",
           "man",
           true,
           "C",
           "yes",
           true
          ],
          [
           0,
           1,
           "male",
           0,
           0,
           "C",
           "First",
           "man",
           true,
           "C",
           "no",
           true
          ],
          [
           1,
           1,
           "male",
           1,
           0,
           "C",
           "First",
           "man",
           true,
           "C",
           "yes",
           false
          ],
          [
           0,
           1,
           "male",
           0,
           0,
           "S",
           "First",
           "man",
           true,
           "E",
           "no",
           true
          ],
          [
           1,
           1,
           "male",
           0,
           0,
           "S",
           "First",
           "man",
           true,
           "E",
           "yes",
           true
          ],
          [
           0,
           1,
           "male",
           0,
           0,
           "S",
           "First",
           "man",
           true,
           "E",
           "no",
           true
          ],
          [
           0,
           1,
           "male",
           0,
           0,
           "S",
           "First",
           "man",
           true,
           "A",
           "no",
           true
          ],
          [
           1,
           1,
           "male",
           1,
           0,
           "C",
           "First",
           "man",
           true,
           "B",
           "yes",
           false
          ],
          [
           0,
           1,
           "male",
           0,
           0,
           "C",
           "First",
           "man",
           true,
           "B",
           "no",
           true
          ],
          [
           0,
           1,
           "male",
           0,
           0,
           "S",
           "First",
           "man",
           true,
           "C",
           "no",
           true
          ],
          [
           0,
           1,
           "male",
           1,
           0,
           "C",
           "First",
           "man",
           true,
           "C",
           "no",
           false
          ],
          [
           1,
           1,
           "male",
           0,
           0,
           "S",
           "First",
           "man",
           true,
           "E",
           "yes",
           true
          ],
          [
           0,
           1,
           "male",
           0,
           0,
           "S",
           "First",
           "man",
           true,
           "D",
           "no",
           true
          ],
          [
           0,
           1,
           "male",
           0,
           0,
           "S",
           "First",
           "man",
           true,
           "C",
           "no",
           true
          ],
          [
           0,
           1,
           "male",
           0,
           0,
           "S",
           "First",
           "man",
           true,
           "B",
           "no",
           true
          ],
          [
           0,
           1,
           "male",
           1,
           0,
           "C",
           "First",
           "man",
           true,
           "C",
           "no",
           false
          ],
          [
           1,
           1,
           "male",
           0,
           2,
           "C",
           "First",
           "man",
           true,
           "C",
           "yes",
           false
          ],
          [
           1,
           1,
           "male",
           0,
           0,
           "S",
           "First",
           "man",
           true,
           "E",
           "yes",
           true
          ],
          [
           0,
           1,
           "male",
           0,
           0,
           "C",
           "First",
           "man",
           true,
           "A",
           "no",
           true
          ],
          [
           1,
           1,
           "male",
           1,
           1,
           "C",
           "First",
           "man",
           true,
           "B",
           "yes",
           false
          ],
          [
           1,
           1,
           "male",
           1,
           0,
           "C",
           "First",
           "man",
           true,
           "A",
           "yes",
           false
          ],
          [
           1,
           1,
           "male",
           1,
           0,
           "S",
           "First",
           "man",
           true,
           "D",
           "yes",
           false
          ],
          [
           0,
           1,
           "male",
           0,
           0,
           "S",
           "First",
           "man",
           true,
           "D",
           "no",
           true
          ],
          [
           1,
           1,
           "male",
           0,
           0,
           "S",
           "First",
           "man",
           true,
           "A",
           "yes",
           true
          ],
          [
           1,
           1,
           "male",
           0,
           0,
           "C",
           "First",
           "man",
           true,
           "B",
           "yes",
           true
          ],
          [
           1,
           1,
           "male",
           1,
           0,
           "C",
           "First",
           "man",
           true,
           "D",
           "yes",
           false
          ],
          [
           1,
           1,
           "male",
           0,
           0,
           "C",
           "First",
           "man",
           true,
           "A",
           "yes",
           true
          ],
          [
           0,
           1,
           "male",
           0,
           2,
           "C",
           "First",
           "man",
           true,
           "D",
           "no",
           false
          ],
          [
           0,
           1,
           "male",
           0,
           0,
           "S",
           "First",
           "man",
           true,
           "E",
           "no",
           true
          ],
          [
           0,
           1,
           "male",
           1,
           0,
           "S",
           "First",
           "man",
           true,
           "B",
           "no",
           false
          ],
          [
           1,
           1,
           "male",
           0,
           1,
           "C",
           "First",
           "man",
           true,
           "B",
           "yes",
           false
          ],
          [
           1,
           1,
           "male",
           0,
           0,
           "C",
           "First",
           "man",
           true,
           "D",
           "yes",
           true
          ],
          [
           1,
           1,
           "male",
           1,
           0,
           "S",
           "First",
           "man",
           true,
           "B",
           "yes",
           false
          ],
          [
           0,
           1,
           "male",
           1,
           1,
           "C",
           "First",
           "man",
           true,
           "C",
           "no",
           false
          ],
          [
           0,
           3,
           "male",
           0,
           0,
           "S",
           "Third",
           "man",
           true,
           "F",
           "no",
           true
          ],
          [
           1,
           1,
           "male",
           0,
           0,
           "S",
           "First",
           "man",
           true,
           "E",
           "yes",
           true
          ],
          [
           1,
           1,
           "male",
           0,
           0,
           "S",
           "First",
           "man",
           true,
           "E",
           "yes",
           true
          ],
          [
           0,
           1,
           "male",
           0,
           0,
           "S",
           "First",
           "man",
           true,
           "C",
           "no",
           true
          ],
          [
           1,
           1,
           "male",
           1,
           0,
           "S",
           "First",
           "man",
           true,
           "C",
           "yes",
           false
          ],
          [
           0,
           3,
           "male",
           0,
           0,
           "S",
           "Third",
           "man",
           true,
           "F",
           "no",
           true
          ],
          [
           1,
           1,
           "male",
           1,
           0,
           "S",
           "First",
           "man",
           true,
           "E",
           "yes",
           false
          ],
          [
           1,
           1,
           "male",
           0,
           0,
           "C",
           "First",
           "man",
           true,
           "B",
           "yes",
           true
          ],
          [
           1,
           1,
           "male",
           0,
           0,
           "S",
           "First",
           "man",
           true,
           "D",
           "yes",
           true
          ],
          [
           0,
           1,
           "male",
           1,
           0,
           "S",
           "First",
           "man",
           true,
           "C",
           "no",
           false
          ],
          [
           0,
           1,
           "male",
           1,
           1,
           "S",
           "First",
           "man",
           true,
           "B",
           "no",
           false
          ],
          [
           0,
           1,
           "male",
           1,
           0,
           "S",
           "First",
           "man",
           true,
           "D",
           "no",
           false
          ],
          [
           0,
           3,
           "male",
           0,
           0,
           "Q",
           "Third",
           "man",
           true,
           "F",
           "no",
           true
          ],
          [
           0,
           1,
           "male",
           0,
           0,
           "S",
           "First",
           "man",
           true,
           "D",
           "no",
           true
          ],
          [
           0,
           1,
           "male",
           0,
           0,
           "C",
           "First",
           "man",
           true,
           "B",
           "no",
           true
          ],
          [
           0,
           1,
           "male",
           0,
           0,
           "S",
           "First",
           "man",
           true,
           "A",
           "no",
           true
          ],
          [
           0,
           1,
           "male",
           0,
           0,
           "S",
           "First",
           "man",
           true,
           "B",
           "no",
           true
          ],
          [
           1,
           1,
           "male",
           0,
           0,
           "C",
           "First",
           "man",
           true,
           "C",
           "yes",
           true
          ],
          [
           1,
           1,
           "male",
           0,
           0,
           "S",
           "First",
           "man",
           true,
           "E",
           "yes",
           true
          ],
          [
           0,
           1,
           "male",
           0,
           0,
           "S",
           "First",
           "man",
           true,
           "A",
           "no",
           true
          ],
          [
           0,
           1,
           "male",
           0,
           0,
           "S",
           "First",
           "man",
           true,
           "B",
           "no",
           true
          ],
          [
           1,
           1,
           "male",
           0,
           0,
           "C",
           "First",
           "man",
           true,
           "C",
           "yes",
           true
          ]
         ],
         "fillcolor": "rgba(255,255,255,0)",
         "hoveron": "points",
         "hovertemplate": "who=%{customdata[7]}<br>age in days=%{x}<br>survived=%{customdata[0]}<br>pclass=%{customdata[1]}<br>sex=%{customdata[2]}<br>sibsp=%{customdata[3]}<br>parch=%{customdata[4]}<br>embarked=%{customdata[5]}<br>class=%{customdata[6]}<br>adult_male=%{customdata[8]}<br>deck=%{customdata[9]}<br>alive=%{customdata[10]}<br>alone=%{customdata[11]}<extra></extra>",
         "jitter": 0,
         "legendgroup": "man",
         "line": {
          "color": "rgba(255,255,255,0)"
         },
         "marker": {
          "color": "#EF553B",
          "symbol": "line-ns-open"
         },
         "name": "man",
         "offsetgroup": "man",
         "showlegend": false,
         "type": "box",
         "x": [
          0.675,
          0.425,
          0.35,
          0.2375,
          0.8125,
          0.44722602739726025,
          0.5625,
          0.3125,
          0.575,
          0.8875,
          0.2875,
          0.2625,
          0.5875,
          0.3,
          0.675,
          0.4625,
          0.3,
          0.45623287671232876,
          0.7625,
          0.7,
          0.44722602739726025,
          0.5,
          0.475,
          0.55,
          0.4625,
          0.775,
          0.65,
          0.5,
          0.4625,
          0.44722602739726025,
          0.45,
          0.44722602739726025,
          0.5687328767123287,
          0.475,
          0.3625,
          0.44722602739726025,
          0.3125,
          0.3375,
          0.45,
          0.4,
          0.35,
          0.625,
          0.8,
          0.65,
          0.375,
          0.6125,
          0.8125,
          0.6,
          0.5875,
          0.44722602739726025,
          0.3125,
          0.725,
          0.6875,
          0.225,
          0.45,
          0.5875,
          0.44722602739726025,
          0.5625,
          0.625,
          0.2125,
          0.45,
          0.45,
          0.75,
          0.6125,
          0.525,
          0.7625,
          1,
          0.4,
          0.6,
          0.7,
          0.725,
          0.5875,
          0.3875,
          0.45,
          0.3375,
          0.3875,
          0.6125,
          0.525,
          0.4375,
          0.525,
          0.44722602739726025,
          0.6,
          0.2375,
          0.3375,
          0.4375,
          0.44722602739726025,
          0.45,
          0.875,
          0.2375,
          0.44722602739726025,
          0.3625,
          0.575,
          0.4875,
          0.44722602739726025,
          0.44722602739726025,
          0.6375,
          0.3875,
          0.4125,
          0.325
         ],
         "xaxis": "x2",
         "yaxis": "y2"
        },
        {
         "alignmentgroup": "True",
         "bingroup": "x",
         "histfunc": "sum",
         "hovertemplate": "who=child<br>age in days=%{x}<br>sum of fare=%{y}<extra></extra>",
         "legendgroup": "child",
         "marker": {
          "color": "#00cc96",
          "pattern": {
           "shape": ""
          }
         },
         "name": "child",
         "offsetgroup": "child",
         "orientation": "v",
         "showlegend": true,
         "type": "histogram",
         "x": [
          0.05,
          0.0125,
          0.0375,
          0.025,
          0.025,
          0.011472602739726027,
          0.025,
          0.175,
          0.05,
          0.05,
          0.1875,
          0.075,
          0.1375
         ],
         "xaxis": "x",
         "y": [
          0.03259622914329302,
          0.0761229303346364,
          0.050748620223090936,
          0.02042143996477265,
          0.29580589980036276,
          0.29580589980036276,
          0.050748620223090936,
          0.23422440102965045,
          0.15977676072337862,
          0.0761229303346364,
          0.41250332793836464,
          0.024349578357040744,
          0.23422440102965045
         ],
         "yaxis": "y"
        },
        {
         "alignmentgroup": "True",
         "boxpoints": "all",
         "customdata": [
          [
           1,
           3,
           "female",
           1,
           1,
           "S",
           "Third",
           "child",
           false,
           "G",
           "yes",
           false
          ],
          [
           1,
           2,
           "male",
           2,
           1,
           "S",
           "Second",
           "child",
           false,
           "F",
           "yes",
           false
          ],
          [
           1,
           2,
           "male",
           1,
           1,
           "S",
           "Second",
           "child",
           false,
           "F",
           "yes",
           false
          ],
          [
           0,
           3,
           "female",
           0,
           1,
           "S",
           "Third",
           "child",
           false,
           "G",
           "no",
           false
          ],
          [
           0,
           1,
           "female",
           1,
           2,
           "S",
           "First",
           "child",
           false,
           "C",
           "no",
           false
          ],
          [
           1,
           1,
           "male",
           1,
           2,
           "S",
           "First",
           "child",
           false,
           "C",
           "yes",
           false
          ],
          [
           1,
           2,
           "male",
           1,
           1,
           "S",
           "Second",
           "child",
           false,
           "F",
           "yes",
           false
          ],
          [
           1,
           1,
           "female",
           1,
           2,
           "S",
           "First",
           "child",
           false,
           "B",
           "yes",
           false
          ],
          [
           1,
           1,
           "male",
           0,
           2,
           "S",
           "First",
           "child",
           false,
           "A",
           "yes",
           false
          ],
          [
           1,
           2,
           "female",
           2,
           1,
           "S",
           "Second",
           "child",
           false,
           "F",
           "yes",
           false
          ],
          [
           1,
           1,
           "female",
           0,
           1,
           "S",
           "First",
           "child",
           false,
           "B",
           "yes",
           false
          ],
          [
           1,
           3,
           "male",
           0,
           1,
           "S",
           "Third",
           "child",
           false,
           "E",
           "yes",
           false
          ],
          [
           1,
           1,
           "male",
           1,
           2,
           "S",
           "First",
           "child",
           false,
           "B",
           "yes",
           false
          ]
         ],
         "fillcolor": "rgba(255,255,255,0)",
         "hoveron": "points",
         "hovertemplate": "who=%{customdata[7]}<br>age in days=%{x}<br>survived=%{customdata[0]}<br>pclass=%{customdata[1]}<br>sex=%{customdata[2]}<br>sibsp=%{customdata[3]}<br>parch=%{customdata[4]}<br>embarked=%{customdata[5]}<br>class=%{customdata[6]}<br>adult_male=%{customdata[8]}<br>deck=%{customdata[9]}<br>alive=%{customdata[10]}<br>alone=%{customdata[11]}<extra></extra>",
         "jitter": 0,
         "legendgroup": "child",
         "line": {
          "color": "rgba(255,255,255,0)"
         },
         "marker": {
          "color": "#00cc96",
          "symbol": "line-ns-open"
         },
         "name": "child",
         "offsetgroup": "child",
         "showlegend": false,
         "type": "box",
         "x": [
          0.05,
          0.0125,
          0.0375,
          0.025,
          0.025,
          0.011472602739726027,
          0.025,
          0.175,
          0.05,
          0.05,
          0.1875,
          0.075,
          0.1375
         ],
         "xaxis": "x2",
         "yaxis": "y2"
        }
       ],
       "layout": {
        "barmode": "relative",
        "legend": {
         "title": {
          "text": "who"
         },
         "tracegroupgap": 0
        },
        "margin": {
         "t": 60
        },
        "template": {
         "data": {
          "bar": [
           {
            "error_x": {
             "color": "#2a3f5f"
            },
            "error_y": {
             "color": "#2a3f5f"
            },
            "marker": {
             "line": {
              "color": "#E5ECF6",
              "width": 0.5
             },
             "pattern": {
              "fillmode": "overlay",
              "size": 10,
              "solidity": 0.2
             }
            },
            "type": "bar"
           }
          ],
          "barpolar": [
           {
            "marker": {
             "line": {
              "color": "#E5ECF6",
              "width": 0.5
             },
             "pattern": {
              "fillmode": "overlay",
              "size": 10,
              "solidity": 0.2
             }
            },
            "type": "barpolar"
           }
          ],
          "carpet": [
           {
            "aaxis": {
             "endlinecolor": "#2a3f5f",
             "gridcolor": "white",
             "linecolor": "white",
             "minorgridcolor": "white",
             "startlinecolor": "#2a3f5f"
            },
            "baxis": {
             "endlinecolor": "#2a3f5f",
             "gridcolor": "white",
             "linecolor": "white",
             "minorgridcolor": "white",
             "startlinecolor": "#2a3f5f"
            },
            "type": "carpet"
           }
          ],
          "choropleth": [
           {
            "colorbar": {
             "outlinewidth": 0,
             "ticks": ""
            },
            "type": "choropleth"
           }
          ],
          "contour": [
           {
            "colorbar": {
             "outlinewidth": 0,
             "ticks": ""
            },
            "colorscale": [
             [
              0,
              "#0d0887"
             ],
             [
              0.1111111111111111,
              "#46039f"
             ],
             [
              0.2222222222222222,
              "#7201a8"
             ],
             [
              0.3333333333333333,
              "#9c179e"
             ],
             [
              0.4444444444444444,
              "#bd3786"
             ],
             [
              0.5555555555555556,
              "#d8576b"
             ],
             [
              0.6666666666666666,
              "#ed7953"
             ],
             [
              0.7777777777777778,
              "#fb9f3a"
             ],
             [
              0.8888888888888888,
              "#fdca26"
             ],
             [
              1,
              "#f0f921"
             ]
            ],
            "type": "contour"
           }
          ],
          "contourcarpet": [
           {
            "colorbar": {
             "outlinewidth": 0,
             "ticks": ""
            },
            "type": "contourcarpet"
           }
          ],
          "heatmap": [
           {
            "colorbar": {
             "outlinewidth": 0,
             "ticks": ""
            },
            "colorscale": [
             [
              0,
              "#0d0887"
             ],
             [
              0.1111111111111111,
              "#46039f"
             ],
             [
              0.2222222222222222,
              "#7201a8"
             ],
             [
              0.3333333333333333,
              "#9c179e"
             ],
             [
              0.4444444444444444,
              "#bd3786"
             ],
             [
              0.5555555555555556,
              "#d8576b"
             ],
             [
              0.6666666666666666,
              "#ed7953"
             ],
             [
              0.7777777777777778,
              "#fb9f3a"
             ],
             [
              0.8888888888888888,
              "#fdca26"
             ],
             [
              1,
              "#f0f921"
             ]
            ],
            "type": "heatmap"
           }
          ],
          "heatmapgl": [
           {
            "colorbar": {
             "outlinewidth": 0,
             "ticks": ""
            },
            "colorscale": [
             [
              0,
              "#0d0887"
             ],
             [
              0.1111111111111111,
              "#46039f"
             ],
             [
              0.2222222222222222,
              "#7201a8"
             ],
             [
              0.3333333333333333,
              "#9c179e"
             ],
             [
              0.4444444444444444,
              "#bd3786"
             ],
             [
              0.5555555555555556,
              "#d8576b"
             ],
             [
              0.6666666666666666,
              "#ed7953"
             ],
             [
              0.7777777777777778,
              "#fb9f3a"
             ],
             [
              0.8888888888888888,
              "#fdca26"
             ],
             [
              1,
              "#f0f921"
             ]
            ],
            "type": "heatmapgl"
           }
          ],
          "histogram": [
           {
            "marker": {
             "pattern": {
              "fillmode": "overlay",
              "size": 10,
              "solidity": 0.2
             }
            },
            "type": "histogram"
           }
          ],
          "histogram2d": [
           {
            "colorbar": {
             "outlinewidth": 0,
             "ticks": ""
            },
            "colorscale": [
             [
              0,
              "#0d0887"
             ],
             [
              0.1111111111111111,
              "#46039f"
             ],
             [
              0.2222222222222222,
              "#7201a8"
             ],
             [
              0.3333333333333333,
              "#9c179e"
             ],
             [
              0.4444444444444444,
              "#bd3786"
             ],
             [
              0.5555555555555556,
              "#d8576b"
             ],
             [
              0.6666666666666666,
              "#ed7953"
             ],
             [
              0.7777777777777778,
              "#fb9f3a"
             ],
             [
              0.8888888888888888,
              "#fdca26"
             ],
             [
              1,
              "#f0f921"
             ]
            ],
            "type": "histogram2d"
           }
          ],
          "histogram2dcontour": [
           {
            "colorbar": {
             "outlinewidth": 0,
             "ticks": ""
            },
            "colorscale": [
             [
              0,
              "#0d0887"
             ],
             [
              0.1111111111111111,
              "#46039f"
             ],
             [
              0.2222222222222222,
              "#7201a8"
             ],
             [
              0.3333333333333333,
              "#9c179e"
             ],
             [
              0.4444444444444444,
              "#bd3786"
             ],
             [
              0.5555555555555556,
              "#d8576b"
             ],
             [
              0.6666666666666666,
              "#ed7953"
             ],
             [
              0.7777777777777778,
              "#fb9f3a"
             ],
             [
              0.8888888888888888,
              "#fdca26"
             ],
             [
              1,
              "#f0f921"
             ]
            ],
            "type": "histogram2dcontour"
           }
          ],
          "mesh3d": [
           {
            "colorbar": {
             "outlinewidth": 0,
             "ticks": ""
            },
            "type": "mesh3d"
           }
          ],
          "parcoords": [
           {
            "line": {
             "colorbar": {
              "outlinewidth": 0,
              "ticks": ""
             }
            },
            "type": "parcoords"
           }
          ],
          "pie": [
           {
            "automargin": true,
            "type": "pie"
           }
          ],
          "scatter": [
           {
            "fillpattern": {
             "fillmode": "overlay",
             "size": 10,
             "solidity": 0.2
            },
            "type": "scatter"
           }
          ],
          "scatter3d": [
           {
            "line": {
             "colorbar": {
              "outlinewidth": 0,
              "ticks": ""
             }
            },
            "marker": {
             "colorbar": {
              "outlinewidth": 0,
              "ticks": ""
             }
            },
            "type": "scatter3d"
           }
          ],
          "scattercarpet": [
           {
            "marker": {
             "colorbar": {
              "outlinewidth": 0,
              "ticks": ""
             }
            },
            "type": "scattercarpet"
           }
          ],
          "scattergeo": [
           {
            "marker": {
             "colorbar": {
              "outlinewidth": 0,
              "ticks": ""
             }
            },
            "type": "scattergeo"
           }
          ],
          "scattergl": [
           {
            "marker": {
             "colorbar": {
              "outlinewidth": 0,
              "ticks": ""
             }
            },
            "type": "scattergl"
           }
          ],
          "scattermapbox": [
           {
            "marker": {
             "colorbar": {
              "outlinewidth": 0,
              "ticks": ""
             }
            },
            "type": "scattermapbox"
           }
          ],
          "scatterpolar": [
           {
            "marker": {
             "colorbar": {
              "outlinewidth": 0,
              "ticks": ""
             }
            },
            "type": "scatterpolar"
           }
          ],
          "scatterpolargl": [
           {
            "marker": {
             "colorbar": {
              "outlinewidth": 0,
              "ticks": ""
             }
            },
            "type": "scatterpolargl"
           }
          ],
          "scatterternary": [
           {
            "marker": {
             "colorbar": {
              "outlinewidth": 0,
              "ticks": ""
             }
            },
            "type": "scatterternary"
           }
          ],
          "surface": [
           {
            "colorbar": {
             "outlinewidth": 0,
             "ticks": ""
            },
            "colorscale": [
             [
              0,
              "#0d0887"
             ],
             [
              0.1111111111111111,
              "#46039f"
             ],
             [
              0.2222222222222222,
              "#7201a8"
             ],
             [
              0.3333333333333333,
              "#9c179e"
             ],
             [
              0.4444444444444444,
              "#bd3786"
             ],
             [
              0.5555555555555556,
              "#d8576b"
             ],
             [
              0.6666666666666666,
              "#ed7953"
             ],
             [
              0.7777777777777778,
              "#fb9f3a"
             ],
             [
              0.8888888888888888,
              "#fdca26"
             ],
             [
              1,
              "#f0f921"
             ]
            ],
            "type": "surface"
           }
          ],
          "table": [
           {
            "cells": {
             "fill": {
              "color": "#EBF0F8"
             },
             "line": {
              "color": "white"
             }
            },
            "header": {
             "fill": {
              "color": "#C8D4E3"
             },
             "line": {
              "color": "white"
             }
            },
            "type": "table"
           }
          ]
         },
         "layout": {
          "annotationdefaults": {
           "arrowcolor": "#2a3f5f",
           "arrowhead": 0,
           "arrowwidth": 1
          },
          "autotypenumbers": "strict",
          "coloraxis": {
           "colorbar": {
            "outlinewidth": 0,
            "ticks": ""
           }
          },
          "colorscale": {
           "diverging": [
            [
             0,
             "#8e0152"
            ],
            [
             0.1,
             "#c51b7d"
            ],
            [
             0.2,
             "#de77ae"
            ],
            [
             0.3,
             "#f1b6da"
            ],
            [
             0.4,
             "#fde0ef"
            ],
            [
             0.5,
             "#f7f7f7"
            ],
            [
             0.6,
             "#e6f5d0"
            ],
            [
             0.7,
             "#b8e186"
            ],
            [
             0.8,
             "#7fbc41"
            ],
            [
             0.9,
             "#4d9221"
            ],
            [
             1,
             "#276419"
            ]
           ],
           "sequential": [
            [
             0,
             "#0d0887"
            ],
            [
             0.1111111111111111,
             "#46039f"
            ],
            [
             0.2222222222222222,
             "#7201a8"
            ],
            [
             0.3333333333333333,
             "#9c179e"
            ],
            [
             0.4444444444444444,
             "#bd3786"
            ],
            [
             0.5555555555555556,
             "#d8576b"
            ],
            [
             0.6666666666666666,
             "#ed7953"
            ],
            [
             0.7777777777777778,
             "#fb9f3a"
            ],
            [
             0.8888888888888888,
             "#fdca26"
            ],
            [
             1,
             "#f0f921"
            ]
           ],
           "sequentialminus": [
            [
             0,
             "#0d0887"
            ],
            [
             0.1111111111111111,
             "#46039f"
            ],
            [
             0.2222222222222222,
             "#7201a8"
            ],
            [
             0.3333333333333333,
             "#9c179e"
            ],
            [
             0.4444444444444444,
             "#bd3786"
            ],
            [
             0.5555555555555556,
             "#d8576b"
            ],
            [
             0.6666666666666666,
             "#ed7953"
            ],
            [
             0.7777777777777778,
             "#fb9f3a"
            ],
            [
             0.8888888888888888,
             "#fdca26"
            ],
            [
             1,
             "#f0f921"
            ]
           ]
          },
          "colorway": [
           "#636efa",
           "#EF553B",
           "#00cc96",
           "#ab63fa",
           "#FFA15A",
           "#19d3f3",
           "#FF6692",
           "#B6E880",
           "#FF97FF",
           "#FECB52"
          ],
          "font": {
           "color": "#2a3f5f"
          },
          "geo": {
           "bgcolor": "white",
           "lakecolor": "white",
           "landcolor": "#E5ECF6",
           "showlakes": true,
           "showland": true,
           "subunitcolor": "white"
          },
          "hoverlabel": {
           "align": "left"
          },
          "hovermode": "closest",
          "mapbox": {
           "style": "light"
          },
          "paper_bgcolor": "white",
          "plot_bgcolor": "#E5ECF6",
          "polar": {
           "angularaxis": {
            "gridcolor": "white",
            "linecolor": "white",
            "ticks": ""
           },
           "bgcolor": "#E5ECF6",
           "radialaxis": {
            "gridcolor": "white",
            "linecolor": "white",
            "ticks": ""
           }
          },
          "scene": {
           "xaxis": {
            "backgroundcolor": "#E5ECF6",
            "gridcolor": "white",
            "gridwidth": 2,
            "linecolor": "white",
            "showbackground": true,
            "ticks": "",
            "zerolinecolor": "white"
           },
           "yaxis": {
            "backgroundcolor": "#E5ECF6",
            "gridcolor": "white",
            "gridwidth": 2,
            "linecolor": "white",
            "showbackground": true,
            "ticks": "",
            "zerolinecolor": "white"
           },
           "zaxis": {
            "backgroundcolor": "#E5ECF6",
            "gridcolor": "white",
            "gridwidth": 2,
            "linecolor": "white",
            "showbackground": true,
            "ticks": "",
            "zerolinecolor": "white"
           }
          },
          "shapedefaults": {
           "line": {
            "color": "#2a3f5f"
           }
          },
          "ternary": {
           "aaxis": {
            "gridcolor": "white",
            "linecolor": "white",
            "ticks": ""
           },
           "baxis": {
            "gridcolor": "white",
            "linecolor": "white",
            "ticks": ""
           },
           "bgcolor": "#E5ECF6",
           "caxis": {
            "gridcolor": "white",
            "linecolor": "white",
            "ticks": ""
           }
          },
          "title": {
           "x": 0.05
          },
          "xaxis": {
           "automargin": true,
           "gridcolor": "white",
           "linecolor": "white",
           "ticks": "",
           "title": {
            "standoff": 15
           },
           "zerolinecolor": "white",
           "zerolinewidth": 2
          },
          "yaxis": {
           "automargin": true,
           "gridcolor": "white",
           "linecolor": "white",
           "ticks": "",
           "title": {
            "standoff": 15
           },
           "zerolinecolor": "white",
           "zerolinewidth": 2
          }
         }
        },
        "xaxis": {
         "anchor": "y",
         "domain": [
          0,
          1
         ],
         "title": {
          "text": "age in days"
         }
        },
        "xaxis2": {
         "anchor": "y2",
         "domain": [
          0,
          1
         ],
         "matches": "x",
         "showgrid": true,
         "showticklabels": false
        },
        "yaxis": {
         "anchor": "x",
         "domain": [
          0,
          0.7326
         ],
         "title": {
          "text": "sum of fare"
         }
        },
        "yaxis2": {
         "anchor": "x2",
         "domain": [
          0.7426,
          1
         ],
         "matches": "y2",
         "showgrid": false,
         "showline": false,
         "showticklabels": false,
         "ticks": ""
        }
       }
      },
      "text/html": [
       "<div>                        <script type=\"text/javascript\">window.PlotlyConfig = {MathJaxConfig: 'local'};</script>\n",
       "        <script src=\"https://cdn.plot.ly/plotly-2.12.1.min.js\"></script>                <div id=\"bfbde402-b549-4b9d-afd9-c267bfbbfd5c\" class=\"plotly-graph-div\" style=\"height:100%; width:100%;\"></div>            <script type=\"text/javascript\">                                    window.PLOTLYENV=window.PLOTLYENV || {};                                    if (document.getElementById(\"bfbde402-b549-4b9d-afd9-c267bfbbfd5c\")) {                    Plotly.newPlot(                        \"bfbde402-b549-4b9d-afd9-c267bfbbfd5c\",                        [{\"alignmentgroup\":\"True\",\"bingroup\":\"x\",\"histfunc\":\"sum\",\"hovertemplate\":\"who=woman<br>age in days=%{x}<br>sum of fare=%{y}<extra></extra>\",\"legendgroup\":\"woman\",\"marker\":{\"color\":\"#636efa\",\"pattern\":{\"shape\":\"\"}},\"name\":\"woman\",\"offsetgroup\":\"woman\",\"orientation\":\"v\",\"showlegend\":true,\"x\":[0.475,0.4375,0.725,0.44722602739726025,0.6125,0.475,0.3625,0.2875,0.40623287671232877,0.44722602739726025,0.2375,0.275,0.44722602739726025,0.625,0.55,0.725,0.3875,0.4,0.4375,0.3625,0.375,0.725,0.4375,0.7875,0.2375,0.625,0.44722602739726025,0.2125,0.375,0.3,0.225,0.3875,0.5,0.45,0.45,0.2,0.5125,0.3,0.3,0.275,0.75,0.3,0.2875,0.3,0.4125,0.44722602739726025,0.2875,0.4375,0.675,0.3125,0.2,0.425,0.375,0.55,0.275,0.45,0.6,0.4875,0.6625,0.4875,0.4875,0.225,0.65,0.5,0.2625,0.3,0.44722602739726025,0.225,0.3,0.475,0.3375,0.3625,0.2625,0.4125,0.45,0.6375,0.7125,0.5375,0.2125,0.6125,0.4125,0.65,0.3375,0.775,0.4875,0.44722602739726025,0.2,0.6,0.5875,0.7,0.2375],\"xaxis\":\"x\",\"y\":[0.13913573538264068,0.10364429745562033,0.051822148727810165,0.2859895551532101,0.1497654242623688,0.15614960068643363,0.020494635090094415,0.5133418122566505,0.025374310111545468,0.04364049521284361,0.051301584996521765,0.12999454257145598,0.10735285047192313,0.05604306762136532,0.05410739813385612,0.2859895551532101,0.22109807522194713,0.14891148113361488,0.16293234896625058,0.02042143996477265,0.16883675574220638,0.2995388511917728,0.2647385704347907,0.15216446768991498,0.17777475888549785,0.4831284260198326,0.024105594605968193,0.2125586439344078,0.11111839809247648,0.16231419173453318,0.5121218935012878,0.32179836714362564,0.2625265161540666,0.2647385704347907,0.025374310111545468,0.11316786160148591,0.2625265161540666,0.5133418122566505,0.025374310111545468,0.10735285047192313,0.14687821814567664,0.13526459159462315,0.22109807522194713,0.03259622914329302,0.17566830077223786,0.10122885832000206,0.026919605597338588,0.17566830077223786,0.1527664244005612,0.29580589980036276,0.16883675574220638,0.020494635090094415,0.18249984580226933,0.11316786160148591,0.09661756542473081,0.13858277060920984,0.07729405233978466,0.1554664461834305,0.10048070654571319,0.1091095334796455,0.21642978772242535,0.1554664461834305,0.1527664244005612,0.2995388511917728,0.15216446768991498,0.13526459159462315,0.10149724044618187,0.4440992237022602,0.09662576327876685,0.4440992237022602,0.020494635090094415,0.41250332793836464,0.5121218935012878,0.16883675574220638,0.23422440102965045,0.15216446768991498,0.020494635090094415,0.41250332793836464,0.11125659048908397,0.050610427826483444,0.10364429745562033,0.18249984580226933,0.024349578357040744,0.15614960068643363,0.16231419173453318,0.17391981561855152,0.07690367833806856,0.050610427826483444,0.10257896680493714,0.16231419173453318,0.05855610025741261],\"yaxis\":\"y\",\"type\":\"histogram\"},{\"alignmentgroup\":\"True\",\"boxpoints\":\"all\",\"customdata\":[[1.0,1,\"female\",1,0,\"C\",\"First\",\"woman\",false,\"C\",\"yes\",false],[1.0,1,\"female\",1,0,\"S\",\"First\",\"woman\",false,\"C\",\"yes\",false],[1.0,1,\"female\",0,0,\"S\",\"First\",\"woman\",false,\"C\",\"yes\",true],[1.0,1,\"female\",1,0,\"C\",\"First\",\"woman\",false,\"B\",\"yes\",false],[1.0,1,\"female\",1,0,\"C\",\"First\",\"woman\",false,\"D\",\"yes\",false],[1.0,1,\"female\",0,0,null,\"First\",\"woman\",false,\"B\",\"yes\",true],[1.0,2,\"female\",0,0,\"S\",\"Second\",\"woman\",false,\"F\",\"yes\",true],[1.0,1,\"female\",3,2,\"S\",\"First\",\"woman\",false,\"C\",\"yes\",false],[1.0,2,\"female\",0,0,\"S\",\"Second\",\"woman\",false,\"E\",\"yes\",true],[1.0,3,\"female\",1,1,\"C\",\"Third\",\"woman\",false,\"F\",\"yes\",false],[1.0,1,\"female\",0,2,\"S\",\"First\",\"woman\",false,\"D\",\"yes\",false],[1.0,1,\"female\",1,0,\"S\",\"First\",\"woman\",false,\"C\",\"yes\",false],[1.0,1,\"female\",0,1,\"S\",\"First\",\"woman\",false,\"E\",\"yes\",false],[0.0,1,\"female\",0,0,\"C\",\"First\",\"woman\",false,\"C\",\"no\",true],[1.0,1,\"female\",0,0,\"C\",\"First\",\"woman\",false,\"B\",\"yes\",true],[1.0,1,\"female\",0,0,\"C\",\"First\",\"woman\",false,\"B\",\"yes\",true],[1.0,1,\"female\",1,0,\"C\",\"First\",\"woman\",false,\"D\",\"yes\",false],[1.0,1,\"female\",0,0,\"C\",\"First\",\"woman\",false,\"D\",\"yes\",true],[1.0,1,\"female\",1,0,\"S\",\"First\",\"woman\",false,\"C\",\"yes\",false],[0.0,3,\"female\",1,1,\"S\",\"Third\",\"woman\",false,\"G\",\"no\",false],[1.0,1,\"female\",0,0,\"S\",\"First\",\"woman\",false,\"B\",\"yes\",true],[1.0,1,\"female\",0,1,\"S\",\"First\",\"woman\",false,\"C\",\"yes\",false],[1.0,1,\"female\",0,0,\"S\",\"First\",\"woman\",false,\"C\",\"yes\",true],[1.0,1,\"female\",1,0,\"S\",\"First\",\"woman\",false,\"D\",\"yes\",false],[1.0,1,\"female\",1,0,\"C\",\"First\",\"woman\",false,\"B\",\"yes\",false],[1.0,1,\"female\",0,1,\"C\",\"First\",\"woman\",false,\"B\",\"yes\",false],[1.0,2,\"female\",0,0,\"Q\",\"Second\",\"woman\",false,\"E\",\"yes\",true],[1.0,1,\"female\",1,0,\"C\",\"First\",\"woman\",false,\"C\",\"yes\",false],[1.0,1,\"female\",0,0,\"C\",\"First\",\"woman\",false,\"E\",\"yes\",true],[1.0,1,\"female\",0,0,\"C\",\"First\",\"woman\",false,\"C\",\"yes\",true],[1.0,1,\"female\",2,2,\"C\",\"First\",\"woman\",false,\"B\",\"yes\",false],[1.0,1,\"female\",0,2,\"S\",\"First\",\"woman\",false,\"C\",\"yes\",false],[1.0,1,\"female\",1,1,\"C\",\"First\",\"woman\",false,\"E\",\"yes\",false],[1.0,1,\"female\",0,0,\"C\",\"First\",\"woman\",false,\"C\",\"yes\",true],[1.0,2,\"female\",0,0,\"S\",\"Second\",\"woman\",false,\"D\",\"yes\",true],[1.0,1,\"female\",0,1,\"C\",\"First\",\"woman\",false,\"B\",\"yes\",false],[1.0,1,\"female\",0,0,\"C\",\"First\",\"woman\",false,\"E\",\"yes\",true],[1.0,1,\"female\",3,2,\"S\",\"First\",\"woman\",false,\"C\",\"yes\",false],[1.0,2,\"female\",0,0,\"S\",\"Second\",\"woman\",false,\"F\",\"yes\",true],[1.0,1,\"female\",0,1,\"S\",\"First\",\"woman\",false,\"E\",\"yes\",false],[1.0,1,\"female\",1,0,\"C\",\"First\",\"woman\",false,\"D\",\"yes\",false],[1.0,1,\"female\",0,0,\"C\",\"First\",\"woman\",false,\"B\",\"yes\",true],[1.0,1,\"female\",1,0,\"C\",\"First\",\"woman\",false,\"D\",\"yes\",false],[1.0,3,\"female\",0,2,\"S\",\"Third\",\"woman\",false,\"G\",\"yes\",false],[1.0,1,\"female\",1,0,\"Q\",\"First\",\"woman\",false,\"C\",\"yes\",false],[1.0,1,\"female\",1,0,\"S\",\"First\",\"woman\",false,\"D\",\"yes\",false],[1.0,2,\"female\",0,0,\"C\",\"Second\",\"woman\",false,\"D\",\"yes\",true],[1.0,1,\"female\",1,0,\"S\",\"First\",\"woman\",false,\"C\",\"yes\",false],[1.0,1,\"female\",1,0,\"C\",\"First\",\"woman\",false,\"D\",\"yes\",false],[0.0,1,\"female\",1,2,\"S\",\"First\",\"woman\",false,\"C\",\"no\",false],[1.0,1,\"female\",0,0,\"S\",\"First\",\"woman\",false,\"B\",\"yes\",true],[1.0,2,\"female\",0,0,\"S\",\"Second\",\"woman\",false,\"F\",\"yes\",true],[1.0,1,\"female\",0,0,\"S\",\"First\",\"woman\",false,\"B\",\"yes\",true],[1.0,1,\"female\",0,1,\"C\",\"First\",\"woman\",false,\"B\",\"yes\",false],[1.0,1,\"female\",0,2,\"C\",\"First\",\"woman\",false,\"B\",\"yes\",false],[1.0,1,\"female\",0,2,\"S\",\"First\",\"woman\",false,\"B\",\"yes\",false],[1.0,1,\"female\",1,0,\"C\",\"First\",\"woman\",false,\"A\",\"yes\",false],[1.0,1,\"female\",1,1,\"S\",\"First\",\"woman\",false,\"E\",\"yes\",false],[1.0,1,\"female\",2,0,\"S\",\"First\",\"woman\",false,\"C\",\"yes\",false],[1.0,1,\"female\",1,0,\"S\",\"First\",\"woman\",false,\"E\",\"yes\",false],[1.0,1,\"female\",1,1,\"C\",\"First\",\"woman\",false,\"C\",\"yes\",false],[1.0,1,\"female\",0,2,\"S\",\"First\",\"woman\",false,\"E\",\"yes\",false],[1.0,1,\"female\",1,0,\"C\",\"First\",\"woman\",false,\"D\",\"yes\",false],[1.0,1,\"female\",0,0,\"S\",\"First\",\"woman\",false,\"C\",\"yes\",true],[1.0,1,\"female\",0,0,\"S\",\"First\",\"woman\",false,\"D\",\"yes\",true],[1.0,1,\"female\",0,0,\"C\",\"First\",\"woman\",false,\"B\",\"yes\",true],[1.0,1,\"female\",1,0,\"S\",\"First\",\"woman\",false,\"C\",\"yes\",false],[1.0,1,\"female\",1,0,\"C\",\"First\",\"woman\",false,\"C\",\"yes\",false],[1.0,1,\"female\",0,0,\"C\",\"First\",\"woman\",false,\"C\",\"yes\",true],[1.0,1,\"female\",0,0,\"C\",\"First\",\"woman\",false,\"C\",\"yes\",true],[1.0,2,\"female\",0,0,\"S\",\"Second\",\"woman\",false,\"E\",\"yes\",true],[1.0,1,\"female\",0,0,\"S\",\"First\",\"woman\",false,\"B\",\"yes\",true],[1.0,1,\"female\",2,2,\"C\",\"First\",\"woman\",false,\"B\",\"yes\",false],[1.0,1,\"female\",0,0,\"S\",\"First\",\"woman\",false,\"B\",\"yes\",true],[1.0,1,\"female\",1,2,\"S\",\"First\",\"woman\",false,\"B\",\"yes\",false],[1.0,1,\"female\",1,0,\"S\",\"First\",\"woman\",false,\"D\",\"yes\",false],[0.0,2,\"female\",0,0,\"S\",\"Second\",\"woman\",false,\"E\",\"no\",true],[1.0,1,\"female\",0,1,\"S\",\"First\",\"woman\",false,\"B\",\"yes\",false],[1.0,1,\"female\",1,0,\"S\",\"First\",\"woman\",false,\"B\",\"yes\",false],[1.0,1,\"female\",0,0,\"S\",\"First\",\"woman\",false,\"D\",\"yes\",true],[1.0,1,\"female\",1,0,\"S\",\"First\",\"woman\",false,\"E\",\"yes\",false],[1.0,1,\"female\",1,1,\"S\",\"First\",\"woman\",false,\"B\",\"yes\",false],[1.0,3,\"female\",0,1,\"S\",\"Third\",\"woman\",false,\"E\",\"yes\",false],[1.0,1,\"female\",0,0,null,\"First\",\"woman\",false,\"B\",\"yes\",true],[1.0,1,\"female\",1,1,\"C\",\"First\",\"woman\",false,\"E\",\"yes\",false],[1.0,1,\"female\",1,0,\"C\",\"First\",\"woman\",false,\"C\",\"yes\",false],[1.0,1,\"female\",0,1,\"S\",\"First\",\"woman\",false,\"D\",\"yes\",false],[1.0,1,\"female\",0,0,\"S\",\"First\",\"woman\",false,\"D\",\"yes\",true],[1.0,1,\"female\",1,1,\"S\",\"First\",\"woman\",false,\"D\",\"yes\",false],[1.0,1,\"female\",0,1,\"C\",\"First\",\"woman\",false,\"C\",\"yes\",false],[1.0,1,\"female\",0,0,\"S\",\"First\",\"woman\",false,\"B\",\"yes\",true]],\"fillcolor\":\"rgba(255,255,255,0)\",\"hoveron\":\"points\",\"hovertemplate\":\"who=%{customdata[7]}<br>age in days=%{x}<br>survived=%{customdata[0]}<br>pclass=%{customdata[1]}<br>sex=%{customdata[2]}<br>sibsp=%{customdata[3]}<br>parch=%{customdata[4]}<br>embarked=%{customdata[5]}<br>class=%{customdata[6]}<br>adult_male=%{customdata[8]}<br>deck=%{customdata[9]}<br>alive=%{customdata[10]}<br>alone=%{customdata[11]}<extra></extra>\",\"jitter\":0,\"legendgroup\":\"woman\",\"line\":{\"color\":\"rgba(255,255,255,0)\"},\"marker\":{\"color\":\"#636efa\",\"symbol\":\"line-ns-open\"},\"name\":\"woman\",\"offsetgroup\":\"woman\",\"showlegend\":false,\"x\":[0.475,0.4375,0.725,0.44722602739726025,0.6125,0.475,0.3625,0.2875,0.40623287671232877,0.44722602739726025,0.2375,0.275,0.44722602739726025,0.625,0.55,0.725,0.3875,0.4,0.4375,0.3625,0.375,0.725,0.4375,0.7875,0.2375,0.625,0.44722602739726025,0.2125,0.375,0.3,0.225,0.3875,0.5,0.45,0.45,0.2,0.5125,0.3,0.3,0.275,0.75,0.3,0.2875,0.3,0.4125,0.44722602739726025,0.2875,0.4375,0.675,0.3125,0.2,0.425,0.375,0.55,0.275,0.45,0.6,0.4875,0.6625,0.4875,0.4875,0.225,0.65,0.5,0.2625,0.3,0.44722602739726025,0.225,0.3,0.475,0.3375,0.3625,0.2625,0.4125,0.45,0.6375,0.7125,0.5375,0.2125,0.6125,0.4125,0.65,0.3375,0.775,0.4875,0.44722602739726025,0.2,0.6,0.5875,0.7,0.2375],\"xaxis\":\"x2\",\"yaxis\":\"y2\",\"type\":\"box\"},{\"alignmentgroup\":\"True\",\"bingroup\":\"x\",\"histfunc\":\"sum\",\"hovertemplate\":\"who=man<br>age in days=%{x}<br>sum of fare=%{y}<extra></extra>\",\"legendgroup\":\"man\",\"marker\":{\"color\":\"#EF553B\",\"pattern\":{\"shape\":\"\"}},\"name\":\"man\",\"offsetgroup\":\"man\",\"orientation\":\"v\",\"showlegend\":true,\"x\":[0.675,0.425,0.35,0.2375,0.8125,0.44722602739726025,0.5625,0.3125,0.575,0.8875,0.2875,0.2625,0.5875,0.3,0.675,0.4625,0.3,0.45623287671232876,0.7625,0.7,0.44722602739726025,0.5,0.475,0.55,0.4625,0.775,0.65,0.5,0.4625,0.44722602739726025,0.45,0.44722602739726025,0.5687328767123287,0.475,0.3625,0.44722602739726025,0.3125,0.3375,0.45,0.4,0.35,0.625,0.8,0.65,0.375,0.6125,0.8125,0.6,0.5875,0.44722602739726025,0.3125,0.725,0.6875,0.225,0.45,0.5875,0.44722602739726025,0.5625,0.625,0.2125,0.45,0.45,0.75,0.6125,0.525,0.7625,1.0,0.4,0.6,0.7,0.725,0.5875,0.3875,0.45,0.3375,0.3875,0.6125,0.525,0.4375,0.525,0.44722602739726025,0.6,0.2375,0.3375,0.4375,0.44722602739726025,0.45,0.875,0.2375,0.44722602739726025,0.3625,0.575,0.4875,0.44722602739726025,0.44722602739726025,0.6375,0.3875,0.4125,0.325],\"xaxis\":\"x\",\"y\":[0.10122885832000206,0.025374310111545468,0.06929138530460492,0.5133418122566505,0.1209753416358076,0.06929138530460492,0.16293234896625058,0.014931805565640218,0.11940564777490723,0.06764049365134761,0.12366716556464086,0.15085515328815924,0.10149724044618187,0.4831284260198326,0.15085515328815924,0.10364429745562033,0.15458810467956932,0.050748620223090936,0.06538764528744409,0.05991421140938287,0.09759350042902103,0.060507970265993034,0.17566830077223786,0.17566830077223786,0.10257896680493714,0.051822148727810165,0.1554664461834305,0.0,0.057970539254838485,0.050748620223090936,0.025130326360472913,0.05953203526170282,0.055628295244541985,0.2995388511917728,0.12999454257145598,0.06831545030031472,0.1082149914547131,0.41282050681475896,0.23422440102965045,0.015712553569072387,0.051822148727810165,0.1091095334796455,0.5133418122566505,0.05953203526170282,0.05416439273810667,0.17391981561855152,0.051822148727810165,0.051822148727810165,0.07514699533034619,0.10149724044618187,0.17777475888549785,0.057970539254838485,0.05953203526170282,0.2125586439344078,0.05130978285055781,0.06640417918791278,0.4328841690069588,0.051822148727810165,0.20772776566317125,0.21642978772242535,0.051504969851415845,0.07831878409428937,0.15458810467956932,0.11111839809247648,0.10257896680493714,0.06308600017332605,0.05855610025741261,0.05953203526170282,0.1497654242623688,0.06929138530460492,0.22109807522194713,0.04994347384455151,0.10149724044618187,1.0,0.1497654242623688,0.11125659048908397,0.21642978772242535,0.014931805565640218,0.05130978285055781,0.05130978285055781,0.051822148727810165,0.10149724044618187,0.014931805565640218,0.10364429745562033,1.0,0.05855610025741261,0.15390495017656614,0.13858277060920984,0.10364429745562033,0.015126992566498259,0.05855610025741261,0.15458810467956932,0.0,0.0,0.057970539254838485,0.051822148727810165,0.09856123757927521,0.009759350042902102,0.05855610025741261],\"yaxis\":\"y\",\"type\":\"histogram\"},{\"alignmentgroup\":\"True\",\"boxpoints\":\"all\",\"customdata\":[[0.0,1,\"male\",0,0,\"S\",\"First\",\"man\",true,\"E\",\"no\",true],[1.0,2,\"male\",0,0,\"S\",\"Second\",\"man\",true,\"D\",\"yes\",true],[1.0,1,\"male\",0,0,\"S\",\"First\",\"man\",true,\"A\",\"yes\",true],[0.0,1,\"male\",3,2,\"S\",\"First\",\"man\",true,\"C\",\"no\",false],[0.0,1,\"male\",0,1,\"C\",\"First\",\"man\",true,\"B\",\"no\",false],[1.0,1,\"male\",0,0,\"S\",\"First\",\"man\",true,\"C\",\"yes\",true],[0.0,1,\"male\",1,0,\"S\",\"First\",\"man\",true,\"C\",\"no\",false],[0.0,3,\"male\",0,0,\"S\",\"Third\",\"man\",true,\"F\",\"no\",true],[0.0,1,\"male\",1,0,\"S\",\"First\",\"man\",true,\"E\",\"no\",false],[0.0,1,\"male\",0,0,\"C\",\"First\",\"man\",true,\"A\",\"no\",true],[1.0,1,\"male\",0,1,\"C\",\"First\",\"man\",true,\"D\",\"yes\",false],[0.0,1,\"male\",0,1,\"S\",\"First\",\"man\",true,\"D\",\"no\",false],[0.0,1,\"male\",0,0,\"S\",\"First\",\"man\",true,\"C\",\"no\",true],[0.0,1,\"male\",0,1,\"C\",\"First\",\"man\",true,\"B\",\"no\",false],[0.0,1,\"male\",0,1,\"S\",\"First\",\"man\",true,\"D\",\"no\",false],[0.0,1,\"male\",1,0,\"S\",\"First\",\"man\",true,\"C\",\"no\",false],[0.0,1,\"male\",0,0,\"C\",\"First\",\"man\",true,\"B\",\"no\",true],[0.0,2,\"male\",0,2,\"S\",\"Second\",\"man\",true,\"F\",\"no\",false],[0.0,1,\"male\",0,0,\"S\",\"First\",\"man\",true,\"B\",\"no\",true],[0.0,1,\"male\",0,0,\"C\",\"First\",\"man\",true,\"A\",\"no\",true],[0.0,1,\"male\",0,0,\"S\",\"First\",\"man\",true,\"A\",\"no\",true],[1.0,1,\"male\",0,0,\"C\",\"First\",\"man\",true,\"A\",\"yes\",true],[1.0,1,\"male\",1,0,\"S\",\"First\",\"man\",true,\"C\",\"yes\",false],[0.0,1,\"male\",2,0,\"Q\",\"First\",\"man\",true,\"C\",\"no\",false],[1.0,1,\"male\",1,1,\"S\",\"First\",\"man\",true,\"D\",\"yes\",false],[0.0,1,\"male\",0,0,\"S\",\"First\",\"man\",true,\"C\",\"no\",true],[0.0,1,\"male\",1,1,\"S\",\"First\",\"man\",true,\"E\",\"no\",false],[0.0,1,\"male\",0,0,\"S\",\"First\",\"man\",true,\"B\",\"no\",true],[0.0,1,\"male\",0,1,\"C\",\"First\",\"man\",true,\"C\",\"no\",false],[0.0,1,\"male\",0,0,\"S\",\"First\",\"man\",true,\"A\",\"no\",true],[0.0,2,\"male\",0,0,\"C\",\"Second\",\"man\",true,\"D\",\"no\",true],[1.0,1,\"male\",0,0,\"S\",\"First\",\"man\",true,\"C\",\"yes\",true],[0.0,1,\"male\",0,0,\"S\",\"First\",\"man\",true,\"C\",\"no\",true],[0.0,1,\"male\",0,1,\"S\",\"First\",\"man\",true,\"C\",\"no\",false],[0.0,1,\"male\",1,0,\"S\",\"First\",\"man\",true,\"C\",\"no\",false],[0.0,1,\"male\",0,0,\"S\",\"First\",\"man\",true,\"C\",\"no\",true],[1.0,1,\"male\",1,0,\"C\",\"First\",\"man\",true,\"E\",\"yes\",false],[0.0,1,\"male\",0,2,\"C\",\"First\",\"man\",true,\"C\",\"no\",false],[1.0,1,\"male\",1,2,\"S\",\"First\",\"man\",true,\"B\",\"yes\",false],[1.0,3,\"male\",0,0,\"S\",\"Third\",\"man\",true,\"E\",\"yes\",true],[1.0,1,\"male\",0,0,\"S\",\"First\",\"man\",true,\"C\",\"yes\",true],[0.0,1,\"male\",1,0,\"S\",\"First\",\"man\",true,\"E\",\"no\",false],[0.0,1,\"male\",1,4,\"S\",\"First\",\"man\",true,\"C\",\"no\",false],[1.0,1,\"male\",0,0,\"S\",\"First\",\"man\",true,\"C\",\"yes\",true],[0.0,1,\"male\",0,0,\"C\",\"First\",\"man\",true,\"C\",\"no\",true],[1.0,1,\"male\",1,0,\"C\",\"First\",\"man\",true,\"C\",\"yes\",false],[0.0,1,\"male\",0,0,\"S\",\"First\",\"man\",true,\"E\",\"no\",true],[1.0,1,\"male\",0,0,\"S\",\"First\",\"man\",true,\"E\",\"yes\",true],[0.0,1,\"male\",0,0,\"S\",\"First\",\"man\",true,\"E\",\"no\",true],[0.0,1,\"male\",0,0,\"S\",\"First\",\"man\",true,\"A\",\"no\",true],[1.0,1,\"male\",1,0,\"C\",\"First\",\"man\",true,\"B\",\"yes\",false],[0.0,1,\"male\",0,0,\"C\",\"First\",\"man\",true,\"B\",\"no\",true],[0.0,1,\"male\",0,0,\"S\",\"First\",\"man\",true,\"C\",\"no\",true],[0.0,1,\"male\",1,0,\"C\",\"First\",\"man\",true,\"C\",\"no\",false],[1.0,1,\"male\",0,0,\"S\",\"First\",\"man\",true,\"E\",\"yes\",true],[0.0,1,\"male\",0,0,\"S\",\"First\",\"man\",true,\"D\",\"no\",true],[0.0,1,\"male\",0,0,\"S\",\"First\",\"man\",true,\"C\",\"no\",true],[0.0,1,\"male\",0,0,\"S\",\"First\",\"man\",true,\"B\",\"no\",true],[0.0,1,\"male\",1,0,\"C\",\"First\",\"man\",true,\"C\",\"no\",false],[1.0,1,\"male\",0,2,\"C\",\"First\",\"man\",true,\"C\",\"yes\",false],[1.0,1,\"male\",0,0,\"S\",\"First\",\"man\",true,\"E\",\"yes\",true],[0.0,1,\"male\",0,0,\"C\",\"First\",\"man\",true,\"A\",\"no\",true],[1.0,1,\"male\",1,1,\"C\",\"First\",\"man\",true,\"B\",\"yes\",false],[1.0,1,\"male\",1,0,\"C\",\"First\",\"man\",true,\"A\",\"yes\",false],[1.0,1,\"male\",1,0,\"S\",\"First\",\"man\",true,\"D\",\"yes\",false],[0.0,1,\"male\",0,0,\"S\",\"First\",\"man\",true,\"D\",\"no\",true],[1.0,1,\"male\",0,0,\"S\",\"First\",\"man\",true,\"A\",\"yes\",true],[1.0,1,\"male\",0,0,\"C\",\"First\",\"man\",true,\"B\",\"yes\",true],[1.0,1,\"male\",1,0,\"C\",\"First\",\"man\",true,\"D\",\"yes\",false],[1.0,1,\"male\",0,0,\"C\",\"First\",\"man\",true,\"A\",\"yes\",true],[0.0,1,\"male\",0,2,\"C\",\"First\",\"man\",true,\"D\",\"no\",false],[0.0,1,\"male\",0,0,\"S\",\"First\",\"man\",true,\"E\",\"no\",true],[0.0,1,\"male\",1,0,\"S\",\"First\",\"man\",true,\"B\",\"no\",false],[1.0,1,\"male\",0,1,\"C\",\"First\",\"man\",true,\"B\",\"yes\",false],[1.0,1,\"male\",0,0,\"C\",\"First\",\"man\",true,\"D\",\"yes\",true],[1.0,1,\"male\",1,0,\"S\",\"First\",\"man\",true,\"B\",\"yes\",false],[0.0,1,\"male\",1,1,\"C\",\"First\",\"man\",true,\"C\",\"no\",false],[0.0,3,\"male\",0,0,\"S\",\"Third\",\"man\",true,\"F\",\"no\",true],[1.0,1,\"male\",0,0,\"S\",\"First\",\"man\",true,\"E\",\"yes\",true],[1.0,1,\"male\",0,0,\"S\",\"First\",\"man\",true,\"E\",\"yes\",true],[0.0,1,\"male\",0,0,\"S\",\"First\",\"man\",true,\"C\",\"no\",true],[1.0,1,\"male\",1,0,\"S\",\"First\",\"man\",true,\"C\",\"yes\",false],[0.0,3,\"male\",0,0,\"S\",\"Third\",\"man\",true,\"F\",\"no\",true],[1.0,1,\"male\",1,0,\"S\",\"First\",\"man\",true,\"E\",\"yes\",false],[1.0,1,\"male\",0,0,\"C\",\"First\",\"man\",true,\"B\",\"yes\",true],[1.0,1,\"male\",0,0,\"S\",\"First\",\"man\",true,\"D\",\"yes\",true],[0.0,1,\"male\",1,0,\"S\",\"First\",\"man\",true,\"C\",\"no\",false],[0.0,1,\"male\",1,1,\"S\",\"First\",\"man\",true,\"B\",\"no\",false],[0.0,1,\"male\",1,0,\"S\",\"First\",\"man\",true,\"D\",\"no\",false],[0.0,3,\"male\",0,0,\"Q\",\"Third\",\"man\",true,\"F\",\"no\",true],[0.0,1,\"male\",0,0,\"S\",\"First\",\"man\",true,\"D\",\"no\",true],[0.0,1,\"male\",0,0,\"C\",\"First\",\"man\",true,\"B\",\"no\",true],[0.0,1,\"male\",0,0,\"S\",\"First\",\"man\",true,\"A\",\"no\",true],[0.0,1,\"male\",0,0,\"S\",\"First\",\"man\",true,\"B\",\"no\",true],[1.0,1,\"male\",0,0,\"C\",\"First\",\"man\",true,\"C\",\"yes\",true],[1.0,1,\"male\",0,0,\"S\",\"First\",\"man\",true,\"E\",\"yes\",true],[0.0,1,\"male\",0,0,\"S\",\"First\",\"man\",true,\"A\",\"no\",true],[0.0,1,\"male\",0,0,\"S\",\"First\",\"man\",true,\"B\",\"no\",true],[1.0,1,\"male\",0,0,\"C\",\"First\",\"man\",true,\"C\",\"yes\",true]],\"fillcolor\":\"rgba(255,255,255,0)\",\"hoveron\":\"points\",\"hovertemplate\":\"who=%{customdata[7]}<br>age in days=%{x}<br>survived=%{customdata[0]}<br>pclass=%{customdata[1]}<br>sex=%{customdata[2]}<br>sibsp=%{customdata[3]}<br>parch=%{customdata[4]}<br>embarked=%{customdata[5]}<br>class=%{customdata[6]}<br>adult_male=%{customdata[8]}<br>deck=%{customdata[9]}<br>alive=%{customdata[10]}<br>alone=%{customdata[11]}<extra></extra>\",\"jitter\":0,\"legendgroup\":\"man\",\"line\":{\"color\":\"rgba(255,255,255,0)\"},\"marker\":{\"color\":\"#EF553B\",\"symbol\":\"line-ns-open\"},\"name\":\"man\",\"offsetgroup\":\"man\",\"showlegend\":false,\"x\":[0.675,0.425,0.35,0.2375,0.8125,0.44722602739726025,0.5625,0.3125,0.575,0.8875,0.2875,0.2625,0.5875,0.3,0.675,0.4625,0.3,0.45623287671232876,0.7625,0.7,0.44722602739726025,0.5,0.475,0.55,0.4625,0.775,0.65,0.5,0.4625,0.44722602739726025,0.45,0.44722602739726025,0.5687328767123287,0.475,0.3625,0.44722602739726025,0.3125,0.3375,0.45,0.4,0.35,0.625,0.8,0.65,0.375,0.6125,0.8125,0.6,0.5875,0.44722602739726025,0.3125,0.725,0.6875,0.225,0.45,0.5875,0.44722602739726025,0.5625,0.625,0.2125,0.45,0.45,0.75,0.6125,0.525,0.7625,1.0,0.4,0.6,0.7,0.725,0.5875,0.3875,0.45,0.3375,0.3875,0.6125,0.525,0.4375,0.525,0.44722602739726025,0.6,0.2375,0.3375,0.4375,0.44722602739726025,0.45,0.875,0.2375,0.44722602739726025,0.3625,0.575,0.4875,0.44722602739726025,0.44722602739726025,0.6375,0.3875,0.4125,0.325],\"xaxis\":\"x2\",\"yaxis\":\"y2\",\"type\":\"box\"},{\"alignmentgroup\":\"True\",\"bingroup\":\"x\",\"histfunc\":\"sum\",\"hovertemplate\":\"who=child<br>age in days=%{x}<br>sum of fare=%{y}<extra></extra>\",\"legendgroup\":\"child\",\"marker\":{\"color\":\"#00cc96\",\"pattern\":{\"shape\":\"\"}},\"name\":\"child\",\"offsetgroup\":\"child\",\"orientation\":\"v\",\"showlegend\":true,\"x\":[0.05,0.0125,0.0375,0.025,0.025,0.011472602739726027,0.025,0.175,0.05,0.05,0.1875,0.075,0.1375],\"xaxis\":\"x\",\"y\":[0.03259622914329302,0.0761229303346364,0.050748620223090936,0.02042143996477265,0.29580589980036276,0.29580589980036276,0.050748620223090936,0.23422440102965045,0.15977676072337862,0.0761229303346364,0.41250332793836464,0.024349578357040744,0.23422440102965045],\"yaxis\":\"y\",\"type\":\"histogram\"},{\"alignmentgroup\":\"True\",\"boxpoints\":\"all\",\"customdata\":[[1.0,3,\"female\",1,1,\"S\",\"Third\",\"child\",false,\"G\",\"yes\",false],[1.0,2,\"male\",2,1,\"S\",\"Second\",\"child\",false,\"F\",\"yes\",false],[1.0,2,\"male\",1,1,\"S\",\"Second\",\"child\",false,\"F\",\"yes\",false],[0.0,3,\"female\",0,1,\"S\",\"Third\",\"child\",false,\"G\",\"no\",false],[0.0,1,\"female\",1,2,\"S\",\"First\",\"child\",false,\"C\",\"no\",false],[1.0,1,\"male\",1,2,\"S\",\"First\",\"child\",false,\"C\",\"yes\",false],[1.0,2,\"male\",1,1,\"S\",\"Second\",\"child\",false,\"F\",\"yes\",false],[1.0,1,\"female\",1,2,\"S\",\"First\",\"child\",false,\"B\",\"yes\",false],[1.0,1,\"male\",0,2,\"S\",\"First\",\"child\",false,\"A\",\"yes\",false],[1.0,2,\"female\",2,1,\"S\",\"Second\",\"child\",false,\"F\",\"yes\",false],[1.0,1,\"female\",0,1,\"S\",\"First\",\"child\",false,\"B\",\"yes\",false],[1.0,3,\"male\",0,1,\"S\",\"Third\",\"child\",false,\"E\",\"yes\",false],[1.0,1,\"male\",1,2,\"S\",\"First\",\"child\",false,\"B\",\"yes\",false]],\"fillcolor\":\"rgba(255,255,255,0)\",\"hoveron\":\"points\",\"hovertemplate\":\"who=%{customdata[7]}<br>age in days=%{x}<br>survived=%{customdata[0]}<br>pclass=%{customdata[1]}<br>sex=%{customdata[2]}<br>sibsp=%{customdata[3]}<br>parch=%{customdata[4]}<br>embarked=%{customdata[5]}<br>class=%{customdata[6]}<br>adult_male=%{customdata[8]}<br>deck=%{customdata[9]}<br>alive=%{customdata[10]}<br>alone=%{customdata[11]}<extra></extra>\",\"jitter\":0,\"legendgroup\":\"child\",\"line\":{\"color\":\"rgba(255,255,255,0)\"},\"marker\":{\"color\":\"#00cc96\",\"symbol\":\"line-ns-open\"},\"name\":\"child\",\"offsetgroup\":\"child\",\"showlegend\":false,\"x\":[0.05,0.0125,0.0375,0.025,0.025,0.011472602739726027,0.025,0.175,0.05,0.05,0.1875,0.075,0.1375],\"xaxis\":\"x2\",\"yaxis\":\"y2\",\"type\":\"box\"}],                        {\"template\":{\"data\":{\"histogram2dcontour\":[{\"type\":\"histogram2dcontour\",\"colorbar\":{\"outlinewidth\":0,\"ticks\":\"\"},\"colorscale\":[[0.0,\"#0d0887\"],[0.1111111111111111,\"#46039f\"],[0.2222222222222222,\"#7201a8\"],[0.3333333333333333,\"#9c179e\"],[0.4444444444444444,\"#bd3786\"],[0.5555555555555556,\"#d8576b\"],[0.6666666666666666,\"#ed7953\"],[0.7777777777777778,\"#fb9f3a\"],[0.8888888888888888,\"#fdca26\"],[1.0,\"#f0f921\"]]}],\"choropleth\":[{\"type\":\"choropleth\",\"colorbar\":{\"outlinewidth\":0,\"ticks\":\"\"}}],\"histogram2d\":[{\"type\":\"histogram2d\",\"colorbar\":{\"outlinewidth\":0,\"ticks\":\"\"},\"colorscale\":[[0.0,\"#0d0887\"],[0.1111111111111111,\"#46039f\"],[0.2222222222222222,\"#7201a8\"],[0.3333333333333333,\"#9c179e\"],[0.4444444444444444,\"#bd3786\"],[0.5555555555555556,\"#d8576b\"],[0.6666666666666666,\"#ed7953\"],[0.7777777777777778,\"#fb9f3a\"],[0.8888888888888888,\"#fdca26\"],[1.0,\"#f0f921\"]]}],\"heatmap\":[{\"type\":\"heatmap\",\"colorbar\":{\"outlinewidth\":0,\"ticks\":\"\"},\"colorscale\":[[0.0,\"#0d0887\"],[0.1111111111111111,\"#46039f\"],[0.2222222222222222,\"#7201a8\"],[0.3333333333333333,\"#9c179e\"],[0.4444444444444444,\"#bd3786\"],[0.5555555555555556,\"#d8576b\"],[0.6666666666666666,\"#ed7953\"],[0.7777777777777778,\"#fb9f3a\"],[0.8888888888888888,\"#fdca26\"],[1.0,\"#f0f921\"]]}],\"heatmapgl\":[{\"type\":\"heatmapgl\",\"colorbar\":{\"outlinewidth\":0,\"ticks\":\"\"},\"colorscale\":[[0.0,\"#0d0887\"],[0.1111111111111111,\"#46039f\"],[0.2222222222222222,\"#7201a8\"],[0.3333333333333333,\"#9c179e\"],[0.4444444444444444,\"#bd3786\"],[0.5555555555555556,\"#d8576b\"],[0.6666666666666666,\"#ed7953\"],[0.7777777777777778,\"#fb9f3a\"],[0.8888888888888888,\"#fdca26\"],[1.0,\"#f0f921\"]]}],\"contourcarpet\":[{\"type\":\"contourcarpet\",\"colorbar\":{\"outlinewidth\":0,\"ticks\":\"\"}}],\"contour\":[{\"type\":\"contour\",\"colorbar\":{\"outlinewidth\":0,\"ticks\":\"\"},\"colorscale\":[[0.0,\"#0d0887\"],[0.1111111111111111,\"#46039f\"],[0.2222222222222222,\"#7201a8\"],[0.3333333333333333,\"#9c179e\"],[0.4444444444444444,\"#bd3786\"],[0.5555555555555556,\"#d8576b\"],[0.6666666666666666,\"#ed7953\"],[0.7777777777777778,\"#fb9f3a\"],[0.8888888888888888,\"#fdca26\"],[1.0,\"#f0f921\"]]}],\"surface\":[{\"type\":\"surface\",\"colorbar\":{\"outlinewidth\":0,\"ticks\":\"\"},\"colorscale\":[[0.0,\"#0d0887\"],[0.1111111111111111,\"#46039f\"],[0.2222222222222222,\"#7201a8\"],[0.3333333333333333,\"#9c179e\"],[0.4444444444444444,\"#bd3786\"],[0.5555555555555556,\"#d8576b\"],[0.6666666666666666,\"#ed7953\"],[0.7777777777777778,\"#fb9f3a\"],[0.8888888888888888,\"#fdca26\"],[1.0,\"#f0f921\"]]}],\"mesh3d\":[{\"type\":\"mesh3d\",\"colorbar\":{\"outlinewidth\":0,\"ticks\":\"\"}}],\"scatter\":[{\"fillpattern\":{\"fillmode\":\"overlay\",\"size\":10,\"solidity\":0.2},\"type\":\"scatter\"}],\"parcoords\":[{\"type\":\"parcoords\",\"line\":{\"colorbar\":{\"outlinewidth\":0,\"ticks\":\"\"}}}],\"scatterpolargl\":[{\"type\":\"scatterpolargl\",\"marker\":{\"colorbar\":{\"outlinewidth\":0,\"ticks\":\"\"}}}],\"bar\":[{\"error_x\":{\"color\":\"#2a3f5f\"},\"error_y\":{\"color\":\"#2a3f5f\"},\"marker\":{\"line\":{\"color\":\"#E5ECF6\",\"width\":0.5},\"pattern\":{\"fillmode\":\"overlay\",\"size\":10,\"solidity\":0.2}},\"type\":\"bar\"}],\"scattergeo\":[{\"type\":\"scattergeo\",\"marker\":{\"colorbar\":{\"outlinewidth\":0,\"ticks\":\"\"}}}],\"scatterpolar\":[{\"type\":\"scatterpolar\",\"marker\":{\"colorbar\":{\"outlinewidth\":0,\"ticks\":\"\"}}}],\"histogram\":[{\"marker\":{\"pattern\":{\"fillmode\":\"overlay\",\"size\":10,\"solidity\":0.2}},\"type\":\"histogram\"}],\"scattergl\":[{\"type\":\"scattergl\",\"marker\":{\"colorbar\":{\"outlinewidth\":0,\"ticks\":\"\"}}}],\"scatter3d\":[{\"type\":\"scatter3d\",\"line\":{\"colorbar\":{\"outlinewidth\":0,\"ticks\":\"\"}},\"marker\":{\"colorbar\":{\"outlinewidth\":0,\"ticks\":\"\"}}}],\"scattermapbox\":[{\"type\":\"scattermapbox\",\"marker\":{\"colorbar\":{\"outlinewidth\":0,\"ticks\":\"\"}}}],\"scatterternary\":[{\"type\":\"scatterternary\",\"marker\":{\"colorbar\":{\"outlinewidth\":0,\"ticks\":\"\"}}}],\"scattercarpet\":[{\"type\":\"scattercarpet\",\"marker\":{\"colorbar\":{\"outlinewidth\":0,\"ticks\":\"\"}}}],\"carpet\":[{\"aaxis\":{\"endlinecolor\":\"#2a3f5f\",\"gridcolor\":\"white\",\"linecolor\":\"white\",\"minorgridcolor\":\"white\",\"startlinecolor\":\"#2a3f5f\"},\"baxis\":{\"endlinecolor\":\"#2a3f5f\",\"gridcolor\":\"white\",\"linecolor\":\"white\",\"minorgridcolor\":\"white\",\"startlinecolor\":\"#2a3f5f\"},\"type\":\"carpet\"}],\"table\":[{\"cells\":{\"fill\":{\"color\":\"#EBF0F8\"},\"line\":{\"color\":\"white\"}},\"header\":{\"fill\":{\"color\":\"#C8D4E3\"},\"line\":{\"color\":\"white\"}},\"type\":\"table\"}],\"barpolar\":[{\"marker\":{\"line\":{\"color\":\"#E5ECF6\",\"width\":0.5},\"pattern\":{\"fillmode\":\"overlay\",\"size\":10,\"solidity\":0.2}},\"type\":\"barpolar\"}],\"pie\":[{\"automargin\":true,\"type\":\"pie\"}]},\"layout\":{\"autotypenumbers\":\"strict\",\"colorway\":[\"#636efa\",\"#EF553B\",\"#00cc96\",\"#ab63fa\",\"#FFA15A\",\"#19d3f3\",\"#FF6692\",\"#B6E880\",\"#FF97FF\",\"#FECB52\"],\"font\":{\"color\":\"#2a3f5f\"},\"hovermode\":\"closest\",\"hoverlabel\":{\"align\":\"left\"},\"paper_bgcolor\":\"white\",\"plot_bgcolor\":\"#E5ECF6\",\"polar\":{\"bgcolor\":\"#E5ECF6\",\"angularaxis\":{\"gridcolor\":\"white\",\"linecolor\":\"white\",\"ticks\":\"\"},\"radialaxis\":{\"gridcolor\":\"white\",\"linecolor\":\"white\",\"ticks\":\"\"}},\"ternary\":{\"bgcolor\":\"#E5ECF6\",\"aaxis\":{\"gridcolor\":\"white\",\"linecolor\":\"white\",\"ticks\":\"\"},\"baxis\":{\"gridcolor\":\"white\",\"linecolor\":\"white\",\"ticks\":\"\"},\"caxis\":{\"gridcolor\":\"white\",\"linecolor\":\"white\",\"ticks\":\"\"}},\"coloraxis\":{\"colorbar\":{\"outlinewidth\":0,\"ticks\":\"\"}},\"colorscale\":{\"sequential\":[[0.0,\"#0d0887\"],[0.1111111111111111,\"#46039f\"],[0.2222222222222222,\"#7201a8\"],[0.3333333333333333,\"#9c179e\"],[0.4444444444444444,\"#bd3786\"],[0.5555555555555556,\"#d8576b\"],[0.6666666666666666,\"#ed7953\"],[0.7777777777777778,\"#fb9f3a\"],[0.8888888888888888,\"#fdca26\"],[1.0,\"#f0f921\"]],\"sequentialminus\":[[0.0,\"#0d0887\"],[0.1111111111111111,\"#46039f\"],[0.2222222222222222,\"#7201a8\"],[0.3333333333333333,\"#9c179e\"],[0.4444444444444444,\"#bd3786\"],[0.5555555555555556,\"#d8576b\"],[0.6666666666666666,\"#ed7953\"],[0.7777777777777778,\"#fb9f3a\"],[0.8888888888888888,\"#fdca26\"],[1.0,\"#f0f921\"]],\"diverging\":[[0,\"#8e0152\"],[0.1,\"#c51b7d\"],[0.2,\"#de77ae\"],[0.3,\"#f1b6da\"],[0.4,\"#fde0ef\"],[0.5,\"#f7f7f7\"],[0.6,\"#e6f5d0\"],[0.7,\"#b8e186\"],[0.8,\"#7fbc41\"],[0.9,\"#4d9221\"],[1,\"#276419\"]]},\"xaxis\":{\"gridcolor\":\"white\",\"linecolor\":\"white\",\"ticks\":\"\",\"title\":{\"standoff\":15},\"zerolinecolor\":\"white\",\"automargin\":true,\"zerolinewidth\":2},\"yaxis\":{\"gridcolor\":\"white\",\"linecolor\":\"white\",\"ticks\":\"\",\"title\":{\"standoff\":15},\"zerolinecolor\":\"white\",\"automargin\":true,\"zerolinewidth\":2},\"scene\":{\"xaxis\":{\"backgroundcolor\":\"#E5ECF6\",\"gridcolor\":\"white\",\"linecolor\":\"white\",\"showbackground\":true,\"ticks\":\"\",\"zerolinecolor\":\"white\",\"gridwidth\":2},\"yaxis\":{\"backgroundcolor\":\"#E5ECF6\",\"gridcolor\":\"white\",\"linecolor\":\"white\",\"showbackground\":true,\"ticks\":\"\",\"zerolinecolor\":\"white\",\"gridwidth\":2},\"zaxis\":{\"backgroundcolor\":\"#E5ECF6\",\"gridcolor\":\"white\",\"linecolor\":\"white\",\"showbackground\":true,\"ticks\":\"\",\"zerolinecolor\":\"white\",\"gridwidth\":2}},\"shapedefaults\":{\"line\":{\"color\":\"#2a3f5f\"}},\"annotationdefaults\":{\"arrowcolor\":\"#2a3f5f\",\"arrowhead\":0,\"arrowwidth\":1},\"geo\":{\"bgcolor\":\"white\",\"landcolor\":\"#E5ECF6\",\"subunitcolor\":\"white\",\"showland\":true,\"showlakes\":true,\"lakecolor\":\"white\"},\"title\":{\"x\":0.05},\"mapbox\":{\"style\":\"light\"}}},\"xaxis\":{\"anchor\":\"y\",\"domain\":[0.0,1.0],\"title\":{\"text\":\"age in days\"}},\"yaxis\":{\"anchor\":\"x\",\"domain\":[0.0,0.7326],\"title\":{\"text\":\"sum of fare\"}},\"xaxis2\":{\"anchor\":\"y2\",\"domain\":[0.0,1.0],\"matches\":\"x\",\"showticklabels\":false,\"showgrid\":true},\"yaxis2\":{\"anchor\":\"x2\",\"domain\":[0.7426,1.0],\"matches\":\"y2\",\"showticklabels\":false,\"showline\":false,\"ticks\":\"\",\"showgrid\":false},\"legend\":{\"title\":{\"text\":\"who\"},\"tracegroupgap\":0},\"margin\":{\"t\":60},\"barmode\":\"relative\"},                        {\"responsive\": true}                    )                };                            </script>        </div>"
      ],
      "text/plain": [
       "Figure({\n",
       "    'data': [{'alignmentgroup': 'True',\n",
       "              'bingroup': 'x',\n",
       "              'histfunc': 'sum',\n",
       "              'hovertemplate': 'who=woman<br>age in days=%{x}<br>sum of fare=%{y}<extra></extra>',\n",
       "              'legendgroup': 'woman',\n",
       "              'marker': {'color': '#636efa', 'pattern': {'shape': ''}},\n",
       "              'name': 'woman',\n",
       "              'offsetgroup': 'woman',\n",
       "              'orientation': 'v',\n",
       "              'showlegend': True,\n",
       "              'type': 'histogram',\n",
       "              'x': array([0.475     , 0.4375    , 0.725     , 0.44722603, 0.6125    , 0.475     ,\n",
       "                          0.3625    , 0.2875    , 0.40623288, 0.44722603, 0.2375    , 0.275     ,\n",
       "                          0.44722603, 0.625     , 0.55      , 0.725     , 0.3875    , 0.4       ,\n",
       "                          0.4375    , 0.3625    , 0.375     , 0.725     , 0.4375    , 0.7875    ,\n",
       "                          0.2375    , 0.625     , 0.44722603, 0.2125    , 0.375     , 0.3       ,\n",
       "                          0.225     , 0.3875    , 0.5       , 0.45      , 0.45      , 0.2       ,\n",
       "                          0.5125    , 0.3       , 0.3       , 0.275     , 0.75      , 0.3       ,\n",
       "                          0.2875    , 0.3       , 0.4125    , 0.44722603, 0.2875    , 0.4375    ,\n",
       "                          0.675     , 0.3125    , 0.2       , 0.425     , 0.375     , 0.55      ,\n",
       "                          0.275     , 0.45      , 0.6       , 0.4875    , 0.6625    , 0.4875    ,\n",
       "                          0.4875    , 0.225     , 0.65      , 0.5       , 0.2625    , 0.3       ,\n",
       "                          0.44722603, 0.225     , 0.3       , 0.475     , 0.3375    , 0.3625    ,\n",
       "                          0.2625    , 0.4125    , 0.45      , 0.6375    , 0.7125    , 0.5375    ,\n",
       "                          0.2125    , 0.6125    , 0.4125    , 0.65      , 0.3375    , 0.775     ,\n",
       "                          0.4875    , 0.44722603, 0.2       , 0.6       , 0.5875    , 0.7       ,\n",
       "                          0.2375    ]),\n",
       "              'xaxis': 'x',\n",
       "              'y': array([0.13913574, 0.1036443 , 0.05182215, 0.28598956, 0.14976542, 0.1561496 ,\n",
       "                          0.02049464, 0.51334181, 0.02537431, 0.0436405 , 0.05130158, 0.12999454,\n",
       "                          0.10735285, 0.05604307, 0.0541074 , 0.28598956, 0.22109808, 0.14891148,\n",
       "                          0.16293235, 0.02042144, 0.16883676, 0.29953885, 0.26473857, 0.15216447,\n",
       "                          0.17777476, 0.48312843, 0.02410559, 0.21255864, 0.1111184 , 0.16231419,\n",
       "                          0.51212189, 0.32179837, 0.26252652, 0.26473857, 0.02537431, 0.11316786,\n",
       "                          0.26252652, 0.51334181, 0.02537431, 0.10735285, 0.14687822, 0.13526459,\n",
       "                          0.22109808, 0.03259623, 0.1756683 , 0.10122886, 0.02691961, 0.1756683 ,\n",
       "                          0.15276642, 0.2958059 , 0.16883676, 0.02049464, 0.18249985, 0.11316786,\n",
       "                          0.09661757, 0.13858277, 0.07729405, 0.15546645, 0.10048071, 0.10910953,\n",
       "                          0.21642979, 0.15546645, 0.15276642, 0.29953885, 0.15216447, 0.13526459,\n",
       "                          0.10149724, 0.44409922, 0.09662576, 0.44409922, 0.02049464, 0.41250333,\n",
       "                          0.51212189, 0.16883676, 0.2342244 , 0.15216447, 0.02049464, 0.41250333,\n",
       "                          0.11125659, 0.05061043, 0.1036443 , 0.18249985, 0.02434958, 0.1561496 ,\n",
       "                          0.16231419, 0.17391982, 0.07690368, 0.05061043, 0.10257897, 0.16231419,\n",
       "                          0.0585561 ]),\n",
       "              'yaxis': 'y'},\n",
       "             {'alignmentgroup': 'True',\n",
       "              'boxpoints': 'all',\n",
       "              'customdata': array([[1.0, 1, 'female', ..., 'C', 'yes', False],\n",
       "                                   [1.0, 1, 'female', ..., 'C', 'yes', False],\n",
       "                                   [1.0, 1, 'female', ..., 'C', 'yes', True],\n",
       "                                   ...,\n",
       "                                   [1.0, 1, 'female', ..., 'D', 'yes', False],\n",
       "                                   [1.0, 1, 'female', ..., 'C', 'yes', False],\n",
       "                                   [1.0, 1, 'female', ..., 'B', 'yes', True]], dtype=object),\n",
       "              'fillcolor': 'rgba(255,255,255,0)',\n",
       "              'hoveron': 'points',\n",
       "              'hovertemplate': ('who=%{customdata[7]}<br>age in' ... 'customdata[11]}<extra></extra>'),\n",
       "              'jitter': 0,\n",
       "              'legendgroup': 'woman',\n",
       "              'line': {'color': 'rgba(255,255,255,0)'},\n",
       "              'marker': {'color': '#636efa', 'symbol': 'line-ns-open'},\n",
       "              'name': 'woman',\n",
       "              'offsetgroup': 'woman',\n",
       "              'showlegend': False,\n",
       "              'type': 'box',\n",
       "              'x': array([0.475     , 0.4375    , 0.725     , 0.44722603, 0.6125    , 0.475     ,\n",
       "                          0.3625    , 0.2875    , 0.40623288, 0.44722603, 0.2375    , 0.275     ,\n",
       "                          0.44722603, 0.625     , 0.55      , 0.725     , 0.3875    , 0.4       ,\n",
       "                          0.4375    , 0.3625    , 0.375     , 0.725     , 0.4375    , 0.7875    ,\n",
       "                          0.2375    , 0.625     , 0.44722603, 0.2125    , 0.375     , 0.3       ,\n",
       "                          0.225     , 0.3875    , 0.5       , 0.45      , 0.45      , 0.2       ,\n",
       "                          0.5125    , 0.3       , 0.3       , 0.275     , 0.75      , 0.3       ,\n",
       "                          0.2875    , 0.3       , 0.4125    , 0.44722603, 0.2875    , 0.4375    ,\n",
       "                          0.675     , 0.3125    , 0.2       , 0.425     , 0.375     , 0.55      ,\n",
       "                          0.275     , 0.45      , 0.6       , 0.4875    , 0.6625    , 0.4875    ,\n",
       "                          0.4875    , 0.225     , 0.65      , 0.5       , 0.2625    , 0.3       ,\n",
       "                          0.44722603, 0.225     , 0.3       , 0.475     , 0.3375    , 0.3625    ,\n",
       "                          0.2625    , 0.4125    , 0.45      , 0.6375    , 0.7125    , 0.5375    ,\n",
       "                          0.2125    , 0.6125    , 0.4125    , 0.65      , 0.3375    , 0.775     ,\n",
       "                          0.4875    , 0.44722603, 0.2       , 0.6       , 0.5875    , 0.7       ,\n",
       "                          0.2375    ]),\n",
       "              'xaxis': 'x2',\n",
       "              'yaxis': 'y2'},\n",
       "             {'alignmentgroup': 'True',\n",
       "              'bingroup': 'x',\n",
       "              'histfunc': 'sum',\n",
       "              'hovertemplate': 'who=man<br>age in days=%{x}<br>sum of fare=%{y}<extra></extra>',\n",
       "              'legendgroup': 'man',\n",
       "              'marker': {'color': '#EF553B', 'pattern': {'shape': ''}},\n",
       "              'name': 'man',\n",
       "              'offsetgroup': 'man',\n",
       "              'orientation': 'v',\n",
       "              'showlegend': True,\n",
       "              'type': 'histogram',\n",
       "              'x': array([0.675     , 0.425     , 0.35      , 0.2375    , 0.8125    , 0.44722603,\n",
       "                          0.5625    , 0.3125    , 0.575     , 0.8875    , 0.2875    , 0.2625    ,\n",
       "                          0.5875    , 0.3       , 0.675     , 0.4625    , 0.3       , 0.45623288,\n",
       "                          0.7625    , 0.7       , 0.44722603, 0.5       , 0.475     , 0.55      ,\n",
       "                          0.4625    , 0.775     , 0.65      , 0.5       , 0.4625    , 0.44722603,\n",
       "                          0.45      , 0.44722603, 0.56873288, 0.475     , 0.3625    , 0.44722603,\n",
       "                          0.3125    , 0.3375    , 0.45      , 0.4       , 0.35      , 0.625     ,\n",
       "                          0.8       , 0.65      , 0.375     , 0.6125    , 0.8125    , 0.6       ,\n",
       "                          0.5875    , 0.44722603, 0.3125    , 0.725     , 0.6875    , 0.225     ,\n",
       "                          0.45      , 0.5875    , 0.44722603, 0.5625    , 0.625     , 0.2125    ,\n",
       "                          0.45      , 0.45      , 0.75      , 0.6125    , 0.525     , 0.7625    ,\n",
       "                          1.        , 0.4       , 0.6       , 0.7       , 0.725     , 0.5875    ,\n",
       "                          0.3875    , 0.45      , 0.3375    , 0.3875    , 0.6125    , 0.525     ,\n",
       "                          0.4375    , 0.525     , 0.44722603, 0.6       , 0.2375    , 0.3375    ,\n",
       "                          0.4375    , 0.44722603, 0.45      , 0.875     , 0.2375    , 0.44722603,\n",
       "                          0.3625    , 0.575     , 0.4875    , 0.44722603, 0.44722603, 0.6375    ,\n",
       "                          0.3875    , 0.4125    , 0.325     ]),\n",
       "              'xaxis': 'x',\n",
       "              'y': array([0.10122886, 0.02537431, 0.06929139, 0.51334181, 0.12097534, 0.06929139,\n",
       "                          0.16293235, 0.01493181, 0.11940565, 0.06764049, 0.12366717, 0.15085515,\n",
       "                          0.10149724, 0.48312843, 0.15085515, 0.1036443 , 0.1545881 , 0.05074862,\n",
       "                          0.06538765, 0.05991421, 0.0975935 , 0.06050797, 0.1756683 , 0.1756683 ,\n",
       "                          0.10257897, 0.05182215, 0.15546645, 0.        , 0.05797054, 0.05074862,\n",
       "                          0.02513033, 0.05953204, 0.0556283 , 0.29953885, 0.12999454, 0.06831545,\n",
       "                          0.10821499, 0.41282051, 0.2342244 , 0.01571255, 0.05182215, 0.10910953,\n",
       "                          0.51334181, 0.05953204, 0.05416439, 0.17391982, 0.05182215, 0.05182215,\n",
       "                          0.075147  , 0.10149724, 0.17777476, 0.05797054, 0.05953204, 0.21255864,\n",
       "                          0.05130978, 0.06640418, 0.43288417, 0.05182215, 0.20772777, 0.21642979,\n",
       "                          0.05150497, 0.07831878, 0.1545881 , 0.1111184 , 0.10257897, 0.063086  ,\n",
       "                          0.0585561 , 0.05953204, 0.14976542, 0.06929139, 0.22109808, 0.04994347,\n",
       "                          0.10149724, 1.        , 0.14976542, 0.11125659, 0.21642979, 0.01493181,\n",
       "                          0.05130978, 0.05130978, 0.05182215, 0.10149724, 0.01493181, 0.1036443 ,\n",
       "                          1.        , 0.0585561 , 0.15390495, 0.13858277, 0.1036443 , 0.01512699,\n",
       "                          0.0585561 , 0.1545881 , 0.        , 0.        , 0.05797054, 0.05182215,\n",
       "                          0.09856124, 0.00975935, 0.0585561 ]),\n",
       "              'yaxis': 'y'},\n",
       "             {'alignmentgroup': 'True',\n",
       "              'boxpoints': 'all',\n",
       "              'customdata': array([[0.0, 1, 'male', ..., 'E', 'no', True],\n",
       "                                   [1.0, 2, 'male', ..., 'D', 'yes', True],\n",
       "                                   [1.0, 1, 'male', ..., 'A', 'yes', True],\n",
       "                                   ...,\n",
       "                                   [0.0, 1, 'male', ..., 'A', 'no', True],\n",
       "                                   [0.0, 1, 'male', ..., 'B', 'no', True],\n",
       "                                   [1.0, 1, 'male', ..., 'C', 'yes', True]], dtype=object),\n",
       "              'fillcolor': 'rgba(255,255,255,0)',\n",
       "              'hoveron': 'points',\n",
       "              'hovertemplate': ('who=%{customdata[7]}<br>age in' ... 'customdata[11]}<extra></extra>'),\n",
       "              'jitter': 0,\n",
       "              'legendgroup': 'man',\n",
       "              'line': {'color': 'rgba(255,255,255,0)'},\n",
       "              'marker': {'color': '#EF553B', 'symbol': 'line-ns-open'},\n",
       "              'name': 'man',\n",
       "              'offsetgroup': 'man',\n",
       "              'showlegend': False,\n",
       "              'type': 'box',\n",
       "              'x': array([0.675     , 0.425     , 0.35      , 0.2375    , 0.8125    , 0.44722603,\n",
       "                          0.5625    , 0.3125    , 0.575     , 0.8875    , 0.2875    , 0.2625    ,\n",
       "                          0.5875    , 0.3       , 0.675     , 0.4625    , 0.3       , 0.45623288,\n",
       "                          0.7625    , 0.7       , 0.44722603, 0.5       , 0.475     , 0.55      ,\n",
       "                          0.4625    , 0.775     , 0.65      , 0.5       , 0.4625    , 0.44722603,\n",
       "                          0.45      , 0.44722603, 0.56873288, 0.475     , 0.3625    , 0.44722603,\n",
       "                          0.3125    , 0.3375    , 0.45      , 0.4       , 0.35      , 0.625     ,\n",
       "                          0.8       , 0.65      , 0.375     , 0.6125    , 0.8125    , 0.6       ,\n",
       "                          0.5875    , 0.44722603, 0.3125    , 0.725     , 0.6875    , 0.225     ,\n",
       "                          0.45      , 0.5875    , 0.44722603, 0.5625    , 0.625     , 0.2125    ,\n",
       "                          0.45      , 0.45      , 0.75      , 0.6125    , 0.525     , 0.7625    ,\n",
       "                          1.        , 0.4       , 0.6       , 0.7       , 0.725     , 0.5875    ,\n",
       "                          0.3875    , 0.45      , 0.3375    , 0.3875    , 0.6125    , 0.525     ,\n",
       "                          0.4375    , 0.525     , 0.44722603, 0.6       , 0.2375    , 0.3375    ,\n",
       "                          0.4375    , 0.44722603, 0.45      , 0.875     , 0.2375    , 0.44722603,\n",
       "                          0.3625    , 0.575     , 0.4875    , 0.44722603, 0.44722603, 0.6375    ,\n",
       "                          0.3875    , 0.4125    , 0.325     ]),\n",
       "              'xaxis': 'x2',\n",
       "              'yaxis': 'y2'},\n",
       "             {'alignmentgroup': 'True',\n",
       "              'bingroup': 'x',\n",
       "              'histfunc': 'sum',\n",
       "              'hovertemplate': 'who=child<br>age in days=%{x}<br>sum of fare=%{y}<extra></extra>',\n",
       "              'legendgroup': 'child',\n",
       "              'marker': {'color': '#00cc96', 'pattern': {'shape': ''}},\n",
       "              'name': 'child',\n",
       "              'offsetgroup': 'child',\n",
       "              'orientation': 'v',\n",
       "              'showlegend': True,\n",
       "              'type': 'histogram',\n",
       "              'x': array([0.05     , 0.0125   , 0.0375   , 0.025    , 0.025    , 0.0114726,\n",
       "                          0.025    , 0.175    , 0.05     , 0.05     , 0.1875   , 0.075    ,\n",
       "                          0.1375   ]),\n",
       "              'xaxis': 'x',\n",
       "              'y': array([0.03259623, 0.07612293, 0.05074862, 0.02042144, 0.2958059 , 0.2958059 ,\n",
       "                          0.05074862, 0.2342244 , 0.15977676, 0.07612293, 0.41250333, 0.02434958,\n",
       "                          0.2342244 ]),\n",
       "              'yaxis': 'y'},\n",
       "             {'alignmentgroup': 'True',\n",
       "              'boxpoints': 'all',\n",
       "              'customdata': array([[1.0, 3, 'female', 1, 1, 'S', 'Third', 'child', False, 'G', 'yes',\n",
       "                                    False],\n",
       "                                   [1.0, 2, 'male', 2, 1, 'S', 'Second', 'child', False, 'F', 'yes',\n",
       "                                    False],\n",
       "                                   [1.0, 2, 'male', 1, 1, 'S', 'Second', 'child', False, 'F', 'yes',\n",
       "                                    False],\n",
       "                                   [0.0, 3, 'female', 0, 1, 'S', 'Third', 'child', False, 'G', 'no',\n",
       "                                    False],\n",
       "                                   [0.0, 1, 'female', 1, 2, 'S', 'First', 'child', False, 'C', 'no',\n",
       "                                    False],\n",
       "                                   [1.0, 1, 'male', 1, 2, 'S', 'First', 'child', False, 'C', 'yes', False],\n",
       "                                   [1.0, 2, 'male', 1, 1, 'S', 'Second', 'child', False, 'F', 'yes',\n",
       "                                    False],\n",
       "                                   [1.0, 1, 'female', 1, 2, 'S', 'First', 'child', False, 'B', 'yes',\n",
       "                                    False],\n",
       "                                   [1.0, 1, 'male', 0, 2, 'S', 'First', 'child', False, 'A', 'yes', False],\n",
       "                                   [1.0, 2, 'female', 2, 1, 'S', 'Second', 'child', False, 'F', 'yes',\n",
       "                                    False],\n",
       "                                   [1.0, 1, 'female', 0, 1, 'S', 'First', 'child', False, 'B', 'yes',\n",
       "                                    False],\n",
       "                                   [1.0, 3, 'male', 0, 1, 'S', 'Third', 'child', False, 'E', 'yes', False],\n",
       "                                   [1.0, 1, 'male', 1, 2, 'S', 'First', 'child', False, 'B', 'yes', False]],\n",
       "                                  dtype=object),\n",
       "              'fillcolor': 'rgba(255,255,255,0)',\n",
       "              'hoveron': 'points',\n",
       "              'hovertemplate': ('who=%{customdata[7]}<br>age in' ... 'customdata[11]}<extra></extra>'),\n",
       "              'jitter': 0,\n",
       "              'legendgroup': 'child',\n",
       "              'line': {'color': 'rgba(255,255,255,0)'},\n",
       "              'marker': {'color': '#00cc96', 'symbol': 'line-ns-open'},\n",
       "              'name': 'child',\n",
       "              'offsetgroup': 'child',\n",
       "              'showlegend': False,\n",
       "              'type': 'box',\n",
       "              'x': array([0.05     , 0.0125   , 0.0375   , 0.025    , 0.025    , 0.0114726,\n",
       "                          0.025    , 0.175    , 0.05     , 0.05     , 0.1875   , 0.075    ,\n",
       "                          0.1375   ]),\n",
       "              'xaxis': 'x2',\n",
       "              'yaxis': 'y2'}],\n",
       "    'layout': {'barmode': 'relative',\n",
       "               'legend': {'title': {'text': 'who'}, 'tracegroupgap': 0},\n",
       "               'margin': {'t': 60},\n",
       "               'template': '...',\n",
       "               'xaxis': {'anchor': 'y', 'domain': [0.0, 1.0], 'title': {'text': 'age in days'}},\n",
       "               'xaxis2': {'anchor': 'y2', 'domain': [0.0, 1.0], 'matches': 'x', 'showgrid': True, 'showticklabels': False},\n",
       "               'yaxis': {'anchor': 'x', 'domain': [0.0, 0.7326], 'title': {'text': 'sum of fare'}},\n",
       "               'yaxis2': {'anchor': 'x2',\n",
       "                          'domain': [0.7426, 1.0],\n",
       "                          'matches': 'y2',\n",
       "                          'showgrid': False,\n",
       "                          'showline': False,\n",
       "                          'showticklabels': False,\n",
       "                          'ticks': ''}}\n",
       "})"
      ]
     },
     "execution_count": 413,
     "metadata": {},
     "output_type": "execute_result"
    }
   ],
   "source": [
    "px.histogram(sh1, x=\"age in days\", y=\"fare\", color=\"who\", marginal=\"rug\",\n",
    "                   hover_data=sh1.columns)"
   ]
  },
  {
   "cell_type": "code",
   "execution_count": null,
   "metadata": {},
   "outputs": [
    {
     "data": {
      "text/plain": [
       "<seaborn.axisgrid.FacetGrid at 0x12a20c464d0>"
      ]
     },
     "execution_count": 289,
     "metadata": {},
     "output_type": "execute_result"
    },
    {
     "data": {
      "image/png": "[encoded data removed]",
      "text/plain": [
       "<Figure size 360x360 with 1 Axes>"
      ]
     },
     "metadata": {
      "needs_background": "light"
     },
     "output_type": "display_data"
    }
   ],
   "source": [
    "sns.displot(sh1['fare'])"
   ]
  },
  {
   "cell_type": "code",
   "execution_count": null,
   "metadata": {},
   "outputs": [
    {
     "data": {
      "text/plain": [
       "<AxesSubplot:xlabel='age in days', ylabel='fare'>"
      ]
     },
     "execution_count": 319,
     "metadata": {},
     "output_type": "execute_result"
    },
    {
     "data": {
      "image/png": "[encoded data removed]",
      "text/plain": [
       "<Figure size 432x288 with 1 Axes>"
      ]
     },
     "metadata": {},
     "output_type": "display_data"
    }
   ],
   "source": [
    "sns.lineplot(data=sh1,x='age in days',y='fare')\n",
    "\n",
    "# sns.displot(sh1['age in days'])\n"
   ]
  },
  {
   "cell_type": "code",
   "execution_count": null,
   "metadata": {},
   "outputs": [
    {
     "data": {
      "text/plain": [
       "<AxesSubplot:>"
      ]
     },
     "execution_count": 321,
     "metadata": {},
     "output_type": "execute_result"
    },
    {
     "data": {
      "image/png": "[encoded data removed]",
      "text/plain": [
       "<Figure size 432x288 with 1 Axes>"
      ]
     },
     "metadata": {},
     "output_type": "display_data"
    }
   ],
   "source": [
    "pd.value_counts(sh1['who']).plot.bar()"
   ]
  },
  {
   "cell_type": "code",
   "execution_count": null,
   "metadata": {},
   "outputs": [
    {
     "data": {
      "text/plain": [
       "array([[<AxesSubplot:title={'center':'survived'}>,\n",
       "        <AxesSubplot:title={'center':'pclass'}>],\n",
       "       [<AxesSubplot:title={'center':'age in days'}>,\n",
       "        <AxesSubplot:title={'center':'sibsp'}>],\n",
       "       [<AxesSubplot:title={'center':'parch'}>,\n",
       "        <AxesSubplot:title={'center':'fare'}>]], dtype=object)"
      ]
     },
     "execution_count": 322,
     "metadata": {},
     "output_type": "execute_result"
    },
    {
     "data": {
      "image/png": "[encoded data removed]",
      "text/plain": [
       "<Figure size 432x288 with 6 Axes>"
      ]
     },
     "metadata": {},
     "output_type": "display_data"
    }
   ],
   "source": [
    "sh1.hist()"
   ]
  },
  {
   "cell_type": "code",
   "execution_count": 418,
   "metadata": {},
   "outputs": [
    {
     "ename": "ValueError",
     "evalue": "Mime type rendering requires nbformat>=4.2.0 but it is not installed",
     "output_type": "error",
     "traceback": [
      "\u001b[1;31m---------------------------------------------------------------------------\u001b[0m",
      "\u001b[1;31mValueError\u001b[0m                                Traceback (most recent call last)",
      "File \u001b[1;32mc:\\Users\\Administrator\\AppData\\Local\\Programs\\Python\\Python310\\lib\\site-packages\\IPython\\core\\formatters.py:921\u001b[0m, in \u001b[0;36mIPythonDisplayFormatter.__call__\u001b[1;34m(self, obj)\u001b[0m\n\u001b[0;32m    919\u001b[0m method \u001b[39m=\u001b[39m get_real_method(obj, \u001b[39mself\u001b[39m\u001b[39m.\u001b[39mprint_method)\n\u001b[0;32m    920\u001b[0m \u001b[39mif\u001b[39;00m method \u001b[39mis\u001b[39;00m \u001b[39mnot\u001b[39;00m \u001b[39mNone\u001b[39;00m:\n\u001b[1;32m--> 921\u001b[0m     method()\n\u001b[0;32m    922\u001b[0m     \u001b[39mreturn\u001b[39;00m \u001b[39mTrue\u001b[39;00m\n",
      "File \u001b[1;32mc:\\Users\\Administrator\\AppData\\Local\\Programs\\Python\\Python310\\lib\\site-packages\\plotly\\basedatatypes.py:842\u001b[0m, in \u001b[0;36mBaseFigure._ipython_display_\u001b[1;34m(self)\u001b[0m\n\u001b[0;32m    839\u001b[0m \u001b[39mimport\u001b[39;00m \u001b[39mplotly\u001b[39;00m\u001b[39m.\u001b[39;00m\u001b[39mio\u001b[39;00m \u001b[39mas\u001b[39;00m \u001b[39mpio\u001b[39;00m\n\u001b[0;32m    841\u001b[0m \u001b[39mif\u001b[39;00m pio\u001b[39m.\u001b[39mrenderers\u001b[39m.\u001b[39mrender_on_display \u001b[39mand\u001b[39;00m pio\u001b[39m.\u001b[39mrenderers\u001b[39m.\u001b[39mdefault:\n\u001b[1;32m--> 842\u001b[0m     pio\u001b[39m.\u001b[39;49mshow(\u001b[39mself\u001b[39;49m)\n\u001b[0;32m    843\u001b[0m \u001b[39melse\u001b[39;00m:\n\u001b[0;32m    844\u001b[0m     \u001b[39mprint\u001b[39m(\u001b[39mrepr\u001b[39m(\u001b[39mself\u001b[39m))\n",
      "File \u001b[1;32mc:\\Users\\Administrator\\AppData\\Local\\Programs\\Python\\Python310\\lib\\site-packages\\plotly\\io\\_renderers.py:396\u001b[0m, in \u001b[0;36mshow\u001b[1;34m(fig, renderer, validate, **kwargs)\u001b[0m\n\u001b[0;32m    391\u001b[0m         \u001b[39mraise\u001b[39;00m \u001b[39mValueError\u001b[39;00m(\n\u001b[0;32m    392\u001b[0m             \u001b[39m\"\u001b[39m\u001b[39mMime type rendering requires ipython but it is not installed\u001b[39m\u001b[39m\"\u001b[39m\n\u001b[0;32m    393\u001b[0m         )\n\u001b[0;32m    395\u001b[0m     \u001b[39mif\u001b[39;00m \u001b[39mnot\u001b[39;00m nbformat \u001b[39mor\u001b[39;00m LooseVersion(nbformat\u001b[39m.\u001b[39m__version__) \u001b[39m<\u001b[39m LooseVersion(\u001b[39m\"\u001b[39m\u001b[39m4.2.0\u001b[39m\u001b[39m\"\u001b[39m):\n\u001b[1;32m--> 396\u001b[0m         \u001b[39mraise\u001b[39;00m \u001b[39mValueError\u001b[39;00m(\n\u001b[0;32m    397\u001b[0m             \u001b[39m\"\u001b[39m\u001b[39mMime type rendering requires nbformat>=4.2.0 but it is not installed\u001b[39m\u001b[39m\"\u001b[39m\n\u001b[0;32m    398\u001b[0m         )\n\u001b[0;32m    400\u001b[0m     ipython_display\u001b[39m.\u001b[39mdisplay(bundle, raw\u001b[39m=\u001b[39m\u001b[39mTrue\u001b[39;00m)\n\u001b[0;32m    402\u001b[0m \u001b[39m# external renderers\u001b[39;00m\n",
      "\u001b[1;31mValueError\u001b[0m: Mime type rendering requires nbformat>=4.2.0 but it is not installed"
     ]
    },
    {
     "data": {
      "application/vnd.plotly.v1+json": {
       "config": {
        "plotlyServerURL": "https://plot.ly"
       },
       "data": [
        {
         "hovertemplate": "<b>%{hovertext}</b><br><br>who=%{y}<br>value=%{x}<br>fare=%{marker.size}<extra></extra>",
         "hovertext": [
          1,
          1,
          1,
          1,
          1,
          1,
          1,
          1,
          1,
          1,
          1,
          1,
          1,
          0,
          1,
          1,
          1,
          1,
          1,
          0,
          1,
          1,
          1,
          1,
          1,
          1,
          1,
          1,
          1,
          1,
          1,
          1,
          1,
          1,
          1,
          1,
          1,
          1,
          1,
          1,
          1,
          1,
          1,
          1,
          1,
          1,
          1,
          1,
          1,
          0,
          1,
          1,
          1,
          1,
          1,
          1,
          1,
          1,
          1,
          1,
          1,
          1,
          1,
          1,
          1,
          1,
          1,
          1,
          1,
          1,
          1,
          1,
          1,
          1,
          1,
          1,
          0,
          1,
          1,
          1,
          1,
          1,
          1,
          1,
          1,
          1,
          1,
          1,
          1,
          1,
          1
         ],
         "legendgroup": "woman",
         "marker": {
          "color": "#636efa",
          "size": [
           0.13913573538264068,
           0.10364429745562033,
           0.051822148727810165,
           0.2859895551532101,
           0.1497654242623688,
           0.15614960068643363,
           0.020494635090094415,
           0.5133418122566505,
           0.025374310111545468,
           0.04364049521284361,
           0.051301584996521765,
           0.12999454257145598,
           0.10735285047192313,
           0.05604306762136532,
           0.05410739813385612,
           0.2859895551532101,
           0.22109807522194713,
           0.14891148113361488,
           0.16293234896625058,
           0.02042143996477265,
           0.16883675574220638,
           0.2995388511917728,
           0.2647385704347907,
           0.15216446768991498,
           0.17777475888549785,
           0.4831284260198326,
           0.024105594605968193,
           0.2125586439344078,
           0.11111839809247648,
           0.16231419173453318,
           0.5121218935012878,
           0.32179836714362564,
           0.2625265161540666,
           0.2647385704347907,
           0.025374310111545468,
           0.11316786160148591,
           0.2625265161540666,
           0.5133418122566505,
           0.025374310111545468,
           0.10735285047192313,
           0.14687821814567664,
           0.13526459159462315,
           0.22109807522194713,
           0.03259622914329302,
           0.17566830077223786,
           0.10122885832000206,
           0.026919605597338588,
           0.17566830077223786,
           0.1527664244005612,
           0.29580589980036276,
           0.16883675574220638,
           0.020494635090094415,
           0.18249984580226933,
           0.11316786160148591,
           0.09661756542473081,
           0.13858277060920984,
           0.07729405233978466,
           0.1554664461834305,
           0.10048070654571319,
           0.1091095334796455,
           0.21642978772242535,
           0.1554664461834305,
           0.1527664244005612,
           0.2995388511917728,
           0.15216446768991498,
           0.13526459159462315,
           0.10149724044618187,
           0.4440992237022602,
           0.09662576327876685,
           0.4440992237022602,
           0.020494635090094415,
           0.41250332793836464,
           0.5121218935012878,
           0.16883675574220638,
           0.23422440102965045,
           0.15216446768991498,
           0.020494635090094415,
           0.41250332793836464,
           0.11125659048908397,
           0.050610427826483444,
           0.10364429745562033,
           0.18249984580226933,
           0.024349578357040744,
           0.15614960068643363,
           0.16231419173453318,
           0.17391981561855152,
           0.07690367833806856,
           0.050610427826483444,
           0.10257896680493714,
           0.16231419173453318,
           0.05855610025741261
          ],
          "sizemode": "area",
          "sizeref": 0.0002777777777777778,
          "symbol": "circle"
         },
         "mode": "markers",
         "name": "woman",
         "orientation": "h",
         "showlegend": true,
         "type": "scatter",
         "x": [
          0.475,
          0.4375,
          0.725,
          0.44722602739726025,
          0.6125,
          0.475,
          0.3625,
          0.2875,
          0.40623287671232877,
          0.44722602739726025,
          0.2375,
          0.275,
          0.44722602739726025,
          0.625,
          0.55,
          0.725,
          0.3875,
          0.4,
          0.4375,
          0.3625,
          0.375,
          0.725,
          0.4375,
          0.7875,
          0.2375,
          0.625,
          0.44722602739726025,
          0.2125,
          0.375,
          0.3,
          0.225,
          0.3875,
          0.5,
          0.45,
          0.45,
          0.2,
          0.5125,
          0.3,
          0.3,
          0.275,
          0.75,
          0.3,
          0.2875,
          0.3,
          0.4125,
          0.44722602739726025,
          0.2875,
          0.4375,
          0.675,
          0.3125,
          0.2,
          0.425,
          0.375,
          0.55,
          0.275,
          0.45,
          0.6,
          0.4875,
          0.6625,
          0.4875,
          0.4875,
          0.225,
          0.65,
          0.5,
          0.2625,
          0.3,
          0.44722602739726025,
          0.225,
          0.3,
          0.475,
          0.3375,
          0.3625,
          0.2625,
          0.4125,
          0.45,
          0.6375,
          0.7125,
          0.5375,
          0.2125,
          0.6125,
          0.4125,
          0.65,
          0.3375,
          0.775,
          0.4875,
          0.44722602739726025,
          0.2,
          0.6,
          0.5875,
          0.7,
          0.2375
         ],
         "xaxis": "x",
         "y": [
          "woman",
          "woman",
          "woman",
          "woman",
          "woman",
          "woman",
          "woman",
          "woman",
          "woman",
          "woman",
          "woman",
          "woman",
          "woman",
          "woman",
          "woman",
          "woman",
          "woman",
          "woman",
          "woman",
          "woman",
          "woman",
          "woman",
          "woman",
          "woman",
          "woman",
          "woman",
          "woman",
          "woman",
          "woman",
          "woman",
          "woman",
          "woman",
          "woman",
          "woman",
          "woman",
          "woman",
          "woman",
          "woman",
          "woman",
          "woman",
          "woman",
          "woman",
          "woman",
          "woman",
          "woman",
          "woman",
          "woman",
          "woman",
          "woman",
          "woman",
          "woman",
          "woman",
          "woman",
          "woman",
          "woman",
          "woman",
          "woman",
          "woman",
          "woman",
          "woman",
          "woman",
          "woman",
          "woman",
          "woman",
          "woman",
          "woman",
          "woman",
          "woman",
          "woman",
          "woman",
          "woman",
          "woman",
          "woman",
          "woman",
          "woman",
          "woman",
          "woman",
          "woman",
          "woman",
          "woman",
          "woman",
          "woman",
          "woman",
          "woman",
          "woman",
          "woman",
          "woman",
          "woman",
          "woman",
          "woman",
          "woman"
         ],
         "yaxis": "y"
        },
        {
         "hovertemplate": "<b>%{hovertext}</b><br><br>who=%{y}<br>value=%{x}<br>fare=%{marker.size}<extra></extra>",
         "hovertext": [
          0,
          1,
          1,
          0,
          0,
          1,
          0,
          0,
          0,
          0,
          1,
          0,
          0,
          0,
          0,
          0,
          0,
          0,
          0,
          0,
          0,
          1,
          1,
          0,
          1,
          0,
          0,
          0,
          0,
          0,
          0,
          1,
          0,
          0,
          0,
          0,
          1,
          0,
          1,
          1,
          1,
          0,
          0,
          1,
          0,
          1,
          0,
          1,
          0,
          0,
          1,
          0,
          0,
          0,
          1,
          0,
          0,
          0,
          0,
          1,
          1,
          0,
          1,
          1,
          1,
          0,
          1,
          1,
          1,
          1,
          0,
          0,
          0,
          1,
          1,
          1,
          0,
          0,
          1,
          1,
          0,
          1,
          0,
          1,
          1,
          1,
          0,
          0,
          0,
          0,
          0,
          0,
          0,
          0,
          1,
          1,
          0,
          0,
          1
         ],
         "legendgroup": "man",
         "marker": {
          "color": "#EF553B",
          "size": [
           0.10122885832000206,
           0.025374310111545468,
           0.06929138530460492,
           0.5133418122566505,
           0.1209753416358076,
           0.06929138530460492,
           0.16293234896625058,
           0.014931805565640218,
           0.11940564777490723,
           0.06764049365134761,
           0.12366716556464086,
           0.15085515328815924,
           0.10149724044618187,
           0.4831284260198326,
           0.15085515328815924,
           0.10364429745562033,
           0.15458810467956932,
           0.050748620223090936,
           0.06538764528744409,
           0.05991421140938287,
           0.09759350042902103,
           0.060507970265993034,
           0.17566830077223786,
           0.17566830077223786,
           0.10257896680493714,
           0.051822148727810165,
           0.1554664461834305,
           0,
           0.057970539254838485,
           0.050748620223090936,
           0.025130326360472913,
           0.05953203526170282,
           0.055628295244541985,
           0.2995388511917728,
           0.12999454257145598,
           0.06831545030031472,
           0.1082149914547131,
           0.41282050681475896,
           0.23422440102965045,
           0.015712553569072387,
           0.051822148727810165,
           0.1091095334796455,
           0.5133418122566505,
           0.05953203526170282,
           0.05416439273810667,
           0.17391981561855152,
           0.051822148727810165,
           0.051822148727810165,
           0.07514699533034619,
           0.10149724044618187,
           0.17777475888549785,
           0.057970539254838485,
           0.05953203526170282,
           0.2125586439344078,
           0.05130978285055781,
           0.06640417918791278,
           0.4328841690069588,
           0.051822148727810165,
           0.20772776566317125,
           0.21642978772242535,
           0.051504969851415845,
           0.07831878409428937,
           0.15458810467956932,
           0.11111839809247648,
           0.10257896680493714,
           0.06308600017332605,
           0.05855610025741261,
           0.05953203526170282,
           0.1497654242623688,
           0.06929138530460492,
           0.22109807522194713,
           0.04994347384455151,
           0.10149724044618187,
           1,
           0.1497654242623688,
           0.11125659048908397,
           0.21642978772242535,
           0.014931805565640218,
           0.05130978285055781,
           0.05130978285055781,
           0.051822148727810165,
           0.10149724044618187,
           0.014931805565640218,
           0.10364429745562033,
           1,
           0.05855610025741261,
           0.15390495017656614,
           0.13858277060920984,
           0.10364429745562033,
           0.015126992566498259,
           0.05855610025741261,
           0.15458810467956932,
           0,
           0,
           0.057970539254838485,
           0.051822148727810165,
           0.09856123757927521,
           0.009759350042902102,
           0.05855610025741261
          ],
          "sizemode": "area",
          "sizeref": 0.0002777777777777778,
          "symbol": "circle"
         },
         "mode": "markers",
         "name": "man",
         "orientation": "h",
         "showlegend": true,
         "type": "scatter",
         "x": [
          0.675,
          0.425,
          0.35,
          0.2375,
          0.8125,
          0.44722602739726025,
          0.5625,
          0.3125,
          0.575,
          0.8875,
          0.2875,
          0.2625,
          0.5875,
          0.3,
          0.675,
          0.4625,
          0.3,
          0.45623287671232876,
          0.7625,
          0.7,
          0.44722602739726025,
          0.5,
          0.475,
          0.55,
          0.4625,
          0.775,
          0.65,
          0.5,
          0.4625,
          0.44722602739726025,
          0.45,
          0.44722602739726025,
          0.5687328767123287,
          0.475,
          0.3625,
          0.44722602739726025,
          0.3125,
          0.3375,
          0.45,
          0.4,
          0.35,
          0.625,
          0.8,
          0.65,
          0.375,
          0.6125,
          0.8125,
          0.6,
          0.5875,
          0.44722602739726025,
          0.3125,
          0.725,
          0.6875,
          0.225,
          0.45,
          0.5875,
          0.44722602739726025,
          0.5625,
          0.625,
          0.2125,
          0.45,
          0.45,
          0.75,
          0.6125,
          0.525,
          0.7625,
          1,
          0.4,
          0.6,
          0.7,
          0.725,
          0.5875,
          0.3875,
          0.45,
          0.3375,
          0.3875,
          0.6125,
          0.525,
          0.4375,
          0.525,
          0.44722602739726025,
          0.6,
          0.2375,
          0.3375,
          0.4375,
          0.44722602739726025,
          0.45,
          0.875,
          0.2375,
          0.44722602739726025,
          0.3625,
          0.575,
          0.4875,
          0.44722602739726025,
          0.44722602739726025,
          0.6375,
          0.3875,
          0.4125,
          0.325
         ],
         "xaxis": "x",
         "y": [
          "man",
          "man",
          "man",
          "man",
          "man",
          "man",
          "man",
          "man",
          "man",
          "man",
          "man",
          "man",
          "man",
          "man",
          "man",
          "man",
          "man",
          "man",
          "man",
          "man",
          "man",
          "man",
          "man",
          "man",
          "man",
          "man",
          "man",
          "man",
          "man",
          "man",
          "man",
          "man",
          "man",
          "man",
          "man",
          "man",
          "man",
          "man",
          "man",
          "man",
          "man",
          "man",
          "man",
          "man",
          "man",
          "man",
          "man",
          "man",
          "man",
          "man",
          "man",
          "man",
          "man",
          "man",
          "man",
          "man",
          "man",
          "man",
          "man",
          "man",
          "man",
          "man",
          "man",
          "man",
          "man",
          "man",
          "man",
          "man",
          "man",
          "man",
          "man",
          "man",
          "man",
          "man",
          "man",
          "man",
          "man",
          "man",
          "man",
          "man",
          "man",
          "man",
          "man",
          "man",
          "man",
          "man",
          "man",
          "man",
          "man",
          "man",
          "man",
          "man",
          "man",
          "man",
          "man",
          "man",
          "man",
          "man",
          "man"
         ],
         "yaxis": "y"
        },
        {
         "hovertemplate": "<b>%{hovertext}</b><br><br>who=%{y}<br>value=%{x}<br>fare=%{marker.size}<extra></extra>",
         "hovertext": [
          1,
          1,
          1,
          0,
          0,
          1,
          1,
          1,
          1,
          1,
          1,
          1,
          1
         ],
         "legendgroup": "child",
         "marker": {
          "color": "#00cc96",
          "size": [
           0.03259622914329302,
           0.0761229303346364,
           0.050748620223090936,
           0.02042143996477265,
           0.29580589980036276,
           0.29580589980036276,
           0.050748620223090936,
           0.23422440102965045,
           0.15977676072337862,
           0.0761229303346364,
           0.41250332793836464,
           0.024349578357040744,
           0.23422440102965045
          ],
          "sizemode": "area",
          "sizeref": 0.0002777777777777778,
          "symbol": "circle"
         },
         "mode": "markers",
         "name": "child",
         "orientation": "h",
         "showlegend": true,
         "type": "scatter",
         "x": [
          0.05,
          0.0125,
          0.0375,
          0.025,
          0.025,
          0.011472602739726027,
          0.025,
          0.175,
          0.05,
          0.05,
          0.1875,
          0.075,
          0.1375
         ],
         "xaxis": "x",
         "y": [
          "child",
          "child",
          "child",
          "child",
          "child",
          "child",
          "child",
          "child",
          "child",
          "child",
          "child",
          "child",
          "child"
         ],
         "yaxis": "y"
        }
       ],
       "layout": {
        "legend": {
         "itemsizing": "constant",
         "title": {
          "text": "who"
         },
         "tracegroupgap": 0
        },
        "template": {
         "data": {
          "bar": [
           {
            "error_x": {
             "color": "#2a3f5f"
            },
            "error_y": {
             "color": "#2a3f5f"
            },
            "marker": {
             "line": {
              "color": "#E5ECF6",
              "width": 0.5
             },
             "pattern": {
              "fillmode": "overlay",
              "size": 10,
              "solidity": 0.2
             }
            },
            "type": "bar"
           }
          ],
          "barpolar": [
           {
            "marker": {
             "line": {
              "color": "#E5ECF6",
              "width": 0.5
             },
             "pattern": {
              "fillmode": "overlay",
              "size": 10,
              "solidity": 0.2
             }
            },
            "type": "barpolar"
           }
          ],
          "carpet": [
           {
            "aaxis": {
             "endlinecolor": "#2a3f5f",
             "gridcolor": "white",
             "linecolor": "white",
             "minorgridcolor": "white",
             "startlinecolor": "#2a3f5f"
            },
            "baxis": {
             "endlinecolor": "#2a3f5f",
             "gridcolor": "white",
             "linecolor": "white",
             "minorgridcolor": "white",
             "startlinecolor": "#2a3f5f"
            },
            "type": "carpet"
           }
          ],
          "choropleth": [
           {
            "colorbar": {
             "outlinewidth": 0,
             "ticks": ""
            },
            "type": "choropleth"
           }
          ],
          "contour": [
           {
            "colorbar": {
             "outlinewidth": 0,
             "ticks": ""
            },
            "colorscale": [
             [
              0,
              "#0d0887"
             ],
             [
              0.1111111111111111,
              "#46039f"
             ],
             [
              0.2222222222222222,
              "#7201a8"
             ],
             [
              0.3333333333333333,
              "#9c179e"
             ],
             [
              0.4444444444444444,
              "#bd3786"
             ],
             [
              0.5555555555555556,
              "#d8576b"
             ],
             [
              0.6666666666666666,
              "#ed7953"
             ],
             [
              0.7777777777777778,
              "#fb9f3a"
             ],
             [
              0.8888888888888888,
              "#fdca26"
             ],
             [
              1,
              "#f0f921"
             ]
            ],
            "type": "contour"
           }
          ],
          "contourcarpet": [
           {
            "colorbar": {
             "outlinewidth": 0,
             "ticks": ""
            },
            "type": "contourcarpet"
           }
          ],
          "heatmap": [
           {
            "colorbar": {
             "outlinewidth": 0,
             "ticks": ""
            },
            "colorscale": [
             [
              0,
              "#0d0887"
             ],
             [
              0.1111111111111111,
              "#46039f"
             ],
             [
              0.2222222222222222,
              "#7201a8"
             ],
             [
              0.3333333333333333,
              "#9c179e"
             ],
             [
              0.4444444444444444,
              "#bd3786"
             ],
             [
              0.5555555555555556,
              "#d8576b"
             ],
             [
              0.6666666666666666,
              "#ed7953"
             ],
             [
              0.7777777777777778,
              "#fb9f3a"
             ],
             [
              0.8888888888888888,
              "#fdca26"
             ],
             [
              1,
              "#f0f921"
             ]
            ],
            "type": "heatmap"
           }
          ],
          "heatmapgl": [
           {
            "colorbar": {
             "outlinewidth": 0,
             "ticks": ""
            },
            "colorscale": [
             [
              0,
              "#0d0887"
             ],
             [
              0.1111111111111111,
              "#46039f"
             ],
             [
              0.2222222222222222,
              "#7201a8"
             ],
             [
              0.3333333333333333,
              "#9c179e"
             ],
             [
              0.4444444444444444,
              "#bd3786"
             ],
             [
              0.5555555555555556,
              "#d8576b"
             ],
             [
              0.6666666666666666,
              "#ed7953"
             ],
             [
              0.7777777777777778,
              "#fb9f3a"
             ],
             [
              0.8888888888888888,
              "#fdca26"
             ],
             [
              1,
              "#f0f921"
             ]
            ],
            "type": "heatmapgl"
           }
          ],
          "histogram": [
           {
            "marker": {
             "pattern": {
              "fillmode": "overlay",
              "size": 10,
              "solidity": 0.2
             }
            },
            "type": "histogram"
           }
          ],
          "histogram2d": [
           {
            "colorbar": {
             "outlinewidth": 0,
             "ticks": ""
            },
            "colorscale": [
             [
              0,
              "#0d0887"
             ],
             [
              0.1111111111111111,
              "#46039f"
             ],
             [
              0.2222222222222222,
              "#7201a8"
             ],
             [
              0.3333333333333333,
              "#9c179e"
             ],
             [
              0.4444444444444444,
              "#bd3786"
             ],
             [
              0.5555555555555556,
              "#d8576b"
             ],
             [
              0.6666666666666666,
              "#ed7953"
             ],
             [
              0.7777777777777778,
              "#fb9f3a"
             ],
             [
              0.8888888888888888,
              "#fdca26"
             ],
             [
              1,
              "#f0f921"
             ]
            ],
            "type": "histogram2d"
           }
          ],
          "histogram2dcontour": [
           {
            "colorbar": {
             "outlinewidth": 0,
             "ticks": ""
            },
            "colorscale": [
             [
              0,
              "#0d0887"
             ],
             [
              0.1111111111111111,
              "#46039f"
             ],
             [
              0.2222222222222222,
              "#7201a8"
             ],
             [
              0.3333333333333333,
              "#9c179e"
             ],
             [
              0.4444444444444444,
              "#bd3786"
             ],
             [
              0.5555555555555556,
              "#d8576b"
             ],
             [
              0.6666666666666666,
              "#ed7953"
             ],
             [
              0.7777777777777778,
              "#fb9f3a"
             ],
             [
              0.8888888888888888,
              "#fdca26"
             ],
             [
              1,
              "#f0f921"
             ]
            ],
            "type": "histogram2dcontour"
           }
          ],
          "mesh3d": [
           {
            "colorbar": {
             "outlinewidth": 0,
             "ticks": ""
            },
            "type": "mesh3d"
           }
          ],
          "parcoords": [
           {
            "line": {
             "colorbar": {
              "outlinewidth": 0,
              "ticks": ""
             }
            },
            "type": "parcoords"
           }
          ],
          "pie": [
           {
            "automargin": true,
            "type": "pie"
           }
          ],
          "scatter": [
           {
            "fillpattern": {
             "fillmode": "overlay",
             "size": 10,
             "solidity": 0.2
            },
            "type": "scatter"
           }
          ],
          "scatter3d": [
           {
            "line": {
             "colorbar": {
              "outlinewidth": 0,
              "ticks": ""
             }
            },
            "marker": {
             "colorbar": {
              "outlinewidth": 0,
              "ticks": ""
             }
            },
            "type": "scatter3d"
           }
          ],
          "scattercarpet": [
           {
            "marker": {
             "colorbar": {
              "outlinewidth": 0,
              "ticks": ""
             }
            },
            "type": "scattercarpet"
           }
          ],
          "scattergeo": [
           {
            "marker": {
             "colorbar": {
              "outlinewidth": 0,
              "ticks": ""
             }
            },
            "type": "scattergeo"
           }
          ],
          "scattergl": [
           {
            "marker": {
             "colorbar": {
              "outlinewidth": 0,
              "ticks": ""
             }
            },
            "type": "scattergl"
           }
          ],
          "scattermapbox": [
           {
            "marker": {
             "colorbar": {
              "outlinewidth": 0,
              "ticks": ""
             }
            },
            "type": "scattermapbox"
           }
          ],
          "scatterpolar": [
           {
            "marker": {
             "colorbar": {
              "outlinewidth": 0,
              "ticks": ""
             }
            },
            "type": "scatterpolar"
           }
          ],
          "scatterpolargl": [
           {
            "marker": {
             "colorbar": {
              "outlinewidth": 0,
              "ticks": ""
             }
            },
            "type": "scatterpolargl"
           }
          ],
          "scatterternary": [
           {
            "marker": {
             "colorbar": {
              "outlinewidth": 0,
              "ticks": ""
             }
            },
            "type": "scatterternary"
           }
          ],
          "surface": [
           {
            "colorbar": {
             "outlinewidth": 0,
             "ticks": ""
            },
            "colorscale": [
             [
              0,
              "#0d0887"
             ],
             [
              0.1111111111111111,
              "#46039f"
             ],
             [
              0.2222222222222222,
              "#7201a8"
             ],
             [
              0.3333333333333333,
              "#9c179e"
             ],
             [
              0.4444444444444444,
              "#bd3786"
             ],
             [
              0.5555555555555556,
              "#d8576b"
             ],
             [
              0.6666666666666666,
              "#ed7953"
             ],
             [
              0.7777777777777778,
              "#fb9f3a"
             ],
             [
              0.8888888888888888,
              "#fdca26"
             ],
             [
              1,
              "#f0f921"
             ]
            ],
            "type": "surface"
           }
          ],
          "table": [
           {
            "cells": {
             "fill": {
              "color": "#EBF0F8"
             },
             "line": {
              "color": "white"
             }
            },
            "header": {
             "fill": {
              "color": "#C8D4E3"
             },
             "line": {
              "color": "white"
             }
            },
            "type": "table"
           }
          ]
         },
         "layout": {
          "annotationdefaults": {
           "arrowcolor": "#2a3f5f",
           "arrowhead": 0,
           "arrowwidth": 1
          },
          "autotypenumbers": "strict",
          "coloraxis": {
           "colorbar": {
            "outlinewidth": 0,
            "ticks": ""
           }
          },
          "colorscale": {
           "diverging": [
            [
             0,
             "#8e0152"
            ],
            [
             0.1,
             "#c51b7d"
            ],
            [
             0.2,
             "#de77ae"
            ],
            [
             0.3,
             "#f1b6da"
            ],
            [
             0.4,
             "#fde0ef"
            ],
            [
             0.5,
             "#f7f7f7"
            ],
            [
             0.6,
             "#e6f5d0"
            ],
            [
             0.7,
             "#b8e186"
            ],
            [
             0.8,
             "#7fbc41"
            ],
            [
             0.9,
             "#4d9221"
            ],
            [
             1,
             "#276419"
            ]
           ],
           "sequential": [
            [
             0,
             "#0d0887"
            ],
            [
             0.1111111111111111,
             "#46039f"
            ],
            [
             0.2222222222222222,
             "#7201a8"
            ],
            [
             0.3333333333333333,
             "#9c179e"
            ],
            [
             0.4444444444444444,
             "#bd3786"
            ],
            [
             0.5555555555555556,
             "#d8576b"
            ],
            [
             0.6666666666666666,
             "#ed7953"
            ],
            [
             0.7777777777777778,
             "#fb9f3a"
            ],
            [
             0.8888888888888888,
             "#fdca26"
            ],
            [
             1,
             "#f0f921"
            ]
           ],
           "sequentialminus": [
            [
             0,
             "#0d0887"
            ],
            [
             0.1111111111111111,
             "#46039f"
            ],
            [
             0.2222222222222222,
             "#7201a8"
            ],
            [
             0.3333333333333333,
             "#9c179e"
            ],
            [
             0.4444444444444444,
             "#bd3786"
            ],
            [
             0.5555555555555556,
             "#d8576b"
            ],
            [
             0.6666666666666666,
             "#ed7953"
            ],
            [
             0.7777777777777778,
             "#fb9f3a"
            ],
            [
             0.8888888888888888,
             "#fdca26"
            ],
            [
             1,
             "#f0f921"
            ]
           ]
          },
          "colorway": [
           "#636efa",
           "#EF553B",
           "#00cc96",
           "#ab63fa",
           "#FFA15A",
           "#19d3f3",
           "#FF6692",
           "#B6E880",
           "#FF97FF",
           "#FECB52"
          ],
          "font": {
           "color": "#2a3f5f"
          },
          "geo": {
           "bgcolor": "white",
           "lakecolor": "white",
           "landcolor": "#E5ECF6",
           "showlakes": true,
           "showland": true,
           "subunitcolor": "white"
          },
          "hoverlabel": {
           "align": "left"
          },
          "hovermode": "closest",
          "mapbox": {
           "style": "light"
          },
          "paper_bgcolor": "white",
          "plot_bgcolor": "#E5ECF6",
          "polar": {
           "angularaxis": {
            "gridcolor": "white",
            "linecolor": "white",
            "ticks": ""
           },
           "bgcolor": "#E5ECF6",
           "radialaxis": {
            "gridcolor": "white",
            "linecolor": "white",
            "ticks": ""
           }
          },
          "scene": {
           "xaxis": {
            "backgroundcolor": "#E5ECF6",
            "gridcolor": "white",
            "gridwidth": 2,
            "linecolor": "white",
            "showbackground": true,
            "ticks": "",
            "zerolinecolor": "white"
           },
           "yaxis": {
            "backgroundcolor": "#E5ECF6",
            "gridcolor": "white",
            "gridwidth": 2,
            "linecolor": "white",
            "showbackground": true,
            "ticks": "",
            "zerolinecolor": "white"
           },
           "zaxis": {
            "backgroundcolor": "#E5ECF6",
            "gridcolor": "white",
            "gridwidth": 2,
            "linecolor": "white",
            "showbackground": true,
            "ticks": "",
            "zerolinecolor": "white"
           }
          },
          "shapedefaults": {
           "line": {
            "color": "#2a3f5f"
           }
          },
          "ternary": {
           "aaxis": {
            "gridcolor": "white",
            "linecolor": "white",
            "ticks": ""
           },
           "baxis": {
            "gridcolor": "white",
            "linecolor": "white",
            "ticks": ""
           },
           "bgcolor": "#E5ECF6",
           "caxis": {
            "gridcolor": "white",
            "linecolor": "white",
            "ticks": ""
           }
          },
          "title": {
           "x": 0.05
          },
          "xaxis": {
           "automargin": true,
           "gridcolor": "white",
           "linecolor": "white",
           "ticks": "",
           "title": {
            "standoff": 15
           },
           "zerolinecolor": "white",
           "zerolinewidth": 2
          },
          "yaxis": {
           "automargin": true,
           "gridcolor": "white",
           "linecolor": "white",
           "ticks": "",
           "title": {
            "standoff": 15
           },
           "zerolinecolor": "white",
           "zerolinewidth": 2
          }
         }
        },
        "title": {
         "text": "Manually specified Graph"
        },
        "xaxis": {
         "anchor": "y",
         "domain": [
          0,
          1
         ],
         "title": {
          "text": "value"
         }
        },
        "yaxis": {
         "anchor": "x",
         "categoryarray": [
          "child",
          "man",
          "woman"
         ],
         "categoryorder": "array",
         "domain": [
          0,
          1
         ],
         "title": {
          "text": "who"
         }
        }
       }
      },
      "text/html": [
       "<div>                        <script type=\"text/javascript\">window.PlotlyConfig = {MathJaxConfig: 'local'};</script>\n",
       "        <script src=\"https://cdn.plot.ly/plotly-2.12.1.min.js\"></script>                <div id=\"29550ebb-76d5-44fa-a728-662fe2ddfb55\" class=\"plotly-graph-div\" style=\"height:100%; width:100%;\"></div>            <script type=\"text/javascript\">                                    window.PLOTLYENV=window.PLOTLYENV || {};                                    if (document.getElementById(\"29550ebb-76d5-44fa-a728-662fe2ddfb55\")) {                    Plotly.newPlot(                        \"29550ebb-76d5-44fa-a728-662fe2ddfb55\",                        [{\"hovertemplate\":\"<b>%{hovertext}</b><br><br>who=%{y}<br>value=%{x}<br>fare=%{marker.size}<extra></extra>\",\"hovertext\":[1.0,1.0,1.0,1.0,1.0,1.0,1.0,1.0,1.0,1.0,1.0,1.0,1.0,0.0,1.0,1.0,1.0,1.0,1.0,0.0,1.0,1.0,1.0,1.0,1.0,1.0,1.0,1.0,1.0,1.0,1.0,1.0,1.0,1.0,1.0,1.0,1.0,1.0,1.0,1.0,1.0,1.0,1.0,1.0,1.0,1.0,1.0,1.0,1.0,0.0,1.0,1.0,1.0,1.0,1.0,1.0,1.0,1.0,1.0,1.0,1.0,1.0,1.0,1.0,1.0,1.0,1.0,1.0,1.0,1.0,1.0,1.0,1.0,1.0,1.0,1.0,0.0,1.0,1.0,1.0,1.0,1.0,1.0,1.0,1.0,1.0,1.0,1.0,1.0,1.0,1.0],\"legendgroup\":\"woman\",\"marker\":{\"color\":\"#636efa\",\"size\":[0.13913573538264068,0.10364429745562033,0.051822148727810165,0.2859895551532101,0.1497654242623688,0.15614960068643363,0.020494635090094415,0.5133418122566505,0.025374310111545468,0.04364049521284361,0.051301584996521765,0.12999454257145598,0.10735285047192313,0.05604306762136532,0.05410739813385612,0.2859895551532101,0.22109807522194713,0.14891148113361488,0.16293234896625058,0.02042143996477265,0.16883675574220638,0.2995388511917728,0.2647385704347907,0.15216446768991498,0.17777475888549785,0.4831284260198326,0.024105594605968193,0.2125586439344078,0.11111839809247648,0.16231419173453318,0.5121218935012878,0.32179836714362564,0.2625265161540666,0.2647385704347907,0.025374310111545468,0.11316786160148591,0.2625265161540666,0.5133418122566505,0.025374310111545468,0.10735285047192313,0.14687821814567664,0.13526459159462315,0.22109807522194713,0.03259622914329302,0.17566830077223786,0.10122885832000206,0.026919605597338588,0.17566830077223786,0.1527664244005612,0.29580589980036276,0.16883675574220638,0.020494635090094415,0.18249984580226933,0.11316786160148591,0.09661756542473081,0.13858277060920984,0.07729405233978466,0.1554664461834305,0.10048070654571319,0.1091095334796455,0.21642978772242535,0.1554664461834305,0.1527664244005612,0.2995388511917728,0.15216446768991498,0.13526459159462315,0.10149724044618187,0.4440992237022602,0.09662576327876685,0.4440992237022602,0.020494635090094415,0.41250332793836464,0.5121218935012878,0.16883675574220638,0.23422440102965045,0.15216446768991498,0.020494635090094415,0.41250332793836464,0.11125659048908397,0.050610427826483444,0.10364429745562033,0.18249984580226933,0.024349578357040744,0.15614960068643363,0.16231419173453318,0.17391981561855152,0.07690367833806856,0.050610427826483444,0.10257896680493714,0.16231419173453318,0.05855610025741261],\"sizemode\":\"area\",\"sizeref\":0.0002777777777777778,\"symbol\":\"circle\"},\"mode\":\"markers\",\"name\":\"woman\",\"orientation\":\"h\",\"showlegend\":true,\"x\":[0.475,0.4375,0.725,0.44722602739726025,0.6125,0.475,0.3625,0.2875,0.40623287671232877,0.44722602739726025,0.2375,0.275,0.44722602739726025,0.625,0.55,0.725,0.3875,0.4,0.4375,0.3625,0.375,0.725,0.4375,0.7875,0.2375,0.625,0.44722602739726025,0.2125,0.375,0.3,0.225,0.3875,0.5,0.45,0.45,0.2,0.5125,0.3,0.3,0.275,0.75,0.3,0.2875,0.3,0.4125,0.44722602739726025,0.2875,0.4375,0.675,0.3125,0.2,0.425,0.375,0.55,0.275,0.45,0.6,0.4875,0.6625,0.4875,0.4875,0.225,0.65,0.5,0.2625,0.3,0.44722602739726025,0.225,0.3,0.475,0.3375,0.3625,0.2625,0.4125,0.45,0.6375,0.7125,0.5375,0.2125,0.6125,0.4125,0.65,0.3375,0.775,0.4875,0.44722602739726025,0.2,0.6,0.5875,0.7,0.2375],\"xaxis\":\"x\",\"y\":[\"woman\",\"woman\",\"woman\",\"woman\",\"woman\",\"woman\",\"woman\",\"woman\",\"woman\",\"woman\",\"woman\",\"woman\",\"woman\",\"woman\",\"woman\",\"woman\",\"woman\",\"woman\",\"woman\",\"woman\",\"woman\",\"woman\",\"woman\",\"woman\",\"woman\",\"woman\",\"woman\",\"woman\",\"woman\",\"woman\",\"woman\",\"woman\",\"woman\",\"woman\",\"woman\",\"woman\",\"woman\",\"woman\",\"woman\",\"woman\",\"woman\",\"woman\",\"woman\",\"woman\",\"woman\",\"woman\",\"woman\",\"woman\",\"woman\",\"woman\",\"woman\",\"woman\",\"woman\",\"woman\",\"woman\",\"woman\",\"woman\",\"woman\",\"woman\",\"woman\",\"woman\",\"woman\",\"woman\",\"woman\",\"woman\",\"woman\",\"woman\",\"woman\",\"woman\",\"woman\",\"woman\",\"woman\",\"woman\",\"woman\",\"woman\",\"woman\",\"woman\",\"woman\",\"woman\",\"woman\",\"woman\",\"woman\",\"woman\",\"woman\",\"woman\",\"woman\",\"woman\",\"woman\",\"woman\",\"woman\",\"woman\"],\"yaxis\":\"y\",\"type\":\"scatter\"},{\"hovertemplate\":\"<b>%{hovertext}</b><br><br>who=%{y}<br>value=%{x}<br>fare=%{marker.size}<extra></extra>\",\"hovertext\":[0.0,1.0,1.0,0.0,0.0,1.0,0.0,0.0,0.0,0.0,1.0,0.0,0.0,0.0,0.0,0.0,0.0,0.0,0.0,0.0,0.0,1.0,1.0,0.0,1.0,0.0,0.0,0.0,0.0,0.0,0.0,1.0,0.0,0.0,0.0,0.0,1.0,0.0,1.0,1.0,1.0,0.0,0.0,1.0,0.0,1.0,0.0,1.0,0.0,0.0,1.0,0.0,0.0,0.0,1.0,0.0,0.0,0.0,0.0,1.0,1.0,0.0,1.0,1.0,1.0,0.0,1.0,1.0,1.0,1.0,0.0,0.0,0.0,1.0,1.0,1.0,0.0,0.0,1.0,1.0,0.0,1.0,0.0,1.0,1.0,1.0,0.0,0.0,0.0,0.0,0.0,0.0,0.0,0.0,1.0,1.0,0.0,0.0,1.0],\"legendgroup\":\"man\",\"marker\":{\"color\":\"#EF553B\",\"size\":[0.10122885832000206,0.025374310111545468,0.06929138530460492,0.5133418122566505,0.1209753416358076,0.06929138530460492,0.16293234896625058,0.014931805565640218,0.11940564777490723,0.06764049365134761,0.12366716556464086,0.15085515328815924,0.10149724044618187,0.4831284260198326,0.15085515328815924,0.10364429745562033,0.15458810467956932,0.050748620223090936,0.06538764528744409,0.05991421140938287,0.09759350042902103,0.060507970265993034,0.17566830077223786,0.17566830077223786,0.10257896680493714,0.051822148727810165,0.1554664461834305,0.0,0.057970539254838485,0.050748620223090936,0.025130326360472913,0.05953203526170282,0.055628295244541985,0.2995388511917728,0.12999454257145598,0.06831545030031472,0.1082149914547131,0.41282050681475896,0.23422440102965045,0.015712553569072387,0.051822148727810165,0.1091095334796455,0.5133418122566505,0.05953203526170282,0.05416439273810667,0.17391981561855152,0.051822148727810165,0.051822148727810165,0.07514699533034619,0.10149724044618187,0.17777475888549785,0.057970539254838485,0.05953203526170282,0.2125586439344078,0.05130978285055781,0.06640417918791278,0.4328841690069588,0.051822148727810165,0.20772776566317125,0.21642978772242535,0.051504969851415845,0.07831878409428937,0.15458810467956932,0.11111839809247648,0.10257896680493714,0.06308600017332605,0.05855610025741261,0.05953203526170282,0.1497654242623688,0.06929138530460492,0.22109807522194713,0.04994347384455151,0.10149724044618187,1.0,0.1497654242623688,0.11125659048908397,0.21642978772242535,0.014931805565640218,0.05130978285055781,0.05130978285055781,0.051822148727810165,0.10149724044618187,0.014931805565640218,0.10364429745562033,1.0,0.05855610025741261,0.15390495017656614,0.13858277060920984,0.10364429745562033,0.015126992566498259,0.05855610025741261,0.15458810467956932,0.0,0.0,0.057970539254838485,0.051822148727810165,0.09856123757927521,0.009759350042902102,0.05855610025741261],\"sizemode\":\"area\",\"sizeref\":0.0002777777777777778,\"symbol\":\"circle\"},\"mode\":\"markers\",\"name\":\"man\",\"orientation\":\"h\",\"showlegend\":true,\"x\":[0.675,0.425,0.35,0.2375,0.8125,0.44722602739726025,0.5625,0.3125,0.575,0.8875,0.2875,0.2625,0.5875,0.3,0.675,0.4625,0.3,0.45623287671232876,0.7625,0.7,0.44722602739726025,0.5,0.475,0.55,0.4625,0.775,0.65,0.5,0.4625,0.44722602739726025,0.45,0.44722602739726025,0.5687328767123287,0.475,0.3625,0.44722602739726025,0.3125,0.3375,0.45,0.4,0.35,0.625,0.8,0.65,0.375,0.6125,0.8125,0.6,0.5875,0.44722602739726025,0.3125,0.725,0.6875,0.225,0.45,0.5875,0.44722602739726025,0.5625,0.625,0.2125,0.45,0.45,0.75,0.6125,0.525,0.7625,1.0,0.4,0.6,0.7,0.725,0.5875,0.3875,0.45,0.3375,0.3875,0.6125,0.525,0.4375,0.525,0.44722602739726025,0.6,0.2375,0.3375,0.4375,0.44722602739726025,0.45,0.875,0.2375,0.44722602739726025,0.3625,0.575,0.4875,0.44722602739726025,0.44722602739726025,0.6375,0.3875,0.4125,0.325],\"xaxis\":\"x\",\"y\":[\"man\",\"man\",\"man\",\"man\",\"man\",\"man\",\"man\",\"man\",\"man\",\"man\",\"man\",\"man\",\"man\",\"man\",\"man\",\"man\",\"man\",\"man\",\"man\",\"man\",\"man\",\"man\",\"man\",\"man\",\"man\",\"man\",\"man\",\"man\",\"man\",\"man\",\"man\",\"man\",\"man\",\"man\",\"man\",\"man\",\"man\",\"man\",\"man\",\"man\",\"man\",\"man\",\"man\",\"man\",\"man\",\"man\",\"man\",\"man\",\"man\",\"man\",\"man\",\"man\",\"man\",\"man\",\"man\",\"man\",\"man\",\"man\",\"man\",\"man\",\"man\",\"man\",\"man\",\"man\",\"man\",\"man\",\"man\",\"man\",\"man\",\"man\",\"man\",\"man\",\"man\",\"man\",\"man\",\"man\",\"man\",\"man\",\"man\",\"man\",\"man\",\"man\",\"man\",\"man\",\"man\",\"man\",\"man\",\"man\",\"man\",\"man\",\"man\",\"man\",\"man\",\"man\",\"man\",\"man\",\"man\",\"man\",\"man\"],\"yaxis\":\"y\",\"type\":\"scatter\"},{\"hovertemplate\":\"<b>%{hovertext}</b><br><br>who=%{y}<br>value=%{x}<br>fare=%{marker.size}<extra></extra>\",\"hovertext\":[1.0,1.0,1.0,0.0,0.0,1.0,1.0,1.0,1.0,1.0,1.0,1.0,1.0],\"legendgroup\":\"child\",\"marker\":{\"color\":\"#00cc96\",\"size\":[0.03259622914329302,0.0761229303346364,0.050748620223090936,0.02042143996477265,0.29580589980036276,0.29580589980036276,0.050748620223090936,0.23422440102965045,0.15977676072337862,0.0761229303346364,0.41250332793836464,0.024349578357040744,0.23422440102965045],\"sizemode\":\"area\",\"sizeref\":0.0002777777777777778,\"symbol\":\"circle\"},\"mode\":\"markers\",\"name\":\"child\",\"orientation\":\"h\",\"showlegend\":true,\"x\":[0.05,0.0125,0.0375,0.025,0.025,0.011472602739726027,0.025,0.175,0.05,0.05,0.1875,0.075,0.1375],\"xaxis\":\"x\",\"y\":[\"child\",\"child\",\"child\",\"child\",\"child\",\"child\",\"child\",\"child\",\"child\",\"child\",\"child\",\"child\",\"child\"],\"yaxis\":\"y\",\"type\":\"scatter\"}],                        {\"template\":{\"data\":{\"histogram2dcontour\":[{\"type\":\"histogram2dcontour\",\"colorbar\":{\"outlinewidth\":0,\"ticks\":\"\"},\"colorscale\":[[0.0,\"#0d0887\"],[0.1111111111111111,\"#46039f\"],[0.2222222222222222,\"#7201a8\"],[0.3333333333333333,\"#9c179e\"],[0.4444444444444444,\"#bd3786\"],[0.5555555555555556,\"#d8576b\"],[0.6666666666666666,\"#ed7953\"],[0.7777777777777778,\"#fb9f3a\"],[0.8888888888888888,\"#fdca26\"],[1.0,\"#f0f921\"]]}],\"choropleth\":[{\"type\":\"choropleth\",\"colorbar\":{\"outlinewidth\":0,\"ticks\":\"\"}}],\"histogram2d\":[{\"type\":\"histogram2d\",\"colorbar\":{\"outlinewidth\":0,\"ticks\":\"\"},\"colorscale\":[[0.0,\"#0d0887\"],[0.1111111111111111,\"#46039f\"],[0.2222222222222222,\"#7201a8\"],[0.3333333333333333,\"#9c179e\"],[0.4444444444444444,\"#bd3786\"],[0.5555555555555556,\"#d8576b\"],[0.6666666666666666,\"#ed7953\"],[0.7777777777777778,\"#fb9f3a\"],[0.8888888888888888,\"#fdca26\"],[1.0,\"#f0f921\"]]}],\"heatmap\":[{\"type\":\"heatmap\",\"colorbar\":{\"outlinewidth\":0,\"ticks\":\"\"},\"colorscale\":[[0.0,\"#0d0887\"],[0.1111111111111111,\"#46039f\"],[0.2222222222222222,\"#7201a8\"],[0.3333333333333333,\"#9c179e\"],[0.4444444444444444,\"#bd3786\"],[0.5555555555555556,\"#d8576b\"],[0.6666666666666666,\"#ed7953\"],[0.7777777777777778,\"#fb9f3a\"],[0.8888888888888888,\"#fdca26\"],[1.0,\"#f0f921\"]]}],\"heatmapgl\":[{\"type\":\"heatmapgl\",\"colorbar\":{\"outlinewidth\":0,\"ticks\":\"\"},\"colorscale\":[[0.0,\"#0d0887\"],[0.1111111111111111,\"#46039f\"],[0.2222222222222222,\"#7201a8\"],[0.3333333333333333,\"#9c179e\"],[0.4444444444444444,\"#bd3786\"],[0.5555555555555556,\"#d8576b\"],[0.6666666666666666,\"#ed7953\"],[0.7777777777777778,\"#fb9f3a\"],[0.8888888888888888,\"#fdca26\"],[1.0,\"#f0f921\"]]}],\"contourcarpet\":[{\"type\":\"contourcarpet\",\"colorbar\":{\"outlinewidth\":0,\"ticks\":\"\"}}],\"contour\":[{\"type\":\"contour\",\"colorbar\":{\"outlinewidth\":0,\"ticks\":\"\"},\"colorscale\":[[0.0,\"#0d0887\"],[0.1111111111111111,\"#46039f\"],[0.2222222222222222,\"#7201a8\"],[0.3333333333333333,\"#9c179e\"],[0.4444444444444444,\"#bd3786\"],[0.5555555555555556,\"#d8576b\"],[0.6666666666666666,\"#ed7953\"],[0.7777777777777778,\"#fb9f3a\"],[0.8888888888888888,\"#fdca26\"],[1.0,\"#f0f921\"]]}],\"surface\":[{\"type\":\"surface\",\"colorbar\":{\"outlinewidth\":0,\"ticks\":\"\"},\"colorscale\":[[0.0,\"#0d0887\"],[0.1111111111111111,\"#46039f\"],[0.2222222222222222,\"#7201a8\"],[0.3333333333333333,\"#9c179e\"],[0.4444444444444444,\"#bd3786\"],[0.5555555555555556,\"#d8576b\"],[0.6666666666666666,\"#ed7953\"],[0.7777777777777778,\"#fb9f3a\"],[0.8888888888888888,\"#fdca26\"],[1.0,\"#f0f921\"]]}],\"mesh3d\":[{\"type\":\"mesh3d\",\"colorbar\":{\"outlinewidth\":0,\"ticks\":\"\"}}],\"scatter\":[{\"fillpattern\":{\"fillmode\":\"overlay\",\"size\":10,\"solidity\":0.2},\"type\":\"scatter\"}],\"parcoords\":[{\"type\":\"parcoords\",\"line\":{\"colorbar\":{\"outlinewidth\":0,\"ticks\":\"\"}}}],\"scatterpolargl\":[{\"type\":\"scatterpolargl\",\"marker\":{\"colorbar\":{\"outlinewidth\":0,\"ticks\":\"\"}}}],\"bar\":[{\"error_x\":{\"color\":\"#2a3f5f\"},\"error_y\":{\"color\":\"#2a3f5f\"},\"marker\":{\"line\":{\"color\":\"#E5ECF6\",\"width\":0.5},\"pattern\":{\"fillmode\":\"overlay\",\"size\":10,\"solidity\":0.2}},\"type\":\"bar\"}],\"scattergeo\":[{\"type\":\"scattergeo\",\"marker\":{\"colorbar\":{\"outlinewidth\":0,\"ticks\":\"\"}}}],\"scatterpolar\":[{\"type\":\"scatterpolar\",\"marker\":{\"colorbar\":{\"outlinewidth\":0,\"ticks\":\"\"}}}],\"histogram\":[{\"marker\":{\"pattern\":{\"fillmode\":\"overlay\",\"size\":10,\"solidity\":0.2}},\"type\":\"histogram\"}],\"scattergl\":[{\"type\":\"scattergl\",\"marker\":{\"colorbar\":{\"outlinewidth\":0,\"ticks\":\"\"}}}],\"scatter3d\":[{\"type\":\"scatter3d\",\"line\":{\"colorbar\":{\"outlinewidth\":0,\"ticks\":\"\"}},\"marker\":{\"colorbar\":{\"outlinewidth\":0,\"ticks\":\"\"}}}],\"scattermapbox\":[{\"type\":\"scattermapbox\",\"marker\":{\"colorbar\":{\"outlinewidth\":0,\"ticks\":\"\"}}}],\"scatterternary\":[{\"type\":\"scatterternary\",\"marker\":{\"colorbar\":{\"outlinewidth\":0,\"ticks\":\"\"}}}],\"scattercarpet\":[{\"type\":\"scattercarpet\",\"marker\":{\"colorbar\":{\"outlinewidth\":0,\"ticks\":\"\"}}}],\"carpet\":[{\"aaxis\":{\"endlinecolor\":\"#2a3f5f\",\"gridcolor\":\"white\",\"linecolor\":\"white\",\"minorgridcolor\":\"white\",\"startlinecolor\":\"#2a3f5f\"},\"baxis\":{\"endlinecolor\":\"#2a3f5f\",\"gridcolor\":\"white\",\"linecolor\":\"white\",\"minorgridcolor\":\"white\",\"startlinecolor\":\"#2a3f5f\"},\"type\":\"carpet\"}],\"table\":[{\"cells\":{\"fill\":{\"color\":\"#EBF0F8\"},\"line\":{\"color\":\"white\"}},\"header\":{\"fill\":{\"color\":\"#C8D4E3\"},\"line\":{\"color\":\"white\"}},\"type\":\"table\"}],\"barpolar\":[{\"marker\":{\"line\":{\"color\":\"#E5ECF6\",\"width\":0.5},\"pattern\":{\"fillmode\":\"overlay\",\"size\":10,\"solidity\":0.2}},\"type\":\"barpolar\"}],\"pie\":[{\"automargin\":true,\"type\":\"pie\"}]},\"layout\":{\"autotypenumbers\":\"strict\",\"colorway\":[\"#636efa\",\"#EF553B\",\"#00cc96\",\"#ab63fa\",\"#FFA15A\",\"#19d3f3\",\"#FF6692\",\"#B6E880\",\"#FF97FF\",\"#FECB52\"],\"font\":{\"color\":\"#2a3f5f\"},\"hovermode\":\"closest\",\"hoverlabel\":{\"align\":\"left\"},\"paper_bgcolor\":\"white\",\"plot_bgcolor\":\"#E5ECF6\",\"polar\":{\"bgcolor\":\"#E5ECF6\",\"angularaxis\":{\"gridcolor\":\"white\",\"linecolor\":\"white\",\"ticks\":\"\"},\"radialaxis\":{\"gridcolor\":\"white\",\"linecolor\":\"white\",\"ticks\":\"\"}},\"ternary\":{\"bgcolor\":\"#E5ECF6\",\"aaxis\":{\"gridcolor\":\"white\",\"linecolor\":\"white\",\"ticks\":\"\"},\"baxis\":{\"gridcolor\":\"white\",\"linecolor\":\"white\",\"ticks\":\"\"},\"caxis\":{\"gridcolor\":\"white\",\"linecolor\":\"white\",\"ticks\":\"\"}},\"coloraxis\":{\"colorbar\":{\"outlinewidth\":0,\"ticks\":\"\"}},\"colorscale\":{\"sequential\":[[0.0,\"#0d0887\"],[0.1111111111111111,\"#46039f\"],[0.2222222222222222,\"#7201a8\"],[0.3333333333333333,\"#9c179e\"],[0.4444444444444444,\"#bd3786\"],[0.5555555555555556,\"#d8576b\"],[0.6666666666666666,\"#ed7953\"],[0.7777777777777778,\"#fb9f3a\"],[0.8888888888888888,\"#fdca26\"],[1.0,\"#f0f921\"]],\"sequentialminus\":[[0.0,\"#0d0887\"],[0.1111111111111111,\"#46039f\"],[0.2222222222222222,\"#7201a8\"],[0.3333333333333333,\"#9c179e\"],[0.4444444444444444,\"#bd3786\"],[0.5555555555555556,\"#d8576b\"],[0.6666666666666666,\"#ed7953\"],[0.7777777777777778,\"#fb9f3a\"],[0.8888888888888888,\"#fdca26\"],[1.0,\"#f0f921\"]],\"diverging\":[[0,\"#8e0152\"],[0.1,\"#c51b7d\"],[0.2,\"#de77ae\"],[0.3,\"#f1b6da\"],[0.4,\"#fde0ef\"],[0.5,\"#f7f7f7\"],[0.6,\"#e6f5d0\"],[0.7,\"#b8e186\"],[0.8,\"#7fbc41\"],[0.9,\"#4d9221\"],[1,\"#276419\"]]},\"xaxis\":{\"gridcolor\":\"white\",\"linecolor\":\"white\",\"ticks\":\"\",\"title\":{\"standoff\":15},\"zerolinecolor\":\"white\",\"automargin\":true,\"zerolinewidth\":2},\"yaxis\":{\"gridcolor\":\"white\",\"linecolor\":\"white\",\"ticks\":\"\",\"title\":{\"standoff\":15},\"zerolinecolor\":\"white\",\"automargin\":true,\"zerolinewidth\":2},\"scene\":{\"xaxis\":{\"backgroundcolor\":\"#E5ECF6\",\"gridcolor\":\"white\",\"linecolor\":\"white\",\"showbackground\":true,\"ticks\":\"\",\"zerolinecolor\":\"white\",\"gridwidth\":2},\"yaxis\":{\"backgroundcolor\":\"#E5ECF6\",\"gridcolor\":\"white\",\"linecolor\":\"white\",\"showbackground\":true,\"ticks\":\"\",\"zerolinecolor\":\"white\",\"gridwidth\":2},\"zaxis\":{\"backgroundcolor\":\"#E5ECF6\",\"gridcolor\":\"white\",\"linecolor\":\"white\",\"showbackground\":true,\"ticks\":\"\",\"zerolinecolor\":\"white\",\"gridwidth\":2}},\"shapedefaults\":{\"line\":{\"color\":\"#2a3f5f\"}},\"annotationdefaults\":{\"arrowcolor\":\"#2a3f5f\",\"arrowhead\":0,\"arrowwidth\":1},\"geo\":{\"bgcolor\":\"white\",\"landcolor\":\"#E5ECF6\",\"subunitcolor\":\"white\",\"showland\":true,\"showlakes\":true,\"lakecolor\":\"white\"},\"title\":{\"x\":0.05},\"mapbox\":{\"style\":\"light\"}}},\"xaxis\":{\"anchor\":\"y\",\"domain\":[0.0,1.0],\"title\":{\"text\":\"value\"}},\"yaxis\":{\"anchor\":\"x\",\"domain\":[0.0,1.0],\"title\":{\"text\":\"who\"},\"categoryorder\":\"array\",\"categoryarray\":[\"child\",\"man\",\"woman\"]},\"legend\":{\"title\":{\"text\":\"who\"},\"tracegroupgap\":0,\"itemsizing\":\"constant\"},\"title\":{\"text\":\"Manually specified Graph\"}},                        {\"responsive\": true}                    )                };                            </script>        </div>"
      ],
      "text/plain": [
       "Figure({\n",
       "    'data': [{'hovertemplate': ('<b>%{hovertext}</b><br><br>who' ... '=%{marker.size}<extra></extra>'),\n",
       "              'hovertext': array([1., 1., 1., 1., 1., 1., 1., 1., 1., 1., 1., 1., 1., 0., 1., 1., 1., 1.,\n",
       "                                  1., 0., 1., 1., 1., 1., 1., 1., 1., 1., 1., 1., 1., 1., 1., 1., 1., 1.,\n",
       "                                  1., 1., 1., 1., 1., 1., 1., 1., 1., 1., 1., 1., 1., 0., 1., 1., 1., 1.,\n",
       "                                  1., 1., 1., 1., 1., 1., 1., 1., 1., 1., 1., 1., 1., 1., 1., 1., 1., 1.,\n",
       "                                  1., 1., 1., 1., 0., 1., 1., 1., 1., 1., 1., 1., 1., 1., 1., 1., 1., 1.,\n",
       "                                  1.]),\n",
       "              'legendgroup': 'woman',\n",
       "              'marker': {'color': '#636efa',\n",
       "                         'size': array([0.13913574, 0.1036443 , 0.05182215, 0.28598956, 0.14976542, 0.1561496 ,\n",
       "                                        0.02049464, 0.51334181, 0.02537431, 0.0436405 , 0.05130158, 0.12999454,\n",
       "                                        0.10735285, 0.05604307, 0.0541074 , 0.28598956, 0.22109808, 0.14891148,\n",
       "                                        0.16293235, 0.02042144, 0.16883676, 0.29953885, 0.26473857, 0.15216447,\n",
       "                                        0.17777476, 0.48312843, 0.02410559, 0.21255864, 0.1111184 , 0.16231419,\n",
       "                                        0.51212189, 0.32179837, 0.26252652, 0.26473857, 0.02537431, 0.11316786,\n",
       "                                        0.26252652, 0.51334181, 0.02537431, 0.10735285, 0.14687822, 0.13526459,\n",
       "                                        0.22109808, 0.03259623, 0.1756683 , 0.10122886, 0.02691961, 0.1756683 ,\n",
       "                                        0.15276642, 0.2958059 , 0.16883676, 0.02049464, 0.18249985, 0.11316786,\n",
       "                                        0.09661757, 0.13858277, 0.07729405, 0.15546645, 0.10048071, 0.10910953,\n",
       "                                        0.21642979, 0.15546645, 0.15276642, 0.29953885, 0.15216447, 0.13526459,\n",
       "                                        0.10149724, 0.44409922, 0.09662576, 0.44409922, 0.02049464, 0.41250333,\n",
       "                                        0.51212189, 0.16883676, 0.2342244 , 0.15216447, 0.02049464, 0.41250333,\n",
       "                                        0.11125659, 0.05061043, 0.1036443 , 0.18249985, 0.02434958, 0.1561496 ,\n",
       "                                        0.16231419, 0.17391982, 0.07690368, 0.05061043, 0.10257897, 0.16231419,\n",
       "                                        0.0585561 ]),\n",
       "                         'sizemode': 'area',\n",
       "                         'sizeref': 0.0002777777777777778,\n",
       "                         'symbol': 'circle'},\n",
       "              'mode': 'markers',\n",
       "              'name': 'woman',\n",
       "              'orientation': 'h',\n",
       "              'showlegend': True,\n",
       "              'type': 'scatter',\n",
       "              'x': array([0.475     , 0.4375    , 0.725     , 0.44722603, 0.6125    , 0.475     ,\n",
       "                          0.3625    , 0.2875    , 0.40623288, 0.44722603, 0.2375    , 0.275     ,\n",
       "                          0.44722603, 0.625     , 0.55      , 0.725     , 0.3875    , 0.4       ,\n",
       "                          0.4375    , 0.3625    , 0.375     , 0.725     , 0.4375    , 0.7875    ,\n",
       "                          0.2375    , 0.625     , 0.44722603, 0.2125    , 0.375     , 0.3       ,\n",
       "                          0.225     , 0.3875    , 0.5       , 0.45      , 0.45      , 0.2       ,\n",
       "                          0.5125    , 0.3       , 0.3       , 0.275     , 0.75      , 0.3       ,\n",
       "                          0.2875    , 0.3       , 0.4125    , 0.44722603, 0.2875    , 0.4375    ,\n",
       "                          0.675     , 0.3125    , 0.2       , 0.425     , 0.375     , 0.55      ,\n",
       "                          0.275     , 0.45      , 0.6       , 0.4875    , 0.6625    , 0.4875    ,\n",
       "                          0.4875    , 0.225     , 0.65      , 0.5       , 0.2625    , 0.3       ,\n",
       "                          0.44722603, 0.225     , 0.3       , 0.475     , 0.3375    , 0.3625    ,\n",
       "                          0.2625    , 0.4125    , 0.45      , 0.6375    , 0.7125    , 0.5375    ,\n",
       "                          0.2125    , 0.6125    , 0.4125    , 0.65      , 0.3375    , 0.775     ,\n",
       "                          0.4875    , 0.44722603, 0.2       , 0.6       , 0.5875    , 0.7       ,\n",
       "                          0.2375    ]),\n",
       "              'xaxis': 'x',\n",
       "              'y': array(['woman', 'woman', 'woman', 'woman', 'woman', 'woman', 'woman', 'woman',\n",
       "                          'woman', 'woman', 'woman', 'woman', 'woman', 'woman', 'woman', 'woman',\n",
       "                          'woman', 'woman', 'woman', 'woman', 'woman', 'woman', 'woman', 'woman',\n",
       "                          'woman', 'woman', 'woman', 'woman', 'woman', 'woman', 'woman', 'woman',\n",
       "                          'woman', 'woman', 'woman', 'woman', 'woman', 'woman', 'woman', 'woman',\n",
       "                          'woman', 'woman', 'woman', 'woman', 'woman', 'woman', 'woman', 'woman',\n",
       "                          'woman', 'woman', 'woman', 'woman', 'woman', 'woman', 'woman', 'woman',\n",
       "                          'woman', 'woman', 'woman', 'woman', 'woman', 'woman', 'woman', 'woman',\n",
       "                          'woman', 'woman', 'woman', 'woman', 'woman', 'woman', 'woman', 'woman',\n",
       "                          'woman', 'woman', 'woman', 'woman', 'woman', 'woman', 'woman', 'woman',\n",
       "                          'woman', 'woman', 'woman', 'woman', 'woman', 'woman', 'woman', 'woman',\n",
       "                          'woman', 'woman', 'woman'], dtype=object),\n",
       "              'yaxis': 'y'},\n",
       "             {'hovertemplate': ('<b>%{hovertext}</b><br><br>who' ... '=%{marker.size}<extra></extra>'),\n",
       "              'hovertext': array([0., 1., 1., 0., 0., 1., 0., 0., 0., 0., 1., 0., 0., 0., 0., 0., 0., 0.,\n",
       "                                  0., 0., 0., 1., 1., 0., 1., 0., 0., 0., 0., 0., 0., 1., 0., 0., 0., 0.,\n",
       "                                  1., 0., 1., 1., 1., 0., 0., 1., 0., 1., 0., 1., 0., 0., 1., 0., 0., 0.,\n",
       "                                  1., 0., 0., 0., 0., 1., 1., 0., 1., 1., 1., 0., 1., 1., 1., 1., 0., 0.,\n",
       "                                  0., 1., 1., 1., 0., 0., 1., 1., 0., 1., 0., 1., 1., 1., 0., 0., 0., 0.,\n",
       "                                  0., 0., 0., 0., 1., 1., 0., 0., 1.]),\n",
       "              'legendgroup': 'man',\n",
       "              'marker': {'color': '#EF553B',\n",
       "                         'size': array([0.10122886, 0.02537431, 0.06929139, 0.51334181, 0.12097534, 0.06929139,\n",
       "                                        0.16293235, 0.01493181, 0.11940565, 0.06764049, 0.12366717, 0.15085515,\n",
       "                                        0.10149724, 0.48312843, 0.15085515, 0.1036443 , 0.1545881 , 0.05074862,\n",
       "                                        0.06538765, 0.05991421, 0.0975935 , 0.06050797, 0.1756683 , 0.1756683 ,\n",
       "                                        0.10257897, 0.05182215, 0.15546645, 0.        , 0.05797054, 0.05074862,\n",
       "                                        0.02513033, 0.05953204, 0.0556283 , 0.29953885, 0.12999454, 0.06831545,\n",
       "                                        0.10821499, 0.41282051, 0.2342244 , 0.01571255, 0.05182215, 0.10910953,\n",
       "                                        0.51334181, 0.05953204, 0.05416439, 0.17391982, 0.05182215, 0.05182215,\n",
       "                                        0.075147  , 0.10149724, 0.17777476, 0.05797054, 0.05953204, 0.21255864,\n",
       "                                        0.05130978, 0.06640418, 0.43288417, 0.05182215, 0.20772777, 0.21642979,\n",
       "                                        0.05150497, 0.07831878, 0.1545881 , 0.1111184 , 0.10257897, 0.063086  ,\n",
       "                                        0.0585561 , 0.05953204, 0.14976542, 0.06929139, 0.22109808, 0.04994347,\n",
       "                                        0.10149724, 1.        , 0.14976542, 0.11125659, 0.21642979, 0.01493181,\n",
       "                                        0.05130978, 0.05130978, 0.05182215, 0.10149724, 0.01493181, 0.1036443 ,\n",
       "                                        1.        , 0.0585561 , 0.15390495, 0.13858277, 0.1036443 , 0.01512699,\n",
       "                                        0.0585561 , 0.1545881 , 0.        , 0.        , 0.05797054, 0.05182215,\n",
       "                                        0.09856124, 0.00975935, 0.0585561 ]),\n",
       "                         'sizemode': 'area',\n",
       "                         'sizeref': 0.0002777777777777778,\n",
       "                         'symbol': 'circle'},\n",
       "              'mode': 'markers',\n",
       "              'name': 'man',\n",
       "              'orientation': 'h',\n",
       "              'showlegend': True,\n",
       "              'type': 'scatter',\n",
       "              'x': array([0.675     , 0.425     , 0.35      , 0.2375    , 0.8125    , 0.44722603,\n",
       "                          0.5625    , 0.3125    , 0.575     , 0.8875    , 0.2875    , 0.2625    ,\n",
       "                          0.5875    , 0.3       , 0.675     , 0.4625    , 0.3       , 0.45623288,\n",
       "                          0.7625    , 0.7       , 0.44722603, 0.5       , 0.475     , 0.55      ,\n",
       "                          0.4625    , 0.775     , 0.65      , 0.5       , 0.4625    , 0.44722603,\n",
       "                          0.45      , 0.44722603, 0.56873288, 0.475     , 0.3625    , 0.44722603,\n",
       "                          0.3125    , 0.3375    , 0.45      , 0.4       , 0.35      , 0.625     ,\n",
       "                          0.8       , 0.65      , 0.375     , 0.6125    , 0.8125    , 0.6       ,\n",
       "                          0.5875    , 0.44722603, 0.3125    , 0.725     , 0.6875    , 0.225     ,\n",
       "                          0.45      , 0.5875    , 0.44722603, 0.5625    , 0.625     , 0.2125    ,\n",
       "                          0.45      , 0.45      , 0.75      , 0.6125    , 0.525     , 0.7625    ,\n",
       "                          1.        , 0.4       , 0.6       , 0.7       , 0.725     , 0.5875    ,\n",
       "                          0.3875    , 0.45      , 0.3375    , 0.3875    , 0.6125    , 0.525     ,\n",
       "                          0.4375    , 0.525     , 0.44722603, 0.6       , 0.2375    , 0.3375    ,\n",
       "                          0.4375    , 0.44722603, 0.45      , 0.875     , 0.2375    , 0.44722603,\n",
       "                          0.3625    , 0.575     , 0.4875    , 0.44722603, 0.44722603, 0.6375    ,\n",
       "                          0.3875    , 0.4125    , 0.325     ]),\n",
       "              'xaxis': 'x',\n",
       "              'y': array(['man', 'man', 'man', 'man', 'man', 'man', 'man', 'man', 'man', 'man',\n",
       "                          'man', 'man', 'man', 'man', 'man', 'man', 'man', 'man', 'man', 'man',\n",
       "                          'man', 'man', 'man', 'man', 'man', 'man', 'man', 'man', 'man', 'man',\n",
       "                          'man', 'man', 'man', 'man', 'man', 'man', 'man', 'man', 'man', 'man',\n",
       "                          'man', 'man', 'man', 'man', 'man', 'man', 'man', 'man', 'man', 'man',\n",
       "                          'man', 'man', 'man', 'man', 'man', 'man', 'man', 'man', 'man', 'man',\n",
       "                          'man', 'man', 'man', 'man', 'man', 'man', 'man', 'man', 'man', 'man',\n",
       "                          'man', 'man', 'man', 'man', 'man', 'man', 'man', 'man', 'man', 'man',\n",
       "                          'man', 'man', 'man', 'man', 'man', 'man', 'man', 'man', 'man', 'man',\n",
       "                          'man', 'man', 'man', 'man', 'man', 'man', 'man', 'man', 'man'],\n",
       "                         dtype=object),\n",
       "              'yaxis': 'y'},\n",
       "             {'hovertemplate': ('<b>%{hovertext}</b><br><br>who' ... '=%{marker.size}<extra></extra>'),\n",
       "              'hovertext': array([1., 1., 1., 0., 0., 1., 1., 1., 1., 1., 1., 1., 1.]),\n",
       "              'legendgroup': 'child',\n",
       "              'marker': {'color': '#00cc96',\n",
       "                         'size': array([0.03259623, 0.07612293, 0.05074862, 0.02042144, 0.2958059 , 0.2958059 ,\n",
       "                                        0.05074862, 0.2342244 , 0.15977676, 0.07612293, 0.41250333, 0.02434958,\n",
       "                                        0.2342244 ]),\n",
       "                         'sizemode': 'area',\n",
       "                         'sizeref': 0.0002777777777777778,\n",
       "                         'symbol': 'circle'},\n",
       "              'mode': 'markers',\n",
       "              'name': 'child',\n",
       "              'orientation': 'h',\n",
       "              'showlegend': True,\n",
       "              'type': 'scatter',\n",
       "              'x': array([0.05     , 0.0125   , 0.0375   , 0.025    , 0.025    , 0.0114726,\n",
       "                          0.025    , 0.175    , 0.05     , 0.05     , 0.1875   , 0.075    ,\n",
       "                          0.1375   ]),\n",
       "              'xaxis': 'x',\n",
       "              'y': array(['child', 'child', 'child', 'child', 'child', 'child', 'child', 'child',\n",
       "                          'child', 'child', 'child', 'child', 'child'], dtype=object),\n",
       "              'yaxis': 'y'}],\n",
       "    'layout': {'legend': {'itemsizing': 'constant', 'title': {'text': 'who'}, 'tracegroupgap': 0},\n",
       "               'template': '...',\n",
       "               'title': {'text': 'Manually specified Graph'},\n",
       "               'xaxis': {'anchor': 'y', 'domain': [0.0, 1.0], 'title': {'text': 'value'}},\n",
       "               'yaxis': {'anchor': 'x',\n",
       "                         'categoryarray': [child, man, woman],\n",
       "                         'categoryorder': 'array',\n",
       "                         'domain': [0.0, 1.0],\n",
       "                         'title': {'text': 'who'}}}\n",
       "})"
      ]
     },
     "execution_count": 418,
     "metadata": {},
     "output_type": "execute_result"
    }
   ],
   "source": [
    "\n",
    "px.scatter(sh1,x=[\"age in days\"],y=\"who\",\n",
    "\t         size=\"fare\", color=\"who\",\n",
    "                 hover_name=\"survived\", size_max=60,title='Manually specified Graph')\n",
    " "
   ]
  }
 ],
 "metadata": {
  "kernelspec": {
   "display_name": "Python 3.10.5 64-bit",
   "language": "python",
   "name": "python3"
  },
  "language_info": {
   "codemirror_mode": {
    "name": "ipython",
    "version": 3
   },
   "file_extension": ".py",
   "mimetype": "text/x-python",
   "name": "python",
   "nbconvert_exporter": "python",
   "pygments_lexer": "ipython3",
   "version": "3.10.5"
  },
  "orig_nbformat": 4,
  "vscode": {
   "interpreter": {
    "hash": "3196968d684371006099b3d55edeef8ed90365227a30deaef86e5d4aa8519be0"
   }
  }
 },
 "nbformat": 4,
 "nbformat_minor": 2
}
