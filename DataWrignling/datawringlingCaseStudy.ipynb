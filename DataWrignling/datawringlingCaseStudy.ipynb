{
 "cells": [
  {
   "cell_type": "markdown",
   "metadata": {},
   "source": [
    "# Import Libraries"
   ]
  },
  {
   "cell_type": "code",
   "execution_count": 145,
   "metadata": {},
   "outputs": [],
   "source": [
    "import numpy as np\n",
    "import pandas as pd\n",
    "import seaborn as sns\n",
    "import plotly.express as px\n",
    "import plotly.graph_objects as go\n",
    "import matplotlib.pyplot as plt"
   ]
  },
  {
   "cell_type": "markdown",
   "metadata": {},
   "source": [
    "# Load dataset"
   ]
  },
  {
   "cell_type": "code",
   "execution_count": 146,
   "metadata": {},
   "outputs": [
    {
     "data": {
      "text/html": [
       "<div>\n",
       "<style scoped>\n",
       "    .dataframe tbody tr th:only-of-type {\n",
       "        vertical-align: middle;\n",
       "    }\n",
       "\n",
       "    .dataframe tbody tr th {\n",
       "        vertical-align: top;\n",
       "    }\n",
       "\n",
       "    .dataframe thead th {\n",
       "        text-align: right;\n",
       "    }\n",
       "</style>\n",
       "<table border=\"1\" class=\"dataframe\">\n",
       "  <thead>\n",
       "    <tr style=\"text-align: right;\">\n",
       "      <th></th>\n",
       "      <th>DomainCode</th>\n",
       "      <th>Domain</th>\n",
       "      <th>AreaCode</th>\n",
       "      <th>Area</th>\n",
       "      <th>ElementCode</th>\n",
       "      <th>Element</th>\n",
       "      <th>ItemCode</th>\n",
       "      <th>Item</th>\n",
       "      <th>YearCode</th>\n",
       "      <th>Year</th>\n",
       "      <th>Unit</th>\n",
       "      <th>Value</th>\n",
       "      <th>Flag</th>\n",
       "      <th>FlagDescription</th>\n",
       "    </tr>\n",
       "  </thead>\n",
       "  <tbody>\n",
       "    <tr>\n",
       "      <th>0</th>\n",
       "      <td>RFN</td>\n",
       "      <td>Fertilizers by Nutrient</td>\n",
       "      <td>165</td>\n",
       "      <td>Pakistan</td>\n",
       "      <td>5157</td>\n",
       "      <td>Agricultural Use</td>\n",
       "      <td>3102</td>\n",
       "      <td>Nutrient nitrogen N (total)</td>\n",
       "      <td>1961</td>\n",
       "      <td>1961</td>\n",
       "      <td>tonnes</td>\n",
       "      <td>41659</td>\n",
       "      <td>Qm</td>\n",
       "      <td>Official data from questionnaires and/or natio...</td>\n",
       "    </tr>\n",
       "    <tr>\n",
       "      <th>1</th>\n",
       "      <td>RFN</td>\n",
       "      <td>Fertilizers by Nutrient</td>\n",
       "      <td>165</td>\n",
       "      <td>Pakistan</td>\n",
       "      <td>5157</td>\n",
       "      <td>Agricultural Use</td>\n",
       "      <td>3103</td>\n",
       "      <td>Nutrient phosphate P2O5 (total)</td>\n",
       "      <td>1961</td>\n",
       "      <td>1961</td>\n",
       "      <td>tonnes</td>\n",
       "      <td>500</td>\n",
       "      <td>Qm</td>\n",
       "      <td>Official data from questionnaires and/or natio...</td>\n",
       "    </tr>\n",
       "    <tr>\n",
       "      <th>2</th>\n",
       "      <td>RFN</td>\n",
       "      <td>Fertilizers by Nutrient</td>\n",
       "      <td>165</td>\n",
       "      <td>Pakistan</td>\n",
       "      <td>5157</td>\n",
       "      <td>Agricultural Use</td>\n",
       "      <td>3103</td>\n",
       "      <td>Nutrient phosphate P2O5 (total)</td>\n",
       "      <td>1962</td>\n",
       "      <td>1962</td>\n",
       "      <td>tonnes</td>\n",
       "      <td>210</td>\n",
       "      <td>Qm</td>\n",
       "      <td>Official data from questionnaires and/or natio...</td>\n",
       "    </tr>\n",
       "    <tr>\n",
       "      <th>3</th>\n",
       "      <td>RFN</td>\n",
       "      <td>Fertilizers by Nutrient</td>\n",
       "      <td>165</td>\n",
       "      <td>Pakistan</td>\n",
       "      <td>5157</td>\n",
       "      <td>Agricultural Use</td>\n",
       "      <td>3102</td>\n",
       "      <td>Nutrient nitrogen N (total)</td>\n",
       "      <td>1962</td>\n",
       "      <td>1962</td>\n",
       "      <td>tonnes</td>\n",
       "      <td>41160</td>\n",
       "      <td>Qm</td>\n",
       "      <td>Official data from questionnaires and/or natio...</td>\n",
       "    </tr>\n",
       "    <tr>\n",
       "      <th>4</th>\n",
       "      <td>RFN</td>\n",
       "      <td>Fertilizers by Nutrient</td>\n",
       "      <td>165</td>\n",
       "      <td>Pakistan</td>\n",
       "      <td>5157</td>\n",
       "      <td>Agricultural Use</td>\n",
       "      <td>3102</td>\n",
       "      <td>Nutrient nitrogen N (total)</td>\n",
       "      <td>1963</td>\n",
       "      <td>1963</td>\n",
       "      <td>tonnes</td>\n",
       "      <td>67620</td>\n",
       "      <td>Qm</td>\n",
       "      <td>Official data from questionnaires and/or natio...</td>\n",
       "    </tr>\n",
       "  </tbody>\n",
       "</table>\n",
       "</div>"
      ],
      "text/plain": [
       "  DomainCode                   Domain  AreaCode      Area  ElementCode  \\\n",
       "0        RFN  Fertilizers by Nutrient       165  Pakistan         5157   \n",
       "1        RFN  Fertilizers by Nutrient       165  Pakistan         5157   \n",
       "2        RFN  Fertilizers by Nutrient       165  Pakistan         5157   \n",
       "3        RFN  Fertilizers by Nutrient       165  Pakistan         5157   \n",
       "4        RFN  Fertilizers by Nutrient       165  Pakistan         5157   \n",
       "\n",
       "            Element  ItemCode                             Item  YearCode  \\\n",
       "0  Agricultural Use      3102      Nutrient nitrogen N (total)      1961   \n",
       "1  Agricultural Use      3103  Nutrient phosphate P2O5 (total)      1961   \n",
       "2  Agricultural Use      3103  Nutrient phosphate P2O5 (total)      1962   \n",
       "3  Agricultural Use      3102      Nutrient nitrogen N (total)      1962   \n",
       "4  Agricultural Use      3102      Nutrient nitrogen N (total)      1963   \n",
       "\n",
       "   Year    Unit  Value Flag                                    FlagDescription  \n",
       "0  1961  tonnes  41659   Qm  Official data from questionnaires and/or natio...  \n",
       "1  1961  tonnes    500   Qm  Official data from questionnaires and/or natio...  \n",
       "2  1962  tonnes    210   Qm  Official data from questionnaires and/or natio...  \n",
       "3  1962  tonnes  41160   Qm  Official data from questionnaires and/or natio...  \n",
       "4  1963  tonnes  67620   Qm  Official data from questionnaires and/or natio...  "
      ]
     },
     "execution_count": 146,
     "metadata": {},
     "output_type": "execute_result"
    }
   ],
   "source": [
    "df_fu = pd.read_csv('furtilizer_used.csv')\n",
    "df_fu.head(5)"
   ]
  },
  {
   "cell_type": "markdown",
   "metadata": {},
   "source": [
    "## Dealing with missing values."
   ]
  },
  {
   "cell_type": "code",
   "execution_count": 147,
   "metadata": {},
   "outputs": [
    {
     "data": {
      "text/plain": [
       "DomainCode         0\n",
       "Domain             0\n",
       "AreaCode           0\n",
       "Area               0\n",
       "ElementCode        0\n",
       "Element            0\n",
       "ItemCode           0\n",
       "Item               0\n",
       "YearCode           0\n",
       "Year               0\n",
       "Unit               0\n",
       "Value              0\n",
       "Flag               0\n",
       "FlagDescription    0\n",
       "dtype: int64"
      ]
     },
     "execution_count": 147,
     "metadata": {},
     "output_type": "execute_result"
    }
   ],
   "source": [
    "df_fu.isnull().sum()"
   ]
  },
  {
   "cell_type": "code",
   "execution_count": 148,
   "metadata": {},
   "outputs": [
    {
     "data": {
      "text/plain": [
       "DomainCode         object\n",
       "Domain             object\n",
       "AreaCode            int64\n",
       "Area               object\n",
       "ElementCode         int64\n",
       "Element            object\n",
       "ItemCode            int64\n",
       "Item               object\n",
       "YearCode            int64\n",
       "Year                int64\n",
       "Unit               object\n",
       "Value               int64\n",
       "Flag               object\n",
       "FlagDescription    object\n",
       "dtype: object"
      ]
     },
     "execution_count": 148,
     "metadata": {},
     "output_type": "execute_result"
    }
   ],
   "source": [
    "df_fu.dtypes"
   ]
  },
  {
   "cell_type": "markdown",
   "metadata": {},
   "source": [
    "As we don't have any null/NaN/0 value so we'll move towards Normalization.."
   ]
  },
  {
   "cell_type": "code",
   "execution_count": 149,
   "metadata": {},
   "outputs": [],
   "source": [
    "df_fu1 = df_fu[['Item', 'Year','Value']]"
   ]
  },
  {
   "cell_type": "code",
   "execution_count": 150,
   "metadata": {},
   "outputs": [
    {
     "data": {
      "text/html": [
       "<div>\n",
       "<style scoped>\n",
       "    .dataframe tbody tr th:only-of-type {\n",
       "        vertical-align: middle;\n",
       "    }\n",
       "\n",
       "    .dataframe tbody tr th {\n",
       "        vertical-align: top;\n",
       "    }\n",
       "\n",
       "    .dataframe thead th {\n",
       "        text-align: right;\n",
       "    }\n",
       "</style>\n",
       "<table border=\"1\" class=\"dataframe\">\n",
       "  <thead>\n",
       "    <tr style=\"text-align: right;\">\n",
       "      <th></th>\n",
       "      <th>Item</th>\n",
       "      <th>Year</th>\n",
       "      <th>Value</th>\n",
       "    </tr>\n",
       "  </thead>\n",
       "  <tbody>\n",
       "    <tr>\n",
       "      <th>0</th>\n",
       "      <td>Nutrient nitrogen N (total)</td>\n",
       "      <td>1961</td>\n",
       "      <td>41659</td>\n",
       "    </tr>\n",
       "    <tr>\n",
       "      <th>1</th>\n",
       "      <td>Nutrient phosphate P2O5 (total)</td>\n",
       "      <td>1961</td>\n",
       "      <td>500</td>\n",
       "    </tr>\n",
       "    <tr>\n",
       "      <th>2</th>\n",
       "      <td>Nutrient phosphate P2O5 (total)</td>\n",
       "      <td>1962</td>\n",
       "      <td>210</td>\n",
       "    </tr>\n",
       "    <tr>\n",
       "      <th>3</th>\n",
       "      <td>Nutrient nitrogen N (total)</td>\n",
       "      <td>1962</td>\n",
       "      <td>41160</td>\n",
       "    </tr>\n",
       "    <tr>\n",
       "      <th>4</th>\n",
       "      <td>Nutrient nitrogen N (total)</td>\n",
       "      <td>1963</td>\n",
       "      <td>67620</td>\n",
       "    </tr>\n",
       "    <tr>\n",
       "      <th>...</th>\n",
       "      <td>...</td>\n",
       "      <td>...</td>\n",
       "      <td>...</td>\n",
       "    </tr>\n",
       "    <tr>\n",
       "      <th>170</th>\n",
       "      <td>Nutrient nitrogen N (total)</td>\n",
       "      <td>2019</td>\n",
       "      <td>3505356</td>\n",
       "    </tr>\n",
       "    <tr>\n",
       "      <th>171</th>\n",
       "      <td>Nutrient phosphate P2O5 (total)</td>\n",
       "      <td>2019</td>\n",
       "      <td>1099707</td>\n",
       "    </tr>\n",
       "    <tr>\n",
       "      <th>172</th>\n",
       "      <td>Nutrient phosphate P2O5 (total)</td>\n",
       "      <td>2020</td>\n",
       "      <td>1204060</td>\n",
       "    </tr>\n",
       "    <tr>\n",
       "      <th>173</th>\n",
       "      <td>Nutrient nitrogen N (total)</td>\n",
       "      <td>2020</td>\n",
       "      <td>3533784</td>\n",
       "    </tr>\n",
       "    <tr>\n",
       "      <th>174</th>\n",
       "      <td>Nutrient potash K2O (total)</td>\n",
       "      <td>2020</td>\n",
       "      <td>60973</td>\n",
       "    </tr>\n",
       "  </tbody>\n",
       "</table>\n",
       "<p>175 rows × 3 columns</p>\n",
       "</div>"
      ],
      "text/plain": [
       "                                Item  Year    Value\n",
       "0        Nutrient nitrogen N (total)  1961    41659\n",
       "1    Nutrient phosphate P2O5 (total)  1961      500\n",
       "2    Nutrient phosphate P2O5 (total)  1962      210\n",
       "3        Nutrient nitrogen N (total)  1962    41160\n",
       "4        Nutrient nitrogen N (total)  1963    67620\n",
       "..                               ...   ...      ...\n",
       "170      Nutrient nitrogen N (total)  2019  3505356\n",
       "171  Nutrient phosphate P2O5 (total)  2019  1099707\n",
       "172  Nutrient phosphate P2O5 (total)  2020  1204060\n",
       "173      Nutrient nitrogen N (total)  2020  3533784\n",
       "174      Nutrient potash K2O (total)  2020    60973\n",
       "\n",
       "[175 rows x 3 columns]"
      ]
     },
     "execution_count": 150,
     "metadata": {},
     "output_type": "execute_result"
    }
   ],
   "source": [
    "df_fu1"
   ]
  },
  {
   "cell_type": "markdown",
   "metadata": {},
   "source": [
    "### Simple Feature Scaling"
   ]
  },
  {
   "cell_type": "code",
   "execution_count": 151,
   "metadata": {},
   "outputs": [
    {
     "name": "stderr",
     "output_type": "stream",
     "text": [
      "C:\\Users\\Administrator\\AppData\\Local\\Temp\\ipykernel_17896\\2735968265.py:1: SettingWithCopyWarning:\n",
      "\n",
      "\n",
      "A value is trying to be set on a copy of a slice from a DataFrame.\n",
      "Try using .loc[row_indexer,col_indexer] = value instead\n",
      "\n",
      "See the caveats in the documentation: https://pandas.pydata.org/pandas-docs/stable/user_guide/indexing.html#returning-a-view-versus-a-copy\n",
      "\n"
     ]
    },
    {
     "data": {
      "text/html": [
       "<div>\n",
       "<style scoped>\n",
       "    .dataframe tbody tr th:only-of-type {\n",
       "        vertical-align: middle;\n",
       "    }\n",
       "\n",
       "    .dataframe tbody tr th {\n",
       "        vertical-align: top;\n",
       "    }\n",
       "\n",
       "    .dataframe thead th {\n",
       "        text-align: right;\n",
       "    }\n",
       "</style>\n",
       "<table border=\"1\" class=\"dataframe\">\n",
       "  <thead>\n",
       "    <tr style=\"text-align: right;\">\n",
       "      <th></th>\n",
       "      <th>Item</th>\n",
       "      <th>Year</th>\n",
       "      <th>Value</th>\n",
       "    </tr>\n",
       "  </thead>\n",
       "  <tbody>\n",
       "    <tr>\n",
       "      <th>0</th>\n",
       "      <td>Nutrient nitrogen N (total)</td>\n",
       "      <td>1961</td>\n",
       "      <td>0.011789</td>\n",
       "    </tr>\n",
       "    <tr>\n",
       "      <th>1</th>\n",
       "      <td>Nutrient phosphate P2O5 (total)</td>\n",
       "      <td>1961</td>\n",
       "      <td>0.000141</td>\n",
       "    </tr>\n",
       "    <tr>\n",
       "      <th>2</th>\n",
       "      <td>Nutrient phosphate P2O5 (total)</td>\n",
       "      <td>1962</td>\n",
       "      <td>0.000059</td>\n",
       "    </tr>\n",
       "    <tr>\n",
       "      <th>3</th>\n",
       "      <td>Nutrient nitrogen N (total)</td>\n",
       "      <td>1962</td>\n",
       "      <td>0.011648</td>\n",
       "    </tr>\n",
       "    <tr>\n",
       "      <th>4</th>\n",
       "      <td>Nutrient nitrogen N (total)</td>\n",
       "      <td>1963</td>\n",
       "      <td>0.019135</td>\n",
       "    </tr>\n",
       "    <tr>\n",
       "      <th>...</th>\n",
       "      <td>...</td>\n",
       "      <td>...</td>\n",
       "      <td>...</td>\n",
       "    </tr>\n",
       "    <tr>\n",
       "      <th>170</th>\n",
       "      <td>Nutrient nitrogen N (total)</td>\n",
       "      <td>2019</td>\n",
       "      <td>0.991955</td>\n",
       "    </tr>\n",
       "    <tr>\n",
       "      <th>171</th>\n",
       "      <td>Nutrient phosphate P2O5 (total)</td>\n",
       "      <td>2019</td>\n",
       "      <td>0.311198</td>\n",
       "    </tr>\n",
       "    <tr>\n",
       "      <th>172</th>\n",
       "      <td>Nutrient phosphate P2O5 (total)</td>\n",
       "      <td>2020</td>\n",
       "      <td>0.340728</td>\n",
       "    </tr>\n",
       "    <tr>\n",
       "      <th>173</th>\n",
       "      <td>Nutrient nitrogen N (total)</td>\n",
       "      <td>2020</td>\n",
       "      <td>1.000000</td>\n",
       "    </tr>\n",
       "    <tr>\n",
       "      <th>174</th>\n",
       "      <td>Nutrient potash K2O (total)</td>\n",
       "      <td>2020</td>\n",
       "      <td>0.017254</td>\n",
       "    </tr>\n",
       "  </tbody>\n",
       "</table>\n",
       "<p>175 rows × 3 columns</p>\n",
       "</div>"
      ],
      "text/plain": [
       "                                Item  Year     Value\n",
       "0        Nutrient nitrogen N (total)  1961  0.011789\n",
       "1    Nutrient phosphate P2O5 (total)  1961  0.000141\n",
       "2    Nutrient phosphate P2O5 (total)  1962  0.000059\n",
       "3        Nutrient nitrogen N (total)  1962  0.011648\n",
       "4        Nutrient nitrogen N (total)  1963  0.019135\n",
       "..                               ...   ...       ...\n",
       "170      Nutrient nitrogen N (total)  2019  0.991955\n",
       "171  Nutrient phosphate P2O5 (total)  2019  0.311198\n",
       "172  Nutrient phosphate P2O5 (total)  2020  0.340728\n",
       "173      Nutrient nitrogen N (total)  2020  1.000000\n",
       "174      Nutrient potash K2O (total)  2020  0.017254\n",
       "\n",
       "[175 rows x 3 columns]"
      ]
     },
     "execution_count": 151,
     "metadata": {},
     "output_type": "execute_result"
    }
   ],
   "source": [
    "df_fu1['Value']=df_fu1['Value']/df_fu1['Value'].max()\n",
    "df_fu1"
   ]
  },
  {
   "cell_type": "code",
   "execution_count": 152,
   "metadata": {},
   "outputs": [
    {
     "name": "stderr",
     "output_type": "stream",
     "text": [
      "C:\\Users\\Administrator\\AppData\\Local\\Temp\\ipykernel_17896\\1033678409.py:1: SettingWithCopyWarning:\n",
      "\n",
      "\n",
      "A value is trying to be set on a copy of a slice from a DataFrame.\n",
      "Try using .loc[row_indexer,col_indexer] = value instead\n",
      "\n",
      "See the caveats in the documentation: https://pandas.pydata.org/pandas-docs/stable/user_guide/indexing.html#returning-a-view-versus-a-copy\n",
      "\n"
     ]
    },
    {
     "data": {
      "text/html": [
       "<div>\n",
       "<style scoped>\n",
       "    .dataframe tbody tr th:only-of-type {\n",
       "        vertical-align: middle;\n",
       "    }\n",
       "\n",
       "    .dataframe tbody tr th {\n",
       "        vertical-align: top;\n",
       "    }\n",
       "\n",
       "    .dataframe thead th {\n",
       "        text-align: right;\n",
       "    }\n",
       "</style>\n",
       "<table border=\"1\" class=\"dataframe\">\n",
       "  <thead>\n",
       "    <tr style=\"text-align: right;\">\n",
       "      <th></th>\n",
       "      <th>Item</th>\n",
       "      <th>Year</th>\n",
       "      <th>Value</th>\n",
       "    </tr>\n",
       "  </thead>\n",
       "  <tbody>\n",
       "    <tr>\n",
       "      <th>0</th>\n",
       "      <td>Nutrient nitrogen N (total)</td>\n",
       "      <td>0.970792</td>\n",
       "      <td>0.011789</td>\n",
       "    </tr>\n",
       "    <tr>\n",
       "      <th>1</th>\n",
       "      <td>Nutrient phosphate P2O5 (total)</td>\n",
       "      <td>0.970792</td>\n",
       "      <td>0.000141</td>\n",
       "    </tr>\n",
       "    <tr>\n",
       "      <th>2</th>\n",
       "      <td>Nutrient phosphate P2O5 (total)</td>\n",
       "      <td>0.971287</td>\n",
       "      <td>0.000059</td>\n",
       "    </tr>\n",
       "    <tr>\n",
       "      <th>3</th>\n",
       "      <td>Nutrient nitrogen N (total)</td>\n",
       "      <td>0.971287</td>\n",
       "      <td>0.011648</td>\n",
       "    </tr>\n",
       "    <tr>\n",
       "      <th>4</th>\n",
       "      <td>Nutrient nitrogen N (total)</td>\n",
       "      <td>0.971782</td>\n",
       "      <td>0.019135</td>\n",
       "    </tr>\n",
       "    <tr>\n",
       "      <th>...</th>\n",
       "      <td>...</td>\n",
       "      <td>...</td>\n",
       "      <td>...</td>\n",
       "    </tr>\n",
       "    <tr>\n",
       "      <th>170</th>\n",
       "      <td>Nutrient nitrogen N (total)</td>\n",
       "      <td>0.999505</td>\n",
       "      <td>0.991955</td>\n",
       "    </tr>\n",
       "    <tr>\n",
       "      <th>171</th>\n",
       "      <td>Nutrient phosphate P2O5 (total)</td>\n",
       "      <td>0.999505</td>\n",
       "      <td>0.311198</td>\n",
       "    </tr>\n",
       "    <tr>\n",
       "      <th>172</th>\n",
       "      <td>Nutrient phosphate P2O5 (total)</td>\n",
       "      <td>1.000000</td>\n",
       "      <td>0.340728</td>\n",
       "    </tr>\n",
       "    <tr>\n",
       "      <th>173</th>\n",
       "      <td>Nutrient nitrogen N (total)</td>\n",
       "      <td>1.000000</td>\n",
       "      <td>1.000000</td>\n",
       "    </tr>\n",
       "    <tr>\n",
       "      <th>174</th>\n",
       "      <td>Nutrient potash K2O (total)</td>\n",
       "      <td>1.000000</td>\n",
       "      <td>0.017254</td>\n",
       "    </tr>\n",
       "  </tbody>\n",
       "</table>\n",
       "<p>175 rows × 3 columns</p>\n",
       "</div>"
      ],
      "text/plain": [
       "                                Item      Year     Value\n",
       "0        Nutrient nitrogen N (total)  0.970792  0.011789\n",
       "1    Nutrient phosphate P2O5 (total)  0.970792  0.000141\n",
       "2    Nutrient phosphate P2O5 (total)  0.971287  0.000059\n",
       "3        Nutrient nitrogen N (total)  0.971287  0.011648\n",
       "4        Nutrient nitrogen N (total)  0.971782  0.019135\n",
       "..                               ...       ...       ...\n",
       "170      Nutrient nitrogen N (total)  0.999505  0.991955\n",
       "171  Nutrient phosphate P2O5 (total)  0.999505  0.311198\n",
       "172  Nutrient phosphate P2O5 (total)  1.000000  0.340728\n",
       "173      Nutrient nitrogen N (total)  1.000000  1.000000\n",
       "174      Nutrient potash K2O (total)  1.000000  0.017254\n",
       "\n",
       "[175 rows x 3 columns]"
      ]
     },
     "execution_count": 152,
     "metadata": {},
     "output_type": "execute_result"
    }
   ],
   "source": [
    "df_fu1['Year']=df_fu1['Year']/df_fu1['Year'].max()\n",
    "df_fu1"
   ]
  },
  {
   "cell_type": "markdown",
   "metadata": {},
   "source": [
    "Analysis"
   ]
  },
  {
   "cell_type": "code",
   "execution_count": 153,
   "metadata": {},
   "outputs": [
    {
     "data": {
      "text/plain": [
       "[Text(0.5, 1.0, 'Comparison of Item and Value, with respect to year')]"
      ]
     },
     "execution_count": 153,
     "metadata": {},
     "output_type": "execute_result"
    },
    {
     "data": {
      "image/png": "[encoded data removed]",
      "text/plain": [
       "<Figure size 432x288 with 1 Axes>"
      ]
     },
     "metadata": {
      "needs_background": "light"
     },
     "output_type": "display_data"
    }
   ],
   "source": [
    "sns.lineplot(data=df_fu1,x='Item',y='Value',hue='Year').set(title='Comparison of Item and Value, with respect to year')"
   ]
  },
  {
   "cell_type": "code",
   "execution_count": 154,
   "metadata": {},
   "outputs": [
    {
     "data": {
      "text/plain": [
       "[Text(0.5, 1.0, 'Comparison of Item and Quantity with respect to year')]"
      ]
     },
     "execution_count": 154,
     "metadata": {},
     "output_type": "execute_result"
    },
    {
     "data": {
      "image/png": "[encoded data removed]",
      "text/plain": [
       "<Figure size 432x288 with 1 Axes>"
      ]
     },
     "metadata": {
      "needs_background": "light"
     },
     "output_type": "display_data"
    }
   ],
   "source": [
    "sns.histplot(data=df_fu1,x='Year',y='Value',hue='Item').set(title='Comparison of Item and Quantity with respect to year')"
   ]
  },
  {
   "cell_type": "code",
   "execution_count": 155,
   "metadata": {},
   "outputs": [
    {
     "data": {
      "text/plain": [
       "<seaborn.axisgrid.FacetGrid at 0x25f28228160>"
      ]
     },
     "execution_count": 155,
     "metadata": {},
     "output_type": "execute_result"
    },
    {
     "data": {
      "image/png": "[encoded data removed]",
      "text/plain": [
       "<Figure size 360x360 with 1 Axes>"
      ]
     },
     "metadata": {
      "needs_background": "light"
     },
     "output_type": "display_data"
    }
   ],
   "source": [
    "sns.catplot(x='Item',y='Year',data=df_fu1).set(title='Comparison of year and quantity used per year.')"
   ]
  },
  {
   "cell_type": "code",
   "execution_count": 156,
   "metadata": {},
   "outputs": [
    {
     "data": {
      "text/plain": [
       "<AxesSubplot:xlabel='Year', ylabel='Value'>"
      ]
     },
     "execution_count": 156,
     "metadata": {},
     "output_type": "execute_result"
    },
    {
     "data": {
      "image/png": "[encoded data removed]",
      "text/plain": [
       "<Figure size 432x288 with 1 Axes>"
      ]
     },
     "metadata": {
      "needs_background": "light"
     },
     "output_type": "display_data"
    }
   ],
   "source": [
    "sns.barplot(x='Year',y='Value',hue='Item',data=df_fu1)"
   ]
  },
  {
   "cell_type": "code",
   "execution_count": 157,
   "metadata": {},
   "outputs": [
    {
     "name": "stderr",
     "output_type": "stream",
     "text": [
      "C:\\Users\\Administrator\\AppData\\Local\\Temp\\ipykernel_17896\\3583446780.py:3: SettingWithCopyWarning:\n",
      "\n",
      "\n",
      "A value is trying to be set on a copy of a slice from a DataFrame.\n",
      "Try using .loc[row_indexer,col_indexer] = value instead\n",
      "\n",
      "See the caveats in the documentation: https://pandas.pydata.org/pandas-docs/stable/user_guide/indexing.html#returning-a-view-versus-a-copy\n",
      "\n"
     ]
    }
   ],
   "source": [
    "\n",
    "bins = np.linspace(min(df_fu1['Year']),max(df_fu1['Year']),6)\n",
    "age_groups= ['x','y','z']\n",
    "df_fu1['Year']=pd.cut(df_fu1['Year'],bins,include_lowest=True)\n",
    "# df_fu['Year']"
   ]
  },
  {
   "cell_type": "code",
   "execution_count": 158,
   "metadata": {},
   "outputs": [
    {
     "data": {
      "text/html": [
       "<div>\n",
       "<style scoped>\n",
       "    .dataframe tbody tr th:only-of-type {\n",
       "        vertical-align: middle;\n",
       "    }\n",
       "\n",
       "    .dataframe tbody tr th {\n",
       "        vertical-align: top;\n",
       "    }\n",
       "\n",
       "    .dataframe thead th {\n",
       "        text-align: right;\n",
       "    }\n",
       "</style>\n",
       "<table border=\"1\" class=\"dataframe\">\n",
       "  <thead>\n",
       "    <tr style=\"text-align: right;\">\n",
       "      <th></th>\n",
       "      <th>Item</th>\n",
       "      <th>Year</th>\n",
       "      <th>Value</th>\n",
       "    </tr>\n",
       "  </thead>\n",
       "  <tbody>\n",
       "    <tr>\n",
       "      <th>0</th>\n",
       "      <td>Nutrient nitrogen N (total)</td>\n",
       "      <td>(0.97, 0.977]</td>\n",
       "      <td>0.011789</td>\n",
       "    </tr>\n",
       "    <tr>\n",
       "      <th>1</th>\n",
       "      <td>Nutrient phosphate P2O5 (total)</td>\n",
       "      <td>(0.97, 0.977]</td>\n",
       "      <td>0.000141</td>\n",
       "    </tr>\n",
       "    <tr>\n",
       "      <th>2</th>\n",
       "      <td>Nutrient phosphate P2O5 (total)</td>\n",
       "      <td>(0.97, 0.977]</td>\n",
       "      <td>0.000059</td>\n",
       "    </tr>\n",
       "    <tr>\n",
       "      <th>3</th>\n",
       "      <td>Nutrient nitrogen N (total)</td>\n",
       "      <td>(0.97, 0.977]</td>\n",
       "      <td>0.011648</td>\n",
       "    </tr>\n",
       "    <tr>\n",
       "      <th>4</th>\n",
       "      <td>Nutrient nitrogen N (total)</td>\n",
       "      <td>(0.97, 0.977]</td>\n",
       "      <td>0.019135</td>\n",
       "    </tr>\n",
       "    <tr>\n",
       "      <th>...</th>\n",
       "      <td>...</td>\n",
       "      <td>...</td>\n",
       "      <td>...</td>\n",
       "    </tr>\n",
       "    <tr>\n",
       "      <th>170</th>\n",
       "      <td>Nutrient nitrogen N (total)</td>\n",
       "      <td>(0.994, 1.0]</td>\n",
       "      <td>0.991955</td>\n",
       "    </tr>\n",
       "    <tr>\n",
       "      <th>171</th>\n",
       "      <td>Nutrient phosphate P2O5 (total)</td>\n",
       "      <td>(0.994, 1.0]</td>\n",
       "      <td>0.311198</td>\n",
       "    </tr>\n",
       "    <tr>\n",
       "      <th>172</th>\n",
       "      <td>Nutrient phosphate P2O5 (total)</td>\n",
       "      <td>(0.994, 1.0]</td>\n",
       "      <td>0.340728</td>\n",
       "    </tr>\n",
       "    <tr>\n",
       "      <th>173</th>\n",
       "      <td>Nutrient nitrogen N (total)</td>\n",
       "      <td>(0.994, 1.0]</td>\n",
       "      <td>1.000000</td>\n",
       "    </tr>\n",
       "    <tr>\n",
       "      <th>174</th>\n",
       "      <td>Nutrient potash K2O (total)</td>\n",
       "      <td>(0.994, 1.0]</td>\n",
       "      <td>0.017254</td>\n",
       "    </tr>\n",
       "  </tbody>\n",
       "</table>\n",
       "<p>175 rows × 3 columns</p>\n",
       "</div>"
      ],
      "text/plain": [
       "                                Item           Year     Value\n",
       "0        Nutrient nitrogen N (total)  (0.97, 0.977]  0.011789\n",
       "1    Nutrient phosphate P2O5 (total)  (0.97, 0.977]  0.000141\n",
       "2    Nutrient phosphate P2O5 (total)  (0.97, 0.977]  0.000059\n",
       "3        Nutrient nitrogen N (total)  (0.97, 0.977]  0.011648\n",
       "4        Nutrient nitrogen N (total)  (0.97, 0.977]  0.019135\n",
       "..                               ...            ...       ...\n",
       "170      Nutrient nitrogen N (total)   (0.994, 1.0]  0.991955\n",
       "171  Nutrient phosphate P2O5 (total)   (0.994, 1.0]  0.311198\n",
       "172  Nutrient phosphate P2O5 (total)   (0.994, 1.0]  0.340728\n",
       "173      Nutrient nitrogen N (total)   (0.994, 1.0]  1.000000\n",
       "174      Nutrient potash K2O (total)   (0.994, 1.0]  0.017254\n",
       "\n",
       "[175 rows x 3 columns]"
      ]
     },
     "execution_count": 158,
     "metadata": {},
     "output_type": "execute_result"
    }
   ],
   "source": [
    "df_fu1\n"
   ]
  },
  {
   "cell_type": "code",
   "execution_count": 159,
   "metadata": {},
   "outputs": [
    {
     "data": {
      "text/plain": [
       "<AxesSubplot:xlabel='Year', ylabel='Value'>"
      ]
     },
     "execution_count": 159,
     "metadata": {},
     "output_type": "execute_result"
    },
    {
     "data": {
      "image/png": "[encoded data removed]",
      "text/plain": [
       "<Figure size 432x288 with 1 Axes>"
      ]
     },
     "metadata": {
      "needs_background": "light"
     },
     "output_type": "display_data"
    }
   ],
   "source": [
    "sns.barplot(x='Year',y='Value',hue='Item',data=df_fu1)"
   ]
  },
  {
   "cell_type": "code",
   "execution_count": 160,
   "metadata": {},
   "outputs": [
    {
     "ename": "ValueError",
     "evalue": "Mime type rendering requires nbformat>=4.2.0 but it is not installed",
     "output_type": "error",
     "traceback": [
      "\u001b[1;31m---------------------------------------------------------------------------\u001b[0m",
      "\u001b[1;31mValueError\u001b[0m                                Traceback (most recent call last)",
      "File \u001b[1;32mc:\\Users\\Administrator\\AppData\\Local\\Programs\\Python\\Python310\\lib\\site-packages\\IPython\\core\\formatters.py:921\u001b[0m, in \u001b[0;36mIPythonDisplayFormatter.__call__\u001b[1;34m(self, obj)\u001b[0m\n\u001b[0;32m    919\u001b[0m method \u001b[39m=\u001b[39m get_real_method(obj, \u001b[39mself\u001b[39m\u001b[39m.\u001b[39mprint_method)\n\u001b[0;32m    920\u001b[0m \u001b[39mif\u001b[39;00m method \u001b[39mis\u001b[39;00m \u001b[39mnot\u001b[39;00m \u001b[39mNone\u001b[39;00m:\n\u001b[1;32m--> 921\u001b[0m     method()\n\u001b[0;32m    922\u001b[0m     \u001b[39mreturn\u001b[39;00m \u001b[39mTrue\u001b[39;00m\n",
      "File \u001b[1;32mc:\\Users\\Administrator\\AppData\\Local\\Programs\\Python\\Python310\\lib\\site-packages\\plotly\\basedatatypes.py:842\u001b[0m, in \u001b[0;36mBaseFigure._ipython_display_\u001b[1;34m(self)\u001b[0m\n\u001b[0;32m    839\u001b[0m \u001b[39mimport\u001b[39;00m \u001b[39mplotly\u001b[39;00m\u001b[39m.\u001b[39;00m\u001b[39mio\u001b[39;00m \u001b[39mas\u001b[39;00m \u001b[39mpio\u001b[39;00m\n\u001b[0;32m    841\u001b[0m \u001b[39mif\u001b[39;00m pio\u001b[39m.\u001b[39mrenderers\u001b[39m.\u001b[39mrender_on_display \u001b[39mand\u001b[39;00m pio\u001b[39m.\u001b[39mrenderers\u001b[39m.\u001b[39mdefault:\n\u001b[1;32m--> 842\u001b[0m     pio\u001b[39m.\u001b[39;49mshow(\u001b[39mself\u001b[39;49m)\n\u001b[0;32m    843\u001b[0m \u001b[39melse\u001b[39;00m:\n\u001b[0;32m    844\u001b[0m     \u001b[39mprint\u001b[39m(\u001b[39mrepr\u001b[39m(\u001b[39mself\u001b[39m))\n",
      "File \u001b[1;32mc:\\Users\\Administrator\\AppData\\Local\\Programs\\Python\\Python310\\lib\\site-packages\\plotly\\io\\_renderers.py:396\u001b[0m, in \u001b[0;36mshow\u001b[1;34m(fig, renderer, validate, **kwargs)\u001b[0m\n\u001b[0;32m    391\u001b[0m         \u001b[39mraise\u001b[39;00m \u001b[39mValueError\u001b[39;00m(\n\u001b[0;32m    392\u001b[0m             \u001b[39m\"\u001b[39m\u001b[39mMime type rendering requires ipython but it is not installed\u001b[39m\u001b[39m\"\u001b[39m\n\u001b[0;32m    393\u001b[0m         )\n\u001b[0;32m    395\u001b[0m     \u001b[39mif\u001b[39;00m \u001b[39mnot\u001b[39;00m nbformat \u001b[39mor\u001b[39;00m LooseVersion(nbformat\u001b[39m.\u001b[39m__version__) \u001b[39m<\u001b[39m LooseVersion(\u001b[39m\"\u001b[39m\u001b[39m4.2.0\u001b[39m\u001b[39m\"\u001b[39m):\n\u001b[1;32m--> 396\u001b[0m         \u001b[39mraise\u001b[39;00m \u001b[39mValueError\u001b[39;00m(\n\u001b[0;32m    397\u001b[0m             \u001b[39m\"\u001b[39m\u001b[39mMime type rendering requires nbformat>=4.2.0 but it is not installed\u001b[39m\u001b[39m\"\u001b[39m\n\u001b[0;32m    398\u001b[0m         )\n\u001b[0;32m    400\u001b[0m     ipython_display\u001b[39m.\u001b[39mdisplay(bundle, raw\u001b[39m=\u001b[39m\u001b[39mTrue\u001b[39;00m)\n\u001b[0;32m    402\u001b[0m \u001b[39m# external renderers\u001b[39;00m\n",
      "\u001b[1;31mValueError\u001b[0m: Mime type rendering requires nbformat>=4.2.0 but it is not installed"
     ]
    },
    {
     "data": {
      "application/vnd.plotly.v1+json": {
       "config": {
        "plotlyServerURL": "https://plot.ly"
       },
       "data": [
        {
         "alignmentgroup": "True",
         "bingroup": "x",
         "histfunc": "sum",
         "hovertemplate": "Year=(0.97, 0.977]<br>Item=%{x}<br>sum of Value=%{y}<extra></extra>",
         "legendgroup": "(0.97, 0.977]",
         "marker": {
          "color": "#636efa",
          "pattern": {
           "shape": ""
          }
         },
         "name": "(0.97, 0.977]",
         "offsetgroup": "(0.97, 0.977]",
         "orientation": "v",
         "showlegend": true,
         "type": "histogram",
         "x": [
          "Nutrient nitrogen N (total)",
          "Nutrient phosphate P2O5 (total)",
          "Nutrient phosphate P2O5 (total)",
          "Nutrient nitrogen N (total)",
          "Nutrient nitrogen N (total)",
          "Nutrient phosphate P2O5 (total)",
          "Nutrient phosphate P2O5 (total)",
          "Nutrient nitrogen N (total)",
          "Nutrient nitrogen N (total)",
          "Nutrient phosphate P2O5 (total)",
          "Nutrient phosphate P2O5 (total)",
          "Nutrient nitrogen N (total)",
          "Nutrient potash K2O (total)",
          "Nutrient potash K2O (total)",
          "Nutrient nitrogen N (total)",
          "Nutrient phosphate P2O5 (total)",
          "Nutrient phosphate P2O5 (total)",
          "Nutrient nitrogen N (total)",
          "Nutrient potash K2O (total)",
          "Nutrient potash K2O (total)",
          "Nutrient nitrogen N (total)",
          "Nutrient phosphate P2O5 (total)",
          "Nutrient phosphate P2O5 (total)",
          "Nutrient nitrogen N (total)",
          "Nutrient potash K2O (total)",
          "Nutrient potash K2O (total)",
          "Nutrient nitrogen N (total)",
          "Nutrient phosphate P2O5 (total)",
          "Nutrient phosphate P2O5 (total)",
          "Nutrient nitrogen N (total)",
          "Nutrient potash K2O (total)"
         ],
         "xaxis": "x",
         "y": [
          0.011788779393420764,
          0.00014149138713628225,
          0.00005942638259723854,
          0.011647570989058754,
          0.01913529519631081,
          0.00017827914779171562,
          0.00029118927472646886,
          0.023812151506713484,
          0.01959429325618091,
          0.00035231355396934277,
          0.0011067456301799997,
          0.030499600428322726,
          0.00004074951949524929,
          0.00005999234814578367,
          0.050212746449698115,
          0.0036156709068805564,
          0.010935020363440436,
          0.057592937202726596,
          0.0007034951768415953,
          0.0003803288486223267,
          0.07713148285237581,
          0.009565100753186952,
          0.008620221269890859,
          0.07117554440226115,
          0.0003466538984838915,
          0.00021053918405878797,
          0.09733843381485682,
          0.010535731668941848,
          0.013789750590302068,
          0.10929643690729259,
          0.00039617588398159026
         ],
         "yaxis": "y"
        },
        {
         "alignmentgroup": "True",
         "bingroup": "x",
         "histfunc": "sum",
         "hovertemplate": "Year=(0.977, 0.982]<br>Item=%{x}<br>sum of Value=%{y}<extra></extra>",
         "legendgroup": "(0.977, 0.982]",
         "marker": {
          "color": "#EF553B",
          "pattern": {
           "shape": ""
          }
         },
         "name": "(0.977, 0.982]",
         "offsetgroup": "(0.977, 0.982]",
         "orientation": "v",
         "showlegend": true,
         "type": "histogram",
         "x": [
          "Nutrient potash K2O (total)",
          "Nutrient nitrogen N (total)",
          "Nutrient phosphate P2O5 (total)",
          "Nutrient phosphate P2O5 (total)",
          "Nutrient nitrogen N (total)",
          "Nutrient potash K2O (total)",
          "Nutrient potash K2O (total)",
          "Nutrient nitrogen N (total)",
          "Nutrient phosphate P2O5 (total)",
          "Nutrient phosphate P2O5 (total)",
          "Nutrient nitrogen N (total)",
          "Nutrient potash K2O (total)",
          "Nutrient potash K2O (total)",
          "Nutrient nitrogen N (total)",
          "Nutrient phosphate P2O5 (total)",
          "Nutrient phosphate P2O5 (total)",
          "Nutrient nitrogen N (total)",
          "Nutrient potash K2O (total)",
          "Nutrient potash K2O (total)",
          "Nutrient nitrogen N (total)",
          "Nutrient phosphate P2O5 (total)",
          "Nutrient phosphate P2O5 (total)",
          "Nutrient nitrogen N (total)",
          "Nutrient potash K2O (total)",
          "Nutrient potash K2O (total)",
          "Nutrient nitrogen N (total)",
          "Nutrient phosphate P2O5 (total)",
          "Nutrient phosphate P2O5 (total)",
          "Nutrient nitrogen N (total)",
          "Nutrient potash K2O (total)",
          "Nutrient potash K2O (total)",
          "Nutrient nitrogen N (total)",
          "Nutrient phosphate P2O5 (total)",
          "Nutrient phosphate P2O5 (total)",
          "Nutrient nitrogen N (total)",
          "Nutrient potash K2O (total)"
         ],
         "xaxis": "x",
         "y": [
          0.0007555640073077472,
          0.09676426176585778,
          0.01643167777091073,
          0.01712045784349015,
          0.10269444878351365,
          0.0005942638259723854,
          0.0005376672711178725,
          0.125488994233943,
          0.030703631008573245,
          0.033363669086735354,
          0.14460419765328045,
          0.0006791586582541548,
          0.001641300090780874,
          0.156800755224428,
          0.044513190393074394,
          0.05317246328581487,
          0.19364511243471588,
          0.00215066908447149,
          0.002721728322953525,
          0.21953916821175262,
          0.0569038741473729,
          0.06409191959667031,
          0.23871691082420432,
          0.002728802892310339,
          0.006161100961462274,
          0.23560353434165757,
          0.06381318156401183,
          0.07507108527289727,
          0.26998905422629116,
          0.0070598542525519385,
          0.008087930671484165,
          0.2587359612245683,
          0.07397169719484835,
          0.08314854558173335,
          0.26444683659216295,
          0.006983165920724074
         ],
         "yaxis": "y"
        },
        {
         "alignmentgroup": "True",
         "bingroup": "x",
         "histfunc": "sum",
         "hovertemplate": "Year=(0.982, 0.988]<br>Item=%{x}<br>sum of Value=%{y}<extra></extra>",
         "legendgroup": "(0.982, 0.988]",
         "marker": {
          "color": "#00cc96",
          "pattern": {
           "shape": ""
          }
         },
         "name": "(0.982, 0.988]",
         "offsetgroup": "(0.982, 0.988]",
         "orientation": "v",
         "showlegend": true,
         "type": "histogram",
         "x": [
          "Nutrient potash K2O (total)",
          "Nutrient nitrogen N (total)",
          "Nutrient phosphate P2O5 (total)",
          "Nutrient phosphate P2O5 (total)",
          "Nutrient nitrogen N (total)",
          "Nutrient potash K2O (total)",
          "Nutrient potash K2O (total)",
          "Nutrient nitrogen N (total)",
          "Nutrient phosphate P2O5 (total)",
          "Nutrient phosphate P2O5 (total)",
          "Nutrient nitrogen N (total)",
          "Nutrient potash K2O (total)",
          "Nutrient potash K2O (total)",
          "Nutrient nitrogen N (total)",
          "Nutrient phosphate P2O5 (total)",
          "Nutrient phosphate P2O5 (total)",
          "Nutrient nitrogen N (total)",
          "Nutrient potash K2O (total)",
          "Nutrient potash K2O (total)",
          "Nutrient nitrogen N (total)",
          "Nutrient phosphate P2O5 (total)",
          "Nutrient phosphate P2O5 (total)",
          "Nutrient nitrogen N (total)",
          "Nutrient potash K2O (total)",
          "Nutrient potash K2O (total)",
          "Nutrient nitrogen N (total)",
          "Nutrient phosphate P2O5 (total)",
          "Nutrient phosphate P2O5 (total)",
          "Nutrient nitrogen N (total)",
          "Nutrient potash K2O (total)",
          "Nutrient potash K2O (total)",
          "Nutrient nitrogen N (total)",
          "Nutrient phosphate P2O5 (total)",
          "Nutrient phosphate P2O5 (total)",
          "Nutrient nitrogen N (total)",
          "Nutrient potash K2O (total)"
         ],
         "xaxis": "x",
         "y": [
          0.009396443019720504,
          0.31924362100230236,
          0.09898058285396051,
          0.11595219175818329,
          0.37709435551239123,
          0.012134301360807564,
          0.012762523119692658,
          0.3626990217851459,
          0.11132542339882687,
          0.1104781729726548,
          0.37479738433362086,
          0.006942416401228824,
          0.011341383627295839,
          0.41530268969467293,
          0.10822874289996219,
          0.1099388078048913,
          0.41644933589602534,
          0.009269666736846394,
          0.006592649692227935,
          0.4139647471379122,
          0.11261978660834958,
          0.13796259194110336,
          0.4630512221460055,
          0.006809131514546447,
          0.006557276845443864,
          0.46956746648917985,
          0.13137701681823225,
          0.1213713118855029,
          0.49185717067030693,
          0.004684779828082305,
          0.008395815929892716,
          0.5634204014733215,
          0.13992054975629523,
          0.11870391625520971,
          0.5617434455529823,
          0.002384129873246356
         ],
         "yaxis": "y"
        },
        {
         "alignmentgroup": "True",
         "bingroup": "x",
         "histfunc": "sum",
         "hovertemplate": "Year=(0.988, 0.994]<br>Item=%{x}<br>sum of Value=%{y}<extra></extra>",
         "legendgroup": "(0.988, 0.994]",
         "marker": {
          "color": "#ab63fa",
          "pattern": {
           "shape": ""
          }
         },
         "name": "(0.988, 0.994]",
         "offsetgroup": "(0.988, 0.994]",
         "orientation": "v",
         "showlegend": true,
         "type": "histogram",
         "x": [
          "Nutrient potash K2O (total)",
          "Nutrient nitrogen N (total)",
          "Nutrient phosphate P2O5 (total)",
          "Nutrient phosphate P2O5 (total)",
          "Nutrient nitrogen N (total)",
          "Nutrient potash K2O (total)",
          "Nutrient potash K2O (total)",
          "Nutrient nitrogen N (total)",
          "Nutrient phosphate P2O5 (total)",
          "Nutrient phosphate P2O5 (total)",
          "Nutrient nitrogen N (total)",
          "Nutrient potash K2O (total)",
          "Nutrient potash K2O (total)",
          "Nutrient nitrogen N (total)",
          "Nutrient phosphate P2O5 (total)",
          "Nutrient phosphate P2O5 (total)",
          "Nutrient nitrogen N (total)",
          "Nutrient potash K2O (total)",
          "Nutrient potash K2O (total)",
          "Nutrient nitrogen N (total)",
          "Nutrient phosphate P2O5 (total)",
          "Nutrient phosphate P2O5 (total)",
          "Nutrient nitrogen N (total)",
          "Nutrient potash K2O (total)",
          "Nutrient potash K2O (total)",
          "Nutrient nitrogen N (total)",
          "Nutrient phosphate P2O5 (total)",
          "Nutrient phosphate P2O5 (total)",
          "Nutrient nitrogen N (total)",
          "Nutrient potash K2O (total)",
          "Nutrient potash K2O (total)",
          "Nutrient nitrogen N (total)",
          "Nutrient phosphate P2O5 (total)",
          "Nutrient phosphate P2O5 (total)",
          "Nutrient nitrogen N (total)",
          "Nutrient potash K2O (total)"
         ],
         "xaxis": "x",
         "y": [
          0.005785016854454036,
          0.5907568204508256,
          0.15600387573207644,
          0.13158699003674248,
          0.5919580823276126,
          0.0059992348145783666,
          0.005121988214333417,
          0.6276840916139753,
          0.16888411968586647,
          0.19104167091140828,
          0.6408427906176495,
          0.00645200725341447,
          0.0030845122395709527,
          0.6484861553507515,
          0.18165796211653004,
          0.18319172875308734,
          0.6749082569845808,
          0.005801146872587572,
          0.006775739547182284,
          0.6950082404583868,
          0.18940235170004732,
          0.215358663687424,
          0.7273308159185734,
          0.0074846113967350575,
          0.0099895749145958,
          0.797665901481245,
          0.24659571722550105,
          0.25659434758887356,
          0.8118730516635991,
          0.010302836845715528,
          0.012429735377148123,
          0.7680302474627765,
          0.23092639504848061,
          0.16007628083663292,
          0.8285896930882023,
          0.004687326673050758
         ],
         "yaxis": "y"
        },
        {
         "alignmentgroup": "True",
         "bingroup": "x",
         "histfunc": "sum",
         "hovertemplate": "Year=(0.994, 1.0]<br>Item=%{x}<br>sum of Value=%{y}<extra></extra>",
         "legendgroup": "(0.994, 1.0]",
         "marker": {
          "color": "#FFA15A",
          "pattern": {
           "shape": ""
          }
         },
         "name": "(0.994, 1.0]",
         "offsetgroup": "(0.994, 1.0]",
         "orientation": "v",
         "showlegend": true,
         "type": "histogram",
         "x": [
          "Nutrient potash K2O (total)",
          "Nutrient nitrogen N (total)",
          "Nutrient phosphate P2O5 (total)",
          "Nutrient phosphate P2O5 (total)",
          "Nutrient nitrogen N (total)",
          "Nutrient potash K2O (total)",
          "Nutrient potash K2O (total)",
          "Nutrient nitrogen N (total)",
          "Nutrient phosphate P2O5 (total)",
          "Nutrient phosphate P2O5 (total)",
          "Nutrient nitrogen N (total)",
          "Nutrient potash K2O (total)",
          "Nutrient potash K2O (total)",
          "Nutrient nitrogen N (total)",
          "Nutrient phosphate P2O5 (total)",
          "Nutrient phosphate P2O5 (total)",
          "Nutrient nitrogen N (total)",
          "Nutrient potash K2O (total)",
          "Nutrient potash K2O (total)",
          "Nutrient nitrogen N (total)",
          "Nutrient phosphate P2O5 (total)",
          "Nutrient phosphate P2O5 (total)",
          "Nutrient nitrogen N (total)",
          "Nutrient potash K2O (total)",
          "Nutrient potash K2O (total)",
          "Nutrient nitrogen N (total)",
          "Nutrient phosphate P2O5 (total)",
          "Nutrient phosphate P2O5 (total)",
          "Nutrient nitrogen N (total)",
          "Nutrient potash K2O (total)",
          "Nutrient potash K2O (total)",
          "Nutrient nitrogen N (total)",
          "Nutrient phosphate P2O5 (total)",
          "Nutrient phosphate P2O5 (total)",
          "Nutrient nitrogen N (total)",
          "Nutrient potash K2O (total)"
         ],
         "xaxis": "x",
         "y": [
          0.004385950018450477,
          0.9768282385114654,
          0.2203626480848858,
          0.21413306529204953,
          0.9255039357244246,
          0.010624588260063433,
          0.007927196455697349,
          0.9019620327671414,
          0.18483897148212794,
          0.19210002648718766,
          0.8067190863957729,
          0.00549750635579311,
          0.0056169250865361325,
          0.9167388272741062,
          0.24773783570246513,
          0.2649137581697127,
          0.8883573529112135,
          0.008361857996980008,
          0.007156917344127428,
          0.8943690389678599,
          0.28109754303036066,
          0.3421672065978,
          0.9174038367936467,
          0.008193483246287832,
          0.015330025830667636,
          0.9754195502611365,
          0.35592809294512623,
          0.35592809294512623,
          0.9754195502611365,
          0.015330025830667636,
          0.013373765912121397,
          0.9919553656929795,
          0.3111981377469591,
          0.340728239190624,
          1,
          0.017254308695721074
         ],
         "yaxis": "y"
        }
       ],
       "layout": {
        "barmode": "relative",
        "legend": {
         "title": {
          "text": "Year"
         },
         "tracegroupgap": 0
        },
        "template": {
         "data": {
          "bar": [
           {
            "error_x": {
             "color": "#2a3f5f"
            },
            "error_y": {
             "color": "#2a3f5f"
            },
            "marker": {
             "line": {
              "color": "#E5ECF6",
              "width": 0.5
             },
             "pattern": {
              "fillmode": "overlay",
              "size": 10,
              "solidity": 0.2
             }
            },
            "type": "bar"
           }
          ],
          "barpolar": [
           {
            "marker": {
             "line": {
              "color": "#E5ECF6",
              "width": 0.5
             },
             "pattern": {
              "fillmode": "overlay",
              "size": 10,
              "solidity": 0.2
             }
            },
            "type": "barpolar"
           }
          ],
          "carpet": [
           {
            "aaxis": {
             "endlinecolor": "#2a3f5f",
             "gridcolor": "white",
             "linecolor": "white",
             "minorgridcolor": "white",
             "startlinecolor": "#2a3f5f"
            },
            "baxis": {
             "endlinecolor": "#2a3f5f",
             "gridcolor": "white",
             "linecolor": "white",
             "minorgridcolor": "white",
             "startlinecolor": "#2a3f5f"
            },
            "type": "carpet"
           }
          ],
          "choropleth": [
           {
            "colorbar": {
             "outlinewidth": 0,
             "ticks": ""
            },
            "type": "choropleth"
           }
          ],
          "contour": [
           {
            "colorbar": {
             "outlinewidth": 0,
             "ticks": ""
            },
            "colorscale": [
             [
              0,
              "#0d0887"
             ],
             [
              0.1111111111111111,
              "#46039f"
             ],
             [
              0.2222222222222222,
              "#7201a8"
             ],
             [
              0.3333333333333333,
              "#9c179e"
             ],
             [
              0.4444444444444444,
              "#bd3786"
             ],
             [
              0.5555555555555556,
              "#d8576b"
             ],
             [
              0.6666666666666666,
              "#ed7953"
             ],
             [
              0.7777777777777778,
              "#fb9f3a"
             ],
             [
              0.8888888888888888,
              "#fdca26"
             ],
             [
              1,
              "#f0f921"
             ]
            ],
            "type": "contour"
           }
          ],
          "contourcarpet": [
           {
            "colorbar": {
             "outlinewidth": 0,
             "ticks": ""
            },
            "type": "contourcarpet"
           }
          ],
          "heatmap": [
           {
            "colorbar": {
             "outlinewidth": 0,
             "ticks": ""
            },
            "colorscale": [
             [
              0,
              "#0d0887"
             ],
             [
              0.1111111111111111,
              "#46039f"
             ],
             [
              0.2222222222222222,
              "#7201a8"
             ],
             [
              0.3333333333333333,
              "#9c179e"
             ],
             [
              0.4444444444444444,
              "#bd3786"
             ],
             [
              0.5555555555555556,
              "#d8576b"
             ],
             [
              0.6666666666666666,
              "#ed7953"
             ],
             [
              0.7777777777777778,
              "#fb9f3a"
             ],
             [
              0.8888888888888888,
              "#fdca26"
             ],
             [
              1,
              "#f0f921"
             ]
            ],
            "type": "heatmap"
           }
          ],
          "heatmapgl": [
           {
            "colorbar": {
             "outlinewidth": 0,
             "ticks": ""
            },
            "colorscale": [
             [
              0,
              "#0d0887"
             ],
             [
              0.1111111111111111,
              "#46039f"
             ],
             [
              0.2222222222222222,
              "#7201a8"
             ],
             [
              0.3333333333333333,
              "#9c179e"
             ],
             [
              0.4444444444444444,
              "#bd3786"
             ],
             [
              0.5555555555555556,
              "#d8576b"
             ],
             [
              0.6666666666666666,
              "#ed7953"
             ],
             [
              0.7777777777777778,
              "#fb9f3a"
             ],
             [
              0.8888888888888888,
              "#fdca26"
             ],
             [
              1,
              "#f0f921"
             ]
            ],
            "type": "heatmapgl"
           }
          ],
          "histogram": [
           {
            "marker": {
             "pattern": {
              "fillmode": "overlay",
              "size": 10,
              "solidity": 0.2
             }
            },
            "type": "histogram"
           }
          ],
          "histogram2d": [
           {
            "colorbar": {
             "outlinewidth": 0,
             "ticks": ""
            },
            "colorscale": [
             [
              0,
              "#0d0887"
             ],
             [
              0.1111111111111111,
              "#46039f"
             ],
             [
              0.2222222222222222,
              "#7201a8"
             ],
             [
              0.3333333333333333,
              "#9c179e"
             ],
             [
              0.4444444444444444,
              "#bd3786"
             ],
             [
              0.5555555555555556,
              "#d8576b"
             ],
             [
              0.6666666666666666,
              "#ed7953"
             ],
             [
              0.7777777777777778,
              "#fb9f3a"
             ],
             [
              0.8888888888888888,
              "#fdca26"
             ],
             [
              1,
              "#f0f921"
             ]
            ],
            "type": "histogram2d"
           }
          ],
          "histogram2dcontour": [
           {
            "colorbar": {
             "outlinewidth": 0,
             "ticks": ""
            },
            "colorscale": [
             [
              0,
              "#0d0887"
             ],
             [
              0.1111111111111111,
              "#46039f"
             ],
             [
              0.2222222222222222,
              "#7201a8"
             ],
             [
              0.3333333333333333,
              "#9c179e"
             ],
             [
              0.4444444444444444,
              "#bd3786"
             ],
             [
              0.5555555555555556,
              "#d8576b"
             ],
             [
              0.6666666666666666,
              "#ed7953"
             ],
             [
              0.7777777777777778,
              "#fb9f3a"
             ],
             [
              0.8888888888888888,
              "#fdca26"
             ],
             [
              1,
              "#f0f921"
             ]
            ],
            "type": "histogram2dcontour"
           }
          ],
          "mesh3d": [
           {
            "colorbar": {
             "outlinewidth": 0,
             "ticks": ""
            },
            "type": "mesh3d"
           }
          ],
          "parcoords": [
           {
            "line": {
             "colorbar": {
              "outlinewidth": 0,
              "ticks": ""
             }
            },
            "type": "parcoords"
           }
          ],
          "pie": [
           {
            "automargin": true,
            "type": "pie"
           }
          ],
          "scatter": [
           {
            "fillpattern": {
             "fillmode": "overlay",
             "size": 10,
             "solidity": 0.2
            },
            "type": "scatter"
           }
          ],
          "scatter3d": [
           {
            "line": {
             "colorbar": {
              "outlinewidth": 0,
              "ticks": ""
             }
            },
            "marker": {
             "colorbar": {
              "outlinewidth": 0,
              "ticks": ""
             }
            },
            "type": "scatter3d"
           }
          ],
          "scattercarpet": [
           {
            "marker": {
             "colorbar": {
              "outlinewidth": 0,
              "ticks": ""
             }
            },
            "type": "scattercarpet"
           }
          ],
          "scattergeo": [
           {
            "marker": {
             "colorbar": {
              "outlinewidth": 0,
              "ticks": ""
             }
            },
            "type": "scattergeo"
           }
          ],
          "scattergl": [
           {
            "marker": {
             "colorbar": {
              "outlinewidth": 0,
              "ticks": ""
             }
            },
            "type": "scattergl"
           }
          ],
          "scattermapbox": [
           {
            "marker": {
             "colorbar": {
              "outlinewidth": 0,
              "ticks": ""
             }
            },
            "type": "scattermapbox"
           }
          ],
          "scatterpolar": [
           {
            "marker": {
             "colorbar": {
              "outlinewidth": 0,
              "ticks": ""
             }
            },
            "type": "scatterpolar"
           }
          ],
          "scatterpolargl": [
           {
            "marker": {
             "colorbar": {
              "outlinewidth": 0,
              "ticks": ""
             }
            },
            "type": "scatterpolargl"
           }
          ],
          "scatterternary": [
           {
            "marker": {
             "colorbar": {
              "outlinewidth": 0,
              "ticks": ""
             }
            },
            "type": "scatterternary"
           }
          ],
          "surface": [
           {
            "colorbar": {
             "outlinewidth": 0,
             "ticks": ""
            },
            "colorscale": [
             [
              0,
              "#0d0887"
             ],
             [
              0.1111111111111111,
              "#46039f"
             ],
             [
              0.2222222222222222,
              "#7201a8"
             ],
             [
              0.3333333333333333,
              "#9c179e"
             ],
             [
              0.4444444444444444,
              "#bd3786"
             ],
             [
              0.5555555555555556,
              "#d8576b"
             ],
             [
              0.6666666666666666,
              "#ed7953"
             ],
             [
              0.7777777777777778,
              "#fb9f3a"
             ],
             [
              0.8888888888888888,
              "#fdca26"
             ],
             [
              1,
              "#f0f921"
             ]
            ],
            "type": "surface"
           }
          ],
          "table": [
           {
            "cells": {
             "fill": {
              "color": "#EBF0F8"
             },
             "line": {
              "color": "white"
             }
            },
            "header": {
             "fill": {
              "color": "#C8D4E3"
             },
             "line": {
              "color": "white"
             }
            },
            "type": "table"
           }
          ]
         },
         "layout": {
          "annotationdefaults": {
           "arrowcolor": "#2a3f5f",
           "arrowhead": 0,
           "arrowwidth": 1
          },
          "autotypenumbers": "strict",
          "coloraxis": {
           "colorbar": {
            "outlinewidth": 0,
            "ticks": ""
           }
          },
          "colorscale": {
           "diverging": [
            [
             0,
             "#8e0152"
            ],
            [
             0.1,
             "#c51b7d"
            ],
            [
             0.2,
             "#de77ae"
            ],
            [
             0.3,
             "#f1b6da"
            ],
            [
             0.4,
             "#fde0ef"
            ],
            [
             0.5,
             "#f7f7f7"
            ],
            [
             0.6,
             "#e6f5d0"
            ],
            [
             0.7,
             "#b8e186"
            ],
            [
             0.8,
             "#7fbc41"
            ],
            [
             0.9,
             "#4d9221"
            ],
            [
             1,
             "#276419"
            ]
           ],
           "sequential": [
            [
             0,
             "#0d0887"
            ],
            [
             0.1111111111111111,
             "#46039f"
            ],
            [
             0.2222222222222222,
             "#7201a8"
            ],
            [
             0.3333333333333333,
             "#9c179e"
            ],
            [
             0.4444444444444444,
             "#bd3786"
            ],
            [
             0.5555555555555556,
             "#d8576b"
            ],
            [
             0.6666666666666666,
             "#ed7953"
            ],
            [
             0.7777777777777778,
             "#fb9f3a"
            ],
            [
             0.8888888888888888,
             "#fdca26"
            ],
            [
             1,
             "#f0f921"
            ]
           ],
           "sequentialminus": [
            [
             0,
             "#0d0887"
            ],
            [
             0.1111111111111111,
             "#46039f"
            ],
            [
             0.2222222222222222,
             "#7201a8"
            ],
            [
             0.3333333333333333,
             "#9c179e"
            ],
            [
             0.4444444444444444,
             "#bd3786"
            ],
            [
             0.5555555555555556,
             "#d8576b"
            ],
            [
             0.6666666666666666,
             "#ed7953"
            ],
            [
             0.7777777777777778,
             "#fb9f3a"
            ],
            [
             0.8888888888888888,
             "#fdca26"
            ],
            [
             1,
             "#f0f921"
            ]
           ]
          },
          "colorway": [
           "#636efa",
           "#EF553B",
           "#00cc96",
           "#ab63fa",
           "#FFA15A",
           "#19d3f3",
           "#FF6692",
           "#B6E880",
           "#FF97FF",
           "#FECB52"
          ],
          "font": {
           "color": "#2a3f5f"
          },
          "geo": {
           "bgcolor": "white",
           "lakecolor": "white",
           "landcolor": "#E5ECF6",
           "showlakes": true,
           "showland": true,
           "subunitcolor": "white"
          },
          "hoverlabel": {
           "align": "left"
          },
          "hovermode": "closest",
          "mapbox": {
           "style": "light"
          },
          "paper_bgcolor": "white",
          "plot_bgcolor": "#E5ECF6",
          "polar": {
           "angularaxis": {
            "gridcolor": "white",
            "linecolor": "white",
            "ticks": ""
           },
           "bgcolor": "#E5ECF6",
           "radialaxis": {
            "gridcolor": "white",
            "linecolor": "white",
            "ticks": ""
           }
          },
          "scene": {
           "xaxis": {
            "backgroundcolor": "#E5ECF6",
            "gridcolor": "white",
            "gridwidth": 2,
            "linecolor": "white",
            "showbackground": true,
            "ticks": "",
            "zerolinecolor": "white"
           },
           "yaxis": {
            "backgroundcolor": "#E5ECF6",
            "gridcolor": "white",
            "gridwidth": 2,
            "linecolor": "white",
            "showbackground": true,
            "ticks": "",
            "zerolinecolor": "white"
           },
           "zaxis": {
            "backgroundcolor": "#E5ECF6",
            "gridcolor": "white",
            "gridwidth": 2,
            "linecolor": "white",
            "showbackground": true,
            "ticks": "",
            "zerolinecolor": "white"
           }
          },
          "shapedefaults": {
           "line": {
            "color": "#2a3f5f"
           }
          },
          "ternary": {
           "aaxis": {
            "gridcolor": "white",
            "linecolor": "white",
            "ticks": ""
           },
           "baxis": {
            "gridcolor": "white",
            "linecolor": "white",
            "ticks": ""
           },
           "bgcolor": "#E5ECF6",
           "caxis": {
            "gridcolor": "white",
            "linecolor": "white",
            "ticks": ""
           }
          },
          "title": {
           "x": 0.05
          },
          "xaxis": {
           "automargin": true,
           "gridcolor": "white",
           "linecolor": "white",
           "ticks": "",
           "title": {
            "standoff": 15
           },
           "zerolinecolor": "white",
           "zerolinewidth": 2
          },
          "yaxis": {
           "automargin": true,
           "gridcolor": "white",
           "linecolor": "white",
           "ticks": "",
           "title": {
            "standoff": 15
           },
           "zerolinecolor": "white",
           "zerolinewidth": 2
          }
         }
        },
        "title": {
         "text": "Comparison of Furtilizer Quantity used with respect to year"
        },
        "xaxis": {
         "anchor": "y",
         "domain": [
          0,
          1
         ],
         "title": {
          "text": "Item"
         }
        },
        "yaxis": {
         "anchor": "x",
         "domain": [
          0,
          1
         ],
         "title": {
          "text": "sum of Value"
         }
        }
       }
      },
      "text/html": [
       "<div>                        <script type=\"text/javascript\">window.PlotlyConfig = {MathJaxConfig: 'local'};</script>\n",
       "        <script src=\"https://cdn.plot.ly/plotly-2.12.1.min.js\"></script>                <div id=\"7dd94aff-b364-4455-8847-f75a66584732\" class=\"plotly-graph-div\" style=\"height:100%; width:100%;\"></div>            <script type=\"text/javascript\">                                    window.PLOTLYENV=window.PLOTLYENV || {};                                    if (document.getElementById(\"7dd94aff-b364-4455-8847-f75a66584732\")) {                    Plotly.newPlot(                        \"7dd94aff-b364-4455-8847-f75a66584732\",                        [{\"alignmentgroup\":\"True\",\"bingroup\":\"x\",\"histfunc\":\"sum\",\"hovertemplate\":\"Year=(0.97, 0.977]<br>Item=%{x}<br>sum of Value=%{y}<extra></extra>\",\"legendgroup\":\"(0.97, 0.977]\",\"marker\":{\"color\":\"#636efa\",\"pattern\":{\"shape\":\"\"}},\"name\":\"(0.97, 0.977]\",\"offsetgroup\":\"(0.97, 0.977]\",\"orientation\":\"v\",\"showlegend\":true,\"x\":[\"Nutrient nitrogen N (total)\",\"Nutrient phosphate P2O5 (total)\",\"Nutrient phosphate P2O5 (total)\",\"Nutrient nitrogen N (total)\",\"Nutrient nitrogen N (total)\",\"Nutrient phosphate P2O5 (total)\",\"Nutrient phosphate P2O5 (total)\",\"Nutrient nitrogen N (total)\",\"Nutrient nitrogen N (total)\",\"Nutrient phosphate P2O5 (total)\",\"Nutrient phosphate P2O5 (total)\",\"Nutrient nitrogen N (total)\",\"Nutrient potash K2O (total)\",\"Nutrient potash K2O (total)\",\"Nutrient nitrogen N (total)\",\"Nutrient phosphate P2O5 (total)\",\"Nutrient phosphate P2O5 (total)\",\"Nutrient nitrogen N (total)\",\"Nutrient potash K2O (total)\",\"Nutrient potash K2O (total)\",\"Nutrient nitrogen N (total)\",\"Nutrient phosphate P2O5 (total)\",\"Nutrient phosphate P2O5 (total)\",\"Nutrient nitrogen N (total)\",\"Nutrient potash K2O (total)\",\"Nutrient potash K2O (total)\",\"Nutrient nitrogen N (total)\",\"Nutrient phosphate P2O5 (total)\",\"Nutrient phosphate P2O5 (total)\",\"Nutrient nitrogen N (total)\",\"Nutrient potash K2O (total)\"],\"xaxis\":\"x\",\"y\":[0.011788779393420764,0.00014149138713628225,5.942638259723854e-05,0.011647570989058754,0.01913529519631081,0.00017827914779171562,0.00029118927472646886,0.023812151506713484,0.01959429325618091,0.00035231355396934277,0.0011067456301799997,0.030499600428322726,4.074951949524929e-05,5.999234814578367e-05,0.050212746449698115,0.0036156709068805564,0.010935020363440436,0.057592937202726596,0.0007034951768415953,0.0003803288486223267,0.07713148285237581,0.009565100753186952,0.008620221269890859,0.07117554440226115,0.0003466538984838915,0.00021053918405878797,0.09733843381485682,0.010535731668941848,0.013789750590302068,0.10929643690729259,0.00039617588398159026],\"yaxis\":\"y\",\"type\":\"histogram\"},{\"alignmentgroup\":\"True\",\"bingroup\":\"x\",\"histfunc\":\"sum\",\"hovertemplate\":\"Year=(0.977, 0.982]<br>Item=%{x}<br>sum of Value=%{y}<extra></extra>\",\"legendgroup\":\"(0.977, 0.982]\",\"marker\":{\"color\":\"#EF553B\",\"pattern\":{\"shape\":\"\"}},\"name\":\"(0.977, 0.982]\",\"offsetgroup\":\"(0.977, 0.982]\",\"orientation\":\"v\",\"showlegend\":true,\"x\":[\"Nutrient potash K2O (total)\",\"Nutrient nitrogen N (total)\",\"Nutrient phosphate P2O5 (total)\",\"Nutrient phosphate P2O5 (total)\",\"Nutrient nitrogen N (total)\",\"Nutrient potash K2O (total)\",\"Nutrient potash K2O (total)\",\"Nutrient nitrogen N (total)\",\"Nutrient phosphate P2O5 (total)\",\"Nutrient phosphate P2O5 (total)\",\"Nutrient nitrogen N (total)\",\"Nutrient potash K2O (total)\",\"Nutrient potash K2O (total)\",\"Nutrient nitrogen N (total)\",\"Nutrient phosphate P2O5 (total)\",\"Nutrient phosphate P2O5 (total)\",\"Nutrient nitrogen N (total)\",\"Nutrient potash K2O (total)\",\"Nutrient potash K2O (total)\",\"Nutrient nitrogen N (total)\",\"Nutrient phosphate P2O5 (total)\",\"Nutrient phosphate P2O5 (total)\",\"Nutrient nitrogen N (total)\",\"Nutrient potash K2O (total)\",\"Nutrient potash K2O (total)\",\"Nutrient nitrogen N (total)\",\"Nutrient phosphate P2O5 (total)\",\"Nutrient phosphate P2O5 (total)\",\"Nutrient nitrogen N (total)\",\"Nutrient potash K2O (total)\",\"Nutrient potash K2O (total)\",\"Nutrient nitrogen N (total)\",\"Nutrient phosphate P2O5 (total)\",\"Nutrient phosphate P2O5 (total)\",\"Nutrient nitrogen N (total)\",\"Nutrient potash K2O (total)\"],\"xaxis\":\"x\",\"y\":[0.0007555640073077472,0.09676426176585778,0.01643167777091073,0.01712045784349015,0.10269444878351365,0.0005942638259723854,0.0005376672711178725,0.125488994233943,0.030703631008573245,0.033363669086735354,0.14460419765328045,0.0006791586582541548,0.001641300090780874,0.156800755224428,0.044513190393074394,0.05317246328581487,0.19364511243471588,0.00215066908447149,0.002721728322953525,0.21953916821175262,0.0569038741473729,0.06409191959667031,0.23871691082420432,0.002728802892310339,0.006161100961462274,0.23560353434165757,0.06381318156401183,0.07507108527289727,0.26998905422629116,0.0070598542525519385,0.008087930671484165,0.2587359612245683,0.07397169719484835,0.08314854558173335,0.26444683659216295,0.006983165920724074],\"yaxis\":\"y\",\"type\":\"histogram\"},{\"alignmentgroup\":\"True\",\"bingroup\":\"x\",\"histfunc\":\"sum\",\"hovertemplate\":\"Year=(0.982, 0.988]<br>Item=%{x}<br>sum of Value=%{y}<extra></extra>\",\"legendgroup\":\"(0.982, 0.988]\",\"marker\":{\"color\":\"#00cc96\",\"pattern\":{\"shape\":\"\"}},\"name\":\"(0.982, 0.988]\",\"offsetgroup\":\"(0.982, 0.988]\",\"orientation\":\"v\",\"showlegend\":true,\"x\":[\"Nutrient potash K2O (total)\",\"Nutrient nitrogen N (total)\",\"Nutrient phosphate P2O5 (total)\",\"Nutrient phosphate P2O5 (total)\",\"Nutrient nitrogen N (total)\",\"Nutrient potash K2O (total)\",\"Nutrient potash K2O (total)\",\"Nutrient nitrogen N (total)\",\"Nutrient phosphate P2O5 (total)\",\"Nutrient phosphate P2O5 (total)\",\"Nutrient nitrogen N (total)\",\"Nutrient potash K2O (total)\",\"Nutrient potash K2O (total)\",\"Nutrient nitrogen N (total)\",\"Nutrient phosphate P2O5 (total)\",\"Nutrient phosphate P2O5 (total)\",\"Nutrient nitrogen N (total)\",\"Nutrient potash K2O (total)\",\"Nutrient potash K2O (total)\",\"Nutrient nitrogen N (total)\",\"Nutrient phosphate P2O5 (total)\",\"Nutrient phosphate P2O5 (total)\",\"Nutrient nitrogen N (total)\",\"Nutrient potash K2O (total)\",\"Nutrient potash K2O (total)\",\"Nutrient nitrogen N (total)\",\"Nutrient phosphate P2O5 (total)\",\"Nutrient phosphate P2O5 (total)\",\"Nutrient nitrogen N (total)\",\"Nutrient potash K2O (total)\",\"Nutrient potash K2O (total)\",\"Nutrient nitrogen N (total)\",\"Nutrient phosphate P2O5 (total)\",\"Nutrient phosphate P2O5 (total)\",\"Nutrient nitrogen N (total)\",\"Nutrient potash K2O (total)\"],\"xaxis\":\"x\",\"y\":[0.009396443019720504,0.31924362100230236,0.09898058285396051,0.11595219175818329,0.37709435551239123,0.012134301360807564,0.012762523119692658,0.3626990217851459,0.11132542339882687,0.1104781729726548,0.37479738433362086,0.006942416401228824,0.011341383627295839,0.41530268969467293,0.10822874289996219,0.1099388078048913,0.41644933589602534,0.009269666736846394,0.006592649692227935,0.4139647471379122,0.11261978660834958,0.13796259194110336,0.4630512221460055,0.006809131514546447,0.006557276845443864,0.46956746648917985,0.13137701681823225,0.1213713118855029,0.49185717067030693,0.004684779828082305,0.008395815929892716,0.5634204014733215,0.13992054975629523,0.11870391625520971,0.5617434455529823,0.002384129873246356],\"yaxis\":\"y\",\"type\":\"histogram\"},{\"alignmentgroup\":\"True\",\"bingroup\":\"x\",\"histfunc\":\"sum\",\"hovertemplate\":\"Year=(0.988, 0.994]<br>Item=%{x}<br>sum of Value=%{y}<extra></extra>\",\"legendgroup\":\"(0.988, 0.994]\",\"marker\":{\"color\":\"#ab63fa\",\"pattern\":{\"shape\":\"\"}},\"name\":\"(0.988, 0.994]\",\"offsetgroup\":\"(0.988, 0.994]\",\"orientation\":\"v\",\"showlegend\":true,\"x\":[\"Nutrient potash K2O (total)\",\"Nutrient nitrogen N (total)\",\"Nutrient phosphate P2O5 (total)\",\"Nutrient phosphate P2O5 (total)\",\"Nutrient nitrogen N (total)\",\"Nutrient potash K2O (total)\",\"Nutrient potash K2O (total)\",\"Nutrient nitrogen N (total)\",\"Nutrient phosphate P2O5 (total)\",\"Nutrient phosphate P2O5 (total)\",\"Nutrient nitrogen N (total)\",\"Nutrient potash K2O (total)\",\"Nutrient potash K2O (total)\",\"Nutrient nitrogen N (total)\",\"Nutrient phosphate P2O5 (total)\",\"Nutrient phosphate P2O5 (total)\",\"Nutrient nitrogen N (total)\",\"Nutrient potash K2O (total)\",\"Nutrient potash K2O (total)\",\"Nutrient nitrogen N (total)\",\"Nutrient phosphate P2O5 (total)\",\"Nutrient phosphate P2O5 (total)\",\"Nutrient nitrogen N (total)\",\"Nutrient potash K2O (total)\",\"Nutrient potash K2O (total)\",\"Nutrient nitrogen N (total)\",\"Nutrient phosphate P2O5 (total)\",\"Nutrient phosphate P2O5 (total)\",\"Nutrient nitrogen N (total)\",\"Nutrient potash K2O (total)\",\"Nutrient potash K2O (total)\",\"Nutrient nitrogen N (total)\",\"Nutrient phosphate P2O5 (total)\",\"Nutrient phosphate P2O5 (total)\",\"Nutrient nitrogen N (total)\",\"Nutrient potash K2O (total)\"],\"xaxis\":\"x\",\"y\":[0.005785016854454036,0.5907568204508256,0.15600387573207644,0.13158699003674248,0.5919580823276126,0.0059992348145783666,0.005121988214333417,0.6276840916139753,0.16888411968586647,0.19104167091140828,0.6408427906176495,0.00645200725341447,0.0030845122395709527,0.6484861553507515,0.18165796211653004,0.18319172875308734,0.6749082569845808,0.005801146872587572,0.006775739547182284,0.6950082404583868,0.18940235170004732,0.215358663687424,0.7273308159185734,0.0074846113967350575,0.0099895749145958,0.797665901481245,0.24659571722550105,0.25659434758887356,0.8118730516635991,0.010302836845715528,0.012429735377148123,0.7680302474627765,0.23092639504848061,0.16007628083663292,0.8285896930882023,0.004687326673050758],\"yaxis\":\"y\",\"type\":\"histogram\"},{\"alignmentgroup\":\"True\",\"bingroup\":\"x\",\"histfunc\":\"sum\",\"hovertemplate\":\"Year=(0.994, 1.0]<br>Item=%{x}<br>sum of Value=%{y}<extra></extra>\",\"legendgroup\":\"(0.994, 1.0]\",\"marker\":{\"color\":\"#FFA15A\",\"pattern\":{\"shape\":\"\"}},\"name\":\"(0.994, 1.0]\",\"offsetgroup\":\"(0.994, 1.0]\",\"orientation\":\"v\",\"showlegend\":true,\"x\":[\"Nutrient potash K2O (total)\",\"Nutrient nitrogen N (total)\",\"Nutrient phosphate P2O5 (total)\",\"Nutrient phosphate P2O5 (total)\",\"Nutrient nitrogen N (total)\",\"Nutrient potash K2O (total)\",\"Nutrient potash K2O (total)\",\"Nutrient nitrogen N (total)\",\"Nutrient phosphate P2O5 (total)\",\"Nutrient phosphate P2O5 (total)\",\"Nutrient nitrogen N (total)\",\"Nutrient potash K2O (total)\",\"Nutrient potash K2O (total)\",\"Nutrient nitrogen N (total)\",\"Nutrient phosphate P2O5 (total)\",\"Nutrient phosphate P2O5 (total)\",\"Nutrient nitrogen N (total)\",\"Nutrient potash K2O (total)\",\"Nutrient potash K2O (total)\",\"Nutrient nitrogen N (total)\",\"Nutrient phosphate P2O5 (total)\",\"Nutrient phosphate P2O5 (total)\",\"Nutrient nitrogen N (total)\",\"Nutrient potash K2O (total)\",\"Nutrient potash K2O (total)\",\"Nutrient nitrogen N (total)\",\"Nutrient phosphate P2O5 (total)\",\"Nutrient phosphate P2O5 (total)\",\"Nutrient nitrogen N (total)\",\"Nutrient potash K2O (total)\",\"Nutrient potash K2O (total)\",\"Nutrient nitrogen N (total)\",\"Nutrient phosphate P2O5 (total)\",\"Nutrient phosphate P2O5 (total)\",\"Nutrient nitrogen N (total)\",\"Nutrient potash K2O (total)\"],\"xaxis\":\"x\",\"y\":[0.004385950018450477,0.9768282385114654,0.2203626480848858,0.21413306529204953,0.9255039357244246,0.010624588260063433,0.007927196455697349,0.9019620327671414,0.18483897148212794,0.19210002648718766,0.8067190863957729,0.00549750635579311,0.0056169250865361325,0.9167388272741062,0.24773783570246513,0.2649137581697127,0.8883573529112135,0.008361857996980008,0.007156917344127428,0.8943690389678599,0.28109754303036066,0.3421672065978,0.9174038367936467,0.008193483246287832,0.015330025830667636,0.9754195502611365,0.35592809294512623,0.35592809294512623,0.9754195502611365,0.015330025830667636,0.013373765912121397,0.9919553656929795,0.3111981377469591,0.340728239190624,1.0,0.017254308695721074],\"yaxis\":\"y\",\"type\":\"histogram\"}],                        {\"template\":{\"data\":{\"histogram2dcontour\":[{\"type\":\"histogram2dcontour\",\"colorbar\":{\"outlinewidth\":0,\"ticks\":\"\"},\"colorscale\":[[0.0,\"#0d0887\"],[0.1111111111111111,\"#46039f\"],[0.2222222222222222,\"#7201a8\"],[0.3333333333333333,\"#9c179e\"],[0.4444444444444444,\"#bd3786\"],[0.5555555555555556,\"#d8576b\"],[0.6666666666666666,\"#ed7953\"],[0.7777777777777778,\"#fb9f3a\"],[0.8888888888888888,\"#fdca26\"],[1.0,\"#f0f921\"]]}],\"choropleth\":[{\"type\":\"choropleth\",\"colorbar\":{\"outlinewidth\":0,\"ticks\":\"\"}}],\"histogram2d\":[{\"type\":\"histogram2d\",\"colorbar\":{\"outlinewidth\":0,\"ticks\":\"\"},\"colorscale\":[[0.0,\"#0d0887\"],[0.1111111111111111,\"#46039f\"],[0.2222222222222222,\"#7201a8\"],[0.3333333333333333,\"#9c179e\"],[0.4444444444444444,\"#bd3786\"],[0.5555555555555556,\"#d8576b\"],[0.6666666666666666,\"#ed7953\"],[0.7777777777777778,\"#fb9f3a\"],[0.8888888888888888,\"#fdca26\"],[1.0,\"#f0f921\"]]}],\"heatmap\":[{\"type\":\"heatmap\",\"colorbar\":{\"outlinewidth\":0,\"ticks\":\"\"},\"colorscale\":[[0.0,\"#0d0887\"],[0.1111111111111111,\"#46039f\"],[0.2222222222222222,\"#7201a8\"],[0.3333333333333333,\"#9c179e\"],[0.4444444444444444,\"#bd3786\"],[0.5555555555555556,\"#d8576b\"],[0.6666666666666666,\"#ed7953\"],[0.7777777777777778,\"#fb9f3a\"],[0.8888888888888888,\"#fdca26\"],[1.0,\"#f0f921\"]]}],\"heatmapgl\":[{\"type\":\"heatmapgl\",\"colorbar\":{\"outlinewidth\":0,\"ticks\":\"\"},\"colorscale\":[[0.0,\"#0d0887\"],[0.1111111111111111,\"#46039f\"],[0.2222222222222222,\"#7201a8\"],[0.3333333333333333,\"#9c179e\"],[0.4444444444444444,\"#bd3786\"],[0.5555555555555556,\"#d8576b\"],[0.6666666666666666,\"#ed7953\"],[0.7777777777777778,\"#fb9f3a\"],[0.8888888888888888,\"#fdca26\"],[1.0,\"#f0f921\"]]}],\"contourcarpet\":[{\"type\":\"contourcarpet\",\"colorbar\":{\"outlinewidth\":0,\"ticks\":\"\"}}],\"contour\":[{\"type\":\"contour\",\"colorbar\":{\"outlinewidth\":0,\"ticks\":\"\"},\"colorscale\":[[0.0,\"#0d0887\"],[0.1111111111111111,\"#46039f\"],[0.2222222222222222,\"#7201a8\"],[0.3333333333333333,\"#9c179e\"],[0.4444444444444444,\"#bd3786\"],[0.5555555555555556,\"#d8576b\"],[0.6666666666666666,\"#ed7953\"],[0.7777777777777778,\"#fb9f3a\"],[0.8888888888888888,\"#fdca26\"],[1.0,\"#f0f921\"]]}],\"surface\":[{\"type\":\"surface\",\"colorbar\":{\"outlinewidth\":0,\"ticks\":\"\"},\"colorscale\":[[0.0,\"#0d0887\"],[0.1111111111111111,\"#46039f\"],[0.2222222222222222,\"#7201a8\"],[0.3333333333333333,\"#9c179e\"],[0.4444444444444444,\"#bd3786\"],[0.5555555555555556,\"#d8576b\"],[0.6666666666666666,\"#ed7953\"],[0.7777777777777778,\"#fb9f3a\"],[0.8888888888888888,\"#fdca26\"],[1.0,\"#f0f921\"]]}],\"mesh3d\":[{\"type\":\"mesh3d\",\"colorbar\":{\"outlinewidth\":0,\"ticks\":\"\"}}],\"scatter\":[{\"fillpattern\":{\"fillmode\":\"overlay\",\"size\":10,\"solidity\":0.2},\"type\":\"scatter\"}],\"parcoords\":[{\"type\":\"parcoords\",\"line\":{\"colorbar\":{\"outlinewidth\":0,\"ticks\":\"\"}}}],\"scatterpolargl\":[{\"type\":\"scatterpolargl\",\"marker\":{\"colorbar\":{\"outlinewidth\":0,\"ticks\":\"\"}}}],\"bar\":[{\"error_x\":{\"color\":\"#2a3f5f\"},\"error_y\":{\"color\":\"#2a3f5f\"},\"marker\":{\"line\":{\"color\":\"#E5ECF6\",\"width\":0.5},\"pattern\":{\"fillmode\":\"overlay\",\"size\":10,\"solidity\":0.2}},\"type\":\"bar\"}],\"scattergeo\":[{\"type\":\"scattergeo\",\"marker\":{\"colorbar\":{\"outlinewidth\":0,\"ticks\":\"\"}}}],\"scatterpolar\":[{\"type\":\"scatterpolar\",\"marker\":{\"colorbar\":{\"outlinewidth\":0,\"ticks\":\"\"}}}],\"histogram\":[{\"marker\":{\"pattern\":{\"fillmode\":\"overlay\",\"size\":10,\"solidity\":0.2}},\"type\":\"histogram\"}],\"scattergl\":[{\"type\":\"scattergl\",\"marker\":{\"colorbar\":{\"outlinewidth\":0,\"ticks\":\"\"}}}],\"scatter3d\":[{\"type\":\"scatter3d\",\"line\":{\"colorbar\":{\"outlinewidth\":0,\"ticks\":\"\"}},\"marker\":{\"colorbar\":{\"outlinewidth\":0,\"ticks\":\"\"}}}],\"scattermapbox\":[{\"type\":\"scattermapbox\",\"marker\":{\"colorbar\":{\"outlinewidth\":0,\"ticks\":\"\"}}}],\"scatterternary\":[{\"type\":\"scatterternary\",\"marker\":{\"colorbar\":{\"outlinewidth\":0,\"ticks\":\"\"}}}],\"scattercarpet\":[{\"type\":\"scattercarpet\",\"marker\":{\"colorbar\":{\"outlinewidth\":0,\"ticks\":\"\"}}}],\"carpet\":[{\"aaxis\":{\"endlinecolor\":\"#2a3f5f\",\"gridcolor\":\"white\",\"linecolor\":\"white\",\"minorgridcolor\":\"white\",\"startlinecolor\":\"#2a3f5f\"},\"baxis\":{\"endlinecolor\":\"#2a3f5f\",\"gridcolor\":\"white\",\"linecolor\":\"white\",\"minorgridcolor\":\"white\",\"startlinecolor\":\"#2a3f5f\"},\"type\":\"carpet\"}],\"table\":[{\"cells\":{\"fill\":{\"color\":\"#EBF0F8\"},\"line\":{\"color\":\"white\"}},\"header\":{\"fill\":{\"color\":\"#C8D4E3\"},\"line\":{\"color\":\"white\"}},\"type\":\"table\"}],\"barpolar\":[{\"marker\":{\"line\":{\"color\":\"#E5ECF6\",\"width\":0.5},\"pattern\":{\"fillmode\":\"overlay\",\"size\":10,\"solidity\":0.2}},\"type\":\"barpolar\"}],\"pie\":[{\"automargin\":true,\"type\":\"pie\"}]},\"layout\":{\"autotypenumbers\":\"strict\",\"colorway\":[\"#636efa\",\"#EF553B\",\"#00cc96\",\"#ab63fa\",\"#FFA15A\",\"#19d3f3\",\"#FF6692\",\"#B6E880\",\"#FF97FF\",\"#FECB52\"],\"font\":{\"color\":\"#2a3f5f\"},\"hovermode\":\"closest\",\"hoverlabel\":{\"align\":\"left\"},\"paper_bgcolor\":\"white\",\"plot_bgcolor\":\"#E5ECF6\",\"polar\":{\"bgcolor\":\"#E5ECF6\",\"angularaxis\":{\"gridcolor\":\"white\",\"linecolor\":\"white\",\"ticks\":\"\"},\"radialaxis\":{\"gridcolor\":\"white\",\"linecolor\":\"white\",\"ticks\":\"\"}},\"ternary\":{\"bgcolor\":\"#E5ECF6\",\"aaxis\":{\"gridcolor\":\"white\",\"linecolor\":\"white\",\"ticks\":\"\"},\"baxis\":{\"gridcolor\":\"white\",\"linecolor\":\"white\",\"ticks\":\"\"},\"caxis\":{\"gridcolor\":\"white\",\"linecolor\":\"white\",\"ticks\":\"\"}},\"coloraxis\":{\"colorbar\":{\"outlinewidth\":0,\"ticks\":\"\"}},\"colorscale\":{\"sequential\":[[0.0,\"#0d0887\"],[0.1111111111111111,\"#46039f\"],[0.2222222222222222,\"#7201a8\"],[0.3333333333333333,\"#9c179e\"],[0.4444444444444444,\"#bd3786\"],[0.5555555555555556,\"#d8576b\"],[0.6666666666666666,\"#ed7953\"],[0.7777777777777778,\"#fb9f3a\"],[0.8888888888888888,\"#fdca26\"],[1.0,\"#f0f921\"]],\"sequentialminus\":[[0.0,\"#0d0887\"],[0.1111111111111111,\"#46039f\"],[0.2222222222222222,\"#7201a8\"],[0.3333333333333333,\"#9c179e\"],[0.4444444444444444,\"#bd3786\"],[0.5555555555555556,\"#d8576b\"],[0.6666666666666666,\"#ed7953\"],[0.7777777777777778,\"#fb9f3a\"],[0.8888888888888888,\"#fdca26\"],[1.0,\"#f0f921\"]],\"diverging\":[[0,\"#8e0152\"],[0.1,\"#c51b7d\"],[0.2,\"#de77ae\"],[0.3,\"#f1b6da\"],[0.4,\"#fde0ef\"],[0.5,\"#f7f7f7\"],[0.6,\"#e6f5d0\"],[0.7,\"#b8e186\"],[0.8,\"#7fbc41\"],[0.9,\"#4d9221\"],[1,\"#276419\"]]},\"xaxis\":{\"gridcolor\":\"white\",\"linecolor\":\"white\",\"ticks\":\"\",\"title\":{\"standoff\":15},\"zerolinecolor\":\"white\",\"automargin\":true,\"zerolinewidth\":2},\"yaxis\":{\"gridcolor\":\"white\",\"linecolor\":\"white\",\"ticks\":\"\",\"title\":{\"standoff\":15},\"zerolinecolor\":\"white\",\"automargin\":true,\"zerolinewidth\":2},\"scene\":{\"xaxis\":{\"backgroundcolor\":\"#E5ECF6\",\"gridcolor\":\"white\",\"linecolor\":\"white\",\"showbackground\":true,\"ticks\":\"\",\"zerolinecolor\":\"white\",\"gridwidth\":2},\"yaxis\":{\"backgroundcolor\":\"#E5ECF6\",\"gridcolor\":\"white\",\"linecolor\":\"white\",\"showbackground\":true,\"ticks\":\"\",\"zerolinecolor\":\"white\",\"gridwidth\":2},\"zaxis\":{\"backgroundcolor\":\"#E5ECF6\",\"gridcolor\":\"white\",\"linecolor\":\"white\",\"showbackground\":true,\"ticks\":\"\",\"zerolinecolor\":\"white\",\"gridwidth\":2}},\"shapedefaults\":{\"line\":{\"color\":\"#2a3f5f\"}},\"annotationdefaults\":{\"arrowcolor\":\"#2a3f5f\",\"arrowhead\":0,\"arrowwidth\":1},\"geo\":{\"bgcolor\":\"white\",\"landcolor\":\"#E5ECF6\",\"subunitcolor\":\"white\",\"showland\":true,\"showlakes\":true,\"lakecolor\":\"white\"},\"title\":{\"x\":0.05},\"mapbox\":{\"style\":\"light\"}}},\"xaxis\":{\"anchor\":\"y\",\"domain\":[0.0,1.0],\"title\":{\"text\":\"Item\"}},\"yaxis\":{\"anchor\":\"x\",\"domain\":[0.0,1.0],\"title\":{\"text\":\"sum of Value\"}},\"legend\":{\"title\":{\"text\":\"Year\"},\"tracegroupgap\":0},\"title\":{\"text\":\"Comparison of Furtilizer Quantity used with respect to year\"},\"barmode\":\"relative\"},                        {\"responsive\": true}                    )                };                            </script>        </div>"
      ],
      "text/plain": [
       "Figure({\n",
       "    'data': [{'alignmentgroup': 'True',\n",
       "              'bingroup': 'x',\n",
       "              'histfunc': 'sum',\n",
       "              'hovertemplate': 'Year=(0.97, 0.977]<br>Item=%{x}<br>sum of Value=%{y}<extra></extra>',\n",
       "              'legendgroup': '(0.97, 0.977]',\n",
       "              'marker': {'color': '#636efa', 'pattern': {'shape': ''}},\n",
       "              'name': '(0.97, 0.977]',\n",
       "              'offsetgroup': '(0.97, 0.977]',\n",
       "              'orientation': 'v',\n",
       "              'showlegend': True,\n",
       "              'type': 'histogram',\n",
       "              'x': array(['Nutrient nitrogen N (total)', 'Nutrient phosphate P2O5 (total)',\n",
       "                          'Nutrient phosphate P2O5 (total)', 'Nutrient nitrogen N (total)',\n",
       "                          'Nutrient nitrogen N (total)', 'Nutrient phosphate P2O5 (total)',\n",
       "                          'Nutrient phosphate P2O5 (total)', 'Nutrient nitrogen N (total)',\n",
       "                          'Nutrient nitrogen N (total)', 'Nutrient phosphate P2O5 (total)',\n",
       "                          'Nutrient phosphate P2O5 (total)', 'Nutrient nitrogen N (total)',\n",
       "                          'Nutrient potash K2O (total)', 'Nutrient potash K2O (total)',\n",
       "                          'Nutrient nitrogen N (total)', 'Nutrient phosphate P2O5 (total)',\n",
       "                          'Nutrient phosphate P2O5 (total)', 'Nutrient nitrogen N (total)',\n",
       "                          'Nutrient potash K2O (total)', 'Nutrient potash K2O (total)',\n",
       "                          'Nutrient nitrogen N (total)', 'Nutrient phosphate P2O5 (total)',\n",
       "                          'Nutrient phosphate P2O5 (total)', 'Nutrient nitrogen N (total)',\n",
       "                          'Nutrient potash K2O (total)', 'Nutrient potash K2O (total)',\n",
       "                          'Nutrient nitrogen N (total)', 'Nutrient phosphate P2O5 (total)',\n",
       "                          'Nutrient phosphate P2O5 (total)', 'Nutrient nitrogen N (total)',\n",
       "                          'Nutrient potash K2O (total)'], dtype=object),\n",
       "              'xaxis': 'x',\n",
       "              'y': array([1.17887794e-02, 1.41491387e-04, 5.94263826e-05, 1.16475710e-02,\n",
       "                          1.91352952e-02, 1.78279148e-04, 2.91189275e-04, 2.38121515e-02,\n",
       "                          1.95942933e-02, 3.52313554e-04, 1.10674563e-03, 3.04996004e-02,\n",
       "                          4.07495195e-05, 5.99923481e-05, 5.02127464e-02, 3.61567091e-03,\n",
       "                          1.09350204e-02, 5.75929372e-02, 7.03495177e-04, 3.80328849e-04,\n",
       "                          7.71314829e-02, 9.56510075e-03, 8.62022127e-03, 7.11755444e-02,\n",
       "                          3.46653898e-04, 2.10539184e-04, 9.73384338e-02, 1.05357317e-02,\n",
       "                          1.37897506e-02, 1.09296437e-01, 3.96175884e-04]),\n",
       "              'yaxis': 'y'},\n",
       "             {'alignmentgroup': 'True',\n",
       "              'bingroup': 'x',\n",
       "              'histfunc': 'sum',\n",
       "              'hovertemplate': 'Year=(0.977, 0.982]<br>Item=%{x}<br>sum of Value=%{y}<extra></extra>',\n",
       "              'legendgroup': '(0.977, 0.982]',\n",
       "              'marker': {'color': '#EF553B', 'pattern': {'shape': ''}},\n",
       "              'name': '(0.977, 0.982]',\n",
       "              'offsetgroup': '(0.977, 0.982]',\n",
       "              'orientation': 'v',\n",
       "              'showlegend': True,\n",
       "              'type': 'histogram',\n",
       "              'x': array(['Nutrient potash K2O (total)', 'Nutrient nitrogen N (total)',\n",
       "                          'Nutrient phosphate P2O5 (total)', 'Nutrient phosphate P2O5 (total)',\n",
       "                          'Nutrient nitrogen N (total)', 'Nutrient potash K2O (total)',\n",
       "                          'Nutrient potash K2O (total)', 'Nutrient nitrogen N (total)',\n",
       "                          'Nutrient phosphate P2O5 (total)', 'Nutrient phosphate P2O5 (total)',\n",
       "                          'Nutrient nitrogen N (total)', 'Nutrient potash K2O (total)',\n",
       "                          'Nutrient potash K2O (total)', 'Nutrient nitrogen N (total)',\n",
       "                          'Nutrient phosphate P2O5 (total)', 'Nutrient phosphate P2O5 (total)',\n",
       "                          'Nutrient nitrogen N (total)', 'Nutrient potash K2O (total)',\n",
       "                          'Nutrient potash K2O (total)', 'Nutrient nitrogen N (total)',\n",
       "                          'Nutrient phosphate P2O5 (total)', 'Nutrient phosphate P2O5 (total)',\n",
       "                          'Nutrient nitrogen N (total)', 'Nutrient potash K2O (total)',\n",
       "                          'Nutrient potash K2O (total)', 'Nutrient nitrogen N (total)',\n",
       "                          'Nutrient phosphate P2O5 (total)', 'Nutrient phosphate P2O5 (total)',\n",
       "                          'Nutrient nitrogen N (total)', 'Nutrient potash K2O (total)',\n",
       "                          'Nutrient potash K2O (total)', 'Nutrient nitrogen N (total)',\n",
       "                          'Nutrient phosphate P2O5 (total)', 'Nutrient phosphate P2O5 (total)',\n",
       "                          'Nutrient nitrogen N (total)', 'Nutrient potash K2O (total)'],\n",
       "                         dtype=object),\n",
       "              'xaxis': 'x',\n",
       "              'y': array([0.00075556, 0.09676426, 0.01643168, 0.01712046, 0.10269445, 0.00059426,\n",
       "                          0.00053767, 0.12548899, 0.03070363, 0.03336367, 0.1446042 , 0.00067916,\n",
       "                          0.0016413 , 0.15680076, 0.04451319, 0.05317246, 0.19364511, 0.00215067,\n",
       "                          0.00272173, 0.21953917, 0.05690387, 0.06409192, 0.23871691, 0.0027288 ,\n",
       "                          0.0061611 , 0.23560353, 0.06381318, 0.07507109, 0.26998905, 0.00705985,\n",
       "                          0.00808793, 0.25873596, 0.0739717 , 0.08314855, 0.26444684, 0.00698317]),\n",
       "              'yaxis': 'y'},\n",
       "             {'alignmentgroup': 'True',\n",
       "              'bingroup': 'x',\n",
       "              'histfunc': 'sum',\n",
       "              'hovertemplate': 'Year=(0.982, 0.988]<br>Item=%{x}<br>sum of Value=%{y}<extra></extra>',\n",
       "              'legendgroup': '(0.982, 0.988]',\n",
       "              'marker': {'color': '#00cc96', 'pattern': {'shape': ''}},\n",
       "              'name': '(0.982, 0.988]',\n",
       "              'offsetgroup': '(0.982, 0.988]',\n",
       "              'orientation': 'v',\n",
       "              'showlegend': True,\n",
       "              'type': 'histogram',\n",
       "              'x': array(['Nutrient potash K2O (total)', 'Nutrient nitrogen N (total)',\n",
       "                          'Nutrient phosphate P2O5 (total)', 'Nutrient phosphate P2O5 (total)',\n",
       "                          'Nutrient nitrogen N (total)', 'Nutrient potash K2O (total)',\n",
       "                          'Nutrient potash K2O (total)', 'Nutrient nitrogen N (total)',\n",
       "                          'Nutrient phosphate P2O5 (total)', 'Nutrient phosphate P2O5 (total)',\n",
       "                          'Nutrient nitrogen N (total)', 'Nutrient potash K2O (total)',\n",
       "                          'Nutrient potash K2O (total)', 'Nutrient nitrogen N (total)',\n",
       "                          'Nutrient phosphate P2O5 (total)', 'Nutrient phosphate P2O5 (total)',\n",
       "                          'Nutrient nitrogen N (total)', 'Nutrient potash K2O (total)',\n",
       "                          'Nutrient potash K2O (total)', 'Nutrient nitrogen N (total)',\n",
       "                          'Nutrient phosphate P2O5 (total)', 'Nutrient phosphate P2O5 (total)',\n",
       "                          'Nutrient nitrogen N (total)', 'Nutrient potash K2O (total)',\n",
       "                          'Nutrient potash K2O (total)', 'Nutrient nitrogen N (total)',\n",
       "                          'Nutrient phosphate P2O5 (total)', 'Nutrient phosphate P2O5 (total)',\n",
       "                          'Nutrient nitrogen N (total)', 'Nutrient potash K2O (total)',\n",
       "                          'Nutrient potash K2O (total)', 'Nutrient nitrogen N (total)',\n",
       "                          'Nutrient phosphate P2O5 (total)', 'Nutrient phosphate P2O5 (total)',\n",
       "                          'Nutrient nitrogen N (total)', 'Nutrient potash K2O (total)'],\n",
       "                         dtype=object),\n",
       "              'xaxis': 'x',\n",
       "              'y': array([0.00939644, 0.31924362, 0.09898058, 0.11595219, 0.37709436, 0.0121343 ,\n",
       "                          0.01276252, 0.36269902, 0.11132542, 0.11047817, 0.37479738, 0.00694242,\n",
       "                          0.01134138, 0.41530269, 0.10822874, 0.10993881, 0.41644934, 0.00926967,\n",
       "                          0.00659265, 0.41396475, 0.11261979, 0.13796259, 0.46305122, 0.00680913,\n",
       "                          0.00655728, 0.46956747, 0.13137702, 0.12137131, 0.49185717, 0.00468478,\n",
       "                          0.00839582, 0.5634204 , 0.13992055, 0.11870392, 0.56174345, 0.00238413]),\n",
       "              'yaxis': 'y'},\n",
       "             {'alignmentgroup': 'True',\n",
       "              'bingroup': 'x',\n",
       "              'histfunc': 'sum',\n",
       "              'hovertemplate': 'Year=(0.988, 0.994]<br>Item=%{x}<br>sum of Value=%{y}<extra></extra>',\n",
       "              'legendgroup': '(0.988, 0.994]',\n",
       "              'marker': {'color': '#ab63fa', 'pattern': {'shape': ''}},\n",
       "              'name': '(0.988, 0.994]',\n",
       "              'offsetgroup': '(0.988, 0.994]',\n",
       "              'orientation': 'v',\n",
       "              'showlegend': True,\n",
       "              'type': 'histogram',\n",
       "              'x': array(['Nutrient potash K2O (total)', 'Nutrient nitrogen N (total)',\n",
       "                          'Nutrient phosphate P2O5 (total)', 'Nutrient phosphate P2O5 (total)',\n",
       "                          'Nutrient nitrogen N (total)', 'Nutrient potash K2O (total)',\n",
       "                          'Nutrient potash K2O (total)', 'Nutrient nitrogen N (total)',\n",
       "                          'Nutrient phosphate P2O5 (total)', 'Nutrient phosphate P2O5 (total)',\n",
       "                          'Nutrient nitrogen N (total)', 'Nutrient potash K2O (total)',\n",
       "                          'Nutrient potash K2O (total)', 'Nutrient nitrogen N (total)',\n",
       "                          'Nutrient phosphate P2O5 (total)', 'Nutrient phosphate P2O5 (total)',\n",
       "                          'Nutrient nitrogen N (total)', 'Nutrient potash K2O (total)',\n",
       "                          'Nutrient potash K2O (total)', 'Nutrient nitrogen N (total)',\n",
       "                          'Nutrient phosphate P2O5 (total)', 'Nutrient phosphate P2O5 (total)',\n",
       "                          'Nutrient nitrogen N (total)', 'Nutrient potash K2O (total)',\n",
       "                          'Nutrient potash K2O (total)', 'Nutrient nitrogen N (total)',\n",
       "                          'Nutrient phosphate P2O5 (total)', 'Nutrient phosphate P2O5 (total)',\n",
       "                          'Nutrient nitrogen N (total)', 'Nutrient potash K2O (total)',\n",
       "                          'Nutrient potash K2O (total)', 'Nutrient nitrogen N (total)',\n",
       "                          'Nutrient phosphate P2O5 (total)', 'Nutrient phosphate P2O5 (total)',\n",
       "                          'Nutrient nitrogen N (total)', 'Nutrient potash K2O (total)'],\n",
       "                         dtype=object),\n",
       "              'xaxis': 'x',\n",
       "              'y': array([0.00578502, 0.59075682, 0.15600388, 0.13158699, 0.59195808, 0.00599923,\n",
       "                          0.00512199, 0.62768409, 0.16888412, 0.19104167, 0.64084279, 0.00645201,\n",
       "                          0.00308451, 0.64848616, 0.18165796, 0.18319173, 0.67490826, 0.00580115,\n",
       "                          0.00677574, 0.69500824, 0.18940235, 0.21535866, 0.72733082, 0.00748461,\n",
       "                          0.00998957, 0.7976659 , 0.24659572, 0.25659435, 0.81187305, 0.01030284,\n",
       "                          0.01242974, 0.76803025, 0.2309264 , 0.16007628, 0.82858969, 0.00468733]),\n",
       "              'yaxis': 'y'},\n",
       "             {'alignmentgroup': 'True',\n",
       "              'bingroup': 'x',\n",
       "              'histfunc': 'sum',\n",
       "              'hovertemplate': 'Year=(0.994, 1.0]<br>Item=%{x}<br>sum of Value=%{y}<extra></extra>',\n",
       "              'legendgroup': '(0.994, 1.0]',\n",
       "              'marker': {'color': '#FFA15A', 'pattern': {'shape': ''}},\n",
       "              'name': '(0.994, 1.0]',\n",
       "              'offsetgroup': '(0.994, 1.0]',\n",
       "              'orientation': 'v',\n",
       "              'showlegend': True,\n",
       "              'type': 'histogram',\n",
       "              'x': array(['Nutrient potash K2O (total)', 'Nutrient nitrogen N (total)',\n",
       "                          'Nutrient phosphate P2O5 (total)', 'Nutrient phosphate P2O5 (total)',\n",
       "                          'Nutrient nitrogen N (total)', 'Nutrient potash K2O (total)',\n",
       "                          'Nutrient potash K2O (total)', 'Nutrient nitrogen N (total)',\n",
       "                          'Nutrient phosphate P2O5 (total)', 'Nutrient phosphate P2O5 (total)',\n",
       "                          'Nutrient nitrogen N (total)', 'Nutrient potash K2O (total)',\n",
       "                          'Nutrient potash K2O (total)', 'Nutrient nitrogen N (total)',\n",
       "                          'Nutrient phosphate P2O5 (total)', 'Nutrient phosphate P2O5 (total)',\n",
       "                          'Nutrient nitrogen N (total)', 'Nutrient potash K2O (total)',\n",
       "                          'Nutrient potash K2O (total)', 'Nutrient nitrogen N (total)',\n",
       "                          'Nutrient phosphate P2O5 (total)', 'Nutrient phosphate P2O5 (total)',\n",
       "                          'Nutrient nitrogen N (total)', 'Nutrient potash K2O (total)',\n",
       "                          'Nutrient potash K2O (total)', 'Nutrient nitrogen N (total)',\n",
       "                          'Nutrient phosphate P2O5 (total)', 'Nutrient phosphate P2O5 (total)',\n",
       "                          'Nutrient nitrogen N (total)', 'Nutrient potash K2O (total)',\n",
       "                          'Nutrient potash K2O (total)', 'Nutrient nitrogen N (total)',\n",
       "                          'Nutrient phosphate P2O5 (total)', 'Nutrient phosphate P2O5 (total)',\n",
       "                          'Nutrient nitrogen N (total)', 'Nutrient potash K2O (total)'],\n",
       "                         dtype=object),\n",
       "              'xaxis': 'x',\n",
       "              'y': array([0.00438595, 0.97682824, 0.22036265, 0.21413307, 0.92550394, 0.01062459,\n",
       "                          0.0079272 , 0.90196203, 0.18483897, 0.19210003, 0.80671909, 0.00549751,\n",
       "                          0.00561693, 0.91673883, 0.24773784, 0.26491376, 0.88835735, 0.00836186,\n",
       "                          0.00715692, 0.89436904, 0.28109754, 0.34216721, 0.91740384, 0.00819348,\n",
       "                          0.01533003, 0.97541955, 0.35592809, 0.35592809, 0.97541955, 0.01533003,\n",
       "                          0.01337377, 0.99195537, 0.31119814, 0.34072824, 1.        , 0.01725431]),\n",
       "              'yaxis': 'y'}],\n",
       "    'layout': {'barmode': 'relative',\n",
       "               'legend': {'title': {'text': 'Year'}, 'tracegroupgap': 0},\n",
       "               'template': '...',\n",
       "               'title': {'text': 'Comparison of Furtilizer Quantity used with respect to year'},\n",
       "               'xaxis': {'anchor': 'y', 'domain': [0.0, 1.0], 'title': {'text': 'Item'}},\n",
       "               'yaxis': {'anchor': 'x', 'domain': [0.0, 1.0], 'title': {'text': 'sum of Value'}}}\n",
       "})"
      ]
     },
     "execution_count": 160,
     "metadata": {},
     "output_type": "execute_result"
    }
   ],
   "source": [
    "px.histogram(df_fu1, x=\"Item\", y=\"Value\",color='Year',title='Comparison of Furtilizer Quantity used with respect to year')"
   ]
  }
 ],
 "metadata": {
  "kernelspec": {
   "display_name": "Python 3.10.5 64-bit",
   "language": "python",
   "name": "python3"
  },
  "language_info": {
   "codemirror_mode": {
    "name": "ipython",
    "version": 3
   },
   "file_extension": ".py",
   "mimetype": "text/x-python",
   "name": "python",
   "nbconvert_exporter": "python",
   "pygments_lexer": "ipython3",
   "version": "3.10.5"
  },
  "orig_nbformat": 4,
  "vscode": {
   "interpreter": {
    "hash": "3196968d684371006099b3d55edeef8ed90365227a30deaef86e5d4aa8519be0"
   }
  }
 },
 "nbformat": 4,
 "nbformat_minor": 2
}
