{
 "cells": [
  {
   "cell_type": "markdown",
   "id": "d4fb0b8f",
   "metadata": {},
   "source": [
    "# Heading \n",
    "## String functions"
   ]
  },
  {
   "cell_type": "code",
   "execution_count": 1,
   "id": "1c4e491f",
   "metadata": {},
   "outputs": [],
   "source": [
    "a='Obaid Ullah Rana'"
   ]
  },
  {
   "cell_type": "code",
   "execution_count": 2,
   "id": "a7e54f5f",
   "metadata": {},
   "outputs": [
    {
     "data": {
      "text/plain": [
       "16"
      ]
     },
     "execution_count": 2,
     "metadata": {},
     "output_type": "execute_result"
    }
   ],
   "source": [
    "len(a)"
   ]
  },
  {
   "cell_type": "code",
   "execution_count": 3,
   "id": "cd8192d6",
   "metadata": {},
   "outputs": [
    {
     "data": {
      "text/plain": [
       "'OBAID ULLAH RANA'"
      ]
     },
     "execution_count": 3,
     "metadata": {},
     "output_type": "execute_result"
    }
   ],
   "source": [
    "a.upper()"
   ]
  },
  {
   "cell_type": "code",
   "execution_count": 4,
   "id": "7f53ce6d",
   "metadata": {},
   "outputs": [
    {
     "data": {
      "text/plain": [
       "'obaid ullah rana'"
      ]
     },
     "execution_count": 4,
     "metadata": {},
     "output_type": "execute_result"
    }
   ],
   "source": [
    "a.lower()"
   ]
  },
  {
   "cell_type": "code",
   "execution_count": 5,
   "id": "fa2df097",
   "metadata": {},
   "outputs": [
    {
     "data": {
      "text/plain": [
       "'l'"
      ]
     },
     "execution_count": 5,
     "metadata": {},
     "output_type": "execute_result"
    }
   ],
   "source": [
    "a[8]"
   ]
  },
  {
   "cell_type": "markdown",
   "id": "081be6d9",
   "metadata": {},
   "source": [
    "# Tuples\n",
    "### - Ordered collection of elements \n",
    "### - round braces ()\n",
    "### - any kind of data can be stored as in list\n",
    "### - but unmutable > you cant change elements once defined"
   ]
  },
  {
   "cell_type": "code",
   "execution_count": 6,
   "id": "ecd1d598",
   "metadata": {},
   "outputs": [
    {
     "data": {
      "text/plain": [
       "('Obaid', 26, 5.9, 'MSSE', 'Male')"
      ]
     },
     "execution_count": 6,
     "metadata": {},
     "output_type": "execute_result"
    }
   ],
   "source": [
    "Name =('Obaid',26, 5.9, 'MSSE','Male')\n",
    "Name"
   ]
  },
  {
   "cell_type": "code",
   "execution_count": 7,
   "id": "06e09fec",
   "metadata": {},
   "outputs": [
    {
     "data": {
      "text/plain": [
       "('Obaid', 5.9, 'Male')"
      ]
     },
     "execution_count": 7,
     "metadata": {},
     "output_type": "execute_result"
    }
   ],
   "source": [
    "Name =('Obaid',26, 5.9, 'MSSE','Male','Faisalabad')\n",
    "Name[0:5:2]"
   ]
  },
  {
   "cell_type": "code",
   "execution_count": 8,
   "id": "b9498eb7",
   "metadata": {
    "scrolled": true
   },
   "outputs": [
    {
     "data": {
      "text/plain": [
       "('Obaid',\n",
       " 'Male',\n",
       " 'Faisalabad',\n",
       " 'Obaid',\n",
       " 'Male',\n",
       " 'Faisalabad',\n",
       " 'Cs',\n",
       " 'SE',\n",
       " 'BI',\n",
       " 'DAE')"
      ]
     },
     "execution_count": 8,
     "metadata": {},
     "output_type": "execute_result"
    }
   ],
   "source": [
    "name =('Obaid','Male','Faisalabad')\n",
    "info =('Cs','SE','BI','DAE')\n",
    "name*2+info"
   ]
  },
  {
   "cell_type": "code",
   "execution_count": 9,
   "id": "3222edfa",
   "metadata": {},
   "outputs": [
    {
     "data": {
      "text/plain": [
       "['Obaid', 'Rana', 5.9, 'MSSE', 'Male', 'Faisalabad']"
      ]
     },
     "execution_count": 9,
     "metadata": {},
     "output_type": "execute_result"
    }
   ],
   "source": [
    "list1 = ['Obaid',26, 5.9, 'MSSE','Male','Faisalabad']\n",
    "list1.count(5.9)\n",
    "list1[1]='Rana'\n",
    "list1"
   ]
  },
  {
   "cell_type": "code",
   "execution_count": 11,
   "id": "56d4da45",
   "metadata": {},
   "outputs": [
    {
     "data": {
      "text/plain": [
       "'Male'"
      ]
     },
     "execution_count": 11,
     "metadata": {},
     "output_type": "execute_result"
    }
   ],
   "source": [
    "list2= list1.pop()\n",
    "list2"
   ]
  },
  {
   "cell_type": "code",
   "execution_count": 15,
   "id": "c79682c0",
   "metadata": {},
   "outputs": [
    {
     "data": {
      "text/plain": [
       "3"
      ]
     },
     "execution_count": 15,
     "metadata": {},
     "output_type": "execute_result"
    }
   ],
   "source": [
    "list1.index('MSSE')"
   ]
  },
  {
   "cell_type": "code",
   "execution_count": 20,
   "id": "6d947052",
   "metadata": {},
   "outputs": [
    {
     "data": {
      "text/plain": [
       "['Obaid', 'o', 'o', 'Rana', 5.9, 'MSSE']"
      ]
     },
     "execution_count": 20,
     "metadata": {},
     "output_type": "execute_result"
    }
   ],
   "source": [
    "list1.insert(1,'o')\n",
    "list1"
   ]
  },
  {
   "cell_type": "markdown",
   "id": "cc86cfd9",
   "metadata": {},
   "source": [
    "# List\n",
    "    # - Ordered collection of data \n",
    "    # - You can change values\n",
    "    # - Enclosed in square brackets"
   ]
  },
  {
   "cell_type": "code",
   "execution_count": 5,
   "id": "c751a2ce",
   "metadata": {},
   "outputs": [
    {
     "data": {
      "text/plain": [
       "['obaid', 2.5, 6, 8.9, 'Faisalabad', 'python', 'analysis']"
      ]
     },
     "execution_count": 5,
     "metadata": {},
     "output_type": "execute_result"
    }
   ],
   "source": [
    "ls1 = ['obaid',2.5,6,8.9,'Faisalabad','python','analysis']\n",
    "ls1"
   ]
  },
  {
   "cell_type": "code",
   "execution_count": 4,
   "id": "f0a371f8",
   "metadata": {},
   "outputs": [
    {
     "ename": "NameError",
     "evalue": "name 'ls1' is not defined",
     "output_type": "error",
     "traceback": [
      "\u001b[1;31m---------------------------------------------------------------------------\u001b[0m",
      "\u001b[1;31mNameError\u001b[0m                                 Traceback (most recent call last)",
      "Input \u001b[1;32mIn [4]\u001b[0m, in \u001b[0;36m<cell line: 1>\u001b[1;34m()\u001b[0m\n\u001b[1;32m----> 1\u001b[0m \u001b[43mls1\u001b[49m\u001b[38;5;241m.\u001b[39mappend(\u001b[38;5;124m'\u001b[39m\u001b[38;5;124mAgriculture\u001b[39m\u001b[38;5;124m'\u001b[39m)\n",
      "\u001b[1;31mNameError\u001b[0m: name 'ls1' is not defined"
     ]
    }
   ],
   "source": [
    "ls1.append('Agriculture')"
   ]
  },
  {
   "cell_type": "code",
   "execution_count": 23,
   "id": "95b711d3",
   "metadata": {},
   "outputs": [
    {
     "data": {
      "text/plain": [
       "['obaid', 2.5, 6, 8.9, 'Faisalabad', 'python', 'analysis', 'Agriculture']"
      ]
     },
     "execution_count": 23,
     "metadata": {},
     "output_type": "execute_result"
    }
   ],
   "source": [
    "ls1"
   ]
  },
  {
   "cell_type": "code",
   "execution_count": 2,
   "id": "245a3e48",
   "metadata": {},
   "outputs": [
    {
     "data": {
      "text/plain": [
       "['raw data', 'facts', 'etc']"
      ]
     },
     "execution_count": 2,
     "metadata": {},
     "output_type": "execute_result"
    }
   ],
   "source": [
    "ls2 = ['raw data','facts','etc']\n",
    "ls2"
   ]
  },
  {
   "cell_type": "code",
   "execution_count": 7,
   "id": "090c2442",
   "metadata": {},
   "outputs": [
    {
     "data": {
      "text/plain": [
       "['raw data',\n",
       " 'facts',\n",
       " 'etc',\n",
       " 'obaid',\n",
       " 2.5,\n",
       " 6,\n",
       " 8.9,\n",
       " 'Faisalabad',\n",
       " 'python',\n",
       " 'analysis',\n",
       " 'obaid',\n",
       " 2.5,\n",
       " 6,\n",
       " 8.9,\n",
       " 'Faisalabad',\n",
       " 'python',\n",
       " 'analysis']"
      ]
     },
     "execution_count": 7,
     "metadata": {},
     "output_type": "execute_result"
    }
   ],
   "source": [
    "ls2.extend(ls1)\n",
    "ls2"
   ]
  },
  {
   "cell_type": "code",
   "execution_count": 9,
   "id": "3b499a03",
   "metadata": {},
   "outputs": [
    {
     "data": {
      "text/plain": [
       "['obaid', 2.5, 6, 'Faisalabad', 'python', 'analysis']"
      ]
     },
     "execution_count": 9,
     "metadata": {},
     "output_type": "execute_result"
    }
   ],
   "source": [
    "ls1.remove(8.9)\n",
    "ls1\n"
   ]
  },
  {
   "cell_type": "code",
   "execution_count": 12,
   "id": "131552b4",
   "metadata": {},
   "outputs": [
    {
     "data": {
      "text/plain": [
       "['analysis', 'python', 'Faisalabad', 6, 2.5, 'obaid']"
      ]
     },
     "execution_count": 12,
     "metadata": {},
     "output_type": "execute_result"
    }
   ],
   "source": [
    "ls1.reverse()\n",
    "ls1"
   ]
  },
  {
   "cell_type": "code",
   "execution_count": 3,
   "id": "f15f2fd9",
   "metadata": {},
   "outputs": [
    {
     "data": {
      "text/plain": [
       "['obaid', 8.9, ['ali', 2, 3, 4]]"
      ]
     },
     "execution_count": 3,
     "metadata": {},
     "output_type": "execute_result"
    }
   ],
   "source": [
    "ls3= ['obaid',8.9,['ali',2,3,4]]\n",
    "ls3"
   ]
  },
  {
   "cell_type": "code",
   "execution_count": 4,
   "id": "e40b564e",
   "metadata": {},
   "outputs": [
    {
     "data": {
      "text/plain": [
       "2"
      ]
     },
     "execution_count": 4,
     "metadata": {},
     "output_type": "execute_result"
    }
   ],
   "source": [
    "ls3.index(['ali', 2, 3, 4])"
   ]
  },
  {
   "cell_type": "markdown",
   "id": "2d8d3cdc",
   "metadata": {},
   "source": [
    "# Dictionary\n",
    "- Unordered collection of data \n",
    "- Mutateable\n",
    "- Curly braces {}\n",
    "- Key and values"
   ]
  },
  {
   "cell_type": "code",
   "execution_count": 13,
   "id": "09583e42",
   "metadata": {},
   "outputs": [
    {
     "data": {
      "text/plain": [
       "{'Name': 'Obaid', 'Age': 26, 'Gender': 'male', 'Education': 'MSSE'}"
      ]
     },
     "execution_count": 13,
     "metadata": {},
     "output_type": "execute_result"
    }
   ],
   "source": [
    "dic1 = {'Name':'Obaid','Age':26,'Gender':'male','Education':'MSSE'}\n",
    "dic1"
   ]
  },
  {
   "cell_type": "code",
   "execution_count": 25,
   "id": "c7d86bc4",
   "metadata": {},
   "outputs": [
    {
     "ename": "TypeError",
     "evalue": "pop expected at least 1 argument, got 0",
     "output_type": "error",
     "traceback": [
      "\u001b[1;31m---------------------------------------------------------------------------\u001b[0m",
      "\u001b[1;31mTypeError\u001b[0m                                 Traceback (most recent call last)",
      "Input \u001b[1;32mIn [25]\u001b[0m, in \u001b[0;36m<cell line: 3>\u001b[1;34m()\u001b[0m\n\u001b[0;32m      1\u001b[0m dic2\u001b[38;5;241m=\u001b[39m {\u001b[38;5;124m'\u001b[39m\u001b[38;5;124mcity\u001b[39m\u001b[38;5;124m'\u001b[39m:\u001b[38;5;124m'\u001b[39m\u001b[38;5;124mFsd\u001b[39m\u001b[38;5;124m'\u001b[39m}\n\u001b[0;32m      2\u001b[0m dic2\n\u001b[1;32m----> 3\u001b[0m \u001b[43mdic1\u001b[49m\u001b[38;5;241;43m.\u001b[39;49m\u001b[43mpop\u001b[49m\u001b[43m(\u001b[49m\u001b[43m)\u001b[49m\n",
      "\u001b[1;31mTypeError\u001b[0m: pop expected at least 1 argument, got 0"
     ]
    }
   ],
   "source": [
    "dic2= {'city':'Fsd'}\n",
    "dic2"
   ]
  },
  {
   "cell_type": "code",
   "execution_count": 28,
   "id": "c51f4b76",
   "metadata": {},
   "outputs": [
    {
     "data": {
      "text/plain": [
       "'Obaid'"
      ]
     },
     "execution_count": 28,
     "metadata": {},
     "output_type": "execute_result"
    }
   ],
   "source": [
    "dic1.pop('Name')"
   ]
  },
  {
   "cell_type": "code",
   "execution_count": 33,
   "id": "db39c5b3",
   "metadata": {},
   "outputs": [
    {
     "data": {
      "text/plain": [
       "{'Age': 26, 'Gender': 'male', 'Education': 'MSSE', 'NOne': None}"
      ]
     },
     "execution_count": 33,
     "metadata": {},
     "output_type": "execute_result"
    }
   ],
   "source": [
    "dic1.setdefault('NOne')\n",
    "dic1\n"
   ]
  },
  {
   "cell_type": "markdown",
   "id": "dfc81cb6",
   "metadata": {},
   "source": [
    "# Sets\n",
    "- Unordered and unindexed.\n",
    "- Curly braces are used.\n",
    "- NO duplication allowed."
   ]
  },
  {
   "cell_type": "code",
   "execution_count": 34,
   "id": "942dbe1c",
   "metadata": {},
   "outputs": [
    {
     "data": {
      "text/plain": [
       "{1, 12, 2, 4, 5, 6, 7, 8, 9, 'MSSE', 'Obaid', 'zahid'}"
      ]
     },
     "execution_count": 34,
     "metadata": {},
     "output_type": "execute_result"
    }
   ],
   "source": [
    "set1 = {1,5,6,8,7,9,4,2,12,'Obaid','zahid','MSSE'}\n",
    "set1"
   ]
  },
  {
   "cell_type": "code",
   "execution_count": 35,
   "id": "ee4b7a6a",
   "metadata": {},
   "outputs": [
    {
     "data": {
      "text/plain": [
       "{1, 2, 4, 5, 6, 7, 8, 9}"
      ]
     },
     "execution_count": 35,
     "metadata": {},
     "output_type": "execute_result"
    }
   ],
   "source": [
    "set2= {1,5,6,8,7,9,4,2}\n",
    "set2"
   ]
  },
  {
   "cell_type": "code",
   "execution_count": 36,
   "id": "cf693c0d",
   "metadata": {},
   "outputs": [
    {
     "data": {
      "text/plain": [
       "{1, 12, 19, 2, 4, 5, 6, 7, 8, 9, 'MSSE', 'Obaid', 'zahid'}"
      ]
     },
     "execution_count": 36,
     "metadata": {},
     "output_type": "execute_result"
    }
   ],
   "source": [
    "set1.add(19)\n",
    "set1"
   ]
  },
  {
   "cell_type": "code",
   "execution_count": 38,
   "id": "fd440eec",
   "metadata": {},
   "outputs": [
    {
     "data": {
      "text/plain": [
       "{1, 12, 19, 2, 4, 5, 6, 7, 8, 9, 'MSSE', 'Obaid', 'zahid'}"
      ]
     },
     "execution_count": 38,
     "metadata": {},
     "output_type": "execute_result"
    }
   ],
   "source": [
    "set3=set1.copy()\n",
    "set3"
   ]
  },
  {
   "cell_type": "code",
   "execution_count": 41,
   "id": "4e0a3c90",
   "metadata": {},
   "outputs": [
    {
     "data": {
      "text/plain": [
       "{12, 19, 'MSSE', 'Obaid', 'zahid'}"
      ]
     },
     "execution_count": 41,
     "metadata": {},
     "output_type": "execute_result"
    }
   ],
   "source": [
    "set1.difference(set2)"
   ]
  },
  {
   "cell_type": "code",
   "execution_count": 48,
   "id": "76a6633e",
   "metadata": {},
   "outputs": [
    {
     "data": {
      "text/plain": [
       "{12, 19, 'MSSE', 'Obaid', 'zahid'}"
      ]
     },
     "execution_count": 48,
     "metadata": {},
     "output_type": "execute_result"
    }
   ],
   "source": [
    "l1=set1.difference_update(set2)\n",
    "set1"
   ]
  },
  {
   "cell_type": "code",
   "execution_count": 51,
   "id": "44408a93",
   "metadata": {},
   "outputs": [
    {
     "data": {
      "text/plain": [
       "{19, 'MSSE', 'Obaid', 'zahid'}"
      ]
     },
     "execution_count": 51,
     "metadata": {},
     "output_type": "execute_result"
    }
   ],
   "source": [
    "set1.discard(12)\n",
    "set1\n"
   ]
  },
  {
   "cell_type": "code",
   "execution_count": 55,
   "id": "b0acb4e0",
   "metadata": {},
   "outputs": [
    {
     "data": {
      "text/plain": [
       "set()"
      ]
     },
     "execution_count": 55,
     "metadata": {},
     "output_type": "execute_result"
    }
   ],
   "source": [
    "set2.intersection('a')\n"
   ]
  },
  {
   "cell_type": "code",
   "execution_count": 56,
   "id": "3f76340f",
   "metadata": {},
   "outputs": [
    {
     "data": {
      "text/plain": [
       "{19, 'MSSE', 'Obaid', 'zahid'}"
      ]
     },
     "execution_count": 56,
     "metadata": {},
     "output_type": "execute_result"
    }
   ],
   "source": [
    "set1"
   ]
  },
  {
   "cell_type": "code",
   "execution_count": 61,
   "id": "06ed2bb9",
   "metadata": {},
   "outputs": [
    {
     "data": {
      "text/plain": [
       "{1, 19, 2, 4, 5, 6, 7, 8, 9, 'MSSE', 'Obaid', 'zahid'}"
      ]
     },
     "execution_count": 61,
     "metadata": {},
     "output_type": "execute_result"
    }
   ],
   "source": [
    "set1.union(set2)\n",
    "set1"
   ]
  },
  {
   "cell_type": "code",
   "execution_count": 62,
   "id": "c9a7363f",
   "metadata": {},
   "outputs": [
    {
     "data": {
      "text/plain": [
       "False"
      ]
     },
     "execution_count": 62,
     "metadata": {},
     "output_type": "execute_result"
    }
   ],
   "source": [
    "set1.isdisjoint(set2)"
   ]
  },
  {
   "cell_type": "code",
   "execution_count": 63,
   "id": "44a2df58",
   "metadata": {},
   "outputs": [
    {
     "data": {
      "text/plain": [
       "False"
      ]
     },
     "execution_count": 63,
     "metadata": {},
     "output_type": "execute_result"
    }
   ],
   "source": [
    "set1.issubset(set2)"
   ]
  },
  {
   "cell_type": "code",
   "execution_count": 64,
   "id": "1cd29b62",
   "metadata": {},
   "outputs": [
    {
     "data": {
      "text/plain": [
       "True"
      ]
     },
     "execution_count": 64,
     "metadata": {},
     "output_type": "execute_result"
    }
   ],
   "source": [
    "set2.issubset(set1)"
   ]
  },
  {
   "cell_type": "code",
   "execution_count": 65,
   "id": "9f101fb1",
   "metadata": {},
   "outputs": [
    {
     "data": {
      "text/plain": [
       "True"
      ]
     },
     "execution_count": 65,
     "metadata": {},
     "output_type": "execute_result"
    }
   ],
   "source": [
    "set1.issuperset(set2)"
   ]
  },
  {
   "cell_type": "code",
   "execution_count": 68,
   "id": "1e585880",
   "metadata": {},
   "outputs": [
    {
     "data": {
      "text/plain": [
       "{1, 19, 2, 4, 5, 6, 7, 8, 9, 'MSSE', 'Obaid', 'zahid'}"
      ]
     },
     "execution_count": 68,
     "metadata": {},
     "output_type": "execute_result"
    }
   ],
   "source": [
    "set1\n"
   ]
  },
  {
   "cell_type": "code",
   "execution_count": 69,
   "id": "6add1b8f",
   "metadata": {},
   "outputs": [
    {
     "data": {
      "text/plain": [
       "{1, 2, 4, 5, 6, 7, 8, 9}"
      ]
     },
     "execution_count": 69,
     "metadata": {},
     "output_type": "execute_result"
    }
   ],
   "source": [
    "set2"
   ]
  },
  {
   "cell_type": "code",
   "execution_count": 66,
   "id": "e8f017a3",
   "metadata": {},
   "outputs": [
    {
     "data": {
      "text/plain": [
       "{19, 'MSSE', 'Obaid', 'zahid'}"
      ]
     },
     "execution_count": 66,
     "metadata": {},
     "output_type": "execute_result"
    }
   ],
   "source": [
    "set1.symmetric_difference(set2)"
   ]
  },
  {
   "cell_type": "code",
   "execution_count": 72,
   "id": "70ec7de5",
   "metadata": {},
   "outputs": [
    {
     "data": {
      "text/plain": [
       "{19, 'MSSE', 'Obaid', 'zahid'}"
      ]
     },
     "execution_count": 72,
     "metadata": {},
     "output_type": "execute_result"
    }
   ],
   "source": [
    "set1.symmetric_difference_update(set2)\n",
    "set1"
   ]
  },
  {
   "cell_type": "code",
   "execution_count": 79,
   "id": "f71aebe8",
   "metadata": {},
   "outputs": [
    {
     "data": {
      "text/plain": [
       "{19, 'MSSE', 'Obaid', 'a', 'zahid'}"
      ]
     },
     "execution_count": 79,
     "metadata": {},
     "output_type": "execute_result"
    }
   ],
   "source": [
    "set2.union(set1)\n",
    "set1"
   ]
  },
  {
   "cell_type": "code",
   "execution_count": 76,
   "id": "32d2faf2",
   "metadata": {},
   "outputs": [
    {
     "data": {
      "text/plain": [
       "{19, 'MSSE', 'Obaid', 'a', 'zahid'}"
      ]
     },
     "execution_count": 76,
     "metadata": {},
     "output_type": "execute_result"
    }
   ],
   "source": [
    "set1.update('a')\n",
    "set1"
   ]
  },
  {
   "cell_type": "code",
   "execution_count": 80,
   "id": "21d78576",
   "metadata": {},
   "outputs": [
    {
     "data": {
      "text/plain": [
       "{19, 'MSSE', 'Obaid', 'a', 'zahid'}"
      ]
     },
     "execution_count": 80,
     "metadata": {},
     "output_type": "execute_result"
    }
   ],
   "source": [
    "set1"
   ]
  },
  {
   "cell_type": "code",
   "execution_count": 81,
   "id": "dd3e0c96",
   "metadata": {},
   "outputs": [
    {
     "data": {
      "text/plain": [
       "{1, 2, 4, 5, 6, 7, 8, 9}"
      ]
     },
     "execution_count": 81,
     "metadata": {},
     "output_type": "execute_result"
    }
   ],
   "source": [
    "set2"
   ]
  },
  {
   "cell_type": "code",
   "execution_count": 85,
   "id": "5f567a53",
   "metadata": {},
   "outputs": [
    {
     "data": {
      "text/plain": [
       "{1, 19, 2, 4, 5, 6, 7, 8, 9, 'MSSE', 'Obaid', 'a', 'zahid'}"
      ]
     },
     "execution_count": 85,
     "metadata": {},
     "output_type": "execute_result"
    }
   ],
   "source": [
    "set1.union(set2)\n"
   ]
  },
  {
   "cell_type": "code",
   "execution_count": 87,
   "id": "7a23c964",
   "metadata": {},
   "outputs": [
    {
     "data": {
      "text/plain": [
       "{1, 2, 4, 5, 6, 7, 8, 9}"
      ]
     },
     "execution_count": 87,
     "metadata": {},
     "output_type": "execute_result"
    }
   ],
   "source": [
    "set2"
   ]
  }
 ],
 "metadata": {
  "kernelspec": {
   "display_name": "Python 3 (ipykernel)",
   "language": "python",
   "name": "python3"
  },
  "language_info": {
   "codemirror_mode": {
    "name": "ipython",
    "version": 3
   },
   "file_extension": ".py",
   "mimetype": "text/x-python",
   "name": "python",
   "nbconvert_exporter": "python",
   "pygments_lexer": "ipython3",
   "version": "3.9.12"
  }
 },
 "nbformat": 4,
 "nbformat_minor": 5
}
