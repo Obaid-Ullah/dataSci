{
 "cells": [
  {
   "cell_type": "markdown",
   "metadata": {},
   "source": [
    "# Import Libraries"
   ]
  },
  {
   "cell_type": "code",
   "execution_count": 1,
   "metadata": {},
   "outputs": [],
   "source": [
    "import pandas as pd\n",
    "import seaborn as sns\n",
    "import matplotlib.pyplot as plt\n",
    "import numpy as np\n",
    "import plotly.express as px\n",
    "import plotly.graph_objects as go\n",
    "from scipy.stats import norm "
   ]
  },
  {
   "cell_type": "code",
   "execution_count": 6,
   "metadata": {},
   "outputs": [
    {
     "data": {
      "text/html": [
       "<div>\n",
       "<style scoped>\n",
       "    .dataframe tbody tr th:only-of-type {\n",
       "        vertical-align: middle;\n",
       "    }\n",
       "\n",
       "    .dataframe tbody tr th {\n",
       "        vertical-align: top;\n",
       "    }\n",
       "\n",
       "    .dataframe thead th {\n",
       "        text-align: right;\n",
       "    }\n",
       "</style>\n",
       "<table border=\"1\" class=\"dataframe\">\n",
       "  <thead>\n",
       "    <tr style=\"text-align: right;\">\n",
       "      <th></th>\n",
       "      <th>DomainCode</th>\n",
       "      <th>Domain</th>\n",
       "      <th>AreaCode</th>\n",
       "      <th>Area</th>\n",
       "      <th>ElementCode</th>\n",
       "      <th>Element</th>\n",
       "      <th>ItemCode</th>\n",
       "      <th>Item</th>\n",
       "      <th>YearCode</th>\n",
       "      <th>Year</th>\n",
       "      <th>Unit</th>\n",
       "      <th>Value</th>\n",
       "      <th>Flag</th>\n",
       "      <th>FlagDescription</th>\n",
       "    </tr>\n",
       "  </thead>\n",
       "  <tbody>\n",
       "    <tr>\n",
       "      <th>0</th>\n",
       "      <td>RFN</td>\n",
       "      <td>Fertilizers by Nutrient</td>\n",
       "      <td>165</td>\n",
       "      <td>Pakistan</td>\n",
       "      <td>5157</td>\n",
       "      <td>Agricultural Use</td>\n",
       "      <td>3102</td>\n",
       "      <td>Nutrient nitrogen N (total)</td>\n",
       "      <td>1961</td>\n",
       "      <td>1961</td>\n",
       "      <td>tonnes</td>\n",
       "      <td>41659</td>\n",
       "      <td>Qm</td>\n",
       "      <td>Official data from questionnaires and/or natio...</td>\n",
       "    </tr>\n",
       "    <tr>\n",
       "      <th>1</th>\n",
       "      <td>RFN</td>\n",
       "      <td>Fertilizers by Nutrient</td>\n",
       "      <td>165</td>\n",
       "      <td>Pakistan</td>\n",
       "      <td>5157</td>\n",
       "      <td>Agricultural Use</td>\n",
       "      <td>3103</td>\n",
       "      <td>Nutrient phosphate P2O5 (total)</td>\n",
       "      <td>1961</td>\n",
       "      <td>1961</td>\n",
       "      <td>tonnes</td>\n",
       "      <td>500</td>\n",
       "      <td>Qm</td>\n",
       "      <td>Official data from questionnaires and/or natio...</td>\n",
       "    </tr>\n",
       "    <tr>\n",
       "      <th>2</th>\n",
       "      <td>RFN</td>\n",
       "      <td>Fertilizers by Nutrient</td>\n",
       "      <td>165</td>\n",
       "      <td>Pakistan</td>\n",
       "      <td>5157</td>\n",
       "      <td>Agricultural Use</td>\n",
       "      <td>3103</td>\n",
       "      <td>Nutrient phosphate P2O5 (total)</td>\n",
       "      <td>1962</td>\n",
       "      <td>1962</td>\n",
       "      <td>tonnes</td>\n",
       "      <td>210</td>\n",
       "      <td>Qm</td>\n",
       "      <td>Official data from questionnaires and/or natio...</td>\n",
       "    </tr>\n",
       "    <tr>\n",
       "      <th>3</th>\n",
       "      <td>RFN</td>\n",
       "      <td>Fertilizers by Nutrient</td>\n",
       "      <td>165</td>\n",
       "      <td>Pakistan</td>\n",
       "      <td>5157</td>\n",
       "      <td>Agricultural Use</td>\n",
       "      <td>3102</td>\n",
       "      <td>Nutrient nitrogen N (total)</td>\n",
       "      <td>1962</td>\n",
       "      <td>1962</td>\n",
       "      <td>tonnes</td>\n",
       "      <td>41160</td>\n",
       "      <td>Qm</td>\n",
       "      <td>Official data from questionnaires and/or natio...</td>\n",
       "    </tr>\n",
       "    <tr>\n",
       "      <th>4</th>\n",
       "      <td>RFN</td>\n",
       "      <td>Fertilizers by Nutrient</td>\n",
       "      <td>165</td>\n",
       "      <td>Pakistan</td>\n",
       "      <td>5157</td>\n",
       "      <td>Agricultural Use</td>\n",
       "      <td>3102</td>\n",
       "      <td>Nutrient nitrogen N (total)</td>\n",
       "      <td>1963</td>\n",
       "      <td>1963</td>\n",
       "      <td>tonnes</td>\n",
       "      <td>67620</td>\n",
       "      <td>Qm</td>\n",
       "      <td>Official data from questionnaires and/or natio...</td>\n",
       "    </tr>\n",
       "    <tr>\n",
       "      <th>...</th>\n",
       "      <td>...</td>\n",
       "      <td>...</td>\n",
       "      <td>...</td>\n",
       "      <td>...</td>\n",
       "      <td>...</td>\n",
       "      <td>...</td>\n",
       "      <td>...</td>\n",
       "      <td>...</td>\n",
       "      <td>...</td>\n",
       "      <td>...</td>\n",
       "      <td>...</td>\n",
       "      <td>...</td>\n",
       "      <td>...</td>\n",
       "      <td>...</td>\n",
       "    </tr>\n",
       "    <tr>\n",
       "      <th>170</th>\n",
       "      <td>RFN</td>\n",
       "      <td>Fertilizers by Nutrient</td>\n",
       "      <td>165</td>\n",
       "      <td>Pakistan</td>\n",
       "      <td>5157</td>\n",
       "      <td>Agricultural Use</td>\n",
       "      <td>3102</td>\n",
       "      <td>Nutrient nitrogen N (total)</td>\n",
       "      <td>2019</td>\n",
       "      <td>2019</td>\n",
       "      <td>tonnes</td>\n",
       "      <td>3505356</td>\n",
       "      <td>Qm</td>\n",
       "      <td>Official data from questionnaires and/or natio...</td>\n",
       "    </tr>\n",
       "    <tr>\n",
       "      <th>171</th>\n",
       "      <td>RFN</td>\n",
       "      <td>Fertilizers by Nutrient</td>\n",
       "      <td>165</td>\n",
       "      <td>Pakistan</td>\n",
       "      <td>5157</td>\n",
       "      <td>Agricultural Use</td>\n",
       "      <td>3103</td>\n",
       "      <td>Nutrient phosphate P2O5 (total)</td>\n",
       "      <td>2019</td>\n",
       "      <td>2019</td>\n",
       "      <td>tonnes</td>\n",
       "      <td>1099707</td>\n",
       "      <td>Qm</td>\n",
       "      <td>Official data from questionnaires and/or natio...</td>\n",
       "    </tr>\n",
       "    <tr>\n",
       "      <th>172</th>\n",
       "      <td>RFN</td>\n",
       "      <td>Fertilizers by Nutrient</td>\n",
       "      <td>165</td>\n",
       "      <td>Pakistan</td>\n",
       "      <td>5157</td>\n",
       "      <td>Agricultural Use</td>\n",
       "      <td>3103</td>\n",
       "      <td>Nutrient phosphate P2O5 (total)</td>\n",
       "      <td>2020</td>\n",
       "      <td>2020</td>\n",
       "      <td>tonnes</td>\n",
       "      <td>1204060</td>\n",
       "      <td>Qm</td>\n",
       "      <td>Official data from questionnaires and/or natio...</td>\n",
       "    </tr>\n",
       "    <tr>\n",
       "      <th>173</th>\n",
       "      <td>RFN</td>\n",
       "      <td>Fertilizers by Nutrient</td>\n",
       "      <td>165</td>\n",
       "      <td>Pakistan</td>\n",
       "      <td>5157</td>\n",
       "      <td>Agricultural Use</td>\n",
       "      <td>3102</td>\n",
       "      <td>Nutrient nitrogen N (total)</td>\n",
       "      <td>2020</td>\n",
       "      <td>2020</td>\n",
       "      <td>tonnes</td>\n",
       "      <td>3533784</td>\n",
       "      <td>Qm</td>\n",
       "      <td>Official data from questionnaires and/or natio...</td>\n",
       "    </tr>\n",
       "    <tr>\n",
       "      <th>174</th>\n",
       "      <td>RFN</td>\n",
       "      <td>Fertilizers by Nutrient</td>\n",
       "      <td>165</td>\n",
       "      <td>Pakistan</td>\n",
       "      <td>5157</td>\n",
       "      <td>Agricultural Use</td>\n",
       "      <td>3104</td>\n",
       "      <td>Nutrient potash K2O (total)</td>\n",
       "      <td>2020</td>\n",
       "      <td>2020</td>\n",
       "      <td>tonnes</td>\n",
       "      <td>60973</td>\n",
       "      <td>Qm</td>\n",
       "      <td>Official data from questionnaires and/or natio...</td>\n",
       "    </tr>\n",
       "  </tbody>\n",
       "</table>\n",
       "<p>175 rows × 14 columns</p>\n",
       "</div>"
      ],
      "text/plain": [
       "    DomainCode                   Domain  AreaCode      Area  ElementCode  \\\n",
       "0          RFN  Fertilizers by Nutrient       165  Pakistan         5157   \n",
       "1          RFN  Fertilizers by Nutrient       165  Pakistan         5157   \n",
       "2          RFN  Fertilizers by Nutrient       165  Pakistan         5157   \n",
       "3          RFN  Fertilizers by Nutrient       165  Pakistan         5157   \n",
       "4          RFN  Fertilizers by Nutrient       165  Pakistan         5157   \n",
       "..         ...                      ...       ...       ...          ...   \n",
       "170        RFN  Fertilizers by Nutrient       165  Pakistan         5157   \n",
       "171        RFN  Fertilizers by Nutrient       165  Pakistan         5157   \n",
       "172        RFN  Fertilizers by Nutrient       165  Pakistan         5157   \n",
       "173        RFN  Fertilizers by Nutrient       165  Pakistan         5157   \n",
       "174        RFN  Fertilizers by Nutrient       165  Pakistan         5157   \n",
       "\n",
       "              Element  ItemCode                             Item  YearCode  \\\n",
       "0    Agricultural Use      3102      Nutrient nitrogen N (total)      1961   \n",
       "1    Agricultural Use      3103  Nutrient phosphate P2O5 (total)      1961   \n",
       "2    Agricultural Use      3103  Nutrient phosphate P2O5 (total)      1962   \n",
       "3    Agricultural Use      3102      Nutrient nitrogen N (total)      1962   \n",
       "4    Agricultural Use      3102      Nutrient nitrogen N (total)      1963   \n",
       "..                ...       ...                              ...       ...   \n",
       "170  Agricultural Use      3102      Nutrient nitrogen N (total)      2019   \n",
       "171  Agricultural Use      3103  Nutrient phosphate P2O5 (total)      2019   \n",
       "172  Agricultural Use      3103  Nutrient phosphate P2O5 (total)      2020   \n",
       "173  Agricultural Use      3102      Nutrient nitrogen N (total)      2020   \n",
       "174  Agricultural Use      3104      Nutrient potash K2O (total)      2020   \n",
       "\n",
       "     Year    Unit    Value Flag  \\\n",
       "0    1961  tonnes    41659   Qm   \n",
       "1    1961  tonnes      500   Qm   \n",
       "2    1962  tonnes      210   Qm   \n",
       "3    1962  tonnes    41160   Qm   \n",
       "4    1963  tonnes    67620   Qm   \n",
       "..    ...     ...      ...  ...   \n",
       "170  2019  tonnes  3505356   Qm   \n",
       "171  2019  tonnes  1099707   Qm   \n",
       "172  2020  tonnes  1204060   Qm   \n",
       "173  2020  tonnes  3533784   Qm   \n",
       "174  2020  tonnes    60973   Qm   \n",
       "\n",
       "                                       FlagDescription  \n",
       "0    Official data from questionnaires and/or natio...  \n",
       "1    Official data from questionnaires and/or natio...  \n",
       "2    Official data from questionnaires and/or natio...  \n",
       "3    Official data from questionnaires and/or natio...  \n",
       "4    Official data from questionnaires and/or natio...  \n",
       "..                                                 ...  \n",
       "170  Official data from questionnaires and/or natio...  \n",
       "171  Official data from questionnaires and/or natio...  \n",
       "172  Official data from questionnaires and/or natio...  \n",
       "173  Official data from questionnaires and/or natio...  \n",
       "174  Official data from questionnaires and/or natio...  \n",
       "\n",
       "[175 rows x 14 columns]"
      ]
     },
     "execution_count": 6,
     "metadata": {},
     "output_type": "execute_result"
    }
   ],
   "source": [
    "df_fur = pd.read_csv('furtilizer_used.csv')\n",
    "df_fur"
   ]
  },
  {
   "cell_type": "code",
   "execution_count": 7,
   "metadata": {},
   "outputs": [
    {
     "data": {
      "text/html": [
       "<div>\n",
       "<style scoped>\n",
       "    .dataframe tbody tr th:only-of-type {\n",
       "        vertical-align: middle;\n",
       "    }\n",
       "\n",
       "    .dataframe tbody tr th {\n",
       "        vertical-align: top;\n",
       "    }\n",
       "\n",
       "    .dataframe thead th {\n",
       "        text-align: right;\n",
       "    }\n",
       "</style>\n",
       "<table border=\"1\" class=\"dataframe\">\n",
       "  <thead>\n",
       "    <tr style=\"text-align: right;\">\n",
       "      <th></th>\n",
       "      <th>DomainCode</th>\n",
       "      <th>Domain</th>\n",
       "      <th>AreaCode</th>\n",
       "      <th>Area</th>\n",
       "      <th>ElementCode</th>\n",
       "      <th>Element</th>\n",
       "      <th>ItemCode</th>\n",
       "      <th>Item</th>\n",
       "      <th>YearCode</th>\n",
       "      <th>Year</th>\n",
       "      <th>Unit</th>\n",
       "      <th>Value</th>\n",
       "      <th>Flag</th>\n",
       "      <th>FlagDescription</th>\n",
       "    </tr>\n",
       "  </thead>\n",
       "  <tbody>\n",
       "    <tr>\n",
       "      <th>0</th>\n",
       "      <td>RFN</td>\n",
       "      <td>Fertilizers by Nutrient</td>\n",
       "      <td>165</td>\n",
       "      <td>Pakistan</td>\n",
       "      <td>5157</td>\n",
       "      <td>Agricultural Use</td>\n",
       "      <td>3102</td>\n",
       "      <td>Nutrient nitrogen N (total)</td>\n",
       "      <td>1961</td>\n",
       "      <td>1961</td>\n",
       "      <td>tonnes</td>\n",
       "      <td>41659</td>\n",
       "      <td>Qm</td>\n",
       "      <td>Official data from questionnaires and/or natio...</td>\n",
       "    </tr>\n",
       "    <tr>\n",
       "      <th>1</th>\n",
       "      <td>RFN</td>\n",
       "      <td>Fertilizers by Nutrient</td>\n",
       "      <td>165</td>\n",
       "      <td>Pakistan</td>\n",
       "      <td>5157</td>\n",
       "      <td>Agricultural Use</td>\n",
       "      <td>3103</td>\n",
       "      <td>Nutrient phosphate P2O5 (total)</td>\n",
       "      <td>1961</td>\n",
       "      <td>1961</td>\n",
       "      <td>tonnes</td>\n",
       "      <td>500</td>\n",
       "      <td>Qm</td>\n",
       "      <td>Official data from questionnaires and/or natio...</td>\n",
       "    </tr>\n",
       "    <tr>\n",
       "      <th>2</th>\n",
       "      <td>RFN</td>\n",
       "      <td>Fertilizers by Nutrient</td>\n",
       "      <td>165</td>\n",
       "      <td>Pakistan</td>\n",
       "      <td>5157</td>\n",
       "      <td>Agricultural Use</td>\n",
       "      <td>3103</td>\n",
       "      <td>Nutrient phosphate P2O5 (total)</td>\n",
       "      <td>1962</td>\n",
       "      <td>1962</td>\n",
       "      <td>tonnes</td>\n",
       "      <td>210</td>\n",
       "      <td>Qm</td>\n",
       "      <td>Official data from questionnaires and/or natio...</td>\n",
       "    </tr>\n",
       "    <tr>\n",
       "      <th>3</th>\n",
       "      <td>RFN</td>\n",
       "      <td>Fertilizers by Nutrient</td>\n",
       "      <td>165</td>\n",
       "      <td>Pakistan</td>\n",
       "      <td>5157</td>\n",
       "      <td>Agricultural Use</td>\n",
       "      <td>3102</td>\n",
       "      <td>Nutrient nitrogen N (total)</td>\n",
       "      <td>1962</td>\n",
       "      <td>1962</td>\n",
       "      <td>tonnes</td>\n",
       "      <td>41160</td>\n",
       "      <td>Qm</td>\n",
       "      <td>Official data from questionnaires and/or natio...</td>\n",
       "    </tr>\n",
       "    <tr>\n",
       "      <th>4</th>\n",
       "      <td>RFN</td>\n",
       "      <td>Fertilizers by Nutrient</td>\n",
       "      <td>165</td>\n",
       "      <td>Pakistan</td>\n",
       "      <td>5157</td>\n",
       "      <td>Agricultural Use</td>\n",
       "      <td>3102</td>\n",
       "      <td>Nutrient nitrogen N (total)</td>\n",
       "      <td>1963</td>\n",
       "      <td>1963</td>\n",
       "      <td>tonnes</td>\n",
       "      <td>67620</td>\n",
       "      <td>Qm</td>\n",
       "      <td>Official data from questionnaires and/or natio...</td>\n",
       "    </tr>\n",
       "  </tbody>\n",
       "</table>\n",
       "</div>"
      ],
      "text/plain": [
       "  DomainCode                   Domain  AreaCode      Area  ElementCode  \\\n",
       "0        RFN  Fertilizers by Nutrient       165  Pakistan         5157   \n",
       "1        RFN  Fertilizers by Nutrient       165  Pakistan         5157   \n",
       "2        RFN  Fertilizers by Nutrient       165  Pakistan         5157   \n",
       "3        RFN  Fertilizers by Nutrient       165  Pakistan         5157   \n",
       "4        RFN  Fertilizers by Nutrient       165  Pakistan         5157   \n",
       "\n",
       "            Element  ItemCode                             Item  YearCode  \\\n",
       "0  Agricultural Use      3102      Nutrient nitrogen N (total)      1961   \n",
       "1  Agricultural Use      3103  Nutrient phosphate P2O5 (total)      1961   \n",
       "2  Agricultural Use      3103  Nutrient phosphate P2O5 (total)      1962   \n",
       "3  Agricultural Use      3102      Nutrient nitrogen N (total)      1962   \n",
       "4  Agricultural Use      3102      Nutrient nitrogen N (total)      1963   \n",
       "\n",
       "   Year    Unit  Value Flag                                    FlagDescription  \n",
       "0  1961  tonnes  41659   Qm  Official data from questionnaires and/or natio...  \n",
       "1  1961  tonnes    500   Qm  Official data from questionnaires and/or natio...  \n",
       "2  1962  tonnes    210   Qm  Official data from questionnaires and/or natio...  \n",
       "3  1962  tonnes  41160   Qm  Official data from questionnaires and/or natio...  \n",
       "4  1963  tonnes  67620   Qm  Official data from questionnaires and/or natio...  "
      ]
     },
     "execution_count": 7,
     "metadata": {},
     "output_type": "execute_result"
    }
   ],
   "source": [
    "df_fur.head()"
   ]
  },
  {
   "cell_type": "code",
   "execution_count": 8,
   "metadata": {},
   "outputs": [
    {
     "data": {
      "text/html": [
       "<div>\n",
       "<style scoped>\n",
       "    .dataframe tbody tr th:only-of-type {\n",
       "        vertical-align: middle;\n",
       "    }\n",
       "\n",
       "    .dataframe tbody tr th {\n",
       "        vertical-align: top;\n",
       "    }\n",
       "\n",
       "    .dataframe thead th {\n",
       "        text-align: right;\n",
       "    }\n",
       "</style>\n",
       "<table border=\"1\" class=\"dataframe\">\n",
       "  <thead>\n",
       "    <tr style=\"text-align: right;\">\n",
       "      <th></th>\n",
       "      <th>DomainCode</th>\n",
       "      <th>Domain</th>\n",
       "      <th>AreaCode</th>\n",
       "      <th>Area</th>\n",
       "      <th>ElementCode</th>\n",
       "      <th>Element</th>\n",
       "      <th>ItemCode</th>\n",
       "      <th>Item</th>\n",
       "      <th>YearCode</th>\n",
       "      <th>Year</th>\n",
       "      <th>Unit</th>\n",
       "      <th>Value</th>\n",
       "      <th>Flag</th>\n",
       "      <th>FlagDescription</th>\n",
       "    </tr>\n",
       "  </thead>\n",
       "  <tbody>\n",
       "    <tr>\n",
       "      <th>170</th>\n",
       "      <td>RFN</td>\n",
       "      <td>Fertilizers by Nutrient</td>\n",
       "      <td>165</td>\n",
       "      <td>Pakistan</td>\n",
       "      <td>5157</td>\n",
       "      <td>Agricultural Use</td>\n",
       "      <td>3102</td>\n",
       "      <td>Nutrient nitrogen N (total)</td>\n",
       "      <td>2019</td>\n",
       "      <td>2019</td>\n",
       "      <td>tonnes</td>\n",
       "      <td>3505356</td>\n",
       "      <td>Qm</td>\n",
       "      <td>Official data from questionnaires and/or natio...</td>\n",
       "    </tr>\n",
       "    <tr>\n",
       "      <th>171</th>\n",
       "      <td>RFN</td>\n",
       "      <td>Fertilizers by Nutrient</td>\n",
       "      <td>165</td>\n",
       "      <td>Pakistan</td>\n",
       "      <td>5157</td>\n",
       "      <td>Agricultural Use</td>\n",
       "      <td>3103</td>\n",
       "      <td>Nutrient phosphate P2O5 (total)</td>\n",
       "      <td>2019</td>\n",
       "      <td>2019</td>\n",
       "      <td>tonnes</td>\n",
       "      <td>1099707</td>\n",
       "      <td>Qm</td>\n",
       "      <td>Official data from questionnaires and/or natio...</td>\n",
       "    </tr>\n",
       "    <tr>\n",
       "      <th>172</th>\n",
       "      <td>RFN</td>\n",
       "      <td>Fertilizers by Nutrient</td>\n",
       "      <td>165</td>\n",
       "      <td>Pakistan</td>\n",
       "      <td>5157</td>\n",
       "      <td>Agricultural Use</td>\n",
       "      <td>3103</td>\n",
       "      <td>Nutrient phosphate P2O5 (total)</td>\n",
       "      <td>2020</td>\n",
       "      <td>2020</td>\n",
       "      <td>tonnes</td>\n",
       "      <td>1204060</td>\n",
       "      <td>Qm</td>\n",
       "      <td>Official data from questionnaires and/or natio...</td>\n",
       "    </tr>\n",
       "    <tr>\n",
       "      <th>173</th>\n",
       "      <td>RFN</td>\n",
       "      <td>Fertilizers by Nutrient</td>\n",
       "      <td>165</td>\n",
       "      <td>Pakistan</td>\n",
       "      <td>5157</td>\n",
       "      <td>Agricultural Use</td>\n",
       "      <td>3102</td>\n",
       "      <td>Nutrient nitrogen N (total)</td>\n",
       "      <td>2020</td>\n",
       "      <td>2020</td>\n",
       "      <td>tonnes</td>\n",
       "      <td>3533784</td>\n",
       "      <td>Qm</td>\n",
       "      <td>Official data from questionnaires and/or natio...</td>\n",
       "    </tr>\n",
       "    <tr>\n",
       "      <th>174</th>\n",
       "      <td>RFN</td>\n",
       "      <td>Fertilizers by Nutrient</td>\n",
       "      <td>165</td>\n",
       "      <td>Pakistan</td>\n",
       "      <td>5157</td>\n",
       "      <td>Agricultural Use</td>\n",
       "      <td>3104</td>\n",
       "      <td>Nutrient potash K2O (total)</td>\n",
       "      <td>2020</td>\n",
       "      <td>2020</td>\n",
       "      <td>tonnes</td>\n",
       "      <td>60973</td>\n",
       "      <td>Qm</td>\n",
       "      <td>Official data from questionnaires and/or natio...</td>\n",
       "    </tr>\n",
       "  </tbody>\n",
       "</table>\n",
       "</div>"
      ],
      "text/plain": [
       "    DomainCode                   Domain  AreaCode      Area  ElementCode  \\\n",
       "170        RFN  Fertilizers by Nutrient       165  Pakistan         5157   \n",
       "171        RFN  Fertilizers by Nutrient       165  Pakistan         5157   \n",
       "172        RFN  Fertilizers by Nutrient       165  Pakistan         5157   \n",
       "173        RFN  Fertilizers by Nutrient       165  Pakistan         5157   \n",
       "174        RFN  Fertilizers by Nutrient       165  Pakistan         5157   \n",
       "\n",
       "              Element  ItemCode                             Item  YearCode  \\\n",
       "170  Agricultural Use      3102      Nutrient nitrogen N (total)      2019   \n",
       "171  Agricultural Use      3103  Nutrient phosphate P2O5 (total)      2019   \n",
       "172  Agricultural Use      3103  Nutrient phosphate P2O5 (total)      2020   \n",
       "173  Agricultural Use      3102      Nutrient nitrogen N (total)      2020   \n",
       "174  Agricultural Use      3104      Nutrient potash K2O (total)      2020   \n",
       "\n",
       "     Year    Unit    Value Flag  \\\n",
       "170  2019  tonnes  3505356   Qm   \n",
       "171  2019  tonnes  1099707   Qm   \n",
       "172  2020  tonnes  1204060   Qm   \n",
       "173  2020  tonnes  3533784   Qm   \n",
       "174  2020  tonnes    60973   Qm   \n",
       "\n",
       "                                       FlagDescription  \n",
       "170  Official data from questionnaires and/or natio...  \n",
       "171  Official data from questionnaires and/or natio...  \n",
       "172  Official data from questionnaires and/or natio...  \n",
       "173  Official data from questionnaires and/or natio...  \n",
       "174  Official data from questionnaires and/or natio...  "
      ]
     },
     "execution_count": 8,
     "metadata": {},
     "output_type": "execute_result"
    }
   ],
   "source": [
    "df_fur.tail()"
   ]
  },
  {
   "cell_type": "code",
   "execution_count": 9,
   "metadata": {},
   "outputs": [
    {
     "data": {
      "text/html": [
       "<div>\n",
       "<style scoped>\n",
       "    .dataframe tbody tr th:only-of-type {\n",
       "        vertical-align: middle;\n",
       "    }\n",
       "\n",
       "    .dataframe tbody tr th {\n",
       "        vertical-align: top;\n",
       "    }\n",
       "\n",
       "    .dataframe thead th {\n",
       "        text-align: right;\n",
       "    }\n",
       "</style>\n",
       "<table border=\"1\" class=\"dataframe\">\n",
       "  <thead>\n",
       "    <tr style=\"text-align: right;\">\n",
       "      <th></th>\n",
       "      <th>AreaCode</th>\n",
       "      <th>ElementCode</th>\n",
       "      <th>ItemCode</th>\n",
       "      <th>YearCode</th>\n",
       "      <th>Year</th>\n",
       "      <th>Value</th>\n",
       "    </tr>\n",
       "  </thead>\n",
       "  <tbody>\n",
       "    <tr>\n",
       "      <th>count</th>\n",
       "      <td>175.0</td>\n",
       "      <td>175.0</td>\n",
       "      <td>175.000000</td>\n",
       "      <td>175.000000</td>\n",
       "      <td>175.000000</td>\n",
       "      <td>1.750000e+02</td>\n",
       "    </tr>\n",
       "    <tr>\n",
       "      <th>mean</th>\n",
       "      <td>165.0</td>\n",
       "      <td>5157.0</td>\n",
       "      <td>3102.971429</td>\n",
       "      <td>1991.285714</td>\n",
       "      <td>1991.285714</td>\n",
       "      <td>7.217510e+05</td>\n",
       "    </tr>\n",
       "    <tr>\n",
       "      <th>std</th>\n",
       "      <td>0.0</td>\n",
       "      <td>0.0</td>\n",
       "      <td>0.812464</td>\n",
       "      <td>16.966111</td>\n",
       "      <td>16.966111</td>\n",
       "      <td>9.879579e+05</td>\n",
       "    </tr>\n",
       "    <tr>\n",
       "      <th>min</th>\n",
       "      <td>165.0</td>\n",
       "      <td>5157.0</td>\n",
       "      <td>3102.000000</td>\n",
       "      <td>1961.000000</td>\n",
       "      <td>1961.000000</td>\n",
       "      <td>1.440000e+02</td>\n",
       "    </tr>\n",
       "    <tr>\n",
       "      <th>25%</th>\n",
       "      <td>165.0</td>\n",
       "      <td>5157.0</td>\n",
       "      <td>3102.000000</td>\n",
       "      <td>1977.000000</td>\n",
       "      <td>1977.000000</td>\n",
       "      <td>2.723100e+04</td>\n",
       "    </tr>\n",
       "    <tr>\n",
       "      <th>50%</th>\n",
       "      <td>165.0</td>\n",
       "      <td>5157.0</td>\n",
       "      <td>3103.000000</td>\n",
       "      <td>1991.000000</td>\n",
       "      <td>1991.000000</td>\n",
       "      <td>2.725660e+05</td>\n",
       "    </tr>\n",
       "    <tr>\n",
       "      <th>75%</th>\n",
       "      <td>165.0</td>\n",
       "      <td>5157.0</td>\n",
       "      <td>3104.000000</td>\n",
       "      <td>2006.000000</td>\n",
       "      <td>2006.000000</td>\n",
       "      <td>9.353230e+05</td>\n",
       "    </tr>\n",
       "    <tr>\n",
       "      <th>max</th>\n",
       "      <td>165.0</td>\n",
       "      <td>5157.0</td>\n",
       "      <td>3104.000000</td>\n",
       "      <td>2020.000000</td>\n",
       "      <td>2020.000000</td>\n",
       "      <td>3.533784e+06</td>\n",
       "    </tr>\n",
       "  </tbody>\n",
       "</table>\n",
       "</div>"
      ],
      "text/plain": [
       "       AreaCode  ElementCode     ItemCode     YearCode         Year  \\\n",
       "count     175.0        175.0   175.000000   175.000000   175.000000   \n",
       "mean      165.0       5157.0  3102.971429  1991.285714  1991.285714   \n",
       "std         0.0          0.0     0.812464    16.966111    16.966111   \n",
       "min       165.0       5157.0  3102.000000  1961.000000  1961.000000   \n",
       "25%       165.0       5157.0  3102.000000  1977.000000  1977.000000   \n",
       "50%       165.0       5157.0  3103.000000  1991.000000  1991.000000   \n",
       "75%       165.0       5157.0  3104.000000  2006.000000  2006.000000   \n",
       "max       165.0       5157.0  3104.000000  2020.000000  2020.000000   \n",
       "\n",
       "              Value  \n",
       "count  1.750000e+02  \n",
       "mean   7.217510e+05  \n",
       "std    9.879579e+05  \n",
       "min    1.440000e+02  \n",
       "25%    2.723100e+04  \n",
       "50%    2.725660e+05  \n",
       "75%    9.353230e+05  \n",
       "max    3.533784e+06  "
      ]
     },
     "execution_count": 9,
     "metadata": {},
     "output_type": "execute_result"
    }
   ],
   "source": [
    "df_fur.describe()"
   ]
  },
  {
   "cell_type": "code",
   "execution_count": 10,
   "metadata": {},
   "outputs": [
    {
     "data": {
      "text/plain": [
       "DomainCode           1\n",
       "Domain               1\n",
       "AreaCode             1\n",
       "Area                 1\n",
       "ElementCode          1\n",
       "Element              1\n",
       "ItemCode             3\n",
       "Item                 3\n",
       "YearCode            60\n",
       "Year                60\n",
       "Unit                 1\n",
       "Value              172\n",
       "Flag                 5\n",
       "FlagDescription      5\n",
       "dtype: int64"
      ]
     },
     "execution_count": 10,
     "metadata": {},
     "output_type": "execute_result"
    }
   ],
   "source": [
    "df_fur.nunique()"
   ]
  },
  {
   "cell_type": "code",
   "execution_count": 11,
   "metadata": {},
   "outputs": [
    {
     "data": {
      "text/plain": [
       "(175, 14)"
      ]
     },
     "execution_count": 11,
     "metadata": {},
     "output_type": "execute_result"
    }
   ],
   "source": [
    "df_fur.shape"
   ]
  },
  {
   "cell_type": "code",
   "execution_count": 12,
   "metadata": {},
   "outputs": [
    {
     "data": {
      "text/plain": [
       "DomainCode         0\n",
       "Domain             0\n",
       "AreaCode           0\n",
       "Area               0\n",
       "ElementCode        0\n",
       "Element            0\n",
       "ItemCode           0\n",
       "Item               0\n",
       "YearCode           0\n",
       "Year               0\n",
       "Unit               0\n",
       "Value              0\n",
       "Flag               0\n",
       "FlagDescription    0\n",
       "dtype: int64"
      ]
     },
     "execution_count": 12,
     "metadata": {},
     "output_type": "execute_result"
    }
   ],
   "source": [
    "df_fur.isnull().sum()"
   ]
  },
  {
   "cell_type": "code",
   "execution_count": 13,
   "metadata": {},
   "outputs": [
    {
     "data": {
      "text/plain": [
       "<AxesSubplot:xlabel='Item', ylabel='Value'>"
      ]
     },
     "execution_count": 13,
     "metadata": {},
     "output_type": "execute_result"
    },
    {
     "data": {
      "image/png": "[encoded data removed]",
      "text/plain": [
       "<Figure size 432x288 with 1 Axes>"
      ]
     },
     "metadata": {
      "needs_background": "light"
     },
     "output_type": "display_data"
    }
   ],
   "source": [
    "sns.boxplot(x='Item',y='Value',data=df_fur)"
   ]
  },
  {
   "cell_type": "code",
   "execution_count": 14,
   "metadata": {},
   "outputs": [
    {
     "data": {
      "text/plain": [
       "<seaborn.axisgrid.FacetGrid at 0x2254bd16740>"
      ]
     },
     "execution_count": 14,
     "metadata": {},
     "output_type": "execute_result"
    },
    {
     "data": {
      "image/png": "[encoded data removed]",
      "text/plain": [
       "<Figure size 360x360 with 1 Axes>"
      ]
     },
     "metadata": {
      "needs_background": "light"
     },
     "output_type": "display_data"
    }
   ],
   "source": [
    "sns.displot(df_fur['Value'])"
   ]
  },
  {
   "cell_type": "code",
   "execution_count": 15,
   "metadata": {},
   "outputs": [
    {
     "data": {
      "text/plain": [
       "array([[<AxesSubplot:title={'center':'AreaCode'}>,\n",
       "        <AxesSubplot:title={'center':'ElementCode'}>],\n",
       "       [<AxesSubplot:title={'center':'ItemCode'}>,\n",
       "        <AxesSubplot:title={'center':'YearCode'}>],\n",
       "       [<AxesSubplot:title={'center':'Year'}>,\n",
       "        <AxesSubplot:title={'center':'Value'}>]], dtype=object)"
      ]
     },
     "execution_count": 15,
     "metadata": {},
     "output_type": "execute_result"
    },
    {
     "data": {
      "image/png": "[encoded data removed]",
      "text/plain": [
       "<Figure size 432x288 with 6 Axes>"
      ]
     },
     "metadata": {
      "needs_background": "light"
     },
     "output_type": "display_data"
    }
   ],
   "source": [
    "df_fur.hist()"
   ]
  },
  {
   "cell_type": "code",
   "execution_count": 16,
   "metadata": {},
   "outputs": [
    {
     "data": {
      "text/plain": [
       "<AxesSubplot:>"
      ]
     },
     "execution_count": 16,
     "metadata": {},
     "output_type": "execute_result"
    },
    {
     "data": {
      "image/png": "[encoded data removed]",
      "text/plain": [
       "<Figure size 432x288 with 1 Axes>"
      ]
     },
     "metadata": {
      "needs_background": "light"
     },
     "output_type": "display_data"
    }
   ],
   "source": [
    "pd.value_counts(df_fur['Item']).plot.bar()"
   ]
  },
  {
   "cell_type": "code",
   "execution_count": 17,
   "metadata": {},
   "outputs": [
    {
     "data": {
      "text/html": [
       "<div>\n",
       "<style scoped>\n",
       "    .dataframe tbody tr th:only-of-type {\n",
       "        vertical-align: middle;\n",
       "    }\n",
       "\n",
       "    .dataframe tbody tr th {\n",
       "        vertical-align: top;\n",
       "    }\n",
       "\n",
       "    .dataframe thead th {\n",
       "        text-align: right;\n",
       "    }\n",
       "</style>\n",
       "<table border=\"1\" class=\"dataframe\">\n",
       "  <thead>\n",
       "    <tr style=\"text-align: right;\">\n",
       "      <th></th>\n",
       "      <th>AreaCode</th>\n",
       "      <th>ElementCode</th>\n",
       "      <th>ItemCode</th>\n",
       "      <th>YearCode</th>\n",
       "      <th>Year</th>\n",
       "      <th>Value</th>\n",
       "    </tr>\n",
       "  </thead>\n",
       "  <tbody>\n",
       "    <tr>\n",
       "      <th>AreaCode</th>\n",
       "      <td>NaN</td>\n",
       "      <td>NaN</td>\n",
       "      <td>NaN</td>\n",
       "      <td>NaN</td>\n",
       "      <td>NaN</td>\n",
       "      <td>NaN</td>\n",
       "    </tr>\n",
       "    <tr>\n",
       "      <th>ElementCode</th>\n",
       "      <td>NaN</td>\n",
       "      <td>NaN</td>\n",
       "      <td>NaN</td>\n",
       "      <td>NaN</td>\n",
       "      <td>NaN</td>\n",
       "      <td>NaN</td>\n",
       "    </tr>\n",
       "    <tr>\n",
       "      <th>ItemCode</th>\n",
       "      <td>NaN</td>\n",
       "      <td>NaN</td>\n",
       "      <td>1.000000</td>\n",
       "      <td>0.058966</td>\n",
       "      <td>0.058966</td>\n",
       "      <td>-0.666079</td>\n",
       "    </tr>\n",
       "    <tr>\n",
       "      <th>YearCode</th>\n",
       "      <td>NaN</td>\n",
       "      <td>NaN</td>\n",
       "      <td>0.058966</td>\n",
       "      <td>1.000000</td>\n",
       "      <td>1.000000</td>\n",
       "      <td>0.505252</td>\n",
       "    </tr>\n",
       "    <tr>\n",
       "      <th>Year</th>\n",
       "      <td>NaN</td>\n",
       "      <td>NaN</td>\n",
       "      <td>0.058966</td>\n",
       "      <td>1.000000</td>\n",
       "      <td>1.000000</td>\n",
       "      <td>0.505252</td>\n",
       "    </tr>\n",
       "    <tr>\n",
       "      <th>Value</th>\n",
       "      <td>NaN</td>\n",
       "      <td>NaN</td>\n",
       "      <td>-0.666079</td>\n",
       "      <td>0.505252</td>\n",
       "      <td>0.505252</td>\n",
       "      <td>1.000000</td>\n",
       "    </tr>\n",
       "  </tbody>\n",
       "</table>\n",
       "</div>"
      ],
      "text/plain": [
       "             AreaCode  ElementCode  ItemCode  YearCode      Year     Value\n",
       "AreaCode          NaN          NaN       NaN       NaN       NaN       NaN\n",
       "ElementCode       NaN          NaN       NaN       NaN       NaN       NaN\n",
       "ItemCode          NaN          NaN  1.000000  0.058966  0.058966 -0.666079\n",
       "YearCode          NaN          NaN  0.058966  1.000000  1.000000  0.505252\n",
       "Year              NaN          NaN  0.058966  1.000000  1.000000  0.505252\n",
       "Value             NaN          NaN -0.666079  0.505252  0.505252  1.000000"
      ]
     },
     "execution_count": 17,
     "metadata": {},
     "output_type": "execute_result"
    }
   ],
   "source": [
    "cor_df_furn = df_fur.corr()\n",
    "cor_df_furn"
   ]
  },
  {
   "cell_type": "code",
   "execution_count": 18,
   "metadata": {},
   "outputs": [],
   "source": [
    "df_fur_clean= df_fur.drop(['ElementCode'],axis=1)\n"
   ]
  },
  {
   "cell_type": "code",
   "execution_count": 19,
   "metadata": {},
   "outputs": [
    {
     "data": {
      "text/html": [
       "<div>\n",
       "<style scoped>\n",
       "    .dataframe tbody tr th:only-of-type {\n",
       "        vertical-align: middle;\n",
       "    }\n",
       "\n",
       "    .dataframe tbody tr th {\n",
       "        vertical-align: top;\n",
       "    }\n",
       "\n",
       "    .dataframe thead th {\n",
       "        text-align: right;\n",
       "    }\n",
       "</style>\n",
       "<table border=\"1\" class=\"dataframe\">\n",
       "  <thead>\n",
       "    <tr style=\"text-align: right;\">\n",
       "      <th></th>\n",
       "      <th>DomainCode</th>\n",
       "      <th>Domain</th>\n",
       "      <th>AreaCode</th>\n",
       "      <th>Area</th>\n",
       "      <th>Element</th>\n",
       "      <th>ItemCode</th>\n",
       "      <th>Item</th>\n",
       "      <th>YearCode</th>\n",
       "      <th>Year</th>\n",
       "      <th>Unit</th>\n",
       "      <th>Value</th>\n",
       "      <th>Flag</th>\n",
       "      <th>FlagDescription</th>\n",
       "    </tr>\n",
       "  </thead>\n",
       "  <tbody>\n",
       "    <tr>\n",
       "      <th>0</th>\n",
       "      <td>RFN</td>\n",
       "      <td>Fertilizers by Nutrient</td>\n",
       "      <td>165</td>\n",
       "      <td>Pakistan</td>\n",
       "      <td>Agricultural Use</td>\n",
       "      <td>3102</td>\n",
       "      <td>Nutrient nitrogen N (total)</td>\n",
       "      <td>1961</td>\n",
       "      <td>1961</td>\n",
       "      <td>tonnes</td>\n",
       "      <td>41659</td>\n",
       "      <td>Qm</td>\n",
       "      <td>Official data from questionnaires and/or natio...</td>\n",
       "    </tr>\n",
       "    <tr>\n",
       "      <th>1</th>\n",
       "      <td>RFN</td>\n",
       "      <td>Fertilizers by Nutrient</td>\n",
       "      <td>165</td>\n",
       "      <td>Pakistan</td>\n",
       "      <td>Agricultural Use</td>\n",
       "      <td>3103</td>\n",
       "      <td>Nutrient phosphate P2O5 (total)</td>\n",
       "      <td>1961</td>\n",
       "      <td>1961</td>\n",
       "      <td>tonnes</td>\n",
       "      <td>500</td>\n",
       "      <td>Qm</td>\n",
       "      <td>Official data from questionnaires and/or natio...</td>\n",
       "    </tr>\n",
       "    <tr>\n",
       "      <th>2</th>\n",
       "      <td>RFN</td>\n",
       "      <td>Fertilizers by Nutrient</td>\n",
       "      <td>165</td>\n",
       "      <td>Pakistan</td>\n",
       "      <td>Agricultural Use</td>\n",
       "      <td>3103</td>\n",
       "      <td>Nutrient phosphate P2O5 (total)</td>\n",
       "      <td>1962</td>\n",
       "      <td>1962</td>\n",
       "      <td>tonnes</td>\n",
       "      <td>210</td>\n",
       "      <td>Qm</td>\n",
       "      <td>Official data from questionnaires and/or natio...</td>\n",
       "    </tr>\n",
       "    <tr>\n",
       "      <th>3</th>\n",
       "      <td>RFN</td>\n",
       "      <td>Fertilizers by Nutrient</td>\n",
       "      <td>165</td>\n",
       "      <td>Pakistan</td>\n",
       "      <td>Agricultural Use</td>\n",
       "      <td>3102</td>\n",
       "      <td>Nutrient nitrogen N (total)</td>\n",
       "      <td>1962</td>\n",
       "      <td>1962</td>\n",
       "      <td>tonnes</td>\n",
       "      <td>41160</td>\n",
       "      <td>Qm</td>\n",
       "      <td>Official data from questionnaires and/or natio...</td>\n",
       "    </tr>\n",
       "    <tr>\n",
       "      <th>4</th>\n",
       "      <td>RFN</td>\n",
       "      <td>Fertilizers by Nutrient</td>\n",
       "      <td>165</td>\n",
       "      <td>Pakistan</td>\n",
       "      <td>Agricultural Use</td>\n",
       "      <td>3102</td>\n",
       "      <td>Nutrient nitrogen N (total)</td>\n",
       "      <td>1963</td>\n",
       "      <td>1963</td>\n",
       "      <td>tonnes</td>\n",
       "      <td>67620</td>\n",
       "      <td>Qm</td>\n",
       "      <td>Official data from questionnaires and/or natio...</td>\n",
       "    </tr>\n",
       "    <tr>\n",
       "      <th>...</th>\n",
       "      <td>...</td>\n",
       "      <td>...</td>\n",
       "      <td>...</td>\n",
       "      <td>...</td>\n",
       "      <td>...</td>\n",
       "      <td>...</td>\n",
       "      <td>...</td>\n",
       "      <td>...</td>\n",
       "      <td>...</td>\n",
       "      <td>...</td>\n",
       "      <td>...</td>\n",
       "      <td>...</td>\n",
       "      <td>...</td>\n",
       "    </tr>\n",
       "    <tr>\n",
       "      <th>170</th>\n",
       "      <td>RFN</td>\n",
       "      <td>Fertilizers by Nutrient</td>\n",
       "      <td>165</td>\n",
       "      <td>Pakistan</td>\n",
       "      <td>Agricultural Use</td>\n",
       "      <td>3102</td>\n",
       "      <td>Nutrient nitrogen N (total)</td>\n",
       "      <td>2019</td>\n",
       "      <td>2019</td>\n",
       "      <td>tonnes</td>\n",
       "      <td>3505356</td>\n",
       "      <td>Qm</td>\n",
       "      <td>Official data from questionnaires and/or natio...</td>\n",
       "    </tr>\n",
       "    <tr>\n",
       "      <th>171</th>\n",
       "      <td>RFN</td>\n",
       "      <td>Fertilizers by Nutrient</td>\n",
       "      <td>165</td>\n",
       "      <td>Pakistan</td>\n",
       "      <td>Agricultural Use</td>\n",
       "      <td>3103</td>\n",
       "      <td>Nutrient phosphate P2O5 (total)</td>\n",
       "      <td>2019</td>\n",
       "      <td>2019</td>\n",
       "      <td>tonnes</td>\n",
       "      <td>1099707</td>\n",
       "      <td>Qm</td>\n",
       "      <td>Official data from questionnaires and/or natio...</td>\n",
       "    </tr>\n",
       "    <tr>\n",
       "      <th>172</th>\n",
       "      <td>RFN</td>\n",
       "      <td>Fertilizers by Nutrient</td>\n",
       "      <td>165</td>\n",
       "      <td>Pakistan</td>\n",
       "      <td>Agricultural Use</td>\n",
       "      <td>3103</td>\n",
       "      <td>Nutrient phosphate P2O5 (total)</td>\n",
       "      <td>2020</td>\n",
       "      <td>2020</td>\n",
       "      <td>tonnes</td>\n",
       "      <td>1204060</td>\n",
       "      <td>Qm</td>\n",
       "      <td>Official data from questionnaires and/or natio...</td>\n",
       "    </tr>\n",
       "    <tr>\n",
       "      <th>173</th>\n",
       "      <td>RFN</td>\n",
       "      <td>Fertilizers by Nutrient</td>\n",
       "      <td>165</td>\n",
       "      <td>Pakistan</td>\n",
       "      <td>Agricultural Use</td>\n",
       "      <td>3102</td>\n",
       "      <td>Nutrient nitrogen N (total)</td>\n",
       "      <td>2020</td>\n",
       "      <td>2020</td>\n",
       "      <td>tonnes</td>\n",
       "      <td>3533784</td>\n",
       "      <td>Qm</td>\n",
       "      <td>Official data from questionnaires and/or natio...</td>\n",
       "    </tr>\n",
       "    <tr>\n",
       "      <th>174</th>\n",
       "      <td>RFN</td>\n",
       "      <td>Fertilizers by Nutrient</td>\n",
       "      <td>165</td>\n",
       "      <td>Pakistan</td>\n",
       "      <td>Agricultural Use</td>\n",
       "      <td>3104</td>\n",
       "      <td>Nutrient potash K2O (total)</td>\n",
       "      <td>2020</td>\n",
       "      <td>2020</td>\n",
       "      <td>tonnes</td>\n",
       "      <td>60973</td>\n",
       "      <td>Qm</td>\n",
       "      <td>Official data from questionnaires and/or natio...</td>\n",
       "    </tr>\n",
       "  </tbody>\n",
       "</table>\n",
       "<p>175 rows × 13 columns</p>\n",
       "</div>"
      ],
      "text/plain": [
       "    DomainCode                   Domain  AreaCode      Area           Element  \\\n",
       "0          RFN  Fertilizers by Nutrient       165  Pakistan  Agricultural Use   \n",
       "1          RFN  Fertilizers by Nutrient       165  Pakistan  Agricultural Use   \n",
       "2          RFN  Fertilizers by Nutrient       165  Pakistan  Agricultural Use   \n",
       "3          RFN  Fertilizers by Nutrient       165  Pakistan  Agricultural Use   \n",
       "4          RFN  Fertilizers by Nutrient       165  Pakistan  Agricultural Use   \n",
       "..         ...                      ...       ...       ...               ...   \n",
       "170        RFN  Fertilizers by Nutrient       165  Pakistan  Agricultural Use   \n",
       "171        RFN  Fertilizers by Nutrient       165  Pakistan  Agricultural Use   \n",
       "172        RFN  Fertilizers by Nutrient       165  Pakistan  Agricultural Use   \n",
       "173        RFN  Fertilizers by Nutrient       165  Pakistan  Agricultural Use   \n",
       "174        RFN  Fertilizers by Nutrient       165  Pakistan  Agricultural Use   \n",
       "\n",
       "     ItemCode                             Item  YearCode  Year    Unit  \\\n",
       "0        3102      Nutrient nitrogen N (total)      1961  1961  tonnes   \n",
       "1        3103  Nutrient phosphate P2O5 (total)      1961  1961  tonnes   \n",
       "2        3103  Nutrient phosphate P2O5 (total)      1962  1962  tonnes   \n",
       "3        3102      Nutrient nitrogen N (total)      1962  1962  tonnes   \n",
       "4        3102      Nutrient nitrogen N (total)      1963  1963  tonnes   \n",
       "..        ...                              ...       ...   ...     ...   \n",
       "170      3102      Nutrient nitrogen N (total)      2019  2019  tonnes   \n",
       "171      3103  Nutrient phosphate P2O5 (total)      2019  2019  tonnes   \n",
       "172      3103  Nutrient phosphate P2O5 (total)      2020  2020  tonnes   \n",
       "173      3102      Nutrient nitrogen N (total)      2020  2020  tonnes   \n",
       "174      3104      Nutrient potash K2O (total)      2020  2020  tonnes   \n",
       "\n",
       "       Value Flag                                    FlagDescription  \n",
       "0      41659   Qm  Official data from questionnaires and/or natio...  \n",
       "1        500   Qm  Official data from questionnaires and/or natio...  \n",
       "2        210   Qm  Official data from questionnaires and/or natio...  \n",
       "3      41160   Qm  Official data from questionnaires and/or natio...  \n",
       "4      67620   Qm  Official data from questionnaires and/or natio...  \n",
       "..       ...  ...                                                ...  \n",
       "170  3505356   Qm  Official data from questionnaires and/or natio...  \n",
       "171  1099707   Qm  Official data from questionnaires and/or natio...  \n",
       "172  1204060   Qm  Official data from questionnaires and/or natio...  \n",
       "173  3533784   Qm  Official data from questionnaires and/or natio...  \n",
       "174    60973   Qm  Official data from questionnaires and/or natio...  \n",
       "\n",
       "[175 rows x 13 columns]"
      ]
     },
     "execution_count": 19,
     "metadata": {},
     "output_type": "execute_result"
    }
   ],
   "source": [
    "df_fur_clean"
   ]
  },
  {
   "cell_type": "code",
   "execution_count": 20,
   "metadata": {},
   "outputs": [
    {
     "data": {
      "text/html": [
       "<div>\n",
       "<style scoped>\n",
       "    .dataframe tbody tr th:only-of-type {\n",
       "        vertical-align: middle;\n",
       "    }\n",
       "\n",
       "    .dataframe tbody tr th {\n",
       "        vertical-align: top;\n",
       "    }\n",
       "\n",
       "    .dataframe thead th {\n",
       "        text-align: right;\n",
       "    }\n",
       "</style>\n",
       "<table border=\"1\" class=\"dataframe\">\n",
       "  <thead>\n",
       "    <tr style=\"text-align: right;\">\n",
       "      <th></th>\n",
       "      <th>AreaCode</th>\n",
       "      <th>ItemCode</th>\n",
       "      <th>YearCode</th>\n",
       "      <th>Year</th>\n",
       "      <th>Value</th>\n",
       "    </tr>\n",
       "  </thead>\n",
       "  <tbody>\n",
       "    <tr>\n",
       "      <th>AreaCode</th>\n",
       "      <td>NaN</td>\n",
       "      <td>NaN</td>\n",
       "      <td>NaN</td>\n",
       "      <td>NaN</td>\n",
       "      <td>NaN</td>\n",
       "    </tr>\n",
       "    <tr>\n",
       "      <th>ItemCode</th>\n",
       "      <td>NaN</td>\n",
       "      <td>1.000000</td>\n",
       "      <td>0.058966</td>\n",
       "      <td>0.058966</td>\n",
       "      <td>-0.666079</td>\n",
       "    </tr>\n",
       "    <tr>\n",
       "      <th>YearCode</th>\n",
       "      <td>NaN</td>\n",
       "      <td>0.058966</td>\n",
       "      <td>1.000000</td>\n",
       "      <td>1.000000</td>\n",
       "      <td>0.505252</td>\n",
       "    </tr>\n",
       "    <tr>\n",
       "      <th>Year</th>\n",
       "      <td>NaN</td>\n",
       "      <td>0.058966</td>\n",
       "      <td>1.000000</td>\n",
       "      <td>1.000000</td>\n",
       "      <td>0.505252</td>\n",
       "    </tr>\n",
       "    <tr>\n",
       "      <th>Value</th>\n",
       "      <td>NaN</td>\n",
       "      <td>-0.666079</td>\n",
       "      <td>0.505252</td>\n",
       "      <td>0.505252</td>\n",
       "      <td>1.000000</td>\n",
       "    </tr>\n",
       "  </tbody>\n",
       "</table>\n",
       "</div>"
      ],
      "text/plain": [
       "          AreaCode  ItemCode  YearCode      Year     Value\n",
       "AreaCode       NaN       NaN       NaN       NaN       NaN\n",
       "ItemCode       NaN  1.000000  0.058966  0.058966 -0.666079\n",
       "YearCode       NaN  0.058966  1.000000  1.000000  0.505252\n",
       "Year           NaN  0.058966  1.000000  1.000000  0.505252\n",
       "Value          NaN -0.666079  0.505252  0.505252  1.000000"
      ]
     },
     "execution_count": 20,
     "metadata": {},
     "output_type": "execute_result"
    }
   ],
   "source": [
    "cor_df_furn = df_fur_clean.corr()\n",
    "cor_df_furn"
   ]
  },
  {
   "cell_type": "code",
   "execution_count": 21,
   "metadata": {},
   "outputs": [],
   "source": [
    "df_fur_clean = df_fur.drop(['AreaCode'],axis=1)"
   ]
  },
  {
   "cell_type": "code",
   "execution_count": 22,
   "metadata": {},
   "outputs": [
    {
     "data": {
      "text/html": [
       "<div>\n",
       "<style scoped>\n",
       "    .dataframe tbody tr th:only-of-type {\n",
       "        vertical-align: middle;\n",
       "    }\n",
       "\n",
       "    .dataframe tbody tr th {\n",
       "        vertical-align: top;\n",
       "    }\n",
       "\n",
       "    .dataframe thead th {\n",
       "        text-align: right;\n",
       "    }\n",
       "</style>\n",
       "<table border=\"1\" class=\"dataframe\">\n",
       "  <thead>\n",
       "    <tr style=\"text-align: right;\">\n",
       "      <th></th>\n",
       "      <th>DomainCode</th>\n",
       "      <th>Domain</th>\n",
       "      <th>Area</th>\n",
       "      <th>ElementCode</th>\n",
       "      <th>Element</th>\n",
       "      <th>ItemCode</th>\n",
       "      <th>Item</th>\n",
       "      <th>YearCode</th>\n",
       "      <th>Year</th>\n",
       "      <th>Unit</th>\n",
       "      <th>Value</th>\n",
       "      <th>Flag</th>\n",
       "      <th>FlagDescription</th>\n",
       "    </tr>\n",
       "  </thead>\n",
       "  <tbody>\n",
       "    <tr>\n",
       "      <th>0</th>\n",
       "      <td>RFN</td>\n",
       "      <td>Fertilizers by Nutrient</td>\n",
       "      <td>Pakistan</td>\n",
       "      <td>5157</td>\n",
       "      <td>Agricultural Use</td>\n",
       "      <td>3102</td>\n",
       "      <td>Nutrient nitrogen N (total)</td>\n",
       "      <td>1961</td>\n",
       "      <td>1961</td>\n",
       "      <td>tonnes</td>\n",
       "      <td>41659</td>\n",
       "      <td>Qm</td>\n",
       "      <td>Official data from questionnaires and/or natio...</td>\n",
       "    </tr>\n",
       "    <tr>\n",
       "      <th>1</th>\n",
       "      <td>RFN</td>\n",
       "      <td>Fertilizers by Nutrient</td>\n",
       "      <td>Pakistan</td>\n",
       "      <td>5157</td>\n",
       "      <td>Agricultural Use</td>\n",
       "      <td>3103</td>\n",
       "      <td>Nutrient phosphate P2O5 (total)</td>\n",
       "      <td>1961</td>\n",
       "      <td>1961</td>\n",
       "      <td>tonnes</td>\n",
       "      <td>500</td>\n",
       "      <td>Qm</td>\n",
       "      <td>Official data from questionnaires and/or natio...</td>\n",
       "    </tr>\n",
       "    <tr>\n",
       "      <th>2</th>\n",
       "      <td>RFN</td>\n",
       "      <td>Fertilizers by Nutrient</td>\n",
       "      <td>Pakistan</td>\n",
       "      <td>5157</td>\n",
       "      <td>Agricultural Use</td>\n",
       "      <td>3103</td>\n",
       "      <td>Nutrient phosphate P2O5 (total)</td>\n",
       "      <td>1962</td>\n",
       "      <td>1962</td>\n",
       "      <td>tonnes</td>\n",
       "      <td>210</td>\n",
       "      <td>Qm</td>\n",
       "      <td>Official data from questionnaires and/or natio...</td>\n",
       "    </tr>\n",
       "  </tbody>\n",
       "</table>\n",
       "</div>"
      ],
      "text/plain": [
       "  DomainCode                   Domain      Area  ElementCode  \\\n",
       "0        RFN  Fertilizers by Nutrient  Pakistan         5157   \n",
       "1        RFN  Fertilizers by Nutrient  Pakistan         5157   \n",
       "2        RFN  Fertilizers by Nutrient  Pakistan         5157   \n",
       "\n",
       "            Element  ItemCode                             Item  YearCode  \\\n",
       "0  Agricultural Use      3102      Nutrient nitrogen N (total)      1961   \n",
       "1  Agricultural Use      3103  Nutrient phosphate P2O5 (total)      1961   \n",
       "2  Agricultural Use      3103  Nutrient phosphate P2O5 (total)      1962   \n",
       "\n",
       "   Year    Unit  Value Flag                                    FlagDescription  \n",
       "0  1961  tonnes  41659   Qm  Official data from questionnaires and/or natio...  \n",
       "1  1961  tonnes    500   Qm  Official data from questionnaires and/or natio...  \n",
       "2  1962  tonnes    210   Qm  Official data from questionnaires and/or natio...  "
      ]
     },
     "execution_count": 22,
     "metadata": {},
     "output_type": "execute_result"
    }
   ],
   "source": [
    "df_fur_clean.head(3)"
   ]
  },
  {
   "cell_type": "code",
   "execution_count": 23,
   "metadata": {},
   "outputs": [
    {
     "data": {
      "text/html": [
       "<div>\n",
       "<style scoped>\n",
       "    .dataframe tbody tr th:only-of-type {\n",
       "        vertical-align: middle;\n",
       "    }\n",
       "\n",
       "    .dataframe tbody tr th {\n",
       "        vertical-align: top;\n",
       "    }\n",
       "\n",
       "    .dataframe thead th {\n",
       "        text-align: right;\n",
       "    }\n",
       "</style>\n",
       "<table border=\"1\" class=\"dataframe\">\n",
       "  <thead>\n",
       "    <tr style=\"text-align: right;\">\n",
       "      <th></th>\n",
       "      <th>ElementCode</th>\n",
       "      <th>ItemCode</th>\n",
       "      <th>YearCode</th>\n",
       "      <th>Year</th>\n",
       "      <th>Value</th>\n",
       "    </tr>\n",
       "  </thead>\n",
       "  <tbody>\n",
       "    <tr>\n",
       "      <th>ElementCode</th>\n",
       "      <td>NaN</td>\n",
       "      <td>NaN</td>\n",
       "      <td>NaN</td>\n",
       "      <td>NaN</td>\n",
       "      <td>NaN</td>\n",
       "    </tr>\n",
       "    <tr>\n",
       "      <th>ItemCode</th>\n",
       "      <td>NaN</td>\n",
       "      <td>1.000000</td>\n",
       "      <td>0.058966</td>\n",
       "      <td>0.058966</td>\n",
       "      <td>-0.666079</td>\n",
       "    </tr>\n",
       "    <tr>\n",
       "      <th>YearCode</th>\n",
       "      <td>NaN</td>\n",
       "      <td>0.058966</td>\n",
       "      <td>1.000000</td>\n",
       "      <td>1.000000</td>\n",
       "      <td>0.505252</td>\n",
       "    </tr>\n",
       "    <tr>\n",
       "      <th>Year</th>\n",
       "      <td>NaN</td>\n",
       "      <td>0.058966</td>\n",
       "      <td>1.000000</td>\n",
       "      <td>1.000000</td>\n",
       "      <td>0.505252</td>\n",
       "    </tr>\n",
       "    <tr>\n",
       "      <th>Value</th>\n",
       "      <td>NaN</td>\n",
       "      <td>-0.666079</td>\n",
       "      <td>0.505252</td>\n",
       "      <td>0.505252</td>\n",
       "      <td>1.000000</td>\n",
       "    </tr>\n",
       "  </tbody>\n",
       "</table>\n",
       "</div>"
      ],
      "text/plain": [
       "             ElementCode  ItemCode  YearCode      Year     Value\n",
       "ElementCode          NaN       NaN       NaN       NaN       NaN\n",
       "ItemCode             NaN  1.000000  0.058966  0.058966 -0.666079\n",
       "YearCode             NaN  0.058966  1.000000  1.000000  0.505252\n",
       "Year                 NaN  0.058966  1.000000  1.000000  0.505252\n",
       "Value                NaN -0.666079  0.505252  0.505252  1.000000"
      ]
     },
     "execution_count": 23,
     "metadata": {},
     "output_type": "execute_result"
    }
   ],
   "source": [
    "cor_df_furn = df_fur_clean.corr()\n",
    "cor_df_furn"
   ]
  },
  {
   "cell_type": "code",
   "execution_count": 24,
   "metadata": {},
   "outputs": [],
   "source": [
    "df_fur_clean = df_fur.drop(['ElementCode','AreaCode'],axis=1)"
   ]
  },
  {
   "cell_type": "code",
   "execution_count": 25,
   "metadata": {},
   "outputs": [
    {
     "data": {
      "text/html": [
       "<div>\n",
       "<style scoped>\n",
       "    .dataframe tbody tr th:only-of-type {\n",
       "        vertical-align: middle;\n",
       "    }\n",
       "\n",
       "    .dataframe tbody tr th {\n",
       "        vertical-align: top;\n",
       "    }\n",
       "\n",
       "    .dataframe thead th {\n",
       "        text-align: right;\n",
       "    }\n",
       "</style>\n",
       "<table border=\"1\" class=\"dataframe\">\n",
       "  <thead>\n",
       "    <tr style=\"text-align: right;\">\n",
       "      <th></th>\n",
       "      <th>DomainCode</th>\n",
       "      <th>Domain</th>\n",
       "      <th>Area</th>\n",
       "      <th>Element</th>\n",
       "      <th>ItemCode</th>\n",
       "      <th>Item</th>\n",
       "      <th>YearCode</th>\n",
       "      <th>Year</th>\n",
       "      <th>Unit</th>\n",
       "      <th>Value</th>\n",
       "      <th>Flag</th>\n",
       "      <th>FlagDescription</th>\n",
       "    </tr>\n",
       "  </thead>\n",
       "  <tbody>\n",
       "    <tr>\n",
       "      <th>0</th>\n",
       "      <td>RFN</td>\n",
       "      <td>Fertilizers by Nutrient</td>\n",
       "      <td>Pakistan</td>\n",
       "      <td>Agricultural Use</td>\n",
       "      <td>3102</td>\n",
       "      <td>Nutrient nitrogen N (total)</td>\n",
       "      <td>1961</td>\n",
       "      <td>1961</td>\n",
       "      <td>tonnes</td>\n",
       "      <td>41659</td>\n",
       "      <td>Qm</td>\n",
       "      <td>Official data from questionnaires and/or natio...</td>\n",
       "    </tr>\n",
       "    <tr>\n",
       "      <th>1</th>\n",
       "      <td>RFN</td>\n",
       "      <td>Fertilizers by Nutrient</td>\n",
       "      <td>Pakistan</td>\n",
       "      <td>Agricultural Use</td>\n",
       "      <td>3103</td>\n",
       "      <td>Nutrient phosphate P2O5 (total)</td>\n",
       "      <td>1961</td>\n",
       "      <td>1961</td>\n",
       "      <td>tonnes</td>\n",
       "      <td>500</td>\n",
       "      <td>Qm</td>\n",
       "      <td>Official data from questionnaires and/or natio...</td>\n",
       "    </tr>\n",
       "    <tr>\n",
       "      <th>2</th>\n",
       "      <td>RFN</td>\n",
       "      <td>Fertilizers by Nutrient</td>\n",
       "      <td>Pakistan</td>\n",
       "      <td>Agricultural Use</td>\n",
       "      <td>3103</td>\n",
       "      <td>Nutrient phosphate P2O5 (total)</td>\n",
       "      <td>1962</td>\n",
       "      <td>1962</td>\n",
       "      <td>tonnes</td>\n",
       "      <td>210</td>\n",
       "      <td>Qm</td>\n",
       "      <td>Official data from questionnaires and/or natio...</td>\n",
       "    </tr>\n",
       "    <tr>\n",
       "      <th>3</th>\n",
       "      <td>RFN</td>\n",
       "      <td>Fertilizers by Nutrient</td>\n",
       "      <td>Pakistan</td>\n",
       "      <td>Agricultural Use</td>\n",
       "      <td>3102</td>\n",
       "      <td>Nutrient nitrogen N (total)</td>\n",
       "      <td>1962</td>\n",
       "      <td>1962</td>\n",
       "      <td>tonnes</td>\n",
       "      <td>41160</td>\n",
       "      <td>Qm</td>\n",
       "      <td>Official data from questionnaires and/or natio...</td>\n",
       "    </tr>\n",
       "    <tr>\n",
       "      <th>4</th>\n",
       "      <td>RFN</td>\n",
       "      <td>Fertilizers by Nutrient</td>\n",
       "      <td>Pakistan</td>\n",
       "      <td>Agricultural Use</td>\n",
       "      <td>3102</td>\n",
       "      <td>Nutrient nitrogen N (total)</td>\n",
       "      <td>1963</td>\n",
       "      <td>1963</td>\n",
       "      <td>tonnes</td>\n",
       "      <td>67620</td>\n",
       "      <td>Qm</td>\n",
       "      <td>Official data from questionnaires and/or natio...</td>\n",
       "    </tr>\n",
       "    <tr>\n",
       "      <th>...</th>\n",
       "      <td>...</td>\n",
       "      <td>...</td>\n",
       "      <td>...</td>\n",
       "      <td>...</td>\n",
       "      <td>...</td>\n",
       "      <td>...</td>\n",
       "      <td>...</td>\n",
       "      <td>...</td>\n",
       "      <td>...</td>\n",
       "      <td>...</td>\n",
       "      <td>...</td>\n",
       "      <td>...</td>\n",
       "    </tr>\n",
       "    <tr>\n",
       "      <th>170</th>\n",
       "      <td>RFN</td>\n",
       "      <td>Fertilizers by Nutrient</td>\n",
       "      <td>Pakistan</td>\n",
       "      <td>Agricultural Use</td>\n",
       "      <td>3102</td>\n",
       "      <td>Nutrient nitrogen N (total)</td>\n",
       "      <td>2019</td>\n",
       "      <td>2019</td>\n",
       "      <td>tonnes</td>\n",
       "      <td>3505356</td>\n",
       "      <td>Qm</td>\n",
       "      <td>Official data from questionnaires and/or natio...</td>\n",
       "    </tr>\n",
       "    <tr>\n",
       "      <th>171</th>\n",
       "      <td>RFN</td>\n",
       "      <td>Fertilizers by Nutrient</td>\n",
       "      <td>Pakistan</td>\n",
       "      <td>Agricultural Use</td>\n",
       "      <td>3103</td>\n",
       "      <td>Nutrient phosphate P2O5 (total)</td>\n",
       "      <td>2019</td>\n",
       "      <td>2019</td>\n",
       "      <td>tonnes</td>\n",
       "      <td>1099707</td>\n",
       "      <td>Qm</td>\n",
       "      <td>Official data from questionnaires and/or natio...</td>\n",
       "    </tr>\n",
       "    <tr>\n",
       "      <th>172</th>\n",
       "      <td>RFN</td>\n",
       "      <td>Fertilizers by Nutrient</td>\n",
       "      <td>Pakistan</td>\n",
       "      <td>Agricultural Use</td>\n",
       "      <td>3103</td>\n",
       "      <td>Nutrient phosphate P2O5 (total)</td>\n",
       "      <td>2020</td>\n",
       "      <td>2020</td>\n",
       "      <td>tonnes</td>\n",
       "      <td>1204060</td>\n",
       "      <td>Qm</td>\n",
       "      <td>Official data from questionnaires and/or natio...</td>\n",
       "    </tr>\n",
       "    <tr>\n",
       "      <th>173</th>\n",
       "      <td>RFN</td>\n",
       "      <td>Fertilizers by Nutrient</td>\n",
       "      <td>Pakistan</td>\n",
       "      <td>Agricultural Use</td>\n",
       "      <td>3102</td>\n",
       "      <td>Nutrient nitrogen N (total)</td>\n",
       "      <td>2020</td>\n",
       "      <td>2020</td>\n",
       "      <td>tonnes</td>\n",
       "      <td>3533784</td>\n",
       "      <td>Qm</td>\n",
       "      <td>Official data from questionnaires and/or natio...</td>\n",
       "    </tr>\n",
       "    <tr>\n",
       "      <th>174</th>\n",
       "      <td>RFN</td>\n",
       "      <td>Fertilizers by Nutrient</td>\n",
       "      <td>Pakistan</td>\n",
       "      <td>Agricultural Use</td>\n",
       "      <td>3104</td>\n",
       "      <td>Nutrient potash K2O (total)</td>\n",
       "      <td>2020</td>\n",
       "      <td>2020</td>\n",
       "      <td>tonnes</td>\n",
       "      <td>60973</td>\n",
       "      <td>Qm</td>\n",
       "      <td>Official data from questionnaires and/or natio...</td>\n",
       "    </tr>\n",
       "  </tbody>\n",
       "</table>\n",
       "<p>175 rows × 12 columns</p>\n",
       "</div>"
      ],
      "text/plain": [
       "    DomainCode                   Domain      Area           Element  ItemCode  \\\n",
       "0          RFN  Fertilizers by Nutrient  Pakistan  Agricultural Use      3102   \n",
       "1          RFN  Fertilizers by Nutrient  Pakistan  Agricultural Use      3103   \n",
       "2          RFN  Fertilizers by Nutrient  Pakistan  Agricultural Use      3103   \n",
       "3          RFN  Fertilizers by Nutrient  Pakistan  Agricultural Use      3102   \n",
       "4          RFN  Fertilizers by Nutrient  Pakistan  Agricultural Use      3102   \n",
       "..         ...                      ...       ...               ...       ...   \n",
       "170        RFN  Fertilizers by Nutrient  Pakistan  Agricultural Use      3102   \n",
       "171        RFN  Fertilizers by Nutrient  Pakistan  Agricultural Use      3103   \n",
       "172        RFN  Fertilizers by Nutrient  Pakistan  Agricultural Use      3103   \n",
       "173        RFN  Fertilizers by Nutrient  Pakistan  Agricultural Use      3102   \n",
       "174        RFN  Fertilizers by Nutrient  Pakistan  Agricultural Use      3104   \n",
       "\n",
       "                                Item  YearCode  Year    Unit    Value Flag  \\\n",
       "0        Nutrient nitrogen N (total)      1961  1961  tonnes    41659   Qm   \n",
       "1    Nutrient phosphate P2O5 (total)      1961  1961  tonnes      500   Qm   \n",
       "2    Nutrient phosphate P2O5 (total)      1962  1962  tonnes      210   Qm   \n",
       "3        Nutrient nitrogen N (total)      1962  1962  tonnes    41160   Qm   \n",
       "4        Nutrient nitrogen N (total)      1963  1963  tonnes    67620   Qm   \n",
       "..                               ...       ...   ...     ...      ...  ...   \n",
       "170      Nutrient nitrogen N (total)      2019  2019  tonnes  3505356   Qm   \n",
       "171  Nutrient phosphate P2O5 (total)      2019  2019  tonnes  1099707   Qm   \n",
       "172  Nutrient phosphate P2O5 (total)      2020  2020  tonnes  1204060   Qm   \n",
       "173      Nutrient nitrogen N (total)      2020  2020  tonnes  3533784   Qm   \n",
       "174      Nutrient potash K2O (total)      2020  2020  tonnes    60973   Qm   \n",
       "\n",
       "                                       FlagDescription  \n",
       "0    Official data from questionnaires and/or natio...  \n",
       "1    Official data from questionnaires and/or natio...  \n",
       "2    Official data from questionnaires and/or natio...  \n",
       "3    Official data from questionnaires and/or natio...  \n",
       "4    Official data from questionnaires and/or natio...  \n",
       "..                                                 ...  \n",
       "170  Official data from questionnaires and/or natio...  \n",
       "171  Official data from questionnaires and/or natio...  \n",
       "172  Official data from questionnaires and/or natio...  \n",
       "173  Official data from questionnaires and/or natio...  \n",
       "174  Official data from questionnaires and/or natio...  \n",
       "\n",
       "[175 rows x 12 columns]"
      ]
     },
     "execution_count": 25,
     "metadata": {},
     "output_type": "execute_result"
    }
   ],
   "source": [
    "df_fur_clean"
   ]
  },
  {
   "cell_type": "code",
   "execution_count": 26,
   "metadata": {},
   "outputs": [
    {
     "data": {
      "text/html": [
       "<div>\n",
       "<style scoped>\n",
       "    .dataframe tbody tr th:only-of-type {\n",
       "        vertical-align: middle;\n",
       "    }\n",
       "\n",
       "    .dataframe tbody tr th {\n",
       "        vertical-align: top;\n",
       "    }\n",
       "\n",
       "    .dataframe thead th {\n",
       "        text-align: right;\n",
       "    }\n",
       "</style>\n",
       "<table border=\"1\" class=\"dataframe\">\n",
       "  <thead>\n",
       "    <tr style=\"text-align: right;\">\n",
       "      <th></th>\n",
       "      <th>ItemCode</th>\n",
       "      <th>YearCode</th>\n",
       "      <th>Year</th>\n",
       "      <th>Value</th>\n",
       "    </tr>\n",
       "  </thead>\n",
       "  <tbody>\n",
       "    <tr>\n",
       "      <th>ItemCode</th>\n",
       "      <td>1.000000</td>\n",
       "      <td>0.058966</td>\n",
       "      <td>0.058966</td>\n",
       "      <td>-0.666079</td>\n",
       "    </tr>\n",
       "    <tr>\n",
       "      <th>YearCode</th>\n",
       "      <td>0.058966</td>\n",
       "      <td>1.000000</td>\n",
       "      <td>1.000000</td>\n",
       "      <td>0.505252</td>\n",
       "    </tr>\n",
       "    <tr>\n",
       "      <th>Year</th>\n",
       "      <td>0.058966</td>\n",
       "      <td>1.000000</td>\n",
       "      <td>1.000000</td>\n",
       "      <td>0.505252</td>\n",
       "    </tr>\n",
       "    <tr>\n",
       "      <th>Value</th>\n",
       "      <td>-0.666079</td>\n",
       "      <td>0.505252</td>\n",
       "      <td>0.505252</td>\n",
       "      <td>1.000000</td>\n",
       "    </tr>\n",
       "  </tbody>\n",
       "</table>\n",
       "</div>"
      ],
      "text/plain": [
       "          ItemCode  YearCode      Year     Value\n",
       "ItemCode  1.000000  0.058966  0.058966 -0.666079\n",
       "YearCode  0.058966  1.000000  1.000000  0.505252\n",
       "Year      0.058966  1.000000  1.000000  0.505252\n",
       "Value    -0.666079  0.505252  0.505252  1.000000"
      ]
     },
     "execution_count": 26,
     "metadata": {},
     "output_type": "execute_result"
    }
   ],
   "source": [
    "cor_df_furn = df_fur_clean.corr()\n",
    "cor_df_furn"
   ]
  },
  {
   "cell_type": "code",
   "execution_count": 27,
   "metadata": {},
   "outputs": [
    {
     "data": {
      "text/plain": [
       "<AxesSubplot:>"
      ]
     },
     "execution_count": 27,
     "metadata": {},
     "output_type": "execute_result"
    },
    {
     "data": {
      "image/png": "[encoded data removed]",
      "text/plain": [
       "<Figure size 432x288 with 2 Axes>"
      ]
     },
     "metadata": {
      "needs_background": "light"
     },
     "output_type": "display_data"
    }
   ],
   "source": [
    "sns.heatmap(cor_df_furn)"
   ]
  },
  {
   "cell_type": "code",
   "execution_count": 28,
   "metadata": {},
   "outputs": [
    {
     "data": {
      "text/plain": [
       "<AxesSubplot:xlabel='Year', ylabel='Value'>"
      ]
     },
     "execution_count": 28,
     "metadata": {},
     "output_type": "execute_result"
    },
    {
     "data": {
      "image/png": "[encoded data removed]",
      "text/plain": [
       "<Figure size 432x288 with 1 Axes>"
      ]
     },
     "metadata": {
      "needs_background": "light"
     },
     "output_type": "display_data"
    }
   ],
   "source": [
    "sns.histplot(data=df_fur_clean,x='Year',y='Value',hue='Item')"
   ]
  },
  {
   "cell_type": "code",
   "execution_count": 29,
   "metadata": {},
   "outputs": [
    {
     "data": {
      "text/plain": [
       "<seaborn.axisgrid.FacetGrid at 0x2254de32d10>"
      ]
     },
     "execution_count": 29,
     "metadata": {},
     "output_type": "execute_result"
    },
    {
     "data": {
      "image/png": "[encoded data removed]",
      "text/plain": [
       "<Figure size 840.5x360 with 1 Axes>"
      ]
     },
     "metadata": {
      "needs_background": "light"
     },
     "output_type": "display_data"
    }
   ],
   "source": [
    "sns.catplot(x='Item',y='Value',hue='FlagDescription',data=df_fur_clean)"
   ]
  },
  {
   "cell_type": "code",
   "execution_count": 30,
   "metadata": {},
   "outputs": [],
   "source": [
    "df_fur_clean['Value_log']=np.log(df_fur_clean['Value'])\n"
   ]
  },
  {
   "cell_type": "code",
   "execution_count": 31,
   "metadata": {},
   "outputs": [
    {
     "data": {
      "text/html": [
       "<div>\n",
       "<style scoped>\n",
       "    .dataframe tbody tr th:only-of-type {\n",
       "        vertical-align: middle;\n",
       "    }\n",
       "\n",
       "    .dataframe tbody tr th {\n",
       "        vertical-align: top;\n",
       "    }\n",
       "\n",
       "    .dataframe thead th {\n",
       "        text-align: right;\n",
       "    }\n",
       "</style>\n",
       "<table border=\"1\" class=\"dataframe\">\n",
       "  <thead>\n",
       "    <tr style=\"text-align: right;\">\n",
       "      <th></th>\n",
       "      <th>DomainCode</th>\n",
       "      <th>Domain</th>\n",
       "      <th>Area</th>\n",
       "      <th>Element</th>\n",
       "      <th>ItemCode</th>\n",
       "      <th>Item</th>\n",
       "      <th>YearCode</th>\n",
       "      <th>Year</th>\n",
       "      <th>Unit</th>\n",
       "      <th>Value</th>\n",
       "      <th>Flag</th>\n",
       "      <th>FlagDescription</th>\n",
       "      <th>Value_log</th>\n",
       "    </tr>\n",
       "  </thead>\n",
       "  <tbody>\n",
       "    <tr>\n",
       "      <th>0</th>\n",
       "      <td>RFN</td>\n",
       "      <td>Fertilizers by Nutrient</td>\n",
       "      <td>Pakistan</td>\n",
       "      <td>Agricultural Use</td>\n",
       "      <td>3102</td>\n",
       "      <td>Nutrient nitrogen N (total)</td>\n",
       "      <td>1961</td>\n",
       "      <td>1961</td>\n",
       "      <td>tonnes</td>\n",
       "      <td>41659</td>\n",
       "      <td>Qm</td>\n",
       "      <td>Official data from questionnaires and/or natio...</td>\n",
       "      <td>10.637273</td>\n",
       "    </tr>\n",
       "    <tr>\n",
       "      <th>1</th>\n",
       "      <td>RFN</td>\n",
       "      <td>Fertilizers by Nutrient</td>\n",
       "      <td>Pakistan</td>\n",
       "      <td>Agricultural Use</td>\n",
       "      <td>3103</td>\n",
       "      <td>Nutrient phosphate P2O5 (total)</td>\n",
       "      <td>1961</td>\n",
       "      <td>1961</td>\n",
       "      <td>tonnes</td>\n",
       "      <td>500</td>\n",
       "      <td>Qm</td>\n",
       "      <td>Official data from questionnaires and/or natio...</td>\n",
       "      <td>6.214608</td>\n",
       "    </tr>\n",
       "    <tr>\n",
       "      <th>2</th>\n",
       "      <td>RFN</td>\n",
       "      <td>Fertilizers by Nutrient</td>\n",
       "      <td>Pakistan</td>\n",
       "      <td>Agricultural Use</td>\n",
       "      <td>3103</td>\n",
       "      <td>Nutrient phosphate P2O5 (total)</td>\n",
       "      <td>1962</td>\n",
       "      <td>1962</td>\n",
       "      <td>tonnes</td>\n",
       "      <td>210</td>\n",
       "      <td>Qm</td>\n",
       "      <td>Official data from questionnaires and/or natio...</td>\n",
       "      <td>5.347108</td>\n",
       "    </tr>\n",
       "    <tr>\n",
       "      <th>3</th>\n",
       "      <td>RFN</td>\n",
       "      <td>Fertilizers by Nutrient</td>\n",
       "      <td>Pakistan</td>\n",
       "      <td>Agricultural Use</td>\n",
       "      <td>3102</td>\n",
       "      <td>Nutrient nitrogen N (total)</td>\n",
       "      <td>1962</td>\n",
       "      <td>1962</td>\n",
       "      <td>tonnes</td>\n",
       "      <td>41160</td>\n",
       "      <td>Qm</td>\n",
       "      <td>Official data from questionnaires and/or natio...</td>\n",
       "      <td>10.625222</td>\n",
       "    </tr>\n",
       "    <tr>\n",
       "      <th>4</th>\n",
       "      <td>RFN</td>\n",
       "      <td>Fertilizers by Nutrient</td>\n",
       "      <td>Pakistan</td>\n",
       "      <td>Agricultural Use</td>\n",
       "      <td>3102</td>\n",
       "      <td>Nutrient nitrogen N (total)</td>\n",
       "      <td>1963</td>\n",
       "      <td>1963</td>\n",
       "      <td>tonnes</td>\n",
       "      <td>67620</td>\n",
       "      <td>Qm</td>\n",
       "      <td>Official data from questionnaires and/or natio...</td>\n",
       "      <td>11.121659</td>\n",
       "    </tr>\n",
       "  </tbody>\n",
       "</table>\n",
       "</div>"
      ],
      "text/plain": [
       "  DomainCode                   Domain      Area           Element  ItemCode  \\\n",
       "0        RFN  Fertilizers by Nutrient  Pakistan  Agricultural Use      3102   \n",
       "1        RFN  Fertilizers by Nutrient  Pakistan  Agricultural Use      3103   \n",
       "2        RFN  Fertilizers by Nutrient  Pakistan  Agricultural Use      3103   \n",
       "3        RFN  Fertilizers by Nutrient  Pakistan  Agricultural Use      3102   \n",
       "4        RFN  Fertilizers by Nutrient  Pakistan  Agricultural Use      3102   \n",
       "\n",
       "                              Item  YearCode  Year    Unit  Value Flag  \\\n",
       "0      Nutrient nitrogen N (total)      1961  1961  tonnes  41659   Qm   \n",
       "1  Nutrient phosphate P2O5 (total)      1961  1961  tonnes    500   Qm   \n",
       "2  Nutrient phosphate P2O5 (total)      1962  1962  tonnes    210   Qm   \n",
       "3      Nutrient nitrogen N (total)      1962  1962  tonnes  41160   Qm   \n",
       "4      Nutrient nitrogen N (total)      1963  1963  tonnes  67620   Qm   \n",
       "\n",
       "                                     FlagDescription  Value_log  \n",
       "0  Official data from questionnaires and/or natio...  10.637273  \n",
       "1  Official data from questionnaires and/or natio...   6.214608  \n",
       "2  Official data from questionnaires and/or natio...   5.347108  \n",
       "3  Official data from questionnaires and/or natio...  10.625222  \n",
       "4  Official data from questionnaires and/or natio...  11.121659  "
      ]
     },
     "execution_count": 31,
     "metadata": {},
     "output_type": "execute_result"
    }
   ],
   "source": [
    "df_fur_clean.head()"
   ]
  },
  {
   "cell_type": "code",
   "execution_count": 85,
   "metadata": {},
   "outputs": [
    {
     "data": {
      "text/plain": [
       "<seaborn.axisgrid.FacetGrid at 0x2254fe67340>"
      ]
     },
     "execution_count": 85,
     "metadata": {},
     "output_type": "execute_result"
    },
    {
     "data": {
      "image/png": "[encoded data removed]",
      "text/plain": [
       "<Figure size 421.5x360 with 1 Axes>"
      ]
     },
     "metadata": {
      "needs_background": "light"
     },
     "output_type": "display_data"
    }
   ],
   "source": [
    "sns.catplot(x='Item',y='Value_log',hue='Year',data=df_fur_clean)"
   ]
  },
  {
   "cell_type": "code",
   "execution_count": 90,
   "metadata": {},
   "outputs": [
    {
     "data": {
      "text/plain": [
       "<AxesSubplot:xlabel='Year', ylabel='Value'>"
      ]
     },
     "execution_count": 90,
     "metadata": {},
     "output_type": "execute_result"
    },
    {
     "data": {
      "image/png": "[encoded data removed]",
      "text/plain": [
       "<Figure size 432x288 with 1 Axes>"
      ]
     },
     "metadata": {
      "needs_background": "light"
     },
     "output_type": "display_data"
    }
   ],
   "source": [
    "sns.barplot(x='Year',y='Value',hue='Item',data=df_fur_clean)"
   ]
  },
  {
   "cell_type": "code",
   "execution_count": 34,
   "metadata": {},
   "outputs": [
    {
     "data": {
      "text/plain": [
       "<AxesSubplot:>"
      ]
     },
     "execution_count": 34,
     "metadata": {},
     "output_type": "execute_result"
    },
    {
     "data": {
      "image/png": "[encoded data removed]",
      "text/plain": [
       "<Figure size 432x288 with 2 Axes>"
      ]
     },
     "metadata": {
      "needs_background": "light"
     },
     "output_type": "display_data"
    }
   ],
   "source": [
    "sns.heatmap(cor_df_furn,annot= True)"
   ]
  },
  {
   "cell_type": "code",
   "execution_count": null,
   "metadata": {},
   "outputs": [],
   "source": []
  },
  {
   "cell_type": "code",
   "execution_count": 35,
   "metadata": {},
   "outputs": [
    {
     "data": {
      "text/plain": [
       "<AxesSubplot:xlabel='Item', ylabel='Year'>"
      ]
     },
     "execution_count": 35,
     "metadata": {},
     "output_type": "execute_result"
    },
    {
     "data": {
      "image/png": "[encoded data removed]",
      "text/plain": [
       "<Figure size 432x288 with 1 Axes>"
      ]
     },
     "metadata": {
      "needs_background": "light"
     },
     "output_type": "display_data"
    }
   ],
   "source": [
    "sns.barplot(x='Item',y='Year',data=df_fur_clean)"
   ]
  },
  {
   "cell_type": "code",
   "execution_count": 36,
   "metadata": {},
   "outputs": [
    {
     "data": {
      "text/plain": [
       "<AxesSubplot:xlabel='Item', ylabel='Value'>"
      ]
     },
     "execution_count": 36,
     "metadata": {},
     "output_type": "execute_result"
    },
    {
     "data": {
      "image/png": "[encoded data removed]",
      "text/plain": [
       "<Figure size 432x288 with 1 Axes>"
      ]
     },
     "metadata": {
      "needs_background": "light"
     },
     "output_type": "display_data"
    }
   ],
   "source": [
    "sns.histplot(x='Item',y='Value',data= df_fur_clean)"
   ]
  },
  {
   "cell_type": "code",
   "execution_count": 37,
   "metadata": {},
   "outputs": [
    {
     "data": {
      "text/plain": [
       "<AxesSubplot:xlabel='Item', ylabel='Value'>"
      ]
     },
     "execution_count": 37,
     "metadata": {},
     "output_type": "execute_result"
    },
    {
     "data": {
      "image/png": "[encoded data removed]",
      "text/plain": [
       "<Figure size 432x288 with 1 Axes>"
      ]
     },
     "metadata": {
      "needs_background": "light"
     },
     "output_type": "display_data"
    }
   ],
   "source": [
    "sns.lineplot(x='Item',y='Value',hue='Year',data= df_fur_clean)"
   ]
  },
  {
   "cell_type": "code",
   "execution_count": 38,
   "metadata": {},
   "outputs": [
    {
     "ename": "ValueError",
     "evalue": "Mime type rendering requires nbformat>=4.2.0 but it is not installed",
     "output_type": "error",
     "traceback": [
      "\u001b[1;31m---------------------------------------------------------------------------\u001b[0m",
      "\u001b[1;31mValueError\u001b[0m                                Traceback (most recent call last)",
      "File \u001b[1;32mc:\\Users\\Administrator\\AppData\\Local\\Programs\\Python\\Python310\\lib\\site-packages\\IPython\\core\\formatters.py:921\u001b[0m, in \u001b[0;36mIPythonDisplayFormatter.__call__\u001b[1;34m(self, obj)\u001b[0m\n\u001b[0;32m    919\u001b[0m method \u001b[39m=\u001b[39m get_real_method(obj, \u001b[39mself\u001b[39m\u001b[39m.\u001b[39mprint_method)\n\u001b[0;32m    920\u001b[0m \u001b[39mif\u001b[39;00m method \u001b[39mis\u001b[39;00m \u001b[39mnot\u001b[39;00m \u001b[39mNone\u001b[39;00m:\n\u001b[1;32m--> 921\u001b[0m     method()\n\u001b[0;32m    922\u001b[0m     \u001b[39mreturn\u001b[39;00m \u001b[39mTrue\u001b[39;00m\n",
      "File \u001b[1;32mc:\\Users\\Administrator\\AppData\\Local\\Programs\\Python\\Python310\\lib\\site-packages\\plotly\\basedatatypes.py:842\u001b[0m, in \u001b[0;36mBaseFigure._ipython_display_\u001b[1;34m(self)\u001b[0m\n\u001b[0;32m    839\u001b[0m \u001b[39mimport\u001b[39;00m \u001b[39mplotly\u001b[39;00m\u001b[39m.\u001b[39;00m\u001b[39mio\u001b[39;00m \u001b[39mas\u001b[39;00m \u001b[39mpio\u001b[39;00m\n\u001b[0;32m    841\u001b[0m \u001b[39mif\u001b[39;00m pio\u001b[39m.\u001b[39mrenderers\u001b[39m.\u001b[39mrender_on_display \u001b[39mand\u001b[39;00m pio\u001b[39m.\u001b[39mrenderers\u001b[39m.\u001b[39mdefault:\n\u001b[1;32m--> 842\u001b[0m     pio\u001b[39m.\u001b[39;49mshow(\u001b[39mself\u001b[39;49m)\n\u001b[0;32m    843\u001b[0m \u001b[39melse\u001b[39;00m:\n\u001b[0;32m    844\u001b[0m     \u001b[39mprint\u001b[39m(\u001b[39mrepr\u001b[39m(\u001b[39mself\u001b[39m))\n",
      "File \u001b[1;32mc:\\Users\\Administrator\\AppData\\Local\\Programs\\Python\\Python310\\lib\\site-packages\\plotly\\io\\_renderers.py:396\u001b[0m, in \u001b[0;36mshow\u001b[1;34m(fig, renderer, validate, **kwargs)\u001b[0m\n\u001b[0;32m    391\u001b[0m         \u001b[39mraise\u001b[39;00m \u001b[39mValueError\u001b[39;00m(\n\u001b[0;32m    392\u001b[0m             \u001b[39m\"\u001b[39m\u001b[39mMime type rendering requires ipython but it is not installed\u001b[39m\u001b[39m\"\u001b[39m\n\u001b[0;32m    393\u001b[0m         )\n\u001b[0;32m    395\u001b[0m     \u001b[39mif\u001b[39;00m \u001b[39mnot\u001b[39;00m nbformat \u001b[39mor\u001b[39;00m LooseVersion(nbformat\u001b[39m.\u001b[39m__version__) \u001b[39m<\u001b[39m LooseVersion(\u001b[39m\"\u001b[39m\u001b[39m4.2.0\u001b[39m\u001b[39m\"\u001b[39m):\n\u001b[1;32m--> 396\u001b[0m         \u001b[39mraise\u001b[39;00m \u001b[39mValueError\u001b[39;00m(\n\u001b[0;32m    397\u001b[0m             \u001b[39m\"\u001b[39m\u001b[39mMime type rendering requires nbformat>=4.2.0 but it is not installed\u001b[39m\u001b[39m\"\u001b[39m\n\u001b[0;32m    398\u001b[0m         )\n\u001b[0;32m    400\u001b[0m     ipython_display\u001b[39m.\u001b[39mdisplay(bundle, raw\u001b[39m=\u001b[39m\u001b[39mTrue\u001b[39;00m)\n\u001b[0;32m    402\u001b[0m \u001b[39m# external renderers\u001b[39;00m\n",
      "\u001b[1;31mValueError\u001b[0m: Mime type rendering requires nbformat>=4.2.0 but it is not installed"
     ]
    },
    {
     "data": {
      "application/vnd.plotly.v1+json": {
       "config": {
        "plotlyServerURL": "https://plot.ly"
       },
       "data": [
        {
         "alignmentgroup": "True",
         "bingroup": "x",
         "histfunc": "sum",
         "hovertemplate": "Item=Nutrient nitrogen N (total)<br>Value=%{x}<br>sum of Year=%{y}<extra></extra>",
         "legendgroup": "Nutrient nitrogen N (total)",
         "marker": {
          "color": "#636efa",
          "pattern": {
           "shape": ""
          }
         },
         "name": "Nutrient nitrogen N (total)",
         "offsetgroup": "Nutrient nitrogen N (total)",
         "orientation": "v",
         "showlegend": true,
         "type": "histogram",
         "x": [
          41659,
          41160,
          67620,
          84147,
          69242,
          107779,
          177441,
          203521,
          272566,
          251519,
          343973,
          386230,
          341944,
          362900,
          443451,
          511000,
          554100,
          684300,
          775804,
          843574,
          832572,
          954083,
          914317,
          934498,
          1128138,
          1332570,
          1281700,
          1324453,
          1467590,
          1471642,
          1462862,
          1636323,
          1659350,
          1738117,
          1991006,
          1985080,
          2087607,
          2091852,
          2218100,
          2264600,
          2291610,
          2384980,
          2456009,
          2570230,
          2818779,
          2868984,
          2714053,
          2928057,
          3451900,
          3270531,
          3187339,
          2850771,
          3239557,
          3139263,
          3160507,
          3241907,
          3446922,
          3446922,
          3505356,
          3533784
         ],
         "xaxis": "x",
         "y": [
          1961,
          1962,
          1963,
          1964,
          1965,
          1966,
          1967,
          1968,
          1969,
          1970,
          1971,
          1972,
          1973,
          1974,
          1975,
          1976,
          1977,
          1978,
          1979,
          1980,
          1981,
          1982,
          1983,
          1984,
          1985,
          1986,
          1987,
          1988,
          1989,
          1990,
          1991,
          1992,
          1993,
          1994,
          1995,
          1996,
          1997,
          1998,
          1999,
          2000,
          2001,
          2002,
          2003,
          2004,
          2005,
          2006,
          2007,
          2008,
          2009,
          2010,
          2011,
          2012,
          2013,
          2014,
          2015,
          2016,
          2017,
          2018,
          2019,
          2020
         ],
         "yaxis": "y"
        },
        {
         "alignmentgroup": "True",
         "boxpoints": "all",
         "customdata": [
          [
           "RFN",
           "Fertilizers by Nutrient",
           "Pakistan",
           "Agricultural Use",
           3102,
           "Nutrient nitrogen N (total)",
           1961,
           "tonnes",
           "Qm",
           "Official data from questionnaires and/or national sources and/or COMTRADE (reporters)",
           10.637272710686252
          ],
          [
           "RFN",
           "Fertilizers by Nutrient",
           "Pakistan",
           "Agricultural Use",
           3102,
           "Nutrient nitrogen N (total)",
           1962,
           "tonnes",
           "Qm",
           "Official data from questionnaires and/or national sources and/or COMTRADE (reporters)",
           10.625222189947985
          ],
          [
           "RFN",
           "Fertilizers by Nutrient",
           "Pakistan",
           "Agricultural Use",
           3102,
           "Nutrient nitrogen N (total)",
           1963,
           "tonnes",
           "Qm",
           "Official data from questionnaires and/or national sources and/or COMTRADE (reporters)",
           11.121659076261876
          ],
          [
           "RFN",
           "Fertilizers by Nutrient",
           "Pakistan",
           "Agricultural Use",
           3102,
           "Nutrient nitrogen N (total)",
           1964,
           "tonnes",
           "Qm",
           "Official data from questionnaires and/or national sources and/or COMTRADE (reporters)",
           11.340320548359568
          ],
          [
           "RFN",
           "Fertilizers by Nutrient",
           "Pakistan",
           "Agricultural Use",
           3102,
           "Nutrient nitrogen N (total)",
           1965,
           "tonnes",
           "Qm",
           "Official data from questionnaires and/or national sources and/or COMTRADE (reporters)",
           11.145362893910532
          ],
          [
           "RFN",
           "Fertilizers by Nutrient",
           "Pakistan",
           "Agricultural Use",
           3102,
           "Nutrient nitrogen N (total)",
           1966,
           "tonnes",
           "Qm",
           "Official data from questionnaires and/or national sources and/or COMTRADE (reporters)",
           11.587838113285232
          ],
          [
           "RFN",
           "Fertilizers by Nutrient",
           "Pakistan",
           "Agricultural Use",
           3102,
           "Nutrient nitrogen N (total)",
           1967,
           "tonnes",
           "Qm",
           "Official data from questionnaires and/or national sources and/or COMTRADE (reporters)",
           12.086393438276158
          ],
          [
           "RFN",
           "Fertilizers by Nutrient",
           "Pakistan",
           "Agricultural Use",
           3102,
           "Nutrient nitrogen N (total)",
           1968,
           "tonnes",
           "Qm",
           "Official data from questionnaires and/or national sources and/or COMTRADE (reporters)",
           12.223524472643836
          ],
          [
           "RFN",
           "Fertilizers by Nutrient",
           "Pakistan",
           "Agricultural Use",
           3102,
           "Nutrient nitrogen N (total)",
           1969,
           "tonnes",
           "Qm",
           "Official data from questionnaires and/or national sources and/or COMTRADE (reporters)",
           12.515636065594169
          ],
          [
           "RFN",
           "Fertilizers by Nutrient",
           "Pakistan",
           "Agricultural Use",
           3102,
           "Nutrient nitrogen N (total)",
           1970,
           "tonnes",
           "Qm",
           "Official data from questionnaires and/or national sources and/or COMTRADE (reporters)",
           12.435273812388104
          ],
          [
           "RFN",
           "Fertilizers by Nutrient",
           "Pakistan",
           "Agricultural Use",
           3102,
           "Nutrient nitrogen N (total)",
           1971,
           "tonnes",
           "Qm",
           "Official data from questionnaires and/or national sources and/or COMTRADE (reporters)",
           12.748318444903068
          ],
          [
           "RFN",
           "Fertilizers by Nutrient",
           "Pakistan",
           "Agricultural Use",
           3102,
           "Nutrient nitrogen N (total)",
           1972,
           "tonnes",
           "Qm",
           "Official data from questionnaires and/or national sources and/or COMTRADE (reporters)",
           12.86418832591819
          ],
          [
           "RFN",
           "Fertilizers by Nutrient",
           "Pakistan",
           "Agricultural Use",
           3102,
           "Nutrient nitrogen N (total)",
           1973,
           "tonnes",
           "Qm",
           "Official data from questionnaires and/or national sources and/or COMTRADE (reporters)",
           12.742402259947387
          ],
          [
           "RFN",
           "Fertilizers by Nutrient",
           "Pakistan",
           "Agricultural Use",
           3102,
           "Nutrient nitrogen N (total)",
           1974,
           "tonnes",
           "Qm",
           "Official data from questionnaires and/or national sources and/or COMTRADE (reporters)",
           12.801882593201162
          ],
          [
           "RFN",
           "Fertilizers by Nutrient",
           "Pakistan",
           "Agricultural Use",
           3102,
           "Nutrient nitrogen N (total)",
           1975,
           "tonnes",
           "Qm",
           "Official data from questionnaires and/or national sources and/or COMTRADE (reporters)",
           13.00234258984772
          ],
          [
           "RFN",
           "Fertilizers by Nutrient",
           "Pakistan",
           "Agricultural Use",
           3102,
           "Nutrient nitrogen N (total)",
           1976,
           "tonnes",
           "Qm",
           "Official data from questionnaires and/or national sources and/or COMTRADE (reporters)",
           13.144124869185841
          ],
          [
           "RFN",
           "Fertilizers by Nutrient",
           "Pakistan",
           "Agricultural Use",
           3102,
           "Nutrient nitrogen N (total)",
           1977,
           "tonnes",
           "Qm",
           "Official data from questionnaires and/or national sources and/or COMTRADE (reporters)",
           13.225100454855442
          ],
          [
           "RFN",
           "Fertilizers by Nutrient",
           "Pakistan",
           "Agricultural Use",
           3102,
           "Nutrient nitrogen N (total)",
           1978,
           "tonnes",
           "Qm",
           "Official data from questionnaires and/or national sources and/or COMTRADE (reporters)",
           13.43615169694059
          ],
          [
           "RFN",
           "Fertilizers by Nutrient",
           "Pakistan",
           "Agricultural Use",
           3102,
           "Nutrient nitrogen N (total)",
           1979,
           "tonnes",
           "Qm",
           "Official data from questionnaires and/or national sources and/or COMTRADE (reporters)",
           13.561655189942744
          ],
          [
           "RFN",
           "Fertilizers by Nutrient",
           "Pakistan",
           "Agricultural Use",
           3102,
           "Nutrient nitrogen N (total)",
           1980,
           "tonnes",
           "Qm",
           "Official data from questionnaires and/or national sources and/or COMTRADE (reporters)",
           13.645402906817823
          ],
          [
           "RFN",
           "Fertilizers by Nutrient",
           "Pakistan",
           "Agricultural Use",
           3102,
           "Nutrient nitrogen N (total)",
           1981,
           "tonnes",
           "Qm",
           "Official data from questionnaires and/or national sources and/or COMTRADE (reporters)",
           13.632274983583482
          ],
          [
           "RFN",
           "Fertilizers by Nutrient",
           "Pakistan",
           "Agricultural Use",
           3102,
           "Nutrient nitrogen N (total)",
           1982,
           "tonnes",
           "Qm",
           "Official data from questionnaires and/or national sources and/or COMTRADE (reporters)",
           13.768505948742396
          ],
          [
           "RFN",
           "Fertilizers by Nutrient",
           "Pakistan",
           "Agricultural Use",
           3102,
           "Nutrient nitrogen N (total)",
           1983,
           "tonnes",
           "Qm",
           "Official data from questionnaires and/or national sources and/or COMTRADE (reporters)",
           13.725932617439138
          ],
          [
           "RFN",
           "Fertilizers by Nutrient",
           "Pakistan",
           "Agricultural Use",
           3102,
           "Nutrient nitrogen N (total)",
           1984,
           "tonnes",
           "Qm",
           "Official data from questionnaires and/or national sources and/or COMTRADE (reporters)",
           13.74776476569355
          ],
          [
           "RFN",
           "Fertilizers by Nutrient",
           "Pakistan",
           "Agricultural Use",
           3102,
           "Nutrient nitrogen N (total)",
           1985,
           "tonnes",
           "Qm",
           "Official data from questionnaires and/or national sources and/or COMTRADE (reporters)",
           13.936079043982694
          ],
          [
           "RFN",
           "Fertilizers by Nutrient",
           "Pakistan",
           "Agricultural Use",
           3102,
           "Nutrient nitrogen N (total)",
           1986,
           "tonnes",
           "Qm",
           "Official data from questionnaires and/or national sources and/or COMTRADE (reporters)",
           14.102619966475356
          ],
          [
           "RFN",
           "Fertilizers by Nutrient",
           "Pakistan",
           "Agricultural Use",
           3102,
           "Nutrient nitrogen N (total)",
           1987,
           "tonnes",
           "Qm",
           "Official data from questionnaires and/or national sources and/or COMTRADE (reporters)",
           14.063697879717916
          ],
          [
           "RFN",
           "Fertilizers by Nutrient",
           "Pakistan",
           "Agricultural Use",
           3102,
           "Nutrient nitrogen N (total)",
           1988,
           "tonnes",
           "Qm",
           "Official data from questionnaires and/or national sources and/or COMTRADE (reporters)",
           14.096510101975937
          ],
          [
           "RFN",
           "Fertilizers by Nutrient",
           "Pakistan",
           "Agricultural Use",
           3102,
           "Nutrient nitrogen N (total)",
           1989,
           "tonnes",
           "Qm",
           "Official data from questionnaires and/or national sources and/or COMTRADE (reporters)",
           14.199132157594315
          ],
          [
           "RFN",
           "Fertilizers by Nutrient",
           "Pakistan",
           "Agricultural Use",
           3102,
           "Nutrient nitrogen N (total)",
           1990,
           "tonnes",
           "Qm",
           "Official data from questionnaires and/or national sources and/or COMTRADE (reporters)",
           14.201889342169718
          ],
          [
           "RFN",
           "Fertilizers by Nutrient",
           "Pakistan",
           "Agricultural Use",
           3102,
           "Nutrient nitrogen N (total)",
           1991,
           "tonnes",
           "Qm",
           "Official data from questionnaires and/or national sources and/or COMTRADE (reporters)",
           14.19590534882731
          ],
          [
           "RFN",
           "Fertilizers by Nutrient",
           "Pakistan",
           "Agricultural Use",
           3102,
           "Nutrient nitrogen N (total)",
           1992,
           "tonnes",
           "Qm",
           "Official data from questionnaires and/or national sources and/or COMTRADE (reporters)",
           14.307962209420383
          ],
          [
           "RFN",
           "Fertilizers by Nutrient",
           "Pakistan",
           "Agricultural Use",
           3102,
           "Nutrient nitrogen N (total)",
           1993,
           "tonnes",
           "Qm",
           "Official data from questionnaires and/or national sources and/or COMTRADE (reporters)",
           14.321936517385577
          ],
          [
           "RFN",
           "Fertilizers by Nutrient",
           "Pakistan",
           "Agricultural Use",
           3102,
           "Nutrient nitrogen N (total)",
           1994,
           "tonnes",
           "Qm",
           "Official data from questionnaires and/or national sources and/or COMTRADE (reporters)",
           14.36831290129886
          ],
          [
           "RFN",
           "Fertilizers by Nutrient",
           "Pakistan",
           "Agricultural Use",
           3102,
           "Nutrient nitrogen N (total)",
           1995,
           "tonnes",
           "Qm",
           "Official data from questionnaires and/or national sources and/or COMTRADE (reporters)",
           14.504150596602818
          ],
          [
           "RFN",
           "Fertilizers by Nutrient",
           "Pakistan",
           "Agricultural Use",
           3102,
           "Nutrient nitrogen N (total)",
           1996,
           "tonnes",
           "Qm",
           "Official data from questionnaires and/or national sources and/or COMTRADE (reporters)",
           14.501169773558315
          ],
          [
           "RFN",
           "Fertilizers by Nutrient",
           "Pakistan",
           "Agricultural Use",
           3102,
           "Nutrient nitrogen N (total)",
           1997,
           "tonnes",
           "Qm",
           "Official data from questionnaires and/or national sources and/or COMTRADE (reporters)",
           14.551528991878557
          ],
          [
           "RFN",
           "Fertilizers by Nutrient",
           "Pakistan",
           "Agricultural Use",
           3102,
           "Nutrient nitrogen N (total)",
           1998,
           "tonnes",
           "Qm",
           "Official data from questionnaires and/or national sources and/or COMTRADE (reporters)",
           14.553560355966459
          ],
          [
           "RFN",
           "Fertilizers by Nutrient",
           "Pakistan",
           "Agricultural Use",
           3102,
           "Nutrient nitrogen N (total)",
           1999,
           "tonnes",
           "Qm",
           "Official data from questionnaires and/or national sources and/or COMTRADE (reporters)",
           14.61216153153888
          ],
          [
           "RFN",
           "Fertilizers by Nutrient",
           "Pakistan",
           "Agricultural Use",
           3102,
           "Nutrient nitrogen N (total)",
           2000,
           "tonnes",
           "Qm",
           "Official data from questionnaires and/or national sources and/or COMTRADE (reporters)",
           14.632908700862076
          ],
          [
           "RFN",
           "Fertilizers by Nutrient",
           "Pakistan",
           "Agricultural Use",
           3102,
           "Nutrient nitrogen N (total)",
           2001,
           "tonnes",
           "Qm",
           "Official data from questionnaires and/or national sources and/or COMTRADE (reporters)",
           14.644765185270348
          ],
          [
           "RFN",
           "Fertilizers by Nutrient",
           "Pakistan",
           "Agricultural Use",
           3102,
           "Nutrient nitrogen N (total)",
           2002,
           "tonnes",
           "Fb",
           "Data obtained as a balance",
           14.684701296525184
          ],
          [
           "RFN",
           "Fertilizers by Nutrient",
           "Pakistan",
           "Agricultural Use",
           3102,
           "Nutrient nitrogen N (total)",
           2003,
           "tonnes",
           "Qm",
           "Official data from questionnaires and/or national sources and/or COMTRADE (reporters)",
           14.71404823273757
          ],
          [
           "RFN",
           "Fertilizers by Nutrient",
           "Pakistan",
           "Agricultural Use",
           3102,
           "Nutrient nitrogen N (total)",
           2004,
           "tonnes",
           "Qm",
           "Official data from questionnaires and/or national sources and/or COMTRADE (reporters)",
           14.759505947030464
          ],
          [
           "RFN",
           "Fertilizers by Nutrient",
           "Pakistan",
           "Agricultural Use",
           3102,
           "Nutrient nitrogen N (total)",
           2005,
           "tonnes",
           "Qm",
           "Official data from questionnaires and/or national sources and/or COMTRADE (reporters)",
           14.851814370428539
          ],
          [
           "RFN",
           "Fertilizers by Nutrient",
           "Pakistan",
           "Agricultural Use",
           3102,
           "Nutrient nitrogen N (total)",
           2006,
           "tonnes",
           "Qm",
           "Official data from questionnaires and/or national sources and/or COMTRADE (reporters)",
           14.869468518091903
          ],
          [
           "RFN",
           "Fertilizers by Nutrient",
           "Pakistan",
           "Agricultural Use",
           3102,
           "Nutrient nitrogen N (total)",
           2007,
           "tonnes",
           "Qm",
           "Official data from questionnaires and/or national sources and/or COMTRADE (reporters)",
           14.813953647557684
          ],
          [
           "RFN",
           "Fertilizers by Nutrient",
           "Pakistan",
           "Agricultural Use",
           3102,
           "Nutrient nitrogen N (total)",
           2008,
           "tonnes",
           "Qm",
           "Official data from questionnaires and/or national sources and/or COMTRADE (reporters)",
           14.88984962108697
          ],
          [
           "RFN",
           "Fertilizers by Nutrient",
           "Pakistan",
           "Agricultural Use",
           3102,
           "Nutrient nitrogen N (total)",
           2009,
           "tonnes",
           "Qm",
           "Official data from questionnaires and/or national sources and/or COMTRADE (reporters)",
           15.054435362052065
          ],
          [
           "RFN",
           "Fertilizers by Nutrient",
           "Pakistan",
           "Agricultural Use",
           3102,
           "Nutrient nitrogen N (total)",
           2010,
           "tonnes",
           "Qm",
           "Official data from questionnaires and/or national sources and/or COMTRADE (reporters)",
           15.000462915011468
          ],
          [
           "RFN",
           "Fertilizers by Nutrient",
           "Pakistan",
           "Agricultural Use",
           3102,
           "Nutrient nitrogen N (total)",
           2011,
           "tonnes",
           "Qm",
           "Official data from questionnaires and/or national sources and/or COMTRADE (reporters)",
           14.974696957369234
          ],
          [
           "RFN",
           "Fertilizers by Nutrient",
           "Pakistan",
           "Agricultural Use",
           3102,
           "Nutrient nitrogen N (total)",
           2012,
           "tonnes",
           "Qm",
           "Official data from questionnaires and/or national sources and/or COMTRADE (reporters)",
           14.863100041974977
          ],
          [
           "RFN",
           "Fertilizers by Nutrient",
           "Pakistan",
           "Agricultural Use",
           3102,
           "Nutrient nitrogen N (total)",
           2013,
           "tonnes",
           "Qm",
           "Official data from questionnaires and/or national sources and/or COMTRADE (reporters)",
           14.99094715002527
          ],
          [
           "RFN",
           "Fertilizers by Nutrient",
           "Pakistan",
           "Agricultural Use",
           3102,
           "Nutrient nitrogen N (total)",
           2014,
           "tonnes",
           "Qm",
           "Official data from questionnaires and/or national sources and/or COMTRADE (reporters)",
           14.959498616959145
          ],
          [
           "RFN",
           "Fertilizers by Nutrient",
           "Pakistan",
           "Agricultural Use",
           3102,
           "Nutrient nitrogen N (total)",
           2015,
           "tonnes",
           "Qm",
           "Official data from questionnaires and/or national sources and/or COMTRADE (reporters)",
           14.966243015731461
          ],
          [
           "RFN",
           "Fertilizers by Nutrient",
           "Pakistan",
           "Agricultural Use",
           3102,
           "Nutrient nitrogen N (total)",
           2016,
           "tonnes",
           "Qm",
           "Official data from questionnaires and/or national sources and/or COMTRADE (reporters)",
           14.991672294870009
          ],
          [
           "RFN",
           "Fertilizers by Nutrient",
           "Pakistan",
           "Agricultural Use",
           3102,
           "Nutrient nitrogen N (total)",
           2017,
           "tonnes",
           "Qm",
           "Official data from questionnaires and/or national sources and/or COMTRADE (reporters)",
           15.052992216870479
          ],
          [
           "RFN",
           "Fertilizers by Nutrient",
           "Pakistan",
           "Agricultural Use",
           3102,
           "Nutrient nitrogen N (total)",
           2018,
           "tonnes",
           "Fm",
           "Manual Estimation",
           15.052992216870479
          ],
          [
           "RFN",
           "Fertilizers by Nutrient",
           "Pakistan",
           "Agricultural Use",
           3102,
           "Nutrient nitrogen N (total)",
           2019,
           "tonnes",
           "Qm",
           "Official data from questionnaires and/or national sources and/or COMTRADE (reporters)",
           15.069802642479903
          ],
          [
           "RFN",
           "Fertilizers by Nutrient",
           "Pakistan",
           "Agricultural Use",
           3102,
           "Nutrient nitrogen N (total)",
           2020,
           "tonnes",
           "Qm",
           "Official data from questionnaires and/or national sources and/or COMTRADE (reporters)",
           15.077879809450549
          ]
         ],
         "fillcolor": "rgba(255,255,255,0)",
         "hoveron": "points",
         "hovertemplate": "Item=%{customdata[5]}<br>Value=%{x}<br>DomainCode=%{customdata[0]}<br>Domain=%{customdata[1]}<br>Area=%{customdata[2]}<br>Element=%{customdata[3]}<br>ItemCode=%{customdata[4]}<br>YearCode=%{customdata[6]}<br>Unit=%{customdata[7]}<br>Flag=%{customdata[8]}<br>FlagDescription=%{customdata[9]}<br>Value_log=%{customdata[10]}<extra></extra>",
         "jitter": 0,
         "legendgroup": "Nutrient nitrogen N (total)",
         "line": {
          "color": "rgba(255,255,255,0)"
         },
         "marker": {
          "color": "#636efa",
          "symbol": "line-ns-open"
         },
         "name": "Nutrient nitrogen N (total)",
         "offsetgroup": "Nutrient nitrogen N (total)",
         "showlegend": false,
         "type": "box",
         "x": [
          41659,
          41160,
          67620,
          84147,
          69242,
          107779,
          177441,
          203521,
          272566,
          251519,
          343973,
          386230,
          341944,
          362900,
          443451,
          511000,
          554100,
          684300,
          775804,
          843574,
          832572,
          954083,
          914317,
          934498,
          1128138,
          1332570,
          1281700,
          1324453,
          1467590,
          1471642,
          1462862,
          1636323,
          1659350,
          1738117,
          1991006,
          1985080,
          2087607,
          2091852,
          2218100,
          2264600,
          2291610,
          2384980,
          2456009,
          2570230,
          2818779,
          2868984,
          2714053,
          2928057,
          3451900,
          3270531,
          3187339,
          2850771,
          3239557,
          3139263,
          3160507,
          3241907,
          3446922,
          3446922,
          3505356,
          3533784
         ],
         "xaxis": "x2",
         "yaxis": "y2"
        },
        {
         "alignmentgroup": "True",
         "bingroup": "x",
         "histfunc": "sum",
         "hovertemplate": "Item=Nutrient phosphate P2O5 (total)<br>Value=%{x}<br>sum of Year=%{y}<extra></extra>",
         "legendgroup": "Nutrient phosphate P2O5 (total)",
         "marker": {
          "color": "#EF553B",
          "pattern": {
           "shape": ""
          }
         },
         "name": "Nutrient phosphate P2O5 (total)",
         "offsetgroup": "Nutrient phosphate P2O5 (total)",
         "orientation": "v",
         "showlegend": true,
         "type": "histogram",
         "x": [
          500,
          210,
          630,
          1029,
          1245,
          3911,
          12777,
          38642,
          33801,
          30462,
          37231,
          48730,
          58066,
          60500,
          108500,
          117900,
          157300,
          187900,
          201086,
          226487,
          225502,
          265285,
          261400,
          293829,
          349776,
          409750,
          393400,
          390406,
          382457,
          388500,
          397974,
          487530,
          464258,
          428900,
          494449,
          419474,
          551284,
          465000,
          596800,
          675100,
          641940,
          647360,
          669307,
          761031,
          871416,
          906749,
          816044,
          565675,
          778714,
          756700,
          653181,
          678840,
          875452,
          936148,
          993338,
          1209145,
          1257773,
          1257773,
          1099707,
          1204060
         ],
         "xaxis": "x",
         "y": [
          1961,
          1962,
          1963,
          1964,
          1965,
          1966,
          1967,
          1968,
          1969,
          1970,
          1971,
          1972,
          1973,
          1974,
          1975,
          1976,
          1977,
          1978,
          1979,
          1980,
          1981,
          1982,
          1983,
          1984,
          1985,
          1986,
          1987,
          1988,
          1989,
          1990,
          1991,
          1992,
          1993,
          1994,
          1995,
          1996,
          1997,
          1998,
          1999,
          2000,
          2001,
          2002,
          2003,
          2004,
          2005,
          2006,
          2007,
          2008,
          2009,
          2010,
          2011,
          2012,
          2013,
          2014,
          2015,
          2016,
          2017,
          2018,
          2019,
          2020
         ],
         "yaxis": "y"
        },
        {
         "alignmentgroup": "True",
         "boxpoints": "all",
         "customdata": [
          [
           "RFN",
           "Fertilizers by Nutrient",
           "Pakistan",
           "Agricultural Use",
           3103,
           "Nutrient phosphate P2O5 (total)",
           1961,
           "tonnes",
           "Qm",
           "Official data from questionnaires and/or national sources and/or COMTRADE (reporters)",
           6.214608098422191
          ],
          [
           "RFN",
           "Fertilizers by Nutrient",
           "Pakistan",
           "Agricultural Use",
           3103,
           "Nutrient phosphate P2O5 (total)",
           1962,
           "tonnes",
           "Qm",
           "Official data from questionnaires and/or national sources and/or COMTRADE (reporters)",
           5.3471075307174685
          ],
          [
           "RFN",
           "Fertilizers by Nutrient",
           "Pakistan",
           "Agricultural Use",
           3103,
           "Nutrient phosphate P2O5 (total)",
           1963,
           "tonnes",
           "Qm",
           "Official data from questionnaires and/or national sources and/or COMTRADE (reporters)",
           6.4457198193855785
          ],
          [
           "RFN",
           "Fertilizers by Nutrient",
           "Pakistan",
           "Agricultural Use",
           3103,
           "Nutrient phosphate P2O5 (total)",
           1964,
           "tonnes",
           "Qm",
           "Official data from questionnaires and/or national sources and/or COMTRADE (reporters)",
           6.9363427358340495
          ],
          [
           "RFN",
           "Fertilizers by Nutrient",
           "Pakistan",
           "Agricultural Use",
           3103,
           "Nutrient phosphate P2O5 (total)",
           1965,
           "tonnes",
           "Qm",
           "Official data from questionnaires and/or national sources and/or COMTRADE (reporters)",
           7.126890808898808
          ],
          [
           "RFN",
           "Fertilizers by Nutrient",
           "Pakistan",
           "Agricultural Use",
           3103,
           "Nutrient phosphate P2O5 (total)",
           1966,
           "tonnes",
           "Qm",
           "Official data from questionnaires and/or national sources and/or COMTRADE (reporters)",
           8.271548374755515
          ],
          [
           "RFN",
           "Fertilizers by Nutrient",
           "Pakistan",
           "Agricultural Use",
           3103,
           "Nutrient phosphate P2O5 (total)",
           1967,
           "tonnes",
           "Qm",
           "Official data from questionnaires and/or national sources and/or COMTRADE (reporters)",
           9.455401958591324
          ],
          [
           "RFN",
           "Fertilizers by Nutrient",
           "Pakistan",
           "Agricultural Use",
           3103,
           "Nutrient phosphate P2O5 (total)",
           1968,
           "tonnes",
           "Qm",
           "Official data from questionnaires and/or national sources and/or COMTRADE (reporters)",
           10.562095046821328
          ],
          [
           "RFN",
           "Fertilizers by Nutrient",
           "Pakistan",
           "Agricultural Use",
           3103,
           "Nutrient phosphate P2O5 (total)",
           1969,
           "tonnes",
           "Qm",
           "Official data from questionnaires and/or national sources and/or COMTRADE (reporters)",
           10.428245666832275
          ],
          [
           "RFN",
           "Fertilizers by Nutrient",
           "Pakistan",
           "Agricultural Use",
           3103,
           "Nutrient phosphate P2O5 (total)",
           1970,
           "tonnes",
           "Qm",
           "Official data from questionnaires and/or national sources and/or COMTRADE (reporters)",
           10.32423528417545
          ],
          [
           "RFN",
           "Fertilizers by Nutrient",
           "Pakistan",
           "Agricultural Use",
           3103,
           "Nutrient phosphate P2O5 (total)",
           1971,
           "tonnes",
           "Qm",
           "Official data from questionnaires and/or national sources and/or COMTRADE (reporters)",
           10.52489702656513
          ],
          [
           "RFN",
           "Fertilizers by Nutrient",
           "Pakistan",
           "Agricultural Use",
           3103,
           "Nutrient phosphate P2O5 (total)",
           1972,
           "tonnes",
           "Qm",
           "Official data from questionnaires and/or national sources and/or COMTRADE (reporters)",
           10.794050135837551
          ],
          [
           "RFN",
           "Fertilizers by Nutrient",
           "Pakistan",
           "Agricultural Use",
           3103,
           "Nutrient phosphate P2O5 (total)",
           1973,
           "tonnes",
           "Qm",
           "Official data from questionnaires and/or national sources and/or COMTRADE (reporters)",
           10.969335573610264
          ],
          [
           "RFN",
           "Fertilizers by Nutrient",
           "Pakistan",
           "Agricultural Use",
           3103,
           "Nutrient phosphate P2O5 (total)",
           1974,
           "tonnes",
           "Qm",
           "Official data from questionnaires and/or national sources and/or COMTRADE (reporters)",
           11.010398644018933
          ],
          [
           "RFN",
           "Fertilizers by Nutrient",
           "Pakistan",
           "Agricultural Use",
           3103,
           "Nutrient phosphate P2O5 (total)",
           1975,
           "tonnes",
           "Qm",
           "Official data from questionnaires and/or national sources and/or COMTRADE (reporters)",
           11.594505451962652
          ],
          [
           "RFN",
           "Fertilizers by Nutrient",
           "Pakistan",
           "Agricultural Use",
           3103,
           "Nutrient phosphate P2O5 (total)",
           1976,
           "tonnes",
           "Qm",
           "Official data from questionnaires and/or national sources and/or COMTRADE (reporters)",
           11.677592086525463
          ],
          [
           "RFN",
           "Fertilizers by Nutrient",
           "Pakistan",
           "Agricultural Use",
           3103,
           "Nutrient phosphate P2O5 (total)",
           1977,
           "tonnes",
           "Qm",
           "Official data from questionnaires and/or national sources and/or COMTRADE (reporters)",
           11.96591008904637
          ],
          [
           "RFN",
           "Fertilizers by Nutrient",
           "Pakistan",
           "Agricultural Use",
           3103,
           "Nutrient phosphate P2O5 (total)",
           1978,
           "tonnes",
           "Qm",
           "Official data from questionnaires and/or national sources and/or COMTRADE (reporters)",
           12.143665185401556
          ],
          [
           "RFN",
           "Fertilizers by Nutrient",
           "Pakistan",
           "Agricultural Use",
           3103,
           "Nutrient phosphate P2O5 (total)",
           1979,
           "tonnes",
           "Qm",
           "Official data from questionnaires and/or national sources and/or COMTRADE (reporters)",
           12.211487956231442
          ],
          [
           "RFN",
           "Fertilizers by Nutrient",
           "Pakistan",
           "Agricultural Use",
           3103,
           "Nutrient phosphate P2O5 (total)",
           1980,
           "tonnes",
           "Qm",
           "Official data from questionnaires and/or national sources and/or COMTRADE (reporters)",
           12.330442827114574
          ],
          [
           "RFN",
           "Fertilizers by Nutrient",
           "Pakistan",
           "Agricultural Use",
           3103,
           "Nutrient phosphate P2O5 (total)",
           1981,
           "tonnes",
           "Qm",
           "Official data from questionnaires and/or national sources and/or COMTRADE (reporters)",
           12.32608430706514
          ],
          [
           "RFN",
           "Fertilizers by Nutrient",
           "Pakistan",
           "Agricultural Use",
           3103,
           "Nutrient phosphate P2O5 (total)",
           1982,
           "tonnes",
           "Qm",
           "Official data from questionnaires and/or national sources and/or COMTRADE (reporters)",
           12.488559998761096
          ],
          [
           "RFN",
           "Fertilizers by Nutrient",
           "Pakistan",
           "Agricultural Use",
           3103,
           "Nutrient phosphate P2O5 (total)",
           1983,
           "tonnes",
           "X",
           "International reliable sources",
           12.473807080172259
          ],
          [
           "RFN",
           "Fertilizers by Nutrient",
           "Pakistan",
           "Agricultural Use",
           3103,
           "Nutrient phosphate P2O5 (total)",
           1984,
           "tonnes",
           "Qm",
           "Official data from questionnaires and/or national sources and/or COMTRADE (reporters)",
           12.59075324445387
          ],
          [
           "RFN",
           "Fertilizers by Nutrient",
           "Pakistan",
           "Agricultural Use",
           3103,
           "Nutrient phosphate P2O5 (total)",
           1985,
           "tonnes",
           "Qm",
           "Official data from questionnaires and/or national sources and/or COMTRADE (reporters)",
           12.765048228578173
          ],
          [
           "RFN",
           "Fertilizers by Nutrient",
           "Pakistan",
           "Agricultural Use",
           3103,
           "Nutrient phosphate P2O5 (total)",
           1986,
           "tonnes",
           "Qm",
           "Official data from questionnaires and/or national sources and/or COMTRADE (reporters)",
           12.923302496606077
          ],
          [
           "RFN",
           "Fertilizers by Nutrient",
           "Pakistan",
           "Agricultural Use",
           3103,
           "Nutrient phosphate P2O5 (total)",
           1987,
           "tonnes",
           "Qm",
           "Official data from questionnaires and/or national sources and/or COMTRADE (reporters)",
           12.882582184937096
          ],
          [
           "RFN",
           "Fertilizers by Nutrient",
           "Pakistan",
           "Agricultural Use",
           3103,
           "Nutrient phosphate P2O5 (total)",
           1988,
           "tonnes",
           "Qm",
           "Official data from questionnaires and/or national sources and/or COMTRADE (reporters)",
           12.874942502255434
          ],
          [
           "RFN",
           "Fertilizers by Nutrient",
           "Pakistan",
           "Agricultural Use",
           3103,
           "Nutrient phosphate P2O5 (total)",
           1989,
           "tonnes",
           "Qm",
           "Official data from questionnaires and/or national sources and/or COMTRADE (reporters)",
           12.854371507628663
          ],
          [
           "RFN",
           "Fertilizers by Nutrient",
           "Pakistan",
           "Agricultural Use",
           3103,
           "Nutrient phosphate P2O5 (total)",
           1990,
           "tonnes",
           "Qm",
           "Official data from questionnaires and/or national sources and/or COMTRADE (reporters)",
           12.87004844878984
          ],
          [
           "RFN",
           "Fertilizers by Nutrient",
           "Pakistan",
           "Agricultural Use",
           3103,
           "Nutrient phosphate P2O5 (total)",
           1991,
           "tonnes",
           "Qm",
           "Official data from questionnaires and/or national sources and/or COMTRADE (reporters)",
           12.894141955499531
          ],
          [
           "RFN",
           "Fertilizers by Nutrient",
           "Pakistan",
           "Agricultural Use",
           3103,
           "Nutrient phosphate P2O5 (total)",
           1992,
           "tonnes",
           "Qm",
           "Official data from questionnaires and/or national sources and/or COMTRADE (reporters)",
           13.097107105988163
          ],
          [
           "RFN",
           "Fertilizers by Nutrient",
           "Pakistan",
           "Agricultural Use",
           3103,
           "Nutrient phosphate P2O5 (total)",
           1993,
           "tonnes",
           "Qm",
           "Official data from questionnaires and/or national sources and/or COMTRADE (reporters)",
           13.048195711161258
          ],
          [
           "RFN",
           "Fertilizers by Nutrient",
           "Pakistan",
           "Agricultural Use",
           3103,
           "Nutrient phosphate P2O5 (total)",
           1994,
           "tonnes",
           "X",
           "International reliable sources",
           12.968979070504972
          ],
          [
           "RFN",
           "Fertilizers by Nutrient",
           "Pakistan",
           "Agricultural Use",
           3103,
           "Nutrient phosphate P2O5 (total)",
           1995,
           "tonnes",
           "Qm",
           "Official data from questionnaires and/or national sources and/or COMTRADE (reporters)",
           13.111199290246907
          ],
          [
           "RFN",
           "Fertilizers by Nutrient",
           "Pakistan",
           "Agricultural Use",
           3103,
           "Nutrient phosphate P2O5 (total)",
           1996,
           "tonnes",
           "Qm",
           "Official data from questionnaires and/or national sources and/or COMTRADE (reporters)",
           12.94675682442276
          ],
          [
           "RFN",
           "Fertilizers by Nutrient",
           "Pakistan",
           "Agricultural Use",
           3103,
           "Nutrient phosphate P2O5 (total)",
           1997,
           "tonnes",
           "Qm",
           "Official data from questionnaires and/or national sources and/or COMTRADE (reporters)",
           13.220005381845718
          ],
          [
           "RFN",
           "Fertilizers by Nutrient",
           "Pakistan",
           "Agricultural Use",
           3103,
           "Nutrient phosphate P2O5 (total)",
           1998,
           "tonnes",
           "Qm",
           "Official data from questionnaires and/or national sources and/or COMTRADE (reporters)",
           13.049792684569493
          ],
          [
           "RFN",
           "Fertilizers by Nutrient",
           "Pakistan",
           "Agricultural Use",
           3103,
           "Nutrient phosphate P2O5 (total)",
           1999,
           "tonnes",
           "Qm",
           "Official data from questionnaires and/or national sources and/or COMTRADE (reporters)",
           13.299337327871688
          ],
          [
           "RFN",
           "Fertilizers by Nutrient",
           "Pakistan",
           "Agricultural Use",
           3103,
           "Nutrient phosphate P2O5 (total)",
           2000,
           "tonnes",
           "Qm",
           "Official data from questionnaires and/or national sources and/or COMTRADE (reporters)",
           13.422616107029961
          ],
          [
           "RFN",
           "Fertilizers by Nutrient",
           "Pakistan",
           "Agricultural Use",
           3103,
           "Nutrient phosphate P2O5 (total)",
           2001,
           "tonnes",
           "Qm",
           "Official data from questionnaires and/or national sources and/or COMTRADE (reporters)",
           13.372250120360707
          ],
          [
           "RFN",
           "Fertilizers by Nutrient",
           "Pakistan",
           "Agricultural Use",
           3103,
           "Nutrient phosphate P2O5 (total)",
           2002,
           "tonnes",
           "Fb",
           "Data obtained as a balance",
           13.380657832961518
          ],
          [
           "RFN",
           "Fertilizers by Nutrient",
           "Pakistan",
           "Agricultural Use",
           3103,
           "Nutrient phosphate P2O5 (total)",
           2003,
           "tonnes",
           "Qm",
           "Official data from questionnaires and/or national sources and/or COMTRADE (reporters)",
           13.413998127722223
          ],
          [
           "RFN",
           "Fertilizers by Nutrient",
           "Pakistan",
           "Agricultural Use",
           3103,
           "Nutrient phosphate P2O5 (total)",
           2004,
           "tonnes",
           "Qm",
           "Official data from questionnaires and/or national sources and/or COMTRADE (reporters)",
           13.54242937188799
          ],
          [
           "RFN",
           "Fertilizers by Nutrient",
           "Pakistan",
           "Agricultural Use",
           3103,
           "Nutrient phosphate P2O5 (total)",
           2005,
           "tonnes",
           "Qm",
           "Official data from questionnaires and/or national sources and/or COMTRADE (reporters)",
           13.67787475375466
          ],
          [
           "RFN",
           "Fertilizers by Nutrient",
           "Pakistan",
           "Agricultural Use",
           3103,
           "Nutrient phosphate P2O5 (total)",
           2006,
           "tonnes",
           "Qm",
           "Official data from questionnaires and/or national sources and/or COMTRADE (reporters)",
           13.717620954304728
          ],
          [
           "RFN",
           "Fertilizers by Nutrient",
           "Pakistan",
           "Agricultural Use",
           3103,
           "Nutrient phosphate P2O5 (total)",
           2007,
           "tonnes",
           "Qm",
           "Official data from questionnaires and/or national sources and/or COMTRADE (reporters)",
           13.612223554061156
          ],
          [
           "RFN",
           "Fertilizers by Nutrient",
           "Pakistan",
           "Agricultural Use",
           3103,
           "Nutrient phosphate P2O5 (total)",
           2008,
           "tonnes",
           "Qm",
           "Official data from questionnaires and/or national sources and/or COMTRADE (reporters)",
           13.245774987319528
          ],
          [
           "RFN",
           "Fertilizers by Nutrient",
           "Pakistan",
           "Agricultural Use",
           3103,
           "Nutrient phosphate P2O5 (total)",
           2009,
           "tonnes",
           "Qm",
           "Official data from questionnaires and/or national sources and/or COMTRADE (reporters)",
           13.565399120085882
          ],
          [
           "RFN",
           "Fertilizers by Nutrient",
           "Pakistan",
           "Agricultural Use",
           3103,
           "Nutrient phosphate P2O5 (total)",
           2010,
           "tonnes",
           "Qm",
           "Official data from questionnaires and/or national sources and/or COMTRADE (reporters)",
           13.536722152682612
          ],
          [
           "RFN",
           "Fertilizers by Nutrient",
           "Pakistan",
           "Agricultural Use",
           3103,
           "Nutrient phosphate P2O5 (total)",
           2011,
           "tonnes",
           "Qm",
           "Official data from questionnaires and/or national sources and/or COMTRADE (reporters)",
           13.389609552086505
          ],
          [
           "RFN",
           "Fertilizers by Nutrient",
           "Pakistan",
           "Agricultural Use",
           3103,
           "Nutrient phosphate P2O5 (total)",
           2012,
           "tonnes",
           "Qm",
           "Official data from questionnaires and/or national sources and/or COMTRADE (reporters)",
           13.428140738125201
          ],
          [
           "RFN",
           "Fertilizers by Nutrient",
           "Pakistan",
           "Agricultural Use",
           3103,
           "Nutrient phosphate P2O5 (total)",
           2013,
           "tonnes",
           "Qm",
           "Official data from questionnaires and/or national sources and/or COMTRADE (reporters)",
           13.682495603391233
          ],
          [
           "RFN",
           "Fertilizers by Nutrient",
           "Pakistan",
           "Agricultural Use",
           3103,
           "Nutrient phosphate P2O5 (total)",
           2014,
           "tonnes",
           "Qm",
           "Official data from questionnaires and/or national sources and/or COMTRADE (reporters)",
           13.749528862618254
          ],
          [
           "RFN",
           "Fertilizers by Nutrient",
           "Pakistan",
           "Agricultural Use",
           3103,
           "Nutrient phosphate P2O5 (total)",
           2015,
           "tonnes",
           "Qm",
           "Official data from questionnaires and/or national sources and/or COMTRADE (reporters)",
           13.80882626778902
          ],
          [
           "RFN",
           "Fertilizers by Nutrient",
           "Pakistan",
           "Agricultural Use",
           3103,
           "Nutrient phosphate P2O5 (total)",
           2016,
           "tonnes",
           "Qm",
           "Official data from questionnaires and/or national sources and/or COMTRADE (reporters)",
           14.005424056235054
          ],
          [
           "RFN",
           "Fertilizers by Nutrient",
           "Pakistan",
           "Agricultural Use",
           3103,
           "Nutrient phosphate P2O5 (total)",
           2017,
           "tonnes",
           "Qm",
           "Official data from questionnaires and/or national sources and/or COMTRADE (reporters)",
           14.044853254809304
          ],
          [
           "RFN",
           "Fertilizers by Nutrient",
           "Pakistan",
           "Agricultural Use",
           3103,
           "Nutrient phosphate P2O5 (total)",
           2018,
           "tonnes",
           "Fm",
           "Manual Estimation",
           14.044853254809304
          ],
          [
           "RFN",
           "Fertilizers by Nutrient",
           "Pakistan",
           "Agricultural Use",
           3103,
           "Nutrient phosphate P2O5 (total)",
           2019,
           "tonnes",
           "Qm",
           "Official data from questionnaires and/or national sources and/or COMTRADE (reporters)",
           13.910554338651142
          ],
          [
           "RFN",
           "Fertilizers by Nutrient",
           "Pakistan",
           "Agricultural Use",
           3103,
           "Nutrient phosphate P2O5 (total)",
           2020,
           "tonnes",
           "Qm",
           "Official data from questionnaires and/or national sources and/or COMTRADE (reporters)",
           14.00120973749628
          ]
         ],
         "fillcolor": "rgba(255,255,255,0)",
         "hoveron": "points",
         "hovertemplate": "Item=%{customdata[5]}<br>Value=%{x}<br>DomainCode=%{customdata[0]}<br>Domain=%{customdata[1]}<br>Area=%{customdata[2]}<br>Element=%{customdata[3]}<br>ItemCode=%{customdata[4]}<br>YearCode=%{customdata[6]}<br>Unit=%{customdata[7]}<br>Flag=%{customdata[8]}<br>FlagDescription=%{customdata[9]}<br>Value_log=%{customdata[10]}<extra></extra>",
         "jitter": 0,
         "legendgroup": "Nutrient phosphate P2O5 (total)",
         "line": {
          "color": "rgba(255,255,255,0)"
         },
         "marker": {
          "color": "#EF553B",
          "symbol": "line-ns-open"
         },
         "name": "Nutrient phosphate P2O5 (total)",
         "offsetgroup": "Nutrient phosphate P2O5 (total)",
         "showlegend": false,
         "type": "box",
         "x": [
          500,
          210,
          630,
          1029,
          1245,
          3911,
          12777,
          38642,
          33801,
          30462,
          37231,
          48730,
          58066,
          60500,
          108500,
          117900,
          157300,
          187900,
          201086,
          226487,
          225502,
          265285,
          261400,
          293829,
          349776,
          409750,
          393400,
          390406,
          382457,
          388500,
          397974,
          487530,
          464258,
          428900,
          494449,
          419474,
          551284,
          465000,
          596800,
          675100,
          641940,
          647360,
          669307,
          761031,
          871416,
          906749,
          816044,
          565675,
          778714,
          756700,
          653181,
          678840,
          875452,
          936148,
          993338,
          1209145,
          1257773,
          1257773,
          1099707,
          1204060
         ],
         "xaxis": "x2",
         "yaxis": "y2"
        },
        {
         "alignmentgroup": "True",
         "bingroup": "x",
         "histfunc": "sum",
         "hovertemplate": "Item=Nutrient potash K2O (total)<br>Value=%{x}<br>sum of Year=%{y}<extra></extra>",
         "legendgroup": "Nutrient potash K2O (total)",
         "marker": {
          "color": "#00cc96",
          "pattern": {
           "shape": ""
          }
         },
         "name": "Nutrient potash K2O (total)",
         "offsetgroup": "Nutrient potash K2O (total)",
         "orientation": "v",
         "showlegend": true,
         "type": "histogram",
         "x": [
          144,
          212,
          2486,
          1344,
          1225,
          744,
          1400,
          2670,
          2100,
          1900,
          2400,
          5800,
          7600,
          9618,
          9643,
          21772,
          24948,
          28581,
          24677,
          33205,
          42880,
          45100,
          24533,
          40078,
          32757,
          23297,
          24062,
          23172,
          16555,
          29669,
          8425,
          20443,
          21200,
          18100,
          22800,
          10900,
          20500,
          23944,
          26449,
          35301,
          36408,
          43924,
          16564,
          15499,
          37545,
          28013,
          19427,
          19849,
          29549,
          25291,
          28954,
          54173,
          54173,
          47260,
          60973
         ],
         "xaxis": "x",
         "y": [
          1966,
          1967,
          1968,
          1969,
          1970,
          1971,
          1972,
          1973,
          1974,
          1975,
          1976,
          1977,
          1978,
          1979,
          1980,
          1981,
          1982,
          1983,
          1984,
          1985,
          1986,
          1987,
          1988,
          1989,
          1990,
          1991,
          1992,
          1993,
          1994,
          1995,
          1996,
          1997,
          1998,
          1999,
          2000,
          2001,
          2002,
          2003,
          2004,
          2005,
          2006,
          2007,
          2008,
          2009,
          2010,
          2011,
          2012,
          2013,
          2014,
          2015,
          2016,
          2017,
          2018,
          2019,
          2020
         ],
         "yaxis": "y"
        },
        {
         "alignmentgroup": "True",
         "boxpoints": "all",
         "customdata": [
          [
           "RFN",
           "Fertilizers by Nutrient",
           "Pakistan",
           "Agricultural Use",
           3104,
           "Nutrient potash K2O (total)",
           1966,
           "tonnes",
           "Qm",
           "Official data from questionnaires and/or national sources and/or COMTRADE (reporters)",
           4.969813299576001
          ],
          [
           "RFN",
           "Fertilizers by Nutrient",
           "Pakistan",
           "Agricultural Use",
           3104,
           "Nutrient potash K2O (total)",
           1967,
           "tonnes",
           "Qm",
           "Official data from questionnaires and/or national sources and/or COMTRADE (reporters)",
           5.356586274672012
          ],
          [
           "RFN",
           "Fertilizers by Nutrient",
           "Pakistan",
           "Agricultural Use",
           3104,
           "Nutrient potash K2O (total)",
           1968,
           "tonnes",
           "Qm",
           "Official data from questionnaires and/or national sources and/or COMTRADE (reporters)",
           7.818430272070656
          ],
          [
           "RFN",
           "Fertilizers by Nutrient",
           "Pakistan",
           "Agricultural Use",
           3104,
           "Nutrient potash K2O (total)",
           1969,
           "tonnes",
           "Qm",
           "Official data from questionnaires and/or national sources and/or COMTRADE (reporters)",
           7.203405521083095
          ],
          [
           "RFN",
           "Fertilizers by Nutrient",
           "Pakistan",
           "Agricultural Use",
           3104,
           "Nutrient potash K2O (total)",
           1970,
           "tonnes",
           "Qm",
           "Official data from questionnaires and/or national sources and/or COMTRADE (reporters)",
           7.110696122978827
          ],
          [
           "RFN",
           "Fertilizers by Nutrient",
           "Pakistan",
           "Agricultural Use",
           3104,
           "Nutrient potash K2O (total)",
           1971,
           "tonnes",
           "Qm",
           "Official data from questionnaires and/or national sources and/or COMTRADE (reporters)",
           6.612041034833092
          ],
          [
           "RFN",
           "Fertilizers by Nutrient",
           "Pakistan",
           "Agricultural Use",
           3104,
           "Nutrient potash K2O (total)",
           1972,
           "tonnes",
           "Qm",
           "Official data from questionnaires and/or national sources and/or COMTRADE (reporters)",
           7.24422751560335
          ],
          [
           "RFN",
           "Fertilizers by Nutrient",
           "Pakistan",
           "Agricultural Use",
           3104,
           "Nutrient potash K2O (total)",
           1973,
           "tonnes",
           "Qm",
           "Official data from questionnaires and/or national sources and/or COMTRADE (reporters)",
           7.8898337513942955
          ],
          [
           "RFN",
           "Fertilizers by Nutrient",
           "Pakistan",
           "Agricultural Use",
           3104,
           "Nutrient potash K2O (total)",
           1974,
           "tonnes",
           "Qm",
           "Official data from questionnaires and/or national sources and/or COMTRADE (reporters)",
           7.649692623711514
          ],
          [
           "RFN",
           "Fertilizers by Nutrient",
           "Pakistan",
           "Agricultural Use",
           3104,
           "Nutrient potash K2O (total)",
           1975,
           "tonnes",
           "Qm",
           "Official data from questionnaires and/or national sources and/or COMTRADE (reporters)",
           7.549609165154532
          ],
          [
           "RFN",
           "Fertilizers by Nutrient",
           "Pakistan",
           "Agricultural Use",
           3104,
           "Nutrient potash K2O (total)",
           1976,
           "tonnes",
           "Qm",
           "Official data from questionnaires and/or national sources and/or COMTRADE (reporters)",
           7.783224016336037
          ],
          [
           "RFN",
           "Fertilizers by Nutrient",
           "Pakistan",
           "Agricultural Use",
           3104,
           "Nutrient potash K2O (total)",
           1977,
           "tonnes",
           "Qm",
           "Official data from questionnaires and/or national sources and/or COMTRADE (reporters)",
           8.66561319653451
          ],
          [
           "RFN",
           "Fertilizers by Nutrient",
           "Pakistan",
           "Agricultural Use",
           3104,
           "Nutrient potash K2O (total)",
           1978,
           "tonnes",
           "Qm",
           "Official data from questionnaires and/or national sources and/or COMTRADE (reporters)",
           8.935903526274423
          ],
          [
           "RFN",
           "Fertilizers by Nutrient",
           "Pakistan",
           "Agricultural Use",
           3104,
           "Nutrient potash K2O (total)",
           1979,
           "tonnes",
           "Qm",
           "Official data from questionnaires and/or national sources and/or COMTRADE (reporters)",
           9.171391621837609
          ],
          [
           "RFN",
           "Fertilizers by Nutrient",
           "Pakistan",
           "Agricultural Use",
           3104,
           "Nutrient potash K2O (total)",
           1980,
           "tonnes",
           "Qm",
           "Official data from questionnaires and/or national sources and/or COMTRADE (reporters)",
           9.173987542510384
          ],
          [
           "RFN",
           "Fertilizers by Nutrient",
           "Pakistan",
           "Agricultural Use",
           3104,
           "Nutrient potash K2O (total)",
           1981,
           "tonnes",
           "Qm",
           "Official data from questionnaires and/or national sources and/or COMTRADE (reporters)",
           9.988380019554091
          ],
          [
           "RFN",
           "Fertilizers by Nutrient",
           "Pakistan",
           "Agricultural Use",
           3104,
           "Nutrient potash K2O (total)",
           1982,
           "tonnes",
           "Qm",
           "Official data from questionnaires and/or national sources and/or COMTRADE (reporters)",
           10.124548937646013
          ],
          [
           "RFN",
           "Fertilizers by Nutrient",
           "Pakistan",
           "Agricultural Use",
           3104,
           "Nutrient potash K2O (total)",
           1983,
           "tonnes",
           "Qm",
           "Official data from questionnaires and/or national sources and/or COMTRADE (reporters)",
           10.26049744037489
          ],
          [
           "RFN",
           "Fertilizers by Nutrient",
           "Pakistan",
           "Agricultural Use",
           3104,
           "Nutrient potash K2O (total)",
           1984,
           "tonnes",
           "Qm",
           "Official data from questionnaires and/or national sources and/or COMTRADE (reporters)",
           10.113626914715084
          ],
          [
           "RFN",
           "Fertilizers by Nutrient",
           "Pakistan",
           "Agricultural Use",
           3104,
           "Nutrient potash K2O (total)",
           1985,
           "tonnes",
           "Qm",
           "Official data from questionnaires and/or national sources and/or COMTRADE (reporters)",
           10.410455745974813
          ],
          [
           "RFN",
           "Fertilizers by Nutrient",
           "Pakistan",
           "Agricultural Use",
           3104,
           "Nutrient potash K2O (total)",
           1986,
           "tonnes",
           "Qm",
           "Official data from questionnaires and/or national sources and/or COMTRADE (reporters)",
           10.666160795744684
          ],
          [
           "RFN",
           "Fertilizers by Nutrient",
           "Pakistan",
           "Agricultural Use",
           3104,
           "Nutrient potash K2O (total)",
           1987,
           "tonnes",
           "Qm",
           "Official data from questionnaires and/or national sources and/or COMTRADE (reporters)",
           10.71663752549077
          ],
          [
           "RFN",
           "Fertilizers by Nutrient",
           "Pakistan",
           "Agricultural Use",
           3104,
           "Nutrient potash K2O (total)",
           1988,
           "tonnes",
           "Qm",
           "Official data from questionnaires and/or national sources and/or COMTRADE (reporters)",
           10.107774429000033
          ],
          [
           "RFN",
           "Fertilizers by Nutrient",
           "Pakistan",
           "Agricultural Use",
           3104,
           "Nutrient potash K2O (total)",
           1989,
           "tonnes",
           "Qm",
           "Official data from questionnaires and/or national sources and/or COMTRADE (reporters)",
           10.598582834314088
          ],
          [
           "RFN",
           "Fertilizers by Nutrient",
           "Pakistan",
           "Agricultural Use",
           3104,
           "Nutrient potash K2O (total)",
           1990,
           "tonnes",
           "Qm",
           "Official data from questionnaires and/or national sources and/or COMTRADE (reporters)",
           10.396871958682176
          ],
          [
           "RFN",
           "Fertilizers by Nutrient",
           "Pakistan",
           "Agricultural Use",
           3104,
           "Nutrient potash K2O (total)",
           1991,
           "tonnes",
           "Qm",
           "Official data from questionnaires and/or national sources and/or COMTRADE (reporters)",
           10.056079875899302
          ],
          [
           "RFN",
           "Fertilizers by Nutrient",
           "Pakistan",
           "Agricultural Use",
           3104,
           "Nutrient potash K2O (total)",
           1992,
           "tonnes",
           "Qm",
           "Official data from questionnaires and/or national sources and/or COMTRADE (reporters)",
           10.08838911159347
          ],
          [
           "RFN",
           "Fertilizers by Nutrient",
           "Pakistan",
           "Agricultural Use",
           3104,
           "Nutrient potash K2O (total)",
           1993,
           "tonnes",
           "Qm",
           "Official data from questionnaires and/or national sources and/or COMTRADE (reporters)",
           10.050699932216515
          ],
          [
           "RFN",
           "Fertilizers by Nutrient",
           "Pakistan",
           "Agricultural Use",
           3104,
           "Nutrient potash K2O (total)",
           1994,
           "tonnes",
           "Qm",
           "Official data from questionnaires and/or national sources and/or COMTRADE (reporters)",
           9.714443449981347
          ],
          [
           "RFN",
           "Fertilizers by Nutrient",
           "Pakistan",
           "Agricultural Use",
           3104,
           "Nutrient potash K2O (total)",
           1995,
           "tonnes",
           "Qm",
           "Official data from questionnaires and/or national sources and/or COMTRADE (reporters)",
           10.297858008638679
          ],
          [
           "RFN",
           "Fertilizers by Nutrient",
           "Pakistan",
           "Agricultural Use",
           3104,
           "Nutrient potash K2O (total)",
           1996,
           "tonnes",
           "Qm",
           "Official data from questionnaires and/or national sources and/or COMTRADE (reporters)",
           9.038958755220563
          ],
          [
           "RFN",
           "Fertilizers by Nutrient",
           "Pakistan",
           "Agricultural Use",
           3104,
           "Nutrient potash K2O (total)",
           1997,
           "tonnes",
           "Qm",
           "Official data from questionnaires and/or national sources and/or COMTRADE (reporters)",
           9.925395804585008
          ],
          [
           "RFN",
           "Fertilizers by Nutrient",
           "Pakistan",
           "Agricultural Use",
           3104,
           "Nutrient potash K2O (total)",
           1998,
           "tonnes",
           "X",
           "International reliable sources",
           9.961756460660103
          ],
          [
           "RFN",
           "Fertilizers by Nutrient",
           "Pakistan",
           "Agricultural Use",
           3104,
           "Nutrient potash K2O (total)",
           1999,
           "tonnes",
           "Qm",
           "Official data from questionnaires and/or national sources and/or COMTRADE (reporters)",
           9.803667217253917
          ],
          [
           "RFN",
           "Fertilizers by Nutrient",
           "Pakistan",
           "Agricultural Use",
           3104,
           "Nutrient potash K2O (total)",
           2000,
           "tonnes",
           "Qm",
           "Official data from questionnaires and/or national sources and/or COMTRADE (reporters)",
           10.034515814942532
          ],
          [
           "RFN",
           "Fertilizers by Nutrient",
           "Pakistan",
           "Agricultural Use",
           3104,
           "Nutrient potash K2O (total)",
           2001,
           "tonnes",
           "Qm",
           "Official data from questionnaires and/or national sources and/or COMTRADE (reporters)",
           9.296518068217235
          ],
          [
           "RFN",
           "Fertilizers by Nutrient",
           "Pakistan",
           "Agricultural Use",
           3104,
           "Nutrient potash K2O (total)",
           2002,
           "tonnes",
           "W",
           "Data reported on country official publications or web sites (Official) or trade country files",
           9.9281801651265
          ],
          [
           "RFN",
           "Fertilizers by Nutrient",
           "Pakistan",
           "Agricultural Use",
           3104,
           "Nutrient potash K2O (total)",
           2003,
           "tonnes",
           "Qm",
           "Official data from questionnaires and/or national sources and/or COMTRADE (reporters)",
           10.083473049532534
          ],
          [
           "RFN",
           "Fertilizers by Nutrient",
           "Pakistan",
           "Agricultural Use",
           3104,
           "Nutrient potash K2O (total)",
           2004,
           "tonnes",
           "Qm",
           "Official data from questionnaires and/or national sources and/or COMTRADE (reporters)",
           10.182973629388371
          ],
          [
           "RFN",
           "Fertilizers by Nutrient",
           "Pakistan",
           "Agricultural Use",
           3104,
           "Nutrient potash K2O (total)",
           2005,
           "tonnes",
           "Qm",
           "Official data from questionnaires and/or national sources and/or COMTRADE (reporters)",
           10.471666571132038
          ],
          [
           "RFN",
           "Fertilizers by Nutrient",
           "Pakistan",
           "Agricultural Use",
           3104,
           "Nutrient potash K2O (total)",
           2006,
           "tonnes",
           "Qm",
           "Official data from questionnaires and/or national sources and/or COMTRADE (reporters)",
           10.502543809696478
          ],
          [
           "RFN",
           "Fertilizers by Nutrient",
           "Pakistan",
           "Agricultural Use",
           3104,
           "Nutrient potash K2O (total)",
           2007,
           "tonnes",
           "Qm",
           "Official data from questionnaires and/or national sources and/or COMTRADE (reporters)",
           10.690216146717605
          ],
          [
           "RFN",
           "Fertilizers by Nutrient",
           "Pakistan",
           "Agricultural Use",
           3104,
           "Nutrient potash K2O (total)",
           2008,
           "tonnes",
           "Qm",
           "Official data from questionnaires and/or national sources and/or COMTRADE (reporters)",
           9.714986944665458
          ],
          [
           "RFN",
           "Fertilizers by Nutrient",
           "Pakistan",
           "Agricultural Use",
           3104,
           "Nutrient potash K2O (total)",
           2009,
           "tonnes",
           "Qm",
           "Official data from questionnaires and/or national sources and/or COMTRADE (reporters)",
           9.648530784697051
          ],
          [
           "RFN",
           "Fertilizers by Nutrient",
           "Pakistan",
           "Agricultural Use",
           3104,
           "Nutrient potash K2O (total)",
           2010,
           "tonnes",
           "Qm",
           "Official data from questionnaires and/or national sources and/or COMTRADE (reporters)",
           10.533295492533984
          ],
          [
           "RFN",
           "Fertilizers by Nutrient",
           "Pakistan",
           "Agricultural Use",
           3104,
           "Nutrient potash K2O (total)",
           2011,
           "tonnes",
           "Qm",
           "Official data from questionnaires and/or national sources and/or COMTRADE (reporters)",
           10.240423967124363
          ],
          [
           "RFN",
           "Fertilizers by Nutrient",
           "Pakistan",
           "Agricultural Use",
           3104,
           "Nutrient potash K2O (total)",
           2012,
           "tonnes",
           "Qm",
           "Official data from questionnaires and/or national sources and/or COMTRADE (reporters)",
           9.874419130038781
          ],
          [
           "RFN",
           "Fertilizers by Nutrient",
           "Pakistan",
           "Agricultural Use",
           3104,
           "Nutrient potash K2O (total)",
           2013,
           "tonnes",
           "Qm",
           "Official data from questionnaires and/or national sources and/or COMTRADE (reporters)",
           9.895908907012577
          ],
          [
           "RFN",
           "Fertilizers by Nutrient",
           "Pakistan",
           "Agricultural Use",
           3104,
           "Nutrient potash K2O (total)",
           2014,
           "tonnes",
           "Qm",
           "Official data from questionnaires and/or national sources and/or COMTRADE (reporters)",
           10.29380518131408
          ],
          [
           "RFN",
           "Fertilizers by Nutrient",
           "Pakistan",
           "Agricultural Use",
           3104,
           "Nutrient potash K2O (total)",
           2015,
           "tonnes",
           "Qm",
           "Official data from questionnaires and/or national sources and/or COMTRADE (reporters)",
           10.138203880202953
          ],
          [
           "RFN",
           "Fertilizers by Nutrient",
           "Pakistan",
           "Agricultural Use",
           3104,
           "Nutrient potash K2O (total)",
           2016,
           "tonnes",
           "Qm",
           "Official data from questionnaires and/or national sources and/or COMTRADE (reporters)",
           10.273463642713988
          ],
          [
           "RFN",
           "Fertilizers by Nutrient",
           "Pakistan",
           "Agricultural Use",
           3104,
           "Nutrient potash K2O (total)",
           2017,
           "tonnes",
           "Qm",
           "Official data from questionnaires and/or national sources and/or COMTRADE (reporters)",
           10.899937908325773
          ],
          [
           "RFN",
           "Fertilizers by Nutrient",
           "Pakistan",
           "Agricultural Use",
           3104,
           "Nutrient potash K2O (total)",
           2018,
           "tonnes",
           "Fm",
           "Manual Estimation",
           10.899937908325773
          ],
          [
           "RFN",
           "Fertilizers by Nutrient",
           "Pakistan",
           "Agricultural Use",
           3104,
           "Nutrient potash K2O (total)",
           2019,
           "tonnes",
           "Qm",
           "Official data from questionnaires and/or national sources and/or COMTRADE (reporters)",
           10.763419550740899
          ],
          [
           "RFN",
           "Fertilizers by Nutrient",
           "Pakistan",
           "Agricultural Use",
           3104,
           "Nutrient potash K2O (total)",
           2020,
           "tonnes",
           "Qm",
           "Official data from questionnaires and/or national sources and/or COMTRADE (reporters)",
           11.018186422218175
          ]
         ],
         "fillcolor": "rgba(255,255,255,0)",
         "hoveron": "points",
         "hovertemplate": "Item=%{customdata[5]}<br>Value=%{x}<br>DomainCode=%{customdata[0]}<br>Domain=%{customdata[1]}<br>Area=%{customdata[2]}<br>Element=%{customdata[3]}<br>ItemCode=%{customdata[4]}<br>YearCode=%{customdata[6]}<br>Unit=%{customdata[7]}<br>Flag=%{customdata[8]}<br>FlagDescription=%{customdata[9]}<br>Value_log=%{customdata[10]}<extra></extra>",
         "jitter": 0,
         "legendgroup": "Nutrient potash K2O (total)",
         "line": {
          "color": "rgba(255,255,255,0)"
         },
         "marker": {
          "color": "#00cc96",
          "symbol": "line-ns-open"
         },
         "name": "Nutrient potash K2O (total)",
         "offsetgroup": "Nutrient potash K2O (total)",
         "showlegend": false,
         "type": "box",
         "x": [
          144,
          212,
          2486,
          1344,
          1225,
          744,
          1400,
          2670,
          2100,
          1900,
          2400,
          5800,
          7600,
          9618,
          9643,
          21772,
          24948,
          28581,
          24677,
          33205,
          42880,
          45100,
          24533,
          40078,
          32757,
          23297,
          24062,
          23172,
          16555,
          29669,
          8425,
          20443,
          21200,
          18100,
          22800,
          10900,
          20500,
          23944,
          26449,
          35301,
          36408,
          43924,
          16564,
          15499,
          37545,
          28013,
          19427,
          19849,
          29549,
          25291,
          28954,
          54173,
          54173,
          47260,
          60973
         ],
         "xaxis": "x2",
         "yaxis": "y2"
        }
       ],
       "layout": {
        "barmode": "relative",
        "legend": {
         "title": {
          "text": "Item"
         },
         "tracegroupgap": 0
        },
        "margin": {
         "t": 60
        },
        "template": {
         "data": {
          "bar": [
           {
            "error_x": {
             "color": "#2a3f5f"
            },
            "error_y": {
             "color": "#2a3f5f"
            },
            "marker": {
             "line": {
              "color": "#E5ECF6",
              "width": 0.5
             },
             "pattern": {
              "fillmode": "overlay",
              "size": 10,
              "solidity": 0.2
             }
            },
            "type": "bar"
           }
          ],
          "barpolar": [
           {
            "marker": {
             "line": {
              "color": "#E5ECF6",
              "width": 0.5
             },
             "pattern": {
              "fillmode": "overlay",
              "size": 10,
              "solidity": 0.2
             }
            },
            "type": "barpolar"
           }
          ],
          "carpet": [
           {
            "aaxis": {
             "endlinecolor": "#2a3f5f",
             "gridcolor": "white",
             "linecolor": "white",
             "minorgridcolor": "white",
             "startlinecolor": "#2a3f5f"
            },
            "baxis": {
             "endlinecolor": "#2a3f5f",
             "gridcolor": "white",
             "linecolor": "white",
             "minorgridcolor": "white",
             "startlinecolor": "#2a3f5f"
            },
            "type": "carpet"
           }
          ],
          "choropleth": [
           {
            "colorbar": {
             "outlinewidth": 0,
             "ticks": ""
            },
            "type": "choropleth"
           }
          ],
          "contour": [
           {
            "colorbar": {
             "outlinewidth": 0,
             "ticks": ""
            },
            "colorscale": [
             [
              0,
              "#0d0887"
             ],
             [
              0.1111111111111111,
              "#46039f"
             ],
             [
              0.2222222222222222,
              "#7201a8"
             ],
             [
              0.3333333333333333,
              "#9c179e"
             ],
             [
              0.4444444444444444,
              "#bd3786"
             ],
             [
              0.5555555555555556,
              "#d8576b"
             ],
             [
              0.6666666666666666,
              "#ed7953"
             ],
             [
              0.7777777777777778,
              "#fb9f3a"
             ],
             [
              0.8888888888888888,
              "#fdca26"
             ],
             [
              1,
              "#f0f921"
             ]
            ],
            "type": "contour"
           }
          ],
          "contourcarpet": [
           {
            "colorbar": {
             "outlinewidth": 0,
             "ticks": ""
            },
            "type": "contourcarpet"
           }
          ],
          "heatmap": [
           {
            "colorbar": {
             "outlinewidth": 0,
             "ticks": ""
            },
            "colorscale": [
             [
              0,
              "#0d0887"
             ],
             [
              0.1111111111111111,
              "#46039f"
             ],
             [
              0.2222222222222222,
              "#7201a8"
             ],
             [
              0.3333333333333333,
              "#9c179e"
             ],
             [
              0.4444444444444444,
              "#bd3786"
             ],
             [
              0.5555555555555556,
              "#d8576b"
             ],
             [
              0.6666666666666666,
              "#ed7953"
             ],
             [
              0.7777777777777778,
              "#fb9f3a"
             ],
             [
              0.8888888888888888,
              "#fdca26"
             ],
             [
              1,
              "#f0f921"
             ]
            ],
            "type": "heatmap"
           }
          ],
          "heatmapgl": [
           {
            "colorbar": {
             "outlinewidth": 0,
             "ticks": ""
            },
            "colorscale": [
             [
              0,
              "#0d0887"
             ],
             [
              0.1111111111111111,
              "#46039f"
             ],
             [
              0.2222222222222222,
              "#7201a8"
             ],
             [
              0.3333333333333333,
              "#9c179e"
             ],
             [
              0.4444444444444444,
              "#bd3786"
             ],
             [
              0.5555555555555556,
              "#d8576b"
             ],
             [
              0.6666666666666666,
              "#ed7953"
             ],
             [
              0.7777777777777778,
              "#fb9f3a"
             ],
             [
              0.8888888888888888,
              "#fdca26"
             ],
             [
              1,
              "#f0f921"
             ]
            ],
            "type": "heatmapgl"
           }
          ],
          "histogram": [
           {
            "marker": {
             "pattern": {
              "fillmode": "overlay",
              "size": 10,
              "solidity": 0.2
             }
            },
            "type": "histogram"
           }
          ],
          "histogram2d": [
           {
            "colorbar": {
             "outlinewidth": 0,
             "ticks": ""
            },
            "colorscale": [
             [
              0,
              "#0d0887"
             ],
             [
              0.1111111111111111,
              "#46039f"
             ],
             [
              0.2222222222222222,
              "#7201a8"
             ],
             [
              0.3333333333333333,
              "#9c179e"
             ],
             [
              0.4444444444444444,
              "#bd3786"
             ],
             [
              0.5555555555555556,
              "#d8576b"
             ],
             [
              0.6666666666666666,
              "#ed7953"
             ],
             [
              0.7777777777777778,
              "#fb9f3a"
             ],
             [
              0.8888888888888888,
              "#fdca26"
             ],
             [
              1,
              "#f0f921"
             ]
            ],
            "type": "histogram2d"
           }
          ],
          "histogram2dcontour": [
           {
            "colorbar": {
             "outlinewidth": 0,
             "ticks": ""
            },
            "colorscale": [
             [
              0,
              "#0d0887"
             ],
             [
              0.1111111111111111,
              "#46039f"
             ],
             [
              0.2222222222222222,
              "#7201a8"
             ],
             [
              0.3333333333333333,
              "#9c179e"
             ],
             [
              0.4444444444444444,
              "#bd3786"
             ],
             [
              0.5555555555555556,
              "#d8576b"
             ],
             [
              0.6666666666666666,
              "#ed7953"
             ],
             [
              0.7777777777777778,
              "#fb9f3a"
             ],
             [
              0.8888888888888888,
              "#fdca26"
             ],
             [
              1,
              "#f0f921"
             ]
            ],
            "type": "histogram2dcontour"
           }
          ],
          "mesh3d": [
           {
            "colorbar": {
             "outlinewidth": 0,
             "ticks": ""
            },
            "type": "mesh3d"
           }
          ],
          "parcoords": [
           {
            "line": {
             "colorbar": {
              "outlinewidth": 0,
              "ticks": ""
             }
            },
            "type": "parcoords"
           }
          ],
          "pie": [
           {
            "automargin": true,
            "type": "pie"
           }
          ],
          "scatter": [
           {
            "fillpattern": {
             "fillmode": "overlay",
             "size": 10,
             "solidity": 0.2
            },
            "type": "scatter"
           }
          ],
          "scatter3d": [
           {
            "line": {
             "colorbar": {
              "outlinewidth": 0,
              "ticks": ""
             }
            },
            "marker": {
             "colorbar": {
              "outlinewidth": 0,
              "ticks": ""
             }
            },
            "type": "scatter3d"
           }
          ],
          "scattercarpet": [
           {
            "marker": {
             "colorbar": {
              "outlinewidth": 0,
              "ticks": ""
             }
            },
            "type": "scattercarpet"
           }
          ],
          "scattergeo": [
           {
            "marker": {
             "colorbar": {
              "outlinewidth": 0,
              "ticks": ""
             }
            },
            "type": "scattergeo"
           }
          ],
          "scattergl": [
           {
            "marker": {
             "colorbar": {
              "outlinewidth": 0,
              "ticks": ""
             }
            },
            "type": "scattergl"
           }
          ],
          "scattermapbox": [
           {
            "marker": {
             "colorbar": {
              "outlinewidth": 0,
              "ticks": ""
             }
            },
            "type": "scattermapbox"
           }
          ],
          "scatterpolar": [
           {
            "marker": {
             "colorbar": {
              "outlinewidth": 0,
              "ticks": ""
             }
            },
            "type": "scatterpolar"
           }
          ],
          "scatterpolargl": [
           {
            "marker": {
             "colorbar": {
              "outlinewidth": 0,
              "ticks": ""
             }
            },
            "type": "scatterpolargl"
           }
          ],
          "scatterternary": [
           {
            "marker": {
             "colorbar": {
              "outlinewidth": 0,
              "ticks": ""
             }
            },
            "type": "scatterternary"
           }
          ],
          "surface": [
           {
            "colorbar": {
             "outlinewidth": 0,
             "ticks": ""
            },
            "colorscale": [
             [
              0,
              "#0d0887"
             ],
             [
              0.1111111111111111,
              "#46039f"
             ],
             [
              0.2222222222222222,
              "#7201a8"
             ],
             [
              0.3333333333333333,
              "#9c179e"
             ],
             [
              0.4444444444444444,
              "#bd3786"
             ],
             [
              0.5555555555555556,
              "#d8576b"
             ],
             [
              0.6666666666666666,
              "#ed7953"
             ],
             [
              0.7777777777777778,
              "#fb9f3a"
             ],
             [
              0.8888888888888888,
              "#fdca26"
             ],
             [
              1,
              "#f0f921"
             ]
            ],
            "type": "surface"
           }
          ],
          "table": [
           {
            "cells": {
             "fill": {
              "color": "#EBF0F8"
             },
             "line": {
              "color": "white"
             }
            },
            "header": {
             "fill": {
              "color": "#C8D4E3"
             },
             "line": {
              "color": "white"
             }
            },
            "type": "table"
           }
          ]
         },
         "layout": {
          "annotationdefaults": {
           "arrowcolor": "#2a3f5f",
           "arrowhead": 0,
           "arrowwidth": 1
          },
          "autotypenumbers": "strict",
          "coloraxis": {
           "colorbar": {
            "outlinewidth": 0,
            "ticks": ""
           }
          },
          "colorscale": {
           "diverging": [
            [
             0,
             "#8e0152"
            ],
            [
             0.1,
             "#c51b7d"
            ],
            [
             0.2,
             "#de77ae"
            ],
            [
             0.3,
             "#f1b6da"
            ],
            [
             0.4,
             "#fde0ef"
            ],
            [
             0.5,
             "#f7f7f7"
            ],
            [
             0.6,
             "#e6f5d0"
            ],
            [
             0.7,
             "#b8e186"
            ],
            [
             0.8,
             "#7fbc41"
            ],
            [
             0.9,
             "#4d9221"
            ],
            [
             1,
             "#276419"
            ]
           ],
           "sequential": [
            [
             0,
             "#0d0887"
            ],
            [
             0.1111111111111111,
             "#46039f"
            ],
            [
             0.2222222222222222,
             "#7201a8"
            ],
            [
             0.3333333333333333,
             "#9c179e"
            ],
            [
             0.4444444444444444,
             "#bd3786"
            ],
            [
             0.5555555555555556,
             "#d8576b"
            ],
            [
             0.6666666666666666,
             "#ed7953"
            ],
            [
             0.7777777777777778,
             "#fb9f3a"
            ],
            [
             0.8888888888888888,
             "#fdca26"
            ],
            [
             1,
             "#f0f921"
            ]
           ],
           "sequentialminus": [
            [
             0,
             "#0d0887"
            ],
            [
             0.1111111111111111,
             "#46039f"
            ],
            [
             0.2222222222222222,
             "#7201a8"
            ],
            [
             0.3333333333333333,
             "#9c179e"
            ],
            [
             0.4444444444444444,
             "#bd3786"
            ],
            [
             0.5555555555555556,
             "#d8576b"
            ],
            [
             0.6666666666666666,
             "#ed7953"
            ],
            [
             0.7777777777777778,
             "#fb9f3a"
            ],
            [
             0.8888888888888888,
             "#fdca26"
            ],
            [
             1,
             "#f0f921"
            ]
           ]
          },
          "colorway": [
           "#636efa",
           "#EF553B",
           "#00cc96",
           "#ab63fa",
           "#FFA15A",
           "#19d3f3",
           "#FF6692",
           "#B6E880",
           "#FF97FF",
           "#FECB52"
          ],
          "font": {
           "color": "#2a3f5f"
          },
          "geo": {
           "bgcolor": "white",
           "lakecolor": "white",
           "landcolor": "#E5ECF6",
           "showlakes": true,
           "showland": true,
           "subunitcolor": "white"
          },
          "hoverlabel": {
           "align": "left"
          },
          "hovermode": "closest",
          "mapbox": {
           "style": "light"
          },
          "paper_bgcolor": "white",
          "plot_bgcolor": "#E5ECF6",
          "polar": {
           "angularaxis": {
            "gridcolor": "white",
            "linecolor": "white",
            "ticks": ""
           },
           "bgcolor": "#E5ECF6",
           "radialaxis": {
            "gridcolor": "white",
            "linecolor": "white",
            "ticks": ""
           }
          },
          "scene": {
           "xaxis": {
            "backgroundcolor": "#E5ECF6",
            "gridcolor": "white",
            "gridwidth": 2,
            "linecolor": "white",
            "showbackground": true,
            "ticks": "",
            "zerolinecolor": "white"
           },
           "yaxis": {
            "backgroundcolor": "#E5ECF6",
            "gridcolor": "white",
            "gridwidth": 2,
            "linecolor": "white",
            "showbackground": true,
            "ticks": "",
            "zerolinecolor": "white"
           },
           "zaxis": {
            "backgroundcolor": "#E5ECF6",
            "gridcolor": "white",
            "gridwidth": 2,
            "linecolor": "white",
            "showbackground": true,
            "ticks": "",
            "zerolinecolor": "white"
           }
          },
          "shapedefaults": {
           "line": {
            "color": "#2a3f5f"
           }
          },
          "ternary": {
           "aaxis": {
            "gridcolor": "white",
            "linecolor": "white",
            "ticks": ""
           },
           "baxis": {
            "gridcolor": "white",
            "linecolor": "white",
            "ticks": ""
           },
           "bgcolor": "#E5ECF6",
           "caxis": {
            "gridcolor": "white",
            "linecolor": "white",
            "ticks": ""
           }
          },
          "title": {
           "x": 0.05
          },
          "xaxis": {
           "automargin": true,
           "gridcolor": "white",
           "linecolor": "white",
           "ticks": "",
           "title": {
            "standoff": 15
           },
           "zerolinecolor": "white",
           "zerolinewidth": 2
          },
          "yaxis": {
           "automargin": true,
           "gridcolor": "white",
           "linecolor": "white",
           "ticks": "",
           "title": {
            "standoff": 15
           },
           "zerolinecolor": "white",
           "zerolinewidth": 2
          }
         }
        },
        "xaxis": {
         "anchor": "y",
         "domain": [
          0,
          1
         ],
         "title": {
          "text": "Value"
         }
        },
        "xaxis2": {
         "anchor": "y2",
         "domain": [
          0,
          1
         ],
         "matches": "x",
         "showgrid": true,
         "showticklabels": false
        },
        "yaxis": {
         "anchor": "x",
         "domain": [
          0,
          0.7326
         ],
         "title": {
          "text": "sum of Year"
         }
        },
        "yaxis2": {
         "anchor": "x2",
         "domain": [
          0.7426,
          1
         ],
         "matches": "y2",
         "showgrid": false,
         "showline": false,
         "showticklabels": false,
         "ticks": ""
        }
       }
      },
      "text/html": [
       "<div>                        <script type=\"text/javascript\">window.PlotlyConfig = {MathJaxConfig: 'local'};</script>\n",
       "        <script src=\"https://cdn.plot.ly/plotly-2.12.1.min.js\"></script>                <div id=\"31630f1c-9f39-4f21-9408-f0f38f14d362\" class=\"plotly-graph-div\" style=\"height:100%; width:100%;\"></div>            <script type=\"text/javascript\">                                    window.PLOTLYENV=window.PLOTLYENV || {};                                    if (document.getElementById(\"31630f1c-9f39-4f21-9408-f0f38f14d362\")) {                    Plotly.newPlot(                        \"31630f1c-9f39-4f21-9408-f0f38f14d362\",                        [{\"alignmentgroup\":\"True\",\"bingroup\":\"x\",\"histfunc\":\"sum\",\"hovertemplate\":\"Item=Nutrient nitrogen N (total)<br>Value=%{x}<br>sum of Year=%{y}<extra></extra>\",\"legendgroup\":\"Nutrient nitrogen N (total)\",\"marker\":{\"color\":\"#636efa\",\"pattern\":{\"shape\":\"\"}},\"name\":\"Nutrient nitrogen N (total)\",\"offsetgroup\":\"Nutrient nitrogen N (total)\",\"orientation\":\"v\",\"showlegend\":true,\"x\":[41659,41160,67620,84147,69242,107779,177441,203521,272566,251519,343973,386230,341944,362900,443451,511000,554100,684300,775804,843574,832572,954083,914317,934498,1128138,1332570,1281700,1324453,1467590,1471642,1462862,1636323,1659350,1738117,1991006,1985080,2087607,2091852,2218100,2264600,2291610,2384980,2456009,2570230,2818779,2868984,2714053,2928057,3451900,3270531,3187339,2850771,3239557,3139263,3160507,3241907,3446922,3446922,3505356,3533784],\"xaxis\":\"x\",\"y\":[1961,1962,1963,1964,1965,1966,1967,1968,1969,1970,1971,1972,1973,1974,1975,1976,1977,1978,1979,1980,1981,1982,1983,1984,1985,1986,1987,1988,1989,1990,1991,1992,1993,1994,1995,1996,1997,1998,1999,2000,2001,2002,2003,2004,2005,2006,2007,2008,2009,2010,2011,2012,2013,2014,2015,2016,2017,2018,2019,2020],\"yaxis\":\"y\",\"type\":\"histogram\"},{\"alignmentgroup\":\"True\",\"boxpoints\":\"all\",\"customdata\":[[\"RFN\",\"Fertilizers by Nutrient\",\"Pakistan\",\"Agricultural Use\",3102,\"Nutrient nitrogen N (total)\",1961,\"tonnes\",\"Qm\",\"Official data from questionnaires and/or national sources and/or COMTRADE (reporters)\",10.637272710686252],[\"RFN\",\"Fertilizers by Nutrient\",\"Pakistan\",\"Agricultural Use\",3102,\"Nutrient nitrogen N (total)\",1962,\"tonnes\",\"Qm\",\"Official data from questionnaires and/or national sources and/or COMTRADE (reporters)\",10.625222189947985],[\"RFN\",\"Fertilizers by Nutrient\",\"Pakistan\",\"Agricultural Use\",3102,\"Nutrient nitrogen N (total)\",1963,\"tonnes\",\"Qm\",\"Official data from questionnaires and/or national sources and/or COMTRADE (reporters)\",11.121659076261876],[\"RFN\",\"Fertilizers by Nutrient\",\"Pakistan\",\"Agricultural Use\",3102,\"Nutrient nitrogen N (total)\",1964,\"tonnes\",\"Qm\",\"Official data from questionnaires and/or national sources and/or COMTRADE (reporters)\",11.340320548359568],[\"RFN\",\"Fertilizers by Nutrient\",\"Pakistan\",\"Agricultural Use\",3102,\"Nutrient nitrogen N (total)\",1965,\"tonnes\",\"Qm\",\"Official data from questionnaires and/or national sources and/or COMTRADE (reporters)\",11.145362893910532],[\"RFN\",\"Fertilizers by Nutrient\",\"Pakistan\",\"Agricultural Use\",3102,\"Nutrient nitrogen N (total)\",1966,\"tonnes\",\"Qm\",\"Official data from questionnaires and/or national sources and/or COMTRADE (reporters)\",11.587838113285232],[\"RFN\",\"Fertilizers by Nutrient\",\"Pakistan\",\"Agricultural Use\",3102,\"Nutrient nitrogen N (total)\",1967,\"tonnes\",\"Qm\",\"Official data from questionnaires and/or national sources and/or COMTRADE (reporters)\",12.086393438276158],[\"RFN\",\"Fertilizers by Nutrient\",\"Pakistan\",\"Agricultural Use\",3102,\"Nutrient nitrogen N (total)\",1968,\"tonnes\",\"Qm\",\"Official data from questionnaires and/or national sources and/or COMTRADE (reporters)\",12.223524472643836],[\"RFN\",\"Fertilizers by Nutrient\",\"Pakistan\",\"Agricultural Use\",3102,\"Nutrient nitrogen N (total)\",1969,\"tonnes\",\"Qm\",\"Official data from questionnaires and/or national sources and/or COMTRADE (reporters)\",12.515636065594169],[\"RFN\",\"Fertilizers by Nutrient\",\"Pakistan\",\"Agricultural Use\",3102,\"Nutrient nitrogen N (total)\",1970,\"tonnes\",\"Qm\",\"Official data from questionnaires and/or national sources and/or COMTRADE (reporters)\",12.435273812388104],[\"RFN\",\"Fertilizers by Nutrient\",\"Pakistan\",\"Agricultural Use\",3102,\"Nutrient nitrogen N (total)\",1971,\"tonnes\",\"Qm\",\"Official data from questionnaires and/or national sources and/or COMTRADE (reporters)\",12.748318444903068],[\"RFN\",\"Fertilizers by Nutrient\",\"Pakistan\",\"Agricultural Use\",3102,\"Nutrient nitrogen N (total)\",1972,\"tonnes\",\"Qm\",\"Official data from questionnaires and/or national sources and/or COMTRADE (reporters)\",12.86418832591819],[\"RFN\",\"Fertilizers by Nutrient\",\"Pakistan\",\"Agricultural Use\",3102,\"Nutrient nitrogen N (total)\",1973,\"tonnes\",\"Qm\",\"Official data from questionnaires and/or national sources and/or COMTRADE (reporters)\",12.742402259947387],[\"RFN\",\"Fertilizers by Nutrient\",\"Pakistan\",\"Agricultural Use\",3102,\"Nutrient nitrogen N (total)\",1974,\"tonnes\",\"Qm\",\"Official data from questionnaires and/or national sources and/or COMTRADE (reporters)\",12.801882593201162],[\"RFN\",\"Fertilizers by Nutrient\",\"Pakistan\",\"Agricultural Use\",3102,\"Nutrient nitrogen N (total)\",1975,\"tonnes\",\"Qm\",\"Official data from questionnaires and/or national sources and/or COMTRADE (reporters)\",13.00234258984772],[\"RFN\",\"Fertilizers by Nutrient\",\"Pakistan\",\"Agricultural Use\",3102,\"Nutrient nitrogen N (total)\",1976,\"tonnes\",\"Qm\",\"Official data from questionnaires and/or national sources and/or COMTRADE (reporters)\",13.144124869185841],[\"RFN\",\"Fertilizers by Nutrient\",\"Pakistan\",\"Agricultural Use\",3102,\"Nutrient nitrogen N (total)\",1977,\"tonnes\",\"Qm\",\"Official data from questionnaires and/or national sources and/or COMTRADE (reporters)\",13.225100454855442],[\"RFN\",\"Fertilizers by Nutrient\",\"Pakistan\",\"Agricultural Use\",3102,\"Nutrient nitrogen N (total)\",1978,\"tonnes\",\"Qm\",\"Official data from questionnaires and/or national sources and/or COMTRADE (reporters)\",13.43615169694059],[\"RFN\",\"Fertilizers by Nutrient\",\"Pakistan\",\"Agricultural Use\",3102,\"Nutrient nitrogen N (total)\",1979,\"tonnes\",\"Qm\",\"Official data from questionnaires and/or national sources and/or COMTRADE (reporters)\",13.561655189942744],[\"RFN\",\"Fertilizers by Nutrient\",\"Pakistan\",\"Agricultural Use\",3102,\"Nutrient nitrogen N (total)\",1980,\"tonnes\",\"Qm\",\"Official data from questionnaires and/or national sources and/or COMTRADE (reporters)\",13.645402906817823],[\"RFN\",\"Fertilizers by Nutrient\",\"Pakistan\",\"Agricultural Use\",3102,\"Nutrient nitrogen N (total)\",1981,\"tonnes\",\"Qm\",\"Official data from questionnaires and/or national sources and/or COMTRADE (reporters)\",13.632274983583482],[\"RFN\",\"Fertilizers by Nutrient\",\"Pakistan\",\"Agricultural Use\",3102,\"Nutrient nitrogen N (total)\",1982,\"tonnes\",\"Qm\",\"Official data from questionnaires and/or national sources and/or COMTRADE (reporters)\",13.768505948742396],[\"RFN\",\"Fertilizers by Nutrient\",\"Pakistan\",\"Agricultural Use\",3102,\"Nutrient nitrogen N (total)\",1983,\"tonnes\",\"Qm\",\"Official data from questionnaires and/or national sources and/or COMTRADE (reporters)\",13.725932617439138],[\"RFN\",\"Fertilizers by Nutrient\",\"Pakistan\",\"Agricultural Use\",3102,\"Nutrient nitrogen N (total)\",1984,\"tonnes\",\"Qm\",\"Official data from questionnaires and/or national sources and/or COMTRADE (reporters)\",13.74776476569355],[\"RFN\",\"Fertilizers by Nutrient\",\"Pakistan\",\"Agricultural Use\",3102,\"Nutrient nitrogen N (total)\",1985,\"tonnes\",\"Qm\",\"Official data from questionnaires and/or national sources and/or COMTRADE (reporters)\",13.936079043982694],[\"RFN\",\"Fertilizers by Nutrient\",\"Pakistan\",\"Agricultural Use\",3102,\"Nutrient nitrogen N (total)\",1986,\"tonnes\",\"Qm\",\"Official data from questionnaires and/or national sources and/or COMTRADE (reporters)\",14.102619966475356],[\"RFN\",\"Fertilizers by Nutrient\",\"Pakistan\",\"Agricultural Use\",3102,\"Nutrient nitrogen N (total)\",1987,\"tonnes\",\"Qm\",\"Official data from questionnaires and/or national sources and/or COMTRADE (reporters)\",14.063697879717916],[\"RFN\",\"Fertilizers by Nutrient\",\"Pakistan\",\"Agricultural Use\",3102,\"Nutrient nitrogen N (total)\",1988,\"tonnes\",\"Qm\",\"Official data from questionnaires and/or national sources and/or COMTRADE (reporters)\",14.096510101975937],[\"RFN\",\"Fertilizers by Nutrient\",\"Pakistan\",\"Agricultural Use\",3102,\"Nutrient nitrogen N (total)\",1989,\"tonnes\",\"Qm\",\"Official data from questionnaires and/or national sources and/or COMTRADE (reporters)\",14.199132157594315],[\"RFN\",\"Fertilizers by Nutrient\",\"Pakistan\",\"Agricultural Use\",3102,\"Nutrient nitrogen N (total)\",1990,\"tonnes\",\"Qm\",\"Official data from questionnaires and/or national sources and/or COMTRADE (reporters)\",14.201889342169718],[\"RFN\",\"Fertilizers by Nutrient\",\"Pakistan\",\"Agricultural Use\",3102,\"Nutrient nitrogen N (total)\",1991,\"tonnes\",\"Qm\",\"Official data from questionnaires and/or national sources and/or COMTRADE (reporters)\",14.19590534882731],[\"RFN\",\"Fertilizers by Nutrient\",\"Pakistan\",\"Agricultural Use\",3102,\"Nutrient nitrogen N (total)\",1992,\"tonnes\",\"Qm\",\"Official data from questionnaires and/or national sources and/or COMTRADE (reporters)\",14.307962209420383],[\"RFN\",\"Fertilizers by Nutrient\",\"Pakistan\",\"Agricultural Use\",3102,\"Nutrient nitrogen N (total)\",1993,\"tonnes\",\"Qm\",\"Official data from questionnaires and/or national sources and/or COMTRADE (reporters)\",14.321936517385577],[\"RFN\",\"Fertilizers by Nutrient\",\"Pakistan\",\"Agricultural Use\",3102,\"Nutrient nitrogen N (total)\",1994,\"tonnes\",\"Qm\",\"Official data from questionnaires and/or national sources and/or COMTRADE (reporters)\",14.36831290129886],[\"RFN\",\"Fertilizers by Nutrient\",\"Pakistan\",\"Agricultural Use\",3102,\"Nutrient nitrogen N (total)\",1995,\"tonnes\",\"Qm\",\"Official data from questionnaires and/or national sources and/or COMTRADE (reporters)\",14.504150596602818],[\"RFN\",\"Fertilizers by Nutrient\",\"Pakistan\",\"Agricultural Use\",3102,\"Nutrient nitrogen N (total)\",1996,\"tonnes\",\"Qm\",\"Official data from questionnaires and/or national sources and/or COMTRADE (reporters)\",14.501169773558315],[\"RFN\",\"Fertilizers by Nutrient\",\"Pakistan\",\"Agricultural Use\",3102,\"Nutrient nitrogen N (total)\",1997,\"tonnes\",\"Qm\",\"Official data from questionnaires and/or national sources and/or COMTRADE (reporters)\",14.551528991878557],[\"RFN\",\"Fertilizers by Nutrient\",\"Pakistan\",\"Agricultural Use\",3102,\"Nutrient nitrogen N (total)\",1998,\"tonnes\",\"Qm\",\"Official data from questionnaires and/or national sources and/or COMTRADE (reporters)\",14.553560355966459],[\"RFN\",\"Fertilizers by Nutrient\",\"Pakistan\",\"Agricultural Use\",3102,\"Nutrient nitrogen N (total)\",1999,\"tonnes\",\"Qm\",\"Official data from questionnaires and/or national sources and/or COMTRADE (reporters)\",14.61216153153888],[\"RFN\",\"Fertilizers by Nutrient\",\"Pakistan\",\"Agricultural Use\",3102,\"Nutrient nitrogen N (total)\",2000,\"tonnes\",\"Qm\",\"Official data from questionnaires and/or national sources and/or COMTRADE (reporters)\",14.632908700862076],[\"RFN\",\"Fertilizers by Nutrient\",\"Pakistan\",\"Agricultural Use\",3102,\"Nutrient nitrogen N (total)\",2001,\"tonnes\",\"Qm\",\"Official data from questionnaires and/or national sources and/or COMTRADE (reporters)\",14.644765185270348],[\"RFN\",\"Fertilizers by Nutrient\",\"Pakistan\",\"Agricultural Use\",3102,\"Nutrient nitrogen N (total)\",2002,\"tonnes\",\"Fb\",\"Data obtained as a balance\",14.684701296525184],[\"RFN\",\"Fertilizers by Nutrient\",\"Pakistan\",\"Agricultural Use\",3102,\"Nutrient nitrogen N (total)\",2003,\"tonnes\",\"Qm\",\"Official data from questionnaires and/or national sources and/or COMTRADE (reporters)\",14.71404823273757],[\"RFN\",\"Fertilizers by Nutrient\",\"Pakistan\",\"Agricultural Use\",3102,\"Nutrient nitrogen N (total)\",2004,\"tonnes\",\"Qm\",\"Official data from questionnaires and/or national sources and/or COMTRADE (reporters)\",14.759505947030464],[\"RFN\",\"Fertilizers by Nutrient\",\"Pakistan\",\"Agricultural Use\",3102,\"Nutrient nitrogen N (total)\",2005,\"tonnes\",\"Qm\",\"Official data from questionnaires and/or national sources and/or COMTRADE (reporters)\",14.851814370428539],[\"RFN\",\"Fertilizers by Nutrient\",\"Pakistan\",\"Agricultural Use\",3102,\"Nutrient nitrogen N (total)\",2006,\"tonnes\",\"Qm\",\"Official data from questionnaires and/or national sources and/or COMTRADE (reporters)\",14.869468518091903],[\"RFN\",\"Fertilizers by Nutrient\",\"Pakistan\",\"Agricultural Use\",3102,\"Nutrient nitrogen N (total)\",2007,\"tonnes\",\"Qm\",\"Official data from questionnaires and/or national sources and/or COMTRADE (reporters)\",14.813953647557684],[\"RFN\",\"Fertilizers by Nutrient\",\"Pakistan\",\"Agricultural Use\",3102,\"Nutrient nitrogen N (total)\",2008,\"tonnes\",\"Qm\",\"Official data from questionnaires and/or national sources and/or COMTRADE (reporters)\",14.88984962108697],[\"RFN\",\"Fertilizers by Nutrient\",\"Pakistan\",\"Agricultural Use\",3102,\"Nutrient nitrogen N (total)\",2009,\"tonnes\",\"Qm\",\"Official data from questionnaires and/or national sources and/or COMTRADE (reporters)\",15.054435362052065],[\"RFN\",\"Fertilizers by Nutrient\",\"Pakistan\",\"Agricultural Use\",3102,\"Nutrient nitrogen N (total)\",2010,\"tonnes\",\"Qm\",\"Official data from questionnaires and/or national sources and/or COMTRADE (reporters)\",15.000462915011468],[\"RFN\",\"Fertilizers by Nutrient\",\"Pakistan\",\"Agricultural Use\",3102,\"Nutrient nitrogen N (total)\",2011,\"tonnes\",\"Qm\",\"Official data from questionnaires and/or national sources and/or COMTRADE (reporters)\",14.974696957369234],[\"RFN\",\"Fertilizers by Nutrient\",\"Pakistan\",\"Agricultural Use\",3102,\"Nutrient nitrogen N (total)\",2012,\"tonnes\",\"Qm\",\"Official data from questionnaires and/or national sources and/or COMTRADE (reporters)\",14.863100041974977],[\"RFN\",\"Fertilizers by Nutrient\",\"Pakistan\",\"Agricultural Use\",3102,\"Nutrient nitrogen N (total)\",2013,\"tonnes\",\"Qm\",\"Official data from questionnaires and/or national sources and/or COMTRADE (reporters)\",14.99094715002527],[\"RFN\",\"Fertilizers by Nutrient\",\"Pakistan\",\"Agricultural Use\",3102,\"Nutrient nitrogen N (total)\",2014,\"tonnes\",\"Qm\",\"Official data from questionnaires and/or national sources and/or COMTRADE (reporters)\",14.959498616959145],[\"RFN\",\"Fertilizers by Nutrient\",\"Pakistan\",\"Agricultural Use\",3102,\"Nutrient nitrogen N (total)\",2015,\"tonnes\",\"Qm\",\"Official data from questionnaires and/or national sources and/or COMTRADE (reporters)\",14.966243015731461],[\"RFN\",\"Fertilizers by Nutrient\",\"Pakistan\",\"Agricultural Use\",3102,\"Nutrient nitrogen N (total)\",2016,\"tonnes\",\"Qm\",\"Official data from questionnaires and/or national sources and/or COMTRADE (reporters)\",14.991672294870009],[\"RFN\",\"Fertilizers by Nutrient\",\"Pakistan\",\"Agricultural Use\",3102,\"Nutrient nitrogen N (total)\",2017,\"tonnes\",\"Qm\",\"Official data from questionnaires and/or national sources and/or COMTRADE (reporters)\",15.052992216870479],[\"RFN\",\"Fertilizers by Nutrient\",\"Pakistan\",\"Agricultural Use\",3102,\"Nutrient nitrogen N (total)\",2018,\"tonnes\",\"Fm\",\"Manual Estimation\",15.052992216870479],[\"RFN\",\"Fertilizers by Nutrient\",\"Pakistan\",\"Agricultural Use\",3102,\"Nutrient nitrogen N (total)\",2019,\"tonnes\",\"Qm\",\"Official data from questionnaires and/or national sources and/or COMTRADE (reporters)\",15.069802642479903],[\"RFN\",\"Fertilizers by Nutrient\",\"Pakistan\",\"Agricultural Use\",3102,\"Nutrient nitrogen N (total)\",2020,\"tonnes\",\"Qm\",\"Official data from questionnaires and/or national sources and/or COMTRADE (reporters)\",15.077879809450549]],\"fillcolor\":\"rgba(255,255,255,0)\",\"hoveron\":\"points\",\"hovertemplate\":\"Item=%{customdata[5]}<br>Value=%{x}<br>DomainCode=%{customdata[0]}<br>Domain=%{customdata[1]}<br>Area=%{customdata[2]}<br>Element=%{customdata[3]}<br>ItemCode=%{customdata[4]}<br>YearCode=%{customdata[6]}<br>Unit=%{customdata[7]}<br>Flag=%{customdata[8]}<br>FlagDescription=%{customdata[9]}<br>Value_log=%{customdata[10]}<extra></extra>\",\"jitter\":0,\"legendgroup\":\"Nutrient nitrogen N (total)\",\"line\":{\"color\":\"rgba(255,255,255,0)\"},\"marker\":{\"color\":\"#636efa\",\"symbol\":\"line-ns-open\"},\"name\":\"Nutrient nitrogen N (total)\",\"offsetgroup\":\"Nutrient nitrogen N (total)\",\"showlegend\":false,\"x\":[41659,41160,67620,84147,69242,107779,177441,203521,272566,251519,343973,386230,341944,362900,443451,511000,554100,684300,775804,843574,832572,954083,914317,934498,1128138,1332570,1281700,1324453,1467590,1471642,1462862,1636323,1659350,1738117,1991006,1985080,2087607,2091852,2218100,2264600,2291610,2384980,2456009,2570230,2818779,2868984,2714053,2928057,3451900,3270531,3187339,2850771,3239557,3139263,3160507,3241907,3446922,3446922,3505356,3533784],\"xaxis\":\"x2\",\"yaxis\":\"y2\",\"type\":\"box\"},{\"alignmentgroup\":\"True\",\"bingroup\":\"x\",\"histfunc\":\"sum\",\"hovertemplate\":\"Item=Nutrient phosphate P2O5 (total)<br>Value=%{x}<br>sum of Year=%{y}<extra></extra>\",\"legendgroup\":\"Nutrient phosphate P2O5 (total)\",\"marker\":{\"color\":\"#EF553B\",\"pattern\":{\"shape\":\"\"}},\"name\":\"Nutrient phosphate P2O5 (total)\",\"offsetgroup\":\"Nutrient phosphate P2O5 (total)\",\"orientation\":\"v\",\"showlegend\":true,\"x\":[500,210,630,1029,1245,3911,12777,38642,33801,30462,37231,48730,58066,60500,108500,117900,157300,187900,201086,226487,225502,265285,261400,293829,349776,409750,393400,390406,382457,388500,397974,487530,464258,428900,494449,419474,551284,465000,596800,675100,641940,647360,669307,761031,871416,906749,816044,565675,778714,756700,653181,678840,875452,936148,993338,1209145,1257773,1257773,1099707,1204060],\"xaxis\":\"x\",\"y\":[1961,1962,1963,1964,1965,1966,1967,1968,1969,1970,1971,1972,1973,1974,1975,1976,1977,1978,1979,1980,1981,1982,1983,1984,1985,1986,1987,1988,1989,1990,1991,1992,1993,1994,1995,1996,1997,1998,1999,2000,2001,2002,2003,2004,2005,2006,2007,2008,2009,2010,2011,2012,2013,2014,2015,2016,2017,2018,2019,2020],\"yaxis\":\"y\",\"type\":\"histogram\"},{\"alignmentgroup\":\"True\",\"boxpoints\":\"all\",\"customdata\":[[\"RFN\",\"Fertilizers by Nutrient\",\"Pakistan\",\"Agricultural Use\",3103,\"Nutrient phosphate P2O5 (total)\",1961,\"tonnes\",\"Qm\",\"Official data from questionnaires and/or national sources and/or COMTRADE (reporters)\",6.214608098422191],[\"RFN\",\"Fertilizers by Nutrient\",\"Pakistan\",\"Agricultural Use\",3103,\"Nutrient phosphate P2O5 (total)\",1962,\"tonnes\",\"Qm\",\"Official data from questionnaires and/or national sources and/or COMTRADE (reporters)\",5.3471075307174685],[\"RFN\",\"Fertilizers by Nutrient\",\"Pakistan\",\"Agricultural Use\",3103,\"Nutrient phosphate P2O5 (total)\",1963,\"tonnes\",\"Qm\",\"Official data from questionnaires and/or national sources and/or COMTRADE (reporters)\",6.4457198193855785],[\"RFN\",\"Fertilizers by Nutrient\",\"Pakistan\",\"Agricultural Use\",3103,\"Nutrient phosphate P2O5 (total)\",1964,\"tonnes\",\"Qm\",\"Official data from questionnaires and/or national sources and/or COMTRADE (reporters)\",6.9363427358340495],[\"RFN\",\"Fertilizers by Nutrient\",\"Pakistan\",\"Agricultural Use\",3103,\"Nutrient phosphate P2O5 (total)\",1965,\"tonnes\",\"Qm\",\"Official data from questionnaires and/or national sources and/or COMTRADE (reporters)\",7.126890808898808],[\"RFN\",\"Fertilizers by Nutrient\",\"Pakistan\",\"Agricultural Use\",3103,\"Nutrient phosphate P2O5 (total)\",1966,\"tonnes\",\"Qm\",\"Official data from questionnaires and/or national sources and/or COMTRADE (reporters)\",8.271548374755515],[\"RFN\",\"Fertilizers by Nutrient\",\"Pakistan\",\"Agricultural Use\",3103,\"Nutrient phosphate P2O5 (total)\",1967,\"tonnes\",\"Qm\",\"Official data from questionnaires and/or national sources and/or COMTRADE (reporters)\",9.455401958591324],[\"RFN\",\"Fertilizers by Nutrient\",\"Pakistan\",\"Agricultural Use\",3103,\"Nutrient phosphate P2O5 (total)\",1968,\"tonnes\",\"Qm\",\"Official data from questionnaires and/or national sources and/or COMTRADE (reporters)\",10.562095046821328],[\"RFN\",\"Fertilizers by Nutrient\",\"Pakistan\",\"Agricultural Use\",3103,\"Nutrient phosphate P2O5 (total)\",1969,\"tonnes\",\"Qm\",\"Official data from questionnaires and/or national sources and/or COMTRADE (reporters)\",10.428245666832275],[\"RFN\",\"Fertilizers by Nutrient\",\"Pakistan\",\"Agricultural Use\",3103,\"Nutrient phosphate P2O5 (total)\",1970,\"tonnes\",\"Qm\",\"Official data from questionnaires and/or national sources and/or COMTRADE (reporters)\",10.32423528417545],[\"RFN\",\"Fertilizers by Nutrient\",\"Pakistan\",\"Agricultural Use\",3103,\"Nutrient phosphate P2O5 (total)\",1971,\"tonnes\",\"Qm\",\"Official data from questionnaires and/or national sources and/or COMTRADE (reporters)\",10.52489702656513],[\"RFN\",\"Fertilizers by Nutrient\",\"Pakistan\",\"Agricultural Use\",3103,\"Nutrient phosphate P2O5 (total)\",1972,\"tonnes\",\"Qm\",\"Official data from questionnaires and/or national sources and/or COMTRADE (reporters)\",10.794050135837551],[\"RFN\",\"Fertilizers by Nutrient\",\"Pakistan\",\"Agricultural Use\",3103,\"Nutrient phosphate P2O5 (total)\",1973,\"tonnes\",\"Qm\",\"Official data from questionnaires and/or national sources and/or COMTRADE (reporters)\",10.969335573610264],[\"RFN\",\"Fertilizers by Nutrient\",\"Pakistan\",\"Agricultural Use\",3103,\"Nutrient phosphate P2O5 (total)\",1974,\"tonnes\",\"Qm\",\"Official data from questionnaires and/or national sources and/or COMTRADE (reporters)\",11.010398644018933],[\"RFN\",\"Fertilizers by Nutrient\",\"Pakistan\",\"Agricultural Use\",3103,\"Nutrient phosphate P2O5 (total)\",1975,\"tonnes\",\"Qm\",\"Official data from questionnaires and/or national sources and/or COMTRADE (reporters)\",11.594505451962652],[\"RFN\",\"Fertilizers by Nutrient\",\"Pakistan\",\"Agricultural Use\",3103,\"Nutrient phosphate P2O5 (total)\",1976,\"tonnes\",\"Qm\",\"Official data from questionnaires and/or national sources and/or COMTRADE (reporters)\",11.677592086525463],[\"RFN\",\"Fertilizers by Nutrient\",\"Pakistan\",\"Agricultural Use\",3103,\"Nutrient phosphate P2O5 (total)\",1977,\"tonnes\",\"Qm\",\"Official data from questionnaires and/or national sources and/or COMTRADE (reporters)\",11.96591008904637],[\"RFN\",\"Fertilizers by Nutrient\",\"Pakistan\",\"Agricultural Use\",3103,\"Nutrient phosphate P2O5 (total)\",1978,\"tonnes\",\"Qm\",\"Official data from questionnaires and/or national sources and/or COMTRADE (reporters)\",12.143665185401556],[\"RFN\",\"Fertilizers by Nutrient\",\"Pakistan\",\"Agricultural Use\",3103,\"Nutrient phosphate P2O5 (total)\",1979,\"tonnes\",\"Qm\",\"Official data from questionnaires and/or national sources and/or COMTRADE (reporters)\",12.211487956231442],[\"RFN\",\"Fertilizers by Nutrient\",\"Pakistan\",\"Agricultural Use\",3103,\"Nutrient phosphate P2O5 (total)\",1980,\"tonnes\",\"Qm\",\"Official data from questionnaires and/or national sources and/or COMTRADE (reporters)\",12.330442827114574],[\"RFN\",\"Fertilizers by Nutrient\",\"Pakistan\",\"Agricultural Use\",3103,\"Nutrient phosphate P2O5 (total)\",1981,\"tonnes\",\"Qm\",\"Official data from questionnaires and/or national sources and/or COMTRADE (reporters)\",12.32608430706514],[\"RFN\",\"Fertilizers by Nutrient\",\"Pakistan\",\"Agricultural Use\",3103,\"Nutrient phosphate P2O5 (total)\",1982,\"tonnes\",\"Qm\",\"Official data from questionnaires and/or national sources and/or COMTRADE (reporters)\",12.488559998761096],[\"RFN\",\"Fertilizers by Nutrient\",\"Pakistan\",\"Agricultural Use\",3103,\"Nutrient phosphate P2O5 (total)\",1983,\"tonnes\",\"X\",\"International reliable sources\",12.473807080172259],[\"RFN\",\"Fertilizers by Nutrient\",\"Pakistan\",\"Agricultural Use\",3103,\"Nutrient phosphate P2O5 (total)\",1984,\"tonnes\",\"Qm\",\"Official data from questionnaires and/or national sources and/or COMTRADE (reporters)\",12.59075324445387],[\"RFN\",\"Fertilizers by Nutrient\",\"Pakistan\",\"Agricultural Use\",3103,\"Nutrient phosphate P2O5 (total)\",1985,\"tonnes\",\"Qm\",\"Official data from questionnaires and/or national sources and/or COMTRADE (reporters)\",12.765048228578173],[\"RFN\",\"Fertilizers by Nutrient\",\"Pakistan\",\"Agricultural Use\",3103,\"Nutrient phosphate P2O5 (total)\",1986,\"tonnes\",\"Qm\",\"Official data from questionnaires and/or national sources and/or COMTRADE (reporters)\",12.923302496606077],[\"RFN\",\"Fertilizers by Nutrient\",\"Pakistan\",\"Agricultural Use\",3103,\"Nutrient phosphate P2O5 (total)\",1987,\"tonnes\",\"Qm\",\"Official data from questionnaires and/or national sources and/or COMTRADE (reporters)\",12.882582184937096],[\"RFN\",\"Fertilizers by Nutrient\",\"Pakistan\",\"Agricultural Use\",3103,\"Nutrient phosphate P2O5 (total)\",1988,\"tonnes\",\"Qm\",\"Official data from questionnaires and/or national sources and/or COMTRADE (reporters)\",12.874942502255434],[\"RFN\",\"Fertilizers by Nutrient\",\"Pakistan\",\"Agricultural Use\",3103,\"Nutrient phosphate P2O5 (total)\",1989,\"tonnes\",\"Qm\",\"Official data from questionnaires and/or national sources and/or COMTRADE (reporters)\",12.854371507628663],[\"RFN\",\"Fertilizers by Nutrient\",\"Pakistan\",\"Agricultural Use\",3103,\"Nutrient phosphate P2O5 (total)\",1990,\"tonnes\",\"Qm\",\"Official data from questionnaires and/or national sources and/or COMTRADE (reporters)\",12.87004844878984],[\"RFN\",\"Fertilizers by Nutrient\",\"Pakistan\",\"Agricultural Use\",3103,\"Nutrient phosphate P2O5 (total)\",1991,\"tonnes\",\"Qm\",\"Official data from questionnaires and/or national sources and/or COMTRADE (reporters)\",12.894141955499531],[\"RFN\",\"Fertilizers by Nutrient\",\"Pakistan\",\"Agricultural Use\",3103,\"Nutrient phosphate P2O5 (total)\",1992,\"tonnes\",\"Qm\",\"Official data from questionnaires and/or national sources and/or COMTRADE (reporters)\",13.097107105988163],[\"RFN\",\"Fertilizers by Nutrient\",\"Pakistan\",\"Agricultural Use\",3103,\"Nutrient phosphate P2O5 (total)\",1993,\"tonnes\",\"Qm\",\"Official data from questionnaires and/or national sources and/or COMTRADE (reporters)\",13.048195711161258],[\"RFN\",\"Fertilizers by Nutrient\",\"Pakistan\",\"Agricultural Use\",3103,\"Nutrient phosphate P2O5 (total)\",1994,\"tonnes\",\"X\",\"International reliable sources\",12.968979070504972],[\"RFN\",\"Fertilizers by Nutrient\",\"Pakistan\",\"Agricultural Use\",3103,\"Nutrient phosphate P2O5 (total)\",1995,\"tonnes\",\"Qm\",\"Official data from questionnaires and/or national sources and/or COMTRADE (reporters)\",13.111199290246907],[\"RFN\",\"Fertilizers by Nutrient\",\"Pakistan\",\"Agricultural Use\",3103,\"Nutrient phosphate P2O5 (total)\",1996,\"tonnes\",\"Qm\",\"Official data from questionnaires and/or national sources and/or COMTRADE (reporters)\",12.94675682442276],[\"RFN\",\"Fertilizers by Nutrient\",\"Pakistan\",\"Agricultural Use\",3103,\"Nutrient phosphate P2O5 (total)\",1997,\"tonnes\",\"Qm\",\"Official data from questionnaires and/or national sources and/or COMTRADE (reporters)\",13.220005381845718],[\"RFN\",\"Fertilizers by Nutrient\",\"Pakistan\",\"Agricultural Use\",3103,\"Nutrient phosphate P2O5 (total)\",1998,\"tonnes\",\"Qm\",\"Official data from questionnaires and/or national sources and/or COMTRADE (reporters)\",13.049792684569493],[\"RFN\",\"Fertilizers by Nutrient\",\"Pakistan\",\"Agricultural Use\",3103,\"Nutrient phosphate P2O5 (total)\",1999,\"tonnes\",\"Qm\",\"Official data from questionnaires and/or national sources and/or COMTRADE (reporters)\",13.299337327871688],[\"RFN\",\"Fertilizers by Nutrient\",\"Pakistan\",\"Agricultural Use\",3103,\"Nutrient phosphate P2O5 (total)\",2000,\"tonnes\",\"Qm\",\"Official data from questionnaires and/or national sources and/or COMTRADE (reporters)\",13.422616107029961],[\"RFN\",\"Fertilizers by Nutrient\",\"Pakistan\",\"Agricultural Use\",3103,\"Nutrient phosphate P2O5 (total)\",2001,\"tonnes\",\"Qm\",\"Official data from questionnaires and/or national sources and/or COMTRADE (reporters)\",13.372250120360707],[\"RFN\",\"Fertilizers by Nutrient\",\"Pakistan\",\"Agricultural Use\",3103,\"Nutrient phosphate P2O5 (total)\",2002,\"tonnes\",\"Fb\",\"Data obtained as a balance\",13.380657832961518],[\"RFN\",\"Fertilizers by Nutrient\",\"Pakistan\",\"Agricultural Use\",3103,\"Nutrient phosphate P2O5 (total)\",2003,\"tonnes\",\"Qm\",\"Official data from questionnaires and/or national sources and/or COMTRADE (reporters)\",13.413998127722223],[\"RFN\",\"Fertilizers by Nutrient\",\"Pakistan\",\"Agricultural Use\",3103,\"Nutrient phosphate P2O5 (total)\",2004,\"tonnes\",\"Qm\",\"Official data from questionnaires and/or national sources and/or COMTRADE (reporters)\",13.54242937188799],[\"RFN\",\"Fertilizers by Nutrient\",\"Pakistan\",\"Agricultural Use\",3103,\"Nutrient phosphate P2O5 (total)\",2005,\"tonnes\",\"Qm\",\"Official data from questionnaires and/or national sources and/or COMTRADE (reporters)\",13.67787475375466],[\"RFN\",\"Fertilizers by Nutrient\",\"Pakistan\",\"Agricultural Use\",3103,\"Nutrient phosphate P2O5 (total)\",2006,\"tonnes\",\"Qm\",\"Official data from questionnaires and/or national sources and/or COMTRADE (reporters)\",13.717620954304728],[\"RFN\",\"Fertilizers by Nutrient\",\"Pakistan\",\"Agricultural Use\",3103,\"Nutrient phosphate P2O5 (total)\",2007,\"tonnes\",\"Qm\",\"Official data from questionnaires and/or national sources and/or COMTRADE (reporters)\",13.612223554061156],[\"RFN\",\"Fertilizers by Nutrient\",\"Pakistan\",\"Agricultural Use\",3103,\"Nutrient phosphate P2O5 (total)\",2008,\"tonnes\",\"Qm\",\"Official data from questionnaires and/or national sources and/or COMTRADE (reporters)\",13.245774987319528],[\"RFN\",\"Fertilizers by Nutrient\",\"Pakistan\",\"Agricultural Use\",3103,\"Nutrient phosphate P2O5 (total)\",2009,\"tonnes\",\"Qm\",\"Official data from questionnaires and/or national sources and/or COMTRADE (reporters)\",13.565399120085882],[\"RFN\",\"Fertilizers by Nutrient\",\"Pakistan\",\"Agricultural Use\",3103,\"Nutrient phosphate P2O5 (total)\",2010,\"tonnes\",\"Qm\",\"Official data from questionnaires and/or national sources and/or COMTRADE (reporters)\",13.536722152682612],[\"RFN\",\"Fertilizers by Nutrient\",\"Pakistan\",\"Agricultural Use\",3103,\"Nutrient phosphate P2O5 (total)\",2011,\"tonnes\",\"Qm\",\"Official data from questionnaires and/or national sources and/or COMTRADE (reporters)\",13.389609552086505],[\"RFN\",\"Fertilizers by Nutrient\",\"Pakistan\",\"Agricultural Use\",3103,\"Nutrient phosphate P2O5 (total)\",2012,\"tonnes\",\"Qm\",\"Official data from questionnaires and/or national sources and/or COMTRADE (reporters)\",13.428140738125201],[\"RFN\",\"Fertilizers by Nutrient\",\"Pakistan\",\"Agricultural Use\",3103,\"Nutrient phosphate P2O5 (total)\",2013,\"tonnes\",\"Qm\",\"Official data from questionnaires and/or national sources and/or COMTRADE (reporters)\",13.682495603391233],[\"RFN\",\"Fertilizers by Nutrient\",\"Pakistan\",\"Agricultural Use\",3103,\"Nutrient phosphate P2O5 (total)\",2014,\"tonnes\",\"Qm\",\"Official data from questionnaires and/or national sources and/or COMTRADE (reporters)\",13.749528862618254],[\"RFN\",\"Fertilizers by Nutrient\",\"Pakistan\",\"Agricultural Use\",3103,\"Nutrient phosphate P2O5 (total)\",2015,\"tonnes\",\"Qm\",\"Official data from questionnaires and/or national sources and/or COMTRADE (reporters)\",13.80882626778902],[\"RFN\",\"Fertilizers by Nutrient\",\"Pakistan\",\"Agricultural Use\",3103,\"Nutrient phosphate P2O5 (total)\",2016,\"tonnes\",\"Qm\",\"Official data from questionnaires and/or national sources and/or COMTRADE (reporters)\",14.005424056235054],[\"RFN\",\"Fertilizers by Nutrient\",\"Pakistan\",\"Agricultural Use\",3103,\"Nutrient phosphate P2O5 (total)\",2017,\"tonnes\",\"Qm\",\"Official data from questionnaires and/or national sources and/or COMTRADE (reporters)\",14.044853254809304],[\"RFN\",\"Fertilizers by Nutrient\",\"Pakistan\",\"Agricultural Use\",3103,\"Nutrient phosphate P2O5 (total)\",2018,\"tonnes\",\"Fm\",\"Manual Estimation\",14.044853254809304],[\"RFN\",\"Fertilizers by Nutrient\",\"Pakistan\",\"Agricultural Use\",3103,\"Nutrient phosphate P2O5 (total)\",2019,\"tonnes\",\"Qm\",\"Official data from questionnaires and/or national sources and/or COMTRADE (reporters)\",13.910554338651142],[\"RFN\",\"Fertilizers by Nutrient\",\"Pakistan\",\"Agricultural Use\",3103,\"Nutrient phosphate P2O5 (total)\",2020,\"tonnes\",\"Qm\",\"Official data from questionnaires and/or national sources and/or COMTRADE (reporters)\",14.00120973749628]],\"fillcolor\":\"rgba(255,255,255,0)\",\"hoveron\":\"points\",\"hovertemplate\":\"Item=%{customdata[5]}<br>Value=%{x}<br>DomainCode=%{customdata[0]}<br>Domain=%{customdata[1]}<br>Area=%{customdata[2]}<br>Element=%{customdata[3]}<br>ItemCode=%{customdata[4]}<br>YearCode=%{customdata[6]}<br>Unit=%{customdata[7]}<br>Flag=%{customdata[8]}<br>FlagDescription=%{customdata[9]}<br>Value_log=%{customdata[10]}<extra></extra>\",\"jitter\":0,\"legendgroup\":\"Nutrient phosphate P2O5 (total)\",\"line\":{\"color\":\"rgba(255,255,255,0)\"},\"marker\":{\"color\":\"#EF553B\",\"symbol\":\"line-ns-open\"},\"name\":\"Nutrient phosphate P2O5 (total)\",\"offsetgroup\":\"Nutrient phosphate P2O5 (total)\",\"showlegend\":false,\"x\":[500,210,630,1029,1245,3911,12777,38642,33801,30462,37231,48730,58066,60500,108500,117900,157300,187900,201086,226487,225502,265285,261400,293829,349776,409750,393400,390406,382457,388500,397974,487530,464258,428900,494449,419474,551284,465000,596800,675100,641940,647360,669307,761031,871416,906749,816044,565675,778714,756700,653181,678840,875452,936148,993338,1209145,1257773,1257773,1099707,1204060],\"xaxis\":\"x2\",\"yaxis\":\"y2\",\"type\":\"box\"},{\"alignmentgroup\":\"True\",\"bingroup\":\"x\",\"histfunc\":\"sum\",\"hovertemplate\":\"Item=Nutrient potash K2O (total)<br>Value=%{x}<br>sum of Year=%{y}<extra></extra>\",\"legendgroup\":\"Nutrient potash K2O (total)\",\"marker\":{\"color\":\"#00cc96\",\"pattern\":{\"shape\":\"\"}},\"name\":\"Nutrient potash K2O (total)\",\"offsetgroup\":\"Nutrient potash K2O (total)\",\"orientation\":\"v\",\"showlegend\":true,\"x\":[144,212,2486,1344,1225,744,1400,2670,2100,1900,2400,5800,7600,9618,9643,21772,24948,28581,24677,33205,42880,45100,24533,40078,32757,23297,24062,23172,16555,29669,8425,20443,21200,18100,22800,10900,20500,23944,26449,35301,36408,43924,16564,15499,37545,28013,19427,19849,29549,25291,28954,54173,54173,47260,60973],\"xaxis\":\"x\",\"y\":[1966,1967,1968,1969,1970,1971,1972,1973,1974,1975,1976,1977,1978,1979,1980,1981,1982,1983,1984,1985,1986,1987,1988,1989,1990,1991,1992,1993,1994,1995,1996,1997,1998,1999,2000,2001,2002,2003,2004,2005,2006,2007,2008,2009,2010,2011,2012,2013,2014,2015,2016,2017,2018,2019,2020],\"yaxis\":\"y\",\"type\":\"histogram\"},{\"alignmentgroup\":\"True\",\"boxpoints\":\"all\",\"customdata\":[[\"RFN\",\"Fertilizers by Nutrient\",\"Pakistan\",\"Agricultural Use\",3104,\"Nutrient potash K2O (total)\",1966,\"tonnes\",\"Qm\",\"Official data from questionnaires and/or national sources and/or COMTRADE (reporters)\",4.969813299576001],[\"RFN\",\"Fertilizers by Nutrient\",\"Pakistan\",\"Agricultural Use\",3104,\"Nutrient potash K2O (total)\",1967,\"tonnes\",\"Qm\",\"Official data from questionnaires and/or national sources and/or COMTRADE (reporters)\",5.356586274672012],[\"RFN\",\"Fertilizers by Nutrient\",\"Pakistan\",\"Agricultural Use\",3104,\"Nutrient potash K2O (total)\",1968,\"tonnes\",\"Qm\",\"Official data from questionnaires and/or national sources and/or COMTRADE (reporters)\",7.818430272070656],[\"RFN\",\"Fertilizers by Nutrient\",\"Pakistan\",\"Agricultural Use\",3104,\"Nutrient potash K2O (total)\",1969,\"tonnes\",\"Qm\",\"Official data from questionnaires and/or national sources and/or COMTRADE (reporters)\",7.203405521083095],[\"RFN\",\"Fertilizers by Nutrient\",\"Pakistan\",\"Agricultural Use\",3104,\"Nutrient potash K2O (total)\",1970,\"tonnes\",\"Qm\",\"Official data from questionnaires and/or national sources and/or COMTRADE (reporters)\",7.110696122978827],[\"RFN\",\"Fertilizers by Nutrient\",\"Pakistan\",\"Agricultural Use\",3104,\"Nutrient potash K2O (total)\",1971,\"tonnes\",\"Qm\",\"Official data from questionnaires and/or national sources and/or COMTRADE (reporters)\",6.612041034833092],[\"RFN\",\"Fertilizers by Nutrient\",\"Pakistan\",\"Agricultural Use\",3104,\"Nutrient potash K2O (total)\",1972,\"tonnes\",\"Qm\",\"Official data from questionnaires and/or national sources and/or COMTRADE (reporters)\",7.24422751560335],[\"RFN\",\"Fertilizers by Nutrient\",\"Pakistan\",\"Agricultural Use\",3104,\"Nutrient potash K2O (total)\",1973,\"tonnes\",\"Qm\",\"Official data from questionnaires and/or national sources and/or COMTRADE (reporters)\",7.8898337513942955],[\"RFN\",\"Fertilizers by Nutrient\",\"Pakistan\",\"Agricultural Use\",3104,\"Nutrient potash K2O (total)\",1974,\"tonnes\",\"Qm\",\"Official data from questionnaires and/or national sources and/or COMTRADE (reporters)\",7.649692623711514],[\"RFN\",\"Fertilizers by Nutrient\",\"Pakistan\",\"Agricultural Use\",3104,\"Nutrient potash K2O (total)\",1975,\"tonnes\",\"Qm\",\"Official data from questionnaires and/or national sources and/or COMTRADE (reporters)\",7.549609165154532],[\"RFN\",\"Fertilizers by Nutrient\",\"Pakistan\",\"Agricultural Use\",3104,\"Nutrient potash K2O (total)\",1976,\"tonnes\",\"Qm\",\"Official data from questionnaires and/or national sources and/or COMTRADE (reporters)\",7.783224016336037],[\"RFN\",\"Fertilizers by Nutrient\",\"Pakistan\",\"Agricultural Use\",3104,\"Nutrient potash K2O (total)\",1977,\"tonnes\",\"Qm\",\"Official data from questionnaires and/or national sources and/or COMTRADE (reporters)\",8.66561319653451],[\"RFN\",\"Fertilizers by Nutrient\",\"Pakistan\",\"Agricultural Use\",3104,\"Nutrient potash K2O (total)\",1978,\"tonnes\",\"Qm\",\"Official data from questionnaires and/or national sources and/or COMTRADE (reporters)\",8.935903526274423],[\"RFN\",\"Fertilizers by Nutrient\",\"Pakistan\",\"Agricultural Use\",3104,\"Nutrient potash K2O (total)\",1979,\"tonnes\",\"Qm\",\"Official data from questionnaires and/or national sources and/or COMTRADE (reporters)\",9.171391621837609],[\"RFN\",\"Fertilizers by Nutrient\",\"Pakistan\",\"Agricultural Use\",3104,\"Nutrient potash K2O (total)\",1980,\"tonnes\",\"Qm\",\"Official data from questionnaires and/or national sources and/or COMTRADE (reporters)\",9.173987542510384],[\"RFN\",\"Fertilizers by Nutrient\",\"Pakistan\",\"Agricultural Use\",3104,\"Nutrient potash K2O (total)\",1981,\"tonnes\",\"Qm\",\"Official data from questionnaires and/or national sources and/or COMTRADE (reporters)\",9.988380019554091],[\"RFN\",\"Fertilizers by Nutrient\",\"Pakistan\",\"Agricultural Use\",3104,\"Nutrient potash K2O (total)\",1982,\"tonnes\",\"Qm\",\"Official data from questionnaires and/or national sources and/or COMTRADE (reporters)\",10.124548937646013],[\"RFN\",\"Fertilizers by Nutrient\",\"Pakistan\",\"Agricultural Use\",3104,\"Nutrient potash K2O (total)\",1983,\"tonnes\",\"Qm\",\"Official data from questionnaires and/or national sources and/or COMTRADE (reporters)\",10.26049744037489],[\"RFN\",\"Fertilizers by Nutrient\",\"Pakistan\",\"Agricultural Use\",3104,\"Nutrient potash K2O (total)\",1984,\"tonnes\",\"Qm\",\"Official data from questionnaires and/or national sources and/or COMTRADE (reporters)\",10.113626914715084],[\"RFN\",\"Fertilizers by Nutrient\",\"Pakistan\",\"Agricultural Use\",3104,\"Nutrient potash K2O (total)\",1985,\"tonnes\",\"Qm\",\"Official data from questionnaires and/or national sources and/or COMTRADE (reporters)\",10.410455745974813],[\"RFN\",\"Fertilizers by Nutrient\",\"Pakistan\",\"Agricultural Use\",3104,\"Nutrient potash K2O (total)\",1986,\"tonnes\",\"Qm\",\"Official data from questionnaires and/or national sources and/or COMTRADE (reporters)\",10.666160795744684],[\"RFN\",\"Fertilizers by Nutrient\",\"Pakistan\",\"Agricultural Use\",3104,\"Nutrient potash K2O (total)\",1987,\"tonnes\",\"Qm\",\"Official data from questionnaires and/or national sources and/or COMTRADE (reporters)\",10.71663752549077],[\"RFN\",\"Fertilizers by Nutrient\",\"Pakistan\",\"Agricultural Use\",3104,\"Nutrient potash K2O (total)\",1988,\"tonnes\",\"Qm\",\"Official data from questionnaires and/or national sources and/or COMTRADE (reporters)\",10.107774429000033],[\"RFN\",\"Fertilizers by Nutrient\",\"Pakistan\",\"Agricultural Use\",3104,\"Nutrient potash K2O (total)\",1989,\"tonnes\",\"Qm\",\"Official data from questionnaires and/or national sources and/or COMTRADE (reporters)\",10.598582834314088],[\"RFN\",\"Fertilizers by Nutrient\",\"Pakistan\",\"Agricultural Use\",3104,\"Nutrient potash K2O (total)\",1990,\"tonnes\",\"Qm\",\"Official data from questionnaires and/or national sources and/or COMTRADE (reporters)\",10.396871958682176],[\"RFN\",\"Fertilizers by Nutrient\",\"Pakistan\",\"Agricultural Use\",3104,\"Nutrient potash K2O (total)\",1991,\"tonnes\",\"Qm\",\"Official data from questionnaires and/or national sources and/or COMTRADE (reporters)\",10.056079875899302],[\"RFN\",\"Fertilizers by Nutrient\",\"Pakistan\",\"Agricultural Use\",3104,\"Nutrient potash K2O (total)\",1992,\"tonnes\",\"Qm\",\"Official data from questionnaires and/or national sources and/or COMTRADE (reporters)\",10.08838911159347],[\"RFN\",\"Fertilizers by Nutrient\",\"Pakistan\",\"Agricultural Use\",3104,\"Nutrient potash K2O (total)\",1993,\"tonnes\",\"Qm\",\"Official data from questionnaires and/or national sources and/or COMTRADE (reporters)\",10.050699932216515],[\"RFN\",\"Fertilizers by Nutrient\",\"Pakistan\",\"Agricultural Use\",3104,\"Nutrient potash K2O (total)\",1994,\"tonnes\",\"Qm\",\"Official data from questionnaires and/or national sources and/or COMTRADE (reporters)\",9.714443449981347],[\"RFN\",\"Fertilizers by Nutrient\",\"Pakistan\",\"Agricultural Use\",3104,\"Nutrient potash K2O (total)\",1995,\"tonnes\",\"Qm\",\"Official data from questionnaires and/or national sources and/or COMTRADE (reporters)\",10.297858008638679],[\"RFN\",\"Fertilizers by Nutrient\",\"Pakistan\",\"Agricultural Use\",3104,\"Nutrient potash K2O (total)\",1996,\"tonnes\",\"Qm\",\"Official data from questionnaires and/or national sources and/or COMTRADE (reporters)\",9.038958755220563],[\"RFN\",\"Fertilizers by Nutrient\",\"Pakistan\",\"Agricultural Use\",3104,\"Nutrient potash K2O (total)\",1997,\"tonnes\",\"Qm\",\"Official data from questionnaires and/or national sources and/or COMTRADE (reporters)\",9.925395804585008],[\"RFN\",\"Fertilizers by Nutrient\",\"Pakistan\",\"Agricultural Use\",3104,\"Nutrient potash K2O (total)\",1998,\"tonnes\",\"X\",\"International reliable sources\",9.961756460660103],[\"RFN\",\"Fertilizers by Nutrient\",\"Pakistan\",\"Agricultural Use\",3104,\"Nutrient potash K2O (total)\",1999,\"tonnes\",\"Qm\",\"Official data from questionnaires and/or national sources and/or COMTRADE (reporters)\",9.803667217253917],[\"RFN\",\"Fertilizers by Nutrient\",\"Pakistan\",\"Agricultural Use\",3104,\"Nutrient potash K2O (total)\",2000,\"tonnes\",\"Qm\",\"Official data from questionnaires and/or national sources and/or COMTRADE (reporters)\",10.034515814942532],[\"RFN\",\"Fertilizers by Nutrient\",\"Pakistan\",\"Agricultural Use\",3104,\"Nutrient potash K2O (total)\",2001,\"tonnes\",\"Qm\",\"Official data from questionnaires and/or national sources and/or COMTRADE (reporters)\",9.296518068217235],[\"RFN\",\"Fertilizers by Nutrient\",\"Pakistan\",\"Agricultural Use\",3104,\"Nutrient potash K2O (total)\",2002,\"tonnes\",\"W\",\"Data reported on country official publications or web sites (Official) or trade country files\",9.9281801651265],[\"RFN\",\"Fertilizers by Nutrient\",\"Pakistan\",\"Agricultural Use\",3104,\"Nutrient potash K2O (total)\",2003,\"tonnes\",\"Qm\",\"Official data from questionnaires and/or national sources and/or COMTRADE (reporters)\",10.083473049532534],[\"RFN\",\"Fertilizers by Nutrient\",\"Pakistan\",\"Agricultural Use\",3104,\"Nutrient potash K2O (total)\",2004,\"tonnes\",\"Qm\",\"Official data from questionnaires and/or national sources and/or COMTRADE (reporters)\",10.182973629388371],[\"RFN\",\"Fertilizers by Nutrient\",\"Pakistan\",\"Agricultural Use\",3104,\"Nutrient potash K2O (total)\",2005,\"tonnes\",\"Qm\",\"Official data from questionnaires and/or national sources and/or COMTRADE (reporters)\",10.471666571132038],[\"RFN\",\"Fertilizers by Nutrient\",\"Pakistan\",\"Agricultural Use\",3104,\"Nutrient potash K2O (total)\",2006,\"tonnes\",\"Qm\",\"Official data from questionnaires and/or national sources and/or COMTRADE (reporters)\",10.502543809696478],[\"RFN\",\"Fertilizers by Nutrient\",\"Pakistan\",\"Agricultural Use\",3104,\"Nutrient potash K2O (total)\",2007,\"tonnes\",\"Qm\",\"Official data from questionnaires and/or national sources and/or COMTRADE (reporters)\",10.690216146717605],[\"RFN\",\"Fertilizers by Nutrient\",\"Pakistan\",\"Agricultural Use\",3104,\"Nutrient potash K2O (total)\",2008,\"tonnes\",\"Qm\",\"Official data from questionnaires and/or national sources and/or COMTRADE (reporters)\",9.714986944665458],[\"RFN\",\"Fertilizers by Nutrient\",\"Pakistan\",\"Agricultural Use\",3104,\"Nutrient potash K2O (total)\",2009,\"tonnes\",\"Qm\",\"Official data from questionnaires and/or national sources and/or COMTRADE (reporters)\",9.648530784697051],[\"RFN\",\"Fertilizers by Nutrient\",\"Pakistan\",\"Agricultural Use\",3104,\"Nutrient potash K2O (total)\",2010,\"tonnes\",\"Qm\",\"Official data from questionnaires and/or national sources and/or COMTRADE (reporters)\",10.533295492533984],[\"RFN\",\"Fertilizers by Nutrient\",\"Pakistan\",\"Agricultural Use\",3104,\"Nutrient potash K2O (total)\",2011,\"tonnes\",\"Qm\",\"Official data from questionnaires and/or national sources and/or COMTRADE (reporters)\",10.240423967124363],[\"RFN\",\"Fertilizers by Nutrient\",\"Pakistan\",\"Agricultural Use\",3104,\"Nutrient potash K2O (total)\",2012,\"tonnes\",\"Qm\",\"Official data from questionnaires and/or national sources and/or COMTRADE (reporters)\",9.874419130038781],[\"RFN\",\"Fertilizers by Nutrient\",\"Pakistan\",\"Agricultural Use\",3104,\"Nutrient potash K2O (total)\",2013,\"tonnes\",\"Qm\",\"Official data from questionnaires and/or national sources and/or COMTRADE (reporters)\",9.895908907012577],[\"RFN\",\"Fertilizers by Nutrient\",\"Pakistan\",\"Agricultural Use\",3104,\"Nutrient potash K2O (total)\",2014,\"tonnes\",\"Qm\",\"Official data from questionnaires and/or national sources and/or COMTRADE (reporters)\",10.29380518131408],[\"RFN\",\"Fertilizers by Nutrient\",\"Pakistan\",\"Agricultural Use\",3104,\"Nutrient potash K2O (total)\",2015,\"tonnes\",\"Qm\",\"Official data from questionnaires and/or national sources and/or COMTRADE (reporters)\",10.138203880202953],[\"RFN\",\"Fertilizers by Nutrient\",\"Pakistan\",\"Agricultural Use\",3104,\"Nutrient potash K2O (total)\",2016,\"tonnes\",\"Qm\",\"Official data from questionnaires and/or national sources and/or COMTRADE (reporters)\",10.273463642713988],[\"RFN\",\"Fertilizers by Nutrient\",\"Pakistan\",\"Agricultural Use\",3104,\"Nutrient potash K2O (total)\",2017,\"tonnes\",\"Qm\",\"Official data from questionnaires and/or national sources and/or COMTRADE (reporters)\",10.899937908325773],[\"RFN\",\"Fertilizers by Nutrient\",\"Pakistan\",\"Agricultural Use\",3104,\"Nutrient potash K2O (total)\",2018,\"tonnes\",\"Fm\",\"Manual Estimation\",10.899937908325773],[\"RFN\",\"Fertilizers by Nutrient\",\"Pakistan\",\"Agricultural Use\",3104,\"Nutrient potash K2O (total)\",2019,\"tonnes\",\"Qm\",\"Official data from questionnaires and/or national sources and/or COMTRADE (reporters)\",10.763419550740899],[\"RFN\",\"Fertilizers by Nutrient\",\"Pakistan\",\"Agricultural Use\",3104,\"Nutrient potash K2O (total)\",2020,\"tonnes\",\"Qm\",\"Official data from questionnaires and/or national sources and/or COMTRADE (reporters)\",11.018186422218175]],\"fillcolor\":\"rgba(255,255,255,0)\",\"hoveron\":\"points\",\"hovertemplate\":\"Item=%{customdata[5]}<br>Value=%{x}<br>DomainCode=%{customdata[0]}<br>Domain=%{customdata[1]}<br>Area=%{customdata[2]}<br>Element=%{customdata[3]}<br>ItemCode=%{customdata[4]}<br>YearCode=%{customdata[6]}<br>Unit=%{customdata[7]}<br>Flag=%{customdata[8]}<br>FlagDescription=%{customdata[9]}<br>Value_log=%{customdata[10]}<extra></extra>\",\"jitter\":0,\"legendgroup\":\"Nutrient potash K2O (total)\",\"line\":{\"color\":\"rgba(255,255,255,0)\"},\"marker\":{\"color\":\"#00cc96\",\"symbol\":\"line-ns-open\"},\"name\":\"Nutrient potash K2O (total)\",\"offsetgroup\":\"Nutrient potash K2O (total)\",\"showlegend\":false,\"x\":[144,212,2486,1344,1225,744,1400,2670,2100,1900,2400,5800,7600,9618,9643,21772,24948,28581,24677,33205,42880,45100,24533,40078,32757,23297,24062,23172,16555,29669,8425,20443,21200,18100,22800,10900,20500,23944,26449,35301,36408,43924,16564,15499,37545,28013,19427,19849,29549,25291,28954,54173,54173,47260,60973],\"xaxis\":\"x2\",\"yaxis\":\"y2\",\"type\":\"box\"}],                        {\"template\":{\"data\":{\"histogram2dcontour\":[{\"type\":\"histogram2dcontour\",\"colorbar\":{\"outlinewidth\":0,\"ticks\":\"\"},\"colorscale\":[[0.0,\"#0d0887\"],[0.1111111111111111,\"#46039f\"],[0.2222222222222222,\"#7201a8\"],[0.3333333333333333,\"#9c179e\"],[0.4444444444444444,\"#bd3786\"],[0.5555555555555556,\"#d8576b\"],[0.6666666666666666,\"#ed7953\"],[0.7777777777777778,\"#fb9f3a\"],[0.8888888888888888,\"#fdca26\"],[1.0,\"#f0f921\"]]}],\"choropleth\":[{\"type\":\"choropleth\",\"colorbar\":{\"outlinewidth\":0,\"ticks\":\"\"}}],\"histogram2d\":[{\"type\":\"histogram2d\",\"colorbar\":{\"outlinewidth\":0,\"ticks\":\"\"},\"colorscale\":[[0.0,\"#0d0887\"],[0.1111111111111111,\"#46039f\"],[0.2222222222222222,\"#7201a8\"],[0.3333333333333333,\"#9c179e\"],[0.4444444444444444,\"#bd3786\"],[0.5555555555555556,\"#d8576b\"],[0.6666666666666666,\"#ed7953\"],[0.7777777777777778,\"#fb9f3a\"],[0.8888888888888888,\"#fdca26\"],[1.0,\"#f0f921\"]]}],\"heatmap\":[{\"type\":\"heatmap\",\"colorbar\":{\"outlinewidth\":0,\"ticks\":\"\"},\"colorscale\":[[0.0,\"#0d0887\"],[0.1111111111111111,\"#46039f\"],[0.2222222222222222,\"#7201a8\"],[0.3333333333333333,\"#9c179e\"],[0.4444444444444444,\"#bd3786\"],[0.5555555555555556,\"#d8576b\"],[0.6666666666666666,\"#ed7953\"],[0.7777777777777778,\"#fb9f3a\"],[0.8888888888888888,\"#fdca26\"],[1.0,\"#f0f921\"]]}],\"heatmapgl\":[{\"type\":\"heatmapgl\",\"colorbar\":{\"outlinewidth\":0,\"ticks\":\"\"},\"colorscale\":[[0.0,\"#0d0887\"],[0.1111111111111111,\"#46039f\"],[0.2222222222222222,\"#7201a8\"],[0.3333333333333333,\"#9c179e\"],[0.4444444444444444,\"#bd3786\"],[0.5555555555555556,\"#d8576b\"],[0.6666666666666666,\"#ed7953\"],[0.7777777777777778,\"#fb9f3a\"],[0.8888888888888888,\"#fdca26\"],[1.0,\"#f0f921\"]]}],\"contourcarpet\":[{\"type\":\"contourcarpet\",\"colorbar\":{\"outlinewidth\":0,\"ticks\":\"\"}}],\"contour\":[{\"type\":\"contour\",\"colorbar\":{\"outlinewidth\":0,\"ticks\":\"\"},\"colorscale\":[[0.0,\"#0d0887\"],[0.1111111111111111,\"#46039f\"],[0.2222222222222222,\"#7201a8\"],[0.3333333333333333,\"#9c179e\"],[0.4444444444444444,\"#bd3786\"],[0.5555555555555556,\"#d8576b\"],[0.6666666666666666,\"#ed7953\"],[0.7777777777777778,\"#fb9f3a\"],[0.8888888888888888,\"#fdca26\"],[1.0,\"#f0f921\"]]}],\"surface\":[{\"type\":\"surface\",\"colorbar\":{\"outlinewidth\":0,\"ticks\":\"\"},\"colorscale\":[[0.0,\"#0d0887\"],[0.1111111111111111,\"#46039f\"],[0.2222222222222222,\"#7201a8\"],[0.3333333333333333,\"#9c179e\"],[0.4444444444444444,\"#bd3786\"],[0.5555555555555556,\"#d8576b\"],[0.6666666666666666,\"#ed7953\"],[0.7777777777777778,\"#fb9f3a\"],[0.8888888888888888,\"#fdca26\"],[1.0,\"#f0f921\"]]}],\"mesh3d\":[{\"type\":\"mesh3d\",\"colorbar\":{\"outlinewidth\":0,\"ticks\":\"\"}}],\"scatter\":[{\"fillpattern\":{\"fillmode\":\"overlay\",\"size\":10,\"solidity\":0.2},\"type\":\"scatter\"}],\"parcoords\":[{\"type\":\"parcoords\",\"line\":{\"colorbar\":{\"outlinewidth\":0,\"ticks\":\"\"}}}],\"scatterpolargl\":[{\"type\":\"scatterpolargl\",\"marker\":{\"colorbar\":{\"outlinewidth\":0,\"ticks\":\"\"}}}],\"bar\":[{\"error_x\":{\"color\":\"#2a3f5f\"},\"error_y\":{\"color\":\"#2a3f5f\"},\"marker\":{\"line\":{\"color\":\"#E5ECF6\",\"width\":0.5},\"pattern\":{\"fillmode\":\"overlay\",\"size\":10,\"solidity\":0.2}},\"type\":\"bar\"}],\"scattergeo\":[{\"type\":\"scattergeo\",\"marker\":{\"colorbar\":{\"outlinewidth\":0,\"ticks\":\"\"}}}],\"scatterpolar\":[{\"type\":\"scatterpolar\",\"marker\":{\"colorbar\":{\"outlinewidth\":0,\"ticks\":\"\"}}}],\"histogram\":[{\"marker\":{\"pattern\":{\"fillmode\":\"overlay\",\"size\":10,\"solidity\":0.2}},\"type\":\"histogram\"}],\"scattergl\":[{\"type\":\"scattergl\",\"marker\":{\"colorbar\":{\"outlinewidth\":0,\"ticks\":\"\"}}}],\"scatter3d\":[{\"type\":\"scatter3d\",\"line\":{\"colorbar\":{\"outlinewidth\":0,\"ticks\":\"\"}},\"marker\":{\"colorbar\":{\"outlinewidth\":0,\"ticks\":\"\"}}}],\"scattermapbox\":[{\"type\":\"scattermapbox\",\"marker\":{\"colorbar\":{\"outlinewidth\":0,\"ticks\":\"\"}}}],\"scatterternary\":[{\"type\":\"scatterternary\",\"marker\":{\"colorbar\":{\"outlinewidth\":0,\"ticks\":\"\"}}}],\"scattercarpet\":[{\"type\":\"scattercarpet\",\"marker\":{\"colorbar\":{\"outlinewidth\":0,\"ticks\":\"\"}}}],\"carpet\":[{\"aaxis\":{\"endlinecolor\":\"#2a3f5f\",\"gridcolor\":\"white\",\"linecolor\":\"white\",\"minorgridcolor\":\"white\",\"startlinecolor\":\"#2a3f5f\"},\"baxis\":{\"endlinecolor\":\"#2a3f5f\",\"gridcolor\":\"white\",\"linecolor\":\"white\",\"minorgridcolor\":\"white\",\"startlinecolor\":\"#2a3f5f\"},\"type\":\"carpet\"}],\"table\":[{\"cells\":{\"fill\":{\"color\":\"#EBF0F8\"},\"line\":{\"color\":\"white\"}},\"header\":{\"fill\":{\"color\":\"#C8D4E3\"},\"line\":{\"color\":\"white\"}},\"type\":\"table\"}],\"barpolar\":[{\"marker\":{\"line\":{\"color\":\"#E5ECF6\",\"width\":0.5},\"pattern\":{\"fillmode\":\"overlay\",\"size\":10,\"solidity\":0.2}},\"type\":\"barpolar\"}],\"pie\":[{\"automargin\":true,\"type\":\"pie\"}]},\"layout\":{\"autotypenumbers\":\"strict\",\"colorway\":[\"#636efa\",\"#EF553B\",\"#00cc96\",\"#ab63fa\",\"#FFA15A\",\"#19d3f3\",\"#FF6692\",\"#B6E880\",\"#FF97FF\",\"#FECB52\"],\"font\":{\"color\":\"#2a3f5f\"},\"hovermode\":\"closest\",\"hoverlabel\":{\"align\":\"left\"},\"paper_bgcolor\":\"white\",\"plot_bgcolor\":\"#E5ECF6\",\"polar\":{\"bgcolor\":\"#E5ECF6\",\"angularaxis\":{\"gridcolor\":\"white\",\"linecolor\":\"white\",\"ticks\":\"\"},\"radialaxis\":{\"gridcolor\":\"white\",\"linecolor\":\"white\",\"ticks\":\"\"}},\"ternary\":{\"bgcolor\":\"#E5ECF6\",\"aaxis\":{\"gridcolor\":\"white\",\"linecolor\":\"white\",\"ticks\":\"\"},\"baxis\":{\"gridcolor\":\"white\",\"linecolor\":\"white\",\"ticks\":\"\"},\"caxis\":{\"gridcolor\":\"white\",\"linecolor\":\"white\",\"ticks\":\"\"}},\"coloraxis\":{\"colorbar\":{\"outlinewidth\":0,\"ticks\":\"\"}},\"colorscale\":{\"sequential\":[[0.0,\"#0d0887\"],[0.1111111111111111,\"#46039f\"],[0.2222222222222222,\"#7201a8\"],[0.3333333333333333,\"#9c179e\"],[0.4444444444444444,\"#bd3786\"],[0.5555555555555556,\"#d8576b\"],[0.6666666666666666,\"#ed7953\"],[0.7777777777777778,\"#fb9f3a\"],[0.8888888888888888,\"#fdca26\"],[1.0,\"#f0f921\"]],\"sequentialminus\":[[0.0,\"#0d0887\"],[0.1111111111111111,\"#46039f\"],[0.2222222222222222,\"#7201a8\"],[0.3333333333333333,\"#9c179e\"],[0.4444444444444444,\"#bd3786\"],[0.5555555555555556,\"#d8576b\"],[0.6666666666666666,\"#ed7953\"],[0.7777777777777778,\"#fb9f3a\"],[0.8888888888888888,\"#fdca26\"],[1.0,\"#f0f921\"]],\"diverging\":[[0,\"#8e0152\"],[0.1,\"#c51b7d\"],[0.2,\"#de77ae\"],[0.3,\"#f1b6da\"],[0.4,\"#fde0ef\"],[0.5,\"#f7f7f7\"],[0.6,\"#e6f5d0\"],[0.7,\"#b8e186\"],[0.8,\"#7fbc41\"],[0.9,\"#4d9221\"],[1,\"#276419\"]]},\"xaxis\":{\"gridcolor\":\"white\",\"linecolor\":\"white\",\"ticks\":\"\",\"title\":{\"standoff\":15},\"zerolinecolor\":\"white\",\"automargin\":true,\"zerolinewidth\":2},\"yaxis\":{\"gridcolor\":\"white\",\"linecolor\":\"white\",\"ticks\":\"\",\"title\":{\"standoff\":15},\"zerolinecolor\":\"white\",\"automargin\":true,\"zerolinewidth\":2},\"scene\":{\"xaxis\":{\"backgroundcolor\":\"#E5ECF6\",\"gridcolor\":\"white\",\"linecolor\":\"white\",\"showbackground\":true,\"ticks\":\"\",\"zerolinecolor\":\"white\",\"gridwidth\":2},\"yaxis\":{\"backgroundcolor\":\"#E5ECF6\",\"gridcolor\":\"white\",\"linecolor\":\"white\",\"showbackground\":true,\"ticks\":\"\",\"zerolinecolor\":\"white\",\"gridwidth\":2},\"zaxis\":{\"backgroundcolor\":\"#E5ECF6\",\"gridcolor\":\"white\",\"linecolor\":\"white\",\"showbackground\":true,\"ticks\":\"\",\"zerolinecolor\":\"white\",\"gridwidth\":2}},\"shapedefaults\":{\"line\":{\"color\":\"#2a3f5f\"}},\"annotationdefaults\":{\"arrowcolor\":\"#2a3f5f\",\"arrowhead\":0,\"arrowwidth\":1},\"geo\":{\"bgcolor\":\"white\",\"landcolor\":\"#E5ECF6\",\"subunitcolor\":\"white\",\"showland\":true,\"showlakes\":true,\"lakecolor\":\"white\"},\"title\":{\"x\":0.05},\"mapbox\":{\"style\":\"light\"}}},\"xaxis\":{\"anchor\":\"y\",\"domain\":[0.0,1.0],\"title\":{\"text\":\"Value\"}},\"yaxis\":{\"anchor\":\"x\",\"domain\":[0.0,0.7326],\"title\":{\"text\":\"sum of Year\"}},\"xaxis2\":{\"anchor\":\"y2\",\"domain\":[0.0,1.0],\"matches\":\"x\",\"showticklabels\":false,\"showgrid\":true},\"yaxis2\":{\"anchor\":\"x2\",\"domain\":[0.7426,1.0],\"matches\":\"y2\",\"showticklabels\":false,\"showline\":false,\"ticks\":\"\",\"showgrid\":false},\"legend\":{\"title\":{\"text\":\"Item\"},\"tracegroupgap\":0},\"margin\":{\"t\":60},\"barmode\":\"relative\"},                        {\"responsive\": true}                    )                };                            </script>        </div>"
      ],
      "text/plain": [
       "Figure({\n",
       "    'data': [{'alignmentgroup': 'True',\n",
       "              'bingroup': 'x',\n",
       "              'histfunc': 'sum',\n",
       "              'hovertemplate': ('Item=Nutrient nitrogen N (tota' ... 'um of Year=%{y}<extra></extra>'),\n",
       "              'legendgroup': 'Nutrient nitrogen N (total)',\n",
       "              'marker': {'color': '#636efa', 'pattern': {'shape': ''}},\n",
       "              'name': 'Nutrient nitrogen N (total)',\n",
       "              'offsetgroup': 'Nutrient nitrogen N (total)',\n",
       "              'orientation': 'v',\n",
       "              'showlegend': True,\n",
       "              'type': 'histogram',\n",
       "              'x': array([  41659,   41160,   67620,   84147,   69242,  107779,  177441,  203521,\n",
       "                           272566,  251519,  343973,  386230,  341944,  362900,  443451,  511000,\n",
       "                           554100,  684300,  775804,  843574,  832572,  954083,  914317,  934498,\n",
       "                          1128138, 1332570, 1281700, 1324453, 1467590, 1471642, 1462862, 1636323,\n",
       "                          1659350, 1738117, 1991006, 1985080, 2087607, 2091852, 2218100, 2264600,\n",
       "                          2291610, 2384980, 2456009, 2570230, 2818779, 2868984, 2714053, 2928057,\n",
       "                          3451900, 3270531, 3187339, 2850771, 3239557, 3139263, 3160507, 3241907,\n",
       "                          3446922, 3446922, 3505356, 3533784], dtype=int64),\n",
       "              'xaxis': 'x',\n",
       "              'y': array([1961, 1962, 1963, 1964, 1965, 1966, 1967, 1968, 1969, 1970, 1971, 1972,\n",
       "                          1973, 1974, 1975, 1976, 1977, 1978, 1979, 1980, 1981, 1982, 1983, 1984,\n",
       "                          1985, 1986, 1987, 1988, 1989, 1990, 1991, 1992, 1993, 1994, 1995, 1996,\n",
       "                          1997, 1998, 1999, 2000, 2001, 2002, 2003, 2004, 2005, 2006, 2007, 2008,\n",
       "                          2009, 2010, 2011, 2012, 2013, 2014, 2015, 2016, 2017, 2018, 2019, 2020],\n",
       "                         dtype=int64),\n",
       "              'yaxis': 'y'},\n",
       "             {'alignmentgroup': 'True',\n",
       "              'boxpoints': 'all',\n",
       "              'customdata': array([['RFN', 'Fertilizers by Nutrient', 'Pakistan', ..., 'Qm',\n",
       "                                    'Official data from questionnaires and/or national sources and/or COMTRADE (reporters)',\n",
       "                                    10.637272710686252],\n",
       "                                   ['RFN', 'Fertilizers by Nutrient', 'Pakistan', ..., 'Qm',\n",
       "                                    'Official data from questionnaires and/or national sources and/or COMTRADE (reporters)',\n",
       "                                    10.625222189947985],\n",
       "                                   ['RFN', 'Fertilizers by Nutrient', 'Pakistan', ..., 'Qm',\n",
       "                                    'Official data from questionnaires and/or national sources and/or COMTRADE (reporters)',\n",
       "                                    11.121659076261876],\n",
       "                                   ...,\n",
       "                                   ['RFN', 'Fertilizers by Nutrient', 'Pakistan', ..., 'Fm',\n",
       "                                    'Manual Estimation', 15.052992216870479],\n",
       "                                   ['RFN', 'Fertilizers by Nutrient', 'Pakistan', ..., 'Qm',\n",
       "                                    'Official data from questionnaires and/or national sources and/or COMTRADE (reporters)',\n",
       "                                    15.069802642479903],\n",
       "                                   ['RFN', 'Fertilizers by Nutrient', 'Pakistan', ..., 'Qm',\n",
       "                                    'Official data from questionnaires and/or national sources and/or COMTRADE (reporters)',\n",
       "                                    15.077879809450549]], dtype=object),\n",
       "              'fillcolor': 'rgba(255,255,255,0)',\n",
       "              'hoveron': 'points',\n",
       "              'hovertemplate': ('Item=%{customdata[5]}<br>Value' ... 'customdata[10]}<extra></extra>'),\n",
       "              'jitter': 0,\n",
       "              'legendgroup': 'Nutrient nitrogen N (total)',\n",
       "              'line': {'color': 'rgba(255,255,255,0)'},\n",
       "              'marker': {'color': '#636efa', 'symbol': 'line-ns-open'},\n",
       "              'name': 'Nutrient nitrogen N (total)',\n",
       "              'offsetgroup': 'Nutrient nitrogen N (total)',\n",
       "              'showlegend': False,\n",
       "              'type': 'box',\n",
       "              'x': array([  41659,   41160,   67620,   84147,   69242,  107779,  177441,  203521,\n",
       "                           272566,  251519,  343973,  386230,  341944,  362900,  443451,  511000,\n",
       "                           554100,  684300,  775804,  843574,  832572,  954083,  914317,  934498,\n",
       "                          1128138, 1332570, 1281700, 1324453, 1467590, 1471642, 1462862, 1636323,\n",
       "                          1659350, 1738117, 1991006, 1985080, 2087607, 2091852, 2218100, 2264600,\n",
       "                          2291610, 2384980, 2456009, 2570230, 2818779, 2868984, 2714053, 2928057,\n",
       "                          3451900, 3270531, 3187339, 2850771, 3239557, 3139263, 3160507, 3241907,\n",
       "                          3446922, 3446922, 3505356, 3533784], dtype=int64),\n",
       "              'xaxis': 'x2',\n",
       "              'yaxis': 'y2'},\n",
       "             {'alignmentgroup': 'True',\n",
       "              'bingroup': 'x',\n",
       "              'histfunc': 'sum',\n",
       "              'hovertemplate': ('Item=Nutrient phosphate P2O5 (' ... 'um of Year=%{y}<extra></extra>'),\n",
       "              'legendgroup': 'Nutrient phosphate P2O5 (total)',\n",
       "              'marker': {'color': '#EF553B', 'pattern': {'shape': ''}},\n",
       "              'name': 'Nutrient phosphate P2O5 (total)',\n",
       "              'offsetgroup': 'Nutrient phosphate P2O5 (total)',\n",
       "              'orientation': 'v',\n",
       "              'showlegend': True,\n",
       "              'type': 'histogram',\n",
       "              'x': array([    500,     210,     630,    1029,    1245,    3911,   12777,   38642,\n",
       "                            33801,   30462,   37231,   48730,   58066,   60500,  108500,  117900,\n",
       "                           157300,  187900,  201086,  226487,  225502,  265285,  261400,  293829,\n",
       "                           349776,  409750,  393400,  390406,  382457,  388500,  397974,  487530,\n",
       "                           464258,  428900,  494449,  419474,  551284,  465000,  596800,  675100,\n",
       "                           641940,  647360,  669307,  761031,  871416,  906749,  816044,  565675,\n",
       "                           778714,  756700,  653181,  678840,  875452,  936148,  993338, 1209145,\n",
       "                          1257773, 1257773, 1099707, 1204060], dtype=int64),\n",
       "              'xaxis': 'x',\n",
       "              'y': array([1961, 1962, 1963, 1964, 1965, 1966, 1967, 1968, 1969, 1970, 1971, 1972,\n",
       "                          1973, 1974, 1975, 1976, 1977, 1978, 1979, 1980, 1981, 1982, 1983, 1984,\n",
       "                          1985, 1986, 1987, 1988, 1989, 1990, 1991, 1992, 1993, 1994, 1995, 1996,\n",
       "                          1997, 1998, 1999, 2000, 2001, 2002, 2003, 2004, 2005, 2006, 2007, 2008,\n",
       "                          2009, 2010, 2011, 2012, 2013, 2014, 2015, 2016, 2017, 2018, 2019, 2020],\n",
       "                         dtype=int64),\n",
       "              'yaxis': 'y'},\n",
       "             {'alignmentgroup': 'True',\n",
       "              'boxpoints': 'all',\n",
       "              'customdata': array([['RFN', 'Fertilizers by Nutrient', 'Pakistan', ..., 'Qm',\n",
       "                                    'Official data from questionnaires and/or national sources and/or COMTRADE (reporters)',\n",
       "                                    6.214608098422191],\n",
       "                                   ['RFN', 'Fertilizers by Nutrient', 'Pakistan', ..., 'Qm',\n",
       "                                    'Official data from questionnaires and/or national sources and/or COMTRADE (reporters)',\n",
       "                                    5.3471075307174685],\n",
       "                                   ['RFN', 'Fertilizers by Nutrient', 'Pakistan', ..., 'Qm',\n",
       "                                    'Official data from questionnaires and/or national sources and/or COMTRADE (reporters)',\n",
       "                                    6.4457198193855785],\n",
       "                                   ...,\n",
       "                                   ['RFN', 'Fertilizers by Nutrient', 'Pakistan', ..., 'Fm',\n",
       "                                    'Manual Estimation', 14.044853254809304],\n",
       "                                   ['RFN', 'Fertilizers by Nutrient', 'Pakistan', ..., 'Qm',\n",
       "                                    'Official data from questionnaires and/or national sources and/or COMTRADE (reporters)',\n",
       "                                    13.910554338651142],\n",
       "                                   ['RFN', 'Fertilizers by Nutrient', 'Pakistan', ..., 'Qm',\n",
       "                                    'Official data from questionnaires and/or national sources and/or COMTRADE (reporters)',\n",
       "                                    14.00120973749628]], dtype=object),\n",
       "              'fillcolor': 'rgba(255,255,255,0)',\n",
       "              'hoveron': 'points',\n",
       "              'hovertemplate': ('Item=%{customdata[5]}<br>Value' ... 'customdata[10]}<extra></extra>'),\n",
       "              'jitter': 0,\n",
       "              'legendgroup': 'Nutrient phosphate P2O5 (total)',\n",
       "              'line': {'color': 'rgba(255,255,255,0)'},\n",
       "              'marker': {'color': '#EF553B', 'symbol': 'line-ns-open'},\n",
       "              'name': 'Nutrient phosphate P2O5 (total)',\n",
       "              'offsetgroup': 'Nutrient phosphate P2O5 (total)',\n",
       "              'showlegend': False,\n",
       "              'type': 'box',\n",
       "              'x': array([    500,     210,     630,    1029,    1245,    3911,   12777,   38642,\n",
       "                            33801,   30462,   37231,   48730,   58066,   60500,  108500,  117900,\n",
       "                           157300,  187900,  201086,  226487,  225502,  265285,  261400,  293829,\n",
       "                           349776,  409750,  393400,  390406,  382457,  388500,  397974,  487530,\n",
       "                           464258,  428900,  494449,  419474,  551284,  465000,  596800,  675100,\n",
       "                           641940,  647360,  669307,  761031,  871416,  906749,  816044,  565675,\n",
       "                           778714,  756700,  653181,  678840,  875452,  936148,  993338, 1209145,\n",
       "                          1257773, 1257773, 1099707, 1204060], dtype=int64),\n",
       "              'xaxis': 'x2',\n",
       "              'yaxis': 'y2'},\n",
       "             {'alignmentgroup': 'True',\n",
       "              'bingroup': 'x',\n",
       "              'histfunc': 'sum',\n",
       "              'hovertemplate': ('Item=Nutrient potash K2O (tota' ... 'um of Year=%{y}<extra></extra>'),\n",
       "              'legendgroup': 'Nutrient potash K2O (total)',\n",
       "              'marker': {'color': '#00cc96', 'pattern': {'shape': ''}},\n",
       "              'name': 'Nutrient potash K2O (total)',\n",
       "              'offsetgroup': 'Nutrient potash K2O (total)',\n",
       "              'orientation': 'v',\n",
       "              'showlegend': True,\n",
       "              'type': 'histogram',\n",
       "              'x': array([  144,   212,  2486,  1344,  1225,   744,  1400,  2670,  2100,  1900,\n",
       "                           2400,  5800,  7600,  9618,  9643, 21772, 24948, 28581, 24677, 33205,\n",
       "                          42880, 45100, 24533, 40078, 32757, 23297, 24062, 23172, 16555, 29669,\n",
       "                           8425, 20443, 21200, 18100, 22800, 10900, 20500, 23944, 26449, 35301,\n",
       "                          36408, 43924, 16564, 15499, 37545, 28013, 19427, 19849, 29549, 25291,\n",
       "                          28954, 54173, 54173, 47260, 60973], dtype=int64),\n",
       "              'xaxis': 'x',\n",
       "              'y': array([1966, 1967, 1968, 1969, 1970, 1971, 1972, 1973, 1974, 1975, 1976, 1977,\n",
       "                          1978, 1979, 1980, 1981, 1982, 1983, 1984, 1985, 1986, 1987, 1988, 1989,\n",
       "                          1990, 1991, 1992, 1993, 1994, 1995, 1996, 1997, 1998, 1999, 2000, 2001,\n",
       "                          2002, 2003, 2004, 2005, 2006, 2007, 2008, 2009, 2010, 2011, 2012, 2013,\n",
       "                          2014, 2015, 2016, 2017, 2018, 2019, 2020], dtype=int64),\n",
       "              'yaxis': 'y'},\n",
       "             {'alignmentgroup': 'True',\n",
       "              'boxpoints': 'all',\n",
       "              'customdata': array([['RFN', 'Fertilizers by Nutrient', 'Pakistan', ..., 'Qm',\n",
       "                                    'Official data from questionnaires and/or national sources and/or COMTRADE (reporters)',\n",
       "                                    4.969813299576001],\n",
       "                                   ['RFN', 'Fertilizers by Nutrient', 'Pakistan', ..., 'Qm',\n",
       "                                    'Official data from questionnaires and/or national sources and/or COMTRADE (reporters)',\n",
       "                                    5.356586274672012],\n",
       "                                   ['RFN', 'Fertilizers by Nutrient', 'Pakistan', ..., 'Qm',\n",
       "                                    'Official data from questionnaires and/or national sources and/or COMTRADE (reporters)',\n",
       "                                    7.818430272070656],\n",
       "                                   ...,\n",
       "                                   ['RFN', 'Fertilizers by Nutrient', 'Pakistan', ..., 'Fm',\n",
       "                                    'Manual Estimation', 10.899937908325773],\n",
       "                                   ['RFN', 'Fertilizers by Nutrient', 'Pakistan', ..., 'Qm',\n",
       "                                    'Official data from questionnaires and/or national sources and/or COMTRADE (reporters)',\n",
       "                                    10.763419550740899],\n",
       "                                   ['RFN', 'Fertilizers by Nutrient', 'Pakistan', ..., 'Qm',\n",
       "                                    'Official data from questionnaires and/or national sources and/or COMTRADE (reporters)',\n",
       "                                    11.018186422218175]], dtype=object),\n",
       "              'fillcolor': 'rgba(255,255,255,0)',\n",
       "              'hoveron': 'points',\n",
       "              'hovertemplate': ('Item=%{customdata[5]}<br>Value' ... 'customdata[10]}<extra></extra>'),\n",
       "              'jitter': 0,\n",
       "              'legendgroup': 'Nutrient potash K2O (total)',\n",
       "              'line': {'color': 'rgba(255,255,255,0)'},\n",
       "              'marker': {'color': '#00cc96', 'symbol': 'line-ns-open'},\n",
       "              'name': 'Nutrient potash K2O (total)',\n",
       "              'offsetgroup': 'Nutrient potash K2O (total)',\n",
       "              'showlegend': False,\n",
       "              'type': 'box',\n",
       "              'x': array([  144,   212,  2486,  1344,  1225,   744,  1400,  2670,  2100,  1900,\n",
       "                           2400,  5800,  7600,  9618,  9643, 21772, 24948, 28581, 24677, 33205,\n",
       "                          42880, 45100, 24533, 40078, 32757, 23297, 24062, 23172, 16555, 29669,\n",
       "                           8425, 20443, 21200, 18100, 22800, 10900, 20500, 23944, 26449, 35301,\n",
       "                          36408, 43924, 16564, 15499, 37545, 28013, 19427, 19849, 29549, 25291,\n",
       "                          28954, 54173, 54173, 47260, 60973], dtype=int64),\n",
       "              'xaxis': 'x2',\n",
       "              'yaxis': 'y2'}],\n",
       "    'layout': {'barmode': 'relative',\n",
       "               'legend': {'title': {'text': 'Item'}, 'tracegroupgap': 0},\n",
       "               'margin': {'t': 60},\n",
       "               'template': '...',\n",
       "               'xaxis': {'anchor': 'y', 'domain': [0.0, 1.0], 'title': {'text': 'Value'}},\n",
       "               'xaxis2': {'anchor': 'y2', 'domain': [0.0, 1.0], 'matches': 'x', 'showgrid': True, 'showticklabels': False},\n",
       "               'yaxis': {'anchor': 'x', 'domain': [0.0, 0.7326], 'title': {'text': 'sum of Year'}},\n",
       "               'yaxis2': {'anchor': 'x2',\n",
       "                          'domain': [0.7426, 1.0],\n",
       "                          'matches': 'y2',\n",
       "                          'showgrid': False,\n",
       "                          'showline': False,\n",
       "                          'showticklabels': False,\n",
       "                          'ticks': ''}}\n",
       "})"
      ]
     },
     "execution_count": 38,
     "metadata": {},
     "output_type": "execute_result"
    }
   ],
   "source": [
    "px.histogram(df_fur_clean, x=\"Value\", y=\"Year\", color=\"Item\", marginal=\"rug\",\n",
    "                   hover_data=df_fur_clean.columns)"
   ]
  },
  {
   "cell_type": "code",
   "execution_count": null,
   "metadata": {},
   "outputs": [
    {
     "ename": "ValueError",
     "evalue": "Mime type rendering requires nbformat>=4.2.0 but it is not installed",
     "output_type": "error",
     "traceback": [
      "\u001b[1;31m---------------------------------------------------------------------------\u001b[0m",
      "\u001b[1;31mValueError\u001b[0m                                Traceback (most recent call last)",
      "File \u001b[1;32mc:\\Users\\Administrator\\AppData\\Local\\Programs\\Python\\Python310\\lib\\site-packages\\IPython\\core\\formatters.py:921\u001b[0m, in \u001b[0;36mIPythonDisplayFormatter.__call__\u001b[1;34m(self, obj)\u001b[0m\n\u001b[0;32m    919\u001b[0m method \u001b[39m=\u001b[39m get_real_method(obj, \u001b[39mself\u001b[39m\u001b[39m.\u001b[39mprint_method)\n\u001b[0;32m    920\u001b[0m \u001b[39mif\u001b[39;00m method \u001b[39mis\u001b[39;00m \u001b[39mnot\u001b[39;00m \u001b[39mNone\u001b[39;00m:\n\u001b[1;32m--> 921\u001b[0m     method()\n\u001b[0;32m    922\u001b[0m     \u001b[39mreturn\u001b[39;00m \u001b[39mTrue\u001b[39;00m\n",
      "File \u001b[1;32mc:\\Users\\Administrator\\AppData\\Local\\Programs\\Python\\Python310\\lib\\site-packages\\plotly\\basedatatypes.py:842\u001b[0m, in \u001b[0;36mBaseFigure._ipython_display_\u001b[1;34m(self)\u001b[0m\n\u001b[0;32m    839\u001b[0m \u001b[39mimport\u001b[39;00m \u001b[39mplotly\u001b[39;00m\u001b[39m.\u001b[39;00m\u001b[39mio\u001b[39;00m \u001b[39mas\u001b[39;00m \u001b[39mpio\u001b[39;00m\n\u001b[0;32m    841\u001b[0m \u001b[39mif\u001b[39;00m pio\u001b[39m.\u001b[39mrenderers\u001b[39m.\u001b[39mrender_on_display \u001b[39mand\u001b[39;00m pio\u001b[39m.\u001b[39mrenderers\u001b[39m.\u001b[39mdefault:\n\u001b[1;32m--> 842\u001b[0m     pio\u001b[39m.\u001b[39;49mshow(\u001b[39mself\u001b[39;49m)\n\u001b[0;32m    843\u001b[0m \u001b[39melse\u001b[39;00m:\n\u001b[0;32m    844\u001b[0m     \u001b[39mprint\u001b[39m(\u001b[39mrepr\u001b[39m(\u001b[39mself\u001b[39m))\n",
      "File \u001b[1;32mc:\\Users\\Administrator\\AppData\\Local\\Programs\\Python\\Python310\\lib\\site-packages\\plotly\\io\\_renderers.py:396\u001b[0m, in \u001b[0;36mshow\u001b[1;34m(fig, renderer, validate, **kwargs)\u001b[0m\n\u001b[0;32m    391\u001b[0m         \u001b[39mraise\u001b[39;00m \u001b[39mValueError\u001b[39;00m(\n\u001b[0;32m    392\u001b[0m             \u001b[39m\"\u001b[39m\u001b[39mMime type rendering requires ipython but it is not installed\u001b[39m\u001b[39m\"\u001b[39m\n\u001b[0;32m    393\u001b[0m         )\n\u001b[0;32m    395\u001b[0m     \u001b[39mif\u001b[39;00m \u001b[39mnot\u001b[39;00m nbformat \u001b[39mor\u001b[39;00m LooseVersion(nbformat\u001b[39m.\u001b[39m__version__) \u001b[39m<\u001b[39m LooseVersion(\u001b[39m\"\u001b[39m\u001b[39m4.2.0\u001b[39m\u001b[39m\"\u001b[39m):\n\u001b[1;32m--> 396\u001b[0m         \u001b[39mraise\u001b[39;00m \u001b[39mValueError\u001b[39;00m(\n\u001b[0;32m    397\u001b[0m             \u001b[39m\"\u001b[39m\u001b[39mMime type rendering requires nbformat>=4.2.0 but it is not installed\u001b[39m\u001b[39m\"\u001b[39m\n\u001b[0;32m    398\u001b[0m         )\n\u001b[0;32m    400\u001b[0m     ipython_display\u001b[39m.\u001b[39mdisplay(bundle, raw\u001b[39m=\u001b[39m\u001b[39mTrue\u001b[39;00m)\n\u001b[0;32m    402\u001b[0m \u001b[39m# external renderers\u001b[39;00m\n",
      "\u001b[1;31mValueError\u001b[0m: Mime type rendering requires nbformat>=4.2.0 but it is not installed"
     ]
    },
    {
     "data": {
      "application/vnd.plotly.v1+json": {
       "config": {
        "plotlyServerURL": "https://plot.ly"
       },
       "data": [
        {
         "hovertemplate": "<b>%{hovertext}</b><br><br>Item=Nutrient phosphate P2O5 (total)<br>Value=%{marker.size}<br>Year=%{y}<extra></extra>",
         "hovertext": [
          "Nutrient phosphate P2O5 (total)",
          "Nutrient phosphate P2O5 (total)",
          "Nutrient phosphate P2O5 (total)",
          "Nutrient phosphate P2O5 (total)",
          "Nutrient phosphate P2O5 (total)",
          "Nutrient phosphate P2O5 (total)",
          "Nutrient phosphate P2O5 (total)",
          "Nutrient phosphate P2O5 (total)",
          "Nutrient phosphate P2O5 (total)",
          "Nutrient phosphate P2O5 (total)",
          "Nutrient phosphate P2O5 (total)",
          "Nutrient phosphate P2O5 (total)",
          "Nutrient phosphate P2O5 (total)",
          "Nutrient phosphate P2O5 (total)",
          "Nutrient phosphate P2O5 (total)"
         ],
         "legendgroup": "Nutrient phosphate P2O5 (total)",
         "marker": {
          "color": "#636efa",
          "size": [
           906749,
           816044,
           565675,
           778714,
           756700,
           653181,
           678840,
           875452,
           936148,
           993338,
           1209145,
           1257773,
           1257773,
           1099707,
           1204060
          ],
          "sizemode": "area",
          "sizeref": 981.6066666666667,
          "symbol": "circle"
         },
         "mode": "markers",
         "name": "Nutrient phosphate P2O5 (total)",
         "orientation": "v",
         "showlegend": true,
         "type": "scatter",
         "x": [
          906749,
          816044,
          565675,
          778714,
          756700,
          653181,
          678840,
          875452,
          936148,
          993338,
          1209145,
          1257773,
          1257773,
          1099707,
          1204060
         ],
         "xaxis": "x",
         "y": [
          2006,
          2007,
          2008,
          2009,
          2010,
          2011,
          2012,
          2013,
          2014,
          2015,
          2016,
          2017,
          2018,
          2019,
          2020
         ],
         "yaxis": "y"
        },
        {
         "hovertemplate": "<b>%{hovertext}</b><br><br>Item=Nutrient nitrogen N (total)<br>Value=%{marker.size}<br>Year=%{y}<extra></extra>",
         "hovertext": [
          "Nutrient nitrogen N (total)",
          "Nutrient nitrogen N (total)",
          "Nutrient nitrogen N (total)",
          "Nutrient nitrogen N (total)",
          "Nutrient nitrogen N (total)",
          "Nutrient nitrogen N (total)",
          "Nutrient nitrogen N (total)",
          "Nutrient nitrogen N (total)",
          "Nutrient nitrogen N (total)",
          "Nutrient nitrogen N (total)",
          "Nutrient nitrogen N (total)",
          "Nutrient nitrogen N (total)",
          "Nutrient nitrogen N (total)",
          "Nutrient nitrogen N (total)",
          "Nutrient nitrogen N (total)"
         ],
         "legendgroup": "Nutrient nitrogen N (total)",
         "marker": {
          "color": "#EF553B",
          "size": [
           2868984,
           2714053,
           2928057,
           3451900,
           3270531,
           3187339,
           2850771,
           3239557,
           3139263,
           3160507,
           3241907,
           3446922,
           3446922,
           3505356,
           3533784
          ],
          "sizemode": "area",
          "sizeref": 981.6066666666667,
          "symbol": "circle"
         },
         "mode": "markers",
         "name": "Nutrient nitrogen N (total)",
         "orientation": "v",
         "showlegend": true,
         "type": "scatter",
         "x": [
          2868984,
          2714053,
          2928057,
          3451900,
          3270531,
          3187339,
          2850771,
          3239557,
          3139263,
          3160507,
          3241907,
          3446922,
          3446922,
          3505356,
          3533784
         ],
         "xaxis": "x",
         "y": [
          2006,
          2007,
          2008,
          2009,
          2010,
          2011,
          2012,
          2013,
          2014,
          2015,
          2016,
          2017,
          2018,
          2019,
          2020
         ],
         "yaxis": "y"
        },
        {
         "hovertemplate": "<b>%{hovertext}</b><br><br>Item=Nutrient potash K2O (total)<br>Value=%{marker.size}<br>Year=%{y}<extra></extra>",
         "hovertext": [
          "Nutrient potash K2O (total)",
          "Nutrient potash K2O (total)",
          "Nutrient potash K2O (total)",
          "Nutrient potash K2O (total)",
          "Nutrient potash K2O (total)",
          "Nutrient potash K2O (total)",
          "Nutrient potash K2O (total)",
          "Nutrient potash K2O (total)",
          "Nutrient potash K2O (total)",
          "Nutrient potash K2O (total)",
          "Nutrient potash K2O (total)",
          "Nutrient potash K2O (total)",
          "Nutrient potash K2O (total)",
          "Nutrient potash K2O (total)",
          "Nutrient potash K2O (total)"
         ],
         "legendgroup": "Nutrient potash K2O (total)",
         "marker": {
          "color": "#00cc96",
          "size": [
           36408,
           43924,
           16564,
           15499,
           37545,
           28013,
           19427,
           19849,
           29549,
           25291,
           28954,
           54173,
           54173,
           47260,
           60973
          ],
          "sizemode": "area",
          "sizeref": 981.6066666666667,
          "symbol": "circle"
         },
         "mode": "markers",
         "name": "Nutrient potash K2O (total)",
         "orientation": "v",
         "showlegend": true,
         "type": "scatter",
         "x": [
          36408,
          43924,
          16564,
          15499,
          37545,
          28013,
          19427,
          19849,
          29549,
          25291,
          28954,
          54173,
          54173,
          47260,
          60973
         ],
         "xaxis": "x",
         "y": [
          2006,
          2007,
          2008,
          2009,
          2010,
          2011,
          2012,
          2013,
          2014,
          2015,
          2016,
          2017,
          2018,
          2019,
          2020
         ],
         "yaxis": "y"
        }
       ],
       "layout": {
        "legend": {
         "itemsizing": "constant",
         "title": {
          "text": "Item"
         },
         "tracegroupgap": 0
        },
        "margin": {
         "t": 60
        },
        "template": {
         "data": {
          "bar": [
           {
            "error_x": {
             "color": "#2a3f5f"
            },
            "error_y": {
             "color": "#2a3f5f"
            },
            "marker": {
             "line": {
              "color": "#E5ECF6",
              "width": 0.5
             },
             "pattern": {
              "fillmode": "overlay",
              "size": 10,
              "solidity": 0.2
             }
            },
            "type": "bar"
           }
          ],
          "barpolar": [
           {
            "marker": {
             "line": {
              "color": "#E5ECF6",
              "width": 0.5
             },
             "pattern": {
              "fillmode": "overlay",
              "size": 10,
              "solidity": 0.2
             }
            },
            "type": "barpolar"
           }
          ],
          "carpet": [
           {
            "aaxis": {
             "endlinecolor": "#2a3f5f",
             "gridcolor": "white",
             "linecolor": "white",
             "minorgridcolor": "white",
             "startlinecolor": "#2a3f5f"
            },
            "baxis": {
             "endlinecolor": "#2a3f5f",
             "gridcolor": "white",
             "linecolor": "white",
             "minorgridcolor": "white",
             "startlinecolor": "#2a3f5f"
            },
            "type": "carpet"
           }
          ],
          "choropleth": [
           {
            "colorbar": {
             "outlinewidth": 0,
             "ticks": ""
            },
            "type": "choropleth"
           }
          ],
          "contour": [
           {
            "colorbar": {
             "outlinewidth": 0,
             "ticks": ""
            },
            "colorscale": [
             [
              0,
              "#0d0887"
             ],
             [
              0.1111111111111111,
              "#46039f"
             ],
             [
              0.2222222222222222,
              "#7201a8"
             ],
             [
              0.3333333333333333,
              "#9c179e"
             ],
             [
              0.4444444444444444,
              "#bd3786"
             ],
             [
              0.5555555555555556,
              "#d8576b"
             ],
             [
              0.6666666666666666,
              "#ed7953"
             ],
             [
              0.7777777777777778,
              "#fb9f3a"
             ],
             [
              0.8888888888888888,
              "#fdca26"
             ],
             [
              1,
              "#f0f921"
             ]
            ],
            "type": "contour"
           }
          ],
          "contourcarpet": [
           {
            "colorbar": {
             "outlinewidth": 0,
             "ticks": ""
            },
            "type": "contourcarpet"
           }
          ],
          "heatmap": [
           {
            "colorbar": {
             "outlinewidth": 0,
             "ticks": ""
            },
            "colorscale": [
             [
              0,
              "#0d0887"
             ],
             [
              0.1111111111111111,
              "#46039f"
             ],
             [
              0.2222222222222222,
              "#7201a8"
             ],
             [
              0.3333333333333333,
              "#9c179e"
             ],
             [
              0.4444444444444444,
              "#bd3786"
             ],
             [
              0.5555555555555556,
              "#d8576b"
             ],
             [
              0.6666666666666666,
              "#ed7953"
             ],
             [
              0.7777777777777778,
              "#fb9f3a"
             ],
             [
              0.8888888888888888,
              "#fdca26"
             ],
             [
              1,
              "#f0f921"
             ]
            ],
            "type": "heatmap"
           }
          ],
          "heatmapgl": [
           {
            "colorbar": {
             "outlinewidth": 0,
             "ticks": ""
            },
            "colorscale": [
             [
              0,
              "#0d0887"
             ],
             [
              0.1111111111111111,
              "#46039f"
             ],
             [
              0.2222222222222222,
              "#7201a8"
             ],
             [
              0.3333333333333333,
              "#9c179e"
             ],
             [
              0.4444444444444444,
              "#bd3786"
             ],
             [
              0.5555555555555556,
              "#d8576b"
             ],
             [
              0.6666666666666666,
              "#ed7953"
             ],
             [
              0.7777777777777778,
              "#fb9f3a"
             ],
             [
              0.8888888888888888,
              "#fdca26"
             ],
             [
              1,
              "#f0f921"
             ]
            ],
            "type": "heatmapgl"
           }
          ],
          "histogram": [
           {
            "marker": {
             "pattern": {
              "fillmode": "overlay",
              "size": 10,
              "solidity": 0.2
             }
            },
            "type": "histogram"
           }
          ],
          "histogram2d": [
           {
            "colorbar": {
             "outlinewidth": 0,
             "ticks": ""
            },
            "colorscale": [
             [
              0,
              "#0d0887"
             ],
             [
              0.1111111111111111,
              "#46039f"
             ],
             [
              0.2222222222222222,
              "#7201a8"
             ],
             [
              0.3333333333333333,
              "#9c179e"
             ],
             [
              0.4444444444444444,
              "#bd3786"
             ],
             [
              0.5555555555555556,
              "#d8576b"
             ],
             [
              0.6666666666666666,
              "#ed7953"
             ],
             [
              0.7777777777777778,
              "#fb9f3a"
             ],
             [
              0.8888888888888888,
              "#fdca26"
             ],
             [
              1,
              "#f0f921"
             ]
            ],
            "type": "histogram2d"
           }
          ],
          "histogram2dcontour": [
           {
            "colorbar": {
             "outlinewidth": 0,
             "ticks": ""
            },
            "colorscale": [
             [
              0,
              "#0d0887"
             ],
             [
              0.1111111111111111,
              "#46039f"
             ],
             [
              0.2222222222222222,
              "#7201a8"
             ],
             [
              0.3333333333333333,
              "#9c179e"
             ],
             [
              0.4444444444444444,
              "#bd3786"
             ],
             [
              0.5555555555555556,
              "#d8576b"
             ],
             [
              0.6666666666666666,
              "#ed7953"
             ],
             [
              0.7777777777777778,
              "#fb9f3a"
             ],
             [
              0.8888888888888888,
              "#fdca26"
             ],
             [
              1,
              "#f0f921"
             ]
            ],
            "type": "histogram2dcontour"
           }
          ],
          "mesh3d": [
           {
            "colorbar": {
             "outlinewidth": 0,
             "ticks": ""
            },
            "type": "mesh3d"
           }
          ],
          "parcoords": [
           {
            "line": {
             "colorbar": {
              "outlinewidth": 0,
              "ticks": ""
             }
            },
            "type": "parcoords"
           }
          ],
          "pie": [
           {
            "automargin": true,
            "type": "pie"
           }
          ],
          "scatter": [
           {
            "fillpattern": {
             "fillmode": "overlay",
             "size": 10,
             "solidity": 0.2
            },
            "type": "scatter"
           }
          ],
          "scatter3d": [
           {
            "line": {
             "colorbar": {
              "outlinewidth": 0,
              "ticks": ""
             }
            },
            "marker": {
             "colorbar": {
              "outlinewidth": 0,
              "ticks": ""
             }
            },
            "type": "scatter3d"
           }
          ],
          "scattercarpet": [
           {
            "marker": {
             "colorbar": {
              "outlinewidth": 0,
              "ticks": ""
             }
            },
            "type": "scattercarpet"
           }
          ],
          "scattergeo": [
           {
            "marker": {
             "colorbar": {
              "outlinewidth": 0,
              "ticks": ""
             }
            },
            "type": "scattergeo"
           }
          ],
          "scattergl": [
           {
            "marker": {
             "colorbar": {
              "outlinewidth": 0,
              "ticks": ""
             }
            },
            "type": "scattergl"
           }
          ],
          "scattermapbox": [
           {
            "marker": {
             "colorbar": {
              "outlinewidth": 0,
              "ticks": ""
             }
            },
            "type": "scattermapbox"
           }
          ],
          "scatterpolar": [
           {
            "marker": {
             "colorbar": {
              "outlinewidth": 0,
              "ticks": ""
             }
            },
            "type": "scatterpolar"
           }
          ],
          "scatterpolargl": [
           {
            "marker": {
             "colorbar": {
              "outlinewidth": 0,
              "ticks": ""
             }
            },
            "type": "scatterpolargl"
           }
          ],
          "scatterternary": [
           {
            "marker": {
             "colorbar": {
              "outlinewidth": 0,
              "ticks": ""
             }
            },
            "type": "scatterternary"
           }
          ],
          "surface": [
           {
            "colorbar": {
             "outlinewidth": 0,
             "ticks": ""
            },
            "colorscale": [
             [
              0,
              "#0d0887"
             ],
             [
              0.1111111111111111,
              "#46039f"
             ],
             [
              0.2222222222222222,
              "#7201a8"
             ],
             [
              0.3333333333333333,
              "#9c179e"
             ],
             [
              0.4444444444444444,
              "#bd3786"
             ],
             [
              0.5555555555555556,
              "#d8576b"
             ],
             [
              0.6666666666666666,
              "#ed7953"
             ],
             [
              0.7777777777777778,
              "#fb9f3a"
             ],
             [
              0.8888888888888888,
              "#fdca26"
             ],
             [
              1,
              "#f0f921"
             ]
            ],
            "type": "surface"
           }
          ],
          "table": [
           {
            "cells": {
             "fill": {
              "color": "#EBF0F8"
             },
             "line": {
              "color": "white"
             }
            },
            "header": {
             "fill": {
              "color": "#C8D4E3"
             },
             "line": {
              "color": "white"
             }
            },
            "type": "table"
           }
          ]
         },
         "layout": {
          "annotationdefaults": {
           "arrowcolor": "#2a3f5f",
           "arrowhead": 0,
           "arrowwidth": 1
          },
          "autotypenumbers": "strict",
          "coloraxis": {
           "colorbar": {
            "outlinewidth": 0,
            "ticks": ""
           }
          },
          "colorscale": {
           "diverging": [
            [
             0,
             "#8e0152"
            ],
            [
             0.1,
             "#c51b7d"
            ],
            [
             0.2,
             "#de77ae"
            ],
            [
             0.3,
             "#f1b6da"
            ],
            [
             0.4,
             "#fde0ef"
            ],
            [
             0.5,
             "#f7f7f7"
            ],
            [
             0.6,
             "#e6f5d0"
            ],
            [
             0.7,
             "#b8e186"
            ],
            [
             0.8,
             "#7fbc41"
            ],
            [
             0.9,
             "#4d9221"
            ],
            [
             1,
             "#276419"
            ]
           ],
           "sequential": [
            [
             0,
             "#0d0887"
            ],
            [
             0.1111111111111111,
             "#46039f"
            ],
            [
             0.2222222222222222,
             "#7201a8"
            ],
            [
             0.3333333333333333,
             "#9c179e"
            ],
            [
             0.4444444444444444,
             "#bd3786"
            ],
            [
             0.5555555555555556,
             "#d8576b"
            ],
            [
             0.6666666666666666,
             "#ed7953"
            ],
            [
             0.7777777777777778,
             "#fb9f3a"
            ],
            [
             0.8888888888888888,
             "#fdca26"
            ],
            [
             1,
             "#f0f921"
            ]
           ],
           "sequentialminus": [
            [
             0,
             "#0d0887"
            ],
            [
             0.1111111111111111,
             "#46039f"
            ],
            [
             0.2222222222222222,
             "#7201a8"
            ],
            [
             0.3333333333333333,
             "#9c179e"
            ],
            [
             0.4444444444444444,
             "#bd3786"
            ],
            [
             0.5555555555555556,
             "#d8576b"
            ],
            [
             0.6666666666666666,
             "#ed7953"
            ],
            [
             0.7777777777777778,
             "#fb9f3a"
            ],
            [
             0.8888888888888888,
             "#fdca26"
            ],
            [
             1,
             "#f0f921"
            ]
           ]
          },
          "colorway": [
           "#636efa",
           "#EF553B",
           "#00cc96",
           "#ab63fa",
           "#FFA15A",
           "#19d3f3",
           "#FF6692",
           "#B6E880",
           "#FF97FF",
           "#FECB52"
          ],
          "font": {
           "color": "#2a3f5f"
          },
          "geo": {
           "bgcolor": "white",
           "lakecolor": "white",
           "landcolor": "#E5ECF6",
           "showlakes": true,
           "showland": true,
           "subunitcolor": "white"
          },
          "hoverlabel": {
           "align": "left"
          },
          "hovermode": "closest",
          "mapbox": {
           "style": "light"
          },
          "paper_bgcolor": "white",
          "plot_bgcolor": "#E5ECF6",
          "polar": {
           "angularaxis": {
            "gridcolor": "white",
            "linecolor": "white",
            "ticks": ""
           },
           "bgcolor": "#E5ECF6",
           "radialaxis": {
            "gridcolor": "white",
            "linecolor": "white",
            "ticks": ""
           }
          },
          "scene": {
           "xaxis": {
            "backgroundcolor": "#E5ECF6",
            "gridcolor": "white",
            "gridwidth": 2,
            "linecolor": "white",
            "showbackground": true,
            "ticks": "",
            "zerolinecolor": "white"
           },
           "yaxis": {
            "backgroundcolor": "#E5ECF6",
            "gridcolor": "white",
            "gridwidth": 2,
            "linecolor": "white",
            "showbackground": true,
            "ticks": "",
            "zerolinecolor": "white"
           },
           "zaxis": {
            "backgroundcolor": "#E5ECF6",
            "gridcolor": "white",
            "gridwidth": 2,
            "linecolor": "white",
            "showbackground": true,
            "ticks": "",
            "zerolinecolor": "white"
           }
          },
          "shapedefaults": {
           "line": {
            "color": "#2a3f5f"
           }
          },
          "ternary": {
           "aaxis": {
            "gridcolor": "white",
            "linecolor": "white",
            "ticks": ""
           },
           "baxis": {
            "gridcolor": "white",
            "linecolor": "white",
            "ticks": ""
           },
           "bgcolor": "#E5ECF6",
           "caxis": {
            "gridcolor": "white",
            "linecolor": "white",
            "ticks": ""
           }
          },
          "title": {
           "x": 0.05
          },
          "xaxis": {
           "automargin": true,
           "gridcolor": "white",
           "linecolor": "white",
           "ticks": "",
           "title": {
            "standoff": 15
           },
           "zerolinecolor": "white",
           "zerolinewidth": 2
          },
          "yaxis": {
           "automargin": true,
           "gridcolor": "white",
           "linecolor": "white",
           "ticks": "",
           "title": {
            "standoff": 15
           },
           "zerolinecolor": "white",
           "zerolinewidth": 2
          }
         }
        },
        "xaxis": {
         "anchor": "y",
         "domain": [
          0,
          1
         ],
         "title": {
          "text": "Value"
         }
        },
        "yaxis": {
         "anchor": "x",
         "domain": [
          0,
          1
         ],
         "title": {
          "text": "Year"
         }
        }
       }
      },
      "text/html": [
       "<div>                        <script type=\"text/javascript\">window.PlotlyConfig = {MathJaxConfig: 'local'};</script>\n",
       "        <script src=\"https://cdn.plot.ly/plotly-2.12.1.min.js\"></script>                <div id=\"65a5f54a-88dc-45a1-ad25-4ee2a6d7e6ef\" class=\"plotly-graph-div\" style=\"height:100%; width:100%;\"></div>            <script type=\"text/javascript\">                                    window.PLOTLYENV=window.PLOTLYENV || {};                                    if (document.getElementById(\"65a5f54a-88dc-45a1-ad25-4ee2a6d7e6ef\")) {                    Plotly.newPlot(                        \"65a5f54a-88dc-45a1-ad25-4ee2a6d7e6ef\",                        [{\"hovertemplate\":\"<b>%{hovertext}</b><br><br>Item=Nutrient phosphate P2O5 (total)<br>Value=%{marker.size}<br>Year=%{y}<extra></extra>\",\"hovertext\":[\"Nutrient phosphate P2O5 (total)\",\"Nutrient phosphate P2O5 (total)\",\"Nutrient phosphate P2O5 (total)\",\"Nutrient phosphate P2O5 (total)\",\"Nutrient phosphate P2O5 (total)\",\"Nutrient phosphate P2O5 (total)\",\"Nutrient phosphate P2O5 (total)\",\"Nutrient phosphate P2O5 (total)\",\"Nutrient phosphate P2O5 (total)\",\"Nutrient phosphate P2O5 (total)\",\"Nutrient phosphate P2O5 (total)\",\"Nutrient phosphate P2O5 (total)\",\"Nutrient phosphate P2O5 (total)\",\"Nutrient phosphate P2O5 (total)\",\"Nutrient phosphate P2O5 (total)\"],\"legendgroup\":\"Nutrient phosphate P2O5 (total)\",\"marker\":{\"color\":\"#636efa\",\"size\":[906749,816044,565675,778714,756700,653181,678840,875452,936148,993338,1209145,1257773,1257773,1099707,1204060],\"sizemode\":\"area\",\"sizeref\":981.6066666666667,\"symbol\":\"circle\"},\"mode\":\"markers\",\"name\":\"Nutrient phosphate P2O5 (total)\",\"orientation\":\"v\",\"showlegend\":true,\"x\":[906749,816044,565675,778714,756700,653181,678840,875452,936148,993338,1209145,1257773,1257773,1099707,1204060],\"xaxis\":\"x\",\"y\":[2006,2007,2008,2009,2010,2011,2012,2013,2014,2015,2016,2017,2018,2019,2020],\"yaxis\":\"y\",\"type\":\"scatter\"},{\"hovertemplate\":\"<b>%{hovertext}</b><br><br>Item=Nutrient nitrogen N (total)<br>Value=%{marker.size}<br>Year=%{y}<extra></extra>\",\"hovertext\":[\"Nutrient nitrogen N (total)\",\"Nutrient nitrogen N (total)\",\"Nutrient nitrogen N (total)\",\"Nutrient nitrogen N (total)\",\"Nutrient nitrogen N (total)\",\"Nutrient nitrogen N (total)\",\"Nutrient nitrogen N (total)\",\"Nutrient nitrogen N (total)\",\"Nutrient nitrogen N (total)\",\"Nutrient nitrogen N (total)\",\"Nutrient nitrogen N (total)\",\"Nutrient nitrogen N (total)\",\"Nutrient nitrogen N (total)\",\"Nutrient nitrogen N (total)\",\"Nutrient nitrogen N (total)\"],\"legendgroup\":\"Nutrient nitrogen N (total)\",\"marker\":{\"color\":\"#EF553B\",\"size\":[2868984,2714053,2928057,3451900,3270531,3187339,2850771,3239557,3139263,3160507,3241907,3446922,3446922,3505356,3533784],\"sizemode\":\"area\",\"sizeref\":981.6066666666667,\"symbol\":\"circle\"},\"mode\":\"markers\",\"name\":\"Nutrient nitrogen N (total)\",\"orientation\":\"v\",\"showlegend\":true,\"x\":[2868984,2714053,2928057,3451900,3270531,3187339,2850771,3239557,3139263,3160507,3241907,3446922,3446922,3505356,3533784],\"xaxis\":\"x\",\"y\":[2006,2007,2008,2009,2010,2011,2012,2013,2014,2015,2016,2017,2018,2019,2020],\"yaxis\":\"y\",\"type\":\"scatter\"},{\"hovertemplate\":\"<b>%{hovertext}</b><br><br>Item=Nutrient potash K2O (total)<br>Value=%{marker.size}<br>Year=%{y}<extra></extra>\",\"hovertext\":[\"Nutrient potash K2O (total)\",\"Nutrient potash K2O (total)\",\"Nutrient potash K2O (total)\",\"Nutrient potash K2O (total)\",\"Nutrient potash K2O (total)\",\"Nutrient potash K2O (total)\",\"Nutrient potash K2O (total)\",\"Nutrient potash K2O (total)\",\"Nutrient potash K2O (total)\",\"Nutrient potash K2O (total)\",\"Nutrient potash K2O (total)\",\"Nutrient potash K2O (total)\",\"Nutrient potash K2O (total)\",\"Nutrient potash K2O (total)\",\"Nutrient potash K2O (total)\"],\"legendgroup\":\"Nutrient potash K2O (total)\",\"marker\":{\"color\":\"#00cc96\",\"size\":[36408,43924,16564,15499,37545,28013,19427,19849,29549,25291,28954,54173,54173,47260,60973],\"sizemode\":\"area\",\"sizeref\":981.6066666666667,\"symbol\":\"circle\"},\"mode\":\"markers\",\"name\":\"Nutrient potash K2O (total)\",\"orientation\":\"v\",\"showlegend\":true,\"x\":[36408,43924,16564,15499,37545,28013,19427,19849,29549,25291,28954,54173,54173,47260,60973],\"xaxis\":\"x\",\"y\":[2006,2007,2008,2009,2010,2011,2012,2013,2014,2015,2016,2017,2018,2019,2020],\"yaxis\":\"y\",\"type\":\"scatter\"}],                        {\"template\":{\"data\":{\"histogram2dcontour\":[{\"type\":\"histogram2dcontour\",\"colorbar\":{\"outlinewidth\":0,\"ticks\":\"\"},\"colorscale\":[[0.0,\"#0d0887\"],[0.1111111111111111,\"#46039f\"],[0.2222222222222222,\"#7201a8\"],[0.3333333333333333,\"#9c179e\"],[0.4444444444444444,\"#bd3786\"],[0.5555555555555556,\"#d8576b\"],[0.6666666666666666,\"#ed7953\"],[0.7777777777777778,\"#fb9f3a\"],[0.8888888888888888,\"#fdca26\"],[1.0,\"#f0f921\"]]}],\"choropleth\":[{\"type\":\"choropleth\",\"colorbar\":{\"outlinewidth\":0,\"ticks\":\"\"}}],\"histogram2d\":[{\"type\":\"histogram2d\",\"colorbar\":{\"outlinewidth\":0,\"ticks\":\"\"},\"colorscale\":[[0.0,\"#0d0887\"],[0.1111111111111111,\"#46039f\"],[0.2222222222222222,\"#7201a8\"],[0.3333333333333333,\"#9c179e\"],[0.4444444444444444,\"#bd3786\"],[0.5555555555555556,\"#d8576b\"],[0.6666666666666666,\"#ed7953\"],[0.7777777777777778,\"#fb9f3a\"],[0.8888888888888888,\"#fdca26\"],[1.0,\"#f0f921\"]]}],\"heatmap\":[{\"type\":\"heatmap\",\"colorbar\":{\"outlinewidth\":0,\"ticks\":\"\"},\"colorscale\":[[0.0,\"#0d0887\"],[0.1111111111111111,\"#46039f\"],[0.2222222222222222,\"#7201a8\"],[0.3333333333333333,\"#9c179e\"],[0.4444444444444444,\"#bd3786\"],[0.5555555555555556,\"#d8576b\"],[0.6666666666666666,\"#ed7953\"],[0.7777777777777778,\"#fb9f3a\"],[0.8888888888888888,\"#fdca26\"],[1.0,\"#f0f921\"]]}],\"heatmapgl\":[{\"type\":\"heatmapgl\",\"colorbar\":{\"outlinewidth\":0,\"ticks\":\"\"},\"colorscale\":[[0.0,\"#0d0887\"],[0.1111111111111111,\"#46039f\"],[0.2222222222222222,\"#7201a8\"],[0.3333333333333333,\"#9c179e\"],[0.4444444444444444,\"#bd3786\"],[0.5555555555555556,\"#d8576b\"],[0.6666666666666666,\"#ed7953\"],[0.7777777777777778,\"#fb9f3a\"],[0.8888888888888888,\"#fdca26\"],[1.0,\"#f0f921\"]]}],\"contourcarpet\":[{\"type\":\"contourcarpet\",\"colorbar\":{\"outlinewidth\":0,\"ticks\":\"\"}}],\"contour\":[{\"type\":\"contour\",\"colorbar\":{\"outlinewidth\":0,\"ticks\":\"\"},\"colorscale\":[[0.0,\"#0d0887\"],[0.1111111111111111,\"#46039f\"],[0.2222222222222222,\"#7201a8\"],[0.3333333333333333,\"#9c179e\"],[0.4444444444444444,\"#bd3786\"],[0.5555555555555556,\"#d8576b\"],[0.6666666666666666,\"#ed7953\"],[0.7777777777777778,\"#fb9f3a\"],[0.8888888888888888,\"#fdca26\"],[1.0,\"#f0f921\"]]}],\"surface\":[{\"type\":\"surface\",\"colorbar\":{\"outlinewidth\":0,\"ticks\":\"\"},\"colorscale\":[[0.0,\"#0d0887\"],[0.1111111111111111,\"#46039f\"],[0.2222222222222222,\"#7201a8\"],[0.3333333333333333,\"#9c179e\"],[0.4444444444444444,\"#bd3786\"],[0.5555555555555556,\"#d8576b\"],[0.6666666666666666,\"#ed7953\"],[0.7777777777777778,\"#fb9f3a\"],[0.8888888888888888,\"#fdca26\"],[1.0,\"#f0f921\"]]}],\"mesh3d\":[{\"type\":\"mesh3d\",\"colorbar\":{\"outlinewidth\":0,\"ticks\":\"\"}}],\"scatter\":[{\"fillpattern\":{\"fillmode\":\"overlay\",\"size\":10,\"solidity\":0.2},\"type\":\"scatter\"}],\"parcoords\":[{\"type\":\"parcoords\",\"line\":{\"colorbar\":{\"outlinewidth\":0,\"ticks\":\"\"}}}],\"scatterpolargl\":[{\"type\":\"scatterpolargl\",\"marker\":{\"colorbar\":{\"outlinewidth\":0,\"ticks\":\"\"}}}],\"bar\":[{\"error_x\":{\"color\":\"#2a3f5f\"},\"error_y\":{\"color\":\"#2a3f5f\"},\"marker\":{\"line\":{\"color\":\"#E5ECF6\",\"width\":0.5},\"pattern\":{\"fillmode\":\"overlay\",\"size\":10,\"solidity\":0.2}},\"type\":\"bar\"}],\"scattergeo\":[{\"type\":\"scattergeo\",\"marker\":{\"colorbar\":{\"outlinewidth\":0,\"ticks\":\"\"}}}],\"scatterpolar\":[{\"type\":\"scatterpolar\",\"marker\":{\"colorbar\":{\"outlinewidth\":0,\"ticks\":\"\"}}}],\"histogram\":[{\"marker\":{\"pattern\":{\"fillmode\":\"overlay\",\"size\":10,\"solidity\":0.2}},\"type\":\"histogram\"}],\"scattergl\":[{\"type\":\"scattergl\",\"marker\":{\"colorbar\":{\"outlinewidth\":0,\"ticks\":\"\"}}}],\"scatter3d\":[{\"type\":\"scatter3d\",\"line\":{\"colorbar\":{\"outlinewidth\":0,\"ticks\":\"\"}},\"marker\":{\"colorbar\":{\"outlinewidth\":0,\"ticks\":\"\"}}}],\"scattermapbox\":[{\"type\":\"scattermapbox\",\"marker\":{\"colorbar\":{\"outlinewidth\":0,\"ticks\":\"\"}}}],\"scatterternary\":[{\"type\":\"scatterternary\",\"marker\":{\"colorbar\":{\"outlinewidth\":0,\"ticks\":\"\"}}}],\"scattercarpet\":[{\"type\":\"scattercarpet\",\"marker\":{\"colorbar\":{\"outlinewidth\":0,\"ticks\":\"\"}}}],\"carpet\":[{\"aaxis\":{\"endlinecolor\":\"#2a3f5f\",\"gridcolor\":\"white\",\"linecolor\":\"white\",\"minorgridcolor\":\"white\",\"startlinecolor\":\"#2a3f5f\"},\"baxis\":{\"endlinecolor\":\"#2a3f5f\",\"gridcolor\":\"white\",\"linecolor\":\"white\",\"minorgridcolor\":\"white\",\"startlinecolor\":\"#2a3f5f\"},\"type\":\"carpet\"}],\"table\":[{\"cells\":{\"fill\":{\"color\":\"#EBF0F8\"},\"line\":{\"color\":\"white\"}},\"header\":{\"fill\":{\"color\":\"#C8D4E3\"},\"line\":{\"color\":\"white\"}},\"type\":\"table\"}],\"barpolar\":[{\"marker\":{\"line\":{\"color\":\"#E5ECF6\",\"width\":0.5},\"pattern\":{\"fillmode\":\"overlay\",\"size\":10,\"solidity\":0.2}},\"type\":\"barpolar\"}],\"pie\":[{\"automargin\":true,\"type\":\"pie\"}]},\"layout\":{\"autotypenumbers\":\"strict\",\"colorway\":[\"#636efa\",\"#EF553B\",\"#00cc96\",\"#ab63fa\",\"#FFA15A\",\"#19d3f3\",\"#FF6692\",\"#B6E880\",\"#FF97FF\",\"#FECB52\"],\"font\":{\"color\":\"#2a3f5f\"},\"hovermode\":\"closest\",\"hoverlabel\":{\"align\":\"left\"},\"paper_bgcolor\":\"white\",\"plot_bgcolor\":\"#E5ECF6\",\"polar\":{\"bgcolor\":\"#E5ECF6\",\"angularaxis\":{\"gridcolor\":\"white\",\"linecolor\":\"white\",\"ticks\":\"\"},\"radialaxis\":{\"gridcolor\":\"white\",\"linecolor\":\"white\",\"ticks\":\"\"}},\"ternary\":{\"bgcolor\":\"#E5ECF6\",\"aaxis\":{\"gridcolor\":\"white\",\"linecolor\":\"white\",\"ticks\":\"\"},\"baxis\":{\"gridcolor\":\"white\",\"linecolor\":\"white\",\"ticks\":\"\"},\"caxis\":{\"gridcolor\":\"white\",\"linecolor\":\"white\",\"ticks\":\"\"}},\"coloraxis\":{\"colorbar\":{\"outlinewidth\":0,\"ticks\":\"\"}},\"colorscale\":{\"sequential\":[[0.0,\"#0d0887\"],[0.1111111111111111,\"#46039f\"],[0.2222222222222222,\"#7201a8\"],[0.3333333333333333,\"#9c179e\"],[0.4444444444444444,\"#bd3786\"],[0.5555555555555556,\"#d8576b\"],[0.6666666666666666,\"#ed7953\"],[0.7777777777777778,\"#fb9f3a\"],[0.8888888888888888,\"#fdca26\"],[1.0,\"#f0f921\"]],\"sequentialminus\":[[0.0,\"#0d0887\"],[0.1111111111111111,\"#46039f\"],[0.2222222222222222,\"#7201a8\"],[0.3333333333333333,\"#9c179e\"],[0.4444444444444444,\"#bd3786\"],[0.5555555555555556,\"#d8576b\"],[0.6666666666666666,\"#ed7953\"],[0.7777777777777778,\"#fb9f3a\"],[0.8888888888888888,\"#fdca26\"],[1.0,\"#f0f921\"]],\"diverging\":[[0,\"#8e0152\"],[0.1,\"#c51b7d\"],[0.2,\"#de77ae\"],[0.3,\"#f1b6da\"],[0.4,\"#fde0ef\"],[0.5,\"#f7f7f7\"],[0.6,\"#e6f5d0\"],[0.7,\"#b8e186\"],[0.8,\"#7fbc41\"],[0.9,\"#4d9221\"],[1,\"#276419\"]]},\"xaxis\":{\"gridcolor\":\"white\",\"linecolor\":\"white\",\"ticks\":\"\",\"title\":{\"standoff\":15},\"zerolinecolor\":\"white\",\"automargin\":true,\"zerolinewidth\":2},\"yaxis\":{\"gridcolor\":\"white\",\"linecolor\":\"white\",\"ticks\":\"\",\"title\":{\"standoff\":15},\"zerolinecolor\":\"white\",\"automargin\":true,\"zerolinewidth\":2},\"scene\":{\"xaxis\":{\"backgroundcolor\":\"#E5ECF6\",\"gridcolor\":\"white\",\"linecolor\":\"white\",\"showbackground\":true,\"ticks\":\"\",\"zerolinecolor\":\"white\",\"gridwidth\":2},\"yaxis\":{\"backgroundcolor\":\"#E5ECF6\",\"gridcolor\":\"white\",\"linecolor\":\"white\",\"showbackground\":true,\"ticks\":\"\",\"zerolinecolor\":\"white\",\"gridwidth\":2},\"zaxis\":{\"backgroundcolor\":\"#E5ECF6\",\"gridcolor\":\"white\",\"linecolor\":\"white\",\"showbackground\":true,\"ticks\":\"\",\"zerolinecolor\":\"white\",\"gridwidth\":2}},\"shapedefaults\":{\"line\":{\"color\":\"#2a3f5f\"}},\"annotationdefaults\":{\"arrowcolor\":\"#2a3f5f\",\"arrowhead\":0,\"arrowwidth\":1},\"geo\":{\"bgcolor\":\"white\",\"landcolor\":\"#E5ECF6\",\"subunitcolor\":\"white\",\"showland\":true,\"showlakes\":true,\"lakecolor\":\"white\"},\"title\":{\"x\":0.05},\"mapbox\":{\"style\":\"light\"}}},\"xaxis\":{\"anchor\":\"y\",\"domain\":[0.0,1.0],\"title\":{\"text\":\"Value\"}},\"yaxis\":{\"anchor\":\"x\",\"domain\":[0.0,1.0],\"title\":{\"text\":\"Year\"}},\"legend\":{\"title\":{\"text\":\"Item\"},\"tracegroupgap\":0,\"itemsizing\":\"constant\"},\"margin\":{\"t\":60}},                        {\"responsive\": true}                    )                };                            </script>        </div>"
      ],
      "text/plain": [
       "Figure({\n",
       "    'data': [{'hovertemplate': ('<b>%{hovertext}</b><br><br>Ite' ... 'e}<br>Year=%{y}<extra></extra>'),\n",
       "              'hovertext': array(['Nutrient phosphate P2O5 (total)', 'Nutrient phosphate P2O5 (total)',\n",
       "                                  'Nutrient phosphate P2O5 (total)', 'Nutrient phosphate P2O5 (total)',\n",
       "                                  'Nutrient phosphate P2O5 (total)', 'Nutrient phosphate P2O5 (total)',\n",
       "                                  'Nutrient phosphate P2O5 (total)', 'Nutrient phosphate P2O5 (total)',\n",
       "                                  'Nutrient phosphate P2O5 (total)', 'Nutrient phosphate P2O5 (total)',\n",
       "                                  'Nutrient phosphate P2O5 (total)', 'Nutrient phosphate P2O5 (total)',\n",
       "                                  'Nutrient phosphate P2O5 (total)', 'Nutrient phosphate P2O5 (total)',\n",
       "                                  'Nutrient phosphate P2O5 (total)'], dtype=object),\n",
       "              'legendgroup': 'Nutrient phosphate P2O5 (total)',\n",
       "              'marker': {'color': '#636efa',\n",
       "                         'size': array([ 906749,  816044,  565675,  778714,  756700,  653181,  678840,  875452,\n",
       "                                         936148,  993338, 1209145, 1257773, 1257773, 1099707, 1204060],\n",
       "                                       dtype=int64),\n",
       "                         'sizemode': 'area',\n",
       "                         'sizeref': 981.6066666666667,\n",
       "                         'symbol': 'circle'},\n",
       "              'mode': 'markers',\n",
       "              'name': 'Nutrient phosphate P2O5 (total)',\n",
       "              'orientation': 'v',\n",
       "              'showlegend': True,\n",
       "              'type': 'scatter',\n",
       "              'x': array([ 906749,  816044,  565675,  778714,  756700,  653181,  678840,  875452,\n",
       "                           936148,  993338, 1209145, 1257773, 1257773, 1099707, 1204060],\n",
       "                         dtype=int64),\n",
       "              'xaxis': 'x',\n",
       "              'y': array([2006, 2007, 2008, 2009, 2010, 2011, 2012, 2013, 2014, 2015, 2016, 2017,\n",
       "                          2018, 2019, 2020], dtype=int64),\n",
       "              'yaxis': 'y'},\n",
       "             {'hovertemplate': ('<b>%{hovertext}</b><br><br>Ite' ... 'e}<br>Year=%{y}<extra></extra>'),\n",
       "              'hovertext': array(['Nutrient nitrogen N (total)', 'Nutrient nitrogen N (total)',\n",
       "                                  'Nutrient nitrogen N (total)', 'Nutrient nitrogen N (total)',\n",
       "                                  'Nutrient nitrogen N (total)', 'Nutrient nitrogen N (total)',\n",
       "                                  'Nutrient nitrogen N (total)', 'Nutrient nitrogen N (total)',\n",
       "                                  'Nutrient nitrogen N (total)', 'Nutrient nitrogen N (total)',\n",
       "                                  'Nutrient nitrogen N (total)', 'Nutrient nitrogen N (total)',\n",
       "                                  'Nutrient nitrogen N (total)', 'Nutrient nitrogen N (total)',\n",
       "                                  'Nutrient nitrogen N (total)'], dtype=object),\n",
       "              'legendgroup': 'Nutrient nitrogen N (total)',\n",
       "              'marker': {'color': '#EF553B',\n",
       "                         'size': array([2868984, 2714053, 2928057, 3451900, 3270531, 3187339, 2850771, 3239557,\n",
       "                                        3139263, 3160507, 3241907, 3446922, 3446922, 3505356, 3533784],\n",
       "                                       dtype=int64),\n",
       "                         'sizemode': 'area',\n",
       "                         'sizeref': 981.6066666666667,\n",
       "                         'symbol': 'circle'},\n",
       "              'mode': 'markers',\n",
       "              'name': 'Nutrient nitrogen N (total)',\n",
       "              'orientation': 'v',\n",
       "              'showlegend': True,\n",
       "              'type': 'scatter',\n",
       "              'x': array([2868984, 2714053, 2928057, 3451900, 3270531, 3187339, 2850771, 3239557,\n",
       "                          3139263, 3160507, 3241907, 3446922, 3446922, 3505356, 3533784],\n",
       "                         dtype=int64),\n",
       "              'xaxis': 'x',\n",
       "              'y': array([2006, 2007, 2008, 2009, 2010, 2011, 2012, 2013, 2014, 2015, 2016, 2017,\n",
       "                          2018, 2019, 2020], dtype=int64),\n",
       "              'yaxis': 'y'},\n",
       "             {'hovertemplate': ('<b>%{hovertext}</b><br><br>Ite' ... 'e}<br>Year=%{y}<extra></extra>'),\n",
       "              'hovertext': array(['Nutrient potash K2O (total)', 'Nutrient potash K2O (total)',\n",
       "                                  'Nutrient potash K2O (total)', 'Nutrient potash K2O (total)',\n",
       "                                  'Nutrient potash K2O (total)', 'Nutrient potash K2O (total)',\n",
       "                                  'Nutrient potash K2O (total)', 'Nutrient potash K2O (total)',\n",
       "                                  'Nutrient potash K2O (total)', 'Nutrient potash K2O (total)',\n",
       "                                  'Nutrient potash K2O (total)', 'Nutrient potash K2O (total)',\n",
       "                                  'Nutrient potash K2O (total)', 'Nutrient potash K2O (total)',\n",
       "                                  'Nutrient potash K2O (total)'], dtype=object),\n",
       "              'legendgroup': 'Nutrient potash K2O (total)',\n",
       "              'marker': {'color': '#00cc96',\n",
       "                         'size': array([36408, 43924, 16564, 15499, 37545, 28013, 19427, 19849, 29549, 25291,\n",
       "                                        28954, 54173, 54173, 47260, 60973], dtype=int64),\n",
       "                         'sizemode': 'area',\n",
       "                         'sizeref': 981.6066666666667,\n",
       "                         'symbol': 'circle'},\n",
       "              'mode': 'markers',\n",
       "              'name': 'Nutrient potash K2O (total)',\n",
       "              'orientation': 'v',\n",
       "              'showlegend': True,\n",
       "              'type': 'scatter',\n",
       "              'x': array([36408, 43924, 16564, 15499, 37545, 28013, 19427, 19849, 29549, 25291,\n",
       "                          28954, 54173, 54173, 47260, 60973], dtype=int64),\n",
       "              'xaxis': 'x',\n",
       "              'y': array([2006, 2007, 2008, 2009, 2010, 2011, 2012, 2013, 2014, 2015, 2016, 2017,\n",
       "                          2018, 2019, 2020], dtype=int64),\n",
       "              'yaxis': 'y'}],\n",
       "    'layout': {'legend': {'itemsizing': 'constant', 'title': {'text': 'Item'}, 'tracegroupgap': 0},\n",
       "               'margin': {'t': 60},\n",
       "               'template': '...',\n",
       "               'xaxis': {'anchor': 'y', 'domain': [0.0, 1.0], 'title': {'text': 'Value'}},\n",
       "               'yaxis': {'anchor': 'x', 'domain': [0.0, 1.0], 'title': {'text': 'Year'}}}\n",
       "})"
      ]
     },
     "execution_count": 129,
     "metadata": {},
     "output_type": "execute_result"
    }
   ],
   "source": [
    "from matplotlib.pyplot import ylim\n",
    "\n",
    "\n",
    "px.scatter(df_fur_clean.query('Year>2005'), x=\"Value\", y=\"Year\",\n",
    "\t         size=\"Value\", color=\"Item\",\n",
    "                 hover_name=\"Item\", size_max=60)"
   ]
  },
  {
   "cell_type": "code",
   "execution_count": null,
   "metadata": {},
   "outputs": [
    {
     "ename": "ValueError",
     "evalue": "Mime type rendering requires nbformat>=4.2.0 but it is not installed",
     "output_type": "error",
     "traceback": [
      "\u001b[1;31m---------------------------------------------------------------------------\u001b[0m",
      "\u001b[1;31mValueError\u001b[0m                                Traceback (most recent call last)",
      "File \u001b[1;32mc:\\Users\\Administrator\\AppData\\Local\\Programs\\Python\\Python310\\lib\\site-packages\\IPython\\core\\formatters.py:921\u001b[0m, in \u001b[0;36mIPythonDisplayFormatter.__call__\u001b[1;34m(self, obj)\u001b[0m\n\u001b[0;32m    919\u001b[0m method \u001b[39m=\u001b[39m get_real_method(obj, \u001b[39mself\u001b[39m\u001b[39m.\u001b[39mprint_method)\n\u001b[0;32m    920\u001b[0m \u001b[39mif\u001b[39;00m method \u001b[39mis\u001b[39;00m \u001b[39mnot\u001b[39;00m \u001b[39mNone\u001b[39;00m:\n\u001b[1;32m--> 921\u001b[0m     method()\n\u001b[0;32m    922\u001b[0m     \u001b[39mreturn\u001b[39;00m \u001b[39mTrue\u001b[39;00m\n",
      "File \u001b[1;32mc:\\Users\\Administrator\\AppData\\Local\\Programs\\Python\\Python310\\lib\\site-packages\\plotly\\basedatatypes.py:842\u001b[0m, in \u001b[0;36mBaseFigure._ipython_display_\u001b[1;34m(self)\u001b[0m\n\u001b[0;32m    839\u001b[0m \u001b[39mimport\u001b[39;00m \u001b[39mplotly\u001b[39;00m\u001b[39m.\u001b[39;00m\u001b[39mio\u001b[39;00m \u001b[39mas\u001b[39;00m \u001b[39mpio\u001b[39;00m\n\u001b[0;32m    841\u001b[0m \u001b[39mif\u001b[39;00m pio\u001b[39m.\u001b[39mrenderers\u001b[39m.\u001b[39mrender_on_display \u001b[39mand\u001b[39;00m pio\u001b[39m.\u001b[39mrenderers\u001b[39m.\u001b[39mdefault:\n\u001b[1;32m--> 842\u001b[0m     pio\u001b[39m.\u001b[39;49mshow(\u001b[39mself\u001b[39;49m)\n\u001b[0;32m    843\u001b[0m \u001b[39melse\u001b[39;00m:\n\u001b[0;32m    844\u001b[0m     \u001b[39mprint\u001b[39m(\u001b[39mrepr\u001b[39m(\u001b[39mself\u001b[39m))\n",
      "File \u001b[1;32mc:\\Users\\Administrator\\AppData\\Local\\Programs\\Python\\Python310\\lib\\site-packages\\plotly\\io\\_renderers.py:396\u001b[0m, in \u001b[0;36mshow\u001b[1;34m(fig, renderer, validate, **kwargs)\u001b[0m\n\u001b[0;32m    391\u001b[0m         \u001b[39mraise\u001b[39;00m \u001b[39mValueError\u001b[39;00m(\n\u001b[0;32m    392\u001b[0m             \u001b[39m\"\u001b[39m\u001b[39mMime type rendering requires ipython but it is not installed\u001b[39m\u001b[39m\"\u001b[39m\n\u001b[0;32m    393\u001b[0m         )\n\u001b[0;32m    395\u001b[0m     \u001b[39mif\u001b[39;00m \u001b[39mnot\u001b[39;00m nbformat \u001b[39mor\u001b[39;00m LooseVersion(nbformat\u001b[39m.\u001b[39m__version__) \u001b[39m<\u001b[39m LooseVersion(\u001b[39m\"\u001b[39m\u001b[39m4.2.0\u001b[39m\u001b[39m\"\u001b[39m):\n\u001b[1;32m--> 396\u001b[0m         \u001b[39mraise\u001b[39;00m \u001b[39mValueError\u001b[39;00m(\n\u001b[0;32m    397\u001b[0m             \u001b[39m\"\u001b[39m\u001b[39mMime type rendering requires nbformat>=4.2.0 but it is not installed\u001b[39m\u001b[39m\"\u001b[39m\n\u001b[0;32m    398\u001b[0m         )\n\u001b[0;32m    400\u001b[0m     ipython_display\u001b[39m.\u001b[39mdisplay(bundle, raw\u001b[39m=\u001b[39m\u001b[39mTrue\u001b[39;00m)\n\u001b[0;32m    402\u001b[0m \u001b[39m# external renderers\u001b[39;00m\n",
      "\u001b[1;31mValueError\u001b[0m: Mime type rendering requires nbformat>=4.2.0 but it is not installed"
     ]
    },
    {
     "data": {
      "application/vnd.plotly.v1+json": {
       "config": {
        "plotlyServerURL": "https://plot.ly"
       },
       "data": [
        {
         "branchvalues": "total",
         "customdata": [
          [
           2013
          ],
          [
           2015
          ],
          [
           2016
          ],
          [
           2014
          ],
          [
           2019
          ],
          [
           2017
          ],
          [
           2018
          ],
          [
           2020
          ],
          [
           2013
          ],
          [
           2014
          ],
          [
           2015
          ],
          [
           2019
          ],
          [
           2020
          ],
          [
           2016
          ],
          [
           2017
          ],
          [
           2018
          ],
          [
           2014
          ],
          [
           2015
          ],
          [
           2013
          ],
          [
           2016
          ],
          [
           2017
          ],
          [
           2018
          ],
          [
           2019
          ],
          [
           2020
          ],
          [
           2013
          ],
          [
           2013
          ],
          [
           2013
          ],
          [
           2014
          ],
          [
           2014
          ],
          [
           2014
          ],
          [
           2015
          ],
          [
           2015
          ],
          [
           2015
          ],
          [
           2016
          ],
          [
           2016
          ],
          [
           2016
          ],
          [
           2017
          ],
          [
           2017
          ],
          [
           2017
          ],
          [
           2018
          ],
          [
           2018
          ],
          [
           2018
          ],
          [
           2019
          ],
          [
           2019
          ],
          [
           2019
          ],
          [
           2020
          ],
          [
           2020
          ],
          [
           2020
          ],
          [
           2016.5927280371823
          ],
          [
           2016.7241484475505
          ],
          [
           2017.2624210703825
          ]
         ],
         "domain": {
          "x": [
           0,
           1
          ],
          "y": [
           0,
           1
          ]
         },
         "hovertemplate": "labels=%{label}<br>Value=%{value}<br>parent=%{parent}<br>id=%{id}<br>Year=%{color}<extra></extra>",
         "ids": [
          "Nutrient potash K2O (total)/2013/19849",
          "Nutrient potash K2O (total)/2015/25291",
          "Nutrient potash K2O (total)/2016/28954",
          "Nutrient potash K2O (total)/2014/29549",
          "Nutrient potash K2O (total)/2019/47260",
          "Nutrient potash K2O (total)/2017/54173",
          "Nutrient potash K2O (total)/2018/54173",
          "Nutrient potash K2O (total)/2020/60973",
          "Nutrient phosphate P2O5 (total)/2013/875452",
          "Nutrient phosphate P2O5 (total)/2014/936148",
          "Nutrient phosphate P2O5 (total)/2015/993338",
          "Nutrient phosphate P2O5 (total)/2019/1099707",
          "Nutrient phosphate P2O5 (total)/2020/1204060",
          "Nutrient phosphate P2O5 (total)/2016/1209145",
          "Nutrient phosphate P2O5 (total)/2017/1257773",
          "Nutrient phosphate P2O5 (total)/2018/1257773",
          "Nutrient nitrogen N (total)/2014/3139263",
          "Nutrient nitrogen N (total)/2015/3160507",
          "Nutrient nitrogen N (total)/2013/3239557",
          "Nutrient nitrogen N (total)/2016/3241907",
          "Nutrient nitrogen N (total)/2017/3446922",
          "Nutrient nitrogen N (total)/2018/3446922",
          "Nutrient nitrogen N (total)/2019/3505356",
          "Nutrient nitrogen N (total)/2020/3533784",
          "Nutrient nitrogen N (total)/2013",
          "Nutrient phosphate P2O5 (total)/2013",
          "Nutrient potash K2O (total)/2013",
          "Nutrient nitrogen N (total)/2014",
          "Nutrient phosphate P2O5 (total)/2014",
          "Nutrient potash K2O (total)/2014",
          "Nutrient nitrogen N (total)/2015",
          "Nutrient phosphate P2O5 (total)/2015",
          "Nutrient potash K2O (total)/2015",
          "Nutrient nitrogen N (total)/2016",
          "Nutrient phosphate P2O5 (total)/2016",
          "Nutrient potash K2O (total)/2016",
          "Nutrient nitrogen N (total)/2017",
          "Nutrient phosphate P2O5 (total)/2017",
          "Nutrient potash K2O (total)/2017",
          "Nutrient nitrogen N (total)/2018",
          "Nutrient phosphate P2O5 (total)/2018",
          "Nutrient potash K2O (total)/2018",
          "Nutrient nitrogen N (total)/2019",
          "Nutrient phosphate P2O5 (total)/2019",
          "Nutrient potash K2O (total)/2019",
          "Nutrient nitrogen N (total)/2020",
          "Nutrient phosphate P2O5 (total)/2020",
          "Nutrient potash K2O (total)/2020",
          "Nutrient nitrogen N (total)",
          "Nutrient phosphate P2O5 (total)",
          "Nutrient potash K2O (total)"
         ],
         "labels": [
          "19849",
          "25291",
          "28954",
          "29549",
          "47260",
          "54173",
          "54173",
          "60973",
          "875452",
          "936148",
          "993338",
          "1099707",
          "1204060",
          "1209145",
          "1257773",
          "1257773",
          "3139263",
          "3160507",
          "3239557",
          "3241907",
          "3446922",
          "3446922",
          "3505356",
          "3533784",
          "2013",
          "2013",
          "2013",
          "2014",
          "2014",
          "2014",
          "2015",
          "2015",
          "2015",
          "2016",
          "2016",
          "2016",
          "2017",
          "2017",
          "2017",
          "2018",
          "2018",
          "2018",
          "2019",
          "2019",
          "2019",
          "2020",
          "2020",
          "2020",
          "Nutrient nitrogen N (total)",
          "Nutrient phosphate P2O5 (total)",
          "Nutrient potash K2O (total)"
         ],
         "marker": {
          "coloraxis": "coloraxis",
          "colors": [
           2013,
           2015,
           2016,
           2014,
           2019,
           2017,
           2018,
           2020,
           2013,
           2014,
           2015,
           2019,
           2020,
           2016,
           2017,
           2018,
           2014,
           2015,
           2013,
           2016,
           2017,
           2018,
           2019,
           2020,
           2013,
           2013,
           2013,
           2014,
           2014,
           2014,
           2015,
           2015,
           2015,
           2016,
           2016,
           2016,
           2017,
           2017,
           2017,
           2018,
           2018,
           2018,
           2019,
           2019,
           2019,
           2020,
           2020,
           2020,
           2016.5927280371823,
           2016.7241484475505,
           2017.2624210703825
          ]
         },
         "name": "",
         "parents": [
          "Nutrient potash K2O (total)/2013",
          "Nutrient potash K2O (total)/2015",
          "Nutrient potash K2O (total)/2016",
          "Nutrient potash K2O (total)/2014",
          "Nutrient potash K2O (total)/2019",
          "Nutrient potash K2O (total)/2017",
          "Nutrient potash K2O (total)/2018",
          "Nutrient potash K2O (total)/2020",
          "Nutrient phosphate P2O5 (total)/2013",
          "Nutrient phosphate P2O5 (total)/2014",
          "Nutrient phosphate P2O5 (total)/2015",
          "Nutrient phosphate P2O5 (total)/2019",
          "Nutrient phosphate P2O5 (total)/2020",
          "Nutrient phosphate P2O5 (total)/2016",
          "Nutrient phosphate P2O5 (total)/2017",
          "Nutrient phosphate P2O5 (total)/2018",
          "Nutrient nitrogen N (total)/2014",
          "Nutrient nitrogen N (total)/2015",
          "Nutrient nitrogen N (total)/2013",
          "Nutrient nitrogen N (total)/2016",
          "Nutrient nitrogen N (total)/2017",
          "Nutrient nitrogen N (total)/2018",
          "Nutrient nitrogen N (total)/2019",
          "Nutrient nitrogen N (total)/2020",
          "Nutrient nitrogen N (total)",
          "Nutrient phosphate P2O5 (total)",
          "Nutrient potash K2O (total)",
          "Nutrient nitrogen N (total)",
          "Nutrient phosphate P2O5 (total)",
          "Nutrient potash K2O (total)",
          "Nutrient nitrogen N (total)",
          "Nutrient phosphate P2O5 (total)",
          "Nutrient potash K2O (total)",
          "Nutrient nitrogen N (total)",
          "Nutrient phosphate P2O5 (total)",
          "Nutrient potash K2O (total)",
          "Nutrient nitrogen N (total)",
          "Nutrient phosphate P2O5 (total)",
          "Nutrient potash K2O (total)",
          "Nutrient nitrogen N (total)",
          "Nutrient phosphate P2O5 (total)",
          "Nutrient potash K2O (total)",
          "Nutrient nitrogen N (total)",
          "Nutrient phosphate P2O5 (total)",
          "Nutrient potash K2O (total)",
          "Nutrient nitrogen N (total)",
          "Nutrient phosphate P2O5 (total)",
          "Nutrient potash K2O (total)",
          "",
          "",
          ""
         ],
         "type": "sunburst",
         "values": [
          19849,
          25291,
          28954,
          29549,
          47260,
          54173,
          54173,
          60973,
          875452,
          936148,
          993338,
          1099707,
          1204060,
          1209145,
          1257773,
          1257773,
          3139263,
          3160507,
          3239557,
          3241907,
          3446922,
          3446922,
          3505356,
          3533784,
          3239557,
          875452,
          19849,
          3139263,
          936148,
          29549,
          3160507,
          993338,
          25291,
          3241907,
          1209145,
          28954,
          3446922,
          1257773,
          54173,
          3446922,
          1257773,
          54173,
          3505356,
          1099707,
          47260,
          3533784,
          1204060,
          60973,
          26714218,
          8833396,
          320222
         ]
        }
       ],
       "layout": {
        "coloraxis": {
         "colorbar": {
          "title": {
           "text": "Year"
          }
         },
         "colorscale": [
          [
           0,
           "#0d0887"
          ],
          [
           0.1111111111111111,
           "#46039f"
          ],
          [
           0.2222222222222222,
           "#7201a8"
          ],
          [
           0.3333333333333333,
           "#9c179e"
          ],
          [
           0.4444444444444444,
           "#bd3786"
          ],
          [
           0.5555555555555556,
           "#d8576b"
          ],
          [
           0.6666666666666666,
           "#ed7953"
          ],
          [
           0.7777777777777778,
           "#fb9f3a"
          ],
          [
           0.8888888888888888,
           "#fdca26"
          ],
          [
           1,
           "#f0f921"
          ]
         ]
        },
        "legend": {
         "tracegroupgap": 0
        },
        "margin": {
         "t": 60
        },
        "template": {
         "data": {
          "bar": [
           {
            "error_x": {
             "color": "#2a3f5f"
            },
            "error_y": {
             "color": "#2a3f5f"
            },
            "marker": {
             "line": {
              "color": "#E5ECF6",
              "width": 0.5
             },
             "pattern": {
              "fillmode": "overlay",
              "size": 10,
              "solidity": 0.2
             }
            },
            "type": "bar"
           }
          ],
          "barpolar": [
           {
            "marker": {
             "line": {
              "color": "#E5ECF6",
              "width": 0.5
             },
             "pattern": {
              "fillmode": "overlay",
              "size": 10,
              "solidity": 0.2
             }
            },
            "type": "barpolar"
           }
          ],
          "carpet": [
           {
            "aaxis": {
             "endlinecolor": "#2a3f5f",
             "gridcolor": "white",
             "linecolor": "white",
             "minorgridcolor": "white",
             "startlinecolor": "#2a3f5f"
            },
            "baxis": {
             "endlinecolor": "#2a3f5f",
             "gridcolor": "white",
             "linecolor": "white",
             "minorgridcolor": "white",
             "startlinecolor": "#2a3f5f"
            },
            "type": "carpet"
           }
          ],
          "choropleth": [
           {
            "colorbar": {
             "outlinewidth": 0,
             "ticks": ""
            },
            "type": "choropleth"
           }
          ],
          "contour": [
           {
            "colorbar": {
             "outlinewidth": 0,
             "ticks": ""
            },
            "colorscale": [
             [
              0,
              "#0d0887"
             ],
             [
              0.1111111111111111,
              "#46039f"
             ],
             [
              0.2222222222222222,
              "#7201a8"
             ],
             [
              0.3333333333333333,
              "#9c179e"
             ],
             [
              0.4444444444444444,
              "#bd3786"
             ],
             [
              0.5555555555555556,
              "#d8576b"
             ],
             [
              0.6666666666666666,
              "#ed7953"
             ],
             [
              0.7777777777777778,
              "#fb9f3a"
             ],
             [
              0.8888888888888888,
              "#fdca26"
             ],
             [
              1,
              "#f0f921"
             ]
            ],
            "type": "contour"
           }
          ],
          "contourcarpet": [
           {
            "colorbar": {
             "outlinewidth": 0,
             "ticks": ""
            },
            "type": "contourcarpet"
           }
          ],
          "heatmap": [
           {
            "colorbar": {
             "outlinewidth": 0,
             "ticks": ""
            },
            "colorscale": [
             [
              0,
              "#0d0887"
             ],
             [
              0.1111111111111111,
              "#46039f"
             ],
             [
              0.2222222222222222,
              "#7201a8"
             ],
             [
              0.3333333333333333,
              "#9c179e"
             ],
             [
              0.4444444444444444,
              "#bd3786"
             ],
             [
              0.5555555555555556,
              "#d8576b"
             ],
             [
              0.6666666666666666,
              "#ed7953"
             ],
             [
              0.7777777777777778,
              "#fb9f3a"
             ],
             [
              0.8888888888888888,
              "#fdca26"
             ],
             [
              1,
              "#f0f921"
             ]
            ],
            "type": "heatmap"
           }
          ],
          "heatmapgl": [
           {
            "colorbar": {
             "outlinewidth": 0,
             "ticks": ""
            },
            "colorscale": [
             [
              0,
              "#0d0887"
             ],
             [
              0.1111111111111111,
              "#46039f"
             ],
             [
              0.2222222222222222,
              "#7201a8"
             ],
             [
              0.3333333333333333,
              "#9c179e"
             ],
             [
              0.4444444444444444,
              "#bd3786"
             ],
             [
              0.5555555555555556,
              "#d8576b"
             ],
             [
              0.6666666666666666,
              "#ed7953"
             ],
             [
              0.7777777777777778,
              "#fb9f3a"
             ],
             [
              0.8888888888888888,
              "#fdca26"
             ],
             [
              1,
              "#f0f921"
             ]
            ],
            "type": "heatmapgl"
           }
          ],
          "histogram": [
           {
            "marker": {
             "pattern": {
              "fillmode": "overlay",
              "size": 10,
              "solidity": 0.2
             }
            },
            "type": "histogram"
           }
          ],
          "histogram2d": [
           {
            "colorbar": {
             "outlinewidth": 0,
             "ticks": ""
            },
            "colorscale": [
             [
              0,
              "#0d0887"
             ],
             [
              0.1111111111111111,
              "#46039f"
             ],
             [
              0.2222222222222222,
              "#7201a8"
             ],
             [
              0.3333333333333333,
              "#9c179e"
             ],
             [
              0.4444444444444444,
              "#bd3786"
             ],
             [
              0.5555555555555556,
              "#d8576b"
             ],
             [
              0.6666666666666666,
              "#ed7953"
             ],
             [
              0.7777777777777778,
              "#fb9f3a"
             ],
             [
              0.8888888888888888,
              "#fdca26"
             ],
             [
              1,
              "#f0f921"
             ]
            ],
            "type": "histogram2d"
           }
          ],
          "histogram2dcontour": [
           {
            "colorbar": {
             "outlinewidth": 0,
             "ticks": ""
            },
            "colorscale": [
             [
              0,
              "#0d0887"
             ],
             [
              0.1111111111111111,
              "#46039f"
             ],
             [
              0.2222222222222222,
              "#7201a8"
             ],
             [
              0.3333333333333333,
              "#9c179e"
             ],
             [
              0.4444444444444444,
              "#bd3786"
             ],
             [
              0.5555555555555556,
              "#d8576b"
             ],
             [
              0.6666666666666666,
              "#ed7953"
             ],
             [
              0.7777777777777778,
              "#fb9f3a"
             ],
             [
              0.8888888888888888,
              "#fdca26"
             ],
             [
              1,
              "#f0f921"
             ]
            ],
            "type": "histogram2dcontour"
           }
          ],
          "mesh3d": [
           {
            "colorbar": {
             "outlinewidth": 0,
             "ticks": ""
            },
            "type": "mesh3d"
           }
          ],
          "parcoords": [
           {
            "line": {
             "colorbar": {
              "outlinewidth": 0,
              "ticks": ""
             }
            },
            "type": "parcoords"
           }
          ],
          "pie": [
           {
            "automargin": true,
            "type": "pie"
           }
          ],
          "scatter": [
           {
            "fillpattern": {
             "fillmode": "overlay",
             "size": 10,
             "solidity": 0.2
            },
            "type": "scatter"
           }
          ],
          "scatter3d": [
           {
            "line": {
             "colorbar": {
              "outlinewidth": 0,
              "ticks": ""
             }
            },
            "marker": {
             "colorbar": {
              "outlinewidth": 0,
              "ticks": ""
             }
            },
            "type": "scatter3d"
           }
          ],
          "scattercarpet": [
           {
            "marker": {
             "colorbar": {
              "outlinewidth": 0,
              "ticks": ""
             }
            },
            "type": "scattercarpet"
           }
          ],
          "scattergeo": [
           {
            "marker": {
             "colorbar": {
              "outlinewidth": 0,
              "ticks": ""
             }
            },
            "type": "scattergeo"
           }
          ],
          "scattergl": [
           {
            "marker": {
             "colorbar": {
              "outlinewidth": 0,
              "ticks": ""
             }
            },
            "type": "scattergl"
           }
          ],
          "scattermapbox": [
           {
            "marker": {
             "colorbar": {
              "outlinewidth": 0,
              "ticks": ""
             }
            },
            "type": "scattermapbox"
           }
          ],
          "scatterpolar": [
           {
            "marker": {
             "colorbar": {
              "outlinewidth": 0,
              "ticks": ""
             }
            },
            "type": "scatterpolar"
           }
          ],
          "scatterpolargl": [
           {
            "marker": {
             "colorbar": {
              "outlinewidth": 0,
              "ticks": ""
             }
            },
            "type": "scatterpolargl"
           }
          ],
          "scatterternary": [
           {
            "marker": {
             "colorbar": {
              "outlinewidth": 0,
              "ticks": ""
             }
            },
            "type": "scatterternary"
           }
          ],
          "surface": [
           {
            "colorbar": {
             "outlinewidth": 0,
             "ticks": ""
            },
            "colorscale": [
             [
              0,
              "#0d0887"
             ],
             [
              0.1111111111111111,
              "#46039f"
             ],
             [
              0.2222222222222222,
              "#7201a8"
             ],
             [
              0.3333333333333333,
              "#9c179e"
             ],
             [
              0.4444444444444444,
              "#bd3786"
             ],
             [
              0.5555555555555556,
              "#d8576b"
             ],
             [
              0.6666666666666666,
              "#ed7953"
             ],
             [
              0.7777777777777778,
              "#fb9f3a"
             ],
             [
              0.8888888888888888,
              "#fdca26"
             ],
             [
              1,
              "#f0f921"
             ]
            ],
            "type": "surface"
           }
          ],
          "table": [
           {
            "cells": {
             "fill": {
              "color": "#EBF0F8"
             },
             "line": {
              "color": "white"
             }
            },
            "header": {
             "fill": {
              "color": "#C8D4E3"
             },
             "line": {
              "color": "white"
             }
            },
            "type": "table"
           }
          ]
         },
         "layout": {
          "annotationdefaults": {
           "arrowcolor": "#2a3f5f",
           "arrowhead": 0,
           "arrowwidth": 1
          },
          "autotypenumbers": "strict",
          "coloraxis": {
           "colorbar": {
            "outlinewidth": 0,
            "ticks": ""
           }
          },
          "colorscale": {
           "diverging": [
            [
             0,
             "#8e0152"
            ],
            [
             0.1,
             "#c51b7d"
            ],
            [
             0.2,
             "#de77ae"
            ],
            [
             0.3,
             "#f1b6da"
            ],
            [
             0.4,
             "#fde0ef"
            ],
            [
             0.5,
             "#f7f7f7"
            ],
            [
             0.6,
             "#e6f5d0"
            ],
            [
             0.7,
             "#b8e186"
            ],
            [
             0.8,
             "#7fbc41"
            ],
            [
             0.9,
             "#4d9221"
            ],
            [
             1,
             "#276419"
            ]
           ],
           "sequential": [
            [
             0,
             "#0d0887"
            ],
            [
             0.1111111111111111,
             "#46039f"
            ],
            [
             0.2222222222222222,
             "#7201a8"
            ],
            [
             0.3333333333333333,
             "#9c179e"
            ],
            [
             0.4444444444444444,
             "#bd3786"
            ],
            [
             0.5555555555555556,
             "#d8576b"
            ],
            [
             0.6666666666666666,
             "#ed7953"
            ],
            [
             0.7777777777777778,
             "#fb9f3a"
            ],
            [
             0.8888888888888888,
             "#fdca26"
            ],
            [
             1,
             "#f0f921"
            ]
           ],
           "sequentialminus": [
            [
             0,
             "#0d0887"
            ],
            [
             0.1111111111111111,
             "#46039f"
            ],
            [
             0.2222222222222222,
             "#7201a8"
            ],
            [
             0.3333333333333333,
             "#9c179e"
            ],
            [
             0.4444444444444444,
             "#bd3786"
            ],
            [
             0.5555555555555556,
             "#d8576b"
            ],
            [
             0.6666666666666666,
             "#ed7953"
            ],
            [
             0.7777777777777778,
             "#fb9f3a"
            ],
            [
             0.8888888888888888,
             "#fdca26"
            ],
            [
             1,
             "#f0f921"
            ]
           ]
          },
          "colorway": [
           "#636efa",
           "#EF553B",
           "#00cc96",
           "#ab63fa",
           "#FFA15A",
           "#19d3f3",
           "#FF6692",
           "#B6E880",
           "#FF97FF",
           "#FECB52"
          ],
          "font": {
           "color": "#2a3f5f"
          },
          "geo": {
           "bgcolor": "white",
           "lakecolor": "white",
           "landcolor": "#E5ECF6",
           "showlakes": true,
           "showland": true,
           "subunitcolor": "white"
          },
          "hoverlabel": {
           "align": "left"
          },
          "hovermode": "closest",
          "mapbox": {
           "style": "light"
          },
          "paper_bgcolor": "white",
          "plot_bgcolor": "#E5ECF6",
          "polar": {
           "angularaxis": {
            "gridcolor": "white",
            "linecolor": "white",
            "ticks": ""
           },
           "bgcolor": "#E5ECF6",
           "radialaxis": {
            "gridcolor": "white",
            "linecolor": "white",
            "ticks": ""
           }
          },
          "scene": {
           "xaxis": {
            "backgroundcolor": "#E5ECF6",
            "gridcolor": "white",
            "gridwidth": 2,
            "linecolor": "white",
            "showbackground": true,
            "ticks": "",
            "zerolinecolor": "white"
           },
           "yaxis": {
            "backgroundcolor": "#E5ECF6",
            "gridcolor": "white",
            "gridwidth": 2,
            "linecolor": "white",
            "showbackground": true,
            "ticks": "",
            "zerolinecolor": "white"
           },
           "zaxis": {
            "backgroundcolor": "#E5ECF6",
            "gridcolor": "white",
            "gridwidth": 2,
            "linecolor": "white",
            "showbackground": true,
            "ticks": "",
            "zerolinecolor": "white"
           }
          },
          "shapedefaults": {
           "line": {
            "color": "#2a3f5f"
           }
          },
          "ternary": {
           "aaxis": {
            "gridcolor": "white",
            "linecolor": "white",
            "ticks": ""
           },
           "baxis": {
            "gridcolor": "white",
            "linecolor": "white",
            "ticks": ""
           },
           "bgcolor": "#E5ECF6",
           "caxis": {
            "gridcolor": "white",
            "linecolor": "white",
            "ticks": ""
           }
          },
          "title": {
           "x": 0.05
          },
          "xaxis": {
           "automargin": true,
           "gridcolor": "white",
           "linecolor": "white",
           "ticks": "",
           "title": {
            "standoff": 15
           },
           "zerolinecolor": "white",
           "zerolinewidth": 2
          },
          "yaxis": {
           "automargin": true,
           "gridcolor": "white",
           "linecolor": "white",
           "ticks": "",
           "title": {
            "standoff": 15
           },
           "zerolinecolor": "white",
           "zerolinewidth": 2
          }
         }
        }
       }
      },
      "text/html": [
       "<div>                        <script type=\"text/javascript\">window.PlotlyConfig = {MathJaxConfig: 'local'};</script>\n",
       "        <script src=\"https://cdn.plot.ly/plotly-2.12.1.min.js\"></script>                <div id=\"32699b0c-f48a-4519-bbec-a866a592ebfe\" class=\"plotly-graph-div\" style=\"height:100%; width:100%;\"></div>            <script type=\"text/javascript\">                                    window.PLOTLYENV=window.PLOTLYENV || {};                                    if (document.getElementById(\"32699b0c-f48a-4519-bbec-a866a592ebfe\")) {                    Plotly.newPlot(                        \"32699b0c-f48a-4519-bbec-a866a592ebfe\",                        [{\"branchvalues\":\"total\",\"customdata\":[[2013.0],[2015.0],[2016.0],[2014.0],[2019.0],[2017.0],[2018.0],[2020.0],[2013.0],[2014.0],[2015.0],[2019.0],[2020.0],[2016.0],[2017.0],[2018.0],[2014.0],[2015.0],[2013.0],[2016.0],[2017.0],[2018.0],[2019.0],[2020.0],[2013.0],[2013.0],[2013.0],[2014.0],[2014.0],[2014.0],[2015.0],[2015.0],[2015.0],[2016.0],[2016.0],[2016.0],[2017.0],[2017.0],[2017.0],[2018.0],[2018.0],[2018.0],[2019.0],[2019.0],[2019.0],[2020.0],[2020.0],[2020.0],[2016.5927280371823],[2016.7241484475505],[2017.2624210703825]],\"domain\":{\"x\":[0.0,1.0],\"y\":[0.0,1.0]},\"hovertemplate\":\"labels=%{label}<br>Value=%{value}<br>parent=%{parent}<br>id=%{id}<br>Year=%{color}<extra></extra>\",\"ids\":[\"Nutrient potash K2O (total)/2013/19849\",\"Nutrient potash K2O (total)/2015/25291\",\"Nutrient potash K2O (total)/2016/28954\",\"Nutrient potash K2O (total)/2014/29549\",\"Nutrient potash K2O (total)/2019/47260\",\"Nutrient potash K2O (total)/2017/54173\",\"Nutrient potash K2O (total)/2018/54173\",\"Nutrient potash K2O (total)/2020/60973\",\"Nutrient phosphate P2O5 (total)/2013/875452\",\"Nutrient phosphate P2O5 (total)/2014/936148\",\"Nutrient phosphate P2O5 (total)/2015/993338\",\"Nutrient phosphate P2O5 (total)/2019/1099707\",\"Nutrient phosphate P2O5 (total)/2020/1204060\",\"Nutrient phosphate P2O5 (total)/2016/1209145\",\"Nutrient phosphate P2O5 (total)/2017/1257773\",\"Nutrient phosphate P2O5 (total)/2018/1257773\",\"Nutrient nitrogen N (total)/2014/3139263\",\"Nutrient nitrogen N (total)/2015/3160507\",\"Nutrient nitrogen N (total)/2013/3239557\",\"Nutrient nitrogen N (total)/2016/3241907\",\"Nutrient nitrogen N (total)/2017/3446922\",\"Nutrient nitrogen N (total)/2018/3446922\",\"Nutrient nitrogen N (total)/2019/3505356\",\"Nutrient nitrogen N (total)/2020/3533784\",\"Nutrient nitrogen N (total)/2013\",\"Nutrient phosphate P2O5 (total)/2013\",\"Nutrient potash K2O (total)/2013\",\"Nutrient nitrogen N (total)/2014\",\"Nutrient phosphate P2O5 (total)/2014\",\"Nutrient potash K2O (total)/2014\",\"Nutrient nitrogen N (total)/2015\",\"Nutrient phosphate P2O5 (total)/2015\",\"Nutrient potash K2O (total)/2015\",\"Nutrient nitrogen N (total)/2016\",\"Nutrient phosphate P2O5 (total)/2016\",\"Nutrient potash K2O (total)/2016\",\"Nutrient nitrogen N (total)/2017\",\"Nutrient phosphate P2O5 (total)/2017\",\"Nutrient potash K2O (total)/2017\",\"Nutrient nitrogen N (total)/2018\",\"Nutrient phosphate P2O5 (total)/2018\",\"Nutrient potash K2O (total)/2018\",\"Nutrient nitrogen N (total)/2019\",\"Nutrient phosphate P2O5 (total)/2019\",\"Nutrient potash K2O (total)/2019\",\"Nutrient nitrogen N (total)/2020\",\"Nutrient phosphate P2O5 (total)/2020\",\"Nutrient potash K2O (total)/2020\",\"Nutrient nitrogen N (total)\",\"Nutrient phosphate P2O5 (total)\",\"Nutrient potash K2O (total)\"],\"labels\":[\"19849\",\"25291\",\"28954\",\"29549\",\"47260\",\"54173\",\"54173\",\"60973\",\"875452\",\"936148\",\"993338\",\"1099707\",\"1204060\",\"1209145\",\"1257773\",\"1257773\",\"3139263\",\"3160507\",\"3239557\",\"3241907\",\"3446922\",\"3446922\",\"3505356\",\"3533784\",\"2013\",\"2013\",\"2013\",\"2014\",\"2014\",\"2014\",\"2015\",\"2015\",\"2015\",\"2016\",\"2016\",\"2016\",\"2017\",\"2017\",\"2017\",\"2018\",\"2018\",\"2018\",\"2019\",\"2019\",\"2019\",\"2020\",\"2020\",\"2020\",\"Nutrient nitrogen N (total)\",\"Nutrient phosphate P2O5 (total)\",\"Nutrient potash K2O (total)\"],\"marker\":{\"coloraxis\":\"coloraxis\",\"colors\":[2013.0,2015.0,2016.0,2014.0,2019.0,2017.0,2018.0,2020.0,2013.0,2014.0,2015.0,2019.0,2020.0,2016.0,2017.0,2018.0,2014.0,2015.0,2013.0,2016.0,2017.0,2018.0,2019.0,2020.0,2013.0,2013.0,2013.0,2014.0,2014.0,2014.0,2015.0,2015.0,2015.0,2016.0,2016.0,2016.0,2017.0,2017.0,2017.0,2018.0,2018.0,2018.0,2019.0,2019.0,2019.0,2020.0,2020.0,2020.0,2016.5927280371823,2016.7241484475505,2017.2624210703825]},\"name\":\"\",\"parents\":[\"Nutrient potash K2O (total)/2013\",\"Nutrient potash K2O (total)/2015\",\"Nutrient potash K2O (total)/2016\",\"Nutrient potash K2O (total)/2014\",\"Nutrient potash K2O (total)/2019\",\"Nutrient potash K2O (total)/2017\",\"Nutrient potash K2O (total)/2018\",\"Nutrient potash K2O (total)/2020\",\"Nutrient phosphate P2O5 (total)/2013\",\"Nutrient phosphate P2O5 (total)/2014\",\"Nutrient phosphate P2O5 (total)/2015\",\"Nutrient phosphate P2O5 (total)/2019\",\"Nutrient phosphate P2O5 (total)/2020\",\"Nutrient phosphate P2O5 (total)/2016\",\"Nutrient phosphate P2O5 (total)/2017\",\"Nutrient phosphate P2O5 (total)/2018\",\"Nutrient nitrogen N (total)/2014\",\"Nutrient nitrogen N (total)/2015\",\"Nutrient nitrogen N (total)/2013\",\"Nutrient nitrogen N (total)/2016\",\"Nutrient nitrogen N (total)/2017\",\"Nutrient nitrogen N (total)/2018\",\"Nutrient nitrogen N (total)/2019\",\"Nutrient nitrogen N (total)/2020\",\"Nutrient nitrogen N (total)\",\"Nutrient phosphate P2O5 (total)\",\"Nutrient potash K2O (total)\",\"Nutrient nitrogen N (total)\",\"Nutrient phosphate P2O5 (total)\",\"Nutrient potash K2O (total)\",\"Nutrient nitrogen N (total)\",\"Nutrient phosphate P2O5 (total)\",\"Nutrient potash K2O (total)\",\"Nutrient nitrogen N (total)\",\"Nutrient phosphate P2O5 (total)\",\"Nutrient potash K2O (total)\",\"Nutrient nitrogen N (total)\",\"Nutrient phosphate P2O5 (total)\",\"Nutrient potash K2O (total)\",\"Nutrient nitrogen N (total)\",\"Nutrient phosphate P2O5 (total)\",\"Nutrient potash K2O (total)\",\"Nutrient nitrogen N (total)\",\"Nutrient phosphate P2O5 (total)\",\"Nutrient potash K2O (total)\",\"Nutrient nitrogen N (total)\",\"Nutrient phosphate P2O5 (total)\",\"Nutrient potash K2O (total)\",\"\",\"\",\"\"],\"values\":[19849,25291,28954,29549,47260,54173,54173,60973,875452,936148,993338,1099707,1204060,1209145,1257773,1257773,3139263,3160507,3239557,3241907,3446922,3446922,3505356,3533784,3239557,875452,19849,3139263,936148,29549,3160507,993338,25291,3241907,1209145,28954,3446922,1257773,54173,3446922,1257773,54173,3505356,1099707,47260,3533784,1204060,60973,26714218,8833396,320222],\"type\":\"sunburst\"}],                        {\"template\":{\"data\":{\"histogram2dcontour\":[{\"type\":\"histogram2dcontour\",\"colorbar\":{\"outlinewidth\":0,\"ticks\":\"\"},\"colorscale\":[[0.0,\"#0d0887\"],[0.1111111111111111,\"#46039f\"],[0.2222222222222222,\"#7201a8\"],[0.3333333333333333,\"#9c179e\"],[0.4444444444444444,\"#bd3786\"],[0.5555555555555556,\"#d8576b\"],[0.6666666666666666,\"#ed7953\"],[0.7777777777777778,\"#fb9f3a\"],[0.8888888888888888,\"#fdca26\"],[1.0,\"#f0f921\"]]}],\"choropleth\":[{\"type\":\"choropleth\",\"colorbar\":{\"outlinewidth\":0,\"ticks\":\"\"}}],\"histogram2d\":[{\"type\":\"histogram2d\",\"colorbar\":{\"outlinewidth\":0,\"ticks\":\"\"},\"colorscale\":[[0.0,\"#0d0887\"],[0.1111111111111111,\"#46039f\"],[0.2222222222222222,\"#7201a8\"],[0.3333333333333333,\"#9c179e\"],[0.4444444444444444,\"#bd3786\"],[0.5555555555555556,\"#d8576b\"],[0.6666666666666666,\"#ed7953\"],[0.7777777777777778,\"#fb9f3a\"],[0.8888888888888888,\"#fdca26\"],[1.0,\"#f0f921\"]]}],\"heatmap\":[{\"type\":\"heatmap\",\"colorbar\":{\"outlinewidth\":0,\"ticks\":\"\"},\"colorscale\":[[0.0,\"#0d0887\"],[0.1111111111111111,\"#46039f\"],[0.2222222222222222,\"#7201a8\"],[0.3333333333333333,\"#9c179e\"],[0.4444444444444444,\"#bd3786\"],[0.5555555555555556,\"#d8576b\"],[0.6666666666666666,\"#ed7953\"],[0.7777777777777778,\"#fb9f3a\"],[0.8888888888888888,\"#fdca26\"],[1.0,\"#f0f921\"]]}],\"heatmapgl\":[{\"type\":\"heatmapgl\",\"colorbar\":{\"outlinewidth\":0,\"ticks\":\"\"},\"colorscale\":[[0.0,\"#0d0887\"],[0.1111111111111111,\"#46039f\"],[0.2222222222222222,\"#7201a8\"],[0.3333333333333333,\"#9c179e\"],[0.4444444444444444,\"#bd3786\"],[0.5555555555555556,\"#d8576b\"],[0.6666666666666666,\"#ed7953\"],[0.7777777777777778,\"#fb9f3a\"],[0.8888888888888888,\"#fdca26\"],[1.0,\"#f0f921\"]]}],\"contourcarpet\":[{\"type\":\"contourcarpet\",\"colorbar\":{\"outlinewidth\":0,\"ticks\":\"\"}}],\"contour\":[{\"type\":\"contour\",\"colorbar\":{\"outlinewidth\":0,\"ticks\":\"\"},\"colorscale\":[[0.0,\"#0d0887\"],[0.1111111111111111,\"#46039f\"],[0.2222222222222222,\"#7201a8\"],[0.3333333333333333,\"#9c179e\"],[0.4444444444444444,\"#bd3786\"],[0.5555555555555556,\"#d8576b\"],[0.6666666666666666,\"#ed7953\"],[0.7777777777777778,\"#fb9f3a\"],[0.8888888888888888,\"#fdca26\"],[1.0,\"#f0f921\"]]}],\"surface\":[{\"type\":\"surface\",\"colorbar\":{\"outlinewidth\":0,\"ticks\":\"\"},\"colorscale\":[[0.0,\"#0d0887\"],[0.1111111111111111,\"#46039f\"],[0.2222222222222222,\"#7201a8\"],[0.3333333333333333,\"#9c179e\"],[0.4444444444444444,\"#bd3786\"],[0.5555555555555556,\"#d8576b\"],[0.6666666666666666,\"#ed7953\"],[0.7777777777777778,\"#fb9f3a\"],[0.8888888888888888,\"#fdca26\"],[1.0,\"#f0f921\"]]}],\"mesh3d\":[{\"type\":\"mesh3d\",\"colorbar\":{\"outlinewidth\":0,\"ticks\":\"\"}}],\"scatter\":[{\"fillpattern\":{\"fillmode\":\"overlay\",\"size\":10,\"solidity\":0.2},\"type\":\"scatter\"}],\"parcoords\":[{\"type\":\"parcoords\",\"line\":{\"colorbar\":{\"outlinewidth\":0,\"ticks\":\"\"}}}],\"scatterpolargl\":[{\"type\":\"scatterpolargl\",\"marker\":{\"colorbar\":{\"outlinewidth\":0,\"ticks\":\"\"}}}],\"bar\":[{\"error_x\":{\"color\":\"#2a3f5f\"},\"error_y\":{\"color\":\"#2a3f5f\"},\"marker\":{\"line\":{\"color\":\"#E5ECF6\",\"width\":0.5},\"pattern\":{\"fillmode\":\"overlay\",\"size\":10,\"solidity\":0.2}},\"type\":\"bar\"}],\"scattergeo\":[{\"type\":\"scattergeo\",\"marker\":{\"colorbar\":{\"outlinewidth\":0,\"ticks\":\"\"}}}],\"scatterpolar\":[{\"type\":\"scatterpolar\",\"marker\":{\"colorbar\":{\"outlinewidth\":0,\"ticks\":\"\"}}}],\"histogram\":[{\"marker\":{\"pattern\":{\"fillmode\":\"overlay\",\"size\":10,\"solidity\":0.2}},\"type\":\"histogram\"}],\"scattergl\":[{\"type\":\"scattergl\",\"marker\":{\"colorbar\":{\"outlinewidth\":0,\"ticks\":\"\"}}}],\"scatter3d\":[{\"type\":\"scatter3d\",\"line\":{\"colorbar\":{\"outlinewidth\":0,\"ticks\":\"\"}},\"marker\":{\"colorbar\":{\"outlinewidth\":0,\"ticks\":\"\"}}}],\"scattermapbox\":[{\"type\":\"scattermapbox\",\"marker\":{\"colorbar\":{\"outlinewidth\":0,\"ticks\":\"\"}}}],\"scatterternary\":[{\"type\":\"scatterternary\",\"marker\":{\"colorbar\":{\"outlinewidth\":0,\"ticks\":\"\"}}}],\"scattercarpet\":[{\"type\":\"scattercarpet\",\"marker\":{\"colorbar\":{\"outlinewidth\":0,\"ticks\":\"\"}}}],\"carpet\":[{\"aaxis\":{\"endlinecolor\":\"#2a3f5f\",\"gridcolor\":\"white\",\"linecolor\":\"white\",\"minorgridcolor\":\"white\",\"startlinecolor\":\"#2a3f5f\"},\"baxis\":{\"endlinecolor\":\"#2a3f5f\",\"gridcolor\":\"white\",\"linecolor\":\"white\",\"minorgridcolor\":\"white\",\"startlinecolor\":\"#2a3f5f\"},\"type\":\"carpet\"}],\"table\":[{\"cells\":{\"fill\":{\"color\":\"#EBF0F8\"},\"line\":{\"color\":\"white\"}},\"header\":{\"fill\":{\"color\":\"#C8D4E3\"},\"line\":{\"color\":\"white\"}},\"type\":\"table\"}],\"barpolar\":[{\"marker\":{\"line\":{\"color\":\"#E5ECF6\",\"width\":0.5},\"pattern\":{\"fillmode\":\"overlay\",\"size\":10,\"solidity\":0.2}},\"type\":\"barpolar\"}],\"pie\":[{\"automargin\":true,\"type\":\"pie\"}]},\"layout\":{\"autotypenumbers\":\"strict\",\"colorway\":[\"#636efa\",\"#EF553B\",\"#00cc96\",\"#ab63fa\",\"#FFA15A\",\"#19d3f3\",\"#FF6692\",\"#B6E880\",\"#FF97FF\",\"#FECB52\"],\"font\":{\"color\":\"#2a3f5f\"},\"hovermode\":\"closest\",\"hoverlabel\":{\"align\":\"left\"},\"paper_bgcolor\":\"white\",\"plot_bgcolor\":\"#E5ECF6\",\"polar\":{\"bgcolor\":\"#E5ECF6\",\"angularaxis\":{\"gridcolor\":\"white\",\"linecolor\":\"white\",\"ticks\":\"\"},\"radialaxis\":{\"gridcolor\":\"white\",\"linecolor\":\"white\",\"ticks\":\"\"}},\"ternary\":{\"bgcolor\":\"#E5ECF6\",\"aaxis\":{\"gridcolor\":\"white\",\"linecolor\":\"white\",\"ticks\":\"\"},\"baxis\":{\"gridcolor\":\"white\",\"linecolor\":\"white\",\"ticks\":\"\"},\"caxis\":{\"gridcolor\":\"white\",\"linecolor\":\"white\",\"ticks\":\"\"}},\"coloraxis\":{\"colorbar\":{\"outlinewidth\":0,\"ticks\":\"\"}},\"colorscale\":{\"sequential\":[[0.0,\"#0d0887\"],[0.1111111111111111,\"#46039f\"],[0.2222222222222222,\"#7201a8\"],[0.3333333333333333,\"#9c179e\"],[0.4444444444444444,\"#bd3786\"],[0.5555555555555556,\"#d8576b\"],[0.6666666666666666,\"#ed7953\"],[0.7777777777777778,\"#fb9f3a\"],[0.8888888888888888,\"#fdca26\"],[1.0,\"#f0f921\"]],\"sequentialminus\":[[0.0,\"#0d0887\"],[0.1111111111111111,\"#46039f\"],[0.2222222222222222,\"#7201a8\"],[0.3333333333333333,\"#9c179e\"],[0.4444444444444444,\"#bd3786\"],[0.5555555555555556,\"#d8576b\"],[0.6666666666666666,\"#ed7953\"],[0.7777777777777778,\"#fb9f3a\"],[0.8888888888888888,\"#fdca26\"],[1.0,\"#f0f921\"]],\"diverging\":[[0,\"#8e0152\"],[0.1,\"#c51b7d\"],[0.2,\"#de77ae\"],[0.3,\"#f1b6da\"],[0.4,\"#fde0ef\"],[0.5,\"#f7f7f7\"],[0.6,\"#e6f5d0\"],[0.7,\"#b8e186\"],[0.8,\"#7fbc41\"],[0.9,\"#4d9221\"],[1,\"#276419\"]]},\"xaxis\":{\"gridcolor\":\"white\",\"linecolor\":\"white\",\"ticks\":\"\",\"title\":{\"standoff\":15},\"zerolinecolor\":\"white\",\"automargin\":true,\"zerolinewidth\":2},\"yaxis\":{\"gridcolor\":\"white\",\"linecolor\":\"white\",\"ticks\":\"\",\"title\":{\"standoff\":15},\"zerolinecolor\":\"white\",\"automargin\":true,\"zerolinewidth\":2},\"scene\":{\"xaxis\":{\"backgroundcolor\":\"#E5ECF6\",\"gridcolor\":\"white\",\"linecolor\":\"white\",\"showbackground\":true,\"ticks\":\"\",\"zerolinecolor\":\"white\",\"gridwidth\":2},\"yaxis\":{\"backgroundcolor\":\"#E5ECF6\",\"gridcolor\":\"white\",\"linecolor\":\"white\",\"showbackground\":true,\"ticks\":\"\",\"zerolinecolor\":\"white\",\"gridwidth\":2},\"zaxis\":{\"backgroundcolor\":\"#E5ECF6\",\"gridcolor\":\"white\",\"linecolor\":\"white\",\"showbackground\":true,\"ticks\":\"\",\"zerolinecolor\":\"white\",\"gridwidth\":2}},\"shapedefaults\":{\"line\":{\"color\":\"#2a3f5f\"}},\"annotationdefaults\":{\"arrowcolor\":\"#2a3f5f\",\"arrowhead\":0,\"arrowwidth\":1},\"geo\":{\"bgcolor\":\"white\",\"landcolor\":\"#E5ECF6\",\"subunitcolor\":\"white\",\"showland\":true,\"showlakes\":true,\"lakecolor\":\"white\"},\"title\":{\"x\":0.05},\"mapbox\":{\"style\":\"light\"}}},\"coloraxis\":{\"colorbar\":{\"title\":{\"text\":\"Year\"}},\"colorscale\":[[0.0,\"#0d0887\"],[0.1111111111111111,\"#46039f\"],[0.2222222222222222,\"#7201a8\"],[0.3333333333333333,\"#9c179e\"],[0.4444444444444444,\"#bd3786\"],[0.5555555555555556,\"#d8576b\"],[0.6666666666666666,\"#ed7953\"],[0.7777777777777778,\"#fb9f3a\"],[0.8888888888888888,\"#fdca26\"],[1.0,\"#f0f921\"]]},\"legend\":{\"tracegroupgap\":0},\"margin\":{\"t\":60}},                        {\"responsive\": true}                    )                };                            </script>        </div>"
      ],
      "text/plain": [
       "Figure({\n",
       "    'data': [{'branchvalues': 'total',\n",
       "              'customdata': array([[2013.        ],\n",
       "                                   [2015.        ],\n",
       "                                   [2016.        ],\n",
       "                                   [2014.        ],\n",
       "                                   [2019.        ],\n",
       "                                   [2017.        ],\n",
       "                                   [2018.        ],\n",
       "                                   [2020.        ],\n",
       "                                   [2013.        ],\n",
       "                                   [2014.        ],\n",
       "                                   [2015.        ],\n",
       "                                   [2019.        ],\n",
       "                                   [2020.        ],\n",
       "                                   [2016.        ],\n",
       "                                   [2017.        ],\n",
       "                                   [2018.        ],\n",
       "                                   [2014.        ],\n",
       "                                   [2015.        ],\n",
       "                                   [2013.        ],\n",
       "                                   [2016.        ],\n",
       "                                   [2017.        ],\n",
       "                                   [2018.        ],\n",
       "                                   [2019.        ],\n",
       "                                   [2020.        ],\n",
       "                                   [2013.        ],\n",
       "                                   [2013.        ],\n",
       "                                   [2013.        ],\n",
       "                                   [2014.        ],\n",
       "                                   [2014.        ],\n",
       "                                   [2014.        ],\n",
       "                                   [2015.        ],\n",
       "                                   [2015.        ],\n",
       "                                   [2015.        ],\n",
       "                                   [2016.        ],\n",
       "                                   [2016.        ],\n",
       "                                   [2016.        ],\n",
       "                                   [2017.        ],\n",
       "                                   [2017.        ],\n",
       "                                   [2017.        ],\n",
       "                                   [2018.        ],\n",
       "                                   [2018.        ],\n",
       "                                   [2018.        ],\n",
       "                                   [2019.        ],\n",
       "                                   [2019.        ],\n",
       "                                   [2019.        ],\n",
       "                                   [2020.        ],\n",
       "                                   [2020.        ],\n",
       "                                   [2020.        ],\n",
       "                                   [2016.59272804],\n",
       "                                   [2016.72414845],\n",
       "                                   [2017.26242107]]),\n",
       "              'domain': {'x': [0.0, 1.0], 'y': [0.0, 1.0]},\n",
       "              'hovertemplate': ('labels=%{label}<br>Value=%{val' ... 'r>Year=%{color}<extra></extra>'),\n",
       "              'ids': array(['Nutrient potash K2O (total)/2013/19849',\n",
       "                            'Nutrient potash K2O (total)/2015/25291',\n",
       "                            'Nutrient potash K2O (total)/2016/28954',\n",
       "                            'Nutrient potash K2O (total)/2014/29549',\n",
       "                            'Nutrient potash K2O (total)/2019/47260',\n",
       "                            'Nutrient potash K2O (total)/2017/54173',\n",
       "                            'Nutrient potash K2O (total)/2018/54173',\n",
       "                            'Nutrient potash K2O (total)/2020/60973',\n",
       "                            'Nutrient phosphate P2O5 (total)/2013/875452',\n",
       "                            'Nutrient phosphate P2O5 (total)/2014/936148',\n",
       "                            'Nutrient phosphate P2O5 (total)/2015/993338',\n",
       "                            'Nutrient phosphate P2O5 (total)/2019/1099707',\n",
       "                            'Nutrient phosphate P2O5 (total)/2020/1204060',\n",
       "                            'Nutrient phosphate P2O5 (total)/2016/1209145',\n",
       "                            'Nutrient phosphate P2O5 (total)/2017/1257773',\n",
       "                            'Nutrient phosphate P2O5 (total)/2018/1257773',\n",
       "                            'Nutrient nitrogen N (total)/2014/3139263',\n",
       "                            'Nutrient nitrogen N (total)/2015/3160507',\n",
       "                            'Nutrient nitrogen N (total)/2013/3239557',\n",
       "                            'Nutrient nitrogen N (total)/2016/3241907',\n",
       "                            'Nutrient nitrogen N (total)/2017/3446922',\n",
       "                            'Nutrient nitrogen N (total)/2018/3446922',\n",
       "                            'Nutrient nitrogen N (total)/2019/3505356',\n",
       "                            'Nutrient nitrogen N (total)/2020/3533784',\n",
       "                            'Nutrient nitrogen N (total)/2013',\n",
       "                            'Nutrient phosphate P2O5 (total)/2013',\n",
       "                            'Nutrient potash K2O (total)/2013', 'Nutrient nitrogen N (total)/2014',\n",
       "                            'Nutrient phosphate P2O5 (total)/2014',\n",
       "                            'Nutrient potash K2O (total)/2014', 'Nutrient nitrogen N (total)/2015',\n",
       "                            'Nutrient phosphate P2O5 (total)/2015',\n",
       "                            'Nutrient potash K2O (total)/2015', 'Nutrient nitrogen N (total)/2016',\n",
       "                            'Nutrient phosphate P2O5 (total)/2016',\n",
       "                            'Nutrient potash K2O (total)/2016', 'Nutrient nitrogen N (total)/2017',\n",
       "                            'Nutrient phosphate P2O5 (total)/2017',\n",
       "                            'Nutrient potash K2O (total)/2017', 'Nutrient nitrogen N (total)/2018',\n",
       "                            'Nutrient phosphate P2O5 (total)/2018',\n",
       "                            'Nutrient potash K2O (total)/2018', 'Nutrient nitrogen N (total)/2019',\n",
       "                            'Nutrient phosphate P2O5 (total)/2019',\n",
       "                            'Nutrient potash K2O (total)/2019', 'Nutrient nitrogen N (total)/2020',\n",
       "                            'Nutrient phosphate P2O5 (total)/2020',\n",
       "                            'Nutrient potash K2O (total)/2020', 'Nutrient nitrogen N (total)',\n",
       "                            'Nutrient phosphate P2O5 (total)', 'Nutrient potash K2O (total)'],\n",
       "                           dtype=object),\n",
       "              'labels': array(['19849', '25291', '28954', '29549', '47260', '54173', '54173', '60973',\n",
       "                               '875452', '936148', '993338', '1099707', '1204060', '1209145',\n",
       "                               '1257773', '1257773', '3139263', '3160507', '3239557', '3241907',\n",
       "                               '3446922', '3446922', '3505356', '3533784', '2013', '2013', '2013',\n",
       "                               '2014', '2014', '2014', '2015', '2015', '2015', '2016', '2016', '2016',\n",
       "                               '2017', '2017', '2017', '2018', '2018', '2018', '2019', '2019', '2019',\n",
       "                               '2020', '2020', '2020', 'Nutrient nitrogen N (total)',\n",
       "                               'Nutrient phosphate P2O5 (total)', 'Nutrient potash K2O (total)'],\n",
       "                              dtype=object),\n",
       "              'marker': {'coloraxis': 'coloraxis',\n",
       "                         'colors': array([2013.        , 2015.        , 2016.        , 2014.        ,\n",
       "                                          2019.        , 2017.        , 2018.        , 2020.        ,\n",
       "                                          2013.        , 2014.        , 2015.        , 2019.        ,\n",
       "                                          2020.        , 2016.        , 2017.        , 2018.        ,\n",
       "                                          2014.        , 2015.        , 2013.        , 2016.        ,\n",
       "                                          2017.        , 2018.        , 2019.        , 2020.        ,\n",
       "                                          2013.        , 2013.        , 2013.        , 2014.        ,\n",
       "                                          2014.        , 2014.        , 2015.        , 2015.        ,\n",
       "                                          2015.        , 2016.        , 2016.        , 2016.        ,\n",
       "                                          2017.        , 2017.        , 2017.        , 2018.        ,\n",
       "                                          2018.        , 2018.        , 2019.        , 2019.        ,\n",
       "                                          2019.        , 2020.        , 2020.        , 2020.        ,\n",
       "                                          2016.59272804, 2016.72414845, 2017.26242107])},\n",
       "              'name': '',\n",
       "              'parents': array(['Nutrient potash K2O (total)/2013', 'Nutrient potash K2O (total)/2015',\n",
       "                                'Nutrient potash K2O (total)/2016', 'Nutrient potash K2O (total)/2014',\n",
       "                                'Nutrient potash K2O (total)/2019', 'Nutrient potash K2O (total)/2017',\n",
       "                                'Nutrient potash K2O (total)/2018', 'Nutrient potash K2O (total)/2020',\n",
       "                                'Nutrient phosphate P2O5 (total)/2013',\n",
       "                                'Nutrient phosphate P2O5 (total)/2014',\n",
       "                                'Nutrient phosphate P2O5 (total)/2015',\n",
       "                                'Nutrient phosphate P2O5 (total)/2019',\n",
       "                                'Nutrient phosphate P2O5 (total)/2020',\n",
       "                                'Nutrient phosphate P2O5 (total)/2016',\n",
       "                                'Nutrient phosphate P2O5 (total)/2017',\n",
       "                                'Nutrient phosphate P2O5 (total)/2018',\n",
       "                                'Nutrient nitrogen N (total)/2014', 'Nutrient nitrogen N (total)/2015',\n",
       "                                'Nutrient nitrogen N (total)/2013', 'Nutrient nitrogen N (total)/2016',\n",
       "                                'Nutrient nitrogen N (total)/2017', 'Nutrient nitrogen N (total)/2018',\n",
       "                                'Nutrient nitrogen N (total)/2019', 'Nutrient nitrogen N (total)/2020',\n",
       "                                'Nutrient nitrogen N (total)', 'Nutrient phosphate P2O5 (total)',\n",
       "                                'Nutrient potash K2O (total)', 'Nutrient nitrogen N (total)',\n",
       "                                'Nutrient phosphate P2O5 (total)', 'Nutrient potash K2O (total)',\n",
       "                                'Nutrient nitrogen N (total)', 'Nutrient phosphate P2O5 (total)',\n",
       "                                'Nutrient potash K2O (total)', 'Nutrient nitrogen N (total)',\n",
       "                                'Nutrient phosphate P2O5 (total)', 'Nutrient potash K2O (total)',\n",
       "                                'Nutrient nitrogen N (total)', 'Nutrient phosphate P2O5 (total)',\n",
       "                                'Nutrient potash K2O (total)', 'Nutrient nitrogen N (total)',\n",
       "                                'Nutrient phosphate P2O5 (total)', 'Nutrient potash K2O (total)',\n",
       "                                'Nutrient nitrogen N (total)', 'Nutrient phosphate P2O5 (total)',\n",
       "                                'Nutrient potash K2O (total)', 'Nutrient nitrogen N (total)',\n",
       "                                'Nutrient phosphate P2O5 (total)', 'Nutrient potash K2O (total)', '',\n",
       "                                '', ''], dtype=object),\n",
       "              'type': 'sunburst',\n",
       "              'values': array([   19849,    25291,    28954,    29549,    47260,    54173,    54173,\n",
       "                                  60973,   875452,   936148,   993338,  1099707,  1204060,  1209145,\n",
       "                                1257773,  1257773,  3139263,  3160507,  3239557,  3241907,  3446922,\n",
       "                                3446922,  3505356,  3533784,  3239557,   875452,    19849,  3139263,\n",
       "                                 936148,    29549,  3160507,   993338,    25291,  3241907,  1209145,\n",
       "                                  28954,  3446922,  1257773,    54173,  3446922,  1257773,    54173,\n",
       "                                3505356,  1099707,    47260,  3533784,  1204060,    60973, 26714218,\n",
       "                                8833396,   320222], dtype=int64)}],\n",
       "    'layout': {'coloraxis': {'colorbar': {'title': {'text': 'Year'}},\n",
       "                             'colorscale': [[0.0, '#0d0887'], [0.1111111111111111,\n",
       "                                            '#46039f'], [0.2222222222222222,\n",
       "                                            '#7201a8'], [0.3333333333333333,\n",
       "                                            '#9c179e'], [0.4444444444444444,\n",
       "                                            '#bd3786'], [0.5555555555555556,\n",
       "                                            '#d8576b'], [0.6666666666666666,\n",
       "                                            '#ed7953'], [0.7777777777777778,\n",
       "                                            '#fb9f3a'], [0.8888888888888888,\n",
       "                                            '#fdca26'], [1.0, '#f0f921']]},\n",
       "               'legend': {'tracegroupgap': 0},\n",
       "               'margin': {'t': 60},\n",
       "               'template': '...'}\n",
       "})"
      ]
     },
     "execution_count": 146,
     "metadata": {},
     "output_type": "execute_result"
    }
   ],
   "source": [
    "px.sunburst(df_fur_clean.query('Year>2012'), path=['Item', 'Year', 'Value'], values='Value',color='Year')"
   ]
  },
  {
   "cell_type": "code",
   "execution_count": 49,
   "metadata": {},
   "outputs": [
    {
     "ename": "ValueError",
     "evalue": "Mime type rendering requires nbformat>=4.2.0 but it is not installed",
     "output_type": "error",
     "traceback": [
      "\u001b[1;31m---------------------------------------------------------------------------\u001b[0m",
      "\u001b[1;31mValueError\u001b[0m                                Traceback (most recent call last)",
      "File \u001b[1;32mc:\\Users\\Administrator\\AppData\\Local\\Programs\\Python\\Python310\\lib\\site-packages\\IPython\\core\\formatters.py:921\u001b[0m, in \u001b[0;36mIPythonDisplayFormatter.__call__\u001b[1;34m(self, obj)\u001b[0m\n\u001b[0;32m    919\u001b[0m method \u001b[39m=\u001b[39m get_real_method(obj, \u001b[39mself\u001b[39m\u001b[39m.\u001b[39mprint_method)\n\u001b[0;32m    920\u001b[0m \u001b[39mif\u001b[39;00m method \u001b[39mis\u001b[39;00m \u001b[39mnot\u001b[39;00m \u001b[39mNone\u001b[39;00m:\n\u001b[1;32m--> 921\u001b[0m     method()\n\u001b[0;32m    922\u001b[0m     \u001b[39mreturn\u001b[39;00m \u001b[39mTrue\u001b[39;00m\n",
      "File \u001b[1;32mc:\\Users\\Administrator\\AppData\\Local\\Programs\\Python\\Python310\\lib\\site-packages\\plotly\\basedatatypes.py:842\u001b[0m, in \u001b[0;36mBaseFigure._ipython_display_\u001b[1;34m(self)\u001b[0m\n\u001b[0;32m    839\u001b[0m \u001b[39mimport\u001b[39;00m \u001b[39mplotly\u001b[39;00m\u001b[39m.\u001b[39;00m\u001b[39mio\u001b[39;00m \u001b[39mas\u001b[39;00m \u001b[39mpio\u001b[39;00m\n\u001b[0;32m    841\u001b[0m \u001b[39mif\u001b[39;00m pio\u001b[39m.\u001b[39mrenderers\u001b[39m.\u001b[39mrender_on_display \u001b[39mand\u001b[39;00m pio\u001b[39m.\u001b[39mrenderers\u001b[39m.\u001b[39mdefault:\n\u001b[1;32m--> 842\u001b[0m     pio\u001b[39m.\u001b[39;49mshow(\u001b[39mself\u001b[39;49m)\n\u001b[0;32m    843\u001b[0m \u001b[39melse\u001b[39;00m:\n\u001b[0;32m    844\u001b[0m     \u001b[39mprint\u001b[39m(\u001b[39mrepr\u001b[39m(\u001b[39mself\u001b[39m))\n",
      "File \u001b[1;32mc:\\Users\\Administrator\\AppData\\Local\\Programs\\Python\\Python310\\lib\\site-packages\\plotly\\io\\_renderers.py:396\u001b[0m, in \u001b[0;36mshow\u001b[1;34m(fig, renderer, validate, **kwargs)\u001b[0m\n\u001b[0;32m    391\u001b[0m         \u001b[39mraise\u001b[39;00m \u001b[39mValueError\u001b[39;00m(\n\u001b[0;32m    392\u001b[0m             \u001b[39m\"\u001b[39m\u001b[39mMime type rendering requires ipython but it is not installed\u001b[39m\u001b[39m\"\u001b[39m\n\u001b[0;32m    393\u001b[0m         )\n\u001b[0;32m    395\u001b[0m     \u001b[39mif\u001b[39;00m \u001b[39mnot\u001b[39;00m nbformat \u001b[39mor\u001b[39;00m LooseVersion(nbformat\u001b[39m.\u001b[39m__version__) \u001b[39m<\u001b[39m LooseVersion(\u001b[39m\"\u001b[39m\u001b[39m4.2.0\u001b[39m\u001b[39m\"\u001b[39m):\n\u001b[1;32m--> 396\u001b[0m         \u001b[39mraise\u001b[39;00m \u001b[39mValueError\u001b[39;00m(\n\u001b[0;32m    397\u001b[0m             \u001b[39m\"\u001b[39m\u001b[39mMime type rendering requires nbformat>=4.2.0 but it is not installed\u001b[39m\u001b[39m\"\u001b[39m\n\u001b[0;32m    398\u001b[0m         )\n\u001b[0;32m    400\u001b[0m     ipython_display\u001b[39m.\u001b[39mdisplay(bundle, raw\u001b[39m=\u001b[39m\u001b[39mTrue\u001b[39;00m)\n\u001b[0;32m    402\u001b[0m \u001b[39m# external renderers\u001b[39;00m\n",
      "\u001b[1;31mValueError\u001b[0m: Mime type rendering requires nbformat>=4.2.0 but it is not installed"
     ]
    },
    {
     "data": {
      "application/vnd.plotly.v1+json": {
       "config": {
        "plotlyServerURL": "https://plot.ly"
       },
       "data": [
        {
         "alignmentgroup": "True",
         "hovertemplate": "Item=Nutrient nitrogen N (total)<br>Year=%{x}<br>Value=%{y}<extra></extra>",
         "legendgroup": "Nutrient nitrogen N (total)",
         "marker": {
          "color": "#636efa",
          "pattern": {
           "shape": ""
          }
         },
         "name": "Nutrient nitrogen N (total)",
         "offsetgroup": "Nutrient nitrogen N (total)",
         "orientation": "v",
         "showlegend": true,
         "textposition": "auto",
         "type": "bar",
         "x": [
          1961,
          1962,
          1963,
          1964,
          1965,
          1966,
          1967,
          1968,
          1969,
          1970,
          1971,
          1972,
          1973,
          1974,
          1975,
          1976,
          1977,
          1978,
          1979,
          1980,
          1981,
          1982,
          1983,
          1984,
          1985,
          1986,
          1987,
          1988,
          1989,
          1990,
          1991,
          1992,
          1993,
          1994,
          1995,
          1996,
          1997,
          1998,
          1999,
          2000,
          2001,
          2002,
          2003,
          2004,
          2005,
          2006,
          2007,
          2008,
          2009,
          2010,
          2011,
          2012,
          2013,
          2014,
          2015,
          2016,
          2017,
          2018,
          2019,
          2020
         ],
         "xaxis": "x",
         "y": [
          41659,
          41160,
          67620,
          84147,
          69242,
          107779,
          177441,
          203521,
          272566,
          251519,
          343973,
          386230,
          341944,
          362900,
          443451,
          511000,
          554100,
          684300,
          775804,
          843574,
          832572,
          954083,
          914317,
          934498,
          1128138,
          1332570,
          1281700,
          1324453,
          1467590,
          1471642,
          1462862,
          1636323,
          1659350,
          1738117,
          1991006,
          1985080,
          2087607,
          2091852,
          2218100,
          2264600,
          2291610,
          2384980,
          2456009,
          2570230,
          2818779,
          2868984,
          2714053,
          2928057,
          3451900,
          3270531,
          3187339,
          2850771,
          3239557,
          3139263,
          3160507,
          3241907,
          3446922,
          3446922,
          3505356,
          3533784
         ],
         "yaxis": "y"
        },
        {
         "alignmentgroup": "True",
         "hovertemplate": "Item=Nutrient phosphate P2O5 (total)<br>Year=%{x}<br>Value=%{y}<extra></extra>",
         "legendgroup": "Nutrient phosphate P2O5 (total)",
         "marker": {
          "color": "#EF553B",
          "pattern": {
           "shape": ""
          }
         },
         "name": "Nutrient phosphate P2O5 (total)",
         "offsetgroup": "Nutrient phosphate P2O5 (total)",
         "orientation": "v",
         "showlegend": true,
         "textposition": "auto",
         "type": "bar",
         "x": [
          1961,
          1962,
          1963,
          1964,
          1965,
          1966,
          1967,
          1968,
          1969,
          1970,
          1971,
          1972,
          1973,
          1974,
          1975,
          1976,
          1977,
          1978,
          1979,
          1980,
          1981,
          1982,
          1983,
          1984,
          1985,
          1986,
          1987,
          1988,
          1989,
          1990,
          1991,
          1992,
          1993,
          1994,
          1995,
          1996,
          1997,
          1998,
          1999,
          2000,
          2001,
          2002,
          2003,
          2004,
          2005,
          2006,
          2007,
          2008,
          2009,
          2010,
          2011,
          2012,
          2013,
          2014,
          2015,
          2016,
          2017,
          2018,
          2019,
          2020
         ],
         "xaxis": "x",
         "y": [
          500,
          210,
          630,
          1029,
          1245,
          3911,
          12777,
          38642,
          33801,
          30462,
          37231,
          48730,
          58066,
          60500,
          108500,
          117900,
          157300,
          187900,
          201086,
          226487,
          225502,
          265285,
          261400,
          293829,
          349776,
          409750,
          393400,
          390406,
          382457,
          388500,
          397974,
          487530,
          464258,
          428900,
          494449,
          419474,
          551284,
          465000,
          596800,
          675100,
          641940,
          647360,
          669307,
          761031,
          871416,
          906749,
          816044,
          565675,
          778714,
          756700,
          653181,
          678840,
          875452,
          936148,
          993338,
          1209145,
          1257773,
          1257773,
          1099707,
          1204060
         ],
         "yaxis": "y"
        },
        {
         "alignmentgroup": "True",
         "hovertemplate": "Item=Nutrient potash K2O (total)<br>Year=%{x}<br>Value=%{y}<extra></extra>",
         "legendgroup": "Nutrient potash K2O (total)",
         "marker": {
          "color": "#00cc96",
          "pattern": {
           "shape": ""
          }
         },
         "name": "Nutrient potash K2O (total)",
         "offsetgroup": "Nutrient potash K2O (total)",
         "orientation": "v",
         "showlegend": true,
         "textposition": "auto",
         "type": "bar",
         "x": [
          1966,
          1967,
          1968,
          1969,
          1970,
          1971,
          1972,
          1973,
          1974,
          1975,
          1976,
          1977,
          1978,
          1979,
          1980,
          1981,
          1982,
          1983,
          1984,
          1985,
          1986,
          1987,
          1988,
          1989,
          1990,
          1991,
          1992,
          1993,
          1994,
          1995,
          1996,
          1997,
          1998,
          1999,
          2000,
          2001,
          2002,
          2003,
          2004,
          2005,
          2006,
          2007,
          2008,
          2009,
          2010,
          2011,
          2012,
          2013,
          2014,
          2015,
          2016,
          2017,
          2018,
          2019,
          2020
         ],
         "xaxis": "x",
         "y": [
          144,
          212,
          2486,
          1344,
          1225,
          744,
          1400,
          2670,
          2100,
          1900,
          2400,
          5800,
          7600,
          9618,
          9643,
          21772,
          24948,
          28581,
          24677,
          33205,
          42880,
          45100,
          24533,
          40078,
          32757,
          23297,
          24062,
          23172,
          16555,
          29669,
          8425,
          20443,
          21200,
          18100,
          22800,
          10900,
          20500,
          23944,
          26449,
          35301,
          36408,
          43924,
          16564,
          15499,
          37545,
          28013,
          19427,
          19849,
          29549,
          25291,
          28954,
          54173,
          54173,
          47260,
          60973
         ],
         "yaxis": "y"
        }
       ],
       "layout": {
        "barmode": "group",
        "legend": {
         "title": {
          "text": "Item"
         },
         "tracegroupgap": 0
        },
        "margin": {
         "t": 60
        },
        "template": {
         "data": {
          "bar": [
           {
            "error_x": {
             "color": "#2a3f5f"
            },
            "error_y": {
             "color": "#2a3f5f"
            },
            "marker": {
             "line": {
              "color": "#E5ECF6",
              "width": 0.5
             },
             "pattern": {
              "fillmode": "overlay",
              "size": 10,
              "solidity": 0.2
             }
            },
            "type": "bar"
           }
          ],
          "barpolar": [
           {
            "marker": {
             "line": {
              "color": "#E5ECF6",
              "width": 0.5
             },
             "pattern": {
              "fillmode": "overlay",
              "size": 10,
              "solidity": 0.2
             }
            },
            "type": "barpolar"
           }
          ],
          "carpet": [
           {
            "aaxis": {
             "endlinecolor": "#2a3f5f",
             "gridcolor": "white",
             "linecolor": "white",
             "minorgridcolor": "white",
             "startlinecolor": "#2a3f5f"
            },
            "baxis": {
             "endlinecolor": "#2a3f5f",
             "gridcolor": "white",
             "linecolor": "white",
             "minorgridcolor": "white",
             "startlinecolor": "#2a3f5f"
            },
            "type": "carpet"
           }
          ],
          "choropleth": [
           {
            "colorbar": {
             "outlinewidth": 0,
             "ticks": ""
            },
            "type": "choropleth"
           }
          ],
          "contour": [
           {
            "colorbar": {
             "outlinewidth": 0,
             "ticks": ""
            },
            "colorscale": [
             [
              0,
              "#0d0887"
             ],
             [
              0.1111111111111111,
              "#46039f"
             ],
             [
              0.2222222222222222,
              "#7201a8"
             ],
             [
              0.3333333333333333,
              "#9c179e"
             ],
             [
              0.4444444444444444,
              "#bd3786"
             ],
             [
              0.5555555555555556,
              "#d8576b"
             ],
             [
              0.6666666666666666,
              "#ed7953"
             ],
             [
              0.7777777777777778,
              "#fb9f3a"
             ],
             [
              0.8888888888888888,
              "#fdca26"
             ],
             [
              1,
              "#f0f921"
             ]
            ],
            "type": "contour"
           }
          ],
          "contourcarpet": [
           {
            "colorbar": {
             "outlinewidth": 0,
             "ticks": ""
            },
            "type": "contourcarpet"
           }
          ],
          "heatmap": [
           {
            "colorbar": {
             "outlinewidth": 0,
             "ticks": ""
            },
            "colorscale": [
             [
              0,
              "#0d0887"
             ],
             [
              0.1111111111111111,
              "#46039f"
             ],
             [
              0.2222222222222222,
              "#7201a8"
             ],
             [
              0.3333333333333333,
              "#9c179e"
             ],
             [
              0.4444444444444444,
              "#bd3786"
             ],
             [
              0.5555555555555556,
              "#d8576b"
             ],
             [
              0.6666666666666666,
              "#ed7953"
             ],
             [
              0.7777777777777778,
              "#fb9f3a"
             ],
             [
              0.8888888888888888,
              "#fdca26"
             ],
             [
              1,
              "#f0f921"
             ]
            ],
            "type": "heatmap"
           }
          ],
          "heatmapgl": [
           {
            "colorbar": {
             "outlinewidth": 0,
             "ticks": ""
            },
            "colorscale": [
             [
              0,
              "#0d0887"
             ],
             [
              0.1111111111111111,
              "#46039f"
             ],
             [
              0.2222222222222222,
              "#7201a8"
             ],
             [
              0.3333333333333333,
              "#9c179e"
             ],
             [
              0.4444444444444444,
              "#bd3786"
             ],
             [
              0.5555555555555556,
              "#d8576b"
             ],
             [
              0.6666666666666666,
              "#ed7953"
             ],
             [
              0.7777777777777778,
              "#fb9f3a"
             ],
             [
              0.8888888888888888,
              "#fdca26"
             ],
             [
              1,
              "#f0f921"
             ]
            ],
            "type": "heatmapgl"
           }
          ],
          "histogram": [
           {
            "marker": {
             "pattern": {
              "fillmode": "overlay",
              "size": 10,
              "solidity": 0.2
             }
            },
            "type": "histogram"
           }
          ],
          "histogram2d": [
           {
            "colorbar": {
             "outlinewidth": 0,
             "ticks": ""
            },
            "colorscale": [
             [
              0,
              "#0d0887"
             ],
             [
              0.1111111111111111,
              "#46039f"
             ],
             [
              0.2222222222222222,
              "#7201a8"
             ],
             [
              0.3333333333333333,
              "#9c179e"
             ],
             [
              0.4444444444444444,
              "#bd3786"
             ],
             [
              0.5555555555555556,
              "#d8576b"
             ],
             [
              0.6666666666666666,
              "#ed7953"
             ],
             [
              0.7777777777777778,
              "#fb9f3a"
             ],
             [
              0.8888888888888888,
              "#fdca26"
             ],
             [
              1,
              "#f0f921"
             ]
            ],
            "type": "histogram2d"
           }
          ],
          "histogram2dcontour": [
           {
            "colorbar": {
             "outlinewidth": 0,
             "ticks": ""
            },
            "colorscale": [
             [
              0,
              "#0d0887"
             ],
             [
              0.1111111111111111,
              "#46039f"
             ],
             [
              0.2222222222222222,
              "#7201a8"
             ],
             [
              0.3333333333333333,
              "#9c179e"
             ],
             [
              0.4444444444444444,
              "#bd3786"
             ],
             [
              0.5555555555555556,
              "#d8576b"
             ],
             [
              0.6666666666666666,
              "#ed7953"
             ],
             [
              0.7777777777777778,
              "#fb9f3a"
             ],
             [
              0.8888888888888888,
              "#fdca26"
             ],
             [
              1,
              "#f0f921"
             ]
            ],
            "type": "histogram2dcontour"
           }
          ],
          "mesh3d": [
           {
            "colorbar": {
             "outlinewidth": 0,
             "ticks": ""
            },
            "type": "mesh3d"
           }
          ],
          "parcoords": [
           {
            "line": {
             "colorbar": {
              "outlinewidth": 0,
              "ticks": ""
             }
            },
            "type": "parcoords"
           }
          ],
          "pie": [
           {
            "automargin": true,
            "type": "pie"
           }
          ],
          "scatter": [
           {
            "fillpattern": {
             "fillmode": "overlay",
             "size": 10,
             "solidity": 0.2
            },
            "type": "scatter"
           }
          ],
          "scatter3d": [
           {
            "line": {
             "colorbar": {
              "outlinewidth": 0,
              "ticks": ""
             }
            },
            "marker": {
             "colorbar": {
              "outlinewidth": 0,
              "ticks": ""
             }
            },
            "type": "scatter3d"
           }
          ],
          "scattercarpet": [
           {
            "marker": {
             "colorbar": {
              "outlinewidth": 0,
              "ticks": ""
             }
            },
            "type": "scattercarpet"
           }
          ],
          "scattergeo": [
           {
            "marker": {
             "colorbar": {
              "outlinewidth": 0,
              "ticks": ""
             }
            },
            "type": "scattergeo"
           }
          ],
          "scattergl": [
           {
            "marker": {
             "colorbar": {
              "outlinewidth": 0,
              "ticks": ""
             }
            },
            "type": "scattergl"
           }
          ],
          "scattermapbox": [
           {
            "marker": {
             "colorbar": {
              "outlinewidth": 0,
              "ticks": ""
             }
            },
            "type": "scattermapbox"
           }
          ],
          "scatterpolar": [
           {
            "marker": {
             "colorbar": {
              "outlinewidth": 0,
              "ticks": ""
             }
            },
            "type": "scatterpolar"
           }
          ],
          "scatterpolargl": [
           {
            "marker": {
             "colorbar": {
              "outlinewidth": 0,
              "ticks": ""
             }
            },
            "type": "scatterpolargl"
           }
          ],
          "scatterternary": [
           {
            "marker": {
             "colorbar": {
              "outlinewidth": 0,
              "ticks": ""
             }
            },
            "type": "scatterternary"
           }
          ],
          "surface": [
           {
            "colorbar": {
             "outlinewidth": 0,
             "ticks": ""
            },
            "colorscale": [
             [
              0,
              "#0d0887"
             ],
             [
              0.1111111111111111,
              "#46039f"
             ],
             [
              0.2222222222222222,
              "#7201a8"
             ],
             [
              0.3333333333333333,
              "#9c179e"
             ],
             [
              0.4444444444444444,
              "#bd3786"
             ],
             [
              0.5555555555555556,
              "#d8576b"
             ],
             [
              0.6666666666666666,
              "#ed7953"
             ],
             [
              0.7777777777777778,
              "#fb9f3a"
             ],
             [
              0.8888888888888888,
              "#fdca26"
             ],
             [
              1,
              "#f0f921"
             ]
            ],
            "type": "surface"
           }
          ],
          "table": [
           {
            "cells": {
             "fill": {
              "color": "#EBF0F8"
             },
             "line": {
              "color": "white"
             }
            },
            "header": {
             "fill": {
              "color": "#C8D4E3"
             },
             "line": {
              "color": "white"
             }
            },
            "type": "table"
           }
          ]
         },
         "layout": {
          "annotationdefaults": {
           "arrowcolor": "#2a3f5f",
           "arrowhead": 0,
           "arrowwidth": 1
          },
          "autotypenumbers": "strict",
          "coloraxis": {
           "colorbar": {
            "outlinewidth": 0,
            "ticks": ""
           }
          },
          "colorscale": {
           "diverging": [
            [
             0,
             "#8e0152"
            ],
            [
             0.1,
             "#c51b7d"
            ],
            [
             0.2,
             "#de77ae"
            ],
            [
             0.3,
             "#f1b6da"
            ],
            [
             0.4,
             "#fde0ef"
            ],
            [
             0.5,
             "#f7f7f7"
            ],
            [
             0.6,
             "#e6f5d0"
            ],
            [
             0.7,
             "#b8e186"
            ],
            [
             0.8,
             "#7fbc41"
            ],
            [
             0.9,
             "#4d9221"
            ],
            [
             1,
             "#276419"
            ]
           ],
           "sequential": [
            [
             0,
             "#0d0887"
            ],
            [
             0.1111111111111111,
             "#46039f"
            ],
            [
             0.2222222222222222,
             "#7201a8"
            ],
            [
             0.3333333333333333,
             "#9c179e"
            ],
            [
             0.4444444444444444,
             "#bd3786"
            ],
            [
             0.5555555555555556,
             "#d8576b"
            ],
            [
             0.6666666666666666,
             "#ed7953"
            ],
            [
             0.7777777777777778,
             "#fb9f3a"
            ],
            [
             0.8888888888888888,
             "#fdca26"
            ],
            [
             1,
             "#f0f921"
            ]
           ],
           "sequentialminus": [
            [
             0,
             "#0d0887"
            ],
            [
             0.1111111111111111,
             "#46039f"
            ],
            [
             0.2222222222222222,
             "#7201a8"
            ],
            [
             0.3333333333333333,
             "#9c179e"
            ],
            [
             0.4444444444444444,
             "#bd3786"
            ],
            [
             0.5555555555555556,
             "#d8576b"
            ],
            [
             0.6666666666666666,
             "#ed7953"
            ],
            [
             0.7777777777777778,
             "#fb9f3a"
            ],
            [
             0.8888888888888888,
             "#fdca26"
            ],
            [
             1,
             "#f0f921"
            ]
           ]
          },
          "colorway": [
           "#636efa",
           "#EF553B",
           "#00cc96",
           "#ab63fa",
           "#FFA15A",
           "#19d3f3",
           "#FF6692",
           "#B6E880",
           "#FF97FF",
           "#FECB52"
          ],
          "font": {
           "color": "#2a3f5f"
          },
          "geo": {
           "bgcolor": "white",
           "lakecolor": "white",
           "landcolor": "#E5ECF6",
           "showlakes": true,
           "showland": true,
           "subunitcolor": "white"
          },
          "hoverlabel": {
           "align": "left"
          },
          "hovermode": "closest",
          "mapbox": {
           "style": "light"
          },
          "paper_bgcolor": "white",
          "plot_bgcolor": "#E5ECF6",
          "polar": {
           "angularaxis": {
            "gridcolor": "white",
            "linecolor": "white",
            "ticks": ""
           },
           "bgcolor": "#E5ECF6",
           "radialaxis": {
            "gridcolor": "white",
            "linecolor": "white",
            "ticks": ""
           }
          },
          "scene": {
           "xaxis": {
            "backgroundcolor": "#E5ECF6",
            "gridcolor": "white",
            "gridwidth": 2,
            "linecolor": "white",
            "showbackground": true,
            "ticks": "",
            "zerolinecolor": "white"
           },
           "yaxis": {
            "backgroundcolor": "#E5ECF6",
            "gridcolor": "white",
            "gridwidth": 2,
            "linecolor": "white",
            "showbackground": true,
            "ticks": "",
            "zerolinecolor": "white"
           },
           "zaxis": {
            "backgroundcolor": "#E5ECF6",
            "gridcolor": "white",
            "gridwidth": 2,
            "linecolor": "white",
            "showbackground": true,
            "ticks": "",
            "zerolinecolor": "white"
           }
          },
          "shapedefaults": {
           "line": {
            "color": "#2a3f5f"
           }
          },
          "ternary": {
           "aaxis": {
            "gridcolor": "white",
            "linecolor": "white",
            "ticks": ""
           },
           "baxis": {
            "gridcolor": "white",
            "linecolor": "white",
            "ticks": ""
           },
           "bgcolor": "#E5ECF6",
           "caxis": {
            "gridcolor": "white",
            "linecolor": "white",
            "ticks": ""
           }
          },
          "title": {
           "x": 0.05
          },
          "xaxis": {
           "automargin": true,
           "gridcolor": "white",
           "linecolor": "white",
           "ticks": "",
           "title": {
            "standoff": 15
           },
           "zerolinecolor": "white",
           "zerolinewidth": 2
          },
          "yaxis": {
           "automargin": true,
           "gridcolor": "white",
           "linecolor": "white",
           "ticks": "",
           "title": {
            "standoff": 15
           },
           "zerolinecolor": "white",
           "zerolinewidth": 2
          }
         }
        },
        "xaxis": {
         "anchor": "y",
         "domain": [
          0,
          1
         ],
         "title": {
          "text": "Year"
         }
        },
        "yaxis": {
         "anchor": "x",
         "domain": [
          0,
          1
         ],
         "title": {
          "text": "Value"
         }
        }
       }
      },
      "text/html": [
       "<div>                        <script type=\"text/javascript\">window.PlotlyConfig = {MathJaxConfig: 'local'};</script>\n",
       "        <script src=\"https://cdn.plot.ly/plotly-2.12.1.min.js\"></script>                <div id=\"e8d4cf61-4c75-43e0-87ef-26105ea6d273\" class=\"plotly-graph-div\" style=\"height:100%; width:100%;\"></div>            <script type=\"text/javascript\">                                    window.PLOTLYENV=window.PLOTLYENV || {};                                    if (document.getElementById(\"e8d4cf61-4c75-43e0-87ef-26105ea6d273\")) {                    Plotly.newPlot(                        \"e8d4cf61-4c75-43e0-87ef-26105ea6d273\",                        [{\"alignmentgroup\":\"True\",\"hovertemplate\":\"Item=Nutrient nitrogen N (total)<br>Year=%{x}<br>Value=%{y}<extra></extra>\",\"legendgroup\":\"Nutrient nitrogen N (total)\",\"marker\":{\"color\":\"#636efa\",\"pattern\":{\"shape\":\"\"}},\"name\":\"Nutrient nitrogen N (total)\",\"offsetgroup\":\"Nutrient nitrogen N (total)\",\"orientation\":\"v\",\"showlegend\":true,\"textposition\":\"auto\",\"x\":[1961,1962,1963,1964,1965,1966,1967,1968,1969,1970,1971,1972,1973,1974,1975,1976,1977,1978,1979,1980,1981,1982,1983,1984,1985,1986,1987,1988,1989,1990,1991,1992,1993,1994,1995,1996,1997,1998,1999,2000,2001,2002,2003,2004,2005,2006,2007,2008,2009,2010,2011,2012,2013,2014,2015,2016,2017,2018,2019,2020],\"xaxis\":\"x\",\"y\":[41659,41160,67620,84147,69242,107779,177441,203521,272566,251519,343973,386230,341944,362900,443451,511000,554100,684300,775804,843574,832572,954083,914317,934498,1128138,1332570,1281700,1324453,1467590,1471642,1462862,1636323,1659350,1738117,1991006,1985080,2087607,2091852,2218100,2264600,2291610,2384980,2456009,2570230,2818779,2868984,2714053,2928057,3451900,3270531,3187339,2850771,3239557,3139263,3160507,3241907,3446922,3446922,3505356,3533784],\"yaxis\":\"y\",\"type\":\"bar\"},{\"alignmentgroup\":\"True\",\"hovertemplate\":\"Item=Nutrient phosphate P2O5 (total)<br>Year=%{x}<br>Value=%{y}<extra></extra>\",\"legendgroup\":\"Nutrient phosphate P2O5 (total)\",\"marker\":{\"color\":\"#EF553B\",\"pattern\":{\"shape\":\"\"}},\"name\":\"Nutrient phosphate P2O5 (total)\",\"offsetgroup\":\"Nutrient phosphate P2O5 (total)\",\"orientation\":\"v\",\"showlegend\":true,\"textposition\":\"auto\",\"x\":[1961,1962,1963,1964,1965,1966,1967,1968,1969,1970,1971,1972,1973,1974,1975,1976,1977,1978,1979,1980,1981,1982,1983,1984,1985,1986,1987,1988,1989,1990,1991,1992,1993,1994,1995,1996,1997,1998,1999,2000,2001,2002,2003,2004,2005,2006,2007,2008,2009,2010,2011,2012,2013,2014,2015,2016,2017,2018,2019,2020],\"xaxis\":\"x\",\"y\":[500,210,630,1029,1245,3911,12777,38642,33801,30462,37231,48730,58066,60500,108500,117900,157300,187900,201086,226487,225502,265285,261400,293829,349776,409750,393400,390406,382457,388500,397974,487530,464258,428900,494449,419474,551284,465000,596800,675100,641940,647360,669307,761031,871416,906749,816044,565675,778714,756700,653181,678840,875452,936148,993338,1209145,1257773,1257773,1099707,1204060],\"yaxis\":\"y\",\"type\":\"bar\"},{\"alignmentgroup\":\"True\",\"hovertemplate\":\"Item=Nutrient potash K2O (total)<br>Year=%{x}<br>Value=%{y}<extra></extra>\",\"legendgroup\":\"Nutrient potash K2O (total)\",\"marker\":{\"color\":\"#00cc96\",\"pattern\":{\"shape\":\"\"}},\"name\":\"Nutrient potash K2O (total)\",\"offsetgroup\":\"Nutrient potash K2O (total)\",\"orientation\":\"v\",\"showlegend\":true,\"textposition\":\"auto\",\"x\":[1966,1967,1968,1969,1970,1971,1972,1973,1974,1975,1976,1977,1978,1979,1980,1981,1982,1983,1984,1985,1986,1987,1988,1989,1990,1991,1992,1993,1994,1995,1996,1997,1998,1999,2000,2001,2002,2003,2004,2005,2006,2007,2008,2009,2010,2011,2012,2013,2014,2015,2016,2017,2018,2019,2020],\"xaxis\":\"x\",\"y\":[144,212,2486,1344,1225,744,1400,2670,2100,1900,2400,5800,7600,9618,9643,21772,24948,28581,24677,33205,42880,45100,24533,40078,32757,23297,24062,23172,16555,29669,8425,20443,21200,18100,22800,10900,20500,23944,26449,35301,36408,43924,16564,15499,37545,28013,19427,19849,29549,25291,28954,54173,54173,47260,60973],\"yaxis\":\"y\",\"type\":\"bar\"}],                        {\"template\":{\"data\":{\"histogram2dcontour\":[{\"type\":\"histogram2dcontour\",\"colorbar\":{\"outlinewidth\":0,\"ticks\":\"\"},\"colorscale\":[[0.0,\"#0d0887\"],[0.1111111111111111,\"#46039f\"],[0.2222222222222222,\"#7201a8\"],[0.3333333333333333,\"#9c179e\"],[0.4444444444444444,\"#bd3786\"],[0.5555555555555556,\"#d8576b\"],[0.6666666666666666,\"#ed7953\"],[0.7777777777777778,\"#fb9f3a\"],[0.8888888888888888,\"#fdca26\"],[1.0,\"#f0f921\"]]}],\"choropleth\":[{\"type\":\"choropleth\",\"colorbar\":{\"outlinewidth\":0,\"ticks\":\"\"}}],\"histogram2d\":[{\"type\":\"histogram2d\",\"colorbar\":{\"outlinewidth\":0,\"ticks\":\"\"},\"colorscale\":[[0.0,\"#0d0887\"],[0.1111111111111111,\"#46039f\"],[0.2222222222222222,\"#7201a8\"],[0.3333333333333333,\"#9c179e\"],[0.4444444444444444,\"#bd3786\"],[0.5555555555555556,\"#d8576b\"],[0.6666666666666666,\"#ed7953\"],[0.7777777777777778,\"#fb9f3a\"],[0.8888888888888888,\"#fdca26\"],[1.0,\"#f0f921\"]]}],\"heatmap\":[{\"type\":\"heatmap\",\"colorbar\":{\"outlinewidth\":0,\"ticks\":\"\"},\"colorscale\":[[0.0,\"#0d0887\"],[0.1111111111111111,\"#46039f\"],[0.2222222222222222,\"#7201a8\"],[0.3333333333333333,\"#9c179e\"],[0.4444444444444444,\"#bd3786\"],[0.5555555555555556,\"#d8576b\"],[0.6666666666666666,\"#ed7953\"],[0.7777777777777778,\"#fb9f3a\"],[0.8888888888888888,\"#fdca26\"],[1.0,\"#f0f921\"]]}],\"heatmapgl\":[{\"type\":\"heatmapgl\",\"colorbar\":{\"outlinewidth\":0,\"ticks\":\"\"},\"colorscale\":[[0.0,\"#0d0887\"],[0.1111111111111111,\"#46039f\"],[0.2222222222222222,\"#7201a8\"],[0.3333333333333333,\"#9c179e\"],[0.4444444444444444,\"#bd3786\"],[0.5555555555555556,\"#d8576b\"],[0.6666666666666666,\"#ed7953\"],[0.7777777777777778,\"#fb9f3a\"],[0.8888888888888888,\"#fdca26\"],[1.0,\"#f0f921\"]]}],\"contourcarpet\":[{\"type\":\"contourcarpet\",\"colorbar\":{\"outlinewidth\":0,\"ticks\":\"\"}}],\"contour\":[{\"type\":\"contour\",\"colorbar\":{\"outlinewidth\":0,\"ticks\":\"\"},\"colorscale\":[[0.0,\"#0d0887\"],[0.1111111111111111,\"#46039f\"],[0.2222222222222222,\"#7201a8\"],[0.3333333333333333,\"#9c179e\"],[0.4444444444444444,\"#bd3786\"],[0.5555555555555556,\"#d8576b\"],[0.6666666666666666,\"#ed7953\"],[0.7777777777777778,\"#fb9f3a\"],[0.8888888888888888,\"#fdca26\"],[1.0,\"#f0f921\"]]}],\"surface\":[{\"type\":\"surface\",\"colorbar\":{\"outlinewidth\":0,\"ticks\":\"\"},\"colorscale\":[[0.0,\"#0d0887\"],[0.1111111111111111,\"#46039f\"],[0.2222222222222222,\"#7201a8\"],[0.3333333333333333,\"#9c179e\"],[0.4444444444444444,\"#bd3786\"],[0.5555555555555556,\"#d8576b\"],[0.6666666666666666,\"#ed7953\"],[0.7777777777777778,\"#fb9f3a\"],[0.8888888888888888,\"#fdca26\"],[1.0,\"#f0f921\"]]}],\"mesh3d\":[{\"type\":\"mesh3d\",\"colorbar\":{\"outlinewidth\":0,\"ticks\":\"\"}}],\"scatter\":[{\"fillpattern\":{\"fillmode\":\"overlay\",\"size\":10,\"solidity\":0.2},\"type\":\"scatter\"}],\"parcoords\":[{\"type\":\"parcoords\",\"line\":{\"colorbar\":{\"outlinewidth\":0,\"ticks\":\"\"}}}],\"scatterpolargl\":[{\"type\":\"scatterpolargl\",\"marker\":{\"colorbar\":{\"outlinewidth\":0,\"ticks\":\"\"}}}],\"bar\":[{\"error_x\":{\"color\":\"#2a3f5f\"},\"error_y\":{\"color\":\"#2a3f5f\"},\"marker\":{\"line\":{\"color\":\"#E5ECF6\",\"width\":0.5},\"pattern\":{\"fillmode\":\"overlay\",\"size\":10,\"solidity\":0.2}},\"type\":\"bar\"}],\"scattergeo\":[{\"type\":\"scattergeo\",\"marker\":{\"colorbar\":{\"outlinewidth\":0,\"ticks\":\"\"}}}],\"scatterpolar\":[{\"type\":\"scatterpolar\",\"marker\":{\"colorbar\":{\"outlinewidth\":0,\"ticks\":\"\"}}}],\"histogram\":[{\"marker\":{\"pattern\":{\"fillmode\":\"overlay\",\"size\":10,\"solidity\":0.2}},\"type\":\"histogram\"}],\"scattergl\":[{\"type\":\"scattergl\",\"marker\":{\"colorbar\":{\"outlinewidth\":0,\"ticks\":\"\"}}}],\"scatter3d\":[{\"type\":\"scatter3d\",\"line\":{\"colorbar\":{\"outlinewidth\":0,\"ticks\":\"\"}},\"marker\":{\"colorbar\":{\"outlinewidth\":0,\"ticks\":\"\"}}}],\"scattermapbox\":[{\"type\":\"scattermapbox\",\"marker\":{\"colorbar\":{\"outlinewidth\":0,\"ticks\":\"\"}}}],\"scatterternary\":[{\"type\":\"scatterternary\",\"marker\":{\"colorbar\":{\"outlinewidth\":0,\"ticks\":\"\"}}}],\"scattercarpet\":[{\"type\":\"scattercarpet\",\"marker\":{\"colorbar\":{\"outlinewidth\":0,\"ticks\":\"\"}}}],\"carpet\":[{\"aaxis\":{\"endlinecolor\":\"#2a3f5f\",\"gridcolor\":\"white\",\"linecolor\":\"white\",\"minorgridcolor\":\"white\",\"startlinecolor\":\"#2a3f5f\"},\"baxis\":{\"endlinecolor\":\"#2a3f5f\",\"gridcolor\":\"white\",\"linecolor\":\"white\",\"minorgridcolor\":\"white\",\"startlinecolor\":\"#2a3f5f\"},\"type\":\"carpet\"}],\"table\":[{\"cells\":{\"fill\":{\"color\":\"#EBF0F8\"},\"line\":{\"color\":\"white\"}},\"header\":{\"fill\":{\"color\":\"#C8D4E3\"},\"line\":{\"color\":\"white\"}},\"type\":\"table\"}],\"barpolar\":[{\"marker\":{\"line\":{\"color\":\"#E5ECF6\",\"width\":0.5},\"pattern\":{\"fillmode\":\"overlay\",\"size\":10,\"solidity\":0.2}},\"type\":\"barpolar\"}],\"pie\":[{\"automargin\":true,\"type\":\"pie\"}]},\"layout\":{\"autotypenumbers\":\"strict\",\"colorway\":[\"#636efa\",\"#EF553B\",\"#00cc96\",\"#ab63fa\",\"#FFA15A\",\"#19d3f3\",\"#FF6692\",\"#B6E880\",\"#FF97FF\",\"#FECB52\"],\"font\":{\"color\":\"#2a3f5f\"},\"hovermode\":\"closest\",\"hoverlabel\":{\"align\":\"left\"},\"paper_bgcolor\":\"white\",\"plot_bgcolor\":\"#E5ECF6\",\"polar\":{\"bgcolor\":\"#E5ECF6\",\"angularaxis\":{\"gridcolor\":\"white\",\"linecolor\":\"white\",\"ticks\":\"\"},\"radialaxis\":{\"gridcolor\":\"white\",\"linecolor\":\"white\",\"ticks\":\"\"}},\"ternary\":{\"bgcolor\":\"#E5ECF6\",\"aaxis\":{\"gridcolor\":\"white\",\"linecolor\":\"white\",\"ticks\":\"\"},\"baxis\":{\"gridcolor\":\"white\",\"linecolor\":\"white\",\"ticks\":\"\"},\"caxis\":{\"gridcolor\":\"white\",\"linecolor\":\"white\",\"ticks\":\"\"}},\"coloraxis\":{\"colorbar\":{\"outlinewidth\":0,\"ticks\":\"\"}},\"colorscale\":{\"sequential\":[[0.0,\"#0d0887\"],[0.1111111111111111,\"#46039f\"],[0.2222222222222222,\"#7201a8\"],[0.3333333333333333,\"#9c179e\"],[0.4444444444444444,\"#bd3786\"],[0.5555555555555556,\"#d8576b\"],[0.6666666666666666,\"#ed7953\"],[0.7777777777777778,\"#fb9f3a\"],[0.8888888888888888,\"#fdca26\"],[1.0,\"#f0f921\"]],\"sequentialminus\":[[0.0,\"#0d0887\"],[0.1111111111111111,\"#46039f\"],[0.2222222222222222,\"#7201a8\"],[0.3333333333333333,\"#9c179e\"],[0.4444444444444444,\"#bd3786\"],[0.5555555555555556,\"#d8576b\"],[0.6666666666666666,\"#ed7953\"],[0.7777777777777778,\"#fb9f3a\"],[0.8888888888888888,\"#fdca26\"],[1.0,\"#f0f921\"]],\"diverging\":[[0,\"#8e0152\"],[0.1,\"#c51b7d\"],[0.2,\"#de77ae\"],[0.3,\"#f1b6da\"],[0.4,\"#fde0ef\"],[0.5,\"#f7f7f7\"],[0.6,\"#e6f5d0\"],[0.7,\"#b8e186\"],[0.8,\"#7fbc41\"],[0.9,\"#4d9221\"],[1,\"#276419\"]]},\"xaxis\":{\"gridcolor\":\"white\",\"linecolor\":\"white\",\"ticks\":\"\",\"title\":{\"standoff\":15},\"zerolinecolor\":\"white\",\"automargin\":true,\"zerolinewidth\":2},\"yaxis\":{\"gridcolor\":\"white\",\"linecolor\":\"white\",\"ticks\":\"\",\"title\":{\"standoff\":15},\"zerolinecolor\":\"white\",\"automargin\":true,\"zerolinewidth\":2},\"scene\":{\"xaxis\":{\"backgroundcolor\":\"#E5ECF6\",\"gridcolor\":\"white\",\"linecolor\":\"white\",\"showbackground\":true,\"ticks\":\"\",\"zerolinecolor\":\"white\",\"gridwidth\":2},\"yaxis\":{\"backgroundcolor\":\"#E5ECF6\",\"gridcolor\":\"white\",\"linecolor\":\"white\",\"showbackground\":true,\"ticks\":\"\",\"zerolinecolor\":\"white\",\"gridwidth\":2},\"zaxis\":{\"backgroundcolor\":\"#E5ECF6\",\"gridcolor\":\"white\",\"linecolor\":\"white\",\"showbackground\":true,\"ticks\":\"\",\"zerolinecolor\":\"white\",\"gridwidth\":2}},\"shapedefaults\":{\"line\":{\"color\":\"#2a3f5f\"}},\"annotationdefaults\":{\"arrowcolor\":\"#2a3f5f\",\"arrowhead\":0,\"arrowwidth\":1},\"geo\":{\"bgcolor\":\"white\",\"landcolor\":\"#E5ECF6\",\"subunitcolor\":\"white\",\"showland\":true,\"showlakes\":true,\"lakecolor\":\"white\"},\"title\":{\"x\":0.05},\"mapbox\":{\"style\":\"light\"}}},\"xaxis\":{\"anchor\":\"y\",\"domain\":[0.0,1.0],\"title\":{\"text\":\"Year\"}},\"yaxis\":{\"anchor\":\"x\",\"domain\":[0.0,1.0],\"title\":{\"text\":\"Value\"}},\"legend\":{\"title\":{\"text\":\"Item\"},\"tracegroupgap\":0},\"margin\":{\"t\":60},\"barmode\":\"group\"},                        {\"responsive\": true}                    )                };                            </script>        </div>"
      ],
      "text/plain": [
       "Figure({\n",
       "    'data': [{'alignmentgroup': 'True',\n",
       "              'hovertemplate': 'Item=Nutrient nitrogen N (total)<br>Year=%{x}<br>Value=%{y}<extra></extra>',\n",
       "              'legendgroup': 'Nutrient nitrogen N (total)',\n",
       "              'marker': {'color': '#636efa', 'pattern': {'shape': ''}},\n",
       "              'name': 'Nutrient nitrogen N (total)',\n",
       "              'offsetgroup': 'Nutrient nitrogen N (total)',\n",
       "              'orientation': 'v',\n",
       "              'showlegend': True,\n",
       "              'textposition': 'auto',\n",
       "              'type': 'bar',\n",
       "              'x': array([1961, 1962, 1963, 1964, 1965, 1966, 1967, 1968, 1969, 1970, 1971, 1972,\n",
       "                          1973, 1974, 1975, 1976, 1977, 1978, 1979, 1980, 1981, 1982, 1983, 1984,\n",
       "                          1985, 1986, 1987, 1988, 1989, 1990, 1991, 1992, 1993, 1994, 1995, 1996,\n",
       "                          1997, 1998, 1999, 2000, 2001, 2002, 2003, 2004, 2005, 2006, 2007, 2008,\n",
       "                          2009, 2010, 2011, 2012, 2013, 2014, 2015, 2016, 2017, 2018, 2019, 2020],\n",
       "                         dtype=int64),\n",
       "              'xaxis': 'x',\n",
       "              'y': array([  41659,   41160,   67620,   84147,   69242,  107779,  177441,  203521,\n",
       "                           272566,  251519,  343973,  386230,  341944,  362900,  443451,  511000,\n",
       "                           554100,  684300,  775804,  843574,  832572,  954083,  914317,  934498,\n",
       "                          1128138, 1332570, 1281700, 1324453, 1467590, 1471642, 1462862, 1636323,\n",
       "                          1659350, 1738117, 1991006, 1985080, 2087607, 2091852, 2218100, 2264600,\n",
       "                          2291610, 2384980, 2456009, 2570230, 2818779, 2868984, 2714053, 2928057,\n",
       "                          3451900, 3270531, 3187339, 2850771, 3239557, 3139263, 3160507, 3241907,\n",
       "                          3446922, 3446922, 3505356, 3533784], dtype=int64),\n",
       "              'yaxis': 'y'},\n",
       "             {'alignmentgroup': 'True',\n",
       "              'hovertemplate': 'Item=Nutrient phosphate P2O5 (total)<br>Year=%{x}<br>Value=%{y}<extra></extra>',\n",
       "              'legendgroup': 'Nutrient phosphate P2O5 (total)',\n",
       "              'marker': {'color': '#EF553B', 'pattern': {'shape': ''}},\n",
       "              'name': 'Nutrient phosphate P2O5 (total)',\n",
       "              'offsetgroup': 'Nutrient phosphate P2O5 (total)',\n",
       "              'orientation': 'v',\n",
       "              'showlegend': True,\n",
       "              'textposition': 'auto',\n",
       "              'type': 'bar',\n",
       "              'x': array([1961, 1962, 1963, 1964, 1965, 1966, 1967, 1968, 1969, 1970, 1971, 1972,\n",
       "                          1973, 1974, 1975, 1976, 1977, 1978, 1979, 1980, 1981, 1982, 1983, 1984,\n",
       "                          1985, 1986, 1987, 1988, 1989, 1990, 1991, 1992, 1993, 1994, 1995, 1996,\n",
       "                          1997, 1998, 1999, 2000, 2001, 2002, 2003, 2004, 2005, 2006, 2007, 2008,\n",
       "                          2009, 2010, 2011, 2012, 2013, 2014, 2015, 2016, 2017, 2018, 2019, 2020],\n",
       "                         dtype=int64),\n",
       "              'xaxis': 'x',\n",
       "              'y': array([    500,     210,     630,    1029,    1245,    3911,   12777,   38642,\n",
       "                            33801,   30462,   37231,   48730,   58066,   60500,  108500,  117900,\n",
       "                           157300,  187900,  201086,  226487,  225502,  265285,  261400,  293829,\n",
       "                           349776,  409750,  393400,  390406,  382457,  388500,  397974,  487530,\n",
       "                           464258,  428900,  494449,  419474,  551284,  465000,  596800,  675100,\n",
       "                           641940,  647360,  669307,  761031,  871416,  906749,  816044,  565675,\n",
       "                           778714,  756700,  653181,  678840,  875452,  936148,  993338, 1209145,\n",
       "                          1257773, 1257773, 1099707, 1204060], dtype=int64),\n",
       "              'yaxis': 'y'},\n",
       "             {'alignmentgroup': 'True',\n",
       "              'hovertemplate': 'Item=Nutrient potash K2O (total)<br>Year=%{x}<br>Value=%{y}<extra></extra>',\n",
       "              'legendgroup': 'Nutrient potash K2O (total)',\n",
       "              'marker': {'color': '#00cc96', 'pattern': {'shape': ''}},\n",
       "              'name': 'Nutrient potash K2O (total)',\n",
       "              'offsetgroup': 'Nutrient potash K2O (total)',\n",
       "              'orientation': 'v',\n",
       "              'showlegend': True,\n",
       "              'textposition': 'auto',\n",
       "              'type': 'bar',\n",
       "              'x': array([1966, 1967, 1968, 1969, 1970, 1971, 1972, 1973, 1974, 1975, 1976, 1977,\n",
       "                          1978, 1979, 1980, 1981, 1982, 1983, 1984, 1985, 1986, 1987, 1988, 1989,\n",
       "                          1990, 1991, 1992, 1993, 1994, 1995, 1996, 1997, 1998, 1999, 2000, 2001,\n",
       "                          2002, 2003, 2004, 2005, 2006, 2007, 2008, 2009, 2010, 2011, 2012, 2013,\n",
       "                          2014, 2015, 2016, 2017, 2018, 2019, 2020], dtype=int64),\n",
       "              'xaxis': 'x',\n",
       "              'y': array([  144,   212,  2486,  1344,  1225,   744,  1400,  2670,  2100,  1900,\n",
       "                           2400,  5800,  7600,  9618,  9643, 21772, 24948, 28581, 24677, 33205,\n",
       "                          42880, 45100, 24533, 40078, 32757, 23297, 24062, 23172, 16555, 29669,\n",
       "                           8425, 20443, 21200, 18100, 22800, 10900, 20500, 23944, 26449, 35301,\n",
       "                          36408, 43924, 16564, 15499, 37545, 28013, 19427, 19849, 29549, 25291,\n",
       "                          28954, 54173, 54173, 47260, 60973], dtype=int64),\n",
       "              'yaxis': 'y'}],\n",
       "    'layout': {'barmode': 'group',\n",
       "               'legend': {'title': {'text': 'Item'}, 'tracegroupgap': 0},\n",
       "               'margin': {'t': 60},\n",
       "               'template': '...',\n",
       "               'xaxis': {'anchor': 'y', 'domain': [0.0, 1.0], 'title': {'text': 'Year'}},\n",
       "               'yaxis': {'anchor': 'x', 'domain': [0.0, 1.0], 'title': {'text': 'Value'}}}\n",
       "})"
      ]
     },
     "execution_count": 49,
     "metadata": {},
     "output_type": "execute_result"
    }
   ],
   "source": [
    "px.bar(df_fur_clean,x='Year',y='Value',color='Item',barmode='group')\n",
    "\n"
   ]
  },
  {
   "cell_type": "code",
   "execution_count": 57,
   "metadata": {},
   "outputs": [
    {
     "ename": "ValueError",
     "evalue": "Mime type rendering requires nbformat>=4.2.0 but it is not installed",
     "output_type": "error",
     "traceback": [
      "\u001b[1;31m---------------------------------------------------------------------------\u001b[0m",
      "\u001b[1;31mValueError\u001b[0m                                Traceback (most recent call last)",
      "File \u001b[1;32mc:\\Users\\Administrator\\AppData\\Local\\Programs\\Python\\Python310\\lib\\site-packages\\IPython\\core\\formatters.py:921\u001b[0m, in \u001b[0;36mIPythonDisplayFormatter.__call__\u001b[1;34m(self, obj)\u001b[0m\n\u001b[0;32m    919\u001b[0m method \u001b[39m=\u001b[39m get_real_method(obj, \u001b[39mself\u001b[39m\u001b[39m.\u001b[39mprint_method)\n\u001b[0;32m    920\u001b[0m \u001b[39mif\u001b[39;00m method \u001b[39mis\u001b[39;00m \u001b[39mnot\u001b[39;00m \u001b[39mNone\u001b[39;00m:\n\u001b[1;32m--> 921\u001b[0m     method()\n\u001b[0;32m    922\u001b[0m     \u001b[39mreturn\u001b[39;00m \u001b[39mTrue\u001b[39;00m\n",
      "File \u001b[1;32mc:\\Users\\Administrator\\AppData\\Local\\Programs\\Python\\Python310\\lib\\site-packages\\plotly\\basedatatypes.py:842\u001b[0m, in \u001b[0;36mBaseFigure._ipython_display_\u001b[1;34m(self)\u001b[0m\n\u001b[0;32m    839\u001b[0m \u001b[39mimport\u001b[39;00m \u001b[39mplotly\u001b[39;00m\u001b[39m.\u001b[39;00m\u001b[39mio\u001b[39;00m \u001b[39mas\u001b[39;00m \u001b[39mpio\u001b[39;00m\n\u001b[0;32m    841\u001b[0m \u001b[39mif\u001b[39;00m pio\u001b[39m.\u001b[39mrenderers\u001b[39m.\u001b[39mrender_on_display \u001b[39mand\u001b[39;00m pio\u001b[39m.\u001b[39mrenderers\u001b[39m.\u001b[39mdefault:\n\u001b[1;32m--> 842\u001b[0m     pio\u001b[39m.\u001b[39;49mshow(\u001b[39mself\u001b[39;49m)\n\u001b[0;32m    843\u001b[0m \u001b[39melse\u001b[39;00m:\n\u001b[0;32m    844\u001b[0m     \u001b[39mprint\u001b[39m(\u001b[39mrepr\u001b[39m(\u001b[39mself\u001b[39m))\n",
      "File \u001b[1;32mc:\\Users\\Administrator\\AppData\\Local\\Programs\\Python\\Python310\\lib\\site-packages\\plotly\\io\\_renderers.py:396\u001b[0m, in \u001b[0;36mshow\u001b[1;34m(fig, renderer, validate, **kwargs)\u001b[0m\n\u001b[0;32m    391\u001b[0m         \u001b[39mraise\u001b[39;00m \u001b[39mValueError\u001b[39;00m(\n\u001b[0;32m    392\u001b[0m             \u001b[39m\"\u001b[39m\u001b[39mMime type rendering requires ipython but it is not installed\u001b[39m\u001b[39m\"\u001b[39m\n\u001b[0;32m    393\u001b[0m         )\n\u001b[0;32m    395\u001b[0m     \u001b[39mif\u001b[39;00m \u001b[39mnot\u001b[39;00m nbformat \u001b[39mor\u001b[39;00m LooseVersion(nbformat\u001b[39m.\u001b[39m__version__) \u001b[39m<\u001b[39m LooseVersion(\u001b[39m\"\u001b[39m\u001b[39m4.2.0\u001b[39m\u001b[39m\"\u001b[39m):\n\u001b[1;32m--> 396\u001b[0m         \u001b[39mraise\u001b[39;00m \u001b[39mValueError\u001b[39;00m(\n\u001b[0;32m    397\u001b[0m             \u001b[39m\"\u001b[39m\u001b[39mMime type rendering requires nbformat>=4.2.0 but it is not installed\u001b[39m\u001b[39m\"\u001b[39m\n\u001b[0;32m    398\u001b[0m         )\n\u001b[0;32m    400\u001b[0m     ipython_display\u001b[39m.\u001b[39mdisplay(bundle, raw\u001b[39m=\u001b[39m\u001b[39mTrue\u001b[39;00m)\n\u001b[0;32m    402\u001b[0m \u001b[39m# external renderers\u001b[39;00m\n",
      "\u001b[1;31mValueError\u001b[0m: Mime type rendering requires nbformat>=4.2.0 but it is not installed"
     ]
    },
    {
     "data": {
      "application/vnd.plotly.v1+json": {
       "config": {
        "plotlyServerURL": "https://plot.ly"
       },
       "data": [
        {
         "alignmentgroup": "True",
         "hovertemplate": "Item=%{x}<br>Value=%{y}<extra></extra>",
         "legendgroup": "Nutrient nitrogen N (total)",
         "marker": {
          "color": "#636efa",
          "pattern": {
           "shape": "|"
          }
         },
         "name": "Nutrient nitrogen N (total)",
         "offsetgroup": "Nutrient nitrogen N (total)",
         "orientation": "v",
         "showlegend": true,
         "textposition": "auto",
         "type": "bar",
         "x": [
          "Nutrient nitrogen N (total)",
          "Nutrient nitrogen N (total)",
          "Nutrient nitrogen N (total)",
          "Nutrient nitrogen N (total)",
          "Nutrient nitrogen N (total)",
          "Nutrient nitrogen N (total)",
          "Nutrient nitrogen N (total)",
          "Nutrient nitrogen N (total)",
          "Nutrient nitrogen N (total)",
          "Nutrient nitrogen N (total)",
          "Nutrient nitrogen N (total)",
          "Nutrient nitrogen N (total)",
          "Nutrient nitrogen N (total)",
          "Nutrient nitrogen N (total)",
          "Nutrient nitrogen N (total)",
          "Nutrient nitrogen N (total)",
          "Nutrient nitrogen N (total)",
          "Nutrient nitrogen N (total)",
          "Nutrient nitrogen N (total)",
          "Nutrient nitrogen N (total)",
          "Nutrient nitrogen N (total)",
          "Nutrient nitrogen N (total)",
          "Nutrient nitrogen N (total)",
          "Nutrient nitrogen N (total)",
          "Nutrient nitrogen N (total)",
          "Nutrient nitrogen N (total)",
          "Nutrient nitrogen N (total)",
          "Nutrient nitrogen N (total)",
          "Nutrient nitrogen N (total)",
          "Nutrient nitrogen N (total)",
          "Nutrient nitrogen N (total)",
          "Nutrient nitrogen N (total)",
          "Nutrient nitrogen N (total)",
          "Nutrient nitrogen N (total)",
          "Nutrient nitrogen N (total)",
          "Nutrient nitrogen N (total)",
          "Nutrient nitrogen N (total)",
          "Nutrient nitrogen N (total)",
          "Nutrient nitrogen N (total)",
          "Nutrient nitrogen N (total)",
          "Nutrient nitrogen N (total)",
          "Nutrient nitrogen N (total)",
          "Nutrient nitrogen N (total)",
          "Nutrient nitrogen N (total)",
          "Nutrient nitrogen N (total)",
          "Nutrient nitrogen N (total)",
          "Nutrient nitrogen N (total)",
          "Nutrient nitrogen N (total)",
          "Nutrient nitrogen N (total)",
          "Nutrient nitrogen N (total)",
          "Nutrient nitrogen N (total)",
          "Nutrient nitrogen N (total)",
          "Nutrient nitrogen N (total)",
          "Nutrient nitrogen N (total)",
          "Nutrient nitrogen N (total)",
          "Nutrient nitrogen N (total)",
          "Nutrient nitrogen N (total)",
          "Nutrient nitrogen N (total)",
          "Nutrient nitrogen N (total)",
          "Nutrient nitrogen N (total)"
         ],
         "xaxis": "x",
         "y": [
          41659,
          41160,
          67620,
          84147,
          69242,
          107779,
          177441,
          203521,
          272566,
          251519,
          343973,
          386230,
          341944,
          362900,
          443451,
          511000,
          554100,
          684300,
          775804,
          843574,
          832572,
          954083,
          914317,
          934498,
          1128138,
          1332570,
          1281700,
          1324453,
          1467590,
          1471642,
          1462862,
          1636323,
          1659350,
          1738117,
          1991006,
          1985080,
          2087607,
          2091852,
          2218100,
          2264600,
          2291610,
          2384980,
          2456009,
          2570230,
          2818779,
          2868984,
          2714053,
          2928057,
          3451900,
          3270531,
          3187339,
          2850771,
          3239557,
          3139263,
          3160507,
          3241907,
          3446922,
          3446922,
          3505356,
          3533784
         ],
         "yaxis": "y"
        },
        {
         "alignmentgroup": "True",
         "hovertemplate": "Item=%{x}<br>Value=%{y}<extra></extra>",
         "legendgroup": "Nutrient phosphate P2O5 (total)",
         "marker": {
          "color": "#EF553B",
          "pattern": {
           "shape": "/"
          }
         },
         "name": "Nutrient phosphate P2O5 (total)",
         "offsetgroup": "Nutrient phosphate P2O5 (total)",
         "orientation": "v",
         "showlegend": true,
         "textposition": "auto",
         "type": "bar",
         "x": [
          "Nutrient phosphate P2O5 (total)",
          "Nutrient phosphate P2O5 (total)",
          "Nutrient phosphate P2O5 (total)",
          "Nutrient phosphate P2O5 (total)",
          "Nutrient phosphate P2O5 (total)",
          "Nutrient phosphate P2O5 (total)",
          "Nutrient phosphate P2O5 (total)",
          "Nutrient phosphate P2O5 (total)",
          "Nutrient phosphate P2O5 (total)",
          "Nutrient phosphate P2O5 (total)",
          "Nutrient phosphate P2O5 (total)",
          "Nutrient phosphate P2O5 (total)",
          "Nutrient phosphate P2O5 (total)",
          "Nutrient phosphate P2O5 (total)",
          "Nutrient phosphate P2O5 (total)",
          "Nutrient phosphate P2O5 (total)",
          "Nutrient phosphate P2O5 (total)",
          "Nutrient phosphate P2O5 (total)",
          "Nutrient phosphate P2O5 (total)",
          "Nutrient phosphate P2O5 (total)",
          "Nutrient phosphate P2O5 (total)",
          "Nutrient phosphate P2O5 (total)",
          "Nutrient phosphate P2O5 (total)",
          "Nutrient phosphate P2O5 (total)",
          "Nutrient phosphate P2O5 (total)",
          "Nutrient phosphate P2O5 (total)",
          "Nutrient phosphate P2O5 (total)",
          "Nutrient phosphate P2O5 (total)",
          "Nutrient phosphate P2O5 (total)",
          "Nutrient phosphate P2O5 (total)",
          "Nutrient phosphate P2O5 (total)",
          "Nutrient phosphate P2O5 (total)",
          "Nutrient phosphate P2O5 (total)",
          "Nutrient phosphate P2O5 (total)",
          "Nutrient phosphate P2O5 (total)",
          "Nutrient phosphate P2O5 (total)",
          "Nutrient phosphate P2O5 (total)",
          "Nutrient phosphate P2O5 (total)",
          "Nutrient phosphate P2O5 (total)",
          "Nutrient phosphate P2O5 (total)",
          "Nutrient phosphate P2O5 (total)",
          "Nutrient phosphate P2O5 (total)",
          "Nutrient phosphate P2O5 (total)",
          "Nutrient phosphate P2O5 (total)",
          "Nutrient phosphate P2O5 (total)",
          "Nutrient phosphate P2O5 (total)",
          "Nutrient phosphate P2O5 (total)",
          "Nutrient phosphate P2O5 (total)",
          "Nutrient phosphate P2O5 (total)",
          "Nutrient phosphate P2O5 (total)",
          "Nutrient phosphate P2O5 (total)",
          "Nutrient phosphate P2O5 (total)",
          "Nutrient phosphate P2O5 (total)",
          "Nutrient phosphate P2O5 (total)",
          "Nutrient phosphate P2O5 (total)",
          "Nutrient phosphate P2O5 (total)",
          "Nutrient phosphate P2O5 (total)",
          "Nutrient phosphate P2O5 (total)",
          "Nutrient phosphate P2O5 (total)",
          "Nutrient phosphate P2O5 (total)"
         ],
         "xaxis": "x",
         "y": [
          500,
          210,
          630,
          1029,
          1245,
          3911,
          12777,
          38642,
          33801,
          30462,
          37231,
          48730,
          58066,
          60500,
          108500,
          117900,
          157300,
          187900,
          201086,
          226487,
          225502,
          265285,
          261400,
          293829,
          349776,
          409750,
          393400,
          390406,
          382457,
          388500,
          397974,
          487530,
          464258,
          428900,
          494449,
          419474,
          551284,
          465000,
          596800,
          675100,
          641940,
          647360,
          669307,
          761031,
          871416,
          906749,
          816044,
          565675,
          778714,
          756700,
          653181,
          678840,
          875452,
          936148,
          993338,
          1209145,
          1257773,
          1257773,
          1099707,
          1204060
         ],
         "yaxis": "y"
        },
        {
         "alignmentgroup": "True",
         "hovertemplate": "Item=%{x}<br>Value=%{y}<extra></extra>",
         "legendgroup": "Nutrient potash K2O (total)",
         "marker": {
          "color": "#00cc96",
          "pattern": {
           "shape": "+"
          }
         },
         "name": "Nutrient potash K2O (total)",
         "offsetgroup": "Nutrient potash K2O (total)",
         "orientation": "v",
         "showlegend": true,
         "textposition": "auto",
         "type": "bar",
         "x": [
          "Nutrient potash K2O (total)",
          "Nutrient potash K2O (total)",
          "Nutrient potash K2O (total)",
          "Nutrient potash K2O (total)",
          "Nutrient potash K2O (total)",
          "Nutrient potash K2O (total)",
          "Nutrient potash K2O (total)",
          "Nutrient potash K2O (total)",
          "Nutrient potash K2O (total)",
          "Nutrient potash K2O (total)",
          "Nutrient potash K2O (total)",
          "Nutrient potash K2O (total)",
          "Nutrient potash K2O (total)",
          "Nutrient potash K2O (total)",
          "Nutrient potash K2O (total)",
          "Nutrient potash K2O (total)",
          "Nutrient potash K2O (total)",
          "Nutrient potash K2O (total)",
          "Nutrient potash K2O (total)",
          "Nutrient potash K2O (total)",
          "Nutrient potash K2O (total)",
          "Nutrient potash K2O (total)",
          "Nutrient potash K2O (total)",
          "Nutrient potash K2O (total)",
          "Nutrient potash K2O (total)",
          "Nutrient potash K2O (total)",
          "Nutrient potash K2O (total)",
          "Nutrient potash K2O (total)",
          "Nutrient potash K2O (total)",
          "Nutrient potash K2O (total)",
          "Nutrient potash K2O (total)",
          "Nutrient potash K2O (total)",
          "Nutrient potash K2O (total)",
          "Nutrient potash K2O (total)",
          "Nutrient potash K2O (total)",
          "Nutrient potash K2O (total)",
          "Nutrient potash K2O (total)",
          "Nutrient potash K2O (total)",
          "Nutrient potash K2O (total)",
          "Nutrient potash K2O (total)",
          "Nutrient potash K2O (total)",
          "Nutrient potash K2O (total)",
          "Nutrient potash K2O (total)",
          "Nutrient potash K2O (total)",
          "Nutrient potash K2O (total)",
          "Nutrient potash K2O (total)",
          "Nutrient potash K2O (total)",
          "Nutrient potash K2O (total)",
          "Nutrient potash K2O (total)",
          "Nutrient potash K2O (total)",
          "Nutrient potash K2O (total)",
          "Nutrient potash K2O (total)",
          "Nutrient potash K2O (total)",
          "Nutrient potash K2O (total)",
          "Nutrient potash K2O (total)"
         ],
         "xaxis": "x",
         "y": [
          144,
          212,
          2486,
          1344,
          1225,
          744,
          1400,
          2670,
          2100,
          1900,
          2400,
          5800,
          7600,
          9618,
          9643,
          21772,
          24948,
          28581,
          24677,
          33205,
          42880,
          45100,
          24533,
          40078,
          32757,
          23297,
          24062,
          23172,
          16555,
          29669,
          8425,
          20443,
          21200,
          18100,
          22800,
          10900,
          20500,
          23944,
          26449,
          35301,
          36408,
          43924,
          16564,
          15499,
          37545,
          28013,
          19427,
          19849,
          29549,
          25291,
          28954,
          54173,
          54173,
          47260,
          60973
         ],
         "yaxis": "y"
        }
       ],
       "layout": {
        "barmode": "relative",
        "legend": {
         "title": {
          "text": "Item"
         },
         "tracegroupgap": 0
        },
        "margin": {
         "t": 60
        },
        "template": {
         "data": {
          "bar": [
           {
            "error_x": {
             "color": "#2a3f5f"
            },
            "error_y": {
             "color": "#2a3f5f"
            },
            "marker": {
             "line": {
              "color": "#E5ECF6",
              "width": 0.5
             },
             "pattern": {
              "fillmode": "overlay",
              "size": 10,
              "solidity": 0.2
             }
            },
            "type": "bar"
           }
          ],
          "barpolar": [
           {
            "marker": {
             "line": {
              "color": "#E5ECF6",
              "width": 0.5
             },
             "pattern": {
              "fillmode": "overlay",
              "size": 10,
              "solidity": 0.2
             }
            },
            "type": "barpolar"
           }
          ],
          "carpet": [
           {
            "aaxis": {
             "endlinecolor": "#2a3f5f",
             "gridcolor": "white",
             "linecolor": "white",
             "minorgridcolor": "white",
             "startlinecolor": "#2a3f5f"
            },
            "baxis": {
             "endlinecolor": "#2a3f5f",
             "gridcolor": "white",
             "linecolor": "white",
             "minorgridcolor": "white",
             "startlinecolor": "#2a3f5f"
            },
            "type": "carpet"
           }
          ],
          "choropleth": [
           {
            "colorbar": {
             "outlinewidth": 0,
             "ticks": ""
            },
            "type": "choropleth"
           }
          ],
          "contour": [
           {
            "colorbar": {
             "outlinewidth": 0,
             "ticks": ""
            },
            "colorscale": [
             [
              0,
              "#0d0887"
             ],
             [
              0.1111111111111111,
              "#46039f"
             ],
             [
              0.2222222222222222,
              "#7201a8"
             ],
             [
              0.3333333333333333,
              "#9c179e"
             ],
             [
              0.4444444444444444,
              "#bd3786"
             ],
             [
              0.5555555555555556,
              "#d8576b"
             ],
             [
              0.6666666666666666,
              "#ed7953"
             ],
             [
              0.7777777777777778,
              "#fb9f3a"
             ],
             [
              0.8888888888888888,
              "#fdca26"
             ],
             [
              1,
              "#f0f921"
             ]
            ],
            "type": "contour"
           }
          ],
          "contourcarpet": [
           {
            "colorbar": {
             "outlinewidth": 0,
             "ticks": ""
            },
            "type": "contourcarpet"
           }
          ],
          "heatmap": [
           {
            "colorbar": {
             "outlinewidth": 0,
             "ticks": ""
            },
            "colorscale": [
             [
              0,
              "#0d0887"
             ],
             [
              0.1111111111111111,
              "#46039f"
             ],
             [
              0.2222222222222222,
              "#7201a8"
             ],
             [
              0.3333333333333333,
              "#9c179e"
             ],
             [
              0.4444444444444444,
              "#bd3786"
             ],
             [
              0.5555555555555556,
              "#d8576b"
             ],
             [
              0.6666666666666666,
              "#ed7953"
             ],
             [
              0.7777777777777778,
              "#fb9f3a"
             ],
             [
              0.8888888888888888,
              "#fdca26"
             ],
             [
              1,
              "#f0f921"
             ]
            ],
            "type": "heatmap"
           }
          ],
          "heatmapgl": [
           {
            "colorbar": {
             "outlinewidth": 0,
             "ticks": ""
            },
            "colorscale": [
             [
              0,
              "#0d0887"
             ],
             [
              0.1111111111111111,
              "#46039f"
             ],
             [
              0.2222222222222222,
              "#7201a8"
             ],
             [
              0.3333333333333333,
              "#9c179e"
             ],
             [
              0.4444444444444444,
              "#bd3786"
             ],
             [
              0.5555555555555556,
              "#d8576b"
             ],
             [
              0.6666666666666666,
              "#ed7953"
             ],
             [
              0.7777777777777778,
              "#fb9f3a"
             ],
             [
              0.8888888888888888,
              "#fdca26"
             ],
             [
              1,
              "#f0f921"
             ]
            ],
            "type": "heatmapgl"
           }
          ],
          "histogram": [
           {
            "marker": {
             "pattern": {
              "fillmode": "overlay",
              "size": 10,
              "solidity": 0.2
             }
            },
            "type": "histogram"
           }
          ],
          "histogram2d": [
           {
            "colorbar": {
             "outlinewidth": 0,
             "ticks": ""
            },
            "colorscale": [
             [
              0,
              "#0d0887"
             ],
             [
              0.1111111111111111,
              "#46039f"
             ],
             [
              0.2222222222222222,
              "#7201a8"
             ],
             [
              0.3333333333333333,
              "#9c179e"
             ],
             [
              0.4444444444444444,
              "#bd3786"
             ],
             [
              0.5555555555555556,
              "#d8576b"
             ],
             [
              0.6666666666666666,
              "#ed7953"
             ],
             [
              0.7777777777777778,
              "#fb9f3a"
             ],
             [
              0.8888888888888888,
              "#fdca26"
             ],
             [
              1,
              "#f0f921"
             ]
            ],
            "type": "histogram2d"
           }
          ],
          "histogram2dcontour": [
           {
            "colorbar": {
             "outlinewidth": 0,
             "ticks": ""
            },
            "colorscale": [
             [
              0,
              "#0d0887"
             ],
             [
              0.1111111111111111,
              "#46039f"
             ],
             [
              0.2222222222222222,
              "#7201a8"
             ],
             [
              0.3333333333333333,
              "#9c179e"
             ],
             [
              0.4444444444444444,
              "#bd3786"
             ],
             [
              0.5555555555555556,
              "#d8576b"
             ],
             [
              0.6666666666666666,
              "#ed7953"
             ],
             [
              0.7777777777777778,
              "#fb9f3a"
             ],
             [
              0.8888888888888888,
              "#fdca26"
             ],
             [
              1,
              "#f0f921"
             ]
            ],
            "type": "histogram2dcontour"
           }
          ],
          "mesh3d": [
           {
            "colorbar": {
             "outlinewidth": 0,
             "ticks": ""
            },
            "type": "mesh3d"
           }
          ],
          "parcoords": [
           {
            "line": {
             "colorbar": {
              "outlinewidth": 0,
              "ticks": ""
             }
            },
            "type": "parcoords"
           }
          ],
          "pie": [
           {
            "automargin": true,
            "type": "pie"
           }
          ],
          "scatter": [
           {
            "fillpattern": {
             "fillmode": "overlay",
             "size": 10,
             "solidity": 0.2
            },
            "type": "scatter"
           }
          ],
          "scatter3d": [
           {
            "line": {
             "colorbar": {
              "outlinewidth": 0,
              "ticks": ""
             }
            },
            "marker": {
             "colorbar": {
              "outlinewidth": 0,
              "ticks": ""
             }
            },
            "type": "scatter3d"
           }
          ],
          "scattercarpet": [
           {
            "marker": {
             "colorbar": {
              "outlinewidth": 0,
              "ticks": ""
             }
            },
            "type": "scattercarpet"
           }
          ],
          "scattergeo": [
           {
            "marker": {
             "colorbar": {
              "outlinewidth": 0,
              "ticks": ""
             }
            },
            "type": "scattergeo"
           }
          ],
          "scattergl": [
           {
            "marker": {
             "colorbar": {
              "outlinewidth": 0,
              "ticks": ""
             }
            },
            "type": "scattergl"
           }
          ],
          "scattermapbox": [
           {
            "marker": {
             "colorbar": {
              "outlinewidth": 0,
              "ticks": ""
             }
            },
            "type": "scattermapbox"
           }
          ],
          "scatterpolar": [
           {
            "marker": {
             "colorbar": {
              "outlinewidth": 0,
              "ticks": ""
             }
            },
            "type": "scatterpolar"
           }
          ],
          "scatterpolargl": [
           {
            "marker": {
             "colorbar": {
              "outlinewidth": 0,
              "ticks": ""
             }
            },
            "type": "scatterpolargl"
           }
          ],
          "scatterternary": [
           {
            "marker": {
             "colorbar": {
              "outlinewidth": 0,
              "ticks": ""
             }
            },
            "type": "scatterternary"
           }
          ],
          "surface": [
           {
            "colorbar": {
             "outlinewidth": 0,
             "ticks": ""
            },
            "colorscale": [
             [
              0,
              "#0d0887"
             ],
             [
              0.1111111111111111,
              "#46039f"
             ],
             [
              0.2222222222222222,
              "#7201a8"
             ],
             [
              0.3333333333333333,
              "#9c179e"
             ],
             [
              0.4444444444444444,
              "#bd3786"
             ],
             [
              0.5555555555555556,
              "#d8576b"
             ],
             [
              0.6666666666666666,
              "#ed7953"
             ],
             [
              0.7777777777777778,
              "#fb9f3a"
             ],
             [
              0.8888888888888888,
              "#fdca26"
             ],
             [
              1,
              "#f0f921"
             ]
            ],
            "type": "surface"
           }
          ],
          "table": [
           {
            "cells": {
             "fill": {
              "color": "#EBF0F8"
             },
             "line": {
              "color": "white"
             }
            },
            "header": {
             "fill": {
              "color": "#C8D4E3"
             },
             "line": {
              "color": "white"
             }
            },
            "type": "table"
           }
          ]
         },
         "layout": {
          "annotationdefaults": {
           "arrowcolor": "#2a3f5f",
           "arrowhead": 0,
           "arrowwidth": 1
          },
          "autotypenumbers": "strict",
          "coloraxis": {
           "colorbar": {
            "outlinewidth": 0,
            "ticks": ""
           }
          },
          "colorscale": {
           "diverging": [
            [
             0,
             "#8e0152"
            ],
            [
             0.1,
             "#c51b7d"
            ],
            [
             0.2,
             "#de77ae"
            ],
            [
             0.3,
             "#f1b6da"
            ],
            [
             0.4,
             "#fde0ef"
            ],
            [
             0.5,
             "#f7f7f7"
            ],
            [
             0.6,
             "#e6f5d0"
            ],
            [
             0.7,
             "#b8e186"
            ],
            [
             0.8,
             "#7fbc41"
            ],
            [
             0.9,
             "#4d9221"
            ],
            [
             1,
             "#276419"
            ]
           ],
           "sequential": [
            [
             0,
             "#0d0887"
            ],
            [
             0.1111111111111111,
             "#46039f"
            ],
            [
             0.2222222222222222,
             "#7201a8"
            ],
            [
             0.3333333333333333,
             "#9c179e"
            ],
            [
             0.4444444444444444,
             "#bd3786"
            ],
            [
             0.5555555555555556,
             "#d8576b"
            ],
            [
             0.6666666666666666,
             "#ed7953"
            ],
            [
             0.7777777777777778,
             "#fb9f3a"
            ],
            [
             0.8888888888888888,
             "#fdca26"
            ],
            [
             1,
             "#f0f921"
            ]
           ],
           "sequentialminus": [
            [
             0,
             "#0d0887"
            ],
            [
             0.1111111111111111,
             "#46039f"
            ],
            [
             0.2222222222222222,
             "#7201a8"
            ],
            [
             0.3333333333333333,
             "#9c179e"
            ],
            [
             0.4444444444444444,
             "#bd3786"
            ],
            [
             0.5555555555555556,
             "#d8576b"
            ],
            [
             0.6666666666666666,
             "#ed7953"
            ],
            [
             0.7777777777777778,
             "#fb9f3a"
            ],
            [
             0.8888888888888888,
             "#fdca26"
            ],
            [
             1,
             "#f0f921"
            ]
           ]
          },
          "colorway": [
           "#636efa",
           "#EF553B",
           "#00cc96",
           "#ab63fa",
           "#FFA15A",
           "#19d3f3",
           "#FF6692",
           "#B6E880",
           "#FF97FF",
           "#FECB52"
          ],
          "font": {
           "color": "#2a3f5f"
          },
          "geo": {
           "bgcolor": "white",
           "lakecolor": "white",
           "landcolor": "#E5ECF6",
           "showlakes": true,
           "showland": true,
           "subunitcolor": "white"
          },
          "hoverlabel": {
           "align": "left"
          },
          "hovermode": "closest",
          "mapbox": {
           "style": "light"
          },
          "paper_bgcolor": "white",
          "plot_bgcolor": "#E5ECF6",
          "polar": {
           "angularaxis": {
            "gridcolor": "white",
            "linecolor": "white",
            "ticks": ""
           },
           "bgcolor": "#E5ECF6",
           "radialaxis": {
            "gridcolor": "white",
            "linecolor": "white",
            "ticks": ""
           }
          },
          "scene": {
           "xaxis": {
            "backgroundcolor": "#E5ECF6",
            "gridcolor": "white",
            "gridwidth": 2,
            "linecolor": "white",
            "showbackground": true,
            "ticks": "",
            "zerolinecolor": "white"
           },
           "yaxis": {
            "backgroundcolor": "#E5ECF6",
            "gridcolor": "white",
            "gridwidth": 2,
            "linecolor": "white",
            "showbackground": true,
            "ticks": "",
            "zerolinecolor": "white"
           },
           "zaxis": {
            "backgroundcolor": "#E5ECF6",
            "gridcolor": "white",
            "gridwidth": 2,
            "linecolor": "white",
            "showbackground": true,
            "ticks": "",
            "zerolinecolor": "white"
           }
          },
          "shapedefaults": {
           "line": {
            "color": "#2a3f5f"
           }
          },
          "ternary": {
           "aaxis": {
            "gridcolor": "white",
            "linecolor": "white",
            "ticks": ""
           },
           "baxis": {
            "gridcolor": "white",
            "linecolor": "white",
            "ticks": ""
           },
           "bgcolor": "#E5ECF6",
           "caxis": {
            "gridcolor": "white",
            "linecolor": "white",
            "ticks": ""
           }
          },
          "title": {
           "x": 0.05
          },
          "xaxis": {
           "automargin": true,
           "gridcolor": "white",
           "linecolor": "white",
           "ticks": "",
           "title": {
            "standoff": 15
           },
           "zerolinecolor": "white",
           "zerolinewidth": 2
          },
          "yaxis": {
           "automargin": true,
           "gridcolor": "white",
           "linecolor": "white",
           "ticks": "",
           "title": {
            "standoff": 15
           },
           "zerolinecolor": "white",
           "zerolinewidth": 2
          }
         }
        },
        "xaxis": {
         "anchor": "y",
         "categoryarray": [
          "Nutrient nitrogen N (total)",
          "Nutrient phosphate P2O5 (total)",
          "Nutrient potash K2O (total)"
         ],
         "categoryorder": "array",
         "domain": [
          0,
          1
         ],
         "title": {
          "text": "Item"
         }
        },
        "yaxis": {
         "anchor": "x",
         "domain": [
          0,
          1
         ],
         "title": {
          "text": "Value"
         }
        }
       }
      },
      "text/html": [
       "<div>                        <script type=\"text/javascript\">window.PlotlyConfig = {MathJaxConfig: 'local'};</script>\n",
       "        <script src=\"https://cdn.plot.ly/plotly-2.12.1.min.js\"></script>                <div id=\"1a4c3f82-e09b-4762-9fad-7f8269665993\" class=\"plotly-graph-div\" style=\"height:100%; width:100%;\"></div>            <script type=\"text/javascript\">                                    window.PLOTLYENV=window.PLOTLYENV || {};                                    if (document.getElementById(\"1a4c3f82-e09b-4762-9fad-7f8269665993\")) {                    Plotly.newPlot(                        \"1a4c3f82-e09b-4762-9fad-7f8269665993\",                        [{\"alignmentgroup\":\"True\",\"hovertemplate\":\"Item=%{x}<br>Value=%{y}<extra></extra>\",\"legendgroup\":\"Nutrient nitrogen N (total)\",\"marker\":{\"color\":\"#636efa\",\"pattern\":{\"shape\":\"|\"}},\"name\":\"Nutrient nitrogen N (total)\",\"offsetgroup\":\"Nutrient nitrogen N (total)\",\"orientation\":\"v\",\"showlegend\":true,\"textposition\":\"auto\",\"x\":[\"Nutrient nitrogen N (total)\",\"Nutrient nitrogen N (total)\",\"Nutrient nitrogen N (total)\",\"Nutrient nitrogen N (total)\",\"Nutrient nitrogen N (total)\",\"Nutrient nitrogen N (total)\",\"Nutrient nitrogen N (total)\",\"Nutrient nitrogen N (total)\",\"Nutrient nitrogen N (total)\",\"Nutrient nitrogen N (total)\",\"Nutrient nitrogen N (total)\",\"Nutrient nitrogen N (total)\",\"Nutrient nitrogen N (total)\",\"Nutrient nitrogen N (total)\",\"Nutrient nitrogen N (total)\",\"Nutrient nitrogen N (total)\",\"Nutrient nitrogen N (total)\",\"Nutrient nitrogen N (total)\",\"Nutrient nitrogen N (total)\",\"Nutrient nitrogen N (total)\",\"Nutrient nitrogen N (total)\",\"Nutrient nitrogen N (total)\",\"Nutrient nitrogen N (total)\",\"Nutrient nitrogen N (total)\",\"Nutrient nitrogen N (total)\",\"Nutrient nitrogen N (total)\",\"Nutrient nitrogen N (total)\",\"Nutrient nitrogen N (total)\",\"Nutrient nitrogen N (total)\",\"Nutrient nitrogen N (total)\",\"Nutrient nitrogen N (total)\",\"Nutrient nitrogen N (total)\",\"Nutrient nitrogen N (total)\",\"Nutrient nitrogen N (total)\",\"Nutrient nitrogen N (total)\",\"Nutrient nitrogen N (total)\",\"Nutrient nitrogen N (total)\",\"Nutrient nitrogen N (total)\",\"Nutrient nitrogen N (total)\",\"Nutrient nitrogen N (total)\",\"Nutrient nitrogen N (total)\",\"Nutrient nitrogen N (total)\",\"Nutrient nitrogen N (total)\",\"Nutrient nitrogen N (total)\",\"Nutrient nitrogen N (total)\",\"Nutrient nitrogen N (total)\",\"Nutrient nitrogen N (total)\",\"Nutrient nitrogen N (total)\",\"Nutrient nitrogen N (total)\",\"Nutrient nitrogen N (total)\",\"Nutrient nitrogen N (total)\",\"Nutrient nitrogen N (total)\",\"Nutrient nitrogen N (total)\",\"Nutrient nitrogen N (total)\",\"Nutrient nitrogen N (total)\",\"Nutrient nitrogen N (total)\",\"Nutrient nitrogen N (total)\",\"Nutrient nitrogen N (total)\",\"Nutrient nitrogen N (total)\",\"Nutrient nitrogen N (total)\"],\"xaxis\":\"x\",\"y\":[41659,41160,67620,84147,69242,107779,177441,203521,272566,251519,343973,386230,341944,362900,443451,511000,554100,684300,775804,843574,832572,954083,914317,934498,1128138,1332570,1281700,1324453,1467590,1471642,1462862,1636323,1659350,1738117,1991006,1985080,2087607,2091852,2218100,2264600,2291610,2384980,2456009,2570230,2818779,2868984,2714053,2928057,3451900,3270531,3187339,2850771,3239557,3139263,3160507,3241907,3446922,3446922,3505356,3533784],\"yaxis\":\"y\",\"type\":\"bar\"},{\"alignmentgroup\":\"True\",\"hovertemplate\":\"Item=%{x}<br>Value=%{y}<extra></extra>\",\"legendgroup\":\"Nutrient phosphate P2O5 (total)\",\"marker\":{\"color\":\"#EF553B\",\"pattern\":{\"shape\":\"/\"}},\"name\":\"Nutrient phosphate P2O5 (total)\",\"offsetgroup\":\"Nutrient phosphate P2O5 (total)\",\"orientation\":\"v\",\"showlegend\":true,\"textposition\":\"auto\",\"x\":[\"Nutrient phosphate P2O5 (total)\",\"Nutrient phosphate P2O5 (total)\",\"Nutrient phosphate P2O5 (total)\",\"Nutrient phosphate P2O5 (total)\",\"Nutrient phosphate P2O5 (total)\",\"Nutrient phosphate P2O5 (total)\",\"Nutrient phosphate P2O5 (total)\",\"Nutrient phosphate P2O5 (total)\",\"Nutrient phosphate P2O5 (total)\",\"Nutrient phosphate P2O5 (total)\",\"Nutrient phosphate P2O5 (total)\",\"Nutrient phosphate P2O5 (total)\",\"Nutrient phosphate P2O5 (total)\",\"Nutrient phosphate P2O5 (total)\",\"Nutrient phosphate P2O5 (total)\",\"Nutrient phosphate P2O5 (total)\",\"Nutrient phosphate P2O5 (total)\",\"Nutrient phosphate P2O5 (total)\",\"Nutrient phosphate P2O5 (total)\",\"Nutrient phosphate P2O5 (total)\",\"Nutrient phosphate P2O5 (total)\",\"Nutrient phosphate P2O5 (total)\",\"Nutrient phosphate P2O5 (total)\",\"Nutrient phosphate P2O5 (total)\",\"Nutrient phosphate P2O5 (total)\",\"Nutrient phosphate P2O5 (total)\",\"Nutrient phosphate P2O5 (total)\",\"Nutrient phosphate P2O5 (total)\",\"Nutrient phosphate P2O5 (total)\",\"Nutrient phosphate P2O5 (total)\",\"Nutrient phosphate P2O5 (total)\",\"Nutrient phosphate P2O5 (total)\",\"Nutrient phosphate P2O5 (total)\",\"Nutrient phosphate P2O5 (total)\",\"Nutrient phosphate P2O5 (total)\",\"Nutrient phosphate P2O5 (total)\",\"Nutrient phosphate P2O5 (total)\",\"Nutrient phosphate P2O5 (total)\",\"Nutrient phosphate P2O5 (total)\",\"Nutrient phosphate P2O5 (total)\",\"Nutrient phosphate P2O5 (total)\",\"Nutrient phosphate P2O5 (total)\",\"Nutrient phosphate P2O5 (total)\",\"Nutrient phosphate P2O5 (total)\",\"Nutrient phosphate P2O5 (total)\",\"Nutrient phosphate P2O5 (total)\",\"Nutrient phosphate P2O5 (total)\",\"Nutrient phosphate P2O5 (total)\",\"Nutrient phosphate P2O5 (total)\",\"Nutrient phosphate P2O5 (total)\",\"Nutrient phosphate P2O5 (total)\",\"Nutrient phosphate P2O5 (total)\",\"Nutrient phosphate P2O5 (total)\",\"Nutrient phosphate P2O5 (total)\",\"Nutrient phosphate P2O5 (total)\",\"Nutrient phosphate P2O5 (total)\",\"Nutrient phosphate P2O5 (total)\",\"Nutrient phosphate P2O5 (total)\",\"Nutrient phosphate P2O5 (total)\",\"Nutrient phosphate P2O5 (total)\"],\"xaxis\":\"x\",\"y\":[500,210,630,1029,1245,3911,12777,38642,33801,30462,37231,48730,58066,60500,108500,117900,157300,187900,201086,226487,225502,265285,261400,293829,349776,409750,393400,390406,382457,388500,397974,487530,464258,428900,494449,419474,551284,465000,596800,675100,641940,647360,669307,761031,871416,906749,816044,565675,778714,756700,653181,678840,875452,936148,993338,1209145,1257773,1257773,1099707,1204060],\"yaxis\":\"y\",\"type\":\"bar\"},{\"alignmentgroup\":\"True\",\"hovertemplate\":\"Item=%{x}<br>Value=%{y}<extra></extra>\",\"legendgroup\":\"Nutrient potash K2O (total)\",\"marker\":{\"color\":\"#00cc96\",\"pattern\":{\"shape\":\"+\"}},\"name\":\"Nutrient potash K2O (total)\",\"offsetgroup\":\"Nutrient potash K2O (total)\",\"orientation\":\"v\",\"showlegend\":true,\"textposition\":\"auto\",\"x\":[\"Nutrient potash K2O (total)\",\"Nutrient potash K2O (total)\",\"Nutrient potash K2O (total)\",\"Nutrient potash K2O (total)\",\"Nutrient potash K2O (total)\",\"Nutrient potash K2O (total)\",\"Nutrient potash K2O (total)\",\"Nutrient potash K2O (total)\",\"Nutrient potash K2O (total)\",\"Nutrient potash K2O (total)\",\"Nutrient potash K2O (total)\",\"Nutrient potash K2O (total)\",\"Nutrient potash K2O (total)\",\"Nutrient potash K2O (total)\",\"Nutrient potash K2O (total)\",\"Nutrient potash K2O (total)\",\"Nutrient potash K2O (total)\",\"Nutrient potash K2O (total)\",\"Nutrient potash K2O (total)\",\"Nutrient potash K2O (total)\",\"Nutrient potash K2O (total)\",\"Nutrient potash K2O (total)\",\"Nutrient potash K2O (total)\",\"Nutrient potash K2O (total)\",\"Nutrient potash K2O (total)\",\"Nutrient potash K2O (total)\",\"Nutrient potash K2O (total)\",\"Nutrient potash K2O (total)\",\"Nutrient potash K2O (total)\",\"Nutrient potash K2O (total)\",\"Nutrient potash K2O (total)\",\"Nutrient potash K2O (total)\",\"Nutrient potash K2O (total)\",\"Nutrient potash K2O (total)\",\"Nutrient potash K2O (total)\",\"Nutrient potash K2O (total)\",\"Nutrient potash K2O (total)\",\"Nutrient potash K2O (total)\",\"Nutrient potash K2O (total)\",\"Nutrient potash K2O (total)\",\"Nutrient potash K2O (total)\",\"Nutrient potash K2O (total)\",\"Nutrient potash K2O (total)\",\"Nutrient potash K2O (total)\",\"Nutrient potash K2O (total)\",\"Nutrient potash K2O (total)\",\"Nutrient potash K2O (total)\",\"Nutrient potash K2O (total)\",\"Nutrient potash K2O (total)\",\"Nutrient potash K2O (total)\",\"Nutrient potash K2O (total)\",\"Nutrient potash K2O (total)\",\"Nutrient potash K2O (total)\",\"Nutrient potash K2O (total)\",\"Nutrient potash K2O (total)\"],\"xaxis\":\"x\",\"y\":[144,212,2486,1344,1225,744,1400,2670,2100,1900,2400,5800,7600,9618,9643,21772,24948,28581,24677,33205,42880,45100,24533,40078,32757,23297,24062,23172,16555,29669,8425,20443,21200,18100,22800,10900,20500,23944,26449,35301,36408,43924,16564,15499,37545,28013,19427,19849,29549,25291,28954,54173,54173,47260,60973],\"yaxis\":\"y\",\"type\":\"bar\"}],                        {\"template\":{\"data\":{\"histogram2dcontour\":[{\"type\":\"histogram2dcontour\",\"colorbar\":{\"outlinewidth\":0,\"ticks\":\"\"},\"colorscale\":[[0.0,\"#0d0887\"],[0.1111111111111111,\"#46039f\"],[0.2222222222222222,\"#7201a8\"],[0.3333333333333333,\"#9c179e\"],[0.4444444444444444,\"#bd3786\"],[0.5555555555555556,\"#d8576b\"],[0.6666666666666666,\"#ed7953\"],[0.7777777777777778,\"#fb9f3a\"],[0.8888888888888888,\"#fdca26\"],[1.0,\"#f0f921\"]]}],\"choropleth\":[{\"type\":\"choropleth\",\"colorbar\":{\"outlinewidth\":0,\"ticks\":\"\"}}],\"histogram2d\":[{\"type\":\"histogram2d\",\"colorbar\":{\"outlinewidth\":0,\"ticks\":\"\"},\"colorscale\":[[0.0,\"#0d0887\"],[0.1111111111111111,\"#46039f\"],[0.2222222222222222,\"#7201a8\"],[0.3333333333333333,\"#9c179e\"],[0.4444444444444444,\"#bd3786\"],[0.5555555555555556,\"#d8576b\"],[0.6666666666666666,\"#ed7953\"],[0.7777777777777778,\"#fb9f3a\"],[0.8888888888888888,\"#fdca26\"],[1.0,\"#f0f921\"]]}],\"heatmap\":[{\"type\":\"heatmap\",\"colorbar\":{\"outlinewidth\":0,\"ticks\":\"\"},\"colorscale\":[[0.0,\"#0d0887\"],[0.1111111111111111,\"#46039f\"],[0.2222222222222222,\"#7201a8\"],[0.3333333333333333,\"#9c179e\"],[0.4444444444444444,\"#bd3786\"],[0.5555555555555556,\"#d8576b\"],[0.6666666666666666,\"#ed7953\"],[0.7777777777777778,\"#fb9f3a\"],[0.8888888888888888,\"#fdca26\"],[1.0,\"#f0f921\"]]}],\"heatmapgl\":[{\"type\":\"heatmapgl\",\"colorbar\":{\"outlinewidth\":0,\"ticks\":\"\"},\"colorscale\":[[0.0,\"#0d0887\"],[0.1111111111111111,\"#46039f\"],[0.2222222222222222,\"#7201a8\"],[0.3333333333333333,\"#9c179e\"],[0.4444444444444444,\"#bd3786\"],[0.5555555555555556,\"#d8576b\"],[0.6666666666666666,\"#ed7953\"],[0.7777777777777778,\"#fb9f3a\"],[0.8888888888888888,\"#fdca26\"],[1.0,\"#f0f921\"]]}],\"contourcarpet\":[{\"type\":\"contourcarpet\",\"colorbar\":{\"outlinewidth\":0,\"ticks\":\"\"}}],\"contour\":[{\"type\":\"contour\",\"colorbar\":{\"outlinewidth\":0,\"ticks\":\"\"},\"colorscale\":[[0.0,\"#0d0887\"],[0.1111111111111111,\"#46039f\"],[0.2222222222222222,\"#7201a8\"],[0.3333333333333333,\"#9c179e\"],[0.4444444444444444,\"#bd3786\"],[0.5555555555555556,\"#d8576b\"],[0.6666666666666666,\"#ed7953\"],[0.7777777777777778,\"#fb9f3a\"],[0.8888888888888888,\"#fdca26\"],[1.0,\"#f0f921\"]]}],\"surface\":[{\"type\":\"surface\",\"colorbar\":{\"outlinewidth\":0,\"ticks\":\"\"},\"colorscale\":[[0.0,\"#0d0887\"],[0.1111111111111111,\"#46039f\"],[0.2222222222222222,\"#7201a8\"],[0.3333333333333333,\"#9c179e\"],[0.4444444444444444,\"#bd3786\"],[0.5555555555555556,\"#d8576b\"],[0.6666666666666666,\"#ed7953\"],[0.7777777777777778,\"#fb9f3a\"],[0.8888888888888888,\"#fdca26\"],[1.0,\"#f0f921\"]]}],\"mesh3d\":[{\"type\":\"mesh3d\",\"colorbar\":{\"outlinewidth\":0,\"ticks\":\"\"}}],\"scatter\":[{\"fillpattern\":{\"fillmode\":\"overlay\",\"size\":10,\"solidity\":0.2},\"type\":\"scatter\"}],\"parcoords\":[{\"type\":\"parcoords\",\"line\":{\"colorbar\":{\"outlinewidth\":0,\"ticks\":\"\"}}}],\"scatterpolargl\":[{\"type\":\"scatterpolargl\",\"marker\":{\"colorbar\":{\"outlinewidth\":0,\"ticks\":\"\"}}}],\"bar\":[{\"error_x\":{\"color\":\"#2a3f5f\"},\"error_y\":{\"color\":\"#2a3f5f\"},\"marker\":{\"line\":{\"color\":\"#E5ECF6\",\"width\":0.5},\"pattern\":{\"fillmode\":\"overlay\",\"size\":10,\"solidity\":0.2}},\"type\":\"bar\"}],\"scattergeo\":[{\"type\":\"scattergeo\",\"marker\":{\"colorbar\":{\"outlinewidth\":0,\"ticks\":\"\"}}}],\"scatterpolar\":[{\"type\":\"scatterpolar\",\"marker\":{\"colorbar\":{\"outlinewidth\":0,\"ticks\":\"\"}}}],\"histogram\":[{\"marker\":{\"pattern\":{\"fillmode\":\"overlay\",\"size\":10,\"solidity\":0.2}},\"type\":\"histogram\"}],\"scattergl\":[{\"type\":\"scattergl\",\"marker\":{\"colorbar\":{\"outlinewidth\":0,\"ticks\":\"\"}}}],\"scatter3d\":[{\"type\":\"scatter3d\",\"line\":{\"colorbar\":{\"outlinewidth\":0,\"ticks\":\"\"}},\"marker\":{\"colorbar\":{\"outlinewidth\":0,\"ticks\":\"\"}}}],\"scattermapbox\":[{\"type\":\"scattermapbox\",\"marker\":{\"colorbar\":{\"outlinewidth\":0,\"ticks\":\"\"}}}],\"scatterternary\":[{\"type\":\"scatterternary\",\"marker\":{\"colorbar\":{\"outlinewidth\":0,\"ticks\":\"\"}}}],\"scattercarpet\":[{\"type\":\"scattercarpet\",\"marker\":{\"colorbar\":{\"outlinewidth\":0,\"ticks\":\"\"}}}],\"carpet\":[{\"aaxis\":{\"endlinecolor\":\"#2a3f5f\",\"gridcolor\":\"white\",\"linecolor\":\"white\",\"minorgridcolor\":\"white\",\"startlinecolor\":\"#2a3f5f\"},\"baxis\":{\"endlinecolor\":\"#2a3f5f\",\"gridcolor\":\"white\",\"linecolor\":\"white\",\"minorgridcolor\":\"white\",\"startlinecolor\":\"#2a3f5f\"},\"type\":\"carpet\"}],\"table\":[{\"cells\":{\"fill\":{\"color\":\"#EBF0F8\"},\"line\":{\"color\":\"white\"}},\"header\":{\"fill\":{\"color\":\"#C8D4E3\"},\"line\":{\"color\":\"white\"}},\"type\":\"table\"}],\"barpolar\":[{\"marker\":{\"line\":{\"color\":\"#E5ECF6\",\"width\":0.5},\"pattern\":{\"fillmode\":\"overlay\",\"size\":10,\"solidity\":0.2}},\"type\":\"barpolar\"}],\"pie\":[{\"automargin\":true,\"type\":\"pie\"}]},\"layout\":{\"autotypenumbers\":\"strict\",\"colorway\":[\"#636efa\",\"#EF553B\",\"#00cc96\",\"#ab63fa\",\"#FFA15A\",\"#19d3f3\",\"#FF6692\",\"#B6E880\",\"#FF97FF\",\"#FECB52\"],\"font\":{\"color\":\"#2a3f5f\"},\"hovermode\":\"closest\",\"hoverlabel\":{\"align\":\"left\"},\"paper_bgcolor\":\"white\",\"plot_bgcolor\":\"#E5ECF6\",\"polar\":{\"bgcolor\":\"#E5ECF6\",\"angularaxis\":{\"gridcolor\":\"white\",\"linecolor\":\"white\",\"ticks\":\"\"},\"radialaxis\":{\"gridcolor\":\"white\",\"linecolor\":\"white\",\"ticks\":\"\"}},\"ternary\":{\"bgcolor\":\"#E5ECF6\",\"aaxis\":{\"gridcolor\":\"white\",\"linecolor\":\"white\",\"ticks\":\"\"},\"baxis\":{\"gridcolor\":\"white\",\"linecolor\":\"white\",\"ticks\":\"\"},\"caxis\":{\"gridcolor\":\"white\",\"linecolor\":\"white\",\"ticks\":\"\"}},\"coloraxis\":{\"colorbar\":{\"outlinewidth\":0,\"ticks\":\"\"}},\"colorscale\":{\"sequential\":[[0.0,\"#0d0887\"],[0.1111111111111111,\"#46039f\"],[0.2222222222222222,\"#7201a8\"],[0.3333333333333333,\"#9c179e\"],[0.4444444444444444,\"#bd3786\"],[0.5555555555555556,\"#d8576b\"],[0.6666666666666666,\"#ed7953\"],[0.7777777777777778,\"#fb9f3a\"],[0.8888888888888888,\"#fdca26\"],[1.0,\"#f0f921\"]],\"sequentialminus\":[[0.0,\"#0d0887\"],[0.1111111111111111,\"#46039f\"],[0.2222222222222222,\"#7201a8\"],[0.3333333333333333,\"#9c179e\"],[0.4444444444444444,\"#bd3786\"],[0.5555555555555556,\"#d8576b\"],[0.6666666666666666,\"#ed7953\"],[0.7777777777777778,\"#fb9f3a\"],[0.8888888888888888,\"#fdca26\"],[1.0,\"#f0f921\"]],\"diverging\":[[0,\"#8e0152\"],[0.1,\"#c51b7d\"],[0.2,\"#de77ae\"],[0.3,\"#f1b6da\"],[0.4,\"#fde0ef\"],[0.5,\"#f7f7f7\"],[0.6,\"#e6f5d0\"],[0.7,\"#b8e186\"],[0.8,\"#7fbc41\"],[0.9,\"#4d9221\"],[1,\"#276419\"]]},\"xaxis\":{\"gridcolor\":\"white\",\"linecolor\":\"white\",\"ticks\":\"\",\"title\":{\"standoff\":15},\"zerolinecolor\":\"white\",\"automargin\":true,\"zerolinewidth\":2},\"yaxis\":{\"gridcolor\":\"white\",\"linecolor\":\"white\",\"ticks\":\"\",\"title\":{\"standoff\":15},\"zerolinecolor\":\"white\",\"automargin\":true,\"zerolinewidth\":2},\"scene\":{\"xaxis\":{\"backgroundcolor\":\"#E5ECF6\",\"gridcolor\":\"white\",\"linecolor\":\"white\",\"showbackground\":true,\"ticks\":\"\",\"zerolinecolor\":\"white\",\"gridwidth\":2},\"yaxis\":{\"backgroundcolor\":\"#E5ECF6\",\"gridcolor\":\"white\",\"linecolor\":\"white\",\"showbackground\":true,\"ticks\":\"\",\"zerolinecolor\":\"white\",\"gridwidth\":2},\"zaxis\":{\"backgroundcolor\":\"#E5ECF6\",\"gridcolor\":\"white\",\"linecolor\":\"white\",\"showbackground\":true,\"ticks\":\"\",\"zerolinecolor\":\"white\",\"gridwidth\":2}},\"shapedefaults\":{\"line\":{\"color\":\"#2a3f5f\"}},\"annotationdefaults\":{\"arrowcolor\":\"#2a3f5f\",\"arrowhead\":0,\"arrowwidth\":1},\"geo\":{\"bgcolor\":\"white\",\"landcolor\":\"#E5ECF6\",\"subunitcolor\":\"white\",\"showland\":true,\"showlakes\":true,\"lakecolor\":\"white\"},\"title\":{\"x\":0.05},\"mapbox\":{\"style\":\"light\"}}},\"xaxis\":{\"anchor\":\"y\",\"domain\":[0.0,1.0],\"title\":{\"text\":\"Item\"},\"categoryorder\":\"array\",\"categoryarray\":[\"Nutrient nitrogen N (total)\",\"Nutrient phosphate P2O5 (total)\",\"Nutrient potash K2O (total)\"]},\"yaxis\":{\"anchor\":\"x\",\"domain\":[0.0,1.0],\"title\":{\"text\":\"Value\"}},\"legend\":{\"title\":{\"text\":\"Item\"},\"tracegroupgap\":0},\"margin\":{\"t\":60},\"barmode\":\"relative\"},                        {\"responsive\": true}                    )                };                            </script>        </div>"
      ],
      "text/plain": [
       "Figure({\n",
       "    'data': [{'alignmentgroup': 'True',\n",
       "              'hovertemplate': 'Item=%{x}<br>Value=%{y}<extra></extra>',\n",
       "              'legendgroup': 'Nutrient nitrogen N (total)',\n",
       "              'marker': {'color': '#636efa', 'pattern': {'shape': '|'}},\n",
       "              'name': 'Nutrient nitrogen N (total)',\n",
       "              'offsetgroup': 'Nutrient nitrogen N (total)',\n",
       "              'orientation': 'v',\n",
       "              'showlegend': True,\n",
       "              'textposition': 'auto',\n",
       "              'type': 'bar',\n",
       "              'x': array(['Nutrient nitrogen N (total)', 'Nutrient nitrogen N (total)',\n",
       "                          'Nutrient nitrogen N (total)', 'Nutrient nitrogen N (total)',\n",
       "                          'Nutrient nitrogen N (total)', 'Nutrient nitrogen N (total)',\n",
       "                          'Nutrient nitrogen N (total)', 'Nutrient nitrogen N (total)',\n",
       "                          'Nutrient nitrogen N (total)', 'Nutrient nitrogen N (total)',\n",
       "                          'Nutrient nitrogen N (total)', 'Nutrient nitrogen N (total)',\n",
       "                          'Nutrient nitrogen N (total)', 'Nutrient nitrogen N (total)',\n",
       "                          'Nutrient nitrogen N (total)', 'Nutrient nitrogen N (total)',\n",
       "                          'Nutrient nitrogen N (total)', 'Nutrient nitrogen N (total)',\n",
       "                          'Nutrient nitrogen N (total)', 'Nutrient nitrogen N (total)',\n",
       "                          'Nutrient nitrogen N (total)', 'Nutrient nitrogen N (total)',\n",
       "                          'Nutrient nitrogen N (total)', 'Nutrient nitrogen N (total)',\n",
       "                          'Nutrient nitrogen N (total)', 'Nutrient nitrogen N (total)',\n",
       "                          'Nutrient nitrogen N (total)', 'Nutrient nitrogen N (total)',\n",
       "                          'Nutrient nitrogen N (total)', 'Nutrient nitrogen N (total)',\n",
       "                          'Nutrient nitrogen N (total)', 'Nutrient nitrogen N (total)',\n",
       "                          'Nutrient nitrogen N (total)', 'Nutrient nitrogen N (total)',\n",
       "                          'Nutrient nitrogen N (total)', 'Nutrient nitrogen N (total)',\n",
       "                          'Nutrient nitrogen N (total)', 'Nutrient nitrogen N (total)',\n",
       "                          'Nutrient nitrogen N (total)', 'Nutrient nitrogen N (total)',\n",
       "                          'Nutrient nitrogen N (total)', 'Nutrient nitrogen N (total)',\n",
       "                          'Nutrient nitrogen N (total)', 'Nutrient nitrogen N (total)',\n",
       "                          'Nutrient nitrogen N (total)', 'Nutrient nitrogen N (total)',\n",
       "                          'Nutrient nitrogen N (total)', 'Nutrient nitrogen N (total)',\n",
       "                          'Nutrient nitrogen N (total)', 'Nutrient nitrogen N (total)',\n",
       "                          'Nutrient nitrogen N (total)', 'Nutrient nitrogen N (total)',\n",
       "                          'Nutrient nitrogen N (total)', 'Nutrient nitrogen N (total)',\n",
       "                          'Nutrient nitrogen N (total)', 'Nutrient nitrogen N (total)',\n",
       "                          'Nutrient nitrogen N (total)', 'Nutrient nitrogen N (total)',\n",
       "                          'Nutrient nitrogen N (total)', 'Nutrient nitrogen N (total)'],\n",
       "                         dtype=object),\n",
       "              'xaxis': 'x',\n",
       "              'y': array([  41659,   41160,   67620,   84147,   69242,  107779,  177441,  203521,\n",
       "                           272566,  251519,  343973,  386230,  341944,  362900,  443451,  511000,\n",
       "                           554100,  684300,  775804,  843574,  832572,  954083,  914317,  934498,\n",
       "                          1128138, 1332570, 1281700, 1324453, 1467590, 1471642, 1462862, 1636323,\n",
       "                          1659350, 1738117, 1991006, 1985080, 2087607, 2091852, 2218100, 2264600,\n",
       "                          2291610, 2384980, 2456009, 2570230, 2818779, 2868984, 2714053, 2928057,\n",
       "                          3451900, 3270531, 3187339, 2850771, 3239557, 3139263, 3160507, 3241907,\n",
       "                          3446922, 3446922, 3505356, 3533784], dtype=int64),\n",
       "              'yaxis': 'y'},\n",
       "             {'alignmentgroup': 'True',\n",
       "              'hovertemplate': 'Item=%{x}<br>Value=%{y}<extra></extra>',\n",
       "              'legendgroup': 'Nutrient phosphate P2O5 (total)',\n",
       "              'marker': {'color': '#EF553B', 'pattern': {'shape': '/'}},\n",
       "              'name': 'Nutrient phosphate P2O5 (total)',\n",
       "              'offsetgroup': 'Nutrient phosphate P2O5 (total)',\n",
       "              'orientation': 'v',\n",
       "              'showlegend': True,\n",
       "              'textposition': 'auto',\n",
       "              'type': 'bar',\n",
       "              'x': array(['Nutrient phosphate P2O5 (total)', 'Nutrient phosphate P2O5 (total)',\n",
       "                          'Nutrient phosphate P2O5 (total)', 'Nutrient phosphate P2O5 (total)',\n",
       "                          'Nutrient phosphate P2O5 (total)', 'Nutrient phosphate P2O5 (total)',\n",
       "                          'Nutrient phosphate P2O5 (total)', 'Nutrient phosphate P2O5 (total)',\n",
       "                          'Nutrient phosphate P2O5 (total)', 'Nutrient phosphate P2O5 (total)',\n",
       "                          'Nutrient phosphate P2O5 (total)', 'Nutrient phosphate P2O5 (total)',\n",
       "                          'Nutrient phosphate P2O5 (total)', 'Nutrient phosphate P2O5 (total)',\n",
       "                          'Nutrient phosphate P2O5 (total)', 'Nutrient phosphate P2O5 (total)',\n",
       "                          'Nutrient phosphate P2O5 (total)', 'Nutrient phosphate P2O5 (total)',\n",
       "                          'Nutrient phosphate P2O5 (total)', 'Nutrient phosphate P2O5 (total)',\n",
       "                          'Nutrient phosphate P2O5 (total)', 'Nutrient phosphate P2O5 (total)',\n",
       "                          'Nutrient phosphate P2O5 (total)', 'Nutrient phosphate P2O5 (total)',\n",
       "                          'Nutrient phosphate P2O5 (total)', 'Nutrient phosphate P2O5 (total)',\n",
       "                          'Nutrient phosphate P2O5 (total)', 'Nutrient phosphate P2O5 (total)',\n",
       "                          'Nutrient phosphate P2O5 (total)', 'Nutrient phosphate P2O5 (total)',\n",
       "                          'Nutrient phosphate P2O5 (total)', 'Nutrient phosphate P2O5 (total)',\n",
       "                          'Nutrient phosphate P2O5 (total)', 'Nutrient phosphate P2O5 (total)',\n",
       "                          'Nutrient phosphate P2O5 (total)', 'Nutrient phosphate P2O5 (total)',\n",
       "                          'Nutrient phosphate P2O5 (total)', 'Nutrient phosphate P2O5 (total)',\n",
       "                          'Nutrient phosphate P2O5 (total)', 'Nutrient phosphate P2O5 (total)',\n",
       "                          'Nutrient phosphate P2O5 (total)', 'Nutrient phosphate P2O5 (total)',\n",
       "                          'Nutrient phosphate P2O5 (total)', 'Nutrient phosphate P2O5 (total)',\n",
       "                          'Nutrient phosphate P2O5 (total)', 'Nutrient phosphate P2O5 (total)',\n",
       "                          'Nutrient phosphate P2O5 (total)', 'Nutrient phosphate P2O5 (total)',\n",
       "                          'Nutrient phosphate P2O5 (total)', 'Nutrient phosphate P2O5 (total)',\n",
       "                          'Nutrient phosphate P2O5 (total)', 'Nutrient phosphate P2O5 (total)',\n",
       "                          'Nutrient phosphate P2O5 (total)', 'Nutrient phosphate P2O5 (total)',\n",
       "                          'Nutrient phosphate P2O5 (total)', 'Nutrient phosphate P2O5 (total)',\n",
       "                          'Nutrient phosphate P2O5 (total)', 'Nutrient phosphate P2O5 (total)',\n",
       "                          'Nutrient phosphate P2O5 (total)', 'Nutrient phosphate P2O5 (total)'],\n",
       "                         dtype=object),\n",
       "              'xaxis': 'x',\n",
       "              'y': array([    500,     210,     630,    1029,    1245,    3911,   12777,   38642,\n",
       "                            33801,   30462,   37231,   48730,   58066,   60500,  108500,  117900,\n",
       "                           157300,  187900,  201086,  226487,  225502,  265285,  261400,  293829,\n",
       "                           349776,  409750,  393400,  390406,  382457,  388500,  397974,  487530,\n",
       "                           464258,  428900,  494449,  419474,  551284,  465000,  596800,  675100,\n",
       "                           641940,  647360,  669307,  761031,  871416,  906749,  816044,  565675,\n",
       "                           778714,  756700,  653181,  678840,  875452,  936148,  993338, 1209145,\n",
       "                          1257773, 1257773, 1099707, 1204060], dtype=int64),\n",
       "              'yaxis': 'y'},\n",
       "             {'alignmentgroup': 'True',\n",
       "              'hovertemplate': 'Item=%{x}<br>Value=%{y}<extra></extra>',\n",
       "              'legendgroup': 'Nutrient potash K2O (total)',\n",
       "              'marker': {'color': '#00cc96', 'pattern': {'shape': '+'}},\n",
       "              'name': 'Nutrient potash K2O (total)',\n",
       "              'offsetgroup': 'Nutrient potash K2O (total)',\n",
       "              'orientation': 'v',\n",
       "              'showlegend': True,\n",
       "              'textposition': 'auto',\n",
       "              'type': 'bar',\n",
       "              'x': array(['Nutrient potash K2O (total)', 'Nutrient potash K2O (total)',\n",
       "                          'Nutrient potash K2O (total)', 'Nutrient potash K2O (total)',\n",
       "                          'Nutrient potash K2O (total)', 'Nutrient potash K2O (total)',\n",
       "                          'Nutrient potash K2O (total)', 'Nutrient potash K2O (total)',\n",
       "                          'Nutrient potash K2O (total)', 'Nutrient potash K2O (total)',\n",
       "                          'Nutrient potash K2O (total)', 'Nutrient potash K2O (total)',\n",
       "                          'Nutrient potash K2O (total)', 'Nutrient potash K2O (total)',\n",
       "                          'Nutrient potash K2O (total)', 'Nutrient potash K2O (total)',\n",
       "                          'Nutrient potash K2O (total)', 'Nutrient potash K2O (total)',\n",
       "                          'Nutrient potash K2O (total)', 'Nutrient potash K2O (total)',\n",
       "                          'Nutrient potash K2O (total)', 'Nutrient potash K2O (total)',\n",
       "                          'Nutrient potash K2O (total)', 'Nutrient potash K2O (total)',\n",
       "                          'Nutrient potash K2O (total)', 'Nutrient potash K2O (total)',\n",
       "                          'Nutrient potash K2O (total)', 'Nutrient potash K2O (total)',\n",
       "                          'Nutrient potash K2O (total)', 'Nutrient potash K2O (total)',\n",
       "                          'Nutrient potash K2O (total)', 'Nutrient potash K2O (total)',\n",
       "                          'Nutrient potash K2O (total)', 'Nutrient potash K2O (total)',\n",
       "                          'Nutrient potash K2O (total)', 'Nutrient potash K2O (total)',\n",
       "                          'Nutrient potash K2O (total)', 'Nutrient potash K2O (total)',\n",
       "                          'Nutrient potash K2O (total)', 'Nutrient potash K2O (total)',\n",
       "                          'Nutrient potash K2O (total)', 'Nutrient potash K2O (total)',\n",
       "                          'Nutrient potash K2O (total)', 'Nutrient potash K2O (total)',\n",
       "                          'Nutrient potash K2O (total)', 'Nutrient potash K2O (total)',\n",
       "                          'Nutrient potash K2O (total)', 'Nutrient potash K2O (total)',\n",
       "                          'Nutrient potash K2O (total)', 'Nutrient potash K2O (total)',\n",
       "                          'Nutrient potash K2O (total)', 'Nutrient potash K2O (total)',\n",
       "                          'Nutrient potash K2O (total)', 'Nutrient potash K2O (total)',\n",
       "                          'Nutrient potash K2O (total)'], dtype=object),\n",
       "              'xaxis': 'x',\n",
       "              'y': array([  144,   212,  2486,  1344,  1225,   744,  1400,  2670,  2100,  1900,\n",
       "                           2400,  5800,  7600,  9618,  9643, 21772, 24948, 28581, 24677, 33205,\n",
       "                          42880, 45100, 24533, 40078, 32757, 23297, 24062, 23172, 16555, 29669,\n",
       "                           8425, 20443, 21200, 18100, 22800, 10900, 20500, 23944, 26449, 35301,\n",
       "                          36408, 43924, 16564, 15499, 37545, 28013, 19427, 19849, 29549, 25291,\n",
       "                          28954, 54173, 54173, 47260, 60973], dtype=int64),\n",
       "              'yaxis': 'y'}],\n",
       "    'layout': {'barmode': 'relative',\n",
       "               'legend': {'title': {'text': 'Item'}, 'tracegroupgap': 0},\n",
       "               'margin': {'t': 60},\n",
       "               'template': '...',\n",
       "               'xaxis': {'anchor': 'y',\n",
       "                         'categoryarray': [Nutrient nitrogen N (total), Nutrient\n",
       "                                           phosphate P2O5 (total), Nutrient potash\n",
       "                                           K2O (total)],\n",
       "                         'categoryorder': 'array',\n",
       "                         'domain': [0.0, 1.0],\n",
       "                         'title': {'text': 'Item'}},\n",
       "               'yaxis': {'anchor': 'x', 'domain': [0.0, 1.0], 'title': {'text': 'Value'}}}\n",
       "})"
      ]
     },
     "execution_count": 57,
     "metadata": {},
     "output_type": "execute_result"
    }
   ],
   "source": [
    "px.bar(df_fur_clean, x=\"Item\", y=\"Value\", color=\"Item\",\n",
    "             pattern_shape=\"Item\", pattern_shape_sequence=[\"|\", \"/\", \"+\"])"
   ]
  },
  {
   "cell_type": "code",
   "execution_count": 58,
   "metadata": {},
   "outputs": [
    {
     "ename": "ValueError",
     "evalue": "Mime type rendering requires nbformat>=4.2.0 but it is not installed",
     "output_type": "error",
     "traceback": [
      "\u001b[1;31m---------------------------------------------------------------------------\u001b[0m",
      "\u001b[1;31mValueError\u001b[0m                                Traceback (most recent call last)",
      "File \u001b[1;32mc:\\Users\\Administrator\\AppData\\Local\\Programs\\Python\\Python310\\lib\\site-packages\\IPython\\core\\formatters.py:921\u001b[0m, in \u001b[0;36mIPythonDisplayFormatter.__call__\u001b[1;34m(self, obj)\u001b[0m\n\u001b[0;32m    919\u001b[0m method \u001b[39m=\u001b[39m get_real_method(obj, \u001b[39mself\u001b[39m\u001b[39m.\u001b[39mprint_method)\n\u001b[0;32m    920\u001b[0m \u001b[39mif\u001b[39;00m method \u001b[39mis\u001b[39;00m \u001b[39mnot\u001b[39;00m \u001b[39mNone\u001b[39;00m:\n\u001b[1;32m--> 921\u001b[0m     method()\n\u001b[0;32m    922\u001b[0m     \u001b[39mreturn\u001b[39;00m \u001b[39mTrue\u001b[39;00m\n",
      "File \u001b[1;32mc:\\Users\\Administrator\\AppData\\Local\\Programs\\Python\\Python310\\lib\\site-packages\\plotly\\basedatatypes.py:842\u001b[0m, in \u001b[0;36mBaseFigure._ipython_display_\u001b[1;34m(self)\u001b[0m\n\u001b[0;32m    839\u001b[0m \u001b[39mimport\u001b[39;00m \u001b[39mplotly\u001b[39;00m\u001b[39m.\u001b[39;00m\u001b[39mio\u001b[39;00m \u001b[39mas\u001b[39;00m \u001b[39mpio\u001b[39;00m\n\u001b[0;32m    841\u001b[0m \u001b[39mif\u001b[39;00m pio\u001b[39m.\u001b[39mrenderers\u001b[39m.\u001b[39mrender_on_display \u001b[39mand\u001b[39;00m pio\u001b[39m.\u001b[39mrenderers\u001b[39m.\u001b[39mdefault:\n\u001b[1;32m--> 842\u001b[0m     pio\u001b[39m.\u001b[39;49mshow(\u001b[39mself\u001b[39;49m)\n\u001b[0;32m    843\u001b[0m \u001b[39melse\u001b[39;00m:\n\u001b[0;32m    844\u001b[0m     \u001b[39mprint\u001b[39m(\u001b[39mrepr\u001b[39m(\u001b[39mself\u001b[39m))\n",
      "File \u001b[1;32mc:\\Users\\Administrator\\AppData\\Local\\Programs\\Python\\Python310\\lib\\site-packages\\plotly\\io\\_renderers.py:396\u001b[0m, in \u001b[0;36mshow\u001b[1;34m(fig, renderer, validate, **kwargs)\u001b[0m\n\u001b[0;32m    391\u001b[0m         \u001b[39mraise\u001b[39;00m \u001b[39mValueError\u001b[39;00m(\n\u001b[0;32m    392\u001b[0m             \u001b[39m\"\u001b[39m\u001b[39mMime type rendering requires ipython but it is not installed\u001b[39m\u001b[39m\"\u001b[39m\n\u001b[0;32m    393\u001b[0m         )\n\u001b[0;32m    395\u001b[0m     \u001b[39mif\u001b[39;00m \u001b[39mnot\u001b[39;00m nbformat \u001b[39mor\u001b[39;00m LooseVersion(nbformat\u001b[39m.\u001b[39m__version__) \u001b[39m<\u001b[39m LooseVersion(\u001b[39m\"\u001b[39m\u001b[39m4.2.0\u001b[39m\u001b[39m\"\u001b[39m):\n\u001b[1;32m--> 396\u001b[0m         \u001b[39mraise\u001b[39;00m \u001b[39mValueError\u001b[39;00m(\n\u001b[0;32m    397\u001b[0m             \u001b[39m\"\u001b[39m\u001b[39mMime type rendering requires nbformat>=4.2.0 but it is not installed\u001b[39m\u001b[39m\"\u001b[39m\n\u001b[0;32m    398\u001b[0m         )\n\u001b[0;32m    400\u001b[0m     ipython_display\u001b[39m.\u001b[39mdisplay(bundle, raw\u001b[39m=\u001b[39m\u001b[39mTrue\u001b[39;00m)\n\u001b[0;32m    402\u001b[0m \u001b[39m# external renderers\u001b[39;00m\n",
      "\u001b[1;31mValueError\u001b[0m: Mime type rendering requires nbformat>=4.2.0 but it is not installed"
     ]
    },
    {
     "data": {
      "application/vnd.plotly.v1+json": {
       "config": {
        "plotlyServerURL": "https://plot.ly"
       },
       "data": [
        {
         "hovertemplate": "Item=Nutrient nitrogen N (total)<br>Year=%{x}<br>Value=%{y}<extra></extra>",
         "legendgroup": "Nutrient nitrogen N (total)",
         "marker": {
          "color": "#636efa",
          "symbol": "circle"
         },
         "mode": "markers",
         "name": "Nutrient nitrogen N (total)",
         "orientation": "v",
         "showlegend": true,
         "type": "scatter",
         "x": [
          1961,
          1962,
          1963,
          1964,
          1965,
          1966,
          1967,
          1968,
          1969,
          1970,
          1971,
          1972,
          1973,
          1974,
          1975,
          1976,
          1977,
          1978,
          1979,
          1980,
          1981,
          1982,
          1983,
          1984,
          1985,
          1986,
          1987,
          1988,
          1989,
          1990,
          1991,
          1992,
          1993,
          1994,
          1995,
          1996,
          1997,
          1998,
          1999,
          2000,
          2001,
          2002,
          2003,
          2004,
          2005,
          2006,
          2007,
          2008,
          2009,
          2010,
          2011,
          2012,
          2013,
          2014,
          2015,
          2016,
          2017,
          2018,
          2019,
          2020
         ],
         "xaxis": "x",
         "y": [
          41659,
          41160,
          67620,
          84147,
          69242,
          107779,
          177441,
          203521,
          272566,
          251519,
          343973,
          386230,
          341944,
          362900,
          443451,
          511000,
          554100,
          684300,
          775804,
          843574,
          832572,
          954083,
          914317,
          934498,
          1128138,
          1332570,
          1281700,
          1324453,
          1467590,
          1471642,
          1462862,
          1636323,
          1659350,
          1738117,
          1991006,
          1985080,
          2087607,
          2091852,
          2218100,
          2264600,
          2291610,
          2384980,
          2456009,
          2570230,
          2818779,
          2868984,
          2714053,
          2928057,
          3451900,
          3270531,
          3187339,
          2850771,
          3239557,
          3139263,
          3160507,
          3241907,
          3446922,
          3446922,
          3505356,
          3533784
         ],
         "yaxis": "y"
        },
        {
         "hovertemplate": "Item=Nutrient phosphate P2O5 (total)<br>Year=%{x}<br>Value=%{y}<extra></extra>",
         "legendgroup": "Nutrient phosphate P2O5 (total)",
         "marker": {
          "color": "#EF553B",
          "symbol": "circle"
         },
         "mode": "markers",
         "name": "Nutrient phosphate P2O5 (total)",
         "orientation": "v",
         "showlegend": true,
         "type": "scatter",
         "x": [
          1961,
          1962,
          1963,
          1964,
          1965,
          1966,
          1967,
          1968,
          1969,
          1970,
          1971,
          1972,
          1973,
          1974,
          1975,
          1976,
          1977,
          1978,
          1979,
          1980,
          1981,
          1982,
          1983,
          1984,
          1985,
          1986,
          1987,
          1988,
          1989,
          1990,
          1991,
          1992,
          1993,
          1994,
          1995,
          1996,
          1997,
          1998,
          1999,
          2000,
          2001,
          2002,
          2003,
          2004,
          2005,
          2006,
          2007,
          2008,
          2009,
          2010,
          2011,
          2012,
          2013,
          2014,
          2015,
          2016,
          2017,
          2018,
          2019,
          2020
         ],
         "xaxis": "x",
         "y": [
          500,
          210,
          630,
          1029,
          1245,
          3911,
          12777,
          38642,
          33801,
          30462,
          37231,
          48730,
          58066,
          60500,
          108500,
          117900,
          157300,
          187900,
          201086,
          226487,
          225502,
          265285,
          261400,
          293829,
          349776,
          409750,
          393400,
          390406,
          382457,
          388500,
          397974,
          487530,
          464258,
          428900,
          494449,
          419474,
          551284,
          465000,
          596800,
          675100,
          641940,
          647360,
          669307,
          761031,
          871416,
          906749,
          816044,
          565675,
          778714,
          756700,
          653181,
          678840,
          875452,
          936148,
          993338,
          1209145,
          1257773,
          1257773,
          1099707,
          1204060
         ],
         "yaxis": "y"
        },
        {
         "hovertemplate": "Item=Nutrient potash K2O (total)<br>Year=%{x}<br>Value=%{y}<extra></extra>",
         "legendgroup": "Nutrient potash K2O (total)",
         "marker": {
          "color": "#00cc96",
          "symbol": "circle"
         },
         "mode": "markers",
         "name": "Nutrient potash K2O (total)",
         "orientation": "v",
         "showlegend": true,
         "type": "scatter",
         "x": [
          1966,
          1967,
          1968,
          1969,
          1970,
          1971,
          1972,
          1973,
          1974,
          1975,
          1976,
          1977,
          1978,
          1979,
          1980,
          1981,
          1982,
          1983,
          1984,
          1985,
          1986,
          1987,
          1988,
          1989,
          1990,
          1991,
          1992,
          1993,
          1994,
          1995,
          1996,
          1997,
          1998,
          1999,
          2000,
          2001,
          2002,
          2003,
          2004,
          2005,
          2006,
          2007,
          2008,
          2009,
          2010,
          2011,
          2012,
          2013,
          2014,
          2015,
          2016,
          2017,
          2018,
          2019,
          2020
         ],
         "xaxis": "x",
         "y": [
          144,
          212,
          2486,
          1344,
          1225,
          744,
          1400,
          2670,
          2100,
          1900,
          2400,
          5800,
          7600,
          9618,
          9643,
          21772,
          24948,
          28581,
          24677,
          33205,
          42880,
          45100,
          24533,
          40078,
          32757,
          23297,
          24062,
          23172,
          16555,
          29669,
          8425,
          20443,
          21200,
          18100,
          22800,
          10900,
          20500,
          23944,
          26449,
          35301,
          36408,
          43924,
          16564,
          15499,
          37545,
          28013,
          19427,
          19849,
          29549,
          25291,
          28954,
          54173,
          54173,
          47260,
          60973
         ],
         "yaxis": "y"
        }
       ],
       "layout": {
        "legend": {
         "title": {
          "text": "Item"
         },
         "tracegroupgap": 0
        },
        "margin": {
         "t": 60
        },
        "template": {
         "data": {
          "bar": [
           {
            "error_x": {
             "color": "#2a3f5f"
            },
            "error_y": {
             "color": "#2a3f5f"
            },
            "marker": {
             "line": {
              "color": "#E5ECF6",
              "width": 0.5
             },
             "pattern": {
              "fillmode": "overlay",
              "size": 10,
              "solidity": 0.2
             }
            },
            "type": "bar"
           }
          ],
          "barpolar": [
           {
            "marker": {
             "line": {
              "color": "#E5ECF6",
              "width": 0.5
             },
             "pattern": {
              "fillmode": "overlay",
              "size": 10,
              "solidity": 0.2
             }
            },
            "type": "barpolar"
           }
          ],
          "carpet": [
           {
            "aaxis": {
             "endlinecolor": "#2a3f5f",
             "gridcolor": "white",
             "linecolor": "white",
             "minorgridcolor": "white",
             "startlinecolor": "#2a3f5f"
            },
            "baxis": {
             "endlinecolor": "#2a3f5f",
             "gridcolor": "white",
             "linecolor": "white",
             "minorgridcolor": "white",
             "startlinecolor": "#2a3f5f"
            },
            "type": "carpet"
           }
          ],
          "choropleth": [
           {
            "colorbar": {
             "outlinewidth": 0,
             "ticks": ""
            },
            "type": "choropleth"
           }
          ],
          "contour": [
           {
            "colorbar": {
             "outlinewidth": 0,
             "ticks": ""
            },
            "colorscale": [
             [
              0,
              "#0d0887"
             ],
             [
              0.1111111111111111,
              "#46039f"
             ],
             [
              0.2222222222222222,
              "#7201a8"
             ],
             [
              0.3333333333333333,
              "#9c179e"
             ],
             [
              0.4444444444444444,
              "#bd3786"
             ],
             [
              0.5555555555555556,
              "#d8576b"
             ],
             [
              0.6666666666666666,
              "#ed7953"
             ],
             [
              0.7777777777777778,
              "#fb9f3a"
             ],
             [
              0.8888888888888888,
              "#fdca26"
             ],
             [
              1,
              "#f0f921"
             ]
            ],
            "type": "contour"
           }
          ],
          "contourcarpet": [
           {
            "colorbar": {
             "outlinewidth": 0,
             "ticks": ""
            },
            "type": "contourcarpet"
           }
          ],
          "heatmap": [
           {
            "colorbar": {
             "outlinewidth": 0,
             "ticks": ""
            },
            "colorscale": [
             [
              0,
              "#0d0887"
             ],
             [
              0.1111111111111111,
              "#46039f"
             ],
             [
              0.2222222222222222,
              "#7201a8"
             ],
             [
              0.3333333333333333,
              "#9c179e"
             ],
             [
              0.4444444444444444,
              "#bd3786"
             ],
             [
              0.5555555555555556,
              "#d8576b"
             ],
             [
              0.6666666666666666,
              "#ed7953"
             ],
             [
              0.7777777777777778,
              "#fb9f3a"
             ],
             [
              0.8888888888888888,
              "#fdca26"
             ],
             [
              1,
              "#f0f921"
             ]
            ],
            "type": "heatmap"
           }
          ],
          "heatmapgl": [
           {
            "colorbar": {
             "outlinewidth": 0,
             "ticks": ""
            },
            "colorscale": [
             [
              0,
              "#0d0887"
             ],
             [
              0.1111111111111111,
              "#46039f"
             ],
             [
              0.2222222222222222,
              "#7201a8"
             ],
             [
              0.3333333333333333,
              "#9c179e"
             ],
             [
              0.4444444444444444,
              "#bd3786"
             ],
             [
              0.5555555555555556,
              "#d8576b"
             ],
             [
              0.6666666666666666,
              "#ed7953"
             ],
             [
              0.7777777777777778,
              "#fb9f3a"
             ],
             [
              0.8888888888888888,
              "#fdca26"
             ],
             [
              1,
              "#f0f921"
             ]
            ],
            "type": "heatmapgl"
           }
          ],
          "histogram": [
           {
            "marker": {
             "pattern": {
              "fillmode": "overlay",
              "size": 10,
              "solidity": 0.2
             }
            },
            "type": "histogram"
           }
          ],
          "histogram2d": [
           {
            "colorbar": {
             "outlinewidth": 0,
             "ticks": ""
            },
            "colorscale": [
             [
              0,
              "#0d0887"
             ],
             [
              0.1111111111111111,
              "#46039f"
             ],
             [
              0.2222222222222222,
              "#7201a8"
             ],
             [
              0.3333333333333333,
              "#9c179e"
             ],
             [
              0.4444444444444444,
              "#bd3786"
             ],
             [
              0.5555555555555556,
              "#d8576b"
             ],
             [
              0.6666666666666666,
              "#ed7953"
             ],
             [
              0.7777777777777778,
              "#fb9f3a"
             ],
             [
              0.8888888888888888,
              "#fdca26"
             ],
             [
              1,
              "#f0f921"
             ]
            ],
            "type": "histogram2d"
           }
          ],
          "histogram2dcontour": [
           {
            "colorbar": {
             "outlinewidth": 0,
             "ticks": ""
            },
            "colorscale": [
             [
              0,
              "#0d0887"
             ],
             [
              0.1111111111111111,
              "#46039f"
             ],
             [
              0.2222222222222222,
              "#7201a8"
             ],
             [
              0.3333333333333333,
              "#9c179e"
             ],
             [
              0.4444444444444444,
              "#bd3786"
             ],
             [
              0.5555555555555556,
              "#d8576b"
             ],
             [
              0.6666666666666666,
              "#ed7953"
             ],
             [
              0.7777777777777778,
              "#fb9f3a"
             ],
             [
              0.8888888888888888,
              "#fdca26"
             ],
             [
              1,
              "#f0f921"
             ]
            ],
            "type": "histogram2dcontour"
           }
          ],
          "mesh3d": [
           {
            "colorbar": {
             "outlinewidth": 0,
             "ticks": ""
            },
            "type": "mesh3d"
           }
          ],
          "parcoords": [
           {
            "line": {
             "colorbar": {
              "outlinewidth": 0,
              "ticks": ""
             }
            },
            "type": "parcoords"
           }
          ],
          "pie": [
           {
            "automargin": true,
            "type": "pie"
           }
          ],
          "scatter": [
           {
            "fillpattern": {
             "fillmode": "overlay",
             "size": 10,
             "solidity": 0.2
            },
            "type": "scatter"
           }
          ],
          "scatter3d": [
           {
            "line": {
             "colorbar": {
              "outlinewidth": 0,
              "ticks": ""
             }
            },
            "marker": {
             "colorbar": {
              "outlinewidth": 0,
              "ticks": ""
             }
            },
            "type": "scatter3d"
           }
          ],
          "scattercarpet": [
           {
            "marker": {
             "colorbar": {
              "outlinewidth": 0,
              "ticks": ""
             }
            },
            "type": "scattercarpet"
           }
          ],
          "scattergeo": [
           {
            "marker": {
             "colorbar": {
              "outlinewidth": 0,
              "ticks": ""
             }
            },
            "type": "scattergeo"
           }
          ],
          "scattergl": [
           {
            "marker": {
             "colorbar": {
              "outlinewidth": 0,
              "ticks": ""
             }
            },
            "type": "scattergl"
           }
          ],
          "scattermapbox": [
           {
            "marker": {
             "colorbar": {
              "outlinewidth": 0,
              "ticks": ""
             }
            },
            "type": "scattermapbox"
           }
          ],
          "scatterpolar": [
           {
            "marker": {
             "colorbar": {
              "outlinewidth": 0,
              "ticks": ""
             }
            },
            "type": "scatterpolar"
           }
          ],
          "scatterpolargl": [
           {
            "marker": {
             "colorbar": {
              "outlinewidth": 0,
              "ticks": ""
             }
            },
            "type": "scatterpolargl"
           }
          ],
          "scatterternary": [
           {
            "marker": {
             "colorbar": {
              "outlinewidth": 0,
              "ticks": ""
             }
            },
            "type": "scatterternary"
           }
          ],
          "surface": [
           {
            "colorbar": {
             "outlinewidth": 0,
             "ticks": ""
            },
            "colorscale": [
             [
              0,
              "#0d0887"
             ],
             [
              0.1111111111111111,
              "#46039f"
             ],
             [
              0.2222222222222222,
              "#7201a8"
             ],
             [
              0.3333333333333333,
              "#9c179e"
             ],
             [
              0.4444444444444444,
              "#bd3786"
             ],
             [
              0.5555555555555556,
              "#d8576b"
             ],
             [
              0.6666666666666666,
              "#ed7953"
             ],
             [
              0.7777777777777778,
              "#fb9f3a"
             ],
             [
              0.8888888888888888,
              "#fdca26"
             ],
             [
              1,
              "#f0f921"
             ]
            ],
            "type": "surface"
           }
          ],
          "table": [
           {
            "cells": {
             "fill": {
              "color": "#EBF0F8"
             },
             "line": {
              "color": "white"
             }
            },
            "header": {
             "fill": {
              "color": "#C8D4E3"
             },
             "line": {
              "color": "white"
             }
            },
            "type": "table"
           }
          ]
         },
         "layout": {
          "annotationdefaults": {
           "arrowcolor": "#2a3f5f",
           "arrowhead": 0,
           "arrowwidth": 1
          },
          "autotypenumbers": "strict",
          "coloraxis": {
           "colorbar": {
            "outlinewidth": 0,
            "ticks": ""
           }
          },
          "colorscale": {
           "diverging": [
            [
             0,
             "#8e0152"
            ],
            [
             0.1,
             "#c51b7d"
            ],
            [
             0.2,
             "#de77ae"
            ],
            [
             0.3,
             "#f1b6da"
            ],
            [
             0.4,
             "#fde0ef"
            ],
            [
             0.5,
             "#f7f7f7"
            ],
            [
             0.6,
             "#e6f5d0"
            ],
            [
             0.7,
             "#b8e186"
            ],
            [
             0.8,
             "#7fbc41"
            ],
            [
             0.9,
             "#4d9221"
            ],
            [
             1,
             "#276419"
            ]
           ],
           "sequential": [
            [
             0,
             "#0d0887"
            ],
            [
             0.1111111111111111,
             "#46039f"
            ],
            [
             0.2222222222222222,
             "#7201a8"
            ],
            [
             0.3333333333333333,
             "#9c179e"
            ],
            [
             0.4444444444444444,
             "#bd3786"
            ],
            [
             0.5555555555555556,
             "#d8576b"
            ],
            [
             0.6666666666666666,
             "#ed7953"
            ],
            [
             0.7777777777777778,
             "#fb9f3a"
            ],
            [
             0.8888888888888888,
             "#fdca26"
            ],
            [
             1,
             "#f0f921"
            ]
           ],
           "sequentialminus": [
            [
             0,
             "#0d0887"
            ],
            [
             0.1111111111111111,
             "#46039f"
            ],
            [
             0.2222222222222222,
             "#7201a8"
            ],
            [
             0.3333333333333333,
             "#9c179e"
            ],
            [
             0.4444444444444444,
             "#bd3786"
            ],
            [
             0.5555555555555556,
             "#d8576b"
            ],
            [
             0.6666666666666666,
             "#ed7953"
            ],
            [
             0.7777777777777778,
             "#fb9f3a"
            ],
            [
             0.8888888888888888,
             "#fdca26"
            ],
            [
             1,
             "#f0f921"
            ]
           ]
          },
          "colorway": [
           "#636efa",
           "#EF553B",
           "#00cc96",
           "#ab63fa",
           "#FFA15A",
           "#19d3f3",
           "#FF6692",
           "#B6E880",
           "#FF97FF",
           "#FECB52"
          ],
          "font": {
           "color": "#2a3f5f"
          },
          "geo": {
           "bgcolor": "white",
           "lakecolor": "white",
           "landcolor": "#E5ECF6",
           "showlakes": true,
           "showland": true,
           "subunitcolor": "white"
          },
          "hoverlabel": {
           "align": "left"
          },
          "hovermode": "closest",
          "mapbox": {
           "style": "light"
          },
          "paper_bgcolor": "white",
          "plot_bgcolor": "#E5ECF6",
          "polar": {
           "angularaxis": {
            "gridcolor": "white",
            "linecolor": "white",
            "ticks": ""
           },
           "bgcolor": "#E5ECF6",
           "radialaxis": {
            "gridcolor": "white",
            "linecolor": "white",
            "ticks": ""
           }
          },
          "scene": {
           "xaxis": {
            "backgroundcolor": "#E5ECF6",
            "gridcolor": "white",
            "gridwidth": 2,
            "linecolor": "white",
            "showbackground": true,
            "ticks": "",
            "zerolinecolor": "white"
           },
           "yaxis": {
            "backgroundcolor": "#E5ECF6",
            "gridcolor": "white",
            "gridwidth": 2,
            "linecolor": "white",
            "showbackground": true,
            "ticks": "",
            "zerolinecolor": "white"
           },
           "zaxis": {
            "backgroundcolor": "#E5ECF6",
            "gridcolor": "white",
            "gridwidth": 2,
            "linecolor": "white",
            "showbackground": true,
            "ticks": "",
            "zerolinecolor": "white"
           }
          },
          "shapedefaults": {
           "line": {
            "color": "#2a3f5f"
           }
          },
          "ternary": {
           "aaxis": {
            "gridcolor": "white",
            "linecolor": "white",
            "ticks": ""
           },
           "baxis": {
            "gridcolor": "white",
            "linecolor": "white",
            "ticks": ""
           },
           "bgcolor": "#E5ECF6",
           "caxis": {
            "gridcolor": "white",
            "linecolor": "white",
            "ticks": ""
           }
          },
          "title": {
           "x": 0.05
          },
          "xaxis": {
           "automargin": true,
           "gridcolor": "white",
           "linecolor": "white",
           "ticks": "",
           "title": {
            "standoff": 15
           },
           "zerolinecolor": "white",
           "zerolinewidth": 2
          },
          "yaxis": {
           "automargin": true,
           "gridcolor": "white",
           "linecolor": "white",
           "ticks": "",
           "title": {
            "standoff": 15
           },
           "zerolinecolor": "white",
           "zerolinewidth": 2
          }
         }
        },
        "xaxis": {
         "anchor": "y",
         "domain": [
          0,
          1
         ],
         "title": {
          "text": "Year"
         }
        },
        "yaxis": {
         "anchor": "x",
         "domain": [
          0,
          1
         ],
         "title": {
          "text": "Value"
         }
        }
       }
      },
      "text/html": [
       "<div>                        <script type=\"text/javascript\">window.PlotlyConfig = {MathJaxConfig: 'local'};</script>\n",
       "        <script src=\"https://cdn.plot.ly/plotly-2.12.1.min.js\"></script>                <div id=\"f1dbeb29-23eb-4d02-8661-3bdc5fc93a7f\" class=\"plotly-graph-div\" style=\"height:100%; width:100%;\"></div>            <script type=\"text/javascript\">                                    window.PLOTLYENV=window.PLOTLYENV || {};                                    if (document.getElementById(\"f1dbeb29-23eb-4d02-8661-3bdc5fc93a7f\")) {                    Plotly.newPlot(                        \"f1dbeb29-23eb-4d02-8661-3bdc5fc93a7f\",                        [{\"hovertemplate\":\"Item=Nutrient nitrogen N (total)<br>Year=%{x}<br>Value=%{y}<extra></extra>\",\"legendgroup\":\"Nutrient nitrogen N (total)\",\"marker\":{\"color\":\"#636efa\",\"symbol\":\"circle\"},\"mode\":\"markers\",\"name\":\"Nutrient nitrogen N (total)\",\"orientation\":\"v\",\"showlegend\":true,\"x\":[1961,1962,1963,1964,1965,1966,1967,1968,1969,1970,1971,1972,1973,1974,1975,1976,1977,1978,1979,1980,1981,1982,1983,1984,1985,1986,1987,1988,1989,1990,1991,1992,1993,1994,1995,1996,1997,1998,1999,2000,2001,2002,2003,2004,2005,2006,2007,2008,2009,2010,2011,2012,2013,2014,2015,2016,2017,2018,2019,2020],\"xaxis\":\"x\",\"y\":[41659,41160,67620,84147,69242,107779,177441,203521,272566,251519,343973,386230,341944,362900,443451,511000,554100,684300,775804,843574,832572,954083,914317,934498,1128138,1332570,1281700,1324453,1467590,1471642,1462862,1636323,1659350,1738117,1991006,1985080,2087607,2091852,2218100,2264600,2291610,2384980,2456009,2570230,2818779,2868984,2714053,2928057,3451900,3270531,3187339,2850771,3239557,3139263,3160507,3241907,3446922,3446922,3505356,3533784],\"yaxis\":\"y\",\"type\":\"scatter\"},{\"hovertemplate\":\"Item=Nutrient phosphate P2O5 (total)<br>Year=%{x}<br>Value=%{y}<extra></extra>\",\"legendgroup\":\"Nutrient phosphate P2O5 (total)\",\"marker\":{\"color\":\"#EF553B\",\"symbol\":\"circle\"},\"mode\":\"markers\",\"name\":\"Nutrient phosphate P2O5 (total)\",\"orientation\":\"v\",\"showlegend\":true,\"x\":[1961,1962,1963,1964,1965,1966,1967,1968,1969,1970,1971,1972,1973,1974,1975,1976,1977,1978,1979,1980,1981,1982,1983,1984,1985,1986,1987,1988,1989,1990,1991,1992,1993,1994,1995,1996,1997,1998,1999,2000,2001,2002,2003,2004,2005,2006,2007,2008,2009,2010,2011,2012,2013,2014,2015,2016,2017,2018,2019,2020],\"xaxis\":\"x\",\"y\":[500,210,630,1029,1245,3911,12777,38642,33801,30462,37231,48730,58066,60500,108500,117900,157300,187900,201086,226487,225502,265285,261400,293829,349776,409750,393400,390406,382457,388500,397974,487530,464258,428900,494449,419474,551284,465000,596800,675100,641940,647360,669307,761031,871416,906749,816044,565675,778714,756700,653181,678840,875452,936148,993338,1209145,1257773,1257773,1099707,1204060],\"yaxis\":\"y\",\"type\":\"scatter\"},{\"hovertemplate\":\"Item=Nutrient potash K2O (total)<br>Year=%{x}<br>Value=%{y}<extra></extra>\",\"legendgroup\":\"Nutrient potash K2O (total)\",\"marker\":{\"color\":\"#00cc96\",\"symbol\":\"circle\"},\"mode\":\"markers\",\"name\":\"Nutrient potash K2O (total)\",\"orientation\":\"v\",\"showlegend\":true,\"x\":[1966,1967,1968,1969,1970,1971,1972,1973,1974,1975,1976,1977,1978,1979,1980,1981,1982,1983,1984,1985,1986,1987,1988,1989,1990,1991,1992,1993,1994,1995,1996,1997,1998,1999,2000,2001,2002,2003,2004,2005,2006,2007,2008,2009,2010,2011,2012,2013,2014,2015,2016,2017,2018,2019,2020],\"xaxis\":\"x\",\"y\":[144,212,2486,1344,1225,744,1400,2670,2100,1900,2400,5800,7600,9618,9643,21772,24948,28581,24677,33205,42880,45100,24533,40078,32757,23297,24062,23172,16555,29669,8425,20443,21200,18100,22800,10900,20500,23944,26449,35301,36408,43924,16564,15499,37545,28013,19427,19849,29549,25291,28954,54173,54173,47260,60973],\"yaxis\":\"y\",\"type\":\"scatter\"}],                        {\"template\":{\"data\":{\"histogram2dcontour\":[{\"type\":\"histogram2dcontour\",\"colorbar\":{\"outlinewidth\":0,\"ticks\":\"\"},\"colorscale\":[[0.0,\"#0d0887\"],[0.1111111111111111,\"#46039f\"],[0.2222222222222222,\"#7201a8\"],[0.3333333333333333,\"#9c179e\"],[0.4444444444444444,\"#bd3786\"],[0.5555555555555556,\"#d8576b\"],[0.6666666666666666,\"#ed7953\"],[0.7777777777777778,\"#fb9f3a\"],[0.8888888888888888,\"#fdca26\"],[1.0,\"#f0f921\"]]}],\"choropleth\":[{\"type\":\"choropleth\",\"colorbar\":{\"outlinewidth\":0,\"ticks\":\"\"}}],\"histogram2d\":[{\"type\":\"histogram2d\",\"colorbar\":{\"outlinewidth\":0,\"ticks\":\"\"},\"colorscale\":[[0.0,\"#0d0887\"],[0.1111111111111111,\"#46039f\"],[0.2222222222222222,\"#7201a8\"],[0.3333333333333333,\"#9c179e\"],[0.4444444444444444,\"#bd3786\"],[0.5555555555555556,\"#d8576b\"],[0.6666666666666666,\"#ed7953\"],[0.7777777777777778,\"#fb9f3a\"],[0.8888888888888888,\"#fdca26\"],[1.0,\"#f0f921\"]]}],\"heatmap\":[{\"type\":\"heatmap\",\"colorbar\":{\"outlinewidth\":0,\"ticks\":\"\"},\"colorscale\":[[0.0,\"#0d0887\"],[0.1111111111111111,\"#46039f\"],[0.2222222222222222,\"#7201a8\"],[0.3333333333333333,\"#9c179e\"],[0.4444444444444444,\"#bd3786\"],[0.5555555555555556,\"#d8576b\"],[0.6666666666666666,\"#ed7953\"],[0.7777777777777778,\"#fb9f3a\"],[0.8888888888888888,\"#fdca26\"],[1.0,\"#f0f921\"]]}],\"heatmapgl\":[{\"type\":\"heatmapgl\",\"colorbar\":{\"outlinewidth\":0,\"ticks\":\"\"},\"colorscale\":[[0.0,\"#0d0887\"],[0.1111111111111111,\"#46039f\"],[0.2222222222222222,\"#7201a8\"],[0.3333333333333333,\"#9c179e\"],[0.4444444444444444,\"#bd3786\"],[0.5555555555555556,\"#d8576b\"],[0.6666666666666666,\"#ed7953\"],[0.7777777777777778,\"#fb9f3a\"],[0.8888888888888888,\"#fdca26\"],[1.0,\"#f0f921\"]]}],\"contourcarpet\":[{\"type\":\"contourcarpet\",\"colorbar\":{\"outlinewidth\":0,\"ticks\":\"\"}}],\"contour\":[{\"type\":\"contour\",\"colorbar\":{\"outlinewidth\":0,\"ticks\":\"\"},\"colorscale\":[[0.0,\"#0d0887\"],[0.1111111111111111,\"#46039f\"],[0.2222222222222222,\"#7201a8\"],[0.3333333333333333,\"#9c179e\"],[0.4444444444444444,\"#bd3786\"],[0.5555555555555556,\"#d8576b\"],[0.6666666666666666,\"#ed7953\"],[0.7777777777777778,\"#fb9f3a\"],[0.8888888888888888,\"#fdca26\"],[1.0,\"#f0f921\"]]}],\"surface\":[{\"type\":\"surface\",\"colorbar\":{\"outlinewidth\":0,\"ticks\":\"\"},\"colorscale\":[[0.0,\"#0d0887\"],[0.1111111111111111,\"#46039f\"],[0.2222222222222222,\"#7201a8\"],[0.3333333333333333,\"#9c179e\"],[0.4444444444444444,\"#bd3786\"],[0.5555555555555556,\"#d8576b\"],[0.6666666666666666,\"#ed7953\"],[0.7777777777777778,\"#fb9f3a\"],[0.8888888888888888,\"#fdca26\"],[1.0,\"#f0f921\"]]}],\"mesh3d\":[{\"type\":\"mesh3d\",\"colorbar\":{\"outlinewidth\":0,\"ticks\":\"\"}}],\"scatter\":[{\"fillpattern\":{\"fillmode\":\"overlay\",\"size\":10,\"solidity\":0.2},\"type\":\"scatter\"}],\"parcoords\":[{\"type\":\"parcoords\",\"line\":{\"colorbar\":{\"outlinewidth\":0,\"ticks\":\"\"}}}],\"scatterpolargl\":[{\"type\":\"scatterpolargl\",\"marker\":{\"colorbar\":{\"outlinewidth\":0,\"ticks\":\"\"}}}],\"bar\":[{\"error_x\":{\"color\":\"#2a3f5f\"},\"error_y\":{\"color\":\"#2a3f5f\"},\"marker\":{\"line\":{\"color\":\"#E5ECF6\",\"width\":0.5},\"pattern\":{\"fillmode\":\"overlay\",\"size\":10,\"solidity\":0.2}},\"type\":\"bar\"}],\"scattergeo\":[{\"type\":\"scattergeo\",\"marker\":{\"colorbar\":{\"outlinewidth\":0,\"ticks\":\"\"}}}],\"scatterpolar\":[{\"type\":\"scatterpolar\",\"marker\":{\"colorbar\":{\"outlinewidth\":0,\"ticks\":\"\"}}}],\"histogram\":[{\"marker\":{\"pattern\":{\"fillmode\":\"overlay\",\"size\":10,\"solidity\":0.2}},\"type\":\"histogram\"}],\"scattergl\":[{\"type\":\"scattergl\",\"marker\":{\"colorbar\":{\"outlinewidth\":0,\"ticks\":\"\"}}}],\"scatter3d\":[{\"type\":\"scatter3d\",\"line\":{\"colorbar\":{\"outlinewidth\":0,\"ticks\":\"\"}},\"marker\":{\"colorbar\":{\"outlinewidth\":0,\"ticks\":\"\"}}}],\"scattermapbox\":[{\"type\":\"scattermapbox\",\"marker\":{\"colorbar\":{\"outlinewidth\":0,\"ticks\":\"\"}}}],\"scatterternary\":[{\"type\":\"scatterternary\",\"marker\":{\"colorbar\":{\"outlinewidth\":0,\"ticks\":\"\"}}}],\"scattercarpet\":[{\"type\":\"scattercarpet\",\"marker\":{\"colorbar\":{\"outlinewidth\":0,\"ticks\":\"\"}}}],\"carpet\":[{\"aaxis\":{\"endlinecolor\":\"#2a3f5f\",\"gridcolor\":\"white\",\"linecolor\":\"white\",\"minorgridcolor\":\"white\",\"startlinecolor\":\"#2a3f5f\"},\"baxis\":{\"endlinecolor\":\"#2a3f5f\",\"gridcolor\":\"white\",\"linecolor\":\"white\",\"minorgridcolor\":\"white\",\"startlinecolor\":\"#2a3f5f\"},\"type\":\"carpet\"}],\"table\":[{\"cells\":{\"fill\":{\"color\":\"#EBF0F8\"},\"line\":{\"color\":\"white\"}},\"header\":{\"fill\":{\"color\":\"#C8D4E3\"},\"line\":{\"color\":\"white\"}},\"type\":\"table\"}],\"barpolar\":[{\"marker\":{\"line\":{\"color\":\"#E5ECF6\",\"width\":0.5},\"pattern\":{\"fillmode\":\"overlay\",\"size\":10,\"solidity\":0.2}},\"type\":\"barpolar\"}],\"pie\":[{\"automargin\":true,\"type\":\"pie\"}]},\"layout\":{\"autotypenumbers\":\"strict\",\"colorway\":[\"#636efa\",\"#EF553B\",\"#00cc96\",\"#ab63fa\",\"#FFA15A\",\"#19d3f3\",\"#FF6692\",\"#B6E880\",\"#FF97FF\",\"#FECB52\"],\"font\":{\"color\":\"#2a3f5f\"},\"hovermode\":\"closest\",\"hoverlabel\":{\"align\":\"left\"},\"paper_bgcolor\":\"white\",\"plot_bgcolor\":\"#E5ECF6\",\"polar\":{\"bgcolor\":\"#E5ECF6\",\"angularaxis\":{\"gridcolor\":\"white\",\"linecolor\":\"white\",\"ticks\":\"\"},\"radialaxis\":{\"gridcolor\":\"white\",\"linecolor\":\"white\",\"ticks\":\"\"}},\"ternary\":{\"bgcolor\":\"#E5ECF6\",\"aaxis\":{\"gridcolor\":\"white\",\"linecolor\":\"white\",\"ticks\":\"\"},\"baxis\":{\"gridcolor\":\"white\",\"linecolor\":\"white\",\"ticks\":\"\"},\"caxis\":{\"gridcolor\":\"white\",\"linecolor\":\"white\",\"ticks\":\"\"}},\"coloraxis\":{\"colorbar\":{\"outlinewidth\":0,\"ticks\":\"\"}},\"colorscale\":{\"sequential\":[[0.0,\"#0d0887\"],[0.1111111111111111,\"#46039f\"],[0.2222222222222222,\"#7201a8\"],[0.3333333333333333,\"#9c179e\"],[0.4444444444444444,\"#bd3786\"],[0.5555555555555556,\"#d8576b\"],[0.6666666666666666,\"#ed7953\"],[0.7777777777777778,\"#fb9f3a\"],[0.8888888888888888,\"#fdca26\"],[1.0,\"#f0f921\"]],\"sequentialminus\":[[0.0,\"#0d0887\"],[0.1111111111111111,\"#46039f\"],[0.2222222222222222,\"#7201a8\"],[0.3333333333333333,\"#9c179e\"],[0.4444444444444444,\"#bd3786\"],[0.5555555555555556,\"#d8576b\"],[0.6666666666666666,\"#ed7953\"],[0.7777777777777778,\"#fb9f3a\"],[0.8888888888888888,\"#fdca26\"],[1.0,\"#f0f921\"]],\"diverging\":[[0,\"#8e0152\"],[0.1,\"#c51b7d\"],[0.2,\"#de77ae\"],[0.3,\"#f1b6da\"],[0.4,\"#fde0ef\"],[0.5,\"#f7f7f7\"],[0.6,\"#e6f5d0\"],[0.7,\"#b8e186\"],[0.8,\"#7fbc41\"],[0.9,\"#4d9221\"],[1,\"#276419\"]]},\"xaxis\":{\"gridcolor\":\"white\",\"linecolor\":\"white\",\"ticks\":\"\",\"title\":{\"standoff\":15},\"zerolinecolor\":\"white\",\"automargin\":true,\"zerolinewidth\":2},\"yaxis\":{\"gridcolor\":\"white\",\"linecolor\":\"white\",\"ticks\":\"\",\"title\":{\"standoff\":15},\"zerolinecolor\":\"white\",\"automargin\":true,\"zerolinewidth\":2},\"scene\":{\"xaxis\":{\"backgroundcolor\":\"#E5ECF6\",\"gridcolor\":\"white\",\"linecolor\":\"white\",\"showbackground\":true,\"ticks\":\"\",\"zerolinecolor\":\"white\",\"gridwidth\":2},\"yaxis\":{\"backgroundcolor\":\"#E5ECF6\",\"gridcolor\":\"white\",\"linecolor\":\"white\",\"showbackground\":true,\"ticks\":\"\",\"zerolinecolor\":\"white\",\"gridwidth\":2},\"zaxis\":{\"backgroundcolor\":\"#E5ECF6\",\"gridcolor\":\"white\",\"linecolor\":\"white\",\"showbackground\":true,\"ticks\":\"\",\"zerolinecolor\":\"white\",\"gridwidth\":2}},\"shapedefaults\":{\"line\":{\"color\":\"#2a3f5f\"}},\"annotationdefaults\":{\"arrowcolor\":\"#2a3f5f\",\"arrowhead\":0,\"arrowwidth\":1},\"geo\":{\"bgcolor\":\"white\",\"landcolor\":\"#E5ECF6\",\"subunitcolor\":\"white\",\"showland\":true,\"showlakes\":true,\"lakecolor\":\"white\"},\"title\":{\"x\":0.05},\"mapbox\":{\"style\":\"light\"}}},\"xaxis\":{\"anchor\":\"y\",\"domain\":[0.0,1.0],\"title\":{\"text\":\"Year\"}},\"yaxis\":{\"anchor\":\"x\",\"domain\":[0.0,1.0],\"title\":{\"text\":\"Value\"}},\"legend\":{\"title\":{\"text\":\"Item\"},\"tracegroupgap\":0},\"margin\":{\"t\":60}},                        {\"responsive\": true}                    )                };                            </script>        </div>"
      ],
      "text/plain": [
       "Figure({\n",
       "    'data': [{'hovertemplate': 'Item=Nutrient nitrogen N (total)<br>Year=%{x}<br>Value=%{y}<extra></extra>',\n",
       "              'legendgroup': 'Nutrient nitrogen N (total)',\n",
       "              'marker': {'color': '#636efa', 'symbol': 'circle'},\n",
       "              'mode': 'markers',\n",
       "              'name': 'Nutrient nitrogen N (total)',\n",
       "              'orientation': 'v',\n",
       "              'showlegend': True,\n",
       "              'type': 'scatter',\n",
       "              'x': array([1961, 1962, 1963, 1964, 1965, 1966, 1967, 1968, 1969, 1970, 1971, 1972,\n",
       "                          1973, 1974, 1975, 1976, 1977, 1978, 1979, 1980, 1981, 1982, 1983, 1984,\n",
       "                          1985, 1986, 1987, 1988, 1989, 1990, 1991, 1992, 1993, 1994, 1995, 1996,\n",
       "                          1997, 1998, 1999, 2000, 2001, 2002, 2003, 2004, 2005, 2006, 2007, 2008,\n",
       "                          2009, 2010, 2011, 2012, 2013, 2014, 2015, 2016, 2017, 2018, 2019, 2020],\n",
       "                         dtype=int64),\n",
       "              'xaxis': 'x',\n",
       "              'y': array([  41659,   41160,   67620,   84147,   69242,  107779,  177441,  203521,\n",
       "                           272566,  251519,  343973,  386230,  341944,  362900,  443451,  511000,\n",
       "                           554100,  684300,  775804,  843574,  832572,  954083,  914317,  934498,\n",
       "                          1128138, 1332570, 1281700, 1324453, 1467590, 1471642, 1462862, 1636323,\n",
       "                          1659350, 1738117, 1991006, 1985080, 2087607, 2091852, 2218100, 2264600,\n",
       "                          2291610, 2384980, 2456009, 2570230, 2818779, 2868984, 2714053, 2928057,\n",
       "                          3451900, 3270531, 3187339, 2850771, 3239557, 3139263, 3160507, 3241907,\n",
       "                          3446922, 3446922, 3505356, 3533784], dtype=int64),\n",
       "              'yaxis': 'y'},\n",
       "             {'hovertemplate': 'Item=Nutrient phosphate P2O5 (total)<br>Year=%{x}<br>Value=%{y}<extra></extra>',\n",
       "              'legendgroup': 'Nutrient phosphate P2O5 (total)',\n",
       "              'marker': {'color': '#EF553B', 'symbol': 'circle'},\n",
       "              'mode': 'markers',\n",
       "              'name': 'Nutrient phosphate P2O5 (total)',\n",
       "              'orientation': 'v',\n",
       "              'showlegend': True,\n",
       "              'type': 'scatter',\n",
       "              'x': array([1961, 1962, 1963, 1964, 1965, 1966, 1967, 1968, 1969, 1970, 1971, 1972,\n",
       "                          1973, 1974, 1975, 1976, 1977, 1978, 1979, 1980, 1981, 1982, 1983, 1984,\n",
       "                          1985, 1986, 1987, 1988, 1989, 1990, 1991, 1992, 1993, 1994, 1995, 1996,\n",
       "                          1997, 1998, 1999, 2000, 2001, 2002, 2003, 2004, 2005, 2006, 2007, 2008,\n",
       "                          2009, 2010, 2011, 2012, 2013, 2014, 2015, 2016, 2017, 2018, 2019, 2020],\n",
       "                         dtype=int64),\n",
       "              'xaxis': 'x',\n",
       "              'y': array([    500,     210,     630,    1029,    1245,    3911,   12777,   38642,\n",
       "                            33801,   30462,   37231,   48730,   58066,   60500,  108500,  117900,\n",
       "                           157300,  187900,  201086,  226487,  225502,  265285,  261400,  293829,\n",
       "                           349776,  409750,  393400,  390406,  382457,  388500,  397974,  487530,\n",
       "                           464258,  428900,  494449,  419474,  551284,  465000,  596800,  675100,\n",
       "                           641940,  647360,  669307,  761031,  871416,  906749,  816044,  565675,\n",
       "                           778714,  756700,  653181,  678840,  875452,  936148,  993338, 1209145,\n",
       "                          1257773, 1257773, 1099707, 1204060], dtype=int64),\n",
       "              'yaxis': 'y'},\n",
       "             {'hovertemplate': 'Item=Nutrient potash K2O (total)<br>Year=%{x}<br>Value=%{y}<extra></extra>',\n",
       "              'legendgroup': 'Nutrient potash K2O (total)',\n",
       "              'marker': {'color': '#00cc96', 'symbol': 'circle'},\n",
       "              'mode': 'markers',\n",
       "              'name': 'Nutrient potash K2O (total)',\n",
       "              'orientation': 'v',\n",
       "              'showlegend': True,\n",
       "              'type': 'scatter',\n",
       "              'x': array([1966, 1967, 1968, 1969, 1970, 1971, 1972, 1973, 1974, 1975, 1976, 1977,\n",
       "                          1978, 1979, 1980, 1981, 1982, 1983, 1984, 1985, 1986, 1987, 1988, 1989,\n",
       "                          1990, 1991, 1992, 1993, 1994, 1995, 1996, 1997, 1998, 1999, 2000, 2001,\n",
       "                          2002, 2003, 2004, 2005, 2006, 2007, 2008, 2009, 2010, 2011, 2012, 2013,\n",
       "                          2014, 2015, 2016, 2017, 2018, 2019, 2020], dtype=int64),\n",
       "              'xaxis': 'x',\n",
       "              'y': array([  144,   212,  2486,  1344,  1225,   744,  1400,  2670,  2100,  1900,\n",
       "                           2400,  5800,  7600,  9618,  9643, 21772, 24948, 28581, 24677, 33205,\n",
       "                          42880, 45100, 24533, 40078, 32757, 23297, 24062, 23172, 16555, 29669,\n",
       "                           8425, 20443, 21200, 18100, 22800, 10900, 20500, 23944, 26449, 35301,\n",
       "                          36408, 43924, 16564, 15499, 37545, 28013, 19427, 19849, 29549, 25291,\n",
       "                          28954, 54173, 54173, 47260, 60973], dtype=int64),\n",
       "              'yaxis': 'y'}],\n",
       "    'layout': {'legend': {'title': {'text': 'Item'}, 'tracegroupgap': 0},\n",
       "               'margin': {'t': 60},\n",
       "               'template': '...',\n",
       "               'xaxis': {'anchor': 'y', 'domain': [0.0, 1.0], 'title': {'text': 'Year'}},\n",
       "               'yaxis': {'anchor': 'x', 'domain': [0.0, 1.0], 'title': {'text': 'Value'}}}\n",
       "})"
      ]
     },
     "execution_count": 58,
     "metadata": {},
     "output_type": "execute_result"
    }
   ],
   "source": [
    "px.scatter(df_fur_clean, x=\"Year\", y=\"Value\", color=\"Item\")"
   ]
  },
  {
   "cell_type": "code",
   "execution_count": 82,
   "metadata": {},
   "outputs": [
    {
     "ename": "ValueError",
     "evalue": "Mime type rendering requires nbformat>=4.2.0 but it is not installed",
     "output_type": "error",
     "traceback": [
      "\u001b[1;31m---------------------------------------------------------------------------\u001b[0m",
      "\u001b[1;31mValueError\u001b[0m                                Traceback (most recent call last)",
      "File \u001b[1;32mc:\\Users\\Administrator\\AppData\\Local\\Programs\\Python\\Python310\\lib\\site-packages\\IPython\\core\\formatters.py:921\u001b[0m, in \u001b[0;36mIPythonDisplayFormatter.__call__\u001b[1;34m(self, obj)\u001b[0m\n\u001b[0;32m    919\u001b[0m method \u001b[39m=\u001b[39m get_real_method(obj, \u001b[39mself\u001b[39m\u001b[39m.\u001b[39mprint_method)\n\u001b[0;32m    920\u001b[0m \u001b[39mif\u001b[39;00m method \u001b[39mis\u001b[39;00m \u001b[39mnot\u001b[39;00m \u001b[39mNone\u001b[39;00m:\n\u001b[1;32m--> 921\u001b[0m     method()\n\u001b[0;32m    922\u001b[0m     \u001b[39mreturn\u001b[39;00m \u001b[39mTrue\u001b[39;00m\n",
      "File \u001b[1;32mc:\\Users\\Administrator\\AppData\\Local\\Programs\\Python\\Python310\\lib\\site-packages\\plotly\\basedatatypes.py:842\u001b[0m, in \u001b[0;36mBaseFigure._ipython_display_\u001b[1;34m(self)\u001b[0m\n\u001b[0;32m    839\u001b[0m \u001b[39mimport\u001b[39;00m \u001b[39mplotly\u001b[39;00m\u001b[39m.\u001b[39;00m\u001b[39mio\u001b[39;00m \u001b[39mas\u001b[39;00m \u001b[39mpio\u001b[39;00m\n\u001b[0;32m    841\u001b[0m \u001b[39mif\u001b[39;00m pio\u001b[39m.\u001b[39mrenderers\u001b[39m.\u001b[39mrender_on_display \u001b[39mand\u001b[39;00m pio\u001b[39m.\u001b[39mrenderers\u001b[39m.\u001b[39mdefault:\n\u001b[1;32m--> 842\u001b[0m     pio\u001b[39m.\u001b[39;49mshow(\u001b[39mself\u001b[39;49m)\n\u001b[0;32m    843\u001b[0m \u001b[39melse\u001b[39;00m:\n\u001b[0;32m    844\u001b[0m     \u001b[39mprint\u001b[39m(\u001b[39mrepr\u001b[39m(\u001b[39mself\u001b[39m))\n",
      "File \u001b[1;32mc:\\Users\\Administrator\\AppData\\Local\\Programs\\Python\\Python310\\lib\\site-packages\\plotly\\io\\_renderers.py:396\u001b[0m, in \u001b[0;36mshow\u001b[1;34m(fig, renderer, validate, **kwargs)\u001b[0m\n\u001b[0;32m    391\u001b[0m         \u001b[39mraise\u001b[39;00m \u001b[39mValueError\u001b[39;00m(\n\u001b[0;32m    392\u001b[0m             \u001b[39m\"\u001b[39m\u001b[39mMime type rendering requires ipython but it is not installed\u001b[39m\u001b[39m\"\u001b[39m\n\u001b[0;32m    393\u001b[0m         )\n\u001b[0;32m    395\u001b[0m     \u001b[39mif\u001b[39;00m \u001b[39mnot\u001b[39;00m nbformat \u001b[39mor\u001b[39;00m LooseVersion(nbformat\u001b[39m.\u001b[39m__version__) \u001b[39m<\u001b[39m LooseVersion(\u001b[39m\"\u001b[39m\u001b[39m4.2.0\u001b[39m\u001b[39m\"\u001b[39m):\n\u001b[1;32m--> 396\u001b[0m         \u001b[39mraise\u001b[39;00m \u001b[39mValueError\u001b[39;00m(\n\u001b[0;32m    397\u001b[0m             \u001b[39m\"\u001b[39m\u001b[39mMime type rendering requires nbformat>=4.2.0 but it is not installed\u001b[39m\u001b[39m\"\u001b[39m\n\u001b[0;32m    398\u001b[0m         )\n\u001b[0;32m    400\u001b[0m     ipython_display\u001b[39m.\u001b[39mdisplay(bundle, raw\u001b[39m=\u001b[39m\u001b[39mTrue\u001b[39;00m)\n\u001b[0;32m    402\u001b[0m \u001b[39m# external renderers\u001b[39;00m\n",
      "\u001b[1;31mValueError\u001b[0m: Mime type rendering requires nbformat>=4.2.0 but it is not installed"
     ]
    },
    {
     "data": {
      "application/vnd.plotly.v1+json": {
       "config": {
        "plotlyServerURL": "https://plot.ly"
       },
       "data": [
        {
         "hoverinfo": "y",
         "type": "scatter",
         "x": [
          "Nutrient nitrogen N (total)",
          "Nutrient phosphate P2O5 (total)",
          "Nutrient phosphate P2O5 (total)",
          "Nutrient nitrogen N (total)",
          "Nutrient nitrogen N (total)",
          "Nutrient phosphate P2O5 (total)",
          "Nutrient phosphate P2O5 (total)",
          "Nutrient nitrogen N (total)",
          "Nutrient nitrogen N (total)",
          "Nutrient phosphate P2O5 (total)",
          "Nutrient phosphate P2O5 (total)",
          "Nutrient nitrogen N (total)",
          "Nutrient potash K2O (total)",
          "Nutrient potash K2O (total)",
          "Nutrient nitrogen N (total)",
          "Nutrient phosphate P2O5 (total)",
          "Nutrient phosphate P2O5 (total)",
          "Nutrient nitrogen N (total)",
          "Nutrient potash K2O (total)",
          "Nutrient potash K2O (total)",
          "Nutrient nitrogen N (total)",
          "Nutrient phosphate P2O5 (total)",
          "Nutrient phosphate P2O5 (total)",
          "Nutrient nitrogen N (total)",
          "Nutrient potash K2O (total)",
          "Nutrient potash K2O (total)",
          "Nutrient nitrogen N (total)",
          "Nutrient phosphate P2O5 (total)",
          "Nutrient phosphate P2O5 (total)",
          "Nutrient nitrogen N (total)",
          "Nutrient potash K2O (total)",
          "Nutrient potash K2O (total)",
          "Nutrient nitrogen N (total)",
          "Nutrient phosphate P2O5 (total)",
          "Nutrient phosphate P2O5 (total)",
          "Nutrient nitrogen N (total)",
          "Nutrient potash K2O (total)",
          "Nutrient potash K2O (total)",
          "Nutrient nitrogen N (total)",
          "Nutrient phosphate P2O5 (total)",
          "Nutrient phosphate P2O5 (total)",
          "Nutrient nitrogen N (total)",
          "Nutrient potash K2O (total)",
          "Nutrient potash K2O (total)",
          "Nutrient nitrogen N (total)",
          "Nutrient phosphate P2O5 (total)",
          "Nutrient phosphate P2O5 (total)",
          "Nutrient nitrogen N (total)",
          "Nutrient potash K2O (total)",
          "Nutrient potash K2O (total)",
          "Nutrient nitrogen N (total)",
          "Nutrient phosphate P2O5 (total)",
          "Nutrient phosphate P2O5 (total)",
          "Nutrient nitrogen N (total)",
          "Nutrient potash K2O (total)",
          "Nutrient potash K2O (total)",
          "Nutrient nitrogen N (total)",
          "Nutrient phosphate P2O5 (total)",
          "Nutrient phosphate P2O5 (total)",
          "Nutrient nitrogen N (total)",
          "Nutrient potash K2O (total)",
          "Nutrient potash K2O (total)",
          "Nutrient nitrogen N (total)",
          "Nutrient phosphate P2O5 (total)",
          "Nutrient phosphate P2O5 (total)",
          "Nutrient nitrogen N (total)",
          "Nutrient potash K2O (total)",
          "Nutrient potash K2O (total)",
          "Nutrient nitrogen N (total)",
          "Nutrient phosphate P2O5 (total)",
          "Nutrient phosphate P2O5 (total)",
          "Nutrient nitrogen N (total)",
          "Nutrient potash K2O (total)",
          "Nutrient potash K2O (total)",
          "Nutrient nitrogen N (total)",
          "Nutrient phosphate P2O5 (total)",
          "Nutrient phosphate P2O5 (total)",
          "Nutrient nitrogen N (total)",
          "Nutrient potash K2O (total)",
          "Nutrient potash K2O (total)",
          "Nutrient nitrogen N (total)",
          "Nutrient phosphate P2O5 (total)",
          "Nutrient phosphate P2O5 (total)",
          "Nutrient nitrogen N (total)",
          "Nutrient potash K2O (total)",
          "Nutrient potash K2O (total)",
          "Nutrient nitrogen N (total)",
          "Nutrient phosphate P2O5 (total)",
          "Nutrient phosphate P2O5 (total)",
          "Nutrient nitrogen N (total)",
          "Nutrient potash K2O (total)",
          "Nutrient potash K2O (total)",
          "Nutrient nitrogen N (total)",
          "Nutrient phosphate P2O5 (total)",
          "Nutrient phosphate P2O5 (total)",
          "Nutrient nitrogen N (total)",
          "Nutrient potash K2O (total)",
          "Nutrient potash K2O (total)",
          "Nutrient nitrogen N (total)",
          "Nutrient phosphate P2O5 (total)",
          "Nutrient phosphate P2O5 (total)",
          "Nutrient nitrogen N (total)",
          "Nutrient potash K2O (total)",
          "Nutrient potash K2O (total)",
          "Nutrient nitrogen N (total)",
          "Nutrient phosphate P2O5 (total)",
          "Nutrient phosphate P2O5 (total)",
          "Nutrient nitrogen N (total)",
          "Nutrient potash K2O (total)",
          "Nutrient potash K2O (total)",
          "Nutrient nitrogen N (total)",
          "Nutrient phosphate P2O5 (total)",
          "Nutrient phosphate P2O5 (total)",
          "Nutrient nitrogen N (total)",
          "Nutrient potash K2O (total)",
          "Nutrient potash K2O (total)",
          "Nutrient nitrogen N (total)",
          "Nutrient phosphate P2O5 (total)",
          "Nutrient phosphate P2O5 (total)",
          "Nutrient nitrogen N (total)",
          "Nutrient potash K2O (total)",
          "Nutrient potash K2O (total)",
          "Nutrient nitrogen N (total)",
          "Nutrient phosphate P2O5 (total)",
          "Nutrient phosphate P2O5 (total)",
          "Nutrient nitrogen N (total)",
          "Nutrient potash K2O (total)",
          "Nutrient potash K2O (total)",
          "Nutrient nitrogen N (total)",
          "Nutrient phosphate P2O5 (total)",
          "Nutrient phosphate P2O5 (total)",
          "Nutrient nitrogen N (total)",
          "Nutrient potash K2O (total)",
          "Nutrient potash K2O (total)",
          "Nutrient nitrogen N (total)",
          "Nutrient phosphate P2O5 (total)",
          "Nutrient phosphate P2O5 (total)",
          "Nutrient nitrogen N (total)",
          "Nutrient potash K2O (total)",
          "Nutrient potash K2O (total)",
          "Nutrient nitrogen N (total)",
          "Nutrient phosphate P2O5 (total)",
          "Nutrient phosphate P2O5 (total)",
          "Nutrient nitrogen N (total)",
          "Nutrient potash K2O (total)",
          "Nutrient potash K2O (total)",
          "Nutrient nitrogen N (total)",
          "Nutrient phosphate P2O5 (total)",
          "Nutrient phosphate P2O5 (total)",
          "Nutrient nitrogen N (total)",
          "Nutrient potash K2O (total)",
          "Nutrient potash K2O (total)",
          "Nutrient nitrogen N (total)",
          "Nutrient phosphate P2O5 (total)",
          "Nutrient phosphate P2O5 (total)",
          "Nutrient nitrogen N (total)",
          "Nutrient potash K2O (total)",
          "Nutrient potash K2O (total)",
          "Nutrient nitrogen N (total)",
          "Nutrient phosphate P2O5 (total)",
          "Nutrient phosphate P2O5 (total)",
          "Nutrient nitrogen N (total)",
          "Nutrient potash K2O (total)",
          "Nutrient potash K2O (total)",
          "Nutrient nitrogen N (total)",
          "Nutrient phosphate P2O5 (total)",
          "Nutrient phosphate P2O5 (total)",
          "Nutrient nitrogen N (total)",
          "Nutrient potash K2O (total)",
          "Nutrient potash K2O (total)",
          "Nutrient nitrogen N (total)",
          "Nutrient phosphate P2O5 (total)",
          "Nutrient phosphate P2O5 (total)",
          "Nutrient nitrogen N (total)",
          "Nutrient potash K2O (total)"
         ],
         "y": [
          41659,
          500,
          210,
          41160,
          67620,
          630,
          1029,
          84147,
          69242,
          1245,
          3911,
          107779,
          144,
          212,
          177441,
          12777,
          38642,
          203521,
          2486,
          1344,
          272566,
          33801,
          30462,
          251519,
          1225,
          744,
          343973,
          37231,
          48730,
          386230,
          1400,
          2670,
          341944,
          58066,
          60500,
          362900,
          2100,
          1900,
          443451,
          108500,
          117900,
          511000,
          2400,
          5800,
          554100,
          157300,
          187900,
          684300,
          7600,
          9618,
          775804,
          201086,
          226487,
          843574,
          9643,
          21772,
          832572,
          225502,
          265285,
          954083,
          24948,
          28581,
          914317,
          261400,
          293829,
          934498,
          24677,
          33205,
          1128138,
          349776,
          409750,
          1332570,
          42880,
          45100,
          1281700,
          393400,
          390406,
          1324453,
          24533,
          40078,
          1467590,
          382457,
          388500,
          1471642,
          32757,
          23297,
          1462862,
          397974,
          487530,
          1636323,
          24062,
          23172,
          1659350,
          464258,
          428900,
          1738117,
          16555,
          29669,
          1991006,
          494449,
          419474,
          1985080,
          8425,
          20443,
          2087607,
          551284,
          465000,
          2091852,
          21200,
          18100,
          2218100,
          596800,
          675100,
          2264600,
          22800,
          10900,
          2291610,
          641940,
          647360,
          2384980,
          20500,
          23944,
          2456009,
          669307,
          761031,
          2570230,
          26449,
          35301,
          2818779,
          871416,
          906749,
          2868984,
          36408,
          43924,
          2714053,
          816044,
          565675,
          2928057,
          16564,
          15499,
          3451900,
          778714,
          756700,
          3270531,
          37545,
          28013,
          3187339,
          653181,
          678840,
          2850771,
          19427,
          19849,
          3239557,
          875452,
          936148,
          3139263,
          29549,
          25291,
          3160507,
          993338,
          1209145,
          3241907,
          28954,
          54173,
          3446922,
          1257773,
          1257773,
          3446922,
          54173,
          47260,
          3505356,
          1099707,
          1204060,
          3533784,
          60973
         ]
        }
       ],
       "layout": {
        "template": {
         "data": {
          "bar": [
           {
            "error_x": {
             "color": "#2a3f5f"
            },
            "error_y": {
             "color": "#2a3f5f"
            },
            "marker": {
             "line": {
              "color": "#E5ECF6",
              "width": 0.5
             },
             "pattern": {
              "fillmode": "overlay",
              "size": 10,
              "solidity": 0.2
             }
            },
            "type": "bar"
           }
          ],
          "barpolar": [
           {
            "marker": {
             "line": {
              "color": "#E5ECF6",
              "width": 0.5
             },
             "pattern": {
              "fillmode": "overlay",
              "size": 10,
              "solidity": 0.2
             }
            },
            "type": "barpolar"
           }
          ],
          "carpet": [
           {
            "aaxis": {
             "endlinecolor": "#2a3f5f",
             "gridcolor": "white",
             "linecolor": "white",
             "minorgridcolor": "white",
             "startlinecolor": "#2a3f5f"
            },
            "baxis": {
             "endlinecolor": "#2a3f5f",
             "gridcolor": "white",
             "linecolor": "white",
             "minorgridcolor": "white",
             "startlinecolor": "#2a3f5f"
            },
            "type": "carpet"
           }
          ],
          "choropleth": [
           {
            "colorbar": {
             "outlinewidth": 0,
             "ticks": ""
            },
            "type": "choropleth"
           }
          ],
          "contour": [
           {
            "colorbar": {
             "outlinewidth": 0,
             "ticks": ""
            },
            "colorscale": [
             [
              0,
              "#0d0887"
             ],
             [
              0.1111111111111111,
              "#46039f"
             ],
             [
              0.2222222222222222,
              "#7201a8"
             ],
             [
              0.3333333333333333,
              "#9c179e"
             ],
             [
              0.4444444444444444,
              "#bd3786"
             ],
             [
              0.5555555555555556,
              "#d8576b"
             ],
             [
              0.6666666666666666,
              "#ed7953"
             ],
             [
              0.7777777777777778,
              "#fb9f3a"
             ],
             [
              0.8888888888888888,
              "#fdca26"
             ],
             [
              1,
              "#f0f921"
             ]
            ],
            "type": "contour"
           }
          ],
          "contourcarpet": [
           {
            "colorbar": {
             "outlinewidth": 0,
             "ticks": ""
            },
            "type": "contourcarpet"
           }
          ],
          "heatmap": [
           {
            "colorbar": {
             "outlinewidth": 0,
             "ticks": ""
            },
            "colorscale": [
             [
              0,
              "#0d0887"
             ],
             [
              0.1111111111111111,
              "#46039f"
             ],
             [
              0.2222222222222222,
              "#7201a8"
             ],
             [
              0.3333333333333333,
              "#9c179e"
             ],
             [
              0.4444444444444444,
              "#bd3786"
             ],
             [
              0.5555555555555556,
              "#d8576b"
             ],
             [
              0.6666666666666666,
              "#ed7953"
             ],
             [
              0.7777777777777778,
              "#fb9f3a"
             ],
             [
              0.8888888888888888,
              "#fdca26"
             ],
             [
              1,
              "#f0f921"
             ]
            ],
            "type": "heatmap"
           }
          ],
          "heatmapgl": [
           {
            "colorbar": {
             "outlinewidth": 0,
             "ticks": ""
            },
            "colorscale": [
             [
              0,
              "#0d0887"
             ],
             [
              0.1111111111111111,
              "#46039f"
             ],
             [
              0.2222222222222222,
              "#7201a8"
             ],
             [
              0.3333333333333333,
              "#9c179e"
             ],
             [
              0.4444444444444444,
              "#bd3786"
             ],
             [
              0.5555555555555556,
              "#d8576b"
             ],
             [
              0.6666666666666666,
              "#ed7953"
             ],
             [
              0.7777777777777778,
              "#fb9f3a"
             ],
             [
              0.8888888888888888,
              "#fdca26"
             ],
             [
              1,
              "#f0f921"
             ]
            ],
            "type": "heatmapgl"
           }
          ],
          "histogram": [
           {
            "marker": {
             "pattern": {
              "fillmode": "overlay",
              "size": 10,
              "solidity": 0.2
             }
            },
            "type": "histogram"
           }
          ],
          "histogram2d": [
           {
            "colorbar": {
             "outlinewidth": 0,
             "ticks": ""
            },
            "colorscale": [
             [
              0,
              "#0d0887"
             ],
             [
              0.1111111111111111,
              "#46039f"
             ],
             [
              0.2222222222222222,
              "#7201a8"
             ],
             [
              0.3333333333333333,
              "#9c179e"
             ],
             [
              0.4444444444444444,
              "#bd3786"
             ],
             [
              0.5555555555555556,
              "#d8576b"
             ],
             [
              0.6666666666666666,
              "#ed7953"
             ],
             [
              0.7777777777777778,
              "#fb9f3a"
             ],
             [
              0.8888888888888888,
              "#fdca26"
             ],
             [
              1,
              "#f0f921"
             ]
            ],
            "type": "histogram2d"
           }
          ],
          "histogram2dcontour": [
           {
            "colorbar": {
             "outlinewidth": 0,
             "ticks": ""
            },
            "colorscale": [
             [
              0,
              "#0d0887"
             ],
             [
              0.1111111111111111,
              "#46039f"
             ],
             [
              0.2222222222222222,
              "#7201a8"
             ],
             [
              0.3333333333333333,
              "#9c179e"
             ],
             [
              0.4444444444444444,
              "#bd3786"
             ],
             [
              0.5555555555555556,
              "#d8576b"
             ],
             [
              0.6666666666666666,
              "#ed7953"
             ],
             [
              0.7777777777777778,
              "#fb9f3a"
             ],
             [
              0.8888888888888888,
              "#fdca26"
             ],
             [
              1,
              "#f0f921"
             ]
            ],
            "type": "histogram2dcontour"
           }
          ],
          "mesh3d": [
           {
            "colorbar": {
             "outlinewidth": 0,
             "ticks": ""
            },
            "type": "mesh3d"
           }
          ],
          "parcoords": [
           {
            "line": {
             "colorbar": {
              "outlinewidth": 0,
              "ticks": ""
             }
            },
            "type": "parcoords"
           }
          ],
          "pie": [
           {
            "automargin": true,
            "type": "pie"
           }
          ],
          "scatter": [
           {
            "fillpattern": {
             "fillmode": "overlay",
             "size": 10,
             "solidity": 0.2
            },
            "type": "scatter"
           }
          ],
          "scatter3d": [
           {
            "line": {
             "colorbar": {
              "outlinewidth": 0,
              "ticks": ""
             }
            },
            "marker": {
             "colorbar": {
              "outlinewidth": 0,
              "ticks": ""
             }
            },
            "type": "scatter3d"
           }
          ],
          "scattercarpet": [
           {
            "marker": {
             "colorbar": {
              "outlinewidth": 0,
              "ticks": ""
             }
            },
            "type": "scattercarpet"
           }
          ],
          "scattergeo": [
           {
            "marker": {
             "colorbar": {
              "outlinewidth": 0,
              "ticks": ""
             }
            },
            "type": "scattergeo"
           }
          ],
          "scattergl": [
           {
            "marker": {
             "colorbar": {
              "outlinewidth": 0,
              "ticks": ""
             }
            },
            "type": "scattergl"
           }
          ],
          "scattermapbox": [
           {
            "marker": {
             "colorbar": {
              "outlinewidth": 0,
              "ticks": ""
             }
            },
            "type": "scattermapbox"
           }
          ],
          "scatterpolar": [
           {
            "marker": {
             "colorbar": {
              "outlinewidth": 0,
              "ticks": ""
             }
            },
            "type": "scatterpolar"
           }
          ],
          "scatterpolargl": [
           {
            "marker": {
             "colorbar": {
              "outlinewidth": 0,
              "ticks": ""
             }
            },
            "type": "scatterpolargl"
           }
          ],
          "scatterternary": [
           {
            "marker": {
             "colorbar": {
              "outlinewidth": 0,
              "ticks": ""
             }
            },
            "type": "scatterternary"
           }
          ],
          "surface": [
           {
            "colorbar": {
             "outlinewidth": 0,
             "ticks": ""
            },
            "colorscale": [
             [
              0,
              "#0d0887"
             ],
             [
              0.1111111111111111,
              "#46039f"
             ],
             [
              0.2222222222222222,
              "#7201a8"
             ],
             [
              0.3333333333333333,
              "#9c179e"
             ],
             [
              0.4444444444444444,
              "#bd3786"
             ],
             [
              0.5555555555555556,
              "#d8576b"
             ],
             [
              0.6666666666666666,
              "#ed7953"
             ],
             [
              0.7777777777777778,
              "#fb9f3a"
             ],
             [
              0.8888888888888888,
              "#fdca26"
             ],
             [
              1,
              "#f0f921"
             ]
            ],
            "type": "surface"
           }
          ],
          "table": [
           {
            "cells": {
             "fill": {
              "color": "#EBF0F8"
             },
             "line": {
              "color": "white"
             }
            },
            "header": {
             "fill": {
              "color": "#C8D4E3"
             },
             "line": {
              "color": "white"
             }
            },
            "type": "table"
           }
          ]
         },
         "layout": {
          "annotationdefaults": {
           "arrowcolor": "#2a3f5f",
           "arrowhead": 0,
           "arrowwidth": 1
          },
          "autotypenumbers": "strict",
          "coloraxis": {
           "colorbar": {
            "outlinewidth": 0,
            "ticks": ""
           }
          },
          "colorscale": {
           "diverging": [
            [
             0,
             "#8e0152"
            ],
            [
             0.1,
             "#c51b7d"
            ],
            [
             0.2,
             "#de77ae"
            ],
            [
             0.3,
             "#f1b6da"
            ],
            [
             0.4,
             "#fde0ef"
            ],
            [
             0.5,
             "#f7f7f7"
            ],
            [
             0.6,
             "#e6f5d0"
            ],
            [
             0.7,
             "#b8e186"
            ],
            [
             0.8,
             "#7fbc41"
            ],
            [
             0.9,
             "#4d9221"
            ],
            [
             1,
             "#276419"
            ]
           ],
           "sequential": [
            [
             0,
             "#0d0887"
            ],
            [
             0.1111111111111111,
             "#46039f"
            ],
            [
             0.2222222222222222,
             "#7201a8"
            ],
            [
             0.3333333333333333,
             "#9c179e"
            ],
            [
             0.4444444444444444,
             "#bd3786"
            ],
            [
             0.5555555555555556,
             "#d8576b"
            ],
            [
             0.6666666666666666,
             "#ed7953"
            ],
            [
             0.7777777777777778,
             "#fb9f3a"
            ],
            [
             0.8888888888888888,
             "#fdca26"
            ],
            [
             1,
             "#f0f921"
            ]
           ],
           "sequentialminus": [
            [
             0,
             "#0d0887"
            ],
            [
             0.1111111111111111,
             "#46039f"
            ],
            [
             0.2222222222222222,
             "#7201a8"
            ],
            [
             0.3333333333333333,
             "#9c179e"
            ],
            [
             0.4444444444444444,
             "#bd3786"
            ],
            [
             0.5555555555555556,
             "#d8576b"
            ],
            [
             0.6666666666666666,
             "#ed7953"
            ],
            [
             0.7777777777777778,
             "#fb9f3a"
            ],
            [
             0.8888888888888888,
             "#fdca26"
            ],
            [
             1,
             "#f0f921"
            ]
           ]
          },
          "colorway": [
           "#636efa",
           "#EF553B",
           "#00cc96",
           "#ab63fa",
           "#FFA15A",
           "#19d3f3",
           "#FF6692",
           "#B6E880",
           "#FF97FF",
           "#FECB52"
          ],
          "font": {
           "color": "#2a3f5f"
          },
          "geo": {
           "bgcolor": "white",
           "lakecolor": "white",
           "landcolor": "#E5ECF6",
           "showlakes": true,
           "showland": true,
           "subunitcolor": "white"
          },
          "hoverlabel": {
           "align": "left"
          },
          "hovermode": "closest",
          "mapbox": {
           "style": "light"
          },
          "paper_bgcolor": "white",
          "plot_bgcolor": "#E5ECF6",
          "polar": {
           "angularaxis": {
            "gridcolor": "white",
            "linecolor": "white",
            "ticks": ""
           },
           "bgcolor": "#E5ECF6",
           "radialaxis": {
            "gridcolor": "white",
            "linecolor": "white",
            "ticks": ""
           }
          },
          "scene": {
           "xaxis": {
            "backgroundcolor": "#E5ECF6",
            "gridcolor": "white",
            "gridwidth": 2,
            "linecolor": "white",
            "showbackground": true,
            "ticks": "",
            "zerolinecolor": "white"
           },
           "yaxis": {
            "backgroundcolor": "#E5ECF6",
            "gridcolor": "white",
            "gridwidth": 2,
            "linecolor": "white",
            "showbackground": true,
            "ticks": "",
            "zerolinecolor": "white"
           },
           "zaxis": {
            "backgroundcolor": "#E5ECF6",
            "gridcolor": "white",
            "gridwidth": 2,
            "linecolor": "white",
            "showbackground": true,
            "ticks": "",
            "zerolinecolor": "white"
           }
          },
          "shapedefaults": {
           "line": {
            "color": "#2a3f5f"
           }
          },
          "ternary": {
           "aaxis": {
            "gridcolor": "white",
            "linecolor": "white",
            "ticks": ""
           },
           "baxis": {
            "gridcolor": "white",
            "linecolor": "white",
            "ticks": ""
           },
           "bgcolor": "#E5ECF6",
           "caxis": {
            "gridcolor": "white",
            "linecolor": "white",
            "ticks": ""
           }
          },
          "title": {
           "x": 0.05
          },
          "xaxis": {
           "automargin": true,
           "gridcolor": "white",
           "linecolor": "white",
           "ticks": "",
           "title": {
            "standoff": 15
           },
           "zerolinecolor": "white",
           "zerolinewidth": 2
          },
          "yaxis": {
           "automargin": true,
           "gridcolor": "white",
           "linecolor": "white",
           "ticks": "",
           "title": {
            "standoff": 15
           },
           "zerolinecolor": "white",
           "zerolinewidth": 2
          }
         }
        }
       }
      },
      "text/html": [
       "<div>                        <script type=\"text/javascript\">window.PlotlyConfig = {MathJaxConfig: 'local'};</script>\n",
       "        <script src=\"https://cdn.plot.ly/plotly-2.12.1.min.js\"></script>                <div id=\"42a762c0-a84a-468d-84ee-31410bc63fab\" class=\"plotly-graph-div\" style=\"height:100%; width:100%;\"></div>            <script type=\"text/javascript\">                                    window.PLOTLYENV=window.PLOTLYENV || {};                                    if (document.getElementById(\"42a762c0-a84a-468d-84ee-31410bc63fab\")) {                    Plotly.newPlot(                        \"42a762c0-a84a-468d-84ee-31410bc63fab\",                        [{\"hoverinfo\":\"y\",\"x\":[\"Nutrient nitrogen N (total)\",\"Nutrient phosphate P2O5 (total)\",\"Nutrient phosphate P2O5 (total)\",\"Nutrient nitrogen N (total)\",\"Nutrient nitrogen N (total)\",\"Nutrient phosphate P2O5 (total)\",\"Nutrient phosphate P2O5 (total)\",\"Nutrient nitrogen N (total)\",\"Nutrient nitrogen N (total)\",\"Nutrient phosphate P2O5 (total)\",\"Nutrient phosphate P2O5 (total)\",\"Nutrient nitrogen N (total)\",\"Nutrient potash K2O (total)\",\"Nutrient potash K2O (total)\",\"Nutrient nitrogen N (total)\",\"Nutrient phosphate P2O5 (total)\",\"Nutrient phosphate P2O5 (total)\",\"Nutrient nitrogen N (total)\",\"Nutrient potash K2O (total)\",\"Nutrient potash K2O (total)\",\"Nutrient nitrogen N (total)\",\"Nutrient phosphate P2O5 (total)\",\"Nutrient phosphate P2O5 (total)\",\"Nutrient nitrogen N (total)\",\"Nutrient potash K2O (total)\",\"Nutrient potash K2O (total)\",\"Nutrient nitrogen N (total)\",\"Nutrient phosphate P2O5 (total)\",\"Nutrient phosphate P2O5 (total)\",\"Nutrient nitrogen N (total)\",\"Nutrient potash K2O (total)\",\"Nutrient potash K2O (total)\",\"Nutrient nitrogen N (total)\",\"Nutrient phosphate P2O5 (total)\",\"Nutrient phosphate P2O5 (total)\",\"Nutrient nitrogen N (total)\",\"Nutrient potash K2O (total)\",\"Nutrient potash K2O (total)\",\"Nutrient nitrogen N (total)\",\"Nutrient phosphate P2O5 (total)\",\"Nutrient phosphate P2O5 (total)\",\"Nutrient nitrogen N (total)\",\"Nutrient potash K2O (total)\",\"Nutrient potash K2O (total)\",\"Nutrient nitrogen N (total)\",\"Nutrient phosphate P2O5 (total)\",\"Nutrient phosphate P2O5 (total)\",\"Nutrient nitrogen N (total)\",\"Nutrient potash K2O (total)\",\"Nutrient potash K2O (total)\",\"Nutrient nitrogen N (total)\",\"Nutrient phosphate P2O5 (total)\",\"Nutrient phosphate P2O5 (total)\",\"Nutrient nitrogen N (total)\",\"Nutrient potash K2O (total)\",\"Nutrient potash K2O (total)\",\"Nutrient nitrogen N (total)\",\"Nutrient phosphate P2O5 (total)\",\"Nutrient phosphate P2O5 (total)\",\"Nutrient nitrogen N (total)\",\"Nutrient potash K2O (total)\",\"Nutrient potash K2O (total)\",\"Nutrient nitrogen N (total)\",\"Nutrient phosphate P2O5 (total)\",\"Nutrient phosphate P2O5 (total)\",\"Nutrient nitrogen N (total)\",\"Nutrient potash K2O (total)\",\"Nutrient potash K2O (total)\",\"Nutrient nitrogen N (total)\",\"Nutrient phosphate P2O5 (total)\",\"Nutrient phosphate P2O5 (total)\",\"Nutrient nitrogen N (total)\",\"Nutrient potash K2O (total)\",\"Nutrient potash K2O (total)\",\"Nutrient nitrogen N (total)\",\"Nutrient phosphate P2O5 (total)\",\"Nutrient phosphate P2O5 (total)\",\"Nutrient nitrogen N (total)\",\"Nutrient potash K2O (total)\",\"Nutrient potash K2O (total)\",\"Nutrient nitrogen N (total)\",\"Nutrient phosphate P2O5 (total)\",\"Nutrient phosphate P2O5 (total)\",\"Nutrient nitrogen N (total)\",\"Nutrient potash K2O (total)\",\"Nutrient potash K2O (total)\",\"Nutrient nitrogen N (total)\",\"Nutrient phosphate P2O5 (total)\",\"Nutrient phosphate P2O5 (total)\",\"Nutrient nitrogen N (total)\",\"Nutrient potash K2O (total)\",\"Nutrient potash K2O (total)\",\"Nutrient nitrogen N (total)\",\"Nutrient phosphate P2O5 (total)\",\"Nutrient phosphate P2O5 (total)\",\"Nutrient nitrogen N (total)\",\"Nutrient potash K2O (total)\",\"Nutrient potash K2O (total)\",\"Nutrient nitrogen N (total)\",\"Nutrient phosphate P2O5 (total)\",\"Nutrient phosphate P2O5 (total)\",\"Nutrient nitrogen N (total)\",\"Nutrient potash K2O (total)\",\"Nutrient potash K2O (total)\",\"Nutrient nitrogen N (total)\",\"Nutrient phosphate P2O5 (total)\",\"Nutrient phosphate P2O5 (total)\",\"Nutrient nitrogen N (total)\",\"Nutrient potash K2O (total)\",\"Nutrient potash K2O (total)\",\"Nutrient nitrogen N (total)\",\"Nutrient phosphate P2O5 (total)\",\"Nutrient phosphate P2O5 (total)\",\"Nutrient nitrogen N (total)\",\"Nutrient potash K2O (total)\",\"Nutrient potash K2O (total)\",\"Nutrient nitrogen N (total)\",\"Nutrient phosphate P2O5 (total)\",\"Nutrient phosphate P2O5 (total)\",\"Nutrient nitrogen N (total)\",\"Nutrient potash K2O (total)\",\"Nutrient potash K2O (total)\",\"Nutrient nitrogen N (total)\",\"Nutrient phosphate P2O5 (total)\",\"Nutrient phosphate P2O5 (total)\",\"Nutrient nitrogen N (total)\",\"Nutrient potash K2O (total)\",\"Nutrient potash K2O (total)\",\"Nutrient nitrogen N (total)\",\"Nutrient phosphate P2O5 (total)\",\"Nutrient phosphate P2O5 (total)\",\"Nutrient nitrogen N (total)\",\"Nutrient potash K2O (total)\",\"Nutrient potash K2O (total)\",\"Nutrient nitrogen N (total)\",\"Nutrient phosphate P2O5 (total)\",\"Nutrient phosphate P2O5 (total)\",\"Nutrient nitrogen N (total)\",\"Nutrient potash K2O (total)\",\"Nutrient potash K2O (total)\",\"Nutrient nitrogen N (total)\",\"Nutrient phosphate P2O5 (total)\",\"Nutrient phosphate P2O5 (total)\",\"Nutrient nitrogen N (total)\",\"Nutrient potash K2O (total)\",\"Nutrient potash K2O (total)\",\"Nutrient nitrogen N (total)\",\"Nutrient phosphate P2O5 (total)\",\"Nutrient phosphate P2O5 (total)\",\"Nutrient nitrogen N (total)\",\"Nutrient potash K2O (total)\",\"Nutrient potash K2O (total)\",\"Nutrient nitrogen N (total)\",\"Nutrient phosphate P2O5 (total)\",\"Nutrient phosphate P2O5 (total)\",\"Nutrient nitrogen N (total)\",\"Nutrient potash K2O (total)\",\"Nutrient potash K2O (total)\",\"Nutrient nitrogen N (total)\",\"Nutrient phosphate P2O5 (total)\",\"Nutrient phosphate P2O5 (total)\",\"Nutrient nitrogen N (total)\",\"Nutrient potash K2O (total)\",\"Nutrient potash K2O (total)\",\"Nutrient nitrogen N (total)\",\"Nutrient phosphate P2O5 (total)\",\"Nutrient phosphate P2O5 (total)\",\"Nutrient nitrogen N (total)\",\"Nutrient potash K2O (total)\",\"Nutrient potash K2O (total)\",\"Nutrient nitrogen N (total)\",\"Nutrient phosphate P2O5 (total)\",\"Nutrient phosphate P2O5 (total)\",\"Nutrient nitrogen N (total)\",\"Nutrient potash K2O (total)\"],\"y\":[41659,500,210,41160,67620,630,1029,84147,69242,1245,3911,107779,144,212,177441,12777,38642,203521,2486,1344,272566,33801,30462,251519,1225,744,343973,37231,48730,386230,1400,2670,341944,58066,60500,362900,2100,1900,443451,108500,117900,511000,2400,5800,554100,157300,187900,684300,7600,9618,775804,201086,226487,843574,9643,21772,832572,225502,265285,954083,24948,28581,914317,261400,293829,934498,24677,33205,1128138,349776,409750,1332570,42880,45100,1281700,393400,390406,1324453,24533,40078,1467590,382457,388500,1471642,32757,23297,1462862,397974,487530,1636323,24062,23172,1659350,464258,428900,1738117,16555,29669,1991006,494449,419474,1985080,8425,20443,2087607,551284,465000,2091852,21200,18100,2218100,596800,675100,2264600,22800,10900,2291610,641940,647360,2384980,20500,23944,2456009,669307,761031,2570230,26449,35301,2818779,871416,906749,2868984,36408,43924,2714053,816044,565675,2928057,16564,15499,3451900,778714,756700,3270531,37545,28013,3187339,653181,678840,2850771,19427,19849,3239557,875452,936148,3139263,29549,25291,3160507,993338,1209145,3241907,28954,54173,3446922,1257773,1257773,3446922,54173,47260,3505356,1099707,1204060,3533784,60973],\"type\":\"scatter\"}],                        {\"template\":{\"data\":{\"histogram2dcontour\":[{\"type\":\"histogram2dcontour\",\"colorbar\":{\"outlinewidth\":0,\"ticks\":\"\"},\"colorscale\":[[0.0,\"#0d0887\"],[0.1111111111111111,\"#46039f\"],[0.2222222222222222,\"#7201a8\"],[0.3333333333333333,\"#9c179e\"],[0.4444444444444444,\"#bd3786\"],[0.5555555555555556,\"#d8576b\"],[0.6666666666666666,\"#ed7953\"],[0.7777777777777778,\"#fb9f3a\"],[0.8888888888888888,\"#fdca26\"],[1.0,\"#f0f921\"]]}],\"choropleth\":[{\"type\":\"choropleth\",\"colorbar\":{\"outlinewidth\":0,\"ticks\":\"\"}}],\"histogram2d\":[{\"type\":\"histogram2d\",\"colorbar\":{\"outlinewidth\":0,\"ticks\":\"\"},\"colorscale\":[[0.0,\"#0d0887\"],[0.1111111111111111,\"#46039f\"],[0.2222222222222222,\"#7201a8\"],[0.3333333333333333,\"#9c179e\"],[0.4444444444444444,\"#bd3786\"],[0.5555555555555556,\"#d8576b\"],[0.6666666666666666,\"#ed7953\"],[0.7777777777777778,\"#fb9f3a\"],[0.8888888888888888,\"#fdca26\"],[1.0,\"#f0f921\"]]}],\"heatmap\":[{\"type\":\"heatmap\",\"colorbar\":{\"outlinewidth\":0,\"ticks\":\"\"},\"colorscale\":[[0.0,\"#0d0887\"],[0.1111111111111111,\"#46039f\"],[0.2222222222222222,\"#7201a8\"],[0.3333333333333333,\"#9c179e\"],[0.4444444444444444,\"#bd3786\"],[0.5555555555555556,\"#d8576b\"],[0.6666666666666666,\"#ed7953\"],[0.7777777777777778,\"#fb9f3a\"],[0.8888888888888888,\"#fdca26\"],[1.0,\"#f0f921\"]]}],\"heatmapgl\":[{\"type\":\"heatmapgl\",\"colorbar\":{\"outlinewidth\":0,\"ticks\":\"\"},\"colorscale\":[[0.0,\"#0d0887\"],[0.1111111111111111,\"#46039f\"],[0.2222222222222222,\"#7201a8\"],[0.3333333333333333,\"#9c179e\"],[0.4444444444444444,\"#bd3786\"],[0.5555555555555556,\"#d8576b\"],[0.6666666666666666,\"#ed7953\"],[0.7777777777777778,\"#fb9f3a\"],[0.8888888888888888,\"#fdca26\"],[1.0,\"#f0f921\"]]}],\"contourcarpet\":[{\"type\":\"contourcarpet\",\"colorbar\":{\"outlinewidth\":0,\"ticks\":\"\"}}],\"contour\":[{\"type\":\"contour\",\"colorbar\":{\"outlinewidth\":0,\"ticks\":\"\"},\"colorscale\":[[0.0,\"#0d0887\"],[0.1111111111111111,\"#46039f\"],[0.2222222222222222,\"#7201a8\"],[0.3333333333333333,\"#9c179e\"],[0.4444444444444444,\"#bd3786\"],[0.5555555555555556,\"#d8576b\"],[0.6666666666666666,\"#ed7953\"],[0.7777777777777778,\"#fb9f3a\"],[0.8888888888888888,\"#fdca26\"],[1.0,\"#f0f921\"]]}],\"surface\":[{\"type\":\"surface\",\"colorbar\":{\"outlinewidth\":0,\"ticks\":\"\"},\"colorscale\":[[0.0,\"#0d0887\"],[0.1111111111111111,\"#46039f\"],[0.2222222222222222,\"#7201a8\"],[0.3333333333333333,\"#9c179e\"],[0.4444444444444444,\"#bd3786\"],[0.5555555555555556,\"#d8576b\"],[0.6666666666666666,\"#ed7953\"],[0.7777777777777778,\"#fb9f3a\"],[0.8888888888888888,\"#fdca26\"],[1.0,\"#f0f921\"]]}],\"mesh3d\":[{\"type\":\"mesh3d\",\"colorbar\":{\"outlinewidth\":0,\"ticks\":\"\"}}],\"scatter\":[{\"fillpattern\":{\"fillmode\":\"overlay\",\"size\":10,\"solidity\":0.2},\"type\":\"scatter\"}],\"parcoords\":[{\"type\":\"parcoords\",\"line\":{\"colorbar\":{\"outlinewidth\":0,\"ticks\":\"\"}}}],\"scatterpolargl\":[{\"type\":\"scatterpolargl\",\"marker\":{\"colorbar\":{\"outlinewidth\":0,\"ticks\":\"\"}}}],\"bar\":[{\"error_x\":{\"color\":\"#2a3f5f\"},\"error_y\":{\"color\":\"#2a3f5f\"},\"marker\":{\"line\":{\"color\":\"#E5ECF6\",\"width\":0.5},\"pattern\":{\"fillmode\":\"overlay\",\"size\":10,\"solidity\":0.2}},\"type\":\"bar\"}],\"scattergeo\":[{\"type\":\"scattergeo\",\"marker\":{\"colorbar\":{\"outlinewidth\":0,\"ticks\":\"\"}}}],\"scatterpolar\":[{\"type\":\"scatterpolar\",\"marker\":{\"colorbar\":{\"outlinewidth\":0,\"ticks\":\"\"}}}],\"histogram\":[{\"marker\":{\"pattern\":{\"fillmode\":\"overlay\",\"size\":10,\"solidity\":0.2}},\"type\":\"histogram\"}],\"scattergl\":[{\"type\":\"scattergl\",\"marker\":{\"colorbar\":{\"outlinewidth\":0,\"ticks\":\"\"}}}],\"scatter3d\":[{\"type\":\"scatter3d\",\"line\":{\"colorbar\":{\"outlinewidth\":0,\"ticks\":\"\"}},\"marker\":{\"colorbar\":{\"outlinewidth\":0,\"ticks\":\"\"}}}],\"scattermapbox\":[{\"type\":\"scattermapbox\",\"marker\":{\"colorbar\":{\"outlinewidth\":0,\"ticks\":\"\"}}}],\"scatterternary\":[{\"type\":\"scatterternary\",\"marker\":{\"colorbar\":{\"outlinewidth\":0,\"ticks\":\"\"}}}],\"scattercarpet\":[{\"type\":\"scattercarpet\",\"marker\":{\"colorbar\":{\"outlinewidth\":0,\"ticks\":\"\"}}}],\"carpet\":[{\"aaxis\":{\"endlinecolor\":\"#2a3f5f\",\"gridcolor\":\"white\",\"linecolor\":\"white\",\"minorgridcolor\":\"white\",\"startlinecolor\":\"#2a3f5f\"},\"baxis\":{\"endlinecolor\":\"#2a3f5f\",\"gridcolor\":\"white\",\"linecolor\":\"white\",\"minorgridcolor\":\"white\",\"startlinecolor\":\"#2a3f5f\"},\"type\":\"carpet\"}],\"table\":[{\"cells\":{\"fill\":{\"color\":\"#EBF0F8\"},\"line\":{\"color\":\"white\"}},\"header\":{\"fill\":{\"color\":\"#C8D4E3\"},\"line\":{\"color\":\"white\"}},\"type\":\"table\"}],\"barpolar\":[{\"marker\":{\"line\":{\"color\":\"#E5ECF6\",\"width\":0.5},\"pattern\":{\"fillmode\":\"overlay\",\"size\":10,\"solidity\":0.2}},\"type\":\"barpolar\"}],\"pie\":[{\"automargin\":true,\"type\":\"pie\"}]},\"layout\":{\"autotypenumbers\":\"strict\",\"colorway\":[\"#636efa\",\"#EF553B\",\"#00cc96\",\"#ab63fa\",\"#FFA15A\",\"#19d3f3\",\"#FF6692\",\"#B6E880\",\"#FF97FF\",\"#FECB52\"],\"font\":{\"color\":\"#2a3f5f\"},\"hovermode\":\"closest\",\"hoverlabel\":{\"align\":\"left\"},\"paper_bgcolor\":\"white\",\"plot_bgcolor\":\"#E5ECF6\",\"polar\":{\"bgcolor\":\"#E5ECF6\",\"angularaxis\":{\"gridcolor\":\"white\",\"linecolor\":\"white\",\"ticks\":\"\"},\"radialaxis\":{\"gridcolor\":\"white\",\"linecolor\":\"white\",\"ticks\":\"\"}},\"ternary\":{\"bgcolor\":\"#E5ECF6\",\"aaxis\":{\"gridcolor\":\"white\",\"linecolor\":\"white\",\"ticks\":\"\"},\"baxis\":{\"gridcolor\":\"white\",\"linecolor\":\"white\",\"ticks\":\"\"},\"caxis\":{\"gridcolor\":\"white\",\"linecolor\":\"white\",\"ticks\":\"\"}},\"coloraxis\":{\"colorbar\":{\"outlinewidth\":0,\"ticks\":\"\"}},\"colorscale\":{\"sequential\":[[0.0,\"#0d0887\"],[0.1111111111111111,\"#46039f\"],[0.2222222222222222,\"#7201a8\"],[0.3333333333333333,\"#9c179e\"],[0.4444444444444444,\"#bd3786\"],[0.5555555555555556,\"#d8576b\"],[0.6666666666666666,\"#ed7953\"],[0.7777777777777778,\"#fb9f3a\"],[0.8888888888888888,\"#fdca26\"],[1.0,\"#f0f921\"]],\"sequentialminus\":[[0.0,\"#0d0887\"],[0.1111111111111111,\"#46039f\"],[0.2222222222222222,\"#7201a8\"],[0.3333333333333333,\"#9c179e\"],[0.4444444444444444,\"#bd3786\"],[0.5555555555555556,\"#d8576b\"],[0.6666666666666666,\"#ed7953\"],[0.7777777777777778,\"#fb9f3a\"],[0.8888888888888888,\"#fdca26\"],[1.0,\"#f0f921\"]],\"diverging\":[[0,\"#8e0152\"],[0.1,\"#c51b7d\"],[0.2,\"#de77ae\"],[0.3,\"#f1b6da\"],[0.4,\"#fde0ef\"],[0.5,\"#f7f7f7\"],[0.6,\"#e6f5d0\"],[0.7,\"#b8e186\"],[0.8,\"#7fbc41\"],[0.9,\"#4d9221\"],[1,\"#276419\"]]},\"xaxis\":{\"gridcolor\":\"white\",\"linecolor\":\"white\",\"ticks\":\"\",\"title\":{\"standoff\":15},\"zerolinecolor\":\"white\",\"automargin\":true,\"zerolinewidth\":2},\"yaxis\":{\"gridcolor\":\"white\",\"linecolor\":\"white\",\"ticks\":\"\",\"title\":{\"standoff\":15},\"zerolinecolor\":\"white\",\"automargin\":true,\"zerolinewidth\":2},\"scene\":{\"xaxis\":{\"backgroundcolor\":\"#E5ECF6\",\"gridcolor\":\"white\",\"linecolor\":\"white\",\"showbackground\":true,\"ticks\":\"\",\"zerolinecolor\":\"white\",\"gridwidth\":2},\"yaxis\":{\"backgroundcolor\":\"#E5ECF6\",\"gridcolor\":\"white\",\"linecolor\":\"white\",\"showbackground\":true,\"ticks\":\"\",\"zerolinecolor\":\"white\",\"gridwidth\":2},\"zaxis\":{\"backgroundcolor\":\"#E5ECF6\",\"gridcolor\":\"white\",\"linecolor\":\"white\",\"showbackground\":true,\"ticks\":\"\",\"zerolinecolor\":\"white\",\"gridwidth\":2}},\"shapedefaults\":{\"line\":{\"color\":\"#2a3f5f\"}},\"annotationdefaults\":{\"arrowcolor\":\"#2a3f5f\",\"arrowhead\":0,\"arrowwidth\":1},\"geo\":{\"bgcolor\":\"white\",\"landcolor\":\"#E5ECF6\",\"subunitcolor\":\"white\",\"showland\":true,\"showlakes\":true,\"lakecolor\":\"white\"},\"title\":{\"x\":0.05},\"mapbox\":{\"style\":\"light\"}}}},                        {\"responsive\": true}                    )                };                            </script>        </div>"
      ],
      "text/plain": [
       "Figure({\n",
       "    'data': [{'hoverinfo': 'y',\n",
       "              'type': 'scatter',\n",
       "              'x': array(['Nutrient nitrogen N (total)', 'Nutrient phosphate P2O5 (total)',\n",
       "                          'Nutrient phosphate P2O5 (total)', 'Nutrient nitrogen N (total)',\n",
       "                          'Nutrient nitrogen N (total)', 'Nutrient phosphate P2O5 (total)',\n",
       "                          'Nutrient phosphate P2O5 (total)', 'Nutrient nitrogen N (total)',\n",
       "                          'Nutrient nitrogen N (total)', 'Nutrient phosphate P2O5 (total)',\n",
       "                          'Nutrient phosphate P2O5 (total)', 'Nutrient nitrogen N (total)',\n",
       "                          'Nutrient potash K2O (total)', 'Nutrient potash K2O (total)',\n",
       "                          'Nutrient nitrogen N (total)', 'Nutrient phosphate P2O5 (total)',\n",
       "                          'Nutrient phosphate P2O5 (total)', 'Nutrient nitrogen N (total)',\n",
       "                          'Nutrient potash K2O (total)', 'Nutrient potash K2O (total)',\n",
       "                          'Nutrient nitrogen N (total)', 'Nutrient phosphate P2O5 (total)',\n",
       "                          'Nutrient phosphate P2O5 (total)', 'Nutrient nitrogen N (total)',\n",
       "                          'Nutrient potash K2O (total)', 'Nutrient potash K2O (total)',\n",
       "                          'Nutrient nitrogen N (total)', 'Nutrient phosphate P2O5 (total)',\n",
       "                          'Nutrient phosphate P2O5 (total)', 'Nutrient nitrogen N (total)',\n",
       "                          'Nutrient potash K2O (total)', 'Nutrient potash K2O (total)',\n",
       "                          'Nutrient nitrogen N (total)', 'Nutrient phosphate P2O5 (total)',\n",
       "                          'Nutrient phosphate P2O5 (total)', 'Nutrient nitrogen N (total)',\n",
       "                          'Nutrient potash K2O (total)', 'Nutrient potash K2O (total)',\n",
       "                          'Nutrient nitrogen N (total)', 'Nutrient phosphate P2O5 (total)',\n",
       "                          'Nutrient phosphate P2O5 (total)', 'Nutrient nitrogen N (total)',\n",
       "                          'Nutrient potash K2O (total)', 'Nutrient potash K2O (total)',\n",
       "                          'Nutrient nitrogen N (total)', 'Nutrient phosphate P2O5 (total)',\n",
       "                          'Nutrient phosphate P2O5 (total)', 'Nutrient nitrogen N (total)',\n",
       "                          'Nutrient potash K2O (total)', 'Nutrient potash K2O (total)',\n",
       "                          'Nutrient nitrogen N (total)', 'Nutrient phosphate P2O5 (total)',\n",
       "                          'Nutrient phosphate P2O5 (total)', 'Nutrient nitrogen N (total)',\n",
       "                          'Nutrient potash K2O (total)', 'Nutrient potash K2O (total)',\n",
       "                          'Nutrient nitrogen N (total)', 'Nutrient phosphate P2O5 (total)',\n",
       "                          'Nutrient phosphate P2O5 (total)', 'Nutrient nitrogen N (total)',\n",
       "                          'Nutrient potash K2O (total)', 'Nutrient potash K2O (total)',\n",
       "                          'Nutrient nitrogen N (total)', 'Nutrient phosphate P2O5 (total)',\n",
       "                          'Nutrient phosphate P2O5 (total)', 'Nutrient nitrogen N (total)',\n",
       "                          'Nutrient potash K2O (total)', 'Nutrient potash K2O (total)',\n",
       "                          'Nutrient nitrogen N (total)', 'Nutrient phosphate P2O5 (total)',\n",
       "                          'Nutrient phosphate P2O5 (total)', 'Nutrient nitrogen N (total)',\n",
       "                          'Nutrient potash K2O (total)', 'Nutrient potash K2O (total)',\n",
       "                          'Nutrient nitrogen N (total)', 'Nutrient phosphate P2O5 (total)',\n",
       "                          'Nutrient phosphate P2O5 (total)', 'Nutrient nitrogen N (total)',\n",
       "                          'Nutrient potash K2O (total)', 'Nutrient potash K2O (total)',\n",
       "                          'Nutrient nitrogen N (total)', 'Nutrient phosphate P2O5 (total)',\n",
       "                          'Nutrient phosphate P2O5 (total)', 'Nutrient nitrogen N (total)',\n",
       "                          'Nutrient potash K2O (total)', 'Nutrient potash K2O (total)',\n",
       "                          'Nutrient nitrogen N (total)', 'Nutrient phosphate P2O5 (total)',\n",
       "                          'Nutrient phosphate P2O5 (total)', 'Nutrient nitrogen N (total)',\n",
       "                          'Nutrient potash K2O (total)', 'Nutrient potash K2O (total)',\n",
       "                          'Nutrient nitrogen N (total)', 'Nutrient phosphate P2O5 (total)',\n",
       "                          'Nutrient phosphate P2O5 (total)', 'Nutrient nitrogen N (total)',\n",
       "                          'Nutrient potash K2O (total)', 'Nutrient potash K2O (total)',\n",
       "                          'Nutrient nitrogen N (total)', 'Nutrient phosphate P2O5 (total)',\n",
       "                          'Nutrient phosphate P2O5 (total)', 'Nutrient nitrogen N (total)',\n",
       "                          'Nutrient potash K2O (total)', 'Nutrient potash K2O (total)',\n",
       "                          'Nutrient nitrogen N (total)', 'Nutrient phosphate P2O5 (total)',\n",
       "                          'Nutrient phosphate P2O5 (total)', 'Nutrient nitrogen N (total)',\n",
       "                          'Nutrient potash K2O (total)', 'Nutrient potash K2O (total)',\n",
       "                          'Nutrient nitrogen N (total)', 'Nutrient phosphate P2O5 (total)',\n",
       "                          'Nutrient phosphate P2O5 (total)', 'Nutrient nitrogen N (total)',\n",
       "                          'Nutrient potash K2O (total)', 'Nutrient potash K2O (total)',\n",
       "                          'Nutrient nitrogen N (total)', 'Nutrient phosphate P2O5 (total)',\n",
       "                          'Nutrient phosphate P2O5 (total)', 'Nutrient nitrogen N (total)',\n",
       "                          'Nutrient potash K2O (total)', 'Nutrient potash K2O (total)',\n",
       "                          'Nutrient nitrogen N (total)', 'Nutrient phosphate P2O5 (total)',\n",
       "                          'Nutrient phosphate P2O5 (total)', 'Nutrient nitrogen N (total)',\n",
       "                          'Nutrient potash K2O (total)', 'Nutrient potash K2O (total)',\n",
       "                          'Nutrient nitrogen N (total)', 'Nutrient phosphate P2O5 (total)',\n",
       "                          'Nutrient phosphate P2O5 (total)', 'Nutrient nitrogen N (total)',\n",
       "                          'Nutrient potash K2O (total)', 'Nutrient potash K2O (total)',\n",
       "                          'Nutrient nitrogen N (total)', 'Nutrient phosphate P2O5 (total)',\n",
       "                          'Nutrient phosphate P2O5 (total)', 'Nutrient nitrogen N (total)',\n",
       "                          'Nutrient potash K2O (total)', 'Nutrient potash K2O (total)',\n",
       "                          'Nutrient nitrogen N (total)', 'Nutrient phosphate P2O5 (total)',\n",
       "                          'Nutrient phosphate P2O5 (total)', 'Nutrient nitrogen N (total)',\n",
       "                          'Nutrient potash K2O (total)', 'Nutrient potash K2O (total)',\n",
       "                          'Nutrient nitrogen N (total)', 'Nutrient phosphate P2O5 (total)',\n",
       "                          'Nutrient phosphate P2O5 (total)', 'Nutrient nitrogen N (total)',\n",
       "                          'Nutrient potash K2O (total)', 'Nutrient potash K2O (total)',\n",
       "                          'Nutrient nitrogen N (total)', 'Nutrient phosphate P2O5 (total)',\n",
       "                          'Nutrient phosphate P2O5 (total)', 'Nutrient nitrogen N (total)',\n",
       "                          'Nutrient potash K2O (total)', 'Nutrient potash K2O (total)',\n",
       "                          'Nutrient nitrogen N (total)', 'Nutrient phosphate P2O5 (total)',\n",
       "                          'Nutrient phosphate P2O5 (total)', 'Nutrient nitrogen N (total)',\n",
       "                          'Nutrient potash K2O (total)', 'Nutrient potash K2O (total)',\n",
       "                          'Nutrient nitrogen N (total)', 'Nutrient phosphate P2O5 (total)',\n",
       "                          'Nutrient phosphate P2O5 (total)', 'Nutrient nitrogen N (total)',\n",
       "                          'Nutrient potash K2O (total)', 'Nutrient potash K2O (total)',\n",
       "                          'Nutrient nitrogen N (total)', 'Nutrient phosphate P2O5 (total)',\n",
       "                          'Nutrient phosphate P2O5 (total)', 'Nutrient nitrogen N (total)',\n",
       "                          'Nutrient potash K2O (total)'], dtype=object),\n",
       "              'y': array([  41659,     500,     210,   41160,   67620,     630,    1029,   84147,\n",
       "                            69242,    1245,    3911,  107779,     144,     212,  177441,   12777,\n",
       "                            38642,  203521,    2486,    1344,  272566,   33801,   30462,  251519,\n",
       "                             1225,     744,  343973,   37231,   48730,  386230,    1400,    2670,\n",
       "                           341944,   58066,   60500,  362900,    2100,    1900,  443451,  108500,\n",
       "                           117900,  511000,    2400,    5800,  554100,  157300,  187900,  684300,\n",
       "                             7600,    9618,  775804,  201086,  226487,  843574,    9643,   21772,\n",
       "                           832572,  225502,  265285,  954083,   24948,   28581,  914317,  261400,\n",
       "                           293829,  934498,   24677,   33205, 1128138,  349776,  409750, 1332570,\n",
       "                            42880,   45100, 1281700,  393400,  390406, 1324453,   24533,   40078,\n",
       "                          1467590,  382457,  388500, 1471642,   32757,   23297, 1462862,  397974,\n",
       "                           487530, 1636323,   24062,   23172, 1659350,  464258,  428900, 1738117,\n",
       "                            16555,   29669, 1991006,  494449,  419474, 1985080,    8425,   20443,\n",
       "                          2087607,  551284,  465000, 2091852,   21200,   18100, 2218100,  596800,\n",
       "                           675100, 2264600,   22800,   10900, 2291610,  641940,  647360, 2384980,\n",
       "                            20500,   23944, 2456009,  669307,  761031, 2570230,   26449,   35301,\n",
       "                          2818779,  871416,  906749, 2868984,   36408,   43924, 2714053,  816044,\n",
       "                           565675, 2928057,   16564,   15499, 3451900,  778714,  756700, 3270531,\n",
       "                            37545,   28013, 3187339,  653181,  678840, 2850771,   19427,   19849,\n",
       "                          3239557,  875452,  936148, 3139263,   29549,   25291, 3160507,  993338,\n",
       "                          1209145, 3241907,   28954,   54173, 3446922, 1257773, 1257773, 3446922,\n",
       "                            54173,   47260, 3505356, 1099707, 1204060, 3533784,   60973],\n",
       "                         dtype=int64)}],\n",
       "    'layout': {'template': '...'}\n",
       "})"
      ]
     },
     "execution_count": 82,
     "metadata": {},
     "output_type": "execute_result"
    }
   ],
   "source": [
    "go.Figure(go.Scatter(\n",
    "    x = df_fur_clean['Item'],\n",
    "    y = df_fur_clean['Value'],hoverinfo='y'\n",
    "))\n"
   ]
  },
  {
   "cell_type": "code",
   "execution_count": 3,
   "metadata": {},
   "outputs": [
    {
     "data": {
      "text/plain": [
       "[<matplotlib.lines.Line2D at 0x2ac7e051db0>]"
      ]
     },
     "execution_count": 3,
     "metadata": {},
     "output_type": "execute_result"
    },
    {
     "data": {
      "image/png": "[encoded data removed]",
      "text/plain": [
       "<Figure size 432x288 with 1 Axes>"
      ]
     },
     "metadata": {
      "needs_background": "light"
     },
     "output_type": "display_data"
    }
   ],
   "source": [
    "# Normal Dispersion\n",
    "x_axis = np.arange(-4,4,0.1)\n",
    "plt.plot(x_axis,norm.pdf(x_axis,0,1))"
   ]
  }
 ],
 "metadata": {
  "kernelspec": {
   "display_name": "Python 3.10.5 64-bit",
   "language": "python",
   "name": "python3"
  },
  "language_info": {
   "codemirror_mode": {
    "name": "ipython",
    "version": 3
   },
   "file_extension": ".py",
   "mimetype": "text/x-python",
   "name": "python",
   "nbconvert_exporter": "python",
   "pygments_lexer": "ipython3",
   "version": "3.10.5"
  },
  "orig_nbformat": 4,
  "vscode": {
   "interpreter": {
    "hash": "3196968d684371006099b3d55edeef8ed90365227a30deaef86e5d4aa8519be0"
   }
  }
 },
 "nbformat": 4,
 "nbformat_minor": 2
}
