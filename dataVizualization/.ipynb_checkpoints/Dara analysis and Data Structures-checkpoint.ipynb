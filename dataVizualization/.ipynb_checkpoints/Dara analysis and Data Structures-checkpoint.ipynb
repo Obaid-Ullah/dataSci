{
 "cells": [
  {
   "cell_type": "markdown",
   "id": "2db593c4",
   "metadata": {},
   "source": [
    "# Heading \n",
    "## String functions"
   ]
  },
  {
   "cell_type": "code",
   "execution_count": 2,
   "id": "e2cd9de1",
   "metadata": {},
   "outputs": [],
   "source": [
    "a='Obaid Ullah Rana'"
   ]
  },
  {
   "cell_type": "code",
   "execution_count": 3,
   "id": "0bf45cfc",
   "metadata": {},
   "outputs": [
    {
     "data": {
      "text/plain": [
       "16"
      ]
     },
     "execution_count": 3,
     "metadata": {},
     "output_type": "execute_result"
    }
   ],
   "source": [
    "len(a)"
   ]
  },
  {
   "cell_type": "code",
   "execution_count": 4,
   "id": "1a4ff309",
   "metadata": {},
   "outputs": [
    {
     "data": {
      "text/plain": [
       "'OBAID ULLAH RANA'"
      ]
     },
     "execution_count": 4,
     "metadata": {},
     "output_type": "execute_result"
    }
   ],
   "source": [
    "a.upper()"
   ]
  },
  {
   "cell_type": "code",
   "execution_count": 5,
   "id": "181be7c9",
   "metadata": {},
   "outputs": [
    {
     "data": {
      "text/plain": [
       "'obaid ullah rana'"
      ]
     },
     "execution_count": 5,
     "metadata": {},
     "output_type": "execute_result"
    }
   ],
   "source": [
    "a.lower()"
   ]
  },
  {
   "cell_type": "code",
   "execution_count": 6,
   "id": "e75e86ad",
   "metadata": {},
   "outputs": [
    {
     "data": {
      "text/plain": [
       "'l'"
      ]
     },
     "execution_count": 6,
     "metadata": {},
     "output_type": "execute_result"
    }
   ],
   "source": [
    "a[8]"
   ]
  },
  {
   "cell_type": "markdown",
   "id": "bdb8083e",
   "metadata": {},
   "source": [
    "# Tuples\n",
    "### - Ordered collection of elements \n",
    "### - round braces ()\n",
    "### - any kind of data can be stored as in list\n",
    "### - but unmutable > you cant change elements once defined"
   ]
  },
  {
   "cell_type": "code",
   "execution_count": null,
   "id": "a3a6c0f6",
   "metadata": {},
   "outputs": [],
   "source": [
    "Name =('Obaid',26, 5.9, 'MSSE','Male')\n",
    "Name"
   ]
  }
 ],
 "metadata": {
  "kernelspec": {
   "display_name": "Python 3.10.5 64-bit",
   "language": "python",
   "name": "python3"
  },
  "language_info": {
   "codemirror_mode": {
    "name": "ipython",
    "version": 3
   },
   "file_extension": ".py",
   "mimetype": "text/x-python",
   "name": "python",
   "nbconvert_exporter": "python",
   "pygments_lexer": "ipython3",
   "version": "3.10.5"
  },
  "vscode": {
   "interpreter": {
    "hash": "3196968d684371006099b3d55edeef8ed90365227a30deaef86e5d4aa8519be0"
   }
  }
 },
 "nbformat": 4,
 "nbformat_minor": 5
}
