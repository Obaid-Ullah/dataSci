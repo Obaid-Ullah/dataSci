{
 "cells": [
  {
   "cell_type": "markdown",
   "metadata": {},
   "source": [
    "Q2.\n",
    "Rewrite your pay computation with time-and-a- half for overtime and create a function called compute pay which takes two parameters ( hours and rate).\n",
    "Enter Hours: 45\n",
    "Enter Rate: 10\n",
    "Pay: 475.0\n"
   ]
  },
  {
   "cell_type": "code",
   "execution_count": 41,
   "metadata": {},
   "outputs": [
    {
     "name": "stdout",
     "output_type": "stream",
     "text": [
      "Pay: 475.0\n"
     ]
    }
   ],
   "source": [
    "# Import necessary libraries\n",
    "import numpy as np\n",
    "import pandas as pd\n",
    "\n",
    "# Define a function to compute pay\n",
    "def compute_pay(hours, rate):\n",
    "    # Check if the hours worked is less than or equal to 40\n",
    "    if hours <= 40:\n",
    "        # Calculate pay without overtime\n",
    "        pay = hours * rate\n",
    "    else:\n",
    "        # Calculate pay with overtime\n",
    "        regular_pay = 40 * rate\n",
    "        overtime_pay = (hours - 40) * (rate * 1.5)\n",
    "        pay = regular_pay + overtime_pay\n",
    "    # Return the calculated pay\n",
    "    return pay\n",
    "\n",
    "# Prompt user to input hours and rate\n",
    "hours = float(input(\"Enter Hours: \"))\n",
    "rate = float(input(\"Enter Rate: \"))\n",
    "\n",
    "# Call the compute_pay function with user input as arguments\n",
    "pay = compute_pay(hours, rate)\n",
    "\n",
    "# Print the calculated pay\n",
    "print(\"Pay: \" + str(pay))\n"
   ]
  },
  {
   "cell_type": "markdown",
   "metadata": {},
   "source": [
    "Q3.\n",
    "Find the Largest value from a given list [9, 41, 12, 3, 74, 15]"
   ]
  },
  {
   "cell_type": "code",
   "execution_count": 42,
   "metadata": {},
   "outputs": [
    {
     "name": "stdout",
     "output_type": "stream",
     "text": [
      "The largest value in the list is: 74\n"
     ]
    }
   ],
   "source": [
    "# Create a list of integers\n",
    "my_list = [9, 41, 12, 3, 74, 15]\n",
    "\n",
    "# Assume the first element is the largest value\n",
    "largest_value = my_list[0]\n",
    "\n",
    "# Loop through the remaining elements in the list\n",
    "for i in range(1, len(my_list)):\n",
    "    # If the current element is greater than the current largest value,\n",
    "    # update the largest value to the current element\n",
    "    if my_list[i] > largest_value:\n",
    "        largest_value = my_list[i]\n",
    "\n",
    "# Print the largest value in the list\n",
    "print(\"The largest value in the list is:\", largest_value)"
   ]
  },
  {
   "cell_type": "markdown",
   "metadata": {},
   "source": [
    "Q4.\n",
    "Find the smallest value from a given list [9, 41, 12, 3, 74, 15]"
   ]
  },
  {
   "cell_type": "code",
   "execution_count": 43,
   "metadata": {},
   "outputs": [
    {
     "name": "stdout",
     "output_type": "stream",
     "text": [
      "The smallest value in the list is: 3\n"
     ]
    }
   ],
   "source": [
    "# Create a list of integers\n",
    "my_list = [9, 41, 12, 3, 74, 15]\n",
    "\n",
    "# Assume the first element is the smallest value\n",
    "smallest_value = my_list[0]\n",
    "\n",
    "# Loop through the remaining elements in the list\n",
    "for i in range(1, len(my_list)):\n",
    "    # If the current element is less than the current smallest value,\n",
    "    # update the smallest value to the current element\n",
    "    if my_list[i] < smallest_value:\n",
    "        smallest_value = my_list[i]\n",
    "\n",
    "# Print the smallest value in the list\n",
    "print(\"The smallest value in the list is:\", smallest_value)\n"
   ]
  },
  {
   "cell_type": "markdown",
   "metadata": {},
   "source": [
    "Q5.Find the average of a given list [9, 41, 12, 3, 74, 15]"
   ]
  },
  {
   "cell_type": "code",
   "execution_count": 44,
   "metadata": {},
   "outputs": [
    {
     "name": "stdout",
     "output_type": "stream",
     "text": [
      "The average of the list is: 25.666666666666668\n"
     ]
    }
   ],
   "source": [
    "# Create a list of integers\n",
    "my_list = [9, 41, 12, 3, 74, 15]\n",
    "\n",
    "# Initialize a variable to hold the sum of the elements\n",
    "sum = 0\n",
    "\n",
    "# Loop through the elements in the list\n",
    "for i in range(len(my_list)):\n",
    "    # Add the current element to the sum variable\n",
    "    sum += my_list[i]\n",
    "\n",
    "# Calculate the average by dividing the sum by the number of elements\n",
    "average = sum / len(my_list)\n",
    "\n",
    "# Print the average of the list\n",
    "print(\"The average of the list is:\", average)\n"
   ]
  },
  {
   "cell_type": "markdown",
   "metadata": {},
   "source": [
    "Q6.\n",
    "Search if a given value 74 is present in a given list [9, 41, 12, 3, 74, 15]"
   ]
  },
  {
   "cell_type": "code",
   "execution_count": 45,
   "metadata": {},
   "outputs": [
    {
     "name": "stdout",
     "output_type": "stream",
     "text": [
      "The value 74 is present in the list.\n"
     ]
    }
   ],
   "source": [
    "# Create a list of integers\n",
    "my_list = [9, 41, 12, 3, 74, 15]\n",
    "\n",
    "# Set the value to search for\n",
    "search_value = 74\n",
    "\n",
    "# Check if the search value is in the list\n",
    "if search_value in my_list:\n",
    "    # If it is, print a message saying so\n",
    "    print(\"The value\", search_value, \"is present in the list.\")\n",
    "else:\n",
    "    # If it's not, print a message saying so\n",
    "    print(\"The value\", search_value, \"is not present in the list.\")\n"
   ]
  },
  {
   "cell_type": "markdown",
   "metadata": {},
   "source": [
    "Q7.\n",
    "Input a file mbox.txt during runtime and count the number of lines."
   ]
  },
  {
   "cell_type": "code",
   "execution_count": 46,
   "metadata": {},
   "outputs": [
    {
     "name": "stdout",
     "output_type": "stream",
     "text": [
      "The number of lines in the file is: 132045\n"
     ]
    }
   ],
   "source": [
    "# Prompt the user to enter a filename\n",
    "filename = input(\"mbox.txt\")\n",
    "\n",
    "# Initialize a variable to count the number of lines\n",
    "line_count = 0\n",
    "\n",
    "# Use a try-except block to handle the case where the file is not found\n",
    "try:\n",
    "    # Open the file in read mode using a context manager\n",
    "    with open(filename, 'r') as file:\n",
    "        # Loop through each line in the file\n",
    "        for line in file:\n",
    "            # Increment the line count\n",
    "            line_count += 1\n",
    "    # Print the number of lines in the file\n",
    "    print(\"The number of lines in the file is:\", line_count)\n",
    "\n",
    "# Handle the case where the file is not found\n",
    "except FileNotFoundError:\n",
    "    print(\"File not found. Please check the file name and try again.\")\n"
   ]
  },
  {
   "cell_type": "code",
   "execution_count": 47,
   "metadata": {},
   "outputs": [
    {
     "name": "stdout",
     "output_type": "stream",
     "text": [
      "Number of lines in file: 132045\n"
     ]
    }
   ],
   "source": [
    "# Prompt the user to enter a filename\n",
    "filename = input(\"mbox.txt\")\n",
    "\n",
    "# Initialize a variable to count the number of lines\n",
    "line_count = 0\n",
    "\n",
    "# Open the file in read mode using a context manager\n",
    "with open(filename, \"r\") as f:\n",
    "    # Loop through each line in the file\n",
    "    for line in f:\n",
    "        # Increment the line count\n",
    "        line_count += 1\n",
    "\n",
    "# Print the number of lines in the file\n",
    "print(\"Number of lines in file:\", line_count)\n"
   ]
  },
  {
   "cell_type": "markdown",
   "metadata": {},
   "source": [
    "Q8.\n",
    "Take multiple inputs from user one by one and find their average."
   ]
  },
  {
   "cell_type": "code",
   "execution_count": 48,
   "metadata": {},
   "outputs": [
    {
     "name": "stdout",
     "output_type": "stream",
     "text": [
      "List of students:  [10, 20, 30, 40, 50, 60]\n",
      "The average of the list is: 35.0\n"
     ]
    }
   ],
   "source": [
    "# Prompt the user to enter multiple values and store them as a list of integers\n",
    "x = list(map(int, input(\"Enter multiple values: \").split()))\n",
    "\n",
    "# Print the list of values entered by the user\n",
    "print(\"List of students: \", x)\n",
    "\n",
    "# Calculate the sum of the values in the list\n",
    "sum = 0\n",
    "for i in range(len(x)):\n",
    "    sum += x[i]\n",
    "\n",
    "# Calculate the average of the values in the list\n",
    "average = sum / len(x)\n",
    "\n",
    "# Print the average of the values in the list\n",
    "print(\"The average of the list is:\", average)\n"
   ]
  },
  {
   "cell_type": "markdown",
   "metadata": {},
   "source": [
    "Q9.\n",
    "Enter a sentence and count of words in that sentence."
   ]
  },
  {
   "cell_type": "code",
   "execution_count": 35,
   "metadata": {},
   "outputs": [
    {
     "name": "stdout",
     "output_type": "stream",
     "text": [
      "The sentence contains 9 words.\n"
     ]
    }
   ],
   "source": [
    "sentence = input(\"Enter a sentence: \")  #Enter a Sentence: \"The quick brown fox jumps over the lazy dog.\n",
    "\n",
    "# split the sentence into words using the split() function\n",
    "words = sentence.split()\n",
    "\n",
    "# count the number of words\n",
    "word_count = len(words)\n",
    "\n",
    "# print the result\n",
    "print(\"The sentence contains\", word_count, \"words.\")"
   ]
  },
  {
   "cell_type": "markdown",
   "metadata": {},
   "source": [
    "Q10.\n",
    "Find the most common word in a file."
   ]
  },
  {
   "cell_type": "code",
   "execution_count": 36,
   "metadata": {},
   "outputs": [
    {
     "name": "stdout",
     "output_type": "stream",
     "text": [
      "The most common word is '2007' with a count of 20413.\n"
     ]
    }
   ],
   "source": [
    "# open the file for reading\n",
    "filename = input(\"Enter the file name: \")\n",
    "file = open(filename, \"r\")\n",
    "\n",
    "# create an empty dictionary to store word counts\n",
    "word_counts = {}\n",
    "\n",
    "# loop over each line in the file\n",
    "for line in file:\n",
    "    # split the line into words\n",
    "    words = line.split()\n",
    "    # loop over each word and update the word count\n",
    "    for word in words:\n",
    "        if word in word_counts:\n",
    "            word_counts[word] += 1\n",
    "        else:\n",
    "            word_counts[word] = 1\n",
    "\n",
    "# find the word with the highest count\n",
    "most_common_word = max(word_counts, key=word_counts.get)\n",
    "count = word_counts[most_common_word]\n",
    "\n",
    "# print the result\n",
    "print(\"The most common word is '{0}' with a count of {1}.\".format(most_common_word, count))\n",
    "\n",
    "# close the file\n",
    "file.close()\n"
   ]
  },
  {
   "cell_type": "markdown",
   "metadata": {},
   "source": [
    "Q11.\n",
    "Write the anatomy of all the above programs in your class notebook and paste their snapshots in Assignment 1. Also, upload them on your GitHub account.\n",
    "\n"
   ]
  }
 ],
 "metadata": {
  "kernelspec": {
   "display_name": "Python 3.10.5 64-bit",
   "language": "python",
   "name": "python3"
  },
  "language_info": {
   "codemirror_mode": {
    "name": "ipython",
    "version": 3
   },
   "file_extension": ".py",
   "mimetype": "text/x-python",
   "name": "python",
   "nbconvert_exporter": "python",
   "pygments_lexer": "ipython3",
   "version": "3.10.5"
  },
  "orig_nbformat": 4,
  "vscode": {
   "interpreter": {
    "hash": "3196968d684371006099b3d55edeef8ed90365227a30deaef86e5d4aa8519be0"
   }
  }
 },
 "nbformat": 4,
 "nbformat_minor": 2
}
